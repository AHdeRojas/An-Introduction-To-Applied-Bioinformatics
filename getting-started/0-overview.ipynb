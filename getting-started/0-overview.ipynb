{
 "metadata": {
  "name": "",
  "signature": "sha256:d28b18f8e70e82c8ea7ebd23cff910107442f4cc250ce2251784299c6ed393cc"
 },
 "nbformat": 3,
 "nbformat_minor": 0,
 "worksheets": [
  {
   "cells": [
    {
     "cell_type": "heading",
     "level": 1,
     "metadata": {},
     "source": [
      "An Introduction To Applied Bioinformatics"
     ]
    },
    {
     "cell_type": "markdown",
     "metadata": {},
     "source": [
      "<div style=\"float: right; margin-left: 30px; width: 200px\"><img title=\"Logo by @gregcaporaso.\" style=\"float: right;margin-left: 30px;\" src=\"https://raw.github.com/gregcaporaso/An-Introduction-To-Applied-Bioinformatics/master/images/logo.png\" align=right height=50/></div>\n",
      "\n",
      "Bioinformatics, as I see it, is the application of the tools of computer science (things like programming languages, algorithms, and databases) to address biological problems (for example, inferring the evolutionary relationship between a group of organisms based on fragments of their genomes, or understanding if or how the community of microorganisms that live in my gut changes if I modify my diet). Bioinformatics is a rapidly growing field, largely in response to the vast increase in the quantity of data that biologists now grapple with. Students from varied disciplines (e.g., biology, computer science, statistics, and biochemistry) and stages of their educational careers (undergraduate, graduate, or postdoctoral) are becoming interested in bioinformatics.\n",
      "\n",
      "I teach bioinformatics at the undergraduate and graduate levels at Northern Arizona University. This repository contains some of the materials that I've developed in these courses, and represents an initial attempt to organize these materials in a standalone way. In some cases, I'm just linking out to other materials for now. \n",
      "\n",
      "Disclaimer\n",
      "----------\n",
      "This project is in very early development stage. It's not ready for prime-time by any means, but I fall firmly into the \"publish early, publish often\" mindset, hence its public availability. I am very interested in feedback in the form of email (gregcaporaso@gmail.com) or [pull requests](https://help.github.com/articles/using-pull-requests).\n",
      "\n",
      "Currently, the **best example of where I'm hoping to go with these materials** is the [multiple sequence alignment](http://nbviewer.ipython.org/github/gregcaporaso/An-Introduction-To-Applied-Bioinformatics/blob/master/algorithms/4-multiple-sequence-alignment.ipynb) chapter.\n"
     ]
    },
    {
     "cell_type": "markdown",
     "metadata": {},
     "source": [
      "Installing and using *An Introduction To Applied Bioinformatics*\n",
      "----------------------------------------------------------------\n",
      "\n",
      "See the [project website](http://caporasolab.us/An-Introduction-To-Applied-Bioinformatics/) for instructions on how to install and use *An Introduction To Applied Bioinformatics*.\n"
     ]
    },
    {
     "cell_type": "heading",
     "level": 2,
     "metadata": {},
     "source": [
      "Using the IPython Notebook"
     ]
    },
    {
     "cell_type": "markdown",
     "metadata": {},
     "source": [
      "These materials are based on the IPython Notebook, and interactive HTML-based python computing environment. The main source for information about the IPython Notebook is the [IPython Notebook website](http://ipython.org/notebook), and the [IPython Notebook example gallary](https://github.com/ipython/ipython/tree/master/examples/notebooks#a-collection-of-notebooks-for-using-ipython-effectively).\n",
      "\n",
      "Below I illustrate some examples of how I use the notebooks in the context of this project.\n",
      "\n",
      "Much of the code that is used for education purposes in this notebook is either include in this repository, or in the [scikit-bio](http://scikit-bio.org) package. You can access these as follows:"
     ]
    },
    {
     "cell_type": "code",
     "collapsed": false,
     "input": [
      "import iab # import the \"library\" code from An Introduction To Applied Bioinformatics\n",
      "import skbio # import the scikit-bio package\n",
      "\n",
      "# do some notebook configuration\n",
      "from __future__ import print_function\n",
      "from IPython.core import page\n",
      "page.page = print"
     ],
     "language": "python",
     "metadata": {},
     "outputs": [],
     "prompt_number": 1
    },
    {
     "cell_type": "markdown",
     "metadata": {},
     "source": [
      "We can then access functions, varaibles, and classes from these modules."
     ]
    },
    {
     "cell_type": "code",
     "collapsed": false,
     "input": [
      "print(skbio.title)\n",
      "print(skbio.art)"
     ],
     "language": "python",
     "metadata": {},
     "outputs": [
      {
       "output_type": "stream",
       "stream": "stdout",
       "text": [
        "\n",
        "               _ _    _ _          _     _\n",
        "              (_) |  (_) |        | |   (_)\n",
        "      ___  ___ _| | ___| |_ ______| |__  _  ___\n",
        "     / __|/ __| | |/ / | __|______| '_ \\| |/ _ \\\n",
        "     \\__ \\ (__| |   <| | |_       | |_) | | (_) |\n",
        "     |___/\\___|_|_|\\_\\_|\\__|      |_.__/|_|\\___/\n",
        "\n",
        "\n",
        "\n",
        "\n",
        "           Opisthokonta\n",
        "                   \\  Amoebozoa\n",
        "                    \\ /\n",
        "                     *    Euryarchaeota\n",
        "                      \\     |_ Crenarchaeota\n",
        "                       \\   *\n",
        "                        \\ /\n",
        "                         *\n",
        "                        /\n",
        "                       /\n",
        "                      /\n",
        "                     *\n",
        "                    / \\\n",
        "                   /   \\\n",
        "        Proteobacteria  \\\n",
        "                       Cyanobacteria\n",
        "\n"
       ]
      }
     ],
     "prompt_number": 2
    },
    {
     "cell_type": "markdown",
     "metadata": {},
     "source": [
      "We'll inspect a lot of source code through-out these notebooks to study core algorithms and objects used in bioinformatics. If you have a function, for example, that you're interested in in one of these packages, you can view the source code for that function as follows."
     ]
    },
    {
     "cell_type": "code",
     "collapsed": false,
     "input": [
      "from skbio.core.alignment import Alignment\n",
      "\n",
      "%psource Alignment.position_entropies"
     ],
     "language": "python",
     "metadata": {},
     "outputs": [
      {
       "output_type": "stream",
       "stream": "stdout",
       "text": [
        "    \u001b[0;32mdef\u001b[0m \u001b[0mposition_entropies\u001b[0m\u001b[0;34m(\u001b[0m\u001b[0mself\u001b[0m\u001b[0;34m,\u001b[0m \u001b[0mbase\u001b[0m\u001b[0;34m=\u001b[0m\u001b[0mNone\u001b[0m\u001b[0;34m,\u001b[0m\u001b[0;34m\u001b[0m\n",
        "\u001b[0;34m\u001b[0m                           \u001b[0mnan_on_non_standard_chars\u001b[0m\u001b[0;34m=\u001b[0m\u001b[0mTrue\u001b[0m\u001b[0;34m)\u001b[0m\u001b[0;34m:\u001b[0m\u001b[0;34m\u001b[0m\n",
        "\u001b[0;34m\u001b[0m        \u001b[0;34m\"\"\"Return Shannon entropy of positions in Alignment\u001b[0m\n",
        "\u001b[0;34m\u001b[0m\n",
        "\u001b[0;34m        Parameters\u001b[0m\n",
        "\u001b[0;34m        ----------\u001b[0m\n",
        "\u001b[0;34m        base : float, optional\u001b[0m\n",
        "\u001b[0;34m            log base for entropy calculation. If not passed, default will be e\u001b[0m\n",
        "\u001b[0;34m            (i.e., natural log will be computed).\u001b[0m\n",
        "\u001b[0;34m        nan_on_non_standard_chars : bool, optional\u001b[0m\n",
        "\u001b[0;34m            if True, the entropy at positions containing characters outside of\u001b[0m\n",
        "\u001b[0;34m            the first sequence's `iupac_standard_characters` will be `np.nan`.\u001b[0m\n",
        "\u001b[0;34m            This is useful, and the default behavior, as it's not clear how a\u001b[0m\n",
        "\u001b[0;34m            gap or degenerate character should contribute to a positional\u001b[0m\n",
        "\u001b[0;34m            entropy. This issue was described in [1]_.\u001b[0m\n",
        "\u001b[0;34m\u001b[0m\n",
        "\u001b[0;34m        Returns\u001b[0m\n",
        "\u001b[0;34m        -------\u001b[0m\n",
        "\u001b[0;34m        list\u001b[0m\n",
        "\u001b[0;34m            List of floats of Shannon entropy at `Alignment` positions. Shannon\u001b[0m\n",
        "\u001b[0;34m            entropy is defined in [2]_.\u001b[0m\n",
        "\u001b[0;34m\u001b[0m\n",
        "\u001b[0;34m        See Also\u001b[0m\n",
        "\u001b[0;34m        --------\u001b[0m\n",
        "\u001b[0;34m        position_counters\u001b[0m\n",
        "\u001b[0;34m        position_frequencies\u001b[0m\n",
        "\u001b[0;34m\u001b[0m\n",
        "\u001b[0;34m        References\u001b[0m\n",
        "\u001b[0;34m        ----------\u001b[0m\n",
        "\u001b[0;34m        .. [1] Identifying DNA and protein patterns with statistically\u001b[0m\n",
        "\u001b[0;34m           significant alignments of multiple sequences.\u001b[0m\n",
        "\u001b[0;34m           Hertz GZ, Stormo GD.\u001b[0m\n",
        "\u001b[0;34m           Bioinformatics. 1999 Jul-Aug;15(7-8):563-77.\u001b[0m\n",
        "\u001b[0;34m        .. [2] A Mathematical Theory of Communication\u001b[0m\n",
        "\u001b[0;34m           CE Shannon\u001b[0m\n",
        "\u001b[0;34m           The Bell System Technical Journal (1948).\u001b[0m\n",
        "\u001b[0;34m\u001b[0m\n",
        "\u001b[0;34m        Examples\u001b[0m\n",
        "\u001b[0;34m        --------\u001b[0m\n",
        "\u001b[0;34m        >>> from skbio.core.alignment import Alignment\u001b[0m\n",
        "\u001b[0;34m        >>> from skbio.core.sequence import DNA\u001b[0m\n",
        "\u001b[0;34m        >>> sequences = [DNA('AC--', identifier=\"seq1\"),\u001b[0m\n",
        "\u001b[0;34m        ...              DNA('AT-C', identifier=\"seq2\"),\u001b[0m\n",
        "\u001b[0;34m        ...              DNA('TT-C', identifier=\"seq3\")]\u001b[0m\n",
        "\u001b[0;34m        >>> a1 = Alignment(sequences)\u001b[0m\n",
        "\u001b[0;34m        >>> print a1.position_entropies()\u001b[0m\n",
        "\u001b[0;34m        [0.63651416829481278, 0.63651416829481278, nan, nan]\u001b[0m\n",
        "\u001b[0;34m\u001b[0m\n",
        "\u001b[0;34m        \"\"\"\u001b[0m\u001b[0;34m\u001b[0m\n",
        "\u001b[0;34m\u001b[0m        \u001b[0mresult\u001b[0m \u001b[0;34m=\u001b[0m \u001b[0;34m[\u001b[0m\u001b[0;34m]\u001b[0m\u001b[0;34m\u001b[0m\n",
        "\u001b[0;34m\u001b[0m        \u001b[0;31m# handle empty Alignment case\u001b[0m\u001b[0;34m\u001b[0m\n",
        "\u001b[0;34m\u001b[0m        \u001b[0;32mif\u001b[0m \u001b[0mself\u001b[0m\u001b[0;34m.\u001b[0m\u001b[0mis_empty\u001b[0m\u001b[0;34m(\u001b[0m\u001b[0;34m)\u001b[0m\u001b[0;34m:\u001b[0m\u001b[0;34m\u001b[0m\n",
        "\u001b[0;34m\u001b[0m            \u001b[0;32mreturn\u001b[0m \u001b[0mresult\u001b[0m\u001b[0;34m\u001b[0m\n",
        "\u001b[0;34m\u001b[0m\u001b[0;34m\u001b[0m\n",
        "\u001b[0;34m\u001b[0m        \u001b[0miupac_standard_characters\u001b[0m \u001b[0;34m=\u001b[0m \u001b[0mself\u001b[0m\u001b[0;34m[\u001b[0m\u001b[0;36m0\u001b[0m\u001b[0;34m]\u001b[0m\u001b[0;34m.\u001b[0m\u001b[0miupac_standard_characters\u001b[0m\u001b[0;34m(\u001b[0m\u001b[0;34m)\u001b[0m\u001b[0;34m\u001b[0m\n",
        "\u001b[0;34m\u001b[0m        \u001b[0;32mfor\u001b[0m \u001b[0mf\u001b[0m \u001b[0;32min\u001b[0m \u001b[0mself\u001b[0m\u001b[0;34m.\u001b[0m\u001b[0mposition_frequencies\u001b[0m\u001b[0;34m(\u001b[0m\u001b[0;34m)\u001b[0m\u001b[0;34m:\u001b[0m\u001b[0;34m\u001b[0m\n",
        "\u001b[0;34m\u001b[0m            \u001b[0;32mif\u001b[0m \u001b[0;34m(\u001b[0m\u001b[0mnan_on_non_standard_chars\u001b[0m \u001b[0;32mand\u001b[0m\u001b[0;34m\u001b[0m\n",
        "\u001b[0;34m\u001b[0m                    \u001b[0mlen\u001b[0m\u001b[0;34m(\u001b[0m\u001b[0mset\u001b[0m\u001b[0;34m(\u001b[0m\u001b[0mf\u001b[0m\u001b[0;34m.\u001b[0m\u001b[0mkeys\u001b[0m\u001b[0;34m(\u001b[0m\u001b[0;34m)\u001b[0m\u001b[0;34m)\u001b[0m \u001b[0;34m-\u001b[0m \u001b[0miupac_standard_characters\u001b[0m\u001b[0;34m)\u001b[0m \u001b[0;34m>\u001b[0m \u001b[0;36m0\u001b[0m\u001b[0;34m)\u001b[0m\u001b[0;34m:\u001b[0m\u001b[0;34m\u001b[0m\n",
        "\u001b[0;34m\u001b[0m                \u001b[0mresult\u001b[0m\u001b[0;34m.\u001b[0m\u001b[0mappend\u001b[0m\u001b[0;34m(\u001b[0m\u001b[0mnp\u001b[0m\u001b[0;34m.\u001b[0m\u001b[0mnan\u001b[0m\u001b[0;34m)\u001b[0m\u001b[0;34m\u001b[0m\n",
        "\u001b[0;34m\u001b[0m            \u001b[0;32melse\u001b[0m\u001b[0;34m:\u001b[0m\u001b[0;34m\u001b[0m\n",
        "\u001b[0;34m\u001b[0m                \u001b[0mresult\u001b[0m\u001b[0;34m.\u001b[0m\u001b[0mappend\u001b[0m\u001b[0;34m(\u001b[0m\u001b[0mentropy\u001b[0m\u001b[0;34m(\u001b[0m\u001b[0mf\u001b[0m\u001b[0;34m.\u001b[0m\u001b[0mvalues\u001b[0m\u001b[0;34m(\u001b[0m\u001b[0;34m)\u001b[0m\u001b[0;34m,\u001b[0m \u001b[0mbase\u001b[0m\u001b[0;34m=\u001b[0m\u001b[0mbase\u001b[0m\u001b[0;34m)\u001b[0m\u001b[0;34m)\u001b[0m\u001b[0;34m\u001b[0m\n",
        "\u001b[0;34m\u001b[0m        \u001b[0;32mreturn\u001b[0m \u001b[0mresult\u001b[0m\u001b[0;34m\u001b[0m\u001b[0m\n",
        "\n"
       ]
      }
     ],
     "prompt_number": 3
    },
    {
     "cell_type": "markdown",
     "metadata": {},
     "source": [
      "The documentation for scikit-bio is also very extensive (though the package itself is still in early development status). You can view the documentation for the `Alignment` object, for example, [here](http://scikit-bio.org/generated/skbio.core.alignment.Alignment.html#skbio.core.alignment.Alignment). These documents will be invaluable for learning how to use the objects."
     ]
    }
   ],
   "metadata": {}
  }
 ]
}