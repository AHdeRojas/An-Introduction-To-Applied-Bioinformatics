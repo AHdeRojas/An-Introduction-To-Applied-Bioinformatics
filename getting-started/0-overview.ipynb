{
 "metadata": {
  "name": ""
 },
 "nbformat": 3,
 "nbformat_minor": 0,
 "worksheets": [
  {
   "cells": [
    {
     "cell_type": "heading",
     "level": 1,
     "metadata": {},
     "source": [
      "An Introduction To Applied Bioinformatics"
     ]
    },
    {
     "cell_type": "markdown",
     "metadata": {},
     "source": [
      "<div style=\"float: right; margin-left: 30px; width: 200px\"><img title=\"Logo by @gregcaporaso.\" style=\"float: right;margin-left: 30px;\" src=\"https://raw.github.com/gregcaporaso/An-Introduction-To-Applied-Bioinformatics/master/images/logo.png\" align=right height=50/></div>\n",
      "\n",
      "Bioinformatics, as I see it, is the application of the tools of computer science (things like programming languages, algorithms, and databases) to address biological problems (for example, inferring the evolutionary relationship between a group of organisms based on fragments of their genomes, or understanding if or how the community of microorganisms that live in my gut changes if I modify my diet). Bioinformatics is a rapidly growing field, largely in response to the vast increase in the quantity of data that biologists now grapple with. Students from varied disciplines (e.g., biology, computer science, statistics, and biochemistry) and stages of their educational careers (undergraduate, graduate, or postdoctoral) are becoming interested in bioinformatics.\n",
      "\n",
      "I teach bioinformatics at the undergraduate and graduate levels at Northern Arizona University. This repository contains some of the materials that I've developed in these courses, and represents an initial attempt to organize these materials in a standalone way. In some cases, I'm just linking out to other materials for now. \n",
      "\n",
      "Disclaimer\n",
      "----------\n",
      "This project is in very early development stage. It's not ready for prime-time by any means, but I fall firmly into the \"publish early, publish often\" mindset, hence its public availability. I am very interested in feedback in the form of email (gregcaporaso@gmail.com) or [pull requests](https://help.github.com/articles/using-pull-requests).\n",
      "\n",
      "Currently, the **best example of where I'm hoping to go with these materials** is the [multiple sequence alignment](http://nbviewer.ipython.org/github/gregcaporaso/An-Introduction-To-Applied-Bioinformatics/blob/master/algorithms/4-multiple-sequence-alignment.ipynb) chapter.\n"
     ]
    },
    {
     "cell_type": "markdown",
     "metadata": {},
     "source": [
      "Using An Introduction To Applied Bioinformatics\n",
      "-----------------------------------------------\n",
      "\n",
      "There are a few ways to use these materials:\n",
      "\n",
      "* First is to clone the GitHub repository, install the package locally, and run the notebooks interatively. **Instructions for doing this will be added once the package stabilizes** (though it is pretty straight-forward if you've used the IPython Notebook before: install the dependencies, clone this repository, and launch the IPython Notebook from one of the notebook directories). I expect that detailed installation instructions will be ready around May, 2014, which is after the first two courses that I'm developing these for complete, as the materials are changing very rapidly in the meantime.\n",
      "* Second, **which is currently the easiest way**, is to view the static materials online using nbviewer. You can access the notebooks on nbviewer from the links in the package [README.md file](https://github.com/gregcaporaso/An-Introduction-To-Applied-Bioinformatics/blob/master/README.md).\n",
      "\n",
      "Dependencies\n",
      "------------\n",
      "\n",
      "* [python 2.7](http://www.python.org)\n",
      "* [numpy](http://www.numpy.org)\n",
      "* [scipy](http://www.scipy.org)\n",
      "* [ipython](http://www.ipython.org)\n",
      "* [matplotlib](http://www.matplotlib.org)\n",
      "* [scikit-bio](http://scikit-bio.org/)"
     ]
    },
    {
     "cell_type": "heading",
     "level": 2,
     "metadata": {},
     "source": [
      "Using the IPython Notebook"
     ]
    },
    {
     "cell_type": "markdown",
     "metadata": {},
     "source": [
      "These materials are based on the IPython Notebook, and interactive HTML-based python computing environment. The main source for information about the IPython Notebook is the [IPython Notebook website](http://ipython.org/notebook), and the [IPython Notebook example gallary](https://github.com/ipython/ipython/tree/master/examples/notebooks#a-collection-of-notebooks-for-using-ipython-effectively).\n",
      "\n",
      "Below I illustrate some examples of how I use the notebooks in the context of this project.\n",
      "\n",
      "Much of the code that is used for education purposes in this notebook is either include in this repository, or in the [scikit-bio](http://scikit-bio.org) package. You can access these as follows:"
     ]
    },
    {
     "cell_type": "code",
     "collapsed": false,
     "input": [
      "import iab # import the \"library\" code from An Introduction To Applied Bioinformatics\n",
      "import skbio # import the scikit-bio package"
     ],
     "language": "python",
     "metadata": {},
     "outputs": [],
     "prompt_number": 1
    },
    {
     "cell_type": "markdown",
     "metadata": {},
     "source": [
      "We can then access functions, varaibles, and classes from these modules."
     ]
    },
    {
     "cell_type": "code",
     "collapsed": false,
     "input": [
      "print skbio.title\n",
      "print skbio.art"
     ],
     "language": "python",
     "metadata": {},
     "outputs": [
      {
       "output_type": "stream",
       "stream": "stdout",
       "text": [
        "\n",
        "               _ _    _ _          _     _\n",
        "              (_) |  (_) |        | |   (_)\n",
        "      ___  ___ _| | ___| |_ ______| |__  _  ___\n",
        "     / __|/ __| | |/ / | __|______| '_ \\| |/ _ \\\n",
        "     \\__ \\ (__| |   <| | |_       | |_) | | (_) |\n",
        "     |___/\\___|_|_|\\_\\_|\\__|      |_.__/|_|\\___/\n",
        "\n",
        "\n",
        "\n",
        "\n",
        "           Opisthokonta\n",
        "                   \\  Amoebozoa\n",
        "                    \\ /\n",
        "                     *    Euryarchaeota\n",
        "                      \\     |_ Crenarchaeota\n",
        "                       \\   *\n",
        "                        \\ /\n",
        "                         *\n",
        "                        /\n",
        "                       /\n",
        "                      /\n",
        "                     *\n",
        "                    / \\\n",
        "                   /   \\\n",
        "        Proteobacteria  \\\n",
        "                       Cyanobacteria\n",
        "\n"
       ]
      }
     ],
     "prompt_number": 4
    },
    {
     "cell_type": "markdown",
     "metadata": {},
     "source": [
      "We'll inspect a lot of source code through-out these notebooks to study core algorithms and objects used in bioinformatics. If you have a function, for example, that you're interested in in one of these packages, you can view the source code for that function as follows."
     ]
    },
    {
     "cell_type": "code",
     "collapsed": false,
     "input": [
      "from inspect import getsource\n",
      "from skbio.core.alignment import Alignment\n",
      "\n",
      "print getsource(Alignment.position_entropies)"
     ],
     "language": "python",
     "metadata": {},
     "outputs": [
      {
       "output_type": "stream",
       "stream": "stdout",
       "text": [
        "    def position_entropies(self, base=None):\n",
        "        \"\"\"Return Shannon entropy of positions in Alignment\n",
        "\n",
        "        Parameters\n",
        "        ----------\n",
        "        base : float, optional\n",
        "            log base for entropy calculation. If not passed, default will be e\n",
        "            (i.e., natural log will be computed).\n",
        "\n",
        "        Returns\n",
        "        -------\n",
        "        list\n",
        "            List of floats of Shannon entropy at `Alignment` positions. Shannon\n",
        "            entropy is defined in [1].\n",
        "\n",
        "        See Also\n",
        "        --------\n",
        "        position_counters\n",
        "        position_frequencies\n",
        "\n",
        "        References\n",
        "        ----------\n",
        "        [1] A Mathematical Theory of Communication, CE Shannon\n",
        "        The Bell System Technical Journal (1948).\n",
        "\n",
        "        Examples\n",
        "        --------\n",
        "        >>> from skbio.core.alignment import Alignment\n",
        "        >>> from skbio.core.sequence import DNA\n",
        "        >>> sequences = [DNA('AC--', identifier=\"seq1\"),\n",
        "        ...              DNA('AT-C', identifier=\"seq2\"),\n",
        "        ...              DNA('TT-C', identifier=\"seq3\")]\n",
        "        >>> a1 = Alignment(sequences)\n",
        "        >>> print a1.position_entropies()\n",
        "        [0.63651416829481278, 0.63651416829481278, -0.0, 0.63651416829481278]\n",
        "\n",
        "        \"\"\"\n",
        "        result = []\n",
        "        for f in self.position_frequencies():\n",
        "            result.append(entropy(f.values(), base=base))\n",
        "        return result\n",
        "\n"
       ]
      }
     ],
     "prompt_number": 6
    },
    {
     "cell_type": "markdown",
     "metadata": {},
     "source": [
      "The documentation for scikit-bio is also very extensive (though the package itself is still in early development status). You can view the documentation for the `Alignment` object, for example, [here](http://scikit-bio.org/generated/skbio.core.alignment.Alignment.html#skbio.core.alignment.Alignment). These documents will be invaluable for learning how to use the objects."
     ]
    }
   ],
   "metadata": {}
  }
 ]
}