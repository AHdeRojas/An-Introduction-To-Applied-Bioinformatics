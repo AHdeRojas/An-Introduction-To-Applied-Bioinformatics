{
 "cells": [
  {
   "cell_type": "markdown",
   "metadata": {},
   "source": [
    "# Reading *An Introduction to Applied Bioinformatics*\n",
    "\n",
    "**Bioinformatics, as I see it, is the application of the tools of computer science (things like programming languages, algorithms, and databases) to address biological problems (for example, inferring the evolutionary relationship between a group of organisms based on fragments of their genomes, or understanding if or how the community of microorganisms that live in my gut changes if I modify my diet).** Bioinformatics is a rapidly growing field, largely in response to the vast increase in the quantity of data that biologists now grapple with. Students from varied disciplines (e.g., biology, computer science, statistics, and biochemistry) and stages of their educational careers (undergraduate, graduate, or postdoctoral) are becoming interested in bioinformatics.\n",
    "\n",
    "*An **I**ntroduction to **A**pplied **B**ioinformatics*, or **IAB**, is an open source, interactive bioinformatics text. **It introduces readers to the core concepts of bioinformatics in the context of their implementation and application to real-world problems and data.** IAB is closely tied to the [scikit-bio](www.scikit-bio.org) python package, which provides production-ready implementations of core bioinformatics algorithms and data structures. Readers therefore learn the concepts in the context of tools they can use to develop their own bioinformatics software and pipelines, enabling them to rapidly get started on their own projects. While some theory is discussed, the focus of IAB is on what readers need to know to be effective, practicing bioinformaticians. \n",
    "\n",
    "IAB is interactive, being **based on IPython Notebooks** which can be installed on a reader’s computer or viewed statically online. As readers are learning a concept, for example, pairwise sequence alignment, they are presented with its scikit-bio implementation directly in the text. scikit-bio code is well annotated (adhering to the [pep8](https://www.python.org/dev/peps/pep-0008/) and [numpydoc](https://github.com/numpy/numpy/blob/master/doc/HOWTO_DOCUMENT.rst.txt) conventions), so readers can use it to assist with their understanding of the concept. And, because IAB is presented as an IPython Notebook, readers can execute the code directly in the text. For example, when learning pairwise alignment, users can align sequences provided in IAB (or their own sequences) and modify parameters (or even the algorithm itself) to see how changes affect the resulting alignments. \n",
    "\n",
    "IAB is **completely open access**, with all software being BSD-licensed, and all text being licenced under Creative Commons Attribution Only (i.e., CC BY-NC-SA 4.0). All development and publication is coordinated under [public revision control on GitHub](https://github.com/gregcaporaso/An-Introduction-To-Applied-Bioinformatics). \n",
    "\n",
    "IAB is also an **electronic-only resource**. There are currently no plans to commercialize it or to create a print version. This means that, unlike printed bioinformatics texts which are generally out of date before the ink dries, IAB can be updated as the field changes. \n",
    "\n",
    "**The life cycle of IAB is more like a software package than a book.** There will be development and release versions of IAB, where the release versions are more polished but won't always contain the latest content, and the development versions will contain all of the latest materials, but won't necessarily be copy-edited and polished.\n",
    "\n",
    "We are in the process of developing a **project status page** that will detail the plans for IAB. This will include the full table of contents, and what stage you can expect chapters to be at at different times. You can track progress of this on [IAB #97](https://github.com/gregcaporaso/An-Introduction-To-Applied-Bioinformatics/issues/97).\n",
    "\n",
    "[My](http://github.com/gregcaporaso) goal for IAB is for it to make bioinformatics as accessible as possible to students from varied backgrounds, and to get more people about this hugely exciting field. I'm very interested in hearing from readers and instructors who are using IAB, so get in touch if you have corrections, suggestions for how to improve the content, or any other thoughts or comments on the text. In the spirit of openness, I'd prefer to be contacted via the [IAB issue tracker](https://github.com/gregcaporaso/An-Introduction-To-Applied-Bioinformatics/issues/). I'll respond to direct e-mail as will, but I'm always backlogged (just ask my students), so responses are likely to be slower.\n",
    "\n",
    "I hope you find IAB useful, and that you enjoy reading it!"
   ]
  },
  {
   "cell_type": "markdown",
   "metadata": {},
   "source": [
    "## Who should read IAB?\n",
    "\n",
    "IAB is useful for scientists, software developers, and students interested in understanding and applying bioinformatics methods, and ultimately in developing their own bioinformatics software and analysis pipelines. \n",
    "\n",
    "IAB was initially developed for an undergraduate course cross-listed in computer science and biology with no pre-requisites. It therefore assumes little background in biology or computer science, however some basic background is very helpful. For example, an understanding of the roles of and relationship between DNA and protein in a cell, and the ability to read and follow well-annotated python code, are both helpful (but not necessary) to get started. \n",
    "\n",
    "In the sections below I provide some suggestions for other texts that will help you to get started."
   ]
  },
  {
   "cell_type": "markdown",
   "metadata": {},
   "source": [
    "## How to read IAB\n",
    "\n",
    "There are two ways to read *An Introduction To Applied Bioinformatics*:\n",
    "\n",
    "* The *recommended* way is to install it and work with it interactively.\n",
    "* The *easiest* way is to view the static notebooks online using [nbviewer](http://nbviewer.ipython.org/). You should:\n",
    " * [start here to view the latest release version](http://nbviewer.ipython.org/github/gregcaporaso/An-Introduction-To-Applied-Bioinformatics/blob/0.1.0/Index.ipynb), or\n",
    " * [start here to view the development version](http://nbviewer.ipython.org/github/gregcaporaso/An-Introduction-To-Applied-Bioinformatics/blob/master/Index.ipynb) (which will have the latest content, but will be less polished and possibly buggy)."
   ]
  },
  {
   "cell_type": "markdown",
   "metadata": {},
   "source": [
    "## Installation\n",
    "\n",
    "The [project website](http://caporasolab.us/An-Introduction-To-Applied-Bioinformatics/) has instructions installing and running *An Introduction To Applied Bioinformatics*."
   ]
  },
  {
   "cell_type": "markdown",
   "metadata": {},
   "source": [
    "## Using the IPython Notebook\n",
    "\n",
    "IAB is built using the IPython Notebook, an interactive HTML-based computing environment. The main source for information about the IPython Notebook is the [IPython Notebook website](http://ipython.org/notebook). You can find information there on how to use the IPython Notebook, and also on how to set up and run and IPython Notebook server (for example, if you'd like to make one available to your students).\n",
    "\n",
    "Most of the code that is used in IAB comes from [scikit-bio](http://scikit-bio.org) package, or other python scientific computing tools. You can access these in the same way that you would in a python script. For example:"
   ]
  },
  {
   "cell_type": "code",
   "execution_count": 1,
   "metadata": {
    "collapsed": false
   },
   "outputs": [],
   "source": [
    "import skbio\n",
    "\n",
    "from __future__ import print_function\n",
    "from IPython.core import page\n",
    "page.page = print"
   ]
  },
  {
   "cell_type": "markdown",
   "metadata": {},
   "source": [
    "We can then access functions, variables, and classes from these modules."
   ]
  },
  {
   "cell_type": "code",
   "execution_count": 2,
   "metadata": {
    "collapsed": false
   },
   "outputs": [
    {
     "name": "stdout",
     "output_type": "stream",
     "text": [
      "\n",
      "*                                                    *\n",
      "               _ _    _ _          _     _\n",
      "              (_) |  (_) |        | |   (_)\n",
      "      ___  ___ _| | ___| |_ ______| |__  _  ___\n",
      "     / __|/ __| | |/ / | __|______| '_ \\| |/ _ \\\n",
      "     \\__ \\ (__| |   <| | |_       | |_) | | (_) |\n",
      "     |___/\\___|_|_|\\_\\_|\\__|      |_.__/|_|\\___/\n",
      "\n",
      "*                                                    *\n",
      "\n",
      "\n",
      "\n",
      "           Opisthokonta\n",
      "                   \\  Amoebozoa\n",
      "                    \\ /\n",
      "                     *    Euryarchaeota\n",
      "                      \\     |_ Crenarchaeota\n",
      "                       \\   *\n",
      "                        \\ /\n",
      "                         *\n",
      "                        /\n",
      "                       /\n",
      "                      /\n",
      "                     *\n",
      "                    / \\\n",
      "                   /   \\\n",
      "        Proteobacteria  \\\n",
      "                       Cyanobacteria\n",
      "\n"
     ]
    }
   ],
   "source": [
    "print(skbio.title)\n",
    "print(skbio.art)"
   ]
  },
  {
   "cell_type": "markdown",
   "metadata": {},
   "source": [
    "We'll inspect a lot of source code in IAB as we explore bioinformatics algorithms. If you're ever interested in seeing the source code for some functionality that we're using, you can do that using IPython's ``psource`` magic."
   ]
  },
  {
   "cell_type": "code",
   "execution_count": 3,
   "metadata": {
    "collapsed": false
   },
   "outputs": [
    {
     "name": "stdout",
     "output_type": "stream",
     "text": [
      "    \u001b[0;32mdef\u001b[0m \u001b[0mposition_entropies\u001b[0m\u001b[0;34m(\u001b[0m\u001b[0mself\u001b[0m\u001b[0;34m,\u001b[0m \u001b[0mbase\u001b[0m\u001b[0;34m=\u001b[0m\u001b[0mNone\u001b[0m\u001b[0;34m,\u001b[0m\u001b[0;34m\u001b[0m\n",
      "\u001b[0;34m\u001b[0m                           \u001b[0mnan_on_non_standard_chars\u001b[0m\u001b[0;34m=\u001b[0m\u001b[0mTrue\u001b[0m\u001b[0;34m)\u001b[0m\u001b[0;34m:\u001b[0m\u001b[0;34m\u001b[0m\n",
      "\u001b[0;34m\u001b[0m        \u001b[0;34m\"\"\"Return Shannon entropy of positions in Alignment\u001b[0m\n",
      "\u001b[0;34m\u001b[0m\n",
      "\u001b[0;34m        Parameters\u001b[0m\n",
      "\u001b[0;34m        ----------\u001b[0m\n",
      "\u001b[0;34m        base : float, optional\u001b[0m\n",
      "\u001b[0;34m            log base for entropy calculation. If not passed, default will be e\u001b[0m\n",
      "\u001b[0;34m            (i.e., natural log will be computed).\u001b[0m\n",
      "\u001b[0;34m        nan_on_non_standard_chars : bool, optional\u001b[0m\n",
      "\u001b[0;34m            if True, the entropy at positions containing characters outside of\u001b[0m\n",
      "\u001b[0;34m            the first sequence's `iupac_standard_characters` will be `np.nan`.\u001b[0m\n",
      "\u001b[0;34m            This is useful, and the default behavior, as it's not clear how a\u001b[0m\n",
      "\u001b[0;34m            gap or degenerate character should contribute to a positional\u001b[0m\n",
      "\u001b[0;34m            entropy. This issue was described in [1]_.\u001b[0m\n",
      "\u001b[0;34m\u001b[0m\n",
      "\u001b[0;34m        Returns\u001b[0m\n",
      "\u001b[0;34m        -------\u001b[0m\n",
      "\u001b[0;34m        list\u001b[0m\n",
      "\u001b[0;34m            List of floats of Shannon entropy at `Alignment` positions. Shannon\u001b[0m\n",
      "\u001b[0;34m            entropy is defined in [2]_.\u001b[0m\n",
      "\u001b[0;34m\u001b[0m\n",
      "\u001b[0;34m        See Also\u001b[0m\n",
      "\u001b[0;34m        --------\u001b[0m\n",
      "\u001b[0;34m        position_counters\u001b[0m\n",
      "\u001b[0;34m        position_frequencies\u001b[0m\n",
      "\u001b[0;34m\u001b[0m\n",
      "\u001b[0;34m        References\u001b[0m\n",
      "\u001b[0;34m        ----------\u001b[0m\n",
      "\u001b[0;34m        .. [1] Identifying DNA and protein patterns with statistically\u001b[0m\n",
      "\u001b[0;34m           significant alignments of multiple sequences.\u001b[0m\n",
      "\u001b[0;34m           Hertz GZ, Stormo GD.\u001b[0m\n",
      "\u001b[0;34m           Bioinformatics. 1999 Jul-Aug;15(7-8):563-77.\u001b[0m\n",
      "\u001b[0;34m        .. [2] A Mathematical Theory of Communication\u001b[0m\n",
      "\u001b[0;34m           CE Shannon\u001b[0m\n",
      "\u001b[0;34m           The Bell System Technical Journal (1948).\u001b[0m\n",
      "\u001b[0;34m\u001b[0m\n",
      "\u001b[0;34m        Examples\u001b[0m\n",
      "\u001b[0;34m        --------\u001b[0m\n",
      "\u001b[0;34m        >>> from skbio.alignment import Alignment\u001b[0m\n",
      "\u001b[0;34m        >>> from skbio.sequence import DNA\u001b[0m\n",
      "\u001b[0;34m        >>> sequences = [DNA('AC--', id=\"seq1\"),\u001b[0m\n",
      "\u001b[0;34m        ...              DNA('AT-C', id=\"seq2\"),\u001b[0m\n",
      "\u001b[0;34m        ...              DNA('TT-C', id=\"seq3\")]\u001b[0m\n",
      "\u001b[0;34m        >>> a1 = Alignment(sequences)\u001b[0m\n",
      "\u001b[0;34m        >>> print(a1.position_entropies())\u001b[0m\n",
      "\u001b[0;34m        [0.63651416829481278, 0.63651416829481278, nan, nan]\u001b[0m\n",
      "\u001b[0;34m\u001b[0m\n",
      "\u001b[0;34m        \"\"\"\u001b[0m\u001b[0;34m\u001b[0m\n",
      "\u001b[0;34m\u001b[0m        \u001b[0mresult\u001b[0m \u001b[0;34m=\u001b[0m \u001b[0;34m[\u001b[0m\u001b[0;34m]\u001b[0m\u001b[0;34m\u001b[0m\n",
      "\u001b[0;34m\u001b[0m        \u001b[0;31m# handle empty Alignment case\u001b[0m\u001b[0;34m\u001b[0m\n",
      "\u001b[0;34m\u001b[0m        \u001b[0;32mif\u001b[0m \u001b[0mself\u001b[0m\u001b[0;34m.\u001b[0m\u001b[0mis_empty\u001b[0m\u001b[0;34m(\u001b[0m\u001b[0;34m)\u001b[0m\u001b[0;34m:\u001b[0m\u001b[0;34m\u001b[0m\n",
      "\u001b[0;34m\u001b[0m            \u001b[0;32mreturn\u001b[0m \u001b[0mresult\u001b[0m\u001b[0;34m\u001b[0m\n",
      "\u001b[0;34m\u001b[0m\u001b[0;34m\u001b[0m\n",
      "\u001b[0;34m\u001b[0m        \u001b[0miupac_standard_characters\u001b[0m \u001b[0;34m=\u001b[0m \u001b[0mself\u001b[0m\u001b[0;34m[\u001b[0m\u001b[0;36m0\u001b[0m\u001b[0;34m]\u001b[0m\u001b[0;34m.\u001b[0m\u001b[0miupac_standard_characters\u001b[0m\u001b[0;34m(\u001b[0m\u001b[0;34m)\u001b[0m\u001b[0;34m\u001b[0m\n",
      "\u001b[0;34m\u001b[0m        \u001b[0;32mfor\u001b[0m \u001b[0mf\u001b[0m \u001b[0;32min\u001b[0m \u001b[0mself\u001b[0m\u001b[0;34m.\u001b[0m\u001b[0mposition_frequencies\u001b[0m\u001b[0;34m(\u001b[0m\u001b[0;34m)\u001b[0m\u001b[0;34m:\u001b[0m\u001b[0;34m\u001b[0m\n",
      "\u001b[0;34m\u001b[0m            \u001b[0;32mif\u001b[0m \u001b[0;34m(\u001b[0m\u001b[0mnan_on_non_standard_chars\u001b[0m \u001b[0;32mand\u001b[0m\u001b[0;34m\u001b[0m\n",
      "\u001b[0;34m\u001b[0m                    \u001b[0mlen\u001b[0m\u001b[0;34m(\u001b[0m\u001b[0mviewkeys\u001b[0m\u001b[0;34m(\u001b[0m\u001b[0mf\u001b[0m\u001b[0;34m)\u001b[0m \u001b[0;34m-\u001b[0m \u001b[0miupac_standard_characters\u001b[0m\u001b[0;34m)\u001b[0m \u001b[0;34m>\u001b[0m \u001b[0;36m0\u001b[0m\u001b[0;34m)\u001b[0m\u001b[0;34m:\u001b[0m\u001b[0;34m\u001b[0m\n",
      "\u001b[0;34m\u001b[0m                \u001b[0mresult\u001b[0m\u001b[0;34m.\u001b[0m\u001b[0mappend\u001b[0m\u001b[0;34m(\u001b[0m\u001b[0mnp\u001b[0m\u001b[0;34m.\u001b[0m\u001b[0mnan\u001b[0m\u001b[0;34m)\u001b[0m\u001b[0;34m\u001b[0m\n",
      "\u001b[0;34m\u001b[0m            \u001b[0;32melse\u001b[0m\u001b[0;34m:\u001b[0m\u001b[0;34m\u001b[0m\n",
      "\u001b[0;34m\u001b[0m                \u001b[0mresult\u001b[0m\u001b[0;34m.\u001b[0m\u001b[0mappend\u001b[0m\u001b[0;34m(\u001b[0m\u001b[0mentropy\u001b[0m\u001b[0;34m(\u001b[0m\u001b[0mlist\u001b[0m\u001b[0;34m(\u001b[0m\u001b[0mf\u001b[0m\u001b[0;34m.\u001b[0m\u001b[0mvalues\u001b[0m\u001b[0;34m(\u001b[0m\u001b[0;34m)\u001b[0m\u001b[0;34m)\u001b[0m\u001b[0;34m,\u001b[0m \u001b[0mbase\u001b[0m\u001b[0;34m=\u001b[0m\u001b[0mbase\u001b[0m\u001b[0;34m)\u001b[0m\u001b[0;34m)\u001b[0m\u001b[0;34m\u001b[0m\n",
      "\u001b[0;34m\u001b[0m        \u001b[0;32mreturn\u001b[0m \u001b[0mresult\u001b[0m\u001b[0;34m\u001b[0m\u001b[0m\n",
      "\n"
     ]
    }
   ],
   "source": [
    "from skbio.alignment import Alignment\n",
    "\n",
    "%psource Alignment.position_entropies"
   ]
  },
  {
   "cell_type": "markdown",
   "metadata": {},
   "source": [
    "The documentation for scikit-bio is also very extensive (though the package itself is still in early development). You can view the documentation for the `Alignment` object, for example, [here](http://scikit-bio.org/docs/0.2.3/generated/skbio.alignment.Alignment.html). These documents will be invaluable for learning how to use the objects."
   ]
  },
  {
   "cell_type": "markdown",
   "metadata": {},
   "source": [
    "## Getting started with Biology\n",
    "\n",
    "If you're new to biology, these are some books and resources that will help you get started.\n",
    "\n",
    "* [The Processes of Life](http://www.amazon.com/Processes-Life-Introduction-Molecular-Biology/dp/0262013053) by Lawrence Hunter. *An introduction to biology for computer scientists.*\n",
    "\n",
    "\n",
    "* [Molecular Biology of the Cell](http://www.amazon.com/Molecular-Biology-Cell-Bruce-Alberts/dp/0815341059/ref=sr_1_1?s=books&ie=UTF8&qid=1314225305&sr=1-1) by Bruce Alberts, Alexander Johnson, Julian Lewis, Martin Raff, Keith Roberts, Peter Walter. *One of the best texts on molecular biology. This is fairly advanced (it's generally used in upper division molecular biology courses) so it may not be the best place to start. You'll find it invaluable though if you plan to go on in Bioinformatics. This book is available via the NIH Bookshelf (for example, from Chapter 1: [The Universal Features of Cells on Earth](http://www.ncbi.nlm.nih.gov/books/NBK26864/) and [The Diversity of Genomes and the Tree of Life](http://www.ncbi.nlm.nih.gov/books/NBK26866/).*\n",
    "\n",
    "\n",
    "* [Brock Biology of Microorganisms](http://www.amazon.com/Brock-Biology-Microorganisms-Michael-Madigan/dp/032164963X/ref=dp_ob_title_bk) by Michael T. Madigan, John M. Martinko, David Stahl, David P. Clark. *One of the best textbooks on microbiology. This is also fairly advanced, but if you're interested in microbial ecology or other aspects of microbiology it will likely be extremely useful.*\n",
    "\n",
    "\n",
    "* The [NIH Bookshelf](http://www.ncbi.nlm.nih.gov/books/) A lot of free biology texts, some obviously better than others."
   ]
  },
  {
   "cell_type": "markdown",
   "metadata": {},
   "source": [
    "## Getting started with Computer Science and programming\n",
    "\n",
    "If you're new to Computer Science and programming, these are some books and resources that will help you get started.\n",
    "\n",
    "* [Software Carpentry](www.software-carpentry.org) *Online resources for learning scientific computing skills, and regular in-person workshops all over the world. Taking a Software Carpentry workshop **will** pay off for biology students interested in a career in research.*\n",
    "\n",
    "\n",
    "* [Practical Computing for Biologists](http://www.amazon.com/Practical-Computing-Biologists-Steven-Haddock/dp/0878933913) by Steven Haddock and Casey Dunn. *A great introduction to many computational skills that are required of modern biologists. I *highly* recommend this book to all Biology undergraduate and graduate students.*\n",
    "\n",
    "\n",
    "* [Practical Programming: A Introduction to Computer Science Using Python](http://www.amazon.com/Practical-Programming-Introduction-Pragmatic-Programmers/dp/1934356271) by Jennifer Campbell, Paul Gries, Jason Montojo, Greg Wilson. *An introduction to the python programming language and basic computer science. This is a great first programming book for people interested in bioinformatics or scientific computing in general.*\n",
    "\n",
    "\n",
    "* [Learn Python the Hard Way](http://learnpythonthehardway.org/) by Zed Shaw. *Another good python introduction. This one is very focused on exercises and is great for practicing python. My students have complained that it doesn't provide enough background information (i.e., `what` you're doing and `why` it works) and for that reason I recommend using this in conjunction with `Practical Programming`. Beware that the two don't follow each other exactly. One strategy that some students use is to work through these exercises in order and use `Practical Programming` as a reference.*"
   ]
  },
  {
   "cell_type": "markdown",
   "metadata": {},
   "source": [
    "## Need help?\n",
    "\n",
    "If you're having issues getting *An Introduction to Applied Bioinformatics* running on your computer, or you have corrections or suggestions on the content, you should get in touch through the [IAB issue tracker](https://github.com/gregcaporaso/An-Introduction-To-Applied-Bioinformatics/issues). This will generally be much faster than e-mailing the author directly, as there are multiple people who monitor the issue tracker. It also helps us manage our technical support load if we can consolidate all requests and responses in one place."
   ]
  },
  {
   "cell_type": "markdown",
   "metadata": {},
   "source": [
    "## Contributing to IAB\n",
    "\n",
    "If you're interested in contributing content or features to IAB, I'd love to hear from you. You should start by reviewing [CONTRIBUTING.md](https://github.com/gregcaporaso/An-Introduction-To-Applied-Bioinformatics/blob/master/CONTRIBUTING.md) which provides guidelines on how to get involved."
   ]
  },
  {
   "cell_type": "markdown",
   "metadata": {},
   "source": [
    "## About the author\n",
    "\n",
    "<div style=\"float: right; margin-left: 20px; margin-bottom: 15px; width: 200px\"><img title=\"@gregcaporaso, circa 2015\" style=\"float: right;margin-left: 30px;\" src=\"https://raw.github.com/gregcaporaso/An-Introduction-To-Applied-Bioinformatics/master/images/ponytail.png\" align=right height=175/></div>\n",
    "\n",
    "My name is Greg Caporaso. I'm the primary author of IAB, but there are [other contributors](https://github.com/gregcaporaso/An-Introduction-To-Applied-Bioinformatics/graphs/contributors) as well and I hope that list will grow. \n",
    "\n",
    "I have degress in Computer Science (B.S., Univ of Colorado, 2001) and Biochemistry (B.A., Univ of Colorado, 2004; Ph.D., Univ of Colorado 2009). Following my formal training, I joined the [Rob Knight Laboratory](http://knightlab.ucsd.edu), then at the University of Colorado, for approximately 2 years as a post-doctoral scholar. In 2011, I joined the faculty at [Northern Arizona University (NAU)](www.nau.edu) where I'm an Assistant Professor in the Biological Sciences department. I [teach](http://www.caporasolab.us/teaching/) one course per year in bioinformatics for graduate and undergraduate students of Biology and Computer Science. I also run a [research lab](http://www.caporasolab.us/) in the [Center for Microbial Genetics and Genomics](http://www.mggen.nau.edu/), which is focused on developing bioinformatics software and studying the human microbiome.\n",
    "\n",
    "I'm very active in open source bioinformatics software development. I'm not the world expert on the topics that I present in IAB, but I have a passion for bioinformatics, open source software, writing, and education. When I'm learning a new bioinformatics concept, for example an algorithm like pairwise alignment or a statistical technique like Monte Carlo simulation, implementing it is usually the best way for me to wrap my head around it. This led me to start developing IAB, as I found that my implementations helped my students learn the concepts too. I think that one of my strongest skills is the ability to break complex ideas into accessible components. I do this well for bioinformatics because I remember (and still regularly experience) the challenges of learning it, so can relate to newcomers in the field. \n",
    "\n",
    "I am most widely known for my involvement in the development of the [QIIME software package](http://www.qiime.org), and more recently for leading the development of [scikit-bio](http://www.scikit-bio.org). I am also involved in many other bioinformatics software projects (see my [GitHub page](http://github.com/gregcaporaso)). IAB is one of the projects that I'm currently most excited about, so I truly hope that it's as useful for you as it is fun for me.\n",
    "\n",
    "For updates on IAB and various other things, you should [follow me on Twitter](https://twitter.com/gregcaporaso)."
   ]
  }
 ],
 "metadata": {
  "kernelspec": {
   "display_name": "Python 2",
   "language": "python",
   "name": "python2"
  },
  "language_info": {
   "codemirror_mode": {
    "name": "ipython",
    "version": 2
   },
   "file_extension": ".py",
   "mimetype": "text/x-python",
   "name": "python",
   "nbconvert_exporter": "python",
   "pygments_lexer": "ipython2",
   "version": "2.7.5"
  }
 },
 "nbformat": 4,
 "nbformat_minor": 0
}
