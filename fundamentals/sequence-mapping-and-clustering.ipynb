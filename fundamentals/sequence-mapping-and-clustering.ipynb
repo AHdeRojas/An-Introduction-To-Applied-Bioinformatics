{
 "cells": [
  {
   "cell_type": "markdown",
   "metadata": {},
   "source": [
    "# Sequence mapping and clustering"
   ]
  },
  {
   "cell_type": "markdown",
   "metadata": {},
   "source": [
    "A common need in bioinformatics is, given a number of *query* sequences, group them based on their similarity either to one another, or their similarity to sequences in an external reference database, or to both. The most common way to do this is using sequence alignment (you may be noticing a theme here...).\n",
    "\n",
    "The process of searching a set of sequences against a reference database to find their best match is typically referred to a **sequence mapping**. One example of this would be in *genome re-sequencing*. If you're searching for polymorphisms in the human genome that may be associated with a phenotype (e.g., a particular disease) you might begin by sequencing the full human genome. Because the human genome has been fully sequenced and (mostly) assembled, you could map your short sequence reads against the full human genome, and then search for loci (or co-located sets of one or more bases) that vary with the phenotype of interest. Because this process is generally performed with DNA sequencing reads, you may also hear it referred to as *read mapping*.\n",
    "\n",
    "A similar process can be applied if there is no reference database to search against. In this case, sequences will be grouped together based on their similarity to one another. This is most often applied to reads of a single gene or locus across the genomes of many different organisms. This process is referred to as **de novo sequence clustering**, and one field where this is common is **microbiomics**, or the study of whole communities of microorganisms. Because we don't know how to culture the vast majority of microbes, most of what we know about the composition of microbial communities (e.g., in free-living environments, such as the ocean, soil, or surfaces in our homes or offices, or in host-associated environments, such as the human gut) is based on sequencing specific marker genes such as the 16S rRNA from all community members. If we obtain a large number of sequence reads, many of the things we want to do with them (such as identify their taxonomic origin, or understand where they fall in a phylogenetic tree) is too computationally intensive to achieve. So instead, we group sequences that are identicial or highly similar in composition into **Operational Taxonomic Units (OTUs)**, and we choose a single representative of that OTU to work with downstream. For example, if we have a group of 16S rRNA reads that are within 97% identity to one member of that cluster (the cluster centroid) we may assume that the taxonomic origin of the cluster centroid is the same as the taxonomic origin of all of the sequences in the group. This is an *assumption* - it may or may not be true - but it is a necessary evil given the current technology. \n",
    "\n",
    "Another application of grouping similar sequences (or **OTU clustering**, or **OTU picking**, as it is sometimes referred to) is in grouping sequences in a database before investigating them, to reduce taxonomic bias in the database. For example, *E. coli* is one of the most heavily sequenced microbes. If you're interested in understanding the frequency of variants of a specific gene across a range of microbial diversity, you might begin by obtatining all sequences of that gene from [GenBank](https://www.ncbi.nlm.nih.gov/genbank/). Because there may be many more *E. coli* sequences, purely because of sequencing bias, you'd likely want to group your sequences into OTUs before computing variant frequencies, so your calculations are not biased toward the frequencies in *E. coli*, as hundreds of E. coli sequences would likely group to one or a few closely related OTUs. In other words, you're trying to find a **divergent set** of sequences to work with (and an [aptly named tool](http://www.ncbi.nlm.nih.gov/pubmed/16769708) was published in 2006 to automate this process).\n",
    "\n",
    "We have learned the key tools we need for both sequence mapping and clustering in previous chapters. **Because the process of read mapping is nearly identical to database searching, in this chapter we'll start by exploring how to perform de novo sequence clustering**. At the end of the chapter we'll look at a case where we combine sequence clustering with sequence mapping, which arose to deal with massive sequence datasets generated in microbiomics."
   ]
  },
  {
   "cell_type": "code",
   "execution_count": 1,
   "metadata": {
    "collapsed": false
   },
   "outputs": [
    {
     "name": "stdout",
     "output_type": "stream",
     "text": [
      "Populating the interactive namespace from numpy and matplotlib\n"
     ]
    }
   ],
   "source": [
    "%pylab inline\n",
    "\n",
    "from __future__ import print_function, division\n",
    "import matplotlib.pyplot as plt\n",
    "from IPython.core import page\n",
    "page.page = print\n",
    "import networkx as nx\n",
    "import pandas as pd\n",
    "from skbio import BiologicalSequence, DNA, Alignment\n",
    "from skbio.alignment import SequenceCollection\n",
    "from skbio.parse.sequences import parse_fasta\n",
    "from skbio.alignment import local_pairwise_align_ssw, global_pairwise_align_nucleotide"
   ]
  },
  {
   "cell_type": "markdown",
   "metadata": {},
   "source": [
    "## *De novo* clustering of sequences by similarity "
   ]
  },
  {
   "cell_type": "markdown",
   "metadata": {},
   "source": [
    "The algorithm at the core of *de novo* clustering is sequence alignment. In an ideal world, we would perform a full multiple sequence alignment of all of our sequences, compute their pairwise similarities (or dissimilarities), and use those values to group sequences that are above some *similarity threshold* into *OTU clusters* (just *OTUs* from here). As we discussed in the mutliple sequence alignment chapter however, that is infeasible for more than a few tens of sequences due to computational and memory requirements. Even progressive alignment can't typically handle more than a few tens of thousands of sequences (at least with the currently available implementations, that I am aware of), so OTU clustering is generally acheived by picking pairs of sequences to align. You'll notice in this section that many of the heuristics that have been applied for speeding up database searching are similar to the heuristics applied for OTU clustering.\n",
    "\n",
    "We'll work with SSW for Smith-Waterman pairwise alignment with affine gap scoring here, though in principle any pairwise aligner could be substituted. "
   ]
  },
  {
   "cell_type": "code",
   "execution_count": 2,
   "metadata": {
    "collapsed": false
   },
   "outputs": [
    {
     "name": "stdout",
     "output_type": "stream",
     "text": [
      "Help on built-in function local_pairwise_align_ssw in module skbio.alignment._ssw_wrapper:\n",
      "\n",
      "local_pairwise_align_ssw(...)\n",
      "    Align query and target sequences with Striped Smith-Waterman.\n",
      "    \n",
      "    Parameters\n",
      "    ----------\n",
      "    sequence1 : str or BiologicalSequence\n",
      "        The first unaligned sequence\n",
      "    sequence2 : str or BiologicalSequence\n",
      "        The second unaligned sequence\n",
      "    \n",
      "    Returns\n",
      "    -------\n",
      "    ``skbio.alignment.Alignment``\n",
      "        The resulting alignment as an Alignment object\n",
      "    \n",
      "    Notes\n",
      "    -----\n",
      "    This is a wrapper for the SSW package [1]_.\n",
      "    \n",
      "    For a complete list of optional keyword-arguments that can be provided,\n",
      "    see ``skbio.alignment.StripedSmithWaterman``.\n",
      "    \n",
      "    The following kwargs will not have any effect: `suppress_sequences` and\n",
      "    `zero_index`\n",
      "    \n",
      "    If an alignment does not meet a provided filter, `None` will be returned.\n",
      "    \n",
      "    References\n",
      "    ----------\n",
      "    .. [1] Zhao, Mengyao, Wan-Ping Lee, Erik P. Garrison, & Gabor T.\n",
      "       Marth. \"SSW Library: An SIMD Smith-Waterman C/C++ Library for\n",
      "       Applications\". PLOS ONE (2013). Web. 11 July 2014.\n",
      "       http://www.plosone.org/article/info:doi/10.1371/journal.pone.0082138\n",
      "     \n",
      "    See Also\n",
      "    --------\n",
      "    skbio.alignment.StripedSmithWaterman\n",
      "\n"
     ]
    }
   ],
   "source": [
    "help(local_pairwise_align_ssw)"
   ]
  },
  {
   "cell_type": "markdown",
   "metadata": {},
   "source": [
    "<div style=\"float: right; margin-left: 30px;\"><img style=\"float: right; margin-left: 30px;\" src=\"files/images/cluster-legend.png\" align=right></div>\n",
    "\n",
    "In the figures that follow, points represent sequences. A line projecting from a point indicates a dissimilarity range from that sequence (e.g., 10% dissimilar). The circle defined by the point (sequence) and the line (dissimilarity range) define the space containing all sequences within a given dissimilarity threshold.\n",
    "\n",
    "These illustrations are used to describe OTUs. When a circle or set of overlapping circles are filled with grey, that defines the space that a new sequence can fall in if it will be considered part of the OTU. In the the following sections we'll explore different ways that this can be defined.\n",
    "\n",
    "*These figures attempt to illustrate several ideas about OTU clustering, but because the space that we're working in is two dimensional, we can't perfectly represent the process. These figures are useful as visual aid, but should not be considered mathematically robust.* \n",
    "\n",
    "\n",
    "Let's define a collection of sequences to work with. These are derived from the [Greengenes](http://greengenes.secondgenome.com/) [13_8](ftp://greengenes.microbio.me/greengenes_release/gg_13_5/) database, and we're pulling them from the [QIIME default reference project](https://github.com/biocore/qiime-default-reference). We can load these as a list of sequences using ``skbio.parse.sequences.parse_fasta``, and count them by taking the length of the list. For the sake of runtime, we'll work with only a small random subset these sequences.\n",
    "\n",
    "**Our goal here will be to group these sequences into OTUs based on some similarity threshold that we define.** If we set this similarity threshold at 90%, meaning that the sequences within that OTU are 90% identicial (either to each other, or maybe to some representative of that cluster - we'll explore some variants on that definition below), we'd call these *90% OTUs*.  "
   ]
  },
  {
   "cell_type": "code",
   "execution_count": 3,
   "metadata": {
    "collapsed": false
   },
   "outputs": [
    {
     "name": "stdout",
     "output_type": "stream",
     "text": [
      "99\n"
     ]
    }
   ],
   "source": [
    "from qiime_default_reference import get_reference_sequences \n",
    "from random import random\n",
    "\n",
    "seqs_16s = []\n",
    "fraction_to_keep = 0.001\n",
    "for e in list(parse_fasta(get_reference_sequences())):\n",
    "    if random() < fraction_to_keep:\n",
    "        seqs_16s.append(BiologicalSequence(e[1], id=e[0]))\n",
    "seqs_16s = SequenceCollection(seqs_16s)\n",
    "print(seqs_16s.sequence_count())"
   ]
  },
  {
   "cell_type": "code",
   "execution_count": 4,
   "metadata": {
    "collapsed": true
   },
   "outputs": [],
   "source": [
    "def show_clusters(clusters, print_clusters=True, plot_clusters=True, plot_labels=False):\n",
    "    G = nx.Graph()\n",
    "    for c in clusters:\n",
    "        G = nx.union(G, c)\n",
    "        if print_clusters: print(\"%s: %s\" % (c.graph['id'], [s.id for s in c.nodes()]))\n",
    "    if plot_clusters:\n",
    "        pos=nx.spring_layout(G)\n",
    "        nx.draw_networkx_nodes(G, pos)\n",
    "        if G.number_of_edges() > 0:\n",
    "            nx.draw_networkx_edges(G, pos)\n",
    "        if plot_labels: nx.draw_networkx_labels(G, pos, labels={d:d.id for d in G.nodes()})\n",
    "        _ = plt.axis('off')"
   ]
  },
  {
   "cell_type": "markdown",
   "metadata": {},
   "source": [
    "### Furthest neighbor clustering"
   ]
  },
  {
   "cell_type": "markdown",
   "metadata": {},
   "source": [
    "The first approach we'll look at is one that has been called *furthest neighbor*, because whether a sequence becomes a member of a cluster is defined by it's most dissimilar (furthest) \"neighbor\" in that cluster.\n",
    "\n",
    "The way this algorithm works is that we start with our list of sequences. Because this is *de novo* clustering, by definition our first sequence is added to a new cluster (because there are no pre-existing clusters). We'll call this `OTU 1`. We then iterate over the remaining sequences. For the second sequence we compute its pairwise alignment with the first, followed by computing their percent similarity. If their percent similarity is greater than or equal to the similarity threshold, we add the second sequence to `OTU 1`. If is it less than the similarity threshold, we create a new OTU, `OTU 2`, and add the second sequence to that cluster. \n",
    "\n",
    "We continue iterating over the remaining sequences. For each sequence, we compute the pairwise similarity between that sequence and all sequences in each OTU. **If the percent similarity between a query sequence and *all* sequences in a given OTU (say OTU $x$ is greater than the similarity threshold, we add the sequence to OTU $x$.)** Otherwise we check the next OTU in the list. If this criteria is not met for any of the OTUs, then we define a new OTU to add the sequence to. \n",
    "\n",
    "Here's what that process would look like for these six sequences:"
   ]
  },
  {
   "cell_type": "code",
   "execution_count": 5,
   "metadata": {
    "collapsed": false
   },
   "outputs": [],
   "source": [
    "s1 = DNA('AAAAAAAAAA', 's1')\n",
    "s2 = DNA('AAAAATTTTT', 's2')\n",
    "s3 = DNA('AAAAAAACCA', 's3')\n",
    "s4 = DNA('CCCCAATTTT', 's4')\n",
    "s5 = DNA('ACCAAATTTT', 's5')\n",
    "s6 = DNA('AGGAAAAAAA', 's6')\n",
    "\n",
    "aln1 = Alignment([s1, s2, s3, s4, s5, s6])"
   ]
  },
  {
   "cell_type": "markdown",
   "metadata": {},
   "source": [
    "Our first sequence, ``s1``, will define a new OTU. We'll call that OTU ``OTU 1``. We'll great a list of OTUs and add this as our first."
   ]
  },
  {
   "cell_type": "code",
   "execution_count": 6,
   "metadata": {
    "collapsed": false
   },
   "outputs": [],
   "source": [
    "otus = []\n",
    "G=nx.Graph(id=\"OTU 1\")\n",
    "G.add_node(s1)\n",
    "otus.append(G)"
   ]
  },
  {
   "cell_type": "markdown",
   "metadata": {},
   "source": [
    "Our second sequence, ``s2`` falls outside of the similarity threshold to ``S1``, it will also define a new OTU. We'll call that OTU ``OTU 2``."
   ]
  },
  {
   "cell_type": "code",
   "execution_count": 7,
   "metadata": {
    "collapsed": false
   },
   "outputs": [
    {
     "name": "stdout",
     "output_type": "stream",
     "text": [
      "0.5\n"
     ]
    }
   ],
   "source": [
    "print(s2.fraction_same(s1))"
   ]
  },
  {
   "cell_type": "code",
   "execution_count": 8,
   "metadata": {
    "collapsed": false
   },
   "outputs": [
    {
     "name": "stdout",
     "output_type": "stream",
     "text": [
      "OTU 1: ['s1']\n",
      "OTU 2: ['s2']\n"
     ]
    },
    {
     "data": {
      "image/png": "[encoded data removed]",
      "text/plain": [
       "<matplotlib.figure.Figure at 0x100629c90>"
      ]
     },
     "metadata": {},
     "output_type": "display_data"
    }
   ],
   "source": [
    "G=nx.Graph(id=\"OTU 2\")\n",
    "G.add_node(s2)\n",
    "otus.append(G)\n",
    "show_clusters(otus, plot_labels=True)"
   ]
  },
  {
   "cell_type": "markdown",
   "metadata": {},
   "source": [
    "Now imagine that our third sequence, ``s3`` falls within the range of ``s1``. We'd cluster ``s3`` into ``OTU 1`` since it's within the similarity range of all of the sequences in ``OTU 1`` (for now that's just ``s1``). "
   ]
  },
  {
   "cell_type": "code",
   "execution_count": 9,
   "metadata": {
    "collapsed": false
   },
   "outputs": [
    {
     "name": "stdout",
     "output_type": "stream",
     "text": [
      "OTU 1 0.2\n",
      "OTU 2 0.5\n"
     ]
    }
   ],
   "source": [
    "for i, otu in enumerate(otus, start=1):\n",
    "    print(' '.join([\"OTU %d\" % i] + map(str,[s.fraction_same(s4) for s in otu])))"
   ]
  },
  {
   "cell_type": "markdown",
   "metadata": {},
   "source": [
    "We now have three sequences clustered into two OTUs."
   ]
  },
  {
   "cell_type": "code",
   "execution_count": 10,
   "metadata": {
    "collapsed": false
   },
   "outputs": [
    {
     "name": "stdout",
     "output_type": "stream",
     "text": [
      "OTU 1: ['s1', 's3']\n",
      "OTU 2: ['s2']\n"
     ]
    },
    {
     "data": {
      "image/png": "[encoded data removed]",
      "text/plain": [
       "<matplotlib.figure.Figure at 0x10663e8d0>"
      ]
     },
     "metadata": {},
     "output_type": "display_data"
    }
   ],
   "source": [
    "otus[0].add_edge(s1, s3)\n",
    "show_clusters(otus, plot_labels=True)"
   ]
  },
  {
   "cell_type": "markdown",
   "metadata": {},
   "source": [
    "Now let's cluster a fourth sequence, ``s4``. We find that this falls outside the range of ``OTU 1``, and also outside the range of ``OTU 2``. So, we'd create a new OTU, ``OTU 3``, containing ``s4``."
   ]
  },
  {
   "cell_type": "code",
   "execution_count": 11,
   "metadata": {
    "collapsed": false
   },
   "outputs": [
    {
     "name": "stdout",
     "output_type": "stream",
     "text": [
      "OTU 1 0.2 0.2\n",
      "OTU 2 0.5\n"
     ]
    }
   ],
   "source": [
    "for i, otu in enumerate(otus, start=1):\n",
    "    print(' '.join([\"OTU %d\" % i] + map(str,[s.fraction_same(s4) for s in otu])))"
   ]
  },
  {
   "cell_type": "code",
   "execution_count": 12,
   "metadata": {
    "collapsed": false
   },
   "outputs": [
    {
     "name": "stdout",
     "output_type": "stream",
     "text": [
      "OTU 1: ['s1', 's3']\n",
      "OTU 2: ['s2']\n",
      "OTU 3: ['s4']\n"
     ]
    },
    {
     "data": {
      "image/png": "[encoded data removed]",
      "text/plain": [
       "<matplotlib.figure.Figure at 0x106629d10>"
      ]
     },
     "metadata": {},
     "output_type": "display_data"
    }
   ],
   "source": [
    "G=nx.Graph(id=\"OTU 3\")\n",
    "G.add_node(s4)\n",
    "otus.append(G)\n",
    "show_clusters(otus, plot_labels=True)"
   ]
  },
  {
   "cell_type": "markdown",
   "metadata": {},
   "source": [
    "Next, let's cluster our fifth sequence, ``s5``. We find that this falls outside the range of ``OTU 1``, but inside the range of both ``OTU 2`` and ``OTU 3``. "
   ]
  },
  {
   "cell_type": "code",
   "execution_count": 13,
   "metadata": {
    "collapsed": false
   },
   "outputs": [
    {
     "name": "stdout",
     "output_type": "stream",
     "text": [
      "OTU 1 0.4 0.4\n",
      "OTU 2 0.7\n",
      "OTU 3 0.8\n"
     ]
    }
   ],
   "source": [
    "for i, otu in enumerate(otus, start=1):\n",
    "    print(' '.join([\"OTU %d\" % i] + map(str,[s.fraction_same(s5) for s in otu])))"
   ]
  },
  {
   "cell_type": "markdown",
   "metadata": {},
   "source": [
    "Algorithmically, we now have a choice to make. How do we decided which OTU a sequence should belong to if it is within the similarity range of several OTUs? \n",
    "\n",
    "A few choices would be:\n",
    " 1. add it to the cluster where it first matches all sequences, \n",
    " 2. add it to the cluster where it has the smallest average distance to the cluster members, \n",
    " 3. or add it to the cluster with the most members. \n",
    "\n",
    "There are many other options as well. Let's choose the option 1 here, as it requires performing the fewest number of alignments, so should be fastest (we'll explore that in more detail soon). Our mapping of OTUs to sequences would look like:"
   ]
  },
  {
   "cell_type": "code",
   "execution_count": 14,
   "metadata": {
    "collapsed": false
   },
   "outputs": [
    {
     "name": "stdout",
     "output_type": "stream",
     "text": [
      "OTU 1: ['s1', 's3']\n",
      "OTU 2: ['s5', 's2']\n",
      "OTU 3: ['s4']\n"
     ]
    },
    {
     "data": {
      "image/png": "[encoded data removed]",
      "text/plain": [
       "<matplotlib.figure.Figure at 0x10062b210>"
      ]
     },
     "metadata": {},
     "output_type": "display_data"
    }
   ],
   "source": [
    "otus[1].add_edge(s2, s5)\n",
    "show_clusters(otus, plot_labels=True)"
   ]
  },
  {
   "cell_type": "markdown",
   "metadata": {},
   "source": [
    "Finally, let's cluster our last sequence, ``s6``. "
   ]
  },
  {
   "cell_type": "code",
   "execution_count": 15,
   "metadata": {
    "collapsed": false
   },
   "outputs": [
    {
     "name": "stdout",
     "output_type": "stream",
     "text": [
      "OTU 1 0.8 0.6\n",
      "OTU 2 0.4 0.3\n",
      "OTU 3 0.2\n"
     ]
    }
   ],
   "source": [
    "for i, otu in enumerate(otus, start=1):\n",
    "    print(' '.join([\"OTU %d\" % i] + map(str,[s.fraction_same(s6) for s in otu])))"
   ]
  },
  {
   "cell_type": "markdown",
   "metadata": {},
   "source": [
    "In this case, it falls within the similarity range of ``s1``, but outside of the similarity range of ``s3``. So, because our algortihm requires that a sequence be within the simiarity range of all sequences in an OTU, ``s6`` cannot be a member of ``OTU 1``, so instead it's assigned to a new OTU, ``OTU 4``. Our final mapping of OTUs to sequences would look like:"
   ]
  },
  {
   "cell_type": "code",
   "execution_count": 16,
   "metadata": {
    "collapsed": false
   },
   "outputs": [
    {
     "name": "stdout",
     "output_type": "stream",
     "text": [
      "OTU 1: ['s1', 's3']\n",
      "OTU 2: ['s5', 's2']\n",
      "OTU 3: ['s4']\n",
      "OTU 4: ['s6']\n"
     ]
    },
    {
     "data": {
      "image/png": "[encoded data removed]",
      "text/plain": [
       "<matplotlib.figure.Figure at 0x1069c6f90>"
      ]
     },
     "metadata": {},
     "output_type": "display_data"
    }
   ],
   "source": [
    "G=nx.Graph(id=\"OTU 4\")\n",
    "G.add_node(s6)\n",
    "otus.append(G)\n",
    "show_clusters(otus, plot_labels=True)"
   ]
  },
  {
   "cell_type": "code",
   "execution_count": 17,
   "metadata": {
    "collapsed": false
   },
   "outputs": [],
   "source": [
    "from numpy import mean\n",
    "\n",
    "def further_neighbor_cluster_match(seq, cluster, similarity_threshold, aligner):\n",
    "    alignment_results = []\n",
    "    for node in cluster.nodes_iter():\n",
    "        aln = aligner(seq, node)\n",
    "        percent_similarity = aln[0].fraction_same(aln[1])\n",
    "        alignment_results.append((node, percent_similarity))\n",
    "        if percent_similarity < similarity_threshold:\n",
    "            return False, alignment_results\n",
    "    return True, alignment_results\n",
    "            \n",
    "\n",
    "def furthest_neighbor_cluster(seqs, similarity_threshold, aligner=local_pairwise_align_ssw):\n",
    "    clusters = []\n",
    "    num_alignments = 0\n",
    "    for query_seq in seqs:\n",
    "        clustered = False\n",
    "        for cluster in clusters:\n",
    "            clustered, alignment_results = further_neighbor_cluster_match(\n",
    "                query_seq, cluster, similarity_threshold, aligner)\n",
    "            num_alignments += len(alignment_results)\n",
    "            if clustered:\n",
    "                break\n",
    "        if clustered:\n",
    "            for n, s in alignment_results:\n",
    "                cluster.add_edge(query_seq, n, percent_similarity=s)\n",
    "        else:\n",
    "            # create a new cluster containing only this node\n",
    "            new_cluster = nx.Graph(id=\"OTU %d\" % (len(clusters) + 1))\n",
    "            new_cluster.add_node(query_seq)\n",
    "            clusters.append(new_cluster)\n",
    "    return clusters, num_alignments"
   ]
  },
  {
   "cell_type": "code",
   "execution_count": 18,
   "metadata": {
    "collapsed": false
   },
   "outputs": [
    {
     "name": "stdout",
     "output_type": "stream",
     "text": [
      "10\n",
      "OTU 1: ['s1', 's3']\n",
      "OTU 2: ['s5', 's2']\n",
      "OTU 3: ['s4']\n",
      "OTU 4: ['s6']\n"
     ]
    },
    {
     "name": "stderr",
     "output_type": "stream",
     "text": [
      "/Users/caporaso/.virtualenvs/iab/lib/python2.7/site-packages/skbio/alignment/_pairwise.py:540: EfficiencyWarning: You're using skbio's python implementation of Needleman-Wunsch alignment. This is known to be very slow (e.g., thousands of times slower than a native C implementation). We'll be adding a faster version soon (see https://github.com/biocore/scikit-bio/issues/254 to track progress on this).\n",
      "  \"to track progress on this).\", EfficiencyWarning)\n"
     ]
    },
    {
     "data": {
      "image/png": "[encoded data removed]",
      "text/plain": [
       "<matplotlib.figure.Figure at 0x106a83090>"
      ]
     },
     "metadata": {},
     "output_type": "display_data"
    }
   ],
   "source": [
    "# Here we want our sequences to align from beginning to end (because they're toy examples)\n",
    "# so we'll penalize terminal gaps.\n",
    "from functools import partial \n",
    "global_pairwise_align_nucleotide = partial(global_pairwise_align_nucleotide, penalize_terminal_gaps=True)\n",
    "\n",
    "clusters, num_alignments = furthest_neighbor_cluster([s1, s2, s3, s4, s5, s6], 0.70, aligner=global_pairwise_align_nucleotide)\n",
    "print(num_alignments)\n",
    "show_clusters(clusters, plot_labels=True)"
   ]
  },
  {
   "cell_type": "markdown",
   "metadata": {},
   "source": [
    "Let's apply that function to our sequence collection. This function will return the number of pairwise alignments that were performed (it'll be clear why we're interested in that soon), and the OTUs. "
   ]
  },
  {
   "cell_type": "code",
   "execution_count": 19,
   "metadata": {
    "collapsed": false
   },
   "outputs": [
    {
     "name": "stdout",
     "output_type": "stream",
     "text": [
      "OTU 1: ['995155', '4379525', '298988', '6749']\n",
      "OTU 2: ['877884', '243579', '82320', '327239', '694774', '730246', '4351185']\n",
      "OTU 3: ['731639', '819699', '605566']\n",
      "OTU 4: ['796969', '329302', '4433048', '4295874', '289174', '2931208', '251465', '164915']\n",
      "OTU 5: ['694282', '181529', '277215']\n",
      "OTU 6: ['572676', '4366868']\n",
      "OTU 7: ['275123', '181568', '310877', '182729', '4479562', '571031', '303919', '314337', '331117', '276257']\n",
      "OTU 8: ['566377', '181960', '167502']\n",
      "OTU 9: ['551423', '322469', '1118300', '4417725', '4431461', '239717', '815314']\n",
      "OTU 10: ['513370', '2532911', '730661', '4454871', '301867', '146275', '239868', '272591', '366311', '319497', '3427116', '885776']\n",
      "OTU 11: ['4417417', '358664']\n",
      "OTU 12: ['777102', '305957']\n",
      "OTU 13: ['298922']\n",
      "OTU 14: ['278960']\n",
      "OTU 15: ['261892']\n",
      "OTU 16: ['257001', '248801', '198774']\n",
      "OTU 17: ['250445']\n",
      "OTU 18: ['239787', '992327', '729865']\n",
      "OTU 19: ['222734', '20793']\n",
      "OTU 20: ['723052', '144260']\n",
      "OTU 21: ['107418']\n",
      "OTU 22: ['3984455', '104164']\n",
      "OTU 23: ['4475231', '83758']\n",
      "OTU 24: ['2338105']\n",
      "OTU 25: ['2660423']\n",
      "OTU 26: ['1082997']\n",
      "OTU 27: ['3053116']\n",
      "OTU 28: ['3625242']\n",
      "OTU 29: ['4301068']\n",
      "OTU 30: ['4334796']\n",
      "OTU 31: ['4354370']\n",
      "OTU 32: ['4401184']\n",
      "OTU 33: ['4422290']\n",
      "OTU 34: ['4423335', '4439805']\n",
      "OTU 35: ['4346018', '157389']\n",
      "OTU 36: ['100246', '108439']\n",
      "OTU 37: ['742091']\n"
     ]
    }
   ],
   "source": [
    "clusters, num_alignments = furthest_neighbor_cluster(seqs_16s, 0.70)\n",
    "show_clusters(clusters, plot_clusters=False, plot_labels=False)"
   ]
  },
  {
   "cell_type": "markdown",
   "metadata": {},
   "source": [
    "Let's define a function that will be useful for exploring different clustering algorithms:"
   ]
  },
  {
   "cell_type": "code",
   "execution_count": 20,
   "metadata": {
    "collapsed": false
   },
   "outputs": [],
   "source": [
    "from time import time\n",
    "\n",
    "def evaluate_cluster_fn(cluster_fn, seqs, similarity_threshold, display=True):\n",
    "    start_time = time()\n",
    "    clusters, num_alignments = cluster_fn(seqs, similarity_threshold)\n",
    "    end_time = time()\n",
    "    run_time = end_time - start_time\n",
    "    num_clusters = len(clusters)\n",
    "    if display:\n",
    "        print(\"Number of alignments performed: %d\" % num_alignments)\n",
    "        print(\"Runtime: %1.3fs\" % run_time)\n",
    "        print(\"Number of clusters: %d\" % num_clusters)\n",
    "        print(\"Clusters:\")\n",
    "        show_clusters(clusters, plot_clusters=False, plot_labels=False)\n",
    "    return num_alignments, run_time, num_clusters"
   ]
  },
  {
   "cell_type": "markdown",
   "metadata": {},
   "source": [
    "Now let's apply that:"
   ]
  },
  {
   "cell_type": "code",
   "execution_count": 21,
   "metadata": {
    "collapsed": false
   },
   "outputs": [
    {
     "name": "stdout",
     "output_type": "stream",
     "text": [
      "Number of alignments performed: 1458\n",
      "Runtime: 6.188s\n",
      "Number of clusters: 37\n",
      "Clusters:\n",
      "OTU 1: ['995155', '4379525', '298988', '6749']\n",
      "OTU 2: ['877884', '243579', '82320', '327239', '694774', '730246', '4351185']\n",
      "OTU 3: ['731639', '819699', '605566']\n",
      "OTU 4: ['796969', '329302', '4433048', '4295874', '289174', '2931208', '251465', '164915']\n",
      "OTU 5: ['694282', '181529', '277215']\n",
      "OTU 6: ['572676', '4366868']\n",
      "OTU 7: ['275123', '181568', '310877', '182729', '4479562', '571031', '303919', '314337', '331117', '276257']\n",
      "OTU 8: ['566377', '181960', '167502']\n",
      "OTU 9: ['551423', '322469', '1118300', '4417725', '4431461', '239717', '815314']\n",
      "OTU 10: ['513370', '2532911', '730661', '4454871', '301867', '146275', '239868', '272591', '366311', '319497', '3427116', '885776']\n",
      "OTU 11: ['4417417', '358664']\n",
      "OTU 12: ['777102', '305957']\n",
      "OTU 13: ['298922']\n",
      "OTU 14: ['278960']\n",
      "OTU 15: ['261892']\n",
      "OTU 16: ['257001', '248801', '198774']\n",
      "OTU 17: ['250445']\n",
      "OTU 18: ['239787', '992327', '729865']\n",
      "OTU 19: ['222734', '20793']\n",
      "OTU 20: ['723052', '144260']\n",
      "OTU 21: ['107418']\n",
      "OTU 22: ['3984455', '104164']\n",
      "OTU 23: ['4475231', '83758']\n",
      "OTU 24: ['2338105']\n",
      "OTU 25: ['2660423']\n",
      "OTU 26: ['1082997']\n",
      "OTU 27: ['3053116']\n",
      "OTU 28: ['3625242']\n",
      "OTU 29: ['4301068']\n",
      "OTU 30: ['4334796']\n",
      "OTU 31: ['4354370']\n",
      "OTU 32: ['4401184']\n",
      "OTU 33: ['4422290']\n",
      "OTU 34: ['4423335', '4439805']\n",
      "OTU 35: ['4346018', '157389']\n",
      "OTU 36: ['100246', '108439']\n",
      "OTU 37: ['742091']\n"
     ]
    }
   ],
   "source": [
    "r = evaluate_cluster_fn(furthest_neighbor_cluster, seqs_16s, 0.70)"
   ]
  },
  {
   "cell_type": "markdown",
   "metadata": {},
   "source": [
    "### Nearest neighbor clustering"
   ]
  },
  {
   "cell_type": "markdown",
   "metadata": {},
   "source": [
    "Let's try a variant on this algorithm. How would things change if **instead of requiring that a sequence be within the similarity treshold of all sequences in an OTU, we only required that it be within the similarity threshold of one sequence in that OTU**? This is referred to as **nearest neighbor** clustering, because cluster membership is defined by the percent similarity to the most similar (or *nearest*) \"neighbor\" in the cluster. \n",
    "\n",
    "Let's look at the process for six sequences again.\n",
    "\n",
    "<img src=\"files/images/nearest-neighbor.1.png\">\n",
    "\n",
    "Our first sequence, $S1$, will again define a new OTU. We'll call that OTU $OTU1$ and start building our mapping of OTUs to the sequences they contain:\n",
    "\n",
    "$OTU1$: $S1$ \n",
    "\n",
    "<hr>\n",
    "\n",
    "<img src=\"files/images/nearest-neighbor.2.png\">\n",
    "\n",
    "Our second sequence, $S2$, still falls outside of the similarity threshold to $S1$, so will also define a new OTU. We'll call that OTU $OTU2$.\n",
    "\n",
    "$OTU1$: $S1$\n",
    "\n",
    "$OTU2$: $S2$\n",
    "\n",
    "<hr>\n",
    "\n",
    "<img src=\"files/images/nearest-neighbor.3.png\">\n",
    "\n",
    "Now imagine that our third sequence, $S3$ falls within the range of $OTU1$. We'd cluster $S3$ into $OTU1$ with $S1$. We now have three sequences clustered into two OTUs. So far, things are looking the same as before, except notice how our OTU definition (grey shading) is now different. Because any sequence within the similarity threshold of *any* of sequence in the OTU will fall into this OTU, the shading now covers the area covered by either of our sequences, rather than the area covered by both of our sequences (in set theory terminology, it is the *union* now, where previously it was the *intersection*). \n",
    "\n",
    "$OTU1$: $S1$ $S3$\n",
    "\n",
    "$OTU2$: $S2$\n",
    "\n",
    "<hr>\n",
    "\n",
    "<img src=\"files/images/nearest-neighbor.4.png\">\n",
    "\n",
    "Now let's cluster a fourth sequence, $S4$. We find that this falls outside the range of $OTU1$, and (just barely) outside the range of $OTU2$. So, we'd create a new OTU, $OTU3$, containing $S4$.\n",
    "\n",
    "$OTU1$: $S1$ $S3$\n",
    "\n",
    "$OTU2$: $S2$\n",
    "\n",
    "$OTU3$: $S4$\n",
    "\n",
    "<hr>\n",
    "\n",
    "<img src=\"files/images/nearest-neighbor.5.png\">\n",
    "\n",
    "Next, let's cluster our fifth sequence, $S5$. We find that this falls outside the range of $OTU1$, and inside the range of both $OTU2$ and $OTU3$. As with furthest neighbor, we have a choice of how to handle this. We'll again assign it to the cluster to which it is the most similar. Our mapping of OTUs to sequences would look like:\n",
    "\n",
    "$OTU1$: $S1$ $S3$\n",
    "\n",
    "$OTU2$: $S2$\n",
    "\n",
    "$OTU3$: $S4$ $S5$\n",
    "\n",
    "<hr>\n",
    "\n",
    "<img src=\"files/images/nearest-neighbor.6.png\">\n",
    "\n",
    "Finally, let's cluster our last sequence, $S6$. Remember that $S6$ falls within the similarity range of $S1$, but outside of the similarity range of $S3$. In furthest neighbor, this meant that it was assigned to a new OTU, but with nearest neighbor it meets the inclusion criteria for $OTU1$. So, our final mapping of OTUs to sequences would look like:\n",
    "\n",
    "$OTU1$: $S1$ $S3$ $S6$\n",
    "\n",
    "$OTU2$: $S2$\n",
    "\n",
    "$OTU3$: $S4$ $S5$\n",
    "\n",
    "<hr>\n",
    "\n",
    "**One feature that becomes obvious here is the order dependence of these methods.** If sequences are provided in different order across different clustering runs, the cluster definitions will change. For example, how would the results differ if the sequences were processed in this order: $S1$, $S3$, $S4$, $S5$, $S6$, $S2$?\n",
    "\n",
    "<hr>\n",
    "\n",
    "Let's implement nearest neighbor clustering and explore its properties."
   ]
  },
  {
   "cell_type": "code",
   "execution_count": null,
   "metadata": {
    "collapsed": false
   },
   "outputs": [],
   "source": [
    "def nearest_neighbor_cluster(seqs, similarity_threshold):\n",
    "    clusters = []\n",
    "    num_alignments = 0\n",
    "    for query_seq in seqs:\n",
    "        best_percent_similarity = 0.0\n",
    "        cluster_index = None\n",
    "        for i, cluster in enumerate(clusters):\n",
    "            for cluster_seq_identifier in cluster:\n",
    "                current_cluster_representative_seq = seqs[cluster_seq_identifier]\n",
    "                aln = local_pairwise_align_ssw(str(query_seq), str(current_cluster_representative_seq))\n",
    "                num_alignments += 1\n",
    "                percent_similarity = aln[0].fraction_same(aln[1])\n",
    "                if percent_similarity >= similarity_threshold:\n",
    "                    if percent_similarity > best_percent_similarity:\n",
    "                        cluster_index = i\n",
    "                        best_percent_similarity = percent_similarity\n",
    "                        break\n",
    "        if cluster_index is None:\n",
    "            clusters.append([query_seq.id])\n",
    "        else:\n",
    "            clusters[cluster_index].append(query_seq.id)\n",
    "    return clusters, num_alignments"
   ]
  },
  {
   "cell_type": "code",
   "execution_count": null,
   "metadata": {
    "collapsed": false
   },
   "outputs": [],
   "source": [
    "r = evaluate_cluster_fn(nearest_neighbor_cluster, seqs_16s, 0.70)"
   ]
  },
  {
   "cell_type": "markdown",
   "metadata": {},
   "source": [
    "You'll notice that both the runtime and the number of alignments performed here are different. Most of the runtime is spent aligning, so runtime and number of alignments should be strongly correlated.\n",
    "\n",
    "There was another affect here though: we have a different number of OTUs. Is this result better or worse? There is not a definitive answer to that question: it really depends on the application, so what we'd ultimately want to know is how does that affect our ability to interpret the data. **Remember: OTU clustering is a necessary evil to deal with the massive amounts of data that we have. We don't necessary care about things like how many OTUs a method gives us, but rather how the clustering process helps or hurts us answer the biological questions driving the analysis.** We'll explore this concept more in later chapters, but it is an important one that algorithm developers sometimes lose track of."
   ]
  },
  {
   "cell_type": "markdown",
   "metadata": {},
   "source": [
    "### Centroid clustering"
   ]
  },
  {
   "cell_type": "markdown",
   "metadata": {},
   "source": [
    "So, given that the number of alignments performed is correlated with runtime, are there ways that we can reduce the number of alignments that are computed by a clustering algorithm? One approach for that is generally referred to as **centroid clustering**. Here, we can say that **a sequence is assigned to an OTU if it is within the similarity threshold of the first sequence in that OTU**. The first sequence in that cluster then becomes the *cluster centroid*: cluster membership is defined by similarity to that one particular sequence, which effectively sits at the \"center\" of that OTU.\n",
    "\n",
    "Let's look at the process for our six sequences.\n",
    "\n",
    "<img src=\"files/images/centroid-cluster.1.png\">\n",
    "\n",
    "Our first sequence, $S1$, will again define a new OTU. We'll call that OTU $OTU1$ and start building our mapping of OTUs to the sequences they contain:\n",
    "\n",
    "$OTU1$: $S1$ \n",
    "\n",
    "<hr>\n",
    "\n",
    "<img src=\"files/images/centroid-cluster.2.png\">\n",
    "\n",
    "Our second sequence, $S2$, still falls outside of the similarity threshold to $S1$, so will also define a new OTU. We'll call that OTU $OTU2$.\n",
    "\n",
    "$OTU1$: $S1$\n",
    "\n",
    "$OTU2$: $S2$\n",
    "\n",
    "<hr>\n",
    "\n",
    "<img src=\"files/images/centroid-cluster.3.png\">\n",
    "\n",
    "Recall that $S3$ falls within the range of $OTU1$. We'd cluster $S3$ into $OTU1$ with $S1$, and now have three sequences clustered into two OTUs. Again, our sequence to OTU mapping looks the same as before at this stage, but our OTU definition (grey shading) is again different. Because a sequence must be within the similarity threshold of the first sequence added to the OTU (the *centroid*), the shading doesn't change. In other words, the definition of the OTU is fixed: additional sequences don't change the shaded area.\n",
    "\n",
    "$OTU1$: $S1$ $S3$\n",
    "\n",
    "$OTU2$: $S2$\n",
    "\n",
    "<hr>\n",
    "\n",
    "<img src=\"files/images/centroid-cluster.4.png\">\n",
    "\n",
    "Now let's cluster a fourth sequence, $S4$. We find that this falls outside the range of $OTU1$, and (just barely) outside the range of $OTU2$. So, we'd create a new OTU, $OTU3$, containing $S4$.\n",
    "\n",
    "$OTU1$: $S1$ $S3$\n",
    "\n",
    "$OTU2$: $S2$\n",
    "\n",
    "$OTU3$: $S4$\n",
    "\n",
    "<hr>\n",
    "\n",
    "<img src=\"files/images/centroid-cluster.5.png\">\n",
    "\n",
    "Next, let's cluster our fifth sequence, $S5$. We find that this falls outside the range of $OTU1$, and inside the range of both $OTU2$ and $OTU3$. As with furthest neighbor, we have a choice of how to handle this. We'll again assign it to the cluster to which it is the most similar. Our mapping of OTUs to sequences would look like:\n",
    "\n",
    "$OTU1$: $S1$ $S3$\n",
    "\n",
    "$OTU2$: $S2$\n",
    "\n",
    "$OTU3$: $S4$ $S5$\n",
    "\n",
    "<hr>\n",
    "\n",
    "<img src=\"files/images/centroid-cluster.6.png\">\n",
    "\n",
    "Finally, let's cluster our last sequence, $S6$. Remember that $S6$ falls within the similarity range of $S1$, but outside of the similarity range of $S3$. In furthest neighbor, this meant that it was assigned to a new OTU; in nearest neighbor, it was assigned to $OTU1$, and that is what happens here (but how would this differ if $S3$ was the centroid of $OTU1$, rather than $S1$?). Our final mapping of OTUs to sequences would look like:\n",
    "\n",
    "$OTU1$: $S1$ $S3$ $S6$\n",
    "\n",
    "$OTU2$: $S2$\n",
    "\n",
    "$OTU3$: $S4$ $S5$\n",
    "\n",
    "<hr>\n",
    "\n",
    "Let's implment this:"
   ]
  },
  {
   "cell_type": "code",
   "execution_count": null,
   "metadata": {
    "collapsed": false
   },
   "outputs": [],
   "source": [
    "def centroid_cluster(seqs, similarity_threshold):\n",
    "    clusters = []\n",
    "    num_alignments = 0\n",
    "    for query_seq in seqs:\n",
    "        best_percent_similarity = 0.0\n",
    "        cluster_index = None\n",
    "        for i, cluster in enumerate(clusters):\n",
    "            current_cluster_representative_seq = seqs[cluster[0]]\n",
    "            aln = local_pairwise_align_ssw(str(query_seq), str(current_cluster_representative_seq))\n",
    "            num_alignments += 1\n",
    "            percent_similarity = aln[0].fraction_same(aln[1])\n",
    "            if percent_similarity >= similarity_threshold:\n",
    "                if percent_similarity > best_percent_similarity:\n",
    "                    cluster_index = i\n",
    "                    best_percent_similarity = percent_similarity\n",
    "        if cluster_index is None:\n",
    "            clusters.append([query_seq.id])\n",
    "        else:\n",
    "            clusters[cluster_index].append(query_seq.id)\n",
    "    return clusters, num_alignments"
   ]
  },
  {
   "cell_type": "code",
   "execution_count": null,
   "metadata": {
    "collapsed": false
   },
   "outputs": [],
   "source": [
    "r = evaluate_cluster_fn(centroid_cluster, seqs_16s, 0.70)"
   ]
  },
  {
   "cell_type": "markdown",
   "metadata": {},
   "source": [
    "We've now reduced the number of alignments and the runtime. What was the effect on the results?"
   ]
  },
  {
   "cell_type": "markdown",
   "metadata": {},
   "source": [
    "### Three different definitions of OTUs"
   ]
  },
  {
   "cell_type": "markdown",
   "metadata": {},
   "source": [
    "<div style=\"float: right; margin-left: 30px;\"><img style=\"float: right; margin-left: 30px;\" src=\"files/images/cluster-types.png\" align=right></div>\n",
    "\n",
    "In these three algorithms, we've looked at three different ways of defining a cluster. **This figure illustrates the differences in each definition, where the solid lines indicate where a sequence must fall to be considered part of a cluster.**\n",
    "\n",
    "In nearest neighbor, where membership in a cluster is defined by a query sequence's distance to the most similar sequence already in the cluster (it's nearest neighbor), the size of the cluster can grow with additional sequences. This can have some undesired effects: for example, if we clustered our sequences in order of decreasing pairwise similarity, in the worst case we could end up with one single cluster containing all of our sequences.\n",
    "\n",
    "In furthest neighbor, where membership in a cluster is defined by a query sequence's distance to the most dissimilar sequence already in the cluster (it's furthest neighbor), the size of the cluster can shrink with additional sequences. This can also have some undesired effects, such as the size of a cluster becoming contstrained to the point where it is unlikely that new sequences will ever be added.\n",
    "\n",
    "In centroid distance, where membership in a cluster is defined by a query sequence's distance to the cluster's centroid sequence, the size of the cluster always remains the same, but the role that the first sequence added to a cluster plays becomes much more important. So, it's very important that the cluster centroids are well-chosen. One undesired effect of centroid distance cluster is that the cluster sizes are fixed, which may or may not always make biological sense (for example, if the marker gene evolves at a faster rate in some taxa than others, that can't be reflected in the cluster defintions. \n",
    "\n",
    "All of these methods have good features and bad features, and that in fact is a common feature of heuristics (if they were perfect, they wouldn't be heuristics after all...). "
   ]
  },
  {
   "cell_type": "markdown",
   "metadata": {},
   "source": [
    "### Greedy centroid clustering"
   ]
  },
  {
   "cell_type": "markdown",
   "metadata": {},
   "source": [
    "While we're looking at heuristics, let's look at one more heuristic. Remember that in the multiple sequence alignment chapter we discussed computing *kmer distances* between sequences, which is an alignment-independent way of getting an idea of the similarity of a pair of sequences. Relative to pairwise alignment, this is very fast, so another strategy we can take is to compute all kmer distances between a query sequence and all cluster centroids first. Then, run our centroid clustering process, but only compute the pairwise alignment between a query sequence and the cluster centroid that has the smallest kmer distance to the query. The affect will be that rather than computing the pairwise alignment between a query and all cluster centroids, we only compute the alignment between the query sequence and the cluster centroid that we think is likely to be most similar to the query sequence, based on it having the smallest kmer distance."
   ]
  },
  {
   "cell_type": "code",
   "execution_count": null,
   "metadata": {
    "collapsed": false
   },
   "outputs": [],
   "source": [
    "from iab.algorithms import kmer_distance\n",
    "from functools import partial\n",
    "\n",
    "# cache the kmer distances between all sequences\n",
    "# need to improve the code below so this is calculate on-the-fly only as necessary, but waiting\n",
    "# on faster kmer computation in skbio as this is actually currently slower than SSW alignment\n",
    "seqs_16s_5mer_distances = seqs_16s.distances(partial(kmer_distance, k=5, overlapping=True))"
   ]
  },
  {
   "cell_type": "code",
   "execution_count": null,
   "metadata": {
    "collapsed": false
   },
   "outputs": [],
   "source": [
    "def greedy_centroid_cluster(seqs, similarity_threshold, kmer_distances, max_rejects=5):\n",
    "    \"\"\"\n",
    "    \"\"\"\n",
    "    clusters = {}\n",
    "    num_alignments = 0\n",
    "\n",
    "    for query_seq in seqs:\n",
    "        # find the centroids with the smallest kmer distance to the query seq\n",
    "        current_kmer_distances = []\n",
    "        for cluster_centroid_id in clusters:\n",
    "            current_kmer_distances.append((kmer_distances[(query_seq.id, cluster_centroid_id)], cluster_centroid_id))\n",
    "        current_kmer_distances.sort()\n",
    "        \n",
    "        best_percent_similarity = 0.0\n",
    "        best_cluster_centroid_id = None\n",
    "        # align the query against that centroid and compute percent similarity\n",
    "        for _, cluster_centroid_id in current_kmer_distances[:max_rejects]:\n",
    "            aln = local_pairwise_align_ssw(str(query_seq), str(seqs.get_seq(cluster_centroid_id)))\n",
    "            num_alignments += 1\n",
    "            percent_similarity = aln[0].fraction_same(aln[1])\n",
    "\n",
    "            # and if it's within the similarity threshold, add the sequence to that cluster\n",
    "            if percent_similarity >= similarity_threshold and percent_similarity > best_percent_similarity:\n",
    "                best_percent_similarity = percent_similarity\n",
    "                best_cluster_centroid_id = cluster_centroid_id\n",
    "\n",
    "        if best_cluster_centroid_id is None:\n",
    "            clusters[query_seq.id] = [query_seq.id]\n",
    "        else:\n",
    "            clusters[best_cluster_centroid_id].append(query_seq.id)\n",
    "    \n",
    "    clusters = clusters.values()\n",
    "    return clusters, num_alignments\n",
    "\n",
    "greedy_centroid_cluster = partial(greedy_centroid_cluster, kmer_distances=seqs_16s_5mer_distances)"
   ]
  },
  {
   "cell_type": "code",
   "execution_count": null,
   "metadata": {
    "collapsed": false
   },
   "outputs": [],
   "source": [
    "r = evaluate_cluster_fn(greedy_centroid_cluster, seqs_16s, 0.70)"
   ]
  },
  {
   "cell_type": "markdown",
   "metadata": {},
   "source": [
    "How do these results compare to the previous methods?"
   ]
  },
  {
   "cell_type": "markdown",
   "metadata": {},
   "source": [
    "## Comparing properties of our clustering algorithms"
   ]
  },
  {
   "cell_type": "markdown",
   "metadata": {},
   "source": [
    "We so far looked at these algorithms based on a single similarity threshold and a single sequence collection, but as we know from previous chapters it's important to know how features such as run time change with different inputs. Let's explore these algorithms in the context of changing sequence collection sizes and similarity thresholds. \n",
    "\n",
    "For the sake of runtime, I'm only looking at three settings for each. You may want to expand from there, but don't work with more than 5 or 7 different similarity thresholds or sequence collection sizes as the runtimes will increase rapidly. Note that every additional value in the ``similarity_threshold`` or ``sequence_collections`` list will add four clustering runs, since each method is run at each similarity threshold (in this next cell) or on each sequence collection (a few cells further down). "
   ]
  },
  {
   "cell_type": "code",
   "execution_count": null,
   "metadata": {
    "collapsed": false
   },
   "outputs": [],
   "source": [
    "cluster_fns = [(\"furthest neighbor\", furthest_neighbor_cluster), \n",
    "               (\"nearest_neighbor\", nearest_neighbor_cluster), \n",
    "               (\"centroid\", centroid_cluster),\n",
    "               (\"greedy centroid\", greedy_centroid_cluster)]\n",
    "similarity_thresholds = [0.60, 0.70, 0.80, 0.90]\n",
    "sequence_collections = map(SequenceCollection,[seqs_16s[:25], seqs_16s[:50], seqs_16s[:75], seqs_16s[:100]])"
   ]
  },
  {
   "cell_type": "markdown",
   "metadata": {},
   "source": [
    "First let's look at different similarity thresholds by looping over our clustering functions and a few similarity thresholds, and finding the run time for each."
   ]
  },
  {
   "cell_type": "code",
   "execution_count": null,
   "metadata": {
    "collapsed": false
   },
   "outputs": [],
   "source": [
    "alignment_counts = []\n",
    "run_times = []\n",
    "cluster_counts = []\n",
    "for cluster_fn in cluster_fns:\n",
    "    current_alignment_counts = []\n",
    "    current_run_times = []\n",
    "    current_cluster_counts = []\n",
    "    for similarity_threshold in similarity_thresholds:\n",
    "        num_alignments, run_time, num_clusters = evaluate_cluster_fn(\n",
    "            cluster_fn[1], sequence_collections[0], similarity_threshold, display=False)\n",
    "        current_run_times.append(run_time)\n",
    "        current_alignment_counts.append(num_alignments)\n",
    "        current_cluster_counts.append(num_clusters)\n",
    "    alignment_counts.append(current_alignment_counts)\n",
    "    run_times.append(current_run_times)\n",
    "    cluster_counts.append(current_cluster_counts)    "
   ]
  },
  {
   "cell_type": "markdown",
   "metadata": {},
   "source": [
    "We can now plot these using matplotlib."
   ]
  },
  {
   "cell_type": "code",
   "execution_count": null,
   "metadata": {
    "collapsed": false
   },
   "outputs": [],
   "source": [
    "for rt in run_times:\n",
    "    plt.plot(similarity_thresholds, rt)\n",
    "plt.legend([e[0] for e in cluster_fns], loc=\"upper left\")\n",
    "plt.xlabel(\"Similarity threshold\")\n",
    "plt.ylabel(\"Run time (s)\")"
   ]
  },
  {
   "cell_type": "markdown",
   "metadata": {},
   "source": [
    "Remember that above I said that most of the time in each of these clustering algorithms is spent doing pairwise alignment. Let's plot the number of alignments comptued by each as well so I can prove that to you."
   ]
  },
  {
   "cell_type": "code",
   "execution_count": null,
   "metadata": {
    "collapsed": false
   },
   "outputs": [],
   "source": [
    "for na in alignment_counts:\n",
    "    plt.plot(similarity_thresholds, na)\n",
    "plt.legend([e[0] for e in cluster_fns], loc=\"upper left\")\n",
    "plt.xlabel(\"Similarity threshold\")\n",
    "plt.ylabel(\"Number of alignments computed\")"
   ]
  },
  {
   "cell_type": "markdown",
   "metadata": {},
   "source": [
    "Next let's look at run time as a function of the number of sequences to be clustered."
   ]
  },
  {
   "cell_type": "code",
   "execution_count": null,
   "metadata": {
    "collapsed": false
   },
   "outputs": [],
   "source": [
    "alignment_counts = []\n",
    "run_times = []\n",
    "cluster_counts = []\n",
    "for cluster_fn in cluster_fns:\n",
    "    current_alignment_counts = []\n",
    "    current_run_times = []\n",
    "    current_cluster_counts = []\n",
    "    for sequence_collection in sequence_collections:\n",
    "        num_alignments, run_time, num_clusters = evaluate_cluster_fn(cluster_fn[1], sequence_collection, 0.70, display=False)\n",
    "        current_run_times.append(run_time)\n",
    "        current_alignment_counts.append(num_alignments)\n",
    "        current_cluster_counts.append(num_clusters)\n",
    "    alignment_counts.append(current_alignment_counts)\n",
    "    run_times.append(current_run_times)\n",
    "    cluster_counts.append(current_cluster_counts) "
   ]
  },
  {
   "cell_type": "code",
   "execution_count": null,
   "metadata": {
    "collapsed": false
   },
   "outputs": [],
   "source": [
    "for rt in run_times:\n",
    "    plt.plot([e.sequence_count() for e in sequence_collections], rt)\n",
    "plt.legend([e[0] for e in cluster_fns], loc=\"upper left\")\n",
    "plt.xlabel(\"Number of sequences\")\n",
    "plt.ylabel(\"Run time (s)\")"
   ]
  },
  {
   "cell_type": "markdown",
   "metadata": {},
   "source": [
    "**Which of these methods do you think will scale best** to continuosuly increasing numbers of sequences (e.g., as is currently the trend in microbiomics)?"
   ]
  },
  {
   "cell_type": "markdown",
   "metadata": {},
   "source": [
    "## Reference-based clustering to assist with parallelization"
   ]
  },
  {
   "cell_type": "markdown",
   "metadata": {},
   "source": [
    "**This section needs work...**\n",
    "\n",
    "**TODO**\n",
    "\n",
    "* Discuss issues with run time (maybe examples from EMP clustering run times)\n",
    "* Need for parallelization"
   ]
  },
  {
   "cell_type": "markdown",
   "metadata": {},
   "source": [
    "Up until this point we have focused our discussion on *de novo* OTU clustering, meaning that sequences are clustered only against each other, with no external reference. This is a very widely applied protocol, and the primary function of popular bioinformatics tools such as [cdhit](http://bioinformatics.oxfordjournals.org/content/28/23/3150.long) and [uclust](http://bioinformatics.oxfordjournals.org/content/26/19/2460.long). Another category of OTU clustering protocols is also popular however: reference-based OTU clustering, where a external reference database of sequences is used to aid in cluster defintion. In this section we compare *de novo* clustering with two reference-based OTU clustering protocols, closed-reference and open-reference. \n",
    "\n",
    "De novo OTU clustering\n",
    "----------------------\n",
    "\n",
    "In a de novo OTU clustering process, as discussed above, reads are clustered against one another without any external reference sequence collection. A benefit of de novo OTU picking is that all reads are clustered. A drawback is that there is no existing support for running this in parallel in QIIME, so it can be too slow to apply to large datasets (e.g., more than 10 million reads). \n",
    "\n",
    "You **must** use de novo OTU picking if:\n",
    "\n",
    "*  You do not have a reference sequence collection to cluster against, for example because you're working with an infrequently used marker gene.\n",
    "\n",
    "You **cannot** use de novo OTU picking if:\n",
    "\n",
    "*  You are comparing non-overlapping loci, such as the V2 and the V4 regions of the 16S rRNA.\n",
    "*  You working with very large data sets, like a full HiSeq 2000 run. (Technically, you can use de novo OTU picking here, but you literally might wait a month or more for your results.)\n",
    "\n",
    "Pros:\n",
    "\n",
    "*  All reads are clustered\n",
    "\n",
    "Cons:\n",
    "\n",
    "*  Speed. Does not run in parallel.\n",
    "\n",
    "Closed-reference OTU clustering (also referred to as *read mapping*)\n",
    "--------------------------------------------------------------------\n",
    "\n",
    "In a closed-reference OTU clustering process, reads are clustered against a reference sequence collection and any reads which do not hit a sequence in the reference sequence collection are excluded from downstream analyses. \n",
    "\n",
    "You **must** use closed-reference OTU clustering if:\n",
    "\n",
    "*  You are comparing non-overlapping loci, such as the V2 and the V4 regions of the 16S rRNA. Your reference sequences must span both of the regions being sequenced.\n",
    "\n",
    "You **cannot** use closed-reference OTU clustering if:\n",
    "\n",
    "*  You do not have a reference sequence collection to cluster against, for example because you're working with an infrequently used marker gene.\n",
    "\n",
    "Pros:\n",
    "\n",
    "*  Speed. Closed-reference OTU clustering is fully parallelizable, so is useful for extremely large data sets.\n",
    "*  Better trees and taxonomy. Because all OTUs are already defined in your reference sequence collection, you may already have a tree and a taxonomy that you trust for those OTUs. You have the option of using those, or building a tree and taxonomy from your sequence data.\n",
    "\n",
    "Cons:\n",
    "\n",
    "*  Inability to detect novel diversity with respect to your reference sequence collection. Because reads that don't hit the reference sequence collection are discarded, your subsequent analyses can only focus on the diversity that you \"already know about\". Depending on how well-characterized the environment that you're working in is, you may end up throwing away a small fraction of your reads (e.g., discarding 1-10% of the reads is common for 16S-based human microbiome studies, where databases like Greengenes cover most of the organisms that are typically present) or a large fraction of your reads (e.g, discarding 50-80% of the reads has been observed for \"unusual\" environments like [the Guerrero Negro microbial mats](http://www.ncbi.nlm.nih.gov/pubmed/22832344)). \n",
    "\n",
    "Open-reference OTU clustering\n",
    "-----------------------------\n",
    "\n",
    "In an open-reference OTU clustering process, reads are clustered against a reference sequence collection and any reads which do not hit the reference sequence collection are subsequently clustered de novo.\n",
    "\n",
    "You **cannot** use open-reference OTU clustering if:\n",
    "\n",
    "*  You are comparing non-overlapping loci, such as the V2 and the V4 regions of the 16S rRNA.\n",
    "*  You do not have a reference sequence collection to cluster against, for example because you're working with an infrequently used marker gene.\n",
    "\n",
    "Pros:\n",
    "\n",
    "*  All reads are clustered.\n",
    "*  Speed. Open-reference OTU clustering can partially run in parallel.\n",
    "\n",
    "Cons:\n",
    "\n",
    "*  Speed. Some steps of this protocol do still run serially. For data sets with a lot of novel diversity with respect to the reference sequence collection, this can still take days to run.\n",
    "\n",
    "OTU clustering in QIIME\n",
    "-----------------------\n",
    "\n",
    "The [QIIME](www.qiime.org) software package implements these three OTU clustering methods, with some variations on the underlying clustering algorithms that are applied for each. The [QIIME OTU picking tutorial](http://qiime.org/tutorials/otu_picking.html), which this section of this chapter was derived from, covers how to access these different methods.\n"
   ]
  }
 ],
 "metadata": {
  "kernelspec": {
   "display_name": "Python 2",
   "language": "python",
   "name": "python2"
  },
  "language_info": {
   "codemirror_mode": {
    "name": "ipython",
    "version": 2
   },
   "file_extension": ".py",
   "mimetype": "text/x-python",
   "name": "python",
   "nbconvert_exporter": "python",
   "pygments_lexer": "ipython2",
   "version": "2.7.5"
  }
 },
 "nbformat": 4,
 "nbformat_minor": 0
}
