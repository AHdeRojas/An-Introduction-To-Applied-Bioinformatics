{
 "cells": [
  {
   "cell_type": "markdown",
   "metadata": {},
   "source": [
    "# Pairwise sequence alignment\n",
    "\n",
    "One of the most fundamental problems in bioinformatics is determining how \"similar\" a pair of biological sequences are. There are many applications for this, including inferring the function or source organism of an unknown gene sequence, developing hypotheses about the relatedness of organisms, or grouping sequences from closely related organisms. On the surface this seems like a pretty straight-forward problem, not one that would have been at the center of decades of research and the subject of [one of the most cited papers](http://scholar.google.com/citations?view_op=view_citation&hl=en&user=VRccPlQAAAAJ&citation_for_view=VRccPlQAAAAJ:u-x6o8ySG0sC) in modern biology. In this chapter we'll explore why determining sequence similarity is harder than it might initially seem, and learn about *pairwise sequence alignment*, the standard approach for determining sequence similarity.\n",
    "\n",
    "Imagine you have three sequences - call them ``r1``and ``r2`` (*r* is for *reference*) and ``q1`` (*q* is for *query*) - and you want to know whether ``q1`` is more similar to ``r1`` or ``r2``. On the surface, it seems like you could just count the number of positions where they differ (i.e., compute the [Hamming distance](http://en.wikipedia.org/wiki/Hamming_distance) between them) to figure this out. Here's what this would look like."
   ]
  },
  {
   "cell_type": "code",
   "execution_count": 1,
   "metadata": {
    "collapsed": false
   },
   "outputs": [
    {
     "name": "stdout",
     "output_type": "stream",
     "text": [
      "Populating the interactive namespace from numpy and matplotlib\n"
     ]
    }
   ],
   "source": [
    "%pylab inline\n",
    "from __future__ import division, print_function\n",
    "\n",
    "from IPython.core import page\n",
    "page.page = print"
   ]
  },
  {
   "cell_type": "code",
   "execution_count": 2,
   "metadata": {
    "collapsed": false
   },
   "outputs": [
    {
     "name": "stdout",
     "output_type": "stream",
     "text": [
      "\u001b[1;32mdef\u001b[0m \u001b[0mhamming\u001b[0m\u001b[1;33m(\u001b[0m\u001b[0mu\u001b[0m\u001b[1;33m,\u001b[0m \u001b[0mv\u001b[0m\u001b[1;33m)\u001b[0m\u001b[1;33m:\u001b[0m\u001b[1;33m\u001b[0m\n",
      "\u001b[1;33m\u001b[0m    \u001b[1;34m\"\"\"\u001b[0m\n",
      "\u001b[1;34m    Computes the Hamming distance between two 1-D arrays.\u001b[0m\n",
      "\u001b[1;34m\u001b[0m\n",
      "\u001b[1;34m    The Hamming distance between 1-D arrays `u` and `v`, is simply the\u001b[0m\n",
      "\u001b[1;34m    proportion of disagreeing components in `u` and `v`. If `u` and `v` are\u001b[0m\n",
      "\u001b[1;34m    boolean vectors, the Hamming distance is\u001b[0m\n",
      "\u001b[1;34m\u001b[0m\n",
      "\u001b[1;34m    .. math::\u001b[0m\n",
      "\u001b[1;34m\u001b[0m\n",
      "\u001b[1;34m       \\\\frac{c_{01} + c_{10}}{n}\u001b[0m\n",
      "\u001b[1;34m\u001b[0m\n",
      "\u001b[1;34m    where :math:`c_{ij}` is the number of occurrences of\u001b[0m\n",
      "\u001b[1;34m    :math:`\\\\mathtt{u[k]} = i` and :math:`\\\\mathtt{v[k]} = j` for\u001b[0m\n",
      "\u001b[1;34m    :math:`k < n`.\u001b[0m\n",
      "\u001b[1;34m\u001b[0m\n",
      "\u001b[1;34m    Parameters\u001b[0m\n",
      "\u001b[1;34m    ----------\u001b[0m\n",
      "\u001b[1;34m    u : (N,) array_like\u001b[0m\n",
      "\u001b[1;34m        Input array.\u001b[0m\n",
      "\u001b[1;34m    v : (N,) array_like\u001b[0m\n",
      "\u001b[1;34m        Input array.\u001b[0m\n",
      "\u001b[1;34m\u001b[0m\n",
      "\u001b[1;34m    Returns\u001b[0m\n",
      "\u001b[1;34m    -------\u001b[0m\n",
      "\u001b[1;34m    hamming : double\u001b[0m\n",
      "\u001b[1;34m        The Hamming distance between vectors `u` and `v`.\u001b[0m\n",
      "\u001b[1;34m\u001b[0m\n",
      "\u001b[1;34m    \"\"\"\u001b[0m\u001b[1;33m\u001b[0m\n",
      "\u001b[1;33m\u001b[0m    \u001b[0mu\u001b[0m \u001b[1;33m=\u001b[0m \u001b[0m_validate_vector\u001b[0m\u001b[1;33m(\u001b[0m\u001b[0mu\u001b[0m\u001b[1;33m)\u001b[0m\u001b[1;33m\u001b[0m\n",
      "\u001b[1;33m\u001b[0m    \u001b[0mv\u001b[0m \u001b[1;33m=\u001b[0m \u001b[0m_validate_vector\u001b[0m\u001b[1;33m(\u001b[0m\u001b[0mv\u001b[0m\u001b[1;33m)\u001b[0m\u001b[1;33m\u001b[0m\n",
      "\u001b[1;33m\u001b[0m    \u001b[1;32mreturn\u001b[0m \u001b[1;33m(\u001b[0m\u001b[0mu\u001b[0m \u001b[1;33m!=\u001b[0m \u001b[0mv\u001b[0m\u001b[1;33m)\u001b[0m\u001b[1;33m.\u001b[0m\u001b[0mmean\u001b[0m\u001b[1;33m(\u001b[0m\u001b[1;33m)\u001b[0m\u001b[1;33m\u001b[0m\u001b[0m\n",
      "\n"
     ]
    }
   ],
   "source": [
    "from scipy.spatial.distance import hamming\n",
    "from skbio import DNA\n",
    "\n",
    "r1 = DNA(\"ACCCAGGTTAACGGTGACCAGGTACCAGAAGGGTACCAGGTAGGACACACGGGGATTAA\")\n",
    "r2 = DNA(\"ACCGAGGTTAACGGTGACCAGGTACCAGAAGGGTACCAGGTAGGAGACACGGCGATTAA\")\n",
    "q1 = DNA(\"TTCCAGGTAAACGGTGACCAGGTACCAGTTGCGTTTGTTGTAGGAGACACGGGGACCCA\")\n",
    "\n",
    "%psource hamming"
   ]
  },
  {
   "cell_type": "code",
   "execution_count": 3,
   "metadata": {
    "collapsed": false
   },
   "outputs": [
    {
     "name": "stdout",
     "output_type": "stream",
     "text": [
      "0.254237288136\n",
      "0.271186440678\n"
     ]
    }
   ],
   "source": [
    "print(hamming(r1, q1))\n",
    "print(hamming(r2, q1))"
   ]
  },
  {
   "cell_type": "markdown",
   "metadata": {},
   "source": [
    "In this case, ``q1`` has a smaller distance to ``r1`` than it does to ``r2``, so ``q1`` is more similar to ``r1`` than ``r2``. But it's not always that simple. \n",
    "\n",
    "Here we've assuming that only *substitution events* have occurred, meaning the substitution of one DNA base with another. Let's define ``q2``, which is the same as ``q1`` except that a single base has been deleted at the beginning of the sequence, and a single base has been added at the end of the sequence. (Note: it's required that if we have a deletion we also have an insertion, because ``hamming`` is only defined for sequences of equal length.)"
   ]
  },
  {
   "cell_type": "code",
   "execution_count": 4,
   "metadata": {
    "collapsed": false
   },
   "outputs": [
    {
     "name": "stdout",
     "output_type": "stream",
     "text": [
      "0.728813559322\n"
     ]
    }
   ],
   "source": [
    "q2 = DNA(\"TCCAGGTAAACGGTGACCAGGTACCAGTTGCGTTTGTTGTAGGAGACACGGGGACCCAT\")\n",
    "print(hamming(r1, q2))"
   ]
  },
  {
   "cell_type": "markdown",
   "metadata": {},
   "source": [
    "This change had a big effect on the distance between the two sequences. If this is a protein coding sequence, maybe that's reasonable, but given what we know about how biological sequences evolve this doesn't seem biologically justified. In this case, it seems that an insertion or deletion (i.e., an **indel**) event has shifted one sequence relative to the other, which resulted in many of the bases \"downstream\" of the indel being different. \n",
    "\n",
    "What we'd really want to do is have a way to indicate that an indel seems to have occurred in ``q2``. Let's define ``q3``, where we use a ``-`` character to indicate a deletion with respect to ``r1``. This results in what seems like a more reasonable distance between the two sequences:"
   ]
  },
  {
   "cell_type": "code",
   "execution_count": 5,
   "metadata": {
    "collapsed": false
   },
   "outputs": [
    {
     "name": "stdout",
     "output_type": "stream",
     "text": [
      "0.254237288136\n"
     ]
    }
   ],
   "source": [
    "q3 = DNA(\"-TCCAGGTAAACGGTGACCAGGTACCAGTTGCGTTTGTTGTAGGAGACACGGGGACCCA\")\n",
    "print(hamming(r1, q3))"
   ]
  },
  {
   "cell_type": "markdown",
   "metadata": {},
   "source": [
    "What we've done here is create a pairwise alignment of ``r1`` and ``q3``. In other words, we've **aligned** the positions that we hypothesize were derived from the same position in some ancestral sequence. The *alignment* is clear if we print these two sequence out one on top of the other:"
   ]
  },
  {
   "cell_type": "code",
   "execution_count": 6,
   "metadata": {
    "collapsed": false
   },
   "outputs": [
    {
     "name": "stdout",
     "output_type": "stream",
     "text": [
      "ACCCAGGTTAACGGTGACCAGGTACCAGAAGGGTACCAGGTAGGACACACGGGGATTAA\n",
      "-TCCAGGTAAACGGTGACCAGGTACCAGTTGCGTTTGTTGTAGGAGACACGGGGACCCA\n"
     ]
    }
   ],
   "source": [
    "print(r1)\n",
    "print(q3)"
   ]
  },
  {
   "cell_type": "markdown",
   "metadata": {},
   "source": [
    "Scanning through these two sequences, we can see that they are largely identical, with the exception of one ``-`` character, and about 25% *substitutions* of one base for another. We refer to ``-`` characters in aligned sequences as **gaps**."
   ]
  },
  {
   "cell_type": "markdown",
   "metadata": {},
   "source": [
    "## The problem\n",
    "\n",
    "The problem of **pairwise sequence alignment** is, **given two sequences, generate a hypothesis about which bases were derived from a common ancestor**. In other words, we align them to one another inserting gaps as necessary, in a way that maximizes their similarity. \n",
    "\n",
    "Sequence alignment is tricky for several reasons:\n",
    " * Because of insertion/deletion mutations, it's not always clear which bases or amino acid residues are derived from the same common ancestral base or amino acid residue.\n",
    " * As sequences get long, there may be many possible ways to align them. We need to figure out which of those alignments is the best hypothesis in light of what we know about the (very messy) underlying biological systems.\n",
    " * As sequences are more distantly related, there are fewer identical stretches of bases or amino acid residues, making it harder to determine what the most biologically relevant alignment is.\n",
    " * When the sequences get very long, sequence alignment becomes a very computationally expensive problem.\n",
    "\n",
    "In the next section we'll work through one algorithm for aligning a pair of sequences. As you work through this exercise, try to make a list of the assumptions that we're making that violate what you know about how sequences evolve. "
   ]
  },
  {
   "cell_type": "markdown",
   "metadata": {},
   "source": [
    "## A simple procedure for aligning a pair of sequences"
   ]
  },
  {
   "cell_type": "markdown",
   "metadata": {},
   "source": [
    "Aligning ``seq1`` and ``seq2`` can be achieved algorithmically in a few steps. First, let's define the sequences that we want to align."
   ]
  },
  {
   "cell_type": "code",
   "execution_count": 7,
   "metadata": {
    "collapsed": false
   },
   "outputs": [],
   "source": [
    "seq1 = \"ACCGGTGGAACCGGTAACACCCAC\"\n",
    "seq2 = \"ACCGGTAACCGGTTAACACCCAC\""
   ]
  },
  {
   "cell_type": "markdown",
   "metadata": {},
   "source": [
    "I'm going to use a function in the following cells called ``format_matrix`` to display the alignment. Once an object has been imported, you can always view the source code for that function. This will be useful as we begin to explore some of the algorithms that are in use throughout these notebooks. \n",
    "\n",
    "For example:"
   ]
  },
  {
   "cell_type": "code",
   "execution_count": 8,
   "metadata": {
    "collapsed": false
   },
   "outputs": [],
   "source": [
    "from iab.algorithms import format_matrix"
   ]
  },
  {
   "cell_type": "code",
   "execution_count": 9,
   "metadata": {
    "collapsed": false
   },
   "outputs": [
    {
     "name": "stdout",
     "output_type": "stream",
     "text": [
      "\u001b[1;32mdef\u001b[0m \u001b[0mformat_matrix\u001b[0m\u001b[1;33m(\u001b[0m\u001b[0mrow_headers\u001b[0m\u001b[1;33m,\u001b[0m \u001b[0mcol_headers\u001b[0m\u001b[1;33m,\u001b[0m \u001b[0mdata\u001b[0m\u001b[1;33m,\u001b[0m \u001b[0mhide_zeros\u001b[0m\u001b[1;33m=\u001b[0m\u001b[1;32mFalse\u001b[0m\u001b[1;33m,\u001b[0m \u001b[0mcell_width\u001b[0m\u001b[1;33m=\u001b[0m\u001b[1;36m3\u001b[0m\u001b[1;33m)\u001b[0m\u001b[1;33m:\u001b[0m\u001b[1;33m\u001b[0m\n",
      "\u001b[1;33m\u001b[0m    \u001b[0mresult\u001b[0m \u001b[1;33m=\u001b[0m \u001b[1;33m[\u001b[0m\u001b[1;33m]\u001b[0m\u001b[1;33m\u001b[0m\n",
      "\u001b[1;33m\u001b[0m    \u001b[0mcell_format\u001b[0m \u001b[1;33m=\u001b[0m \u001b[1;34m\"%\"\u001b[0m \u001b[1;33m+\u001b[0m \u001b[0mstr\u001b[0m\u001b[1;33m(\u001b[0m\u001b[0mcell_width\u001b[0m\u001b[1;33m)\u001b[0m \u001b[1;33m+\u001b[0m \u001b[1;34m\"s\"\u001b[0m\u001b[1;33m\u001b[0m\n",
      "\u001b[1;33m\u001b[0m    \u001b[0mline_format\u001b[0m \u001b[1;33m=\u001b[0m \u001b[0mcell_format\u001b[0m \u001b[1;33m*\u001b[0m \u001b[1;33m(\u001b[0m\u001b[0mlen\u001b[0m\u001b[1;33m(\u001b[0m\u001b[0mrow_headers\u001b[0m\u001b[1;33m)\u001b[0m \u001b[1;33m+\u001b[0m \u001b[1;36m1\u001b[0m\u001b[1;33m)\u001b[0m\u001b[1;33m\u001b[0m\n",
      "\u001b[1;33m\u001b[0m\u001b[1;33m\u001b[0m\n",
      "\u001b[1;33m\u001b[0m    \u001b[1;31m# print a header row\u001b[0m\u001b[1;33m\u001b[0m\n",
      "\u001b[1;33m\u001b[0m    \u001b[0mresult\u001b[0m\u001b[1;33m.\u001b[0m\u001b[0mappend\u001b[0m\u001b[1;33m(\u001b[0m\u001b[0mline_format\u001b[0m \u001b[1;33m%\u001b[0m \u001b[0mtuple\u001b[0m\u001b[1;33m(\u001b[0m\u001b[1;33m[\u001b[0m\u001b[1;34m' '\u001b[0m\u001b[1;33m]\u001b[0m \u001b[1;33m+\u001b[0m \u001b[0mlist\u001b[0m\u001b[1;33m(\u001b[0m\u001b[0mrow_headers\u001b[0m\u001b[1;33m)\u001b[0m\u001b[1;33m)\u001b[0m\u001b[1;33m)\u001b[0m\u001b[1;33m\u001b[0m\n",
      "\u001b[1;33m\u001b[0m\u001b[1;33m\u001b[0m\n",
      "\u001b[1;33m\u001b[0m    \u001b[1;31m# print the data rows\u001b[0m\u001b[1;33m\u001b[0m\n",
      "\u001b[1;33m\u001b[0m    \u001b[1;32mfor\u001b[0m \u001b[0mb2\u001b[0m\u001b[1;33m,\u001b[0m \u001b[0mrow\u001b[0m \u001b[1;32min\u001b[0m \u001b[0mzip\u001b[0m\u001b[1;33m(\u001b[0m\u001b[0mcol_headers\u001b[0m\u001b[1;33m,\u001b[0m\u001b[0mdata\u001b[0m\u001b[1;33m)\u001b[0m\u001b[1;33m:\u001b[0m\u001b[1;33m\u001b[0m\n",
      "\u001b[1;33m\u001b[0m        \u001b[1;32mif\u001b[0m \u001b[0mhide_zeros\u001b[0m\u001b[1;33m:\u001b[0m\u001b[1;33m\u001b[0m\n",
      "\u001b[1;33m\u001b[0m            \u001b[0mdisplay_row\u001b[0m \u001b[1;33m=\u001b[0m \u001b[1;33m[\u001b[0m\u001b[1;33m]\u001b[0m\u001b[1;33m\u001b[0m\n",
      "\u001b[1;33m\u001b[0m            \u001b[1;32mfor\u001b[0m \u001b[0mv\u001b[0m \u001b[1;32min\u001b[0m \u001b[0mrow\u001b[0m\u001b[1;33m:\u001b[0m\u001b[1;33m\u001b[0m\n",
      "\u001b[1;33m\u001b[0m                \u001b[1;32mif\u001b[0m \u001b[0mv\u001b[0m \u001b[1;33m==\u001b[0m \u001b[1;36m0\u001b[0m\u001b[1;33m:\u001b[0m\u001b[1;33m\u001b[0m\n",
      "\u001b[1;33m\u001b[0m                    \u001b[0mdisplay_row\u001b[0m\u001b[1;33m.\u001b[0m\u001b[0mappend\u001b[0m\u001b[1;33m(\u001b[0m\u001b[1;34m''\u001b[0m\u001b[1;33m)\u001b[0m\u001b[1;33m\u001b[0m\n",
      "\u001b[1;33m\u001b[0m                \u001b[1;32melse\u001b[0m\u001b[1;33m:\u001b[0m\u001b[1;33m\u001b[0m\n",
      "\u001b[1;33m\u001b[0m                    \u001b[0mdisplay_row\u001b[0m\u001b[1;33m.\u001b[0m\u001b[0mappend\u001b[0m\u001b[1;33m(\u001b[0m\u001b[0mv\u001b[0m\u001b[1;33m)\u001b[0m\u001b[1;33m\u001b[0m\n",
      "\u001b[1;33m\u001b[0m        \u001b[1;32melse\u001b[0m\u001b[1;33m:\u001b[0m\u001b[1;33m\u001b[0m\n",
      "\u001b[1;33m\u001b[0m            \u001b[0mdisplay_row\u001b[0m \u001b[1;33m=\u001b[0m \u001b[0mrow\u001b[0m\u001b[1;33m\u001b[0m\n",
      "\u001b[1;33m\u001b[0m        \u001b[0mresult\u001b[0m\u001b[1;33m.\u001b[0m\u001b[0mappend\u001b[0m\u001b[1;33m(\u001b[0m\u001b[0mline_format\u001b[0m \u001b[1;33m%\u001b[0m \u001b[0mtuple\u001b[0m\u001b[1;33m(\u001b[0m\u001b[1;33m[\u001b[0m\u001b[0mb2\u001b[0m\u001b[1;33m]\u001b[0m \u001b[1;33m+\u001b[0m \u001b[0mdisplay_row\u001b[0m\u001b[1;33m)\u001b[0m\u001b[1;33m)\u001b[0m\u001b[1;33m\u001b[0m\n",
      "\u001b[1;33m\u001b[0m\u001b[1;33m\u001b[0m\n",
      "\u001b[1;33m\u001b[0m    \u001b[1;32mreturn\u001b[0m \u001b[1;34m'\\n'\u001b[0m\u001b[1;33m.\u001b[0m\u001b[0mjoin\u001b[0m\u001b[1;33m(\u001b[0m\u001b[0mresult\u001b[0m\u001b[1;33m)\u001b[0m\u001b[1;33m\u001b[0m\u001b[0m\n",
      "\n"
     ]
    }
   ],
   "source": [
    "%psource format_matrix"
   ]
  },
  {
   "cell_type": "markdown",
   "metadata": {},
   "source": [
    "Now let's look at how to align these sequences.\n",
    "\n",
    "**Step 1.** Create a matrix, where the columns represent the positions in ``seq1`` and the rows represent the positions in ``seq2``. "
   ]
  },
  {
   "cell_type": "code",
   "execution_count": 10,
   "metadata": {
    "collapsed": false
   },
   "outputs": [
    {
     "name": "stdout",
     "output_type": "stream",
     "text": [
      "     A  C  C  G  G  T  G  G  A  A  C  C  G  G  T  A  A  C  A  C  C  C  A  C\n",
      "  A  -  -  -  -  -  -  -  -  -  -  -  -  -  -  -  -  -  -  -  -  -  -  -  -\n",
      "  C  -  -  -  -  -  -  -  -  -  -  -  -  -  -  -  -  -  -  -  -  -  -  -  -\n",
      "  C  -  -  -  -  -  -  -  -  -  -  -  -  -  -  -  -  -  -  -  -  -  -  -  -\n",
      "  G  -  -  -  -  -  -  -  -  -  -  -  -  -  -  -  -  -  -  -  -  -  -  -  -\n",
      "  G  -  -  -  -  -  -  -  -  -  -  -  -  -  -  -  -  -  -  -  -  -  -  -  -\n",
      "  T  -  -  -  -  -  -  -  -  -  -  -  -  -  -  -  -  -  -  -  -  -  -  -  -\n",
      "  A  -  -  -  -  -  -  -  -  -  -  -  -  -  -  -  -  -  -  -  -  -  -  -  -\n",
      "  A  -  -  -  -  -  -  -  -  -  -  -  -  -  -  -  -  -  -  -  -  -  -  -  -\n",
      "  C  -  -  -  -  -  -  -  -  -  -  -  -  -  -  -  -  -  -  -  -  -  -  -  -\n",
      "  C  -  -  -  -  -  -  -  -  -  -  -  -  -  -  -  -  -  -  -  -  -  -  -  -\n",
      "  G  -  -  -  -  -  -  -  -  -  -  -  -  -  -  -  -  -  -  -  -  -  -  -  -\n",
      "  G  -  -  -  -  -  -  -  -  -  -  -  -  -  -  -  -  -  -  -  -  -  -  -  -\n",
      "  T  -  -  -  -  -  -  -  -  -  -  -  -  -  -  -  -  -  -  -  -  -  -  -  -\n",
      "  T  -  -  -  -  -  -  -  -  -  -  -  -  -  -  -  -  -  -  -  -  -  -  -  -\n",
      "  A  -  -  -  -  -  -  -  -  -  -  -  -  -  -  -  -  -  -  -  -  -  -  -  -\n",
      "  A  -  -  -  -  -  -  -  -  -  -  -  -  -  -  -  -  -  -  -  -  -  -  -  -\n",
      "  C  -  -  -  -  -  -  -  -  -  -  -  -  -  -  -  -  -  -  -  -  -  -  -  -\n",
      "  A  -  -  -  -  -  -  -  -  -  -  -  -  -  -  -  -  -  -  -  -  -  -  -  -\n",
      "  C  -  -  -  -  -  -  -  -  -  -  -  -  -  -  -  -  -  -  -  -  -  -  -  -\n",
      "  C  -  -  -  -  -  -  -  -  -  -  -  -  -  -  -  -  -  -  -  -  -  -  -  -\n",
      "  C  -  -  -  -  -  -  -  -  -  -  -  -  -  -  -  -  -  -  -  -  -  -  -  -\n",
      "  A  -  -  -  -  -  -  -  -  -  -  -  -  -  -  -  -  -  -  -  -  -  -  -  -\n",
      "  C  -  -  -  -  -  -  -  -  -  -  -  -  -  -  -  -  -  -  -  -  -  -  -  -\n"
     ]
    }
   ],
   "source": [
    "data = []\n",
    "for p in seq2:\n",
    "    data.append(['-']*len(seq1))\n",
    "\n",
    "print(format_matrix(seq1, seq2, data))"
   ]
  },
  {
   "cell_type": "markdown",
   "metadata": {},
   "source": [
    "**Step 2.** Score the cells where the row value is equal to the column value as ``1``, and the others as ``0``. "
   ]
  },
  {
   "cell_type": "code",
   "execution_count": 11,
   "metadata": {
    "collapsed": false
   },
   "outputs": [
    {
     "name": "stdout",
     "output_type": "stream",
     "text": [
      "     A  C  C  G  G  T  G  G  A  A  C  C  G  G  T  A  A  C  A  C  C  C  A  C\n",
      "  A  1                       1  1                 1  1     1           1   \n",
      "  C     1  1                       1  1                 1     1  1  1     1\n",
      "  C     1  1                       1  1                 1     1  1  1     1\n",
      "  G           1  1     1  1              1  1                              \n",
      "  G           1  1     1  1              1  1                              \n",
      "  T                 1                          1                           \n",
      "  A  1                       1  1                 1  1     1           1   \n",
      "  A  1                       1  1                 1  1     1           1   \n",
      "  C     1  1                       1  1                 1     1  1  1     1\n",
      "  C     1  1                       1  1                 1     1  1  1     1\n",
      "  G           1  1     1  1              1  1                              \n",
      "  G           1  1     1  1              1  1                              \n",
      "  T                 1                          1                           \n",
      "  T                 1                          1                           \n",
      "  A  1                       1  1                 1  1     1           1   \n",
      "  A  1                       1  1                 1  1     1           1   \n",
      "  C     1  1                       1  1                 1     1  1  1     1\n",
      "  A  1                       1  1                 1  1     1           1   \n",
      "  C     1  1                       1  1                 1     1  1  1     1\n",
      "  C     1  1                       1  1                 1     1  1  1     1\n",
      "  C     1  1                       1  1                 1     1  1  1     1\n",
      "  A  1                       1  1                 1  1     1           1   \n",
      "  C     1  1                       1  1                 1     1  1  1     1\n"
     ]
    }
   ],
   "source": [
    "data = []\n",
    "for b2 in seq2:\n",
    "    row = []\n",
    "    for b1 in seq1:\n",
    "        if b1 == b2:\n",
    "            row.append(1)\n",
    "        else:\n",
    "            row.append(0)\n",
    "    data.append(row)\n",
    "        \n",
    "print(format_matrix(seq1, seq2, data, hide_zeros=True))"
   ]
  },
  {
   "cell_type": "markdown",
   "metadata": {},
   "source": [
    "**Step 3**: Identify the “high-scoring” or contiguous diagonals. You can score each diagonal by summing the values in each cell."
   ]
  },
  {
   "cell_type": "code",
   "execution_count": 12,
   "metadata": {
    "collapsed": false
   },
   "outputs": [
    {
     "name": "stdout",
     "output_type": "stream",
     "text": [
      "     A  C  C  G  G  T  G  G  A  A  C  C  G  G  T  A  A  C  A  C  C  C  A  C\n",
      "  A  1                       1  1                 1  1     1           1   \n",
      "  C     2  1                       2  1                 2     2  1  1     2\n",
      "  C     1  3                       1  3                 1     1  3  2     1\n",
      "  G           4  1     1  1              4  1                              \n",
      "  G           1  5     1  2              1  5                              \n",
      "  T                 6                          6                           \n",
      "  A  1                       1  1                 7  1     1           1   \n",
      "  A  1                       1  2                 1  8     1           1   \n",
      "  C     2  1                       3  1                 9     2  1  1     2\n",
      "  C     1  3                       1  4                 1     1  3  2     1\n",
      "  G           4  1     1  1              5  1                              \n",
      "  G           1  5     1  2              1  6                              \n",
      "  T                 6                          7                           \n",
      "  T                 1                          1                           \n",
      "  A  1                       1  1                 2  1     1           1   \n",
      "  A  1                       1  2                 1  3     1           1   \n",
      "  C     2  1                       3  1                 4     2  1  1     2\n",
      "  A  1                       1  1                 1  1     5           2   \n",
      "  C     2  1                       2  1                 2     6  1  1     3\n",
      "  C     1  3                       1  3                 1     1  7  2     1\n",
      "  C     1  2                       1  2                 1     1  2  8     1\n",
      "  A  1                       1  1                 1  1     2           9   \n",
      "  C     2  1                       2  1                 2     3  1  1    10\n"
     ]
    }
   ],
   "source": [
    "line_format = \"%3s\" * (len(seq1) + 1)\n",
    "scored_data = []\n",
    "for i, drow in enumerate(data):\n",
    "    row = []\n",
    "    for j, value in enumerate(drow):\n",
    "        if value > 0:\n",
    "            if i == 0 or j == 0:\n",
    "                row.append(value)\n",
    "            else:\n",
    "                row.append(value + scored_data[i-1][j-1])\n",
    "        else:\n",
    "            row.append(0)\n",
    "    scored_data.append(row)\n",
    "        \n",
    "print(format_matrix(seq1, seq2, scored_data, hide_zeros=True))"
   ]
  },
  {
   "cell_type": "markdown",
   "metadata": {},
   "source": [
    "**Step 4**: Transcribe and score alignments including gaps (subtract one for every non-diagonal cell).\n",
    "\n",
    "You can now identify the highest scoring contiguous alignments – but notice that this only represents a portion of the full sequences, and there are other regions that are apparently homologous (as evidenced by high alignment scores).\n",
    "\n",
    "To transcribe a gapped alignment, add a gap character in the first (horizontal) sequence for each vertical line in the matrix, and a gap character in the second (vertical) sequence for each horizontal line in the matrix.\n",
    "\n",
    "``ACCGGTGGAACCGG-TAACACCCAC``\n",
    "\n",
    "``ACCGGT--AACCGGTTAACACCCAC``\n",
    "\n",
    "Alignment score: 19\n",
    "\n",
    "\n",
    "``ACCGGTGGAACCGGTAACACCCAC``\n",
    "\n",
    "``ACCGGT--------TAACACCCAC``\n",
    "\n",
    "Alignment score: 8\n",
    "\n",
    "**Remember that an alignment represents a hypothesis about the evolutionary history of a sequence.  Which of these hypotheses do you think is more likely to be true based on what you know about sequence evolution?**\n",
    "\n",
    "**As an exercise**, scroll back to where we defined `seq1` and `seq2` and redefine one or both of those as other sequences. Execute that cell, and the one up to the previous cell, and transcribe the highest scoring alignment. "
   ]
  },
  {
   "cell_type": "markdown",
   "metadata": {},
   "source": [
    "**Complexities**: why this simple procedure is too simple\n",
    "\n",
    "1. We’re scoring all matches as 1 and all mismatches as 0. This suggests that all substitutions are treated equally. What’s a more biologically meaningful way to do this (e.g., in protein alignments)?\n",
    "\n",
    "2. Similarly, every gap that is introduced results in the same penalty being incurred. Based on what we know about how insertion/deletion events occur, it likely makes more sense to score *opening a new gap* differently from *extending an existing gap*.\n",
    "\n",
    "3. When searching a novel sequence against a database, you may have billions of bases to search against (which would correspond to billions of columns in these matrices). How can this be done efficiently? How can you determine if a hit is statistically meaningful or the result of chance?\n",
    "\n",
    "All scoring schemes have limitations, and you should consider alignments that come back from systems such as BLAST as hypotheses. You still need to do your due diligence to decide if you agree with the result that a computational system gives you. They are there to help you do your work, but their answers are based on models and the models are not perfect. Be skeptical!\n",
    "\n",
    "Over the next several sections we'll explore ways of addressing each of these complexities. This notebook covers solutions to address the first and second. We'll introduce the problem of the third in this notebook, but save exploring solutions for the next chapter."
   ]
  },
  {
   "cell_type": "markdown",
   "metadata": {},
   "source": [
    "## Substitution matrices"
   ]
  },
  {
   "cell_type": "markdown",
   "metadata": {},
   "source": [
    "The first of the limitations we identified above was that all matches and mismatches are scored equally, though we know that that isn't the most biologically meaningful way to score an alignment. We'll next explore a more general approach to the problem of *global sequence alignment* for protein sequences, or aligning a pair of protein sequences from beginning to end. We'll start by defining a **substitution matrix which defines the score associated with substitution of one amino acid for another**.  \n",
    "\n",
    "Early work on defining protein substitution matrices was performed by Dayhoff in the 1970s and by Henikoff and Henikoff in the early 1990s. We'll start by working with a substitution matrix known as the blosum 50 matrix, which was [presented in PNAS in 1992](http://www.ncbi.nlm.nih.gov/pmc/articles/PMC50453/). Briefly, these matrices are defined empirically, by aligning sequences manually or through automated systems, and counting how frequent certain substitutions are. There is a good [wikipedia article on this topic](http://en.wikipedia.org/wiki/BLOSUM). \n",
    "\n",
    "We can import this from the ``iab`` support module, and then look up scores for substitutios of amino acids. Based on these scores and the biochemistry of the amino acids ([see the molecular structures on Wikipedia](http://en.wikipedia.org/wiki/Amino_acid)), does a positive score represent a more or less favorable substitution? "
   ]
  },
  {
   "cell_type": "code",
   "execution_count": 13,
   "metadata": {
    "collapsed": false
   },
   "outputs": [
    {
     "name": "stdout",
     "output_type": "stream",
     "text": [
      "0\n",
      "0\n",
      "-3\n",
      "5\n",
      "15\n"
     ]
    }
   ],
   "source": [
    "from iab.algorithms import blosum50\n",
    "\n",
    "print(blosum50['A']['G'])\n",
    "print(blosum50['G']['A'])\n",
    "\n",
    "print(blosum50['W']['K'])\n",
    "\n",
    "print(blosum50['A']['A'])\n",
    "print(blosum50['W']['W'])"
   ]
  },
  {
   "cell_type": "markdown",
   "metadata": {},
   "source": [
    "Here's a global view of the matrix."
   ]
  },
  {
   "cell_type": "code",
   "execution_count": 14,
   "metadata": {
    "collapsed": false
   },
   "outputs": [
    {
     "name": "stdout",
     "output_type": "stream",
     "text": [
      "     A  C  D  E  F  G  H  I  K  L  M  N  P  Q  R  S  T  V  W  Y\n",
      "  A  5 -1 -2 -1 -3  0 -2 -1 -1 -2 -1 -1 -1 -1 -2  1  0  0 -3 -2\n",
      "  C -1 13 -4 -3 -2 -3 -3 -2 -3 -2 -2 -2 -4 -3 -4 -1 -1 -1 -5 -3\n",
      "  D -2 -4  8  2 -5 -1 -1 -4 -1 -4 -4  2 -1  0 -2  0 -1 -4 -5 -3\n",
      "  E -1 -3  2  6 -3 -3  0 -4  1 -3 -2  0 -1  2  0 -1 -1 -3 -3 -2\n",
      "  F -3 -2 -5 -3  8 -4 -1  0 -4  1  0 -4 -4 -4 -3 -3 -2 -1  1  4\n",
      "  G  0 -3 -1 -3 -4  8 -2 -4 -2 -4 -3  0 -2 -2 -3  0 -2 -4 -3 -3\n",
      "  H -2 -3 -1  0 -1 -2 10 -4  0 -3 -1  1 -2  1  0 -1 -2 -4 -3  2\n",
      "  I -1 -2 -4 -4  0 -4 -4  5 -3  2  2 -3 -3 -3 -4 -3 -1  4 -3 -1\n",
      "  K -1 -3 -1  1 -4 -2  0 -3  6 -3 -2  0 -1  2  3  0 -1 -3 -3 -2\n",
      "  L -2 -2 -4 -3  1 -4 -3  2 -3  5  3 -4 -4 -2 -3 -3 -1  1 -2 -1\n",
      "  M -1 -2 -4 -2  0 -3 -1  2 -2  3  7 -2 -3  0 -2 -2 -1  1 -1  0\n",
      "  N -1 -2  2  0 -4  0  1 -3  0 -4 -2  7 -2  0 -1  1  0 -3 -4 -2\n",
      "  P -1 -4 -1 -1 -4 -2 -2 -3 -1 -4 -3 -2 10 -1 -3 -1 -1 -3 -4 -3\n",
      "  Q -1 -3  0  2 -4 -2  1 -3  2 -2  0  0 -1  7  1  0 -1 -3 -1 -1\n",
      "  R -2 -4 -2  0 -3 -3  0 -4  3 -3 -2 -1 -3  1  7 -1 -1 -3 -3 -1\n",
      "  S  1 -1  0 -1 -3  0 -1 -3  0 -3 -2  1 -1  0 -1  5  2 -2 -4 -2\n",
      "  T  0 -1 -1 -1 -2 -2 -2 -1 -1 -1 -1  0 -1 -1 -1  2  5  0 -3 -2\n",
      "  V  0 -1 -4 -3 -1 -4 -4  4 -3  1  1 -3 -3 -3 -3 -2  0  5 -3 -1\n",
      "  W -3 -5 -5 -3  1 -3 -3 -3 -3 -2 -1 -4 -4 -1 -3 -4 -3 -3 15  2\n",
      "  Y -2 -3 -3 -2  4 -3  2 -1 -2 -1  0 -2 -3 -1 -1 -2 -2 -1  2  8\n"
     ]
    }
   ],
   "source": [
    "aas = list(blosum50.keys())\n",
    "aas.sort()\n",
    "data = []\n",
    "for aa1 in aas:\n",
    "    row = []\n",
    "    for aa2 in aas:\n",
    "        row.append(blosum50[aa1][aa2])\n",
    "    data.append(row)\n",
    "\n",
    "print(format_matrix(aas, aas, data))"
   ]
  },
  {
   "cell_type": "markdown",
   "metadata": {},
   "source": [
    "# Needleman-Wunsch global pairwise sequence alignment"
   ]
  },
  {
   "cell_type": "markdown",
   "metadata": {},
   "source": [
    "Now let's get started on using this to align a pair of sequences.\n",
    "\n",
    "**Step 1.** Create a matrix, where the columns represent the positions in ``seq1`` and the rows represent the positions in ``seq2``."
   ]
  },
  {
   "cell_type": "code",
   "execution_count": 15,
   "metadata": {
    "collapsed": false
   },
   "outputs": [],
   "source": [
    "## Example adapted from Biological Sequence Analysis Chapter 2. \n",
    "\n",
    "seq1 = \"HEAGAWGHEE\"\n",
    "seq2 = \"PAWHEAE\""
   ]
  },
  {
   "cell_type": "code",
   "execution_count": 16,
   "metadata": {
    "collapsed": false
   },
   "outputs": [
    {
     "name": "stdout",
     "output_type": "stream",
     "text": [
      "     H  E  A  G  A  W  G  H  E  E\n",
      "  P  -  -  -  -  -  -  -  -  -  -\n",
      "  A  -  -  -  -  -  -  -  -  -  -\n",
      "  W  -  -  -  -  -  -  -  -  -  -\n",
      "  H  -  -  -  -  -  -  -  -  -  -\n",
      "  E  -  -  -  -  -  -  -  -  -  -\n",
      "  A  -  -  -  -  -  -  -  -  -  -\n",
      "  E  -  -  -  -  -  -  -  -  -  -\n"
     ]
    }
   ],
   "source": [
    "data = []\n",
    "for p in seq2:\n",
    "    data.append(['-']*len(seq1))\n",
    "\n",
    "print(format_matrix(seq1, seq2, data))"
   ]
  },
  {
   "cell_type": "markdown",
   "metadata": {},
   "source": [
    "**Step 2**:  Using a substitution matrix, score each cell in the matrix."
   ]
  },
  {
   "cell_type": "code",
   "execution_count": 17,
   "metadata": {
    "collapsed": false
   },
   "outputs": [
    {
     "name": "stdout",
     "output_type": "stream",
     "text": [
      "\u001b[1;32mdef\u001b[0m \u001b[0mgenerate_score_matrix\u001b[0m\u001b[1;33m(\u001b[0m\u001b[0mseq1\u001b[0m\u001b[1;33m,\u001b[0m\u001b[0mseq2\u001b[0m\u001b[1;33m,\u001b[0m\u001b[0msubstitution_matrix\u001b[0m\u001b[1;33m)\u001b[0m\u001b[1;33m:\u001b[0m\u001b[1;33m\u001b[0m\n",
      "\u001b[1;33m\u001b[0m    \u001b[1;31m# Initialize a matrix to use for storing the scores\u001b[0m\u001b[1;33m\u001b[0m\n",
      "\u001b[1;33m\u001b[0m    \u001b[0mscore_matrix\u001b[0m \u001b[1;33m=\u001b[0m \u001b[1;33m[\u001b[0m\u001b[1;33m]\u001b[0m\u001b[1;33m\u001b[0m\n",
      "\u001b[1;33m\u001b[0m    \u001b[1;31m# Iterate over the amino acids in sequence two (which will correspond\u001b[0m\u001b[1;33m\u001b[0m\n",
      "\u001b[1;33m\u001b[0m    \u001b[1;31m# to the vertical sequence in the matrix)\u001b[0m\u001b[1;33m\u001b[0m\n",
      "\u001b[1;33m\u001b[0m    \u001b[1;32mfor\u001b[0m \u001b[0maa2\u001b[0m \u001b[1;32min\u001b[0m \u001b[0mseq2\u001b[0m\u001b[1;33m:\u001b[0m\u001b[1;33m\u001b[0m\n",
      "\u001b[1;33m\u001b[0m        \u001b[1;31m# Initialize the current row of the matrix\u001b[0m\u001b[1;33m\u001b[0m\n",
      "\u001b[1;33m\u001b[0m        \u001b[0mcurrent_row\u001b[0m \u001b[1;33m=\u001b[0m \u001b[1;33m[\u001b[0m\u001b[1;33m]\u001b[0m\u001b[1;33m\u001b[0m\n",
      "\u001b[1;33m\u001b[0m        \u001b[1;31m# Iterate over the amino acids in sequence one (which will\u001b[0m\u001b[1;33m\u001b[0m\n",
      "\u001b[1;33m\u001b[0m        \u001b[1;31m# correspond to the horizontal sequence in the matrix)\u001b[0m\u001b[1;33m\u001b[0m\n",
      "\u001b[1;33m\u001b[0m        \u001b[1;32mfor\u001b[0m \u001b[0maa1\u001b[0m \u001b[1;32min\u001b[0m \u001b[0mseq1\u001b[0m\u001b[1;33m:\u001b[0m\u001b[1;33m\u001b[0m\n",
      "\u001b[1;33m\u001b[0m            \u001b[1;31m# score as 1 if the bases are equal and 0 if they're not\u001b[0m\u001b[1;33m\u001b[0m\n",
      "\u001b[1;33m\u001b[0m            \u001b[0mcurrent_row\u001b[0m\u001b[1;33m.\u001b[0m\u001b[0mappend\u001b[0m\u001b[1;33m(\u001b[0m\u001b[0msubstitution_matrix\u001b[0m\u001b[1;33m[\u001b[0m\u001b[0maa1\u001b[0m\u001b[1;33m]\u001b[0m\u001b[1;33m[\u001b[0m\u001b[0maa2\u001b[0m\u001b[1;33m]\u001b[0m\u001b[1;33m)\u001b[0m\u001b[1;33m\u001b[0m\n",
      "\u001b[1;33m\u001b[0m        \u001b[1;31m# append the current row to the matrix\u001b[0m\u001b[1;33m\u001b[0m\n",
      "\u001b[1;33m\u001b[0m        \u001b[0mscore_matrix\u001b[0m\u001b[1;33m.\u001b[0m\u001b[0mappend\u001b[0m\u001b[1;33m(\u001b[0m\u001b[0mcurrent_row\u001b[0m\u001b[1;33m)\u001b[0m\u001b[1;33m\u001b[0m\n",
      "\u001b[1;33m\u001b[0m    \u001b[1;32mreturn\u001b[0m \u001b[0mscore_matrix\u001b[0m\u001b[1;33m\u001b[0m\u001b[0m\n",
      "\n"
     ]
    }
   ],
   "source": [
    "from iab.algorithms import generate_score_matrix\n",
    "\n",
    "%psource generate_score_matrix"
   ]
  },
  {
   "cell_type": "code",
   "execution_count": 18,
   "metadata": {
    "collapsed": false
   },
   "outputs": [
    {
     "name": "stdout",
     "output_type": "stream",
     "text": [
      "     H  E  A  G  A  W  G  H  E  E\n",
      "  P -2 -1 -1 -2 -1 -4 -2 -2 -1 -1\n",
      "  A -2 -1  5  0  5 -3  0 -2 -1 -1\n",
      "  W -3 -3 -3 -3 -3 15 -3 -3 -3 -3\n",
      "  H 10  0 -2 -2 -2 -3 -2 10  0  0\n",
      "  E  0  6 -1 -3 -1 -3 -3  0  6  6\n",
      "  A -2 -1  5  0  5 -3  0 -2 -1 -1\n",
      "  E  0  6 -1 -3 -1 -3 -3  0  6  6\n"
     ]
    }
   ],
   "source": [
    "score_matrix = generate_score_matrix(seq1,seq2,blosum50)\n",
    "\n",
    "print(format_matrix(seq1,\n",
    "                    seq2,\n",
    "                    score_matrix))"
   ]
  },
  {
   "cell_type": "markdown",
   "metadata": {},
   "source": [
    "**Step 3**: Generate the dynamic programming and traceback matrices.\n",
    "\n",
    "In the next step we determine the best alignment given the sequences and scoring scheme in what we'll call the **dynamic programming matrix**, and then define programmatically how to transcribe the alignment in what we'll call the **traceback matrix** to yield a pair of aligned sequences. \n",
    "\n",
    "\n",
    "For the convenience of coding this algorithm, it helps to define the dynamic programming matrix with one extra row and one extra column relative to the score matrix, and make these the first column and row of the matrix. These then represent the beginning of the alignment position $(0, 0)$. The score $F$ for cell $(i, j)$, where $i$ represents the row number and $j$ represents the column number, is defined for the first row and column as follows:\n",
    "\n",
    "$$\n",
    "\\begin{align}\n",
    "& F(0, 0) = 0\\\\\n",
    "& F(i, 0) = F(i-1, 0) - d\\\\\n",
    "& F(0, j) = F(0, j-1) - d\\\\\n",
    "\\end{align}\n",
    "$$\n",
    "\n",
    "This matrix, pre-initialization, would look like the following. As an exercise, try computing the values for the cells in the first four rows in column zero, and the first four columns in row zero. As you fill in the value for a cell, for all cells with a score based on another score in the matrix (i.e., everything except for $F(0, 0)$), draw an arrow from that cell to the cell whose score it depends on. \n",
    "\n",
    "For the sake of this exercise, define the gap penalty, $d$, as $d=8$. "
   ]
  },
  {
   "cell_type": "code",
   "execution_count": 19,
   "metadata": {
    "collapsed": false
   },
   "outputs": [
    {
     "name": "stdout",
     "output_type": "stream",
     "text": [
      "        H  E  A  G  A  W  G  H  E  E\n",
      "     -  -  -  -  -  -  -  -  -  -  -\n",
      "  P  -  -  -  -  -  -  -  -  -  -  -\n",
      "  A  -  -  -  -  -  -  -  -  -  -  -\n",
      "  W  -  -  -  -  -  -  -  -  -  -  -\n",
      "  H  -  -  -  -  -  -  -  -  -  -  -\n",
      "  E  -  -  -  -  -  -  -  -  -  -  -\n",
      "  A  -  -  -  -  -  -  -  -  -  -  -\n",
      "  E  -  -  -  -  -  -  -  -  -  -  -\n"
     ]
    }
   ],
   "source": [
    "data = []\n",
    "# This is a hack: to pad the matrix with an \n",
    "# extra row and column at the beginning I'm just prepending a \n",
    "# space to each sequence. Need to improve handling of that.\n",
    "padded_seq1 = \" \" + seq1\n",
    "padded_seq2 = \" \" + seq2\n",
    "\n",
    "for p in padded_seq2:\n",
    "    data.append(['-']*len(padded_seq1))\n",
    "\n",
    "print(format_matrix(padded_seq1, padded_seq2, data))"
   ]
  },
  {
   "cell_type": "markdown",
   "metadata": {},
   "source": [
    "Initializing this would result in the following."
   ]
  },
  {
   "cell_type": "code",
   "execution_count": 20,
   "metadata": {
    "collapsed": false
   },
   "outputs": [
    {
     "name": "stdout",
     "output_type": "stream",
     "text": [
      "           H   E   A   G   A   W   G   H   E   E\n",
      "       0  -8 -16 -24 -32 -40 -48 -56 -64 -72 -80\n",
      "   P  -8   -   -   -   -   -   -   -   -   -   -\n",
      "   A -16   -   -   -   -   -   -   -   -   -   -\n",
      "   W -24   -   -   -   -   -   -   -   -   -   -\n",
      "   H -32   -   -   -   -   -   -   -   -   -   -\n",
      "   E -40   -   -   -   -   -   -   -   -   -   -\n",
      "   A -48   -   -   -   -   -   -   -   -   -   -\n",
      "   E -56   -   -   -   -   -   -   -   -   -   -\n"
     ]
    }
   ],
   "source": [
    "# We'll define the gap penalty as 8.\n",
    "d = 8\n",
    "\n",
    "data[0][0] = 0\n",
    "for i in range(1,len(padded_seq2)):\n",
    "    data[i][0] = data[i-1][0] - d\n",
    "\n",
    "for j in range(1,len(padded_seq1)):\n",
    "    data[0][j] = data[0][j-1] - d\n",
    "\n",
    "print(format_matrix(padded_seq1, padded_seq2, data, cell_width=4))\n",
    "                "
   ]
  },
  {
   "cell_type": "markdown",
   "metadata": {},
   "source": [
    "Next, we'll compute the scores for all of the other cells in the matrix, starting at position $(1, 1)$. \n",
    "\n",
    "In a Needleman-Wunsch alignment, the score $F$ for cell $(i, j)$ (where $i$ is the row number and $j$ is the column number, and $i > 0$ and $j > 0$) is computed as the maximum of three possible values.\n",
    "\n",
    "$$\n",
    "F(i, j) = max \\left(\\begin{align}\n",
    "& F(i-1, j-1) + s(c_i, c_j)\\\\\n",
    "& F(i-1, j) - d\\\\\n",
    "& F(i, j-1) - d\n",
    "\\end{align}\\right)\n",
    "$$\n",
    "\n",
    "In this notation, $s$ refers to the substitution matrix, $c_i$ and $c_j$ refers to characters in `seq1` and `seq2`, and $d$ again is the gap penalty. Describing the scoring function in English, we score a cell with the maximum of three values: either the value of the cell up and to the left plus the score for the substitution taking place in the current cell (which you find by looking up the substitution in the substitution matrix); the value of the cell above minus the gap penalty; or the value of the cell to the left minus the gap penalty. In this way, you're determining whether the best (highest) score is obtained by inserting a gap in sequence 1 (corresponding to $F(i-1, j) - d$), inserting a gap in sequence 2 (corresponding to $F(i, j-1) - d$), or aligning the characters in sequence 1 and sequence 2 (corresponding to $F(i-1, j-1) + s(c_i, c_j)$).\n",
    "\n",
    "As an exercise, fill in the values of cells $(1, 1)$, $(1, 2)$, and $(2, 1)$ by hand. Remember to insert arrows indicating which cell each score was derived from as you fill in the matrix, and notice the situation that you encounter when computing the value for $(2, 1)$. Which arrow do you draw there? Keep this issue in mind, and think about how it might affect your final result.\n"
   ]
  },
  {
   "cell_type": "markdown",
   "metadata": {},
   "source": [
    "The function in the next cell generates the dynamic programming and traceback matrices for us. You should review this code to understand exactly how it's working."
   ]
  },
  {
   "cell_type": "code",
   "execution_count": 21,
   "metadata": {
    "collapsed": false
   },
   "outputs": [
    {
     "name": "stdout",
     "output_type": "stream",
     "text": [
      "\u001b[1;32mdef\u001b[0m \u001b[0m_compute_score_and_traceback_matrices\u001b[0m\u001b[1;33m(\u001b[0m\u001b[1;33m\u001b[0m\n",
      "\u001b[1;33m\u001b[0m        \u001b[0maln1\u001b[0m\u001b[1;33m,\u001b[0m \u001b[0maln2\u001b[0m\u001b[1;33m,\u001b[0m \u001b[0mgap_open_penalty\u001b[0m\u001b[1;33m,\u001b[0m \u001b[0mgap_extend_penalty\u001b[0m\u001b[1;33m,\u001b[0m \u001b[0msubstitution_matrix\u001b[0m\u001b[1;33m,\u001b[0m\u001b[1;33m\u001b[0m\n",
      "\u001b[1;33m\u001b[0m        \u001b[0mnew_alignment_score\u001b[0m\u001b[1;33m=\u001b[0m\u001b[1;33m-\u001b[0m\u001b[0mnp\u001b[0m\u001b[1;33m.\u001b[0m\u001b[0minf\u001b[0m\u001b[1;33m,\u001b[0m \u001b[0minit_matrices_f\u001b[0m\u001b[1;33m=\u001b[0m\u001b[0m_init_matrices_nw\u001b[0m\u001b[1;33m,\u001b[0m\u001b[1;33m\u001b[0m\n",
      "\u001b[1;33m\u001b[0m        \u001b[0mpenalize_terminal_gaps\u001b[0m\u001b[1;33m=\u001b[0m\u001b[1;32mTrue\u001b[0m\u001b[1;33m,\u001b[0m \u001b[0mgap_substitution_score\u001b[0m\u001b[1;33m=\u001b[0m\u001b[1;36m0\u001b[0m\u001b[1;33m)\u001b[0m\u001b[1;33m:\u001b[0m\u001b[1;33m\u001b[0m\n",
      "\u001b[1;33m\u001b[0m    \u001b[1;34m\"\"\"Return dynamic programming (score) and traceback matrices.\u001b[0m\n",
      "\u001b[1;34m\u001b[0m\n",
      "\u001b[1;34m    A note on the ``penalize_terminal_gaps`` parameter. When this value is\u001b[0m\n",
      "\u001b[1;34m    ``False``, this function is no longer true Smith-Waterman/Needleman-Wunsch\u001b[0m\n",
      "\u001b[1;34m    scoring, but when ``True`` it can result in biologically irrelevant\u001b[0m\n",
      "\u001b[1;34m    artifacts in Needleman-Wunsch (global) alignments. Specifically, if one\u001b[0m\n",
      "\u001b[1;34m    sequence is longer than the other (e.g., if aligning a primer sequence to\u001b[0m\n",
      "\u001b[1;34m    an amplification product, or searching for a gene in a genome) the shorter\u001b[0m\n",
      "\u001b[1;34m    sequence will have a long gap inserted. The parameter is ``True`` by\u001b[0m\n",
      "\u001b[1;34m    default (so that this function computes the score and traceback matrices as\u001b[0m\n",
      "\u001b[1;34m    described by the original authors) but the global alignment wrappers pass\u001b[0m\n",
      "\u001b[1;34m    ``False`` by default, so that the global alignment API returns the result\u001b[0m\n",
      "\u001b[1;34m    that users are most likely to be looking for.\u001b[0m\n",
      "\u001b[1;34m\u001b[0m\n",
      "\u001b[1;34m    \"\"\"\u001b[0m\u001b[1;33m\u001b[0m\n",
      "\u001b[1;33m\u001b[0m    \u001b[0maln1_length\u001b[0m \u001b[1;33m=\u001b[0m \u001b[0maln1\u001b[0m\u001b[1;33m.\u001b[0m\u001b[0msequence_length\u001b[0m\u001b[1;33m(\u001b[0m\u001b[1;33m)\u001b[0m\u001b[1;33m\u001b[0m\n",
      "\u001b[1;33m\u001b[0m    \u001b[0maln2_length\u001b[0m \u001b[1;33m=\u001b[0m \u001b[0maln2\u001b[0m\u001b[1;33m.\u001b[0m\u001b[0msequence_length\u001b[0m\u001b[1;33m(\u001b[0m\u001b[1;33m)\u001b[0m\u001b[1;33m\u001b[0m\n",
      "\u001b[1;33m\u001b[0m    \u001b[1;31m# cache some values for quicker/simpler access\u001b[0m\u001b[1;33m\u001b[0m\n",
      "\u001b[1;33m\u001b[0m    \u001b[0maend\u001b[0m \u001b[1;33m=\u001b[0m \u001b[0m_traceback_encoding\u001b[0m\u001b[1;33m[\u001b[0m\u001b[1;34m'alignment-end'\u001b[0m\u001b[1;33m]\u001b[0m\u001b[1;33m\u001b[0m\n",
      "\u001b[1;33m\u001b[0m    \u001b[0mmatch\u001b[0m \u001b[1;33m=\u001b[0m \u001b[0m_traceback_encoding\u001b[0m\u001b[1;33m[\u001b[0m\u001b[1;34m'match'\u001b[0m\u001b[1;33m]\u001b[0m\u001b[1;33m\u001b[0m\n",
      "\u001b[1;33m\u001b[0m    \u001b[0mvgap\u001b[0m \u001b[1;33m=\u001b[0m \u001b[0m_traceback_encoding\u001b[0m\u001b[1;33m[\u001b[0m\u001b[1;34m'vertical-gap'\u001b[0m\u001b[1;33m]\u001b[0m\u001b[1;33m\u001b[0m\n",
      "\u001b[1;33m\u001b[0m    \u001b[0mhgap\u001b[0m \u001b[1;33m=\u001b[0m \u001b[0m_traceback_encoding\u001b[0m\u001b[1;33m[\u001b[0m\u001b[1;34m'horizontal-gap'\u001b[0m\u001b[1;33m]\u001b[0m\u001b[1;33m\u001b[0m\n",
      "\u001b[1;33m\u001b[0m\u001b[1;33m\u001b[0m\n",
      "\u001b[1;33m\u001b[0m    \u001b[0mnew_alignment_score\u001b[0m \u001b[1;33m=\u001b[0m \u001b[1;33m(\u001b[0m\u001b[0mnew_alignment_score\u001b[0m\u001b[1;33m,\u001b[0m \u001b[0maend\u001b[0m\u001b[1;33m)\u001b[0m\u001b[1;33m\u001b[0m\n",
      "\u001b[1;33m\u001b[0m\u001b[1;33m\u001b[0m\n",
      "\u001b[1;33m\u001b[0m    \u001b[1;31m# Initialize a matrix to use for scoring the alignment and for tracing\u001b[0m\u001b[1;33m\u001b[0m\n",
      "\u001b[1;33m\u001b[0m    \u001b[1;31m# back the best alignment\u001b[0m\u001b[1;33m\u001b[0m\n",
      "\u001b[1;33m\u001b[0m    \u001b[0mscore_matrix\u001b[0m\u001b[1;33m,\u001b[0m \u001b[0mtraceback_matrix\u001b[0m \u001b[1;33m=\u001b[0m \u001b[0minit_matrices_f\u001b[0m\u001b[1;33m(\u001b[0m\u001b[1;33m\u001b[0m\n",
      "\u001b[1;33m\u001b[0m        \u001b[0maln1\u001b[0m\u001b[1;33m,\u001b[0m \u001b[0maln2\u001b[0m\u001b[1;33m,\u001b[0m \u001b[0mgap_open_penalty\u001b[0m\u001b[1;33m,\u001b[0m \u001b[0mgap_extend_penalty\u001b[0m\u001b[1;33m)\u001b[0m\u001b[1;33m\u001b[0m\n",
      "\u001b[1;33m\u001b[0m\u001b[1;33m\u001b[0m\n",
      "\u001b[1;33m\u001b[0m    \u001b[1;31m# Iterate over the characters in aln2 (which corresponds to the vertical\u001b[0m\u001b[1;33m\u001b[0m\n",
      "\u001b[1;33m\u001b[0m    \u001b[1;31m# sequence in the matrix)\u001b[0m\u001b[1;33m\u001b[0m\n",
      "\u001b[1;33m\u001b[0m    \u001b[1;32mfor\u001b[0m \u001b[0maln2_pos\u001b[0m\u001b[1;33m,\u001b[0m \u001b[0maln2_chars\u001b[0m \u001b[1;32min\u001b[0m \u001b[0menumerate\u001b[0m\u001b[1;33m(\u001b[0m\u001b[0maln2\u001b[0m\u001b[1;33m.\u001b[0m\u001b[0miter_positions\u001b[0m\u001b[1;33m(\u001b[0m\u001b[0mstr\u001b[0m\u001b[1;33m)\u001b[0m\u001b[1;33m,\u001b[0m \u001b[1;36m1\u001b[0m\u001b[1;33m)\u001b[0m\u001b[1;33m:\u001b[0m\u001b[1;33m\u001b[0m\n",
      "\u001b[1;33m\u001b[0m        \u001b[1;31m# Iterate over the characters in aln1 (which corresponds to the\u001b[0m\u001b[1;33m\u001b[0m\n",
      "\u001b[1;33m\u001b[0m        \u001b[1;31m# horizontal sequence in the matrix)\u001b[0m\u001b[1;33m\u001b[0m\n",
      "\u001b[1;33m\u001b[0m        \u001b[1;32mfor\u001b[0m \u001b[0maln1_pos\u001b[0m\u001b[1;33m,\u001b[0m \u001b[0maln1_chars\u001b[0m \u001b[1;32min\u001b[0m \u001b[0menumerate\u001b[0m\u001b[1;33m(\u001b[0m\u001b[0maln1\u001b[0m\u001b[1;33m.\u001b[0m\u001b[0miter_positions\u001b[0m\u001b[1;33m(\u001b[0m\u001b[0mstr\u001b[0m\u001b[1;33m)\u001b[0m\u001b[1;33m,\u001b[0m \u001b[1;36m1\u001b[0m\u001b[1;33m)\u001b[0m\u001b[1;33m:\u001b[0m\u001b[1;33m\u001b[0m\n",
      "\u001b[1;33m\u001b[0m            \u001b[1;31m# compute the score for a match/mismatch\u001b[0m\u001b[1;33m\u001b[0m\n",
      "\u001b[1;33m\u001b[0m            \u001b[0msubstitution_score\u001b[0m \u001b[1;33m=\u001b[0m \u001b[0m_compute_substitution_score\u001b[0m\u001b[1;33m(\u001b[0m\u001b[1;33m\u001b[0m\n",
      "\u001b[1;33m\u001b[0m                \u001b[0maln1_chars\u001b[0m\u001b[1;33m,\u001b[0m \u001b[0maln2_chars\u001b[0m\u001b[1;33m,\u001b[0m \u001b[0msubstitution_matrix\u001b[0m\u001b[1;33m,\u001b[0m\u001b[1;33m\u001b[0m\n",
      "\u001b[1;33m\u001b[0m                \u001b[0mgap_substitution_score\u001b[0m\u001b[1;33m)\u001b[0m\u001b[1;33m\u001b[0m\n",
      "\u001b[1;33m\u001b[0m\u001b[1;33m\u001b[0m\n",
      "\u001b[1;33m\u001b[0m            \u001b[0mdiag_score\u001b[0m \u001b[1;33m=\u001b[0m \\\n",
      "                \u001b[1;33m(\u001b[0m\u001b[0mscore_matrix\u001b[0m\u001b[1;33m[\u001b[0m\u001b[0maln2_pos\u001b[0m\u001b[1;33m-\u001b[0m\u001b[1;36m1\u001b[0m\u001b[1;33m,\u001b[0m \u001b[0maln1_pos\u001b[0m\u001b[1;33m-\u001b[0m\u001b[1;36m1\u001b[0m\u001b[1;33m]\u001b[0m \u001b[1;33m+\u001b[0m \u001b[0msubstitution_score\u001b[0m\u001b[1;33m,\u001b[0m\u001b[1;33m\u001b[0m\n",
      "\u001b[1;33m\u001b[0m                 \u001b[0mmatch\u001b[0m\u001b[1;33m)\u001b[0m\u001b[1;33m\u001b[0m\n",
      "\u001b[1;33m\u001b[0m\u001b[1;33m\u001b[0m\n",
      "\u001b[1;33m\u001b[0m            \u001b[1;31m# compute the score for adding a gap in aln2 (vertical)\u001b[0m\u001b[1;33m\u001b[0m\n",
      "\u001b[1;33m\u001b[0m            \u001b[1;32mif\u001b[0m \u001b[1;32mnot\u001b[0m \u001b[0mpenalize_terminal_gaps\u001b[0m \u001b[1;32mand\u001b[0m \u001b[1;33m(\u001b[0m\u001b[0maln1_pos\u001b[0m \u001b[1;33m==\u001b[0m \u001b[0maln1_length\u001b[0m\u001b[1;33m)\u001b[0m\u001b[1;33m:\u001b[0m\u001b[1;33m\u001b[0m\n",
      "\u001b[1;33m\u001b[0m                \u001b[1;31m# we've reached the end of aln1, so adding vertical gaps\u001b[0m\u001b[1;33m\u001b[0m\n",
      "\u001b[1;33m\u001b[0m                \u001b[1;31m# (which become gaps in aln1) should no longer\u001b[0m\u001b[1;33m\u001b[0m\n",
      "\u001b[1;33m\u001b[0m                \u001b[1;31m# be penalized (if penalize_terminal_gaps == False)\u001b[0m\u001b[1;33m\u001b[0m\n",
      "\u001b[1;33m\u001b[0m                \u001b[0mup_score\u001b[0m \u001b[1;33m=\u001b[0m \u001b[1;33m(\u001b[0m\u001b[0mscore_matrix\u001b[0m\u001b[1;33m[\u001b[0m\u001b[0maln2_pos\u001b[0m\u001b[1;33m-\u001b[0m\u001b[1;36m1\u001b[0m\u001b[1;33m,\u001b[0m \u001b[0maln1_pos\u001b[0m\u001b[1;33m]\u001b[0m\u001b[1;33m,\u001b[0m \u001b[0mvgap\u001b[0m\u001b[1;33m)\u001b[0m\u001b[1;33m\u001b[0m\n",
      "\u001b[1;33m\u001b[0m            \u001b[1;32melif\u001b[0m \u001b[0mtraceback_matrix\u001b[0m\u001b[1;33m[\u001b[0m\u001b[0maln2_pos\u001b[0m\u001b[1;33m-\u001b[0m\u001b[1;36m1\u001b[0m\u001b[1;33m,\u001b[0m \u001b[0maln1_pos\u001b[0m\u001b[1;33m]\u001b[0m \u001b[1;33m==\u001b[0m \u001b[0mvgap\u001b[0m\u001b[1;33m:\u001b[0m\u001b[1;33m\u001b[0m\n",
      "\u001b[1;33m\u001b[0m                \u001b[1;31m# gap extend, because the cell above was also a gap\u001b[0m\u001b[1;33m\u001b[0m\n",
      "\u001b[1;33m\u001b[0m                \u001b[0mup_score\u001b[0m \u001b[1;33m=\u001b[0m \\\n",
      "                    \u001b[1;33m(\u001b[0m\u001b[0mscore_matrix\u001b[0m\u001b[1;33m[\u001b[0m\u001b[0maln2_pos\u001b[0m\u001b[1;33m-\u001b[0m\u001b[1;36m1\u001b[0m\u001b[1;33m,\u001b[0m \u001b[0maln1_pos\u001b[0m\u001b[1;33m]\u001b[0m \u001b[1;33m-\u001b[0m \u001b[0mgap_extend_penalty\u001b[0m\u001b[1;33m,\u001b[0m\u001b[1;33m\u001b[0m\n",
      "\u001b[1;33m\u001b[0m                     \u001b[0mvgap\u001b[0m\u001b[1;33m)\u001b[0m\u001b[1;33m\u001b[0m\n",
      "\u001b[1;33m\u001b[0m            \u001b[1;32melse\u001b[0m\u001b[1;33m:\u001b[0m\u001b[1;33m\u001b[0m\n",
      "\u001b[1;33m\u001b[0m                \u001b[1;31m# gap open, because the cell above was not a gap\u001b[0m\u001b[1;33m\u001b[0m\n",
      "\u001b[1;33m\u001b[0m                \u001b[0mup_score\u001b[0m \u001b[1;33m=\u001b[0m \\\n",
      "                    \u001b[1;33m(\u001b[0m\u001b[0mscore_matrix\u001b[0m\u001b[1;33m[\u001b[0m\u001b[0maln2_pos\u001b[0m\u001b[1;33m-\u001b[0m\u001b[1;36m1\u001b[0m\u001b[1;33m,\u001b[0m \u001b[0maln1_pos\u001b[0m\u001b[1;33m]\u001b[0m \u001b[1;33m-\u001b[0m \u001b[0mgap_open_penalty\u001b[0m\u001b[1;33m,\u001b[0m\u001b[1;33m\u001b[0m\n",
      "\u001b[1;33m\u001b[0m                     \u001b[0mvgap\u001b[0m\u001b[1;33m)\u001b[0m\u001b[1;33m\u001b[0m\n",
      "\u001b[1;33m\u001b[0m\u001b[1;33m\u001b[0m\n",
      "\u001b[1;33m\u001b[0m            \u001b[1;31m# compute the score for adding a gap in aln1 (horizontal)\u001b[0m\u001b[1;33m\u001b[0m\n",
      "\u001b[1;33m\u001b[0m            \u001b[1;32mif\u001b[0m \u001b[1;32mnot\u001b[0m \u001b[0mpenalize_terminal_gaps\u001b[0m \u001b[1;32mand\u001b[0m \u001b[1;33m(\u001b[0m\u001b[0maln2_pos\u001b[0m \u001b[1;33m==\u001b[0m \u001b[0maln2_length\u001b[0m\u001b[1;33m)\u001b[0m\u001b[1;33m:\u001b[0m\u001b[1;33m\u001b[0m\n",
      "\u001b[1;33m\u001b[0m                \u001b[1;31m# we've reached the end of aln2, so adding horizontal gaps\u001b[0m\u001b[1;33m\u001b[0m\n",
      "\u001b[1;33m\u001b[0m                \u001b[1;31m# (which become gaps in aln2) should no longer\u001b[0m\u001b[1;33m\u001b[0m\n",
      "\u001b[1;33m\u001b[0m                \u001b[1;31m# be penalized (if penalize_terminal_gaps == False)\u001b[0m\u001b[1;33m\u001b[0m\n",
      "\u001b[1;33m\u001b[0m                \u001b[0mleft_score\u001b[0m \u001b[1;33m=\u001b[0m \u001b[1;33m(\u001b[0m\u001b[0mscore_matrix\u001b[0m\u001b[1;33m[\u001b[0m\u001b[0maln2_pos\u001b[0m\u001b[1;33m,\u001b[0m \u001b[0maln1_pos\u001b[0m\u001b[1;33m-\u001b[0m\u001b[1;36m1\u001b[0m\u001b[1;33m]\u001b[0m\u001b[1;33m,\u001b[0m \u001b[0mhgap\u001b[0m\u001b[1;33m)\u001b[0m\u001b[1;33m\u001b[0m\n",
      "\u001b[1;33m\u001b[0m            \u001b[1;32melif\u001b[0m \u001b[0mtraceback_matrix\u001b[0m\u001b[1;33m[\u001b[0m\u001b[0maln2_pos\u001b[0m\u001b[1;33m,\u001b[0m \u001b[0maln1_pos\u001b[0m\u001b[1;33m-\u001b[0m\u001b[1;36m1\u001b[0m\u001b[1;33m]\u001b[0m \u001b[1;33m==\u001b[0m \u001b[0mhgap\u001b[0m\u001b[1;33m:\u001b[0m\u001b[1;33m\u001b[0m\n",
      "\u001b[1;33m\u001b[0m                \u001b[1;31m# gap extend, because the cell to the left was also a gap\u001b[0m\u001b[1;33m\u001b[0m\n",
      "\u001b[1;33m\u001b[0m                \u001b[0mleft_score\u001b[0m \u001b[1;33m=\u001b[0m \\\n",
      "                    \u001b[1;33m(\u001b[0m\u001b[0mscore_matrix\u001b[0m\u001b[1;33m[\u001b[0m\u001b[0maln2_pos\u001b[0m\u001b[1;33m,\u001b[0m \u001b[0maln1_pos\u001b[0m\u001b[1;33m-\u001b[0m\u001b[1;36m1\u001b[0m\u001b[1;33m]\u001b[0m \u001b[1;33m-\u001b[0m \u001b[0mgap_extend_penalty\u001b[0m\u001b[1;33m,\u001b[0m\u001b[1;33m\u001b[0m\n",
      "\u001b[1;33m\u001b[0m                     \u001b[0mhgap\u001b[0m\u001b[1;33m)\u001b[0m\u001b[1;33m\u001b[0m\n",
      "\u001b[1;33m\u001b[0m            \u001b[1;32melse\u001b[0m\u001b[1;33m:\u001b[0m\u001b[1;33m\u001b[0m\n",
      "\u001b[1;33m\u001b[0m                \u001b[1;31m# gap open, because the cell to the left was not a gap\u001b[0m\u001b[1;33m\u001b[0m\n",
      "\u001b[1;33m\u001b[0m                \u001b[0mleft_score\u001b[0m \u001b[1;33m=\u001b[0m \\\n",
      "                    \u001b[1;33m(\u001b[0m\u001b[0mscore_matrix\u001b[0m\u001b[1;33m[\u001b[0m\u001b[0maln2_pos\u001b[0m\u001b[1;33m,\u001b[0m \u001b[0maln1_pos\u001b[0m\u001b[1;33m-\u001b[0m\u001b[1;36m1\u001b[0m\u001b[1;33m]\u001b[0m \u001b[1;33m-\u001b[0m \u001b[0mgap_open_penalty\u001b[0m\u001b[1;33m,\u001b[0m\u001b[1;33m\u001b[0m\n",
      "\u001b[1;33m\u001b[0m                     \u001b[0mhgap\u001b[0m\u001b[1;33m)\u001b[0m\u001b[1;33m\u001b[0m\n",
      "\u001b[1;33m\u001b[0m\u001b[1;33m\u001b[0m\n",
      "\u001b[1;33m\u001b[0m            \u001b[1;31m# identify the largest score, and use that information to populate\u001b[0m\u001b[1;33m\u001b[0m\n",
      "\u001b[1;33m\u001b[0m            \u001b[1;31m# the score and traceback matrices\u001b[0m\u001b[1;33m\u001b[0m\n",
      "\u001b[1;33m\u001b[0m            \u001b[0mbest_score\u001b[0m \u001b[1;33m=\u001b[0m \u001b[0m_first_largest\u001b[0m\u001b[1;33m(\u001b[0m\u001b[1;33m[\u001b[0m\u001b[0mnew_alignment_score\u001b[0m\u001b[1;33m,\u001b[0m \u001b[0mleft_score\u001b[0m\u001b[1;33m,\u001b[0m\u001b[1;33m\u001b[0m\n",
      "\u001b[1;33m\u001b[0m                                         \u001b[0mdiag_score\u001b[0m\u001b[1;33m,\u001b[0m \u001b[0mup_score\u001b[0m\u001b[1;33m]\u001b[0m\u001b[1;33m)\u001b[0m\u001b[1;33m\u001b[0m\n",
      "\u001b[1;33m\u001b[0m            \u001b[0mscore_matrix\u001b[0m\u001b[1;33m[\u001b[0m\u001b[0maln2_pos\u001b[0m\u001b[1;33m,\u001b[0m \u001b[0maln1_pos\u001b[0m\u001b[1;33m]\u001b[0m \u001b[1;33m=\u001b[0m \u001b[0mbest_score\u001b[0m\u001b[1;33m[\u001b[0m\u001b[1;36m0\u001b[0m\u001b[1;33m]\u001b[0m\u001b[1;33m\u001b[0m\n",
      "\u001b[1;33m\u001b[0m            \u001b[0mtraceback_matrix\u001b[0m\u001b[1;33m[\u001b[0m\u001b[0maln2_pos\u001b[0m\u001b[1;33m,\u001b[0m \u001b[0maln1_pos\u001b[0m\u001b[1;33m]\u001b[0m \u001b[1;33m=\u001b[0m \u001b[0mbest_score\u001b[0m\u001b[1;33m[\u001b[0m\u001b[1;36m1\u001b[0m\u001b[1;33m]\u001b[0m\u001b[1;33m\u001b[0m\n",
      "\u001b[1;33m\u001b[0m\u001b[1;33m\u001b[0m\n",
      "\u001b[1;33m\u001b[0m    \u001b[1;32mreturn\u001b[0m \u001b[0mscore_matrix\u001b[0m\u001b[1;33m,\u001b[0m \u001b[0mtraceback_matrix\u001b[0m\u001b[1;33m\u001b[0m\u001b[0m\n",
      "\n"
     ]
    }
   ],
   "source": [
    "from iab.algorithms import format_dynamic_programming_matrix, format_traceback_matrix\n",
    "from skbio.alignment._pairwise import _compute_score_and_traceback_matrices \n",
    "\n",
    "%psource _compute_score_and_traceback_matrices"
   ]
  },
  {
   "cell_type": "markdown",
   "metadata": {},
   "source": [
    "You can now apply this function to `seq1` and `seq2` to compute the dynamic programming and traceback matrices. Based on the arrows in your traceback matrix, what do you think the four different values used in this traceback matrix represent? "
   ]
  },
  {
   "cell_type": "code",
   "execution_count": 22,
   "metadata": {
    "collapsed": false
   },
   "outputs": [
    {
     "name": "stdout",
     "output_type": "stream",
     "text": [
      "                 H     E     A     G     A     W     G     H     E     E\n",
      "         0.0  -8.0 -16.0 -24.0 -32.0 -40.0 -48.0 -56.0 -64.0 -72.0 -80.0\n",
      "     P  -8.0  -2.0  -9.0 -17.0 -25.0 -33.0 -41.0 -49.0 -57.0 -65.0 -73.0\n",
      "     A -16.0 -10.0  -3.0  -4.0 -12.0 -20.0 -28.0 -36.0 -44.0 -52.0 -60.0\n",
      "     W -24.0 -18.0 -11.0  -6.0  -7.0 -15.0  -5.0 -13.0 -21.0 -29.0 -37.0\n",
      "     H -32.0 -14.0 -18.0 -13.0  -8.0  -9.0 -13.0  -7.0  -3.0 -11.0 -19.0\n",
      "     E -40.0 -22.0  -8.0 -16.0 -16.0  -9.0 -12.0 -15.0  -7.0   3.0  -5.0\n",
      "     A -48.0 -30.0 -16.0  -3.0 -11.0 -11.0 -12.0 -12.0 -15.0  -5.0   2.0\n",
      "     E -56.0 -38.0 -24.0 -11.0  -6.0 -12.0 -14.0 -15.0 -12.0  -9.0   1.0\n"
     ]
    }
   ],
   "source": [
    "from skbio.sequence import Protein\n",
    "from skbio.alignment import Alignment\n",
    "\n",
    "seq1 = Alignment([Protein(\"HEAGAWGHEE\")])\n",
    "seq2 = Alignment([Protein(\"PAWHEAE\")])\n",
    "\n",
    "nw_matrix, traceback_matrix = _compute_score_and_traceback_matrices(\n",
    "    seq1, seq2, 8, 8, blosum50)\n",
    "\n",
    "print(format_dynamic_programming_matrix(seq1, seq2, nw_matrix))"
   ]
  },
  {
   "cell_type": "code",
   "execution_count": 23,
   "metadata": {
    "collapsed": false
   },
   "outputs": [
    {
     "name": "stdout",
     "output_type": "stream",
     "text": [
      "                 H     E     A     G     A     W     G     H     E     E\n",
      "           *     -     -     -     -     -     -     -     -     -     -\n",
      "     P     |     \\     \\     -     -     -     -     -     -     -     -\n",
      "     A     |     \\     \\     \\     -     -     -     -     -     -     -\n",
      "     W     |     |     |     \\     \\     -     \\     -     -     -     -\n",
      "     H     |     \\     \\     \\     \\     \\     |     \\     \\     -     -\n",
      "     E     |     |     \\     -     \\     \\     \\     |     \\     \\     -\n",
      "     A     |     |     |     \\     -     \\     \\     \\     |     |     \\\n",
      "     E     |     |     \\     |     \\     \\     \\     \\     \\     \\     \\\n"
     ]
    }
   ],
   "source": [
    "print(format_traceback_matrix(seq1, seq2, traceback_matrix))"
   ]
  },
  {
   "cell_type": "markdown",
   "metadata": {},
   "source": [
    "**Step 4**: Transcribe the alignment.\n",
    "\n",
    "We can now read the dynamic programming and traceback matrices to transcribe and score the alignment of sequences 1 and 2. To do this, we start at the bottom right of the matrices and traceback the arrows to cell $(0, 0)$.  \n",
    "\n",
    "* Every time we hit a vertical arrow (represented by `|`), we consume a character from sequence 2 (the vertical sequence) and add a gap to sequence 1. \n",
    "* Every time we hit a horizontal arrow (represented by `-`), we consume a character from sequence 1 (the horizontal sequence) and add a gap to sequence 2.\n",
    "* Every time we hit a diagonal arrow (represented by `\\`), we consume a character from sequence 1 and sequence 2.\n",
    "\n",
    "As you transcribe the alignment, write sequence 1 on top of sequence 2, and work from right to left (since you are working backwards through the matrix).\n",
    "\n",
    "The score in the bottom right cell of the matrix is the score for the alignment.\n",
    "\n",
    "Work through this process on paper, and then review the function in the next cell to see how this looks in python."
   ]
  },
  {
   "cell_type": "code",
   "execution_count": 24,
   "metadata": {
    "collapsed": false
   },
   "outputs": [
    {
     "name": "stdout",
     "output_type": "stream",
     "text": [
      "\u001b[1;32mdef\u001b[0m \u001b[0m_traceback\u001b[0m\u001b[1;33m(\u001b[0m\u001b[0mtraceback_matrix\u001b[0m\u001b[1;33m,\u001b[0m \u001b[0mscore_matrix\u001b[0m\u001b[1;33m,\u001b[0m \u001b[0maln1\u001b[0m\u001b[1;33m,\u001b[0m \u001b[0maln2\u001b[0m\u001b[1;33m,\u001b[0m \u001b[0mstart_row\u001b[0m\u001b[1;33m,\u001b[0m\u001b[1;33m\u001b[0m\n",
      "\u001b[1;33m\u001b[0m               \u001b[0mstart_col\u001b[0m\u001b[1;33m,\u001b[0m \u001b[0mgap_character\u001b[0m\u001b[1;33m=\u001b[0m\u001b[1;34m'-'\u001b[0m\u001b[1;33m)\u001b[0m\u001b[1;33m:\u001b[0m\u001b[1;33m\u001b[0m\n",
      "\u001b[1;33m\u001b[0m    \u001b[1;31m# cache some values for simpler\u001b[0m\u001b[1;33m\u001b[0m\n",
      "\u001b[1;33m\u001b[0m    \u001b[0maend\u001b[0m \u001b[1;33m=\u001b[0m \u001b[0m_traceback_encoding\u001b[0m\u001b[1;33m[\u001b[0m\u001b[1;34m'alignment-end'\u001b[0m\u001b[1;33m]\u001b[0m\u001b[1;33m\u001b[0m\n",
      "\u001b[1;33m\u001b[0m    \u001b[0mmatch\u001b[0m \u001b[1;33m=\u001b[0m \u001b[0m_traceback_encoding\u001b[0m\u001b[1;33m[\u001b[0m\u001b[1;34m'match'\u001b[0m\u001b[1;33m]\u001b[0m\u001b[1;33m\u001b[0m\n",
      "\u001b[1;33m\u001b[0m    \u001b[0mvgap\u001b[0m \u001b[1;33m=\u001b[0m \u001b[0m_traceback_encoding\u001b[0m\u001b[1;33m[\u001b[0m\u001b[1;34m'vertical-gap'\u001b[0m\u001b[1;33m]\u001b[0m\u001b[1;33m\u001b[0m\n",
      "\u001b[1;33m\u001b[0m    \u001b[0mhgap\u001b[0m \u001b[1;33m=\u001b[0m \u001b[0m_traceback_encoding\u001b[0m\u001b[1;33m[\u001b[0m\u001b[1;34m'horizontal-gap'\u001b[0m\u001b[1;33m]\u001b[0m\u001b[1;33m\u001b[0m\n",
      "\u001b[1;33m\u001b[0m\u001b[1;33m\u001b[0m\n",
      "\u001b[1;33m\u001b[0m    \u001b[1;31m# initialize the result alignments\u001b[0m\u001b[1;33m\u001b[0m\n",
      "\u001b[1;33m\u001b[0m    \u001b[0maln1_sequence_count\u001b[0m \u001b[1;33m=\u001b[0m \u001b[0maln1\u001b[0m\u001b[1;33m.\u001b[0m\u001b[0msequence_count\u001b[0m\u001b[1;33m(\u001b[0m\u001b[1;33m)\u001b[0m\u001b[1;33m\u001b[0m\n",
      "\u001b[1;33m\u001b[0m    \u001b[0maligned_seqs1\u001b[0m \u001b[1;33m=\u001b[0m \u001b[1;33m[\u001b[0m\u001b[1;33m[\u001b[0m\u001b[1;33m]\u001b[0m \u001b[1;32mfor\u001b[0m \u001b[0me\u001b[0m \u001b[1;32min\u001b[0m \u001b[0mrange\u001b[0m\u001b[1;33m(\u001b[0m\u001b[0maln1_sequence_count\u001b[0m\u001b[1;33m)\u001b[0m\u001b[1;33m]\u001b[0m\u001b[1;33m\u001b[0m\n",
      "\u001b[1;33m\u001b[0m\u001b[1;33m\u001b[0m\n",
      "\u001b[1;33m\u001b[0m    \u001b[0maln2_sequence_count\u001b[0m \u001b[1;33m=\u001b[0m \u001b[0maln2\u001b[0m\u001b[1;33m.\u001b[0m\u001b[0msequence_count\u001b[0m\u001b[1;33m(\u001b[0m\u001b[1;33m)\u001b[0m\u001b[1;33m\u001b[0m\n",
      "\u001b[1;33m\u001b[0m    \u001b[0maligned_seqs2\u001b[0m \u001b[1;33m=\u001b[0m \u001b[1;33m[\u001b[0m\u001b[1;33m[\u001b[0m\u001b[1;33m]\u001b[0m \u001b[1;32mfor\u001b[0m \u001b[0me\u001b[0m \u001b[1;32min\u001b[0m \u001b[0mrange\u001b[0m\u001b[1;33m(\u001b[0m\u001b[0maln2_sequence_count\u001b[0m\u001b[1;33m)\u001b[0m\u001b[1;33m]\u001b[0m\u001b[1;33m\u001b[0m\n",
      "\u001b[1;33m\u001b[0m\u001b[1;33m\u001b[0m\n",
      "\u001b[1;33m\u001b[0m    \u001b[0mcurrent_row\u001b[0m \u001b[1;33m=\u001b[0m \u001b[0mstart_row\u001b[0m\u001b[1;33m\u001b[0m\n",
      "\u001b[1;33m\u001b[0m    \u001b[0mcurrent_col\u001b[0m \u001b[1;33m=\u001b[0m \u001b[0mstart_col\u001b[0m\u001b[1;33m\u001b[0m\n",
      "\u001b[1;33m\u001b[0m\u001b[1;33m\u001b[0m\n",
      "\u001b[1;33m\u001b[0m    \u001b[0mbest_score\u001b[0m \u001b[1;33m=\u001b[0m \u001b[0mscore_matrix\u001b[0m\u001b[1;33m[\u001b[0m\u001b[0mcurrent_row\u001b[0m\u001b[1;33m,\u001b[0m \u001b[0mcurrent_col\u001b[0m\u001b[1;33m]\u001b[0m\u001b[1;33m\u001b[0m\n",
      "\u001b[1;33m\u001b[0m    \u001b[0mcurrent_value\u001b[0m \u001b[1;33m=\u001b[0m \u001b[1;32mNone\u001b[0m\u001b[1;33m\u001b[0m\n",
      "\u001b[1;33m\u001b[0m\u001b[1;33m\u001b[0m\n",
      "\u001b[1;33m\u001b[0m    \u001b[1;32mwhile\u001b[0m \u001b[0mcurrent_value\u001b[0m \u001b[1;33m!=\u001b[0m \u001b[0maend\u001b[0m\u001b[1;33m:\u001b[0m\u001b[1;33m\u001b[0m\n",
      "\u001b[1;33m\u001b[0m        \u001b[0mcurrent_value\u001b[0m \u001b[1;33m=\u001b[0m \u001b[0mtraceback_matrix\u001b[0m\u001b[1;33m[\u001b[0m\u001b[0mcurrent_row\u001b[0m\u001b[1;33m,\u001b[0m \u001b[0mcurrent_col\u001b[0m\u001b[1;33m]\u001b[0m\u001b[1;33m\u001b[0m\n",
      "\u001b[1;33m\u001b[0m\u001b[1;33m\u001b[0m\n",
      "\u001b[1;33m\u001b[0m        \u001b[1;32mif\u001b[0m \u001b[0mcurrent_value\u001b[0m \u001b[1;33m==\u001b[0m \u001b[0mmatch\u001b[0m\u001b[1;33m:\u001b[0m\u001b[1;33m\u001b[0m\n",
      "\u001b[1;33m\u001b[0m            \u001b[1;32mfor\u001b[0m \u001b[0maligned_seq\u001b[0m\u001b[1;33m,\u001b[0m \u001b[0minput_seq\u001b[0m \u001b[1;32min\u001b[0m \u001b[0mzip\u001b[0m\u001b[1;33m(\u001b[0m\u001b[0maligned_seqs1\u001b[0m\u001b[1;33m,\u001b[0m \u001b[0maln1\u001b[0m\u001b[1;33m)\u001b[0m\u001b[1;33m:\u001b[0m\u001b[1;33m\u001b[0m\n",
      "\u001b[1;33m\u001b[0m                \u001b[0maligned_seq\u001b[0m\u001b[1;33m.\u001b[0m\u001b[0mappend\u001b[0m\u001b[1;33m(\u001b[0m\u001b[0mstr\u001b[0m\u001b[1;33m(\u001b[0m\u001b[0minput_seq\u001b[0m\u001b[1;33m[\u001b[0m\u001b[0mcurrent_col\u001b[0m\u001b[1;33m-\u001b[0m\u001b[1;36m1\u001b[0m\u001b[1;33m]\u001b[0m\u001b[1;33m)\u001b[0m\u001b[1;33m)\u001b[0m\u001b[1;33m\u001b[0m\n",
      "\u001b[1;33m\u001b[0m            \u001b[1;32mfor\u001b[0m \u001b[0maligned_seq\u001b[0m\u001b[1;33m,\u001b[0m \u001b[0minput_seq\u001b[0m \u001b[1;32min\u001b[0m \u001b[0mzip\u001b[0m\u001b[1;33m(\u001b[0m\u001b[0maligned_seqs2\u001b[0m\u001b[1;33m,\u001b[0m \u001b[0maln2\u001b[0m\u001b[1;33m)\u001b[0m\u001b[1;33m:\u001b[0m\u001b[1;33m\u001b[0m\n",
      "\u001b[1;33m\u001b[0m                \u001b[0maligned_seq\u001b[0m\u001b[1;33m.\u001b[0m\u001b[0mappend\u001b[0m\u001b[1;33m(\u001b[0m\u001b[0mstr\u001b[0m\u001b[1;33m(\u001b[0m\u001b[0minput_seq\u001b[0m\u001b[1;33m[\u001b[0m\u001b[0mcurrent_row\u001b[0m\u001b[1;33m-\u001b[0m\u001b[1;36m1\u001b[0m\u001b[1;33m]\u001b[0m\u001b[1;33m)\u001b[0m\u001b[1;33m)\u001b[0m\u001b[1;33m\u001b[0m\n",
      "\u001b[1;33m\u001b[0m            \u001b[0mcurrent_row\u001b[0m \u001b[1;33m-=\u001b[0m \u001b[1;36m1\u001b[0m\u001b[1;33m\u001b[0m\n",
      "\u001b[1;33m\u001b[0m            \u001b[0mcurrent_col\u001b[0m \u001b[1;33m-=\u001b[0m \u001b[1;36m1\u001b[0m\u001b[1;33m\u001b[0m\n",
      "\u001b[1;33m\u001b[0m        \u001b[1;32melif\u001b[0m \u001b[0mcurrent_value\u001b[0m \u001b[1;33m==\u001b[0m \u001b[0mvgap\u001b[0m\u001b[1;33m:\u001b[0m\u001b[1;33m\u001b[0m\n",
      "\u001b[1;33m\u001b[0m            \u001b[1;32mfor\u001b[0m \u001b[0maligned_seq\u001b[0m \u001b[1;32min\u001b[0m \u001b[0maligned_seqs1\u001b[0m\u001b[1;33m:\u001b[0m\u001b[1;33m\u001b[0m\n",
      "\u001b[1;33m\u001b[0m                \u001b[0maligned_seq\u001b[0m\u001b[1;33m.\u001b[0m\u001b[0mappend\u001b[0m\u001b[1;33m(\u001b[0m\u001b[1;34m'-'\u001b[0m\u001b[1;33m)\u001b[0m\u001b[1;33m\u001b[0m\n",
      "\u001b[1;33m\u001b[0m            \u001b[1;32mfor\u001b[0m \u001b[0maligned_seq\u001b[0m\u001b[1;33m,\u001b[0m \u001b[0minput_seq\u001b[0m \u001b[1;32min\u001b[0m \u001b[0mzip\u001b[0m\u001b[1;33m(\u001b[0m\u001b[0maligned_seqs2\u001b[0m\u001b[1;33m,\u001b[0m \u001b[0maln2\u001b[0m\u001b[1;33m)\u001b[0m\u001b[1;33m:\u001b[0m\u001b[1;33m\u001b[0m\n",
      "\u001b[1;33m\u001b[0m                \u001b[0maligned_seq\u001b[0m\u001b[1;33m.\u001b[0m\u001b[0mappend\u001b[0m\u001b[1;33m(\u001b[0m\u001b[0mstr\u001b[0m\u001b[1;33m(\u001b[0m\u001b[0minput_seq\u001b[0m\u001b[1;33m[\u001b[0m\u001b[0mcurrent_row\u001b[0m\u001b[1;33m-\u001b[0m\u001b[1;36m1\u001b[0m\u001b[1;33m]\u001b[0m\u001b[1;33m)\u001b[0m\u001b[1;33m)\u001b[0m\u001b[1;33m\u001b[0m\n",
      "\u001b[1;33m\u001b[0m            \u001b[0mcurrent_row\u001b[0m \u001b[1;33m-=\u001b[0m \u001b[1;36m1\u001b[0m\u001b[1;33m\u001b[0m\n",
      "\u001b[1;33m\u001b[0m        \u001b[1;32melif\u001b[0m \u001b[0mcurrent_value\u001b[0m \u001b[1;33m==\u001b[0m \u001b[0mhgap\u001b[0m\u001b[1;33m:\u001b[0m\u001b[1;33m\u001b[0m\n",
      "\u001b[1;33m\u001b[0m            \u001b[1;32mfor\u001b[0m \u001b[0maligned_seq\u001b[0m\u001b[1;33m,\u001b[0m \u001b[0minput_seq\u001b[0m \u001b[1;32min\u001b[0m \u001b[0mzip\u001b[0m\u001b[1;33m(\u001b[0m\u001b[0maligned_seqs1\u001b[0m\u001b[1;33m,\u001b[0m \u001b[0maln1\u001b[0m\u001b[1;33m)\u001b[0m\u001b[1;33m:\u001b[0m\u001b[1;33m\u001b[0m\n",
      "\u001b[1;33m\u001b[0m                \u001b[0maligned_seq\u001b[0m\u001b[1;33m.\u001b[0m\u001b[0mappend\u001b[0m\u001b[1;33m(\u001b[0m\u001b[0mstr\u001b[0m\u001b[1;33m(\u001b[0m\u001b[0minput_seq\u001b[0m\u001b[1;33m[\u001b[0m\u001b[0mcurrent_col\u001b[0m\u001b[1;33m-\u001b[0m\u001b[1;36m1\u001b[0m\u001b[1;33m]\u001b[0m\u001b[1;33m)\u001b[0m\u001b[1;33m)\u001b[0m\u001b[1;33m\u001b[0m\n",
      "\u001b[1;33m\u001b[0m            \u001b[1;32mfor\u001b[0m \u001b[0maligned_seq\u001b[0m \u001b[1;32min\u001b[0m \u001b[0maligned_seqs2\u001b[0m\u001b[1;33m:\u001b[0m\u001b[1;33m\u001b[0m\n",
      "\u001b[1;33m\u001b[0m                \u001b[0maligned_seq\u001b[0m\u001b[1;33m.\u001b[0m\u001b[0mappend\u001b[0m\u001b[1;33m(\u001b[0m\u001b[1;34m'-'\u001b[0m\u001b[1;33m)\u001b[0m\u001b[1;33m\u001b[0m\n",
      "\u001b[1;33m\u001b[0m            \u001b[0mcurrent_col\u001b[0m \u001b[1;33m-=\u001b[0m \u001b[1;36m1\u001b[0m\u001b[1;33m\u001b[0m\n",
      "\u001b[1;33m\u001b[0m        \u001b[1;32melif\u001b[0m \u001b[0mcurrent_value\u001b[0m \u001b[1;33m==\u001b[0m \u001b[0maend\u001b[0m\u001b[1;33m:\u001b[0m\u001b[1;33m\u001b[0m\n",
      "\u001b[1;33m\u001b[0m            \u001b[1;32mcontinue\u001b[0m\u001b[1;33m\u001b[0m\n",
      "\u001b[1;33m\u001b[0m        \u001b[1;32melse\u001b[0m\u001b[1;33m:\u001b[0m\u001b[1;33m\u001b[0m\n",
      "\u001b[1;33m\u001b[0m            \u001b[1;32mraise\u001b[0m \u001b[0mValueError\u001b[0m\u001b[1;33m(\u001b[0m\u001b[1;33m\u001b[0m\n",
      "\u001b[1;33m\u001b[0m                \u001b[1;34m\"Invalid value in traceback matrix: %s\"\u001b[0m \u001b[1;33m%\u001b[0m \u001b[0mcurrent_value\u001b[0m\u001b[1;33m)\u001b[0m\u001b[1;33m\u001b[0m\n",
      "\u001b[1;33m\u001b[0m\u001b[1;33m\u001b[0m\n",
      "\u001b[1;33m\u001b[0m    \u001b[1;32mfor\u001b[0m \u001b[0mi\u001b[0m \u001b[1;32min\u001b[0m \u001b[0mrange\u001b[0m\u001b[1;33m(\u001b[0m\u001b[0maln1_sequence_count\u001b[0m\u001b[1;33m)\u001b[0m\u001b[1;33m:\u001b[0m\u001b[1;33m\u001b[0m\n",
      "\u001b[1;33m\u001b[0m        \u001b[0maligned_seq\u001b[0m \u001b[1;33m=\u001b[0m \u001b[1;34m''\u001b[0m\u001b[1;33m.\u001b[0m\u001b[0mjoin\u001b[0m\u001b[1;33m(\u001b[0m\u001b[0maligned_seqs1\u001b[0m\u001b[1;33m[\u001b[0m\u001b[0mi\u001b[0m\u001b[1;33m]\u001b[0m\u001b[1;33m[\u001b[0m\u001b[1;33m:\u001b[0m\u001b[1;33m:\u001b[0m\u001b[1;33m-\u001b[0m\u001b[1;36m1\u001b[0m\u001b[1;33m]\u001b[0m\u001b[1;33m)\u001b[0m\u001b[1;33m\u001b[0m\n",
      "\u001b[1;33m\u001b[0m        \u001b[0mseq_id\u001b[0m \u001b[1;33m=\u001b[0m \u001b[0m_get_seq_id\u001b[0m\u001b[1;33m(\u001b[0m\u001b[0maln1\u001b[0m\u001b[1;33m[\u001b[0m\u001b[0mi\u001b[0m\u001b[1;33m]\u001b[0m\u001b[1;33m,\u001b[0m \u001b[0mstr\u001b[0m\u001b[1;33m(\u001b[0m\u001b[0mi\u001b[0m\u001b[1;33m)\u001b[0m\u001b[1;33m)\u001b[0m\u001b[1;33m\u001b[0m\n",
      "\u001b[1;33m\u001b[0m        \u001b[0maligned_seqs1\u001b[0m\u001b[1;33m[\u001b[0m\u001b[0mi\u001b[0m\u001b[1;33m]\u001b[0m \u001b[1;33m=\u001b[0m \u001b[0mBiologicalSequence\u001b[0m\u001b[1;33m(\u001b[0m\u001b[0maligned_seq\u001b[0m\u001b[1;33m,\u001b[0m \u001b[0mid\u001b[0m\u001b[1;33m=\u001b[0m\u001b[0mseq_id\u001b[0m\u001b[1;33m)\u001b[0m\u001b[1;33m\u001b[0m\n",
      "\u001b[1;33m\u001b[0m\u001b[1;33m\u001b[0m\n",
      "\u001b[1;33m\u001b[0m    \u001b[1;32mfor\u001b[0m \u001b[0mi\u001b[0m \u001b[1;32min\u001b[0m \u001b[0mrange\u001b[0m\u001b[1;33m(\u001b[0m\u001b[0maln2_sequence_count\u001b[0m\u001b[1;33m)\u001b[0m\u001b[1;33m:\u001b[0m\u001b[1;33m\u001b[0m\n",
      "\u001b[1;33m\u001b[0m        \u001b[0maligned_seq\u001b[0m \u001b[1;33m=\u001b[0m \u001b[1;34m''\u001b[0m\u001b[1;33m.\u001b[0m\u001b[0mjoin\u001b[0m\u001b[1;33m(\u001b[0m\u001b[0maligned_seqs2\u001b[0m\u001b[1;33m[\u001b[0m\u001b[0mi\u001b[0m\u001b[1;33m]\u001b[0m\u001b[1;33m[\u001b[0m\u001b[1;33m:\u001b[0m\u001b[1;33m:\u001b[0m\u001b[1;33m-\u001b[0m\u001b[1;36m1\u001b[0m\u001b[1;33m]\u001b[0m\u001b[1;33m)\u001b[0m\u001b[1;33m\u001b[0m\n",
      "\u001b[1;33m\u001b[0m        \u001b[0mseq_id\u001b[0m \u001b[1;33m=\u001b[0m \u001b[0m_get_seq_id\u001b[0m\u001b[1;33m(\u001b[0m\u001b[0maln2\u001b[0m\u001b[1;33m[\u001b[0m\u001b[0mi\u001b[0m\u001b[1;33m]\u001b[0m\u001b[1;33m,\u001b[0m \u001b[0mstr\u001b[0m\u001b[1;33m(\u001b[0m\u001b[0mi\u001b[0m \u001b[1;33m+\u001b[0m \u001b[0maln1_sequence_count\u001b[0m\u001b[1;33m)\u001b[0m\u001b[1;33m)\u001b[0m\u001b[1;33m\u001b[0m\n",
      "\u001b[1;33m\u001b[0m        \u001b[0maligned_seqs2\u001b[0m\u001b[1;33m[\u001b[0m\u001b[0mi\u001b[0m\u001b[1;33m]\u001b[0m \u001b[1;33m=\u001b[0m \u001b[0mBiologicalSequence\u001b[0m\u001b[1;33m(\u001b[0m\u001b[0maligned_seq\u001b[0m\u001b[1;33m,\u001b[0m \u001b[0mid\u001b[0m\u001b[1;33m=\u001b[0m\u001b[0mseq_id\u001b[0m\u001b[1;33m)\u001b[0m\u001b[1;33m\u001b[0m\n",
      "\u001b[1;33m\u001b[0m\u001b[1;33m\u001b[0m\n",
      "\u001b[1;33m\u001b[0m    \u001b[1;32mreturn\u001b[0m \u001b[1;33m(\u001b[0m\u001b[0maligned_seqs1\u001b[0m\u001b[1;33m,\u001b[0m \u001b[0maligned_seqs2\u001b[0m\u001b[1;33m,\u001b[0m \u001b[0mbest_score\u001b[0m\u001b[1;33m,\u001b[0m\u001b[1;33m\u001b[0m\n",
      "\u001b[1;33m\u001b[0m            \u001b[0mcurrent_col\u001b[0m\u001b[1;33m,\u001b[0m \u001b[0mcurrent_row\u001b[0m\u001b[1;33m)\u001b[0m\u001b[1;33m\u001b[0m\u001b[0m\n",
      "\n"
     ]
    }
   ],
   "source": [
    "from skbio.alignment._pairwise import _traceback\n",
    "%psource _traceback"
   ]
  },
  {
   "cell_type": "markdown",
   "metadata": {},
   "source": [
    "You can then execute this as follows, and print out the resulting alignment."
   ]
  },
  {
   "cell_type": "code",
   "execution_count": 25,
   "metadata": {
    "collapsed": false
   },
   "outputs": [
    {
     "name": "stdout",
     "output_type": "stream",
     "text": [
      "HEAGAWGHE-E\n",
      "-PA--W-HEAE\n",
      "1.0\n"
     ]
    }
   ],
   "source": [
    "aln1, aln2, score, _, _ = _traceback(traceback_matrix,nw_matrix,seq1,seq2, nw_matrix.shape[0]-1, nw_matrix.shape[1]-1)\n",
    "\n",
    "print(aln1[0])\n",
    "print(aln2[0])\n",
    "print(score)"
   ]
  },
  {
   "cell_type": "markdown",
   "metadata": {},
   "source": [
    "**Next steps**: All of those steps are a bit ugly, so as a developer you'd want to make this functionality generally accessible to users. To do that, you'd want to define a function that takes all of the necessary input and provides the aligned sequences and the score as output, without requiring the user to make several function calls. What are the required inputs? What steps would this function need to perform? "
   ]
  },
  {
   "cell_type": "code",
   "execution_count": 26,
   "metadata": {
    "collapsed": false
   },
   "outputs": [
    {
     "name": "stdout",
     "output_type": "stream",
     "text": [
      "\u001b[1;32mdef\u001b[0m \u001b[0mglobal_pairwise_align\u001b[0m\u001b[1;33m(\u001b[0m\u001b[0mseq1\u001b[0m\u001b[1;33m,\u001b[0m \u001b[0mseq2\u001b[0m\u001b[1;33m,\u001b[0m \u001b[0mgap_open_penalty\u001b[0m\u001b[1;33m,\u001b[0m \u001b[0mgap_extend_penalty\u001b[0m\u001b[1;33m,\u001b[0m\u001b[1;33m\u001b[0m\n",
      "\u001b[1;33m\u001b[0m                          \u001b[0msubstitution_matrix\u001b[0m\u001b[1;33m,\u001b[0m \u001b[0mpenalize_terminal_gaps\u001b[0m\u001b[1;33m=\u001b[0m\u001b[1;32mFalse\u001b[0m\u001b[1;33m)\u001b[0m\u001b[1;33m:\u001b[0m\u001b[1;33m\u001b[0m\n",
      "\u001b[1;33m\u001b[0m    \u001b[1;34m\"\"\"Globally align a pair of seqs or alignments with Needleman-Wunsch\u001b[0m\n",
      "\u001b[1;34m\u001b[0m\n",
      "\u001b[1;34m    Parameters\u001b[0m\n",
      "\u001b[1;34m    ----------\u001b[0m\n",
      "\u001b[1;34m    seq1 : str, BiologicalSequence, or Alignment\u001b[0m\n",
      "\u001b[1;34m        The first unaligned sequence(s).\u001b[0m\n",
      "\u001b[1;34m    seq2 : str, BiologicalSequence, or Alignment\u001b[0m\n",
      "\u001b[1;34m        The second unaligned sequence(s).\u001b[0m\n",
      "\u001b[1;34m    gap_open_penalty : int or float\u001b[0m\n",
      "\u001b[1;34m        Penalty for opening a gap (this is substracted from previous best\u001b[0m\n",
      "\u001b[1;34m        alignment score, so is typically positive).\u001b[0m\n",
      "\u001b[1;34m    gap_extend_penalty : int or float\u001b[0m\n",
      "\u001b[1;34m        Penalty for extending a gap (this is substracted from previous best\u001b[0m\n",
      "\u001b[1;34m        alignment score, so is typically positive).\u001b[0m\n",
      "\u001b[1;34m    substitution_matrix: 2D dict (or similar)\u001b[0m\n",
      "\u001b[1;34m        Lookup for substitution scores (these values are added to the\u001b[0m\n",
      "\u001b[1;34m        previous best alignment score).\u001b[0m\n",
      "\u001b[1;34m    penalize_terminal_gaps: bool, optional\u001b[0m\n",
      "\u001b[1;34m        If True, will continue to penalize gaps even after one sequence has\u001b[0m\n",
      "\u001b[1;34m        been aligned through its end. This behavior is true Needleman-Wunsch\u001b[0m\n",
      "\u001b[1;34m        alignment, but results in (biologically irrelevant) artifacts when\u001b[0m\n",
      "\u001b[1;34m        the sequences being aligned are of different length. This is ``False``\u001b[0m\n",
      "\u001b[1;34m        by default, which is very likely to be the behavior you want in all or\u001b[0m\n",
      "\u001b[1;34m        nearly all cases.\u001b[0m\n",
      "\u001b[1;34m\u001b[0m\n",
      "\u001b[1;34m    Returns\u001b[0m\n",
      "\u001b[1;34m    -------\u001b[0m\n",
      "\u001b[1;34m    skbio.Alignment\u001b[0m\n",
      "\u001b[1;34m        ``Alignment`` object containing the aligned sequences as well as\u001b[0m\n",
      "\u001b[1;34m        details about the alignment.\u001b[0m\n",
      "\u001b[1;34m\u001b[0m\n",
      "\u001b[1;34m    See Also\u001b[0m\n",
      "\u001b[1;34m    --------\u001b[0m\n",
      "\u001b[1;34m    local_pairwise_align\u001b[0m\n",
      "\u001b[1;34m    local_pairwise_align_protein\u001b[0m\n",
      "\u001b[1;34m    local_pairwise_align_nucleotide\u001b[0m\n",
      "\u001b[1;34m    skbio.alignment.local_pairwise_align_ssw\u001b[0m\n",
      "\u001b[1;34m    global_pairwise_align_protein\u001b[0m\n",
      "\u001b[1;34m    global_pairwise_align_nucelotide\u001b[0m\n",
      "\u001b[1;34m\u001b[0m\n",
      "\u001b[1;34m    Notes\u001b[0m\n",
      "\u001b[1;34m    -----\u001b[0m\n",
      "\u001b[1;34m    This algorithm (in a slightly more basic form) was originally described\u001b[0m\n",
      "\u001b[1;34m    in [1]_. The scikit-bio implementation was validated against the\u001b[0m\n",
      "\u001b[1;34m    EMBOSS needle web server [2]_.\u001b[0m\n",
      "\u001b[1;34m\u001b[0m\n",
      "\u001b[1;34m    This function can be use to align either a pair of sequences, a pair of\u001b[0m\n",
      "\u001b[1;34m    alignments, or a sequence and an alignment.\u001b[0m\n",
      "\u001b[1;34m\u001b[0m\n",
      "\u001b[1;34m    References\u001b[0m\n",
      "\u001b[1;34m    ----------\u001b[0m\n",
      "\u001b[1;34m    .. [1] A general method applicable to the search for similarities in\u001b[0m\n",
      "\u001b[1;34m       the amino acid sequence of two proteins.\u001b[0m\n",
      "\u001b[1;34m       Needleman SB, Wunsch CD.\u001b[0m\n",
      "\u001b[1;34m       J Mol Biol. 1970 Mar;48(3):443-53.\u001b[0m\n",
      "\u001b[1;34m    .. [2] http://www.ebi.ac.uk/Tools/psa/emboss_needle/\u001b[0m\n",
      "\u001b[1;34m\u001b[0m\n",
      "\u001b[1;34m    \"\"\"\u001b[0m\u001b[1;33m\u001b[0m\n",
      "\u001b[1;33m\u001b[0m    \u001b[0mwarn\u001b[0m\u001b[1;33m(\u001b[0m\u001b[1;34m\"You're using skbio's python implementation of Needleman-Wunsch \"\u001b[0m\u001b[1;33m\u001b[0m\n",
      "\u001b[1;33m\u001b[0m         \u001b[1;34m\"alignment. This is known to be very slow (e.g., thousands of times \"\u001b[0m\u001b[1;33m\u001b[0m\n",
      "\u001b[1;33m\u001b[0m         \u001b[1;34m\"slower than a native C implementation). We'll be adding a faster \"\u001b[0m\u001b[1;33m\u001b[0m\n",
      "\u001b[1;33m\u001b[0m         \u001b[1;34m\"version soon (see https://github.com/biocore/scikit-bio/issues/254 \"\u001b[0m\u001b[1;33m\u001b[0m\n",
      "\u001b[1;33m\u001b[0m         \u001b[1;34m\"to track progress on this).\"\u001b[0m\u001b[1;33m,\u001b[0m \u001b[0mEfficiencyWarning\u001b[0m\u001b[1;33m)\u001b[0m\u001b[1;33m\u001b[0m\n",
      "\u001b[1;33m\u001b[0m\u001b[1;33m\u001b[0m\n",
      "\u001b[1;33m\u001b[0m    \u001b[0mseq1\u001b[0m \u001b[1;33m=\u001b[0m \u001b[0m_coerce_alignment_input_type\u001b[0m\u001b[1;33m(\u001b[0m\u001b[0mseq1\u001b[0m\u001b[1;33m,\u001b[0m \u001b[0mdisallow_alignment\u001b[0m\u001b[1;33m=\u001b[0m\u001b[1;32mFalse\u001b[0m\u001b[1;33m)\u001b[0m\u001b[1;33m\u001b[0m\n",
      "\u001b[1;33m\u001b[0m    \u001b[0mseq2\u001b[0m \u001b[1;33m=\u001b[0m \u001b[0m_coerce_alignment_input_type\u001b[0m\u001b[1;33m(\u001b[0m\u001b[0mseq2\u001b[0m\u001b[1;33m,\u001b[0m \u001b[0mdisallow_alignment\u001b[0m\u001b[1;33m=\u001b[0m\u001b[1;32mFalse\u001b[0m\u001b[1;33m)\u001b[0m\u001b[1;33m\u001b[0m\n",
      "\u001b[1;33m\u001b[0m\u001b[1;33m\u001b[0m\n",
      "\u001b[1;33m\u001b[0m    \u001b[1;32mif\u001b[0m \u001b[0mpenalize_terminal_gaps\u001b[0m\u001b[1;33m:\u001b[0m\u001b[1;33m\u001b[0m\n",
      "\u001b[1;33m\u001b[0m        \u001b[0minit_matrices_f\u001b[0m \u001b[1;33m=\u001b[0m \u001b[0m_init_matrices_nw\u001b[0m\u001b[1;33m\u001b[0m\n",
      "\u001b[1;33m\u001b[0m    \u001b[1;32melse\u001b[0m\u001b[1;33m:\u001b[0m\u001b[1;33m\u001b[0m\n",
      "\u001b[1;33m\u001b[0m        \u001b[0minit_matrices_f\u001b[0m \u001b[1;33m=\u001b[0m \u001b[0m_init_matrices_nw_no_terminal_gap_penalty\u001b[0m\u001b[1;33m\u001b[0m\n",
      "\u001b[1;33m\u001b[0m\u001b[1;33m\u001b[0m\n",
      "\u001b[1;33m\u001b[0m    \u001b[0mscore_matrix\u001b[0m\u001b[1;33m,\u001b[0m \u001b[0mtraceback_matrix\u001b[0m \u001b[1;33m=\u001b[0m \\\n",
      "        \u001b[0m_compute_score_and_traceback_matrices\u001b[0m\u001b[1;33m(\u001b[0m\u001b[1;33m\u001b[0m\n",
      "\u001b[1;33m\u001b[0m            \u001b[0mseq1\u001b[0m\u001b[1;33m,\u001b[0m \u001b[0mseq2\u001b[0m\u001b[1;33m,\u001b[0m \u001b[0mgap_open_penalty\u001b[0m\u001b[1;33m,\u001b[0m \u001b[0mgap_extend_penalty\u001b[0m\u001b[1;33m,\u001b[0m\u001b[1;33m\u001b[0m\n",
      "\u001b[1;33m\u001b[0m            \u001b[0msubstitution_matrix\u001b[0m\u001b[1;33m,\u001b[0m \u001b[0mnew_alignment_score\u001b[0m\u001b[1;33m=\u001b[0m\u001b[1;33m-\u001b[0m\u001b[0mnp\u001b[0m\u001b[1;33m.\u001b[0m\u001b[0minf\u001b[0m\u001b[1;33m,\u001b[0m\u001b[1;33m\u001b[0m\n",
      "\u001b[1;33m\u001b[0m            \u001b[0minit_matrices_f\u001b[0m\u001b[1;33m=\u001b[0m\u001b[0minit_matrices_f\u001b[0m\u001b[1;33m,\u001b[0m\u001b[1;33m\u001b[0m\n",
      "\u001b[1;33m\u001b[0m            \u001b[0mpenalize_terminal_gaps\u001b[0m\u001b[1;33m=\u001b[0m\u001b[0mpenalize_terminal_gaps\u001b[0m\u001b[1;33m)\u001b[0m\u001b[1;33m\u001b[0m\n",
      "\u001b[1;33m\u001b[0m\u001b[1;33m\u001b[0m\n",
      "\u001b[1;33m\u001b[0m    \u001b[0mend_row_position\u001b[0m \u001b[1;33m=\u001b[0m \u001b[0mtraceback_matrix\u001b[0m\u001b[1;33m.\u001b[0m\u001b[0mshape\u001b[0m\u001b[1;33m[\u001b[0m\u001b[1;36m0\u001b[0m\u001b[1;33m]\u001b[0m \u001b[1;33m-\u001b[0m \u001b[1;36m1\u001b[0m\u001b[1;33m\u001b[0m\n",
      "\u001b[1;33m\u001b[0m    \u001b[0mend_col_position\u001b[0m \u001b[1;33m=\u001b[0m \u001b[0mtraceback_matrix\u001b[0m\u001b[1;33m.\u001b[0m\u001b[0mshape\u001b[0m\u001b[1;33m[\u001b[0m\u001b[1;36m1\u001b[0m\u001b[1;33m]\u001b[0m \u001b[1;33m-\u001b[0m \u001b[1;36m1\u001b[0m\u001b[1;33m\u001b[0m\n",
      "\u001b[1;33m\u001b[0m\u001b[1;33m\u001b[0m\n",
      "\u001b[1;33m\u001b[0m    \u001b[0maligned1\u001b[0m\u001b[1;33m,\u001b[0m \u001b[0maligned2\u001b[0m\u001b[1;33m,\u001b[0m \u001b[0mscore\u001b[0m\u001b[1;33m,\u001b[0m \u001b[0mseq1_start_position\u001b[0m\u001b[1;33m,\u001b[0m \u001b[0mseq2_start_position\u001b[0m \u001b[1;33m=\u001b[0m \\\n",
      "        \u001b[0m_traceback\u001b[0m\u001b[1;33m(\u001b[0m\u001b[0mtraceback_matrix\u001b[0m\u001b[1;33m,\u001b[0m \u001b[0mscore_matrix\u001b[0m\u001b[1;33m,\u001b[0m \u001b[0mseq1\u001b[0m\u001b[1;33m,\u001b[0m \u001b[0mseq2\u001b[0m\u001b[1;33m,\u001b[0m\u001b[1;33m\u001b[0m\n",
      "\u001b[1;33m\u001b[0m                   \u001b[0mend_row_position\u001b[0m\u001b[1;33m,\u001b[0m \u001b[0mend_col_position\u001b[0m\u001b[1;33m)\u001b[0m\u001b[1;33m\u001b[0m\n",
      "\u001b[1;33m\u001b[0m    \u001b[0mstart_end_positions\u001b[0m \u001b[1;33m=\u001b[0m \u001b[1;33m[\u001b[0m\u001b[1;33m(\u001b[0m\u001b[0mseq1_start_position\u001b[0m\u001b[1;33m,\u001b[0m \u001b[0mend_col_position\u001b[0m\u001b[1;33m-\u001b[0m\u001b[1;36m1\u001b[0m\u001b[1;33m)\u001b[0m\u001b[1;33m,\u001b[0m\u001b[1;33m\u001b[0m\n",
      "\u001b[1;33m\u001b[0m                           \u001b[1;33m(\u001b[0m\u001b[0mseq2_start_position\u001b[0m\u001b[1;33m,\u001b[0m \u001b[0mend_row_position\u001b[0m\u001b[1;33m-\u001b[0m\u001b[1;36m1\u001b[0m\u001b[1;33m)\u001b[0m\u001b[1;33m]\u001b[0m\u001b[1;33m\u001b[0m\n",
      "\u001b[1;33m\u001b[0m\u001b[1;33m\u001b[0m\n",
      "\u001b[1;33m\u001b[0m    \u001b[1;32mreturn\u001b[0m \u001b[0mAlignment\u001b[0m\u001b[1;33m(\u001b[0m\u001b[0maligned1\u001b[0m \u001b[1;33m+\u001b[0m \u001b[0maligned2\u001b[0m\u001b[1;33m,\u001b[0m \u001b[0mscore\u001b[0m\u001b[1;33m=\u001b[0m\u001b[0mscore\u001b[0m\u001b[1;33m,\u001b[0m\u001b[1;33m\u001b[0m\n",
      "\u001b[1;33m\u001b[0m                     \u001b[0mstart_end_positions\u001b[0m\u001b[1;33m=\u001b[0m\u001b[0mstart_end_positions\u001b[0m\u001b[1;33m)\u001b[0m\u001b[1;33m\u001b[0m\u001b[0m\n",
      "\n"
     ]
    }
   ],
   "source": [
    "from skbio.alignment import global_pairwise_align\n",
    "%psource global_pairwise_align"
   ]
  },
  {
   "cell_type": "code",
   "execution_count": 27,
   "metadata": {
    "collapsed": false
   },
   "outputs": [
    {
     "name": "stdout",
     "output_type": "stream",
     "text": [
      ">0\n",
      "HEAGAWGHE-E\n",
      ">1\n",
      "-PA--W-HEAE\n",
      "\n",
      "1.0\n"
     ]
    },
    {
     "name": "stderr",
     "output_type": "stream",
     "text": [
      "/home/anders/anaconda/envs/iab/lib/python3.4/site-packages/skbio/alignment/_pairwise.py:540: EfficiencyWarning: You're using skbio's python implementation of Needleman-Wunsch alignment. This is known to be very slow (e.g., thousands of times slower than a native C implementation). We'll be adding a faster version soon (see https://github.com/biocore/scikit-bio/issues/254 to track progress on this).\n",
      "  \"to track progress on this).\", EfficiencyWarning)\n"
     ]
    }
   ],
   "source": [
    "alignment = global_pairwise_align(\"HEAGAWGHEE\", \"PAWHEAE\", 8, 8, blosum50, penalize_terminal_gaps=True)\n",
    "print(str(alignment))\n",
    "print(alignment.score())"
   ]
  },
  {
   "cell_type": "markdown",
   "metadata": {},
   "source": [
    "## Global versus local alignment"
   ]
  },
  {
   "cell_type": "markdown",
   "metadata": {},
   "source": [
    "The alignment we just constructed is what's known as a *global alignment*, meaning we align both sequences from the beginning through the end. This has some important specific applications: for example, if we have two full-length protein sequences, and we have a crystal structure for one of them, we may want to have a direct mapping between all positions in both sequences. Probably more common however, is local alignment: where we have a pair of sequences that we suspect may partially overlap each other, and we want to know what the best possible alignment of all or part of one sequence is with all or part of the other sequences. Perhaps the most widely used application of this is in the BLAST search algorithm, where we a query sequence and we want to know what the closest match (or matches) are in a reference database containing many different gene sequences. In this case, the whole reference database could be represented as a single sequence, as we could perform a local alignment against it to find the region that contains the highest scoring match. "
   ]
  },
  {
   "cell_type": "markdown",
   "metadata": {},
   "source": [
    "## Smith-Waterman local sequence alignment"
   ]
  },
  {
   "cell_type": "markdown",
   "metadata": {},
   "source": [
    "The Smith-Waterman algorithm is used for performing pairwise local alignment. It is nearly identical to Needleman-Wunsch, with three small important differences. \n",
    "\n",
    "First, initialization is easier:\n",
    "$$\n",
    "\\begin{align}\n",
    "& F(0, 0) = 0\\\\\n",
    "& F(i, 0) = 0\\\\\n",
    "& F(0, j) = 0\n",
    "\\end{align}\n",
    "$$"
   ]
  },
  {
   "cell_type": "code",
   "execution_count": 28,
   "metadata": {
    "collapsed": false
   },
   "outputs": [
    {
     "name": "stdout",
     "output_type": "stream",
     "text": [
      "        H  E  A  G  A  W  G  H  E  E\n",
      "     -  -  -  -  -  -  -  -  -  -  -\n",
      "  P  -  -  -  -  -  -  -  -  -  -  -\n",
      "  A  -  -  -  -  -  -  -  -  -  -  -\n",
      "  W  -  -  -  -  -  -  -  -  -  -  -\n",
      "  H  -  -  -  -  -  -  -  -  -  -  -\n",
      "  E  -  -  -  -  -  -  -  -  -  -  -\n",
      "  A  -  -  -  -  -  -  -  -  -  -  -\n",
      "  E  -  -  -  -  -  -  -  -  -  -  -\n"
     ]
    }
   ],
   "source": [
    "data = []\n",
    "# This is a hack: to pad the matrix with an \n",
    "# extra row and column at the beginning I'm just prepending a \n",
    "# space to each sequence. Need to improve handling of that.\n",
    "padded_seq1 = \" \" + str(seq1[0])\n",
    "padded_seq2 = \" \" + str(seq2[0])\n",
    "\n",
    "for p in padded_seq2:\n",
    "    data.append(['-']*len(padded_seq1))\n",
    "\n",
    "print(format_matrix(padded_seq1, padded_seq2, data))"
   ]
  },
  {
   "cell_type": "code",
   "execution_count": 29,
   "metadata": {
    "collapsed": false
   },
   "outputs": [
    {
     "name": "stdout",
     "output_type": "stream",
     "text": [
      "        H  E  A  G  A  W  G  H  E  E\n",
      "     0  0  0  0  0  0  0  0  0  0  0\n",
      "  P  0  -  -  -  -  -  -  -  -  -  -\n",
      "  A  0  -  -  -  -  -  -  -  -  -  -\n",
      "  W  0  -  -  -  -  -  -  -  -  -  -\n",
      "  H  0  -  -  -  -  -  -  -  -  -  -\n",
      "  E  0  -  -  -  -  -  -  -  -  -  -\n",
      "  A  0  -  -  -  -  -  -  -  -  -  -\n",
      "  E  0  -  -  -  -  -  -  -  -  -  -\n"
     ]
    }
   ],
   "source": [
    "data[0][0] = 0\n",
    "for i in range(1,len(padded_seq2)):\n",
    "    data[i][0] = 0\n",
    "\n",
    "for j in range(1,len(padded_seq1)):\n",
    "    data[0][j] = 0\n",
    "\n",
    "print(format_matrix(padded_seq1, padded_seq2, data))"
   ]
  },
  {
   "cell_type": "markdown",
   "metadata": {},
   "source": [
    "Next, there is one additional term in the scoring function:\n",
    "\n",
    "$$\n",
    "F(i, j) = max \\left(\\begin{align}\n",
    "& 0\\\\\n",
    "& F(i-1, j-1) + s(c_i, c_j)\\\\\n",
    "& F(i-1, j) - d\\\\\n",
    "& F(i, j-1) - d)\n",
    "\\end{align}\\right)\n",
    "$$\n"
   ]
  },
  {
   "cell_type": "code",
   "execution_count": 30,
   "metadata": {
    "collapsed": false
   },
   "outputs": [
    {
     "name": "stdout",
     "output_type": "stream",
     "text": [
      "\u001b[1;32mdef\u001b[0m \u001b[0m_compute_score_and_traceback_matrices\u001b[0m\u001b[1;33m(\u001b[0m\u001b[1;33m\u001b[0m\n",
      "\u001b[1;33m\u001b[0m        \u001b[0maln1\u001b[0m\u001b[1;33m,\u001b[0m \u001b[0maln2\u001b[0m\u001b[1;33m,\u001b[0m \u001b[0mgap_open_penalty\u001b[0m\u001b[1;33m,\u001b[0m \u001b[0mgap_extend_penalty\u001b[0m\u001b[1;33m,\u001b[0m \u001b[0msubstitution_matrix\u001b[0m\u001b[1;33m,\u001b[0m\u001b[1;33m\u001b[0m\n",
      "\u001b[1;33m\u001b[0m        \u001b[0mnew_alignment_score\u001b[0m\u001b[1;33m=\u001b[0m\u001b[1;33m-\u001b[0m\u001b[0mnp\u001b[0m\u001b[1;33m.\u001b[0m\u001b[0minf\u001b[0m\u001b[1;33m,\u001b[0m \u001b[0minit_matrices_f\u001b[0m\u001b[1;33m=\u001b[0m\u001b[0m_init_matrices_nw\u001b[0m\u001b[1;33m,\u001b[0m\u001b[1;33m\u001b[0m\n",
      "\u001b[1;33m\u001b[0m        \u001b[0mpenalize_terminal_gaps\u001b[0m\u001b[1;33m=\u001b[0m\u001b[1;32mTrue\u001b[0m\u001b[1;33m,\u001b[0m \u001b[0mgap_substitution_score\u001b[0m\u001b[1;33m=\u001b[0m\u001b[1;36m0\u001b[0m\u001b[1;33m)\u001b[0m\u001b[1;33m:\u001b[0m\u001b[1;33m\u001b[0m\n",
      "\u001b[1;33m\u001b[0m    \u001b[1;34m\"\"\"Return dynamic programming (score) and traceback matrices.\u001b[0m\n",
      "\u001b[1;34m\u001b[0m\n",
      "\u001b[1;34m    A note on the ``penalize_terminal_gaps`` parameter. When this value is\u001b[0m\n",
      "\u001b[1;34m    ``False``, this function is no longer true Smith-Waterman/Needleman-Wunsch\u001b[0m\n",
      "\u001b[1;34m    scoring, but when ``True`` it can result in biologically irrelevant\u001b[0m\n",
      "\u001b[1;34m    artifacts in Needleman-Wunsch (global) alignments. Specifically, if one\u001b[0m\n",
      "\u001b[1;34m    sequence is longer than the other (e.g., if aligning a primer sequence to\u001b[0m\n",
      "\u001b[1;34m    an amplification product, or searching for a gene in a genome) the shorter\u001b[0m\n",
      "\u001b[1;34m    sequence will have a long gap inserted. The parameter is ``True`` by\u001b[0m\n",
      "\u001b[1;34m    default (so that this function computes the score and traceback matrices as\u001b[0m\n",
      "\u001b[1;34m    described by the original authors) but the global alignment wrappers pass\u001b[0m\n",
      "\u001b[1;34m    ``False`` by default, so that the global alignment API returns the result\u001b[0m\n",
      "\u001b[1;34m    that users are most likely to be looking for.\u001b[0m\n",
      "\u001b[1;34m\u001b[0m\n",
      "\u001b[1;34m    \"\"\"\u001b[0m\u001b[1;33m\u001b[0m\n",
      "\u001b[1;33m\u001b[0m    \u001b[0maln1_length\u001b[0m \u001b[1;33m=\u001b[0m \u001b[0maln1\u001b[0m\u001b[1;33m.\u001b[0m\u001b[0msequence_length\u001b[0m\u001b[1;33m(\u001b[0m\u001b[1;33m)\u001b[0m\u001b[1;33m\u001b[0m\n",
      "\u001b[1;33m\u001b[0m    \u001b[0maln2_length\u001b[0m \u001b[1;33m=\u001b[0m \u001b[0maln2\u001b[0m\u001b[1;33m.\u001b[0m\u001b[0msequence_length\u001b[0m\u001b[1;33m(\u001b[0m\u001b[1;33m)\u001b[0m\u001b[1;33m\u001b[0m\n",
      "\u001b[1;33m\u001b[0m    \u001b[1;31m# cache some values for quicker/simpler access\u001b[0m\u001b[1;33m\u001b[0m\n",
      "\u001b[1;33m\u001b[0m    \u001b[0maend\u001b[0m \u001b[1;33m=\u001b[0m \u001b[0m_traceback_encoding\u001b[0m\u001b[1;33m[\u001b[0m\u001b[1;34m'alignment-end'\u001b[0m\u001b[1;33m]\u001b[0m\u001b[1;33m\u001b[0m\n",
      "\u001b[1;33m\u001b[0m    \u001b[0mmatch\u001b[0m \u001b[1;33m=\u001b[0m \u001b[0m_traceback_encoding\u001b[0m\u001b[1;33m[\u001b[0m\u001b[1;34m'match'\u001b[0m\u001b[1;33m]\u001b[0m\u001b[1;33m\u001b[0m\n",
      "\u001b[1;33m\u001b[0m    \u001b[0mvgap\u001b[0m \u001b[1;33m=\u001b[0m \u001b[0m_traceback_encoding\u001b[0m\u001b[1;33m[\u001b[0m\u001b[1;34m'vertical-gap'\u001b[0m\u001b[1;33m]\u001b[0m\u001b[1;33m\u001b[0m\n",
      "\u001b[1;33m\u001b[0m    \u001b[0mhgap\u001b[0m \u001b[1;33m=\u001b[0m \u001b[0m_traceback_encoding\u001b[0m\u001b[1;33m[\u001b[0m\u001b[1;34m'horizontal-gap'\u001b[0m\u001b[1;33m]\u001b[0m\u001b[1;33m\u001b[0m\n",
      "\u001b[1;33m\u001b[0m\u001b[1;33m\u001b[0m\n",
      "\u001b[1;33m\u001b[0m    \u001b[0mnew_alignment_score\u001b[0m \u001b[1;33m=\u001b[0m \u001b[1;33m(\u001b[0m\u001b[0mnew_alignment_score\u001b[0m\u001b[1;33m,\u001b[0m \u001b[0maend\u001b[0m\u001b[1;33m)\u001b[0m\u001b[1;33m\u001b[0m\n",
      "\u001b[1;33m\u001b[0m\u001b[1;33m\u001b[0m\n",
      "\u001b[1;33m\u001b[0m    \u001b[1;31m# Initialize a matrix to use for scoring the alignment and for tracing\u001b[0m\u001b[1;33m\u001b[0m\n",
      "\u001b[1;33m\u001b[0m    \u001b[1;31m# back the best alignment\u001b[0m\u001b[1;33m\u001b[0m\n",
      "\u001b[1;33m\u001b[0m    \u001b[0mscore_matrix\u001b[0m\u001b[1;33m,\u001b[0m \u001b[0mtraceback_matrix\u001b[0m \u001b[1;33m=\u001b[0m \u001b[0minit_matrices_f\u001b[0m\u001b[1;33m(\u001b[0m\u001b[1;33m\u001b[0m\n",
      "\u001b[1;33m\u001b[0m        \u001b[0maln1\u001b[0m\u001b[1;33m,\u001b[0m \u001b[0maln2\u001b[0m\u001b[1;33m,\u001b[0m \u001b[0mgap_open_penalty\u001b[0m\u001b[1;33m,\u001b[0m \u001b[0mgap_extend_penalty\u001b[0m\u001b[1;33m)\u001b[0m\u001b[1;33m\u001b[0m\n",
      "\u001b[1;33m\u001b[0m\u001b[1;33m\u001b[0m\n",
      "\u001b[1;33m\u001b[0m    \u001b[1;31m# Iterate over the characters in aln2 (which corresponds to the vertical\u001b[0m\u001b[1;33m\u001b[0m\n",
      "\u001b[1;33m\u001b[0m    \u001b[1;31m# sequence in the matrix)\u001b[0m\u001b[1;33m\u001b[0m\n",
      "\u001b[1;33m\u001b[0m    \u001b[1;32mfor\u001b[0m \u001b[0maln2_pos\u001b[0m\u001b[1;33m,\u001b[0m \u001b[0maln2_chars\u001b[0m \u001b[1;32min\u001b[0m \u001b[0menumerate\u001b[0m\u001b[1;33m(\u001b[0m\u001b[0maln2\u001b[0m\u001b[1;33m.\u001b[0m\u001b[0miter_positions\u001b[0m\u001b[1;33m(\u001b[0m\u001b[0mstr\u001b[0m\u001b[1;33m)\u001b[0m\u001b[1;33m,\u001b[0m \u001b[1;36m1\u001b[0m\u001b[1;33m)\u001b[0m\u001b[1;33m:\u001b[0m\u001b[1;33m\u001b[0m\n",
      "\u001b[1;33m\u001b[0m        \u001b[1;31m# Iterate over the characters in aln1 (which corresponds to the\u001b[0m\u001b[1;33m\u001b[0m\n",
      "\u001b[1;33m\u001b[0m        \u001b[1;31m# horizontal sequence in the matrix)\u001b[0m\u001b[1;33m\u001b[0m\n",
      "\u001b[1;33m\u001b[0m        \u001b[1;32mfor\u001b[0m \u001b[0maln1_pos\u001b[0m\u001b[1;33m,\u001b[0m \u001b[0maln1_chars\u001b[0m \u001b[1;32min\u001b[0m \u001b[0menumerate\u001b[0m\u001b[1;33m(\u001b[0m\u001b[0maln1\u001b[0m\u001b[1;33m.\u001b[0m\u001b[0miter_positions\u001b[0m\u001b[1;33m(\u001b[0m\u001b[0mstr\u001b[0m\u001b[1;33m)\u001b[0m\u001b[1;33m,\u001b[0m \u001b[1;36m1\u001b[0m\u001b[1;33m)\u001b[0m\u001b[1;33m:\u001b[0m\u001b[1;33m\u001b[0m\n",
      "\u001b[1;33m\u001b[0m            \u001b[1;31m# compute the score for a match/mismatch\u001b[0m\u001b[1;33m\u001b[0m\n",
      "\u001b[1;33m\u001b[0m            \u001b[0msubstitution_score\u001b[0m \u001b[1;33m=\u001b[0m \u001b[0m_compute_substitution_score\u001b[0m\u001b[1;33m(\u001b[0m\u001b[1;33m\u001b[0m\n",
      "\u001b[1;33m\u001b[0m                \u001b[0maln1_chars\u001b[0m\u001b[1;33m,\u001b[0m \u001b[0maln2_chars\u001b[0m\u001b[1;33m,\u001b[0m \u001b[0msubstitution_matrix\u001b[0m\u001b[1;33m,\u001b[0m\u001b[1;33m\u001b[0m\n",
      "\u001b[1;33m\u001b[0m                \u001b[0mgap_substitution_score\u001b[0m\u001b[1;33m)\u001b[0m\u001b[1;33m\u001b[0m\n",
      "\u001b[1;33m\u001b[0m\u001b[1;33m\u001b[0m\n",
      "\u001b[1;33m\u001b[0m            \u001b[0mdiag_score\u001b[0m \u001b[1;33m=\u001b[0m \\\n",
      "                \u001b[1;33m(\u001b[0m\u001b[0mscore_matrix\u001b[0m\u001b[1;33m[\u001b[0m\u001b[0maln2_pos\u001b[0m\u001b[1;33m-\u001b[0m\u001b[1;36m1\u001b[0m\u001b[1;33m,\u001b[0m \u001b[0maln1_pos\u001b[0m\u001b[1;33m-\u001b[0m\u001b[1;36m1\u001b[0m\u001b[1;33m]\u001b[0m \u001b[1;33m+\u001b[0m \u001b[0msubstitution_score\u001b[0m\u001b[1;33m,\u001b[0m\u001b[1;33m\u001b[0m\n",
      "\u001b[1;33m\u001b[0m                 \u001b[0mmatch\u001b[0m\u001b[1;33m)\u001b[0m\u001b[1;33m\u001b[0m\n",
      "\u001b[1;33m\u001b[0m\u001b[1;33m\u001b[0m\n",
      "\u001b[1;33m\u001b[0m            \u001b[1;31m# compute the score for adding a gap in aln2 (vertical)\u001b[0m\u001b[1;33m\u001b[0m\n",
      "\u001b[1;33m\u001b[0m            \u001b[1;32mif\u001b[0m \u001b[1;32mnot\u001b[0m \u001b[0mpenalize_terminal_gaps\u001b[0m \u001b[1;32mand\u001b[0m \u001b[1;33m(\u001b[0m\u001b[0maln1_pos\u001b[0m \u001b[1;33m==\u001b[0m \u001b[0maln1_length\u001b[0m\u001b[1;33m)\u001b[0m\u001b[1;33m:\u001b[0m\u001b[1;33m\u001b[0m\n",
      "\u001b[1;33m\u001b[0m                \u001b[1;31m# we've reached the end of aln1, so adding vertical gaps\u001b[0m\u001b[1;33m\u001b[0m\n",
      "\u001b[1;33m\u001b[0m                \u001b[1;31m# (which become gaps in aln1) should no longer\u001b[0m\u001b[1;33m\u001b[0m\n",
      "\u001b[1;33m\u001b[0m                \u001b[1;31m# be penalized (if penalize_terminal_gaps == False)\u001b[0m\u001b[1;33m\u001b[0m\n",
      "\u001b[1;33m\u001b[0m                \u001b[0mup_score\u001b[0m \u001b[1;33m=\u001b[0m \u001b[1;33m(\u001b[0m\u001b[0mscore_matrix\u001b[0m\u001b[1;33m[\u001b[0m\u001b[0maln2_pos\u001b[0m\u001b[1;33m-\u001b[0m\u001b[1;36m1\u001b[0m\u001b[1;33m,\u001b[0m \u001b[0maln1_pos\u001b[0m\u001b[1;33m]\u001b[0m\u001b[1;33m,\u001b[0m \u001b[0mvgap\u001b[0m\u001b[1;33m)\u001b[0m\u001b[1;33m\u001b[0m\n",
      "\u001b[1;33m\u001b[0m            \u001b[1;32melif\u001b[0m \u001b[0mtraceback_matrix\u001b[0m\u001b[1;33m[\u001b[0m\u001b[0maln2_pos\u001b[0m\u001b[1;33m-\u001b[0m\u001b[1;36m1\u001b[0m\u001b[1;33m,\u001b[0m \u001b[0maln1_pos\u001b[0m\u001b[1;33m]\u001b[0m \u001b[1;33m==\u001b[0m \u001b[0mvgap\u001b[0m\u001b[1;33m:\u001b[0m\u001b[1;33m\u001b[0m\n",
      "\u001b[1;33m\u001b[0m                \u001b[1;31m# gap extend, because the cell above was also a gap\u001b[0m\u001b[1;33m\u001b[0m\n",
      "\u001b[1;33m\u001b[0m                \u001b[0mup_score\u001b[0m \u001b[1;33m=\u001b[0m \\\n",
      "                    \u001b[1;33m(\u001b[0m\u001b[0mscore_matrix\u001b[0m\u001b[1;33m[\u001b[0m\u001b[0maln2_pos\u001b[0m\u001b[1;33m-\u001b[0m\u001b[1;36m1\u001b[0m\u001b[1;33m,\u001b[0m \u001b[0maln1_pos\u001b[0m\u001b[1;33m]\u001b[0m \u001b[1;33m-\u001b[0m \u001b[0mgap_extend_penalty\u001b[0m\u001b[1;33m,\u001b[0m\u001b[1;33m\u001b[0m\n",
      "\u001b[1;33m\u001b[0m                     \u001b[0mvgap\u001b[0m\u001b[1;33m)\u001b[0m\u001b[1;33m\u001b[0m\n",
      "\u001b[1;33m\u001b[0m            \u001b[1;32melse\u001b[0m\u001b[1;33m:\u001b[0m\u001b[1;33m\u001b[0m\n",
      "\u001b[1;33m\u001b[0m                \u001b[1;31m# gap open, because the cell above was not a gap\u001b[0m\u001b[1;33m\u001b[0m\n",
      "\u001b[1;33m\u001b[0m                \u001b[0mup_score\u001b[0m \u001b[1;33m=\u001b[0m \\\n",
      "                    \u001b[1;33m(\u001b[0m\u001b[0mscore_matrix\u001b[0m\u001b[1;33m[\u001b[0m\u001b[0maln2_pos\u001b[0m\u001b[1;33m-\u001b[0m\u001b[1;36m1\u001b[0m\u001b[1;33m,\u001b[0m \u001b[0maln1_pos\u001b[0m\u001b[1;33m]\u001b[0m \u001b[1;33m-\u001b[0m \u001b[0mgap_open_penalty\u001b[0m\u001b[1;33m,\u001b[0m\u001b[1;33m\u001b[0m\n",
      "\u001b[1;33m\u001b[0m                     \u001b[0mvgap\u001b[0m\u001b[1;33m)\u001b[0m\u001b[1;33m\u001b[0m\n",
      "\u001b[1;33m\u001b[0m\u001b[1;33m\u001b[0m\n",
      "\u001b[1;33m\u001b[0m            \u001b[1;31m# compute the score for adding a gap in aln1 (horizontal)\u001b[0m\u001b[1;33m\u001b[0m\n",
      "\u001b[1;33m\u001b[0m            \u001b[1;32mif\u001b[0m \u001b[1;32mnot\u001b[0m \u001b[0mpenalize_terminal_gaps\u001b[0m \u001b[1;32mand\u001b[0m \u001b[1;33m(\u001b[0m\u001b[0maln2_pos\u001b[0m \u001b[1;33m==\u001b[0m \u001b[0maln2_length\u001b[0m\u001b[1;33m)\u001b[0m\u001b[1;33m:\u001b[0m\u001b[1;33m\u001b[0m\n",
      "\u001b[1;33m\u001b[0m                \u001b[1;31m# we've reached the end of aln2, so adding horizontal gaps\u001b[0m\u001b[1;33m\u001b[0m\n",
      "\u001b[1;33m\u001b[0m                \u001b[1;31m# (which become gaps in aln2) should no longer\u001b[0m\u001b[1;33m\u001b[0m\n",
      "\u001b[1;33m\u001b[0m                \u001b[1;31m# be penalized (if penalize_terminal_gaps == False)\u001b[0m\u001b[1;33m\u001b[0m\n",
      "\u001b[1;33m\u001b[0m                \u001b[0mleft_score\u001b[0m \u001b[1;33m=\u001b[0m \u001b[1;33m(\u001b[0m\u001b[0mscore_matrix\u001b[0m\u001b[1;33m[\u001b[0m\u001b[0maln2_pos\u001b[0m\u001b[1;33m,\u001b[0m \u001b[0maln1_pos\u001b[0m\u001b[1;33m-\u001b[0m\u001b[1;36m1\u001b[0m\u001b[1;33m]\u001b[0m\u001b[1;33m,\u001b[0m \u001b[0mhgap\u001b[0m\u001b[1;33m)\u001b[0m\u001b[1;33m\u001b[0m\n",
      "\u001b[1;33m\u001b[0m            \u001b[1;32melif\u001b[0m \u001b[0mtraceback_matrix\u001b[0m\u001b[1;33m[\u001b[0m\u001b[0maln2_pos\u001b[0m\u001b[1;33m,\u001b[0m \u001b[0maln1_pos\u001b[0m\u001b[1;33m-\u001b[0m\u001b[1;36m1\u001b[0m\u001b[1;33m]\u001b[0m \u001b[1;33m==\u001b[0m \u001b[0mhgap\u001b[0m\u001b[1;33m:\u001b[0m\u001b[1;33m\u001b[0m\n",
      "\u001b[1;33m\u001b[0m                \u001b[1;31m# gap extend, because the cell to the left was also a gap\u001b[0m\u001b[1;33m\u001b[0m\n",
      "\u001b[1;33m\u001b[0m                \u001b[0mleft_score\u001b[0m \u001b[1;33m=\u001b[0m \\\n",
      "                    \u001b[1;33m(\u001b[0m\u001b[0mscore_matrix\u001b[0m\u001b[1;33m[\u001b[0m\u001b[0maln2_pos\u001b[0m\u001b[1;33m,\u001b[0m \u001b[0maln1_pos\u001b[0m\u001b[1;33m-\u001b[0m\u001b[1;36m1\u001b[0m\u001b[1;33m]\u001b[0m \u001b[1;33m-\u001b[0m \u001b[0mgap_extend_penalty\u001b[0m\u001b[1;33m,\u001b[0m\u001b[1;33m\u001b[0m\n",
      "\u001b[1;33m\u001b[0m                     \u001b[0mhgap\u001b[0m\u001b[1;33m)\u001b[0m\u001b[1;33m\u001b[0m\n",
      "\u001b[1;33m\u001b[0m            \u001b[1;32melse\u001b[0m\u001b[1;33m:\u001b[0m\u001b[1;33m\u001b[0m\n",
      "\u001b[1;33m\u001b[0m                \u001b[1;31m# gap open, because the cell to the left was not a gap\u001b[0m\u001b[1;33m\u001b[0m\n",
      "\u001b[1;33m\u001b[0m                \u001b[0mleft_score\u001b[0m \u001b[1;33m=\u001b[0m \\\n",
      "                    \u001b[1;33m(\u001b[0m\u001b[0mscore_matrix\u001b[0m\u001b[1;33m[\u001b[0m\u001b[0maln2_pos\u001b[0m\u001b[1;33m,\u001b[0m \u001b[0maln1_pos\u001b[0m\u001b[1;33m-\u001b[0m\u001b[1;36m1\u001b[0m\u001b[1;33m]\u001b[0m \u001b[1;33m-\u001b[0m \u001b[0mgap_open_penalty\u001b[0m\u001b[1;33m,\u001b[0m\u001b[1;33m\u001b[0m\n",
      "\u001b[1;33m\u001b[0m                     \u001b[0mhgap\u001b[0m\u001b[1;33m)\u001b[0m\u001b[1;33m\u001b[0m\n",
      "\u001b[1;33m\u001b[0m\u001b[1;33m\u001b[0m\n",
      "\u001b[1;33m\u001b[0m            \u001b[1;31m# identify the largest score, and use that information to populate\u001b[0m\u001b[1;33m\u001b[0m\n",
      "\u001b[1;33m\u001b[0m            \u001b[1;31m# the score and traceback matrices\u001b[0m\u001b[1;33m\u001b[0m\n",
      "\u001b[1;33m\u001b[0m            \u001b[0mbest_score\u001b[0m \u001b[1;33m=\u001b[0m \u001b[0m_first_largest\u001b[0m\u001b[1;33m(\u001b[0m\u001b[1;33m[\u001b[0m\u001b[0mnew_alignment_score\u001b[0m\u001b[1;33m,\u001b[0m \u001b[0mleft_score\u001b[0m\u001b[1;33m,\u001b[0m\u001b[1;33m\u001b[0m\n",
      "\u001b[1;33m\u001b[0m                                         \u001b[0mdiag_score\u001b[0m\u001b[1;33m,\u001b[0m \u001b[0mup_score\u001b[0m\u001b[1;33m]\u001b[0m\u001b[1;33m)\u001b[0m\u001b[1;33m\u001b[0m\n",
      "\u001b[1;33m\u001b[0m            \u001b[0mscore_matrix\u001b[0m\u001b[1;33m[\u001b[0m\u001b[0maln2_pos\u001b[0m\u001b[1;33m,\u001b[0m \u001b[0maln1_pos\u001b[0m\u001b[1;33m]\u001b[0m \u001b[1;33m=\u001b[0m \u001b[0mbest_score\u001b[0m\u001b[1;33m[\u001b[0m\u001b[1;36m0\u001b[0m\u001b[1;33m]\u001b[0m\u001b[1;33m\u001b[0m\n",
      "\u001b[1;33m\u001b[0m            \u001b[0mtraceback_matrix\u001b[0m\u001b[1;33m[\u001b[0m\u001b[0maln2_pos\u001b[0m\u001b[1;33m,\u001b[0m \u001b[0maln1_pos\u001b[0m\u001b[1;33m]\u001b[0m \u001b[1;33m=\u001b[0m \u001b[0mbest_score\u001b[0m\u001b[1;33m[\u001b[0m\u001b[1;36m1\u001b[0m\u001b[1;33m]\u001b[0m\u001b[1;33m\u001b[0m\n",
      "\u001b[1;33m\u001b[0m\u001b[1;33m\u001b[0m\n",
      "\u001b[1;33m\u001b[0m    \u001b[1;32mreturn\u001b[0m \u001b[0mscore_matrix\u001b[0m\u001b[1;33m,\u001b[0m \u001b[0mtraceback_matrix\u001b[0m\u001b[1;33m\u001b[0m\u001b[0m\n",
      "\n"
     ]
    }
   ],
   "source": [
    "%psource _compute_score_and_traceback_matrices"
   ]
  },
  {
   "cell_type": "code",
   "execution_count": 31,
   "metadata": {
    "collapsed": false
   },
   "outputs": [
    {
     "name": "stdout",
     "output_type": "stream",
     "text": [
      "                    H      E      A      G      A      W      G      H      E      E\n",
      "           0.0    0.0    0.0    0.0    0.0    0.0    0.0    0.0    0.0    0.0    0.0\n",
      "      P    0.0    0.0    0.0    0.0    0.0    0.0    0.0    0.0    0.0    0.0    0.0\n",
      "      A    0.0    0.0    0.0    5.0    0.0    5.0    0.0    0.0    0.0    0.0    0.0\n",
      "      W    0.0    0.0    0.0    0.0    2.0    0.0   20.0   12.0    4.0    0.0    0.0\n",
      "      H    0.0   10.0    2.0    0.0    0.0    0.0   12.0   18.0   22.0   14.0    6.0\n",
      "      E    0.0    2.0   16.0    8.0    0.0    0.0    4.0   10.0   18.0   28.0   20.0\n",
      "      A    0.0    0.0    8.0   21.0   13.0    5.0    0.0    4.0   10.0   20.0   27.0\n",
      "      E    0.0    0.0    6.0   13.0   18.0   12.0    4.0    0.0    4.0   16.0   26.0\n"
     ]
    }
   ],
   "source": [
    "from skbio.alignment._pairwise import _init_matrices_sw\n",
    "\n",
    "sw_matrix, traceback_matrix = \\\n",
    "    _compute_score_and_traceback_matrices(seq1, seq2, 8, 8, blosum50, new_alignment_score=0.0, init_matrices_f=_init_matrices_sw)\n",
    "\n",
    "print(format_dynamic_programming_matrix(seq1, seq2, sw_matrix, 7))"
   ]
  },
  {
   "cell_type": "code",
   "execution_count": 32,
   "metadata": {
    "collapsed": false
   },
   "outputs": [
    {
     "name": "stdout",
     "output_type": "stream",
     "text": [
      "              H    E    A    G    A    W    G    H    E    E\n",
      "         *    *    *    *    *    *    *    *    *    *    *\n",
      "    P    *    *    *    *    *    *    *    *    *    *    *\n",
      "    A    *    *    *    \\    *    \\    *    *    *    *    *\n",
      "    W    *    *    *    *    \\    *    \\    -    -    *    *\n",
      "    H    *    \\    -    *    *    *    |    \\    \\    -    -\n",
      "    E    *    |    \\    -    *    *    |    |    \\    \\    -\n",
      "    A    *    *    |    \\    -    -    *    \\    |    |    \\\n",
      "    E    *    *    \\    |    \\    \\    -    *    \\    \\    \\\n"
     ]
    }
   ],
   "source": [
    "print(format_traceback_matrix(seq1, seq2, traceback_matrix, cell_width=5))"
   ]
  },
  {
   "cell_type": "markdown",
   "metadata": {},
   "source": [
    "And finally, during the traceback step, you begin in the cell with the highest value, rather than the bottom right cell of the matrix. "
   ]
  },
  {
   "cell_type": "code",
   "execution_count": 33,
   "metadata": {
    "collapsed": false
   },
   "outputs": [
    {
     "name": "stdout",
     "output_type": "stream",
     "text": [
      "\u001b[1;32mdef\u001b[0m \u001b[0m_traceback\u001b[0m\u001b[1;33m(\u001b[0m\u001b[0mtraceback_matrix\u001b[0m\u001b[1;33m,\u001b[0m \u001b[0mscore_matrix\u001b[0m\u001b[1;33m,\u001b[0m \u001b[0maln1\u001b[0m\u001b[1;33m,\u001b[0m \u001b[0maln2\u001b[0m\u001b[1;33m,\u001b[0m \u001b[0mstart_row\u001b[0m\u001b[1;33m,\u001b[0m\u001b[1;33m\u001b[0m\n",
      "\u001b[1;33m\u001b[0m               \u001b[0mstart_col\u001b[0m\u001b[1;33m,\u001b[0m \u001b[0mgap_character\u001b[0m\u001b[1;33m=\u001b[0m\u001b[1;34m'-'\u001b[0m\u001b[1;33m)\u001b[0m\u001b[1;33m:\u001b[0m\u001b[1;33m\u001b[0m\n",
      "\u001b[1;33m\u001b[0m    \u001b[1;31m# cache some values for simpler\u001b[0m\u001b[1;33m\u001b[0m\n",
      "\u001b[1;33m\u001b[0m    \u001b[0maend\u001b[0m \u001b[1;33m=\u001b[0m \u001b[0m_traceback_encoding\u001b[0m\u001b[1;33m[\u001b[0m\u001b[1;34m'alignment-end'\u001b[0m\u001b[1;33m]\u001b[0m\u001b[1;33m\u001b[0m\n",
      "\u001b[1;33m\u001b[0m    \u001b[0mmatch\u001b[0m \u001b[1;33m=\u001b[0m \u001b[0m_traceback_encoding\u001b[0m\u001b[1;33m[\u001b[0m\u001b[1;34m'match'\u001b[0m\u001b[1;33m]\u001b[0m\u001b[1;33m\u001b[0m\n",
      "\u001b[1;33m\u001b[0m    \u001b[0mvgap\u001b[0m \u001b[1;33m=\u001b[0m \u001b[0m_traceback_encoding\u001b[0m\u001b[1;33m[\u001b[0m\u001b[1;34m'vertical-gap'\u001b[0m\u001b[1;33m]\u001b[0m\u001b[1;33m\u001b[0m\n",
      "\u001b[1;33m\u001b[0m    \u001b[0mhgap\u001b[0m \u001b[1;33m=\u001b[0m \u001b[0m_traceback_encoding\u001b[0m\u001b[1;33m[\u001b[0m\u001b[1;34m'horizontal-gap'\u001b[0m\u001b[1;33m]\u001b[0m\u001b[1;33m\u001b[0m\n",
      "\u001b[1;33m\u001b[0m\u001b[1;33m\u001b[0m\n",
      "\u001b[1;33m\u001b[0m    \u001b[1;31m# initialize the result alignments\u001b[0m\u001b[1;33m\u001b[0m\n",
      "\u001b[1;33m\u001b[0m    \u001b[0maln1_sequence_count\u001b[0m \u001b[1;33m=\u001b[0m \u001b[0maln1\u001b[0m\u001b[1;33m.\u001b[0m\u001b[0msequence_count\u001b[0m\u001b[1;33m(\u001b[0m\u001b[1;33m)\u001b[0m\u001b[1;33m\u001b[0m\n",
      "\u001b[1;33m\u001b[0m    \u001b[0maligned_seqs1\u001b[0m \u001b[1;33m=\u001b[0m \u001b[1;33m[\u001b[0m\u001b[1;33m[\u001b[0m\u001b[1;33m]\u001b[0m \u001b[1;32mfor\u001b[0m \u001b[0me\u001b[0m \u001b[1;32min\u001b[0m \u001b[0mrange\u001b[0m\u001b[1;33m(\u001b[0m\u001b[0maln1_sequence_count\u001b[0m\u001b[1;33m)\u001b[0m\u001b[1;33m]\u001b[0m\u001b[1;33m\u001b[0m\n",
      "\u001b[1;33m\u001b[0m\u001b[1;33m\u001b[0m\n",
      "\u001b[1;33m\u001b[0m    \u001b[0maln2_sequence_count\u001b[0m \u001b[1;33m=\u001b[0m \u001b[0maln2\u001b[0m\u001b[1;33m.\u001b[0m\u001b[0msequence_count\u001b[0m\u001b[1;33m(\u001b[0m\u001b[1;33m)\u001b[0m\u001b[1;33m\u001b[0m\n",
      "\u001b[1;33m\u001b[0m    \u001b[0maligned_seqs2\u001b[0m \u001b[1;33m=\u001b[0m \u001b[1;33m[\u001b[0m\u001b[1;33m[\u001b[0m\u001b[1;33m]\u001b[0m \u001b[1;32mfor\u001b[0m \u001b[0me\u001b[0m \u001b[1;32min\u001b[0m \u001b[0mrange\u001b[0m\u001b[1;33m(\u001b[0m\u001b[0maln2_sequence_count\u001b[0m\u001b[1;33m)\u001b[0m\u001b[1;33m]\u001b[0m\u001b[1;33m\u001b[0m\n",
      "\u001b[1;33m\u001b[0m\u001b[1;33m\u001b[0m\n",
      "\u001b[1;33m\u001b[0m    \u001b[0mcurrent_row\u001b[0m \u001b[1;33m=\u001b[0m \u001b[0mstart_row\u001b[0m\u001b[1;33m\u001b[0m\n",
      "\u001b[1;33m\u001b[0m    \u001b[0mcurrent_col\u001b[0m \u001b[1;33m=\u001b[0m \u001b[0mstart_col\u001b[0m\u001b[1;33m\u001b[0m\n",
      "\u001b[1;33m\u001b[0m\u001b[1;33m\u001b[0m\n",
      "\u001b[1;33m\u001b[0m    \u001b[0mbest_score\u001b[0m \u001b[1;33m=\u001b[0m \u001b[0mscore_matrix\u001b[0m\u001b[1;33m[\u001b[0m\u001b[0mcurrent_row\u001b[0m\u001b[1;33m,\u001b[0m \u001b[0mcurrent_col\u001b[0m\u001b[1;33m]\u001b[0m\u001b[1;33m\u001b[0m\n",
      "\u001b[1;33m\u001b[0m    \u001b[0mcurrent_value\u001b[0m \u001b[1;33m=\u001b[0m \u001b[1;32mNone\u001b[0m\u001b[1;33m\u001b[0m\n",
      "\u001b[1;33m\u001b[0m\u001b[1;33m\u001b[0m\n",
      "\u001b[1;33m\u001b[0m    \u001b[1;32mwhile\u001b[0m \u001b[0mcurrent_value\u001b[0m \u001b[1;33m!=\u001b[0m \u001b[0maend\u001b[0m\u001b[1;33m:\u001b[0m\u001b[1;33m\u001b[0m\n",
      "\u001b[1;33m\u001b[0m        \u001b[0mcurrent_value\u001b[0m \u001b[1;33m=\u001b[0m \u001b[0mtraceback_matrix\u001b[0m\u001b[1;33m[\u001b[0m\u001b[0mcurrent_row\u001b[0m\u001b[1;33m,\u001b[0m \u001b[0mcurrent_col\u001b[0m\u001b[1;33m]\u001b[0m\u001b[1;33m\u001b[0m\n",
      "\u001b[1;33m\u001b[0m\u001b[1;33m\u001b[0m\n",
      "\u001b[1;33m\u001b[0m        \u001b[1;32mif\u001b[0m \u001b[0mcurrent_value\u001b[0m \u001b[1;33m==\u001b[0m \u001b[0mmatch\u001b[0m\u001b[1;33m:\u001b[0m\u001b[1;33m\u001b[0m\n",
      "\u001b[1;33m\u001b[0m            \u001b[1;32mfor\u001b[0m \u001b[0maligned_seq\u001b[0m\u001b[1;33m,\u001b[0m \u001b[0minput_seq\u001b[0m \u001b[1;32min\u001b[0m \u001b[0mzip\u001b[0m\u001b[1;33m(\u001b[0m\u001b[0maligned_seqs1\u001b[0m\u001b[1;33m,\u001b[0m \u001b[0maln1\u001b[0m\u001b[1;33m)\u001b[0m\u001b[1;33m:\u001b[0m\u001b[1;33m\u001b[0m\n",
      "\u001b[1;33m\u001b[0m                \u001b[0maligned_seq\u001b[0m\u001b[1;33m.\u001b[0m\u001b[0mappend\u001b[0m\u001b[1;33m(\u001b[0m\u001b[0mstr\u001b[0m\u001b[1;33m(\u001b[0m\u001b[0minput_seq\u001b[0m\u001b[1;33m[\u001b[0m\u001b[0mcurrent_col\u001b[0m\u001b[1;33m-\u001b[0m\u001b[1;36m1\u001b[0m\u001b[1;33m]\u001b[0m\u001b[1;33m)\u001b[0m\u001b[1;33m)\u001b[0m\u001b[1;33m\u001b[0m\n",
      "\u001b[1;33m\u001b[0m            \u001b[1;32mfor\u001b[0m \u001b[0maligned_seq\u001b[0m\u001b[1;33m,\u001b[0m \u001b[0minput_seq\u001b[0m \u001b[1;32min\u001b[0m \u001b[0mzip\u001b[0m\u001b[1;33m(\u001b[0m\u001b[0maligned_seqs2\u001b[0m\u001b[1;33m,\u001b[0m \u001b[0maln2\u001b[0m\u001b[1;33m)\u001b[0m\u001b[1;33m:\u001b[0m\u001b[1;33m\u001b[0m\n",
      "\u001b[1;33m\u001b[0m                \u001b[0maligned_seq\u001b[0m\u001b[1;33m.\u001b[0m\u001b[0mappend\u001b[0m\u001b[1;33m(\u001b[0m\u001b[0mstr\u001b[0m\u001b[1;33m(\u001b[0m\u001b[0minput_seq\u001b[0m\u001b[1;33m[\u001b[0m\u001b[0mcurrent_row\u001b[0m\u001b[1;33m-\u001b[0m\u001b[1;36m1\u001b[0m\u001b[1;33m]\u001b[0m\u001b[1;33m)\u001b[0m\u001b[1;33m)\u001b[0m\u001b[1;33m\u001b[0m\n",
      "\u001b[1;33m\u001b[0m            \u001b[0mcurrent_row\u001b[0m \u001b[1;33m-=\u001b[0m \u001b[1;36m1\u001b[0m\u001b[1;33m\u001b[0m\n",
      "\u001b[1;33m\u001b[0m            \u001b[0mcurrent_col\u001b[0m \u001b[1;33m-=\u001b[0m \u001b[1;36m1\u001b[0m\u001b[1;33m\u001b[0m\n",
      "\u001b[1;33m\u001b[0m        \u001b[1;32melif\u001b[0m \u001b[0mcurrent_value\u001b[0m \u001b[1;33m==\u001b[0m \u001b[0mvgap\u001b[0m\u001b[1;33m:\u001b[0m\u001b[1;33m\u001b[0m\n",
      "\u001b[1;33m\u001b[0m            \u001b[1;32mfor\u001b[0m \u001b[0maligned_seq\u001b[0m \u001b[1;32min\u001b[0m \u001b[0maligned_seqs1\u001b[0m\u001b[1;33m:\u001b[0m\u001b[1;33m\u001b[0m\n",
      "\u001b[1;33m\u001b[0m                \u001b[0maligned_seq\u001b[0m\u001b[1;33m.\u001b[0m\u001b[0mappend\u001b[0m\u001b[1;33m(\u001b[0m\u001b[1;34m'-'\u001b[0m\u001b[1;33m)\u001b[0m\u001b[1;33m\u001b[0m\n",
      "\u001b[1;33m\u001b[0m            \u001b[1;32mfor\u001b[0m \u001b[0maligned_seq\u001b[0m\u001b[1;33m,\u001b[0m \u001b[0minput_seq\u001b[0m \u001b[1;32min\u001b[0m \u001b[0mzip\u001b[0m\u001b[1;33m(\u001b[0m\u001b[0maligned_seqs2\u001b[0m\u001b[1;33m,\u001b[0m \u001b[0maln2\u001b[0m\u001b[1;33m)\u001b[0m\u001b[1;33m:\u001b[0m\u001b[1;33m\u001b[0m\n",
      "\u001b[1;33m\u001b[0m                \u001b[0maligned_seq\u001b[0m\u001b[1;33m.\u001b[0m\u001b[0mappend\u001b[0m\u001b[1;33m(\u001b[0m\u001b[0mstr\u001b[0m\u001b[1;33m(\u001b[0m\u001b[0minput_seq\u001b[0m\u001b[1;33m[\u001b[0m\u001b[0mcurrent_row\u001b[0m\u001b[1;33m-\u001b[0m\u001b[1;36m1\u001b[0m\u001b[1;33m]\u001b[0m\u001b[1;33m)\u001b[0m\u001b[1;33m)\u001b[0m\u001b[1;33m\u001b[0m\n",
      "\u001b[1;33m\u001b[0m            \u001b[0mcurrent_row\u001b[0m \u001b[1;33m-=\u001b[0m \u001b[1;36m1\u001b[0m\u001b[1;33m\u001b[0m\n",
      "\u001b[1;33m\u001b[0m        \u001b[1;32melif\u001b[0m \u001b[0mcurrent_value\u001b[0m \u001b[1;33m==\u001b[0m \u001b[0mhgap\u001b[0m\u001b[1;33m:\u001b[0m\u001b[1;33m\u001b[0m\n",
      "\u001b[1;33m\u001b[0m            \u001b[1;32mfor\u001b[0m \u001b[0maligned_seq\u001b[0m\u001b[1;33m,\u001b[0m \u001b[0minput_seq\u001b[0m \u001b[1;32min\u001b[0m \u001b[0mzip\u001b[0m\u001b[1;33m(\u001b[0m\u001b[0maligned_seqs1\u001b[0m\u001b[1;33m,\u001b[0m \u001b[0maln1\u001b[0m\u001b[1;33m)\u001b[0m\u001b[1;33m:\u001b[0m\u001b[1;33m\u001b[0m\n",
      "\u001b[1;33m\u001b[0m                \u001b[0maligned_seq\u001b[0m\u001b[1;33m.\u001b[0m\u001b[0mappend\u001b[0m\u001b[1;33m(\u001b[0m\u001b[0mstr\u001b[0m\u001b[1;33m(\u001b[0m\u001b[0minput_seq\u001b[0m\u001b[1;33m[\u001b[0m\u001b[0mcurrent_col\u001b[0m\u001b[1;33m-\u001b[0m\u001b[1;36m1\u001b[0m\u001b[1;33m]\u001b[0m\u001b[1;33m)\u001b[0m\u001b[1;33m)\u001b[0m\u001b[1;33m\u001b[0m\n",
      "\u001b[1;33m\u001b[0m            \u001b[1;32mfor\u001b[0m \u001b[0maligned_seq\u001b[0m \u001b[1;32min\u001b[0m \u001b[0maligned_seqs2\u001b[0m\u001b[1;33m:\u001b[0m\u001b[1;33m\u001b[0m\n",
      "\u001b[1;33m\u001b[0m                \u001b[0maligned_seq\u001b[0m\u001b[1;33m.\u001b[0m\u001b[0mappend\u001b[0m\u001b[1;33m(\u001b[0m\u001b[1;34m'-'\u001b[0m\u001b[1;33m)\u001b[0m\u001b[1;33m\u001b[0m\n",
      "\u001b[1;33m\u001b[0m            \u001b[0mcurrent_col\u001b[0m \u001b[1;33m-=\u001b[0m \u001b[1;36m1\u001b[0m\u001b[1;33m\u001b[0m\n",
      "\u001b[1;33m\u001b[0m        \u001b[1;32melif\u001b[0m \u001b[0mcurrent_value\u001b[0m \u001b[1;33m==\u001b[0m \u001b[0maend\u001b[0m\u001b[1;33m:\u001b[0m\u001b[1;33m\u001b[0m\n",
      "\u001b[1;33m\u001b[0m            \u001b[1;32mcontinue\u001b[0m\u001b[1;33m\u001b[0m\n",
      "\u001b[1;33m\u001b[0m        \u001b[1;32melse\u001b[0m\u001b[1;33m:\u001b[0m\u001b[1;33m\u001b[0m\n",
      "\u001b[1;33m\u001b[0m            \u001b[1;32mraise\u001b[0m \u001b[0mValueError\u001b[0m\u001b[1;33m(\u001b[0m\u001b[1;33m\u001b[0m\n",
      "\u001b[1;33m\u001b[0m                \u001b[1;34m\"Invalid value in traceback matrix: %s\"\u001b[0m \u001b[1;33m%\u001b[0m \u001b[0mcurrent_value\u001b[0m\u001b[1;33m)\u001b[0m\u001b[1;33m\u001b[0m\n",
      "\u001b[1;33m\u001b[0m\u001b[1;33m\u001b[0m\n",
      "\u001b[1;33m\u001b[0m    \u001b[1;32mfor\u001b[0m \u001b[0mi\u001b[0m \u001b[1;32min\u001b[0m \u001b[0mrange\u001b[0m\u001b[1;33m(\u001b[0m\u001b[0maln1_sequence_count\u001b[0m\u001b[1;33m)\u001b[0m\u001b[1;33m:\u001b[0m\u001b[1;33m\u001b[0m\n",
      "\u001b[1;33m\u001b[0m        \u001b[0maligned_seq\u001b[0m \u001b[1;33m=\u001b[0m \u001b[1;34m''\u001b[0m\u001b[1;33m.\u001b[0m\u001b[0mjoin\u001b[0m\u001b[1;33m(\u001b[0m\u001b[0maligned_seqs1\u001b[0m\u001b[1;33m[\u001b[0m\u001b[0mi\u001b[0m\u001b[1;33m]\u001b[0m\u001b[1;33m[\u001b[0m\u001b[1;33m:\u001b[0m\u001b[1;33m:\u001b[0m\u001b[1;33m-\u001b[0m\u001b[1;36m1\u001b[0m\u001b[1;33m]\u001b[0m\u001b[1;33m)\u001b[0m\u001b[1;33m\u001b[0m\n",
      "\u001b[1;33m\u001b[0m        \u001b[0mseq_id\u001b[0m \u001b[1;33m=\u001b[0m \u001b[0m_get_seq_id\u001b[0m\u001b[1;33m(\u001b[0m\u001b[0maln1\u001b[0m\u001b[1;33m[\u001b[0m\u001b[0mi\u001b[0m\u001b[1;33m]\u001b[0m\u001b[1;33m,\u001b[0m \u001b[0mstr\u001b[0m\u001b[1;33m(\u001b[0m\u001b[0mi\u001b[0m\u001b[1;33m)\u001b[0m\u001b[1;33m)\u001b[0m\u001b[1;33m\u001b[0m\n",
      "\u001b[1;33m\u001b[0m        \u001b[0maligned_seqs1\u001b[0m\u001b[1;33m[\u001b[0m\u001b[0mi\u001b[0m\u001b[1;33m]\u001b[0m \u001b[1;33m=\u001b[0m \u001b[0mBiologicalSequence\u001b[0m\u001b[1;33m(\u001b[0m\u001b[0maligned_seq\u001b[0m\u001b[1;33m,\u001b[0m \u001b[0mid\u001b[0m\u001b[1;33m=\u001b[0m\u001b[0mseq_id\u001b[0m\u001b[1;33m)\u001b[0m\u001b[1;33m\u001b[0m\n",
      "\u001b[1;33m\u001b[0m\u001b[1;33m\u001b[0m\n",
      "\u001b[1;33m\u001b[0m    \u001b[1;32mfor\u001b[0m \u001b[0mi\u001b[0m \u001b[1;32min\u001b[0m \u001b[0mrange\u001b[0m\u001b[1;33m(\u001b[0m\u001b[0maln2_sequence_count\u001b[0m\u001b[1;33m)\u001b[0m\u001b[1;33m:\u001b[0m\u001b[1;33m\u001b[0m\n",
      "\u001b[1;33m\u001b[0m        \u001b[0maligned_seq\u001b[0m \u001b[1;33m=\u001b[0m \u001b[1;34m''\u001b[0m\u001b[1;33m.\u001b[0m\u001b[0mjoin\u001b[0m\u001b[1;33m(\u001b[0m\u001b[0maligned_seqs2\u001b[0m\u001b[1;33m[\u001b[0m\u001b[0mi\u001b[0m\u001b[1;33m]\u001b[0m\u001b[1;33m[\u001b[0m\u001b[1;33m:\u001b[0m\u001b[1;33m:\u001b[0m\u001b[1;33m-\u001b[0m\u001b[1;36m1\u001b[0m\u001b[1;33m]\u001b[0m\u001b[1;33m)\u001b[0m\u001b[1;33m\u001b[0m\n",
      "\u001b[1;33m\u001b[0m        \u001b[0mseq_id\u001b[0m \u001b[1;33m=\u001b[0m \u001b[0m_get_seq_id\u001b[0m\u001b[1;33m(\u001b[0m\u001b[0maln2\u001b[0m\u001b[1;33m[\u001b[0m\u001b[0mi\u001b[0m\u001b[1;33m]\u001b[0m\u001b[1;33m,\u001b[0m \u001b[0mstr\u001b[0m\u001b[1;33m(\u001b[0m\u001b[0mi\u001b[0m \u001b[1;33m+\u001b[0m \u001b[0maln1_sequence_count\u001b[0m\u001b[1;33m)\u001b[0m\u001b[1;33m)\u001b[0m\u001b[1;33m\u001b[0m\n",
      "\u001b[1;33m\u001b[0m        \u001b[0maligned_seqs2\u001b[0m\u001b[1;33m[\u001b[0m\u001b[0mi\u001b[0m\u001b[1;33m]\u001b[0m \u001b[1;33m=\u001b[0m \u001b[0mBiologicalSequence\u001b[0m\u001b[1;33m(\u001b[0m\u001b[0maligned_seq\u001b[0m\u001b[1;33m,\u001b[0m \u001b[0mid\u001b[0m\u001b[1;33m=\u001b[0m\u001b[0mseq_id\u001b[0m\u001b[1;33m)\u001b[0m\u001b[1;33m\u001b[0m\n",
      "\u001b[1;33m\u001b[0m\u001b[1;33m\u001b[0m\n",
      "\u001b[1;33m\u001b[0m    \u001b[1;32mreturn\u001b[0m \u001b[1;33m(\u001b[0m\u001b[0maligned_seqs1\u001b[0m\u001b[1;33m,\u001b[0m \u001b[0maligned_seqs2\u001b[0m\u001b[1;33m,\u001b[0m \u001b[0mbest_score\u001b[0m\u001b[1;33m,\u001b[0m\u001b[1;33m\u001b[0m\n",
      "\u001b[1;33m\u001b[0m            \u001b[0mcurrent_col\u001b[0m\u001b[1;33m,\u001b[0m \u001b[0mcurrent_row\u001b[0m\u001b[1;33m)\u001b[0m\u001b[1;33m\u001b[0m\u001b[0m\n",
      "\n"
     ]
    }
   ],
   "source": [
    "%psource _traceback"
   ]
  },
  {
   "cell_type": "code",
   "execution_count": 34,
   "metadata": {
    "collapsed": false
   },
   "outputs": [
    {
     "name": "stdout",
     "output_type": "stream",
     "text": [
      "AWGHE\n",
      "AW-HE\n",
      "28.0\n"
     ]
    }
   ],
   "source": [
    "max_value = 0.0\n",
    "max_i = 0\n",
    "max_j = 0\n",
    "for i in range(sw_matrix.shape[0]):\n",
    "    for j in range(sw_matrix.shape[1]):\n",
    "        if sw_matrix[i, j] > max_value:\n",
    "            max_i, max_j = i, j\n",
    "            max_value = sw_matrix[i, j]\n",
    "\n",
    "aln1, aln2, score, start_a1, start_a2 = _traceback(traceback_matrix, sw_matrix, seq1, seq2, max_i, max_j)\n",
    "print(aln1[0])\n",
    "print(aln2[0])\n",
    "print(score)"
   ]
  },
  {
   "cell_type": "markdown",
   "metadata": {},
   "source": [
    "Again, we can define a *convenience function*, which will allow us to provide the required input and just get our aligned sequecnes back."
   ]
  },
  {
   "cell_type": "code",
   "execution_count": 35,
   "metadata": {
    "collapsed": false
   },
   "outputs": [
    {
     "name": "stdout",
     "output_type": "stream",
     "text": [
      "\u001b[1;32mdef\u001b[0m \u001b[0mlocal_pairwise_align\u001b[0m\u001b[1;33m(\u001b[0m\u001b[0mseq1\u001b[0m\u001b[1;33m,\u001b[0m \u001b[0mseq2\u001b[0m\u001b[1;33m,\u001b[0m \u001b[0mgap_open_penalty\u001b[0m\u001b[1;33m,\u001b[0m\u001b[1;33m\u001b[0m\n",
      "\u001b[1;33m\u001b[0m                         \u001b[0mgap_extend_penalty\u001b[0m\u001b[1;33m,\u001b[0m \u001b[0msubstitution_matrix\u001b[0m\u001b[1;33m)\u001b[0m\u001b[1;33m:\u001b[0m\u001b[1;33m\u001b[0m\n",
      "\u001b[1;33m\u001b[0m    \u001b[1;34m\"\"\"Locally align exactly two seqs with Smith-Waterman\u001b[0m\n",
      "\u001b[1;34m\u001b[0m\n",
      "\u001b[1;34m    Parameters\u001b[0m\n",
      "\u001b[1;34m    ----------\u001b[0m\n",
      "\u001b[1;34m    seq1 : str or BiologicalSequence\u001b[0m\n",
      "\u001b[1;34m        The first unaligned sequence.\u001b[0m\n",
      "\u001b[1;34m    seq2 : str or BiologicalSequence\u001b[0m\n",
      "\u001b[1;34m        The second unaligned sequence.\u001b[0m\n",
      "\u001b[1;34m    gap_open_penalty : int or float\u001b[0m\n",
      "\u001b[1;34m        Penalty for opening a gap (this is substracted from previous best\u001b[0m\n",
      "\u001b[1;34m        alignment score, so is typically positive).\u001b[0m\n",
      "\u001b[1;34m    gap_extend_penalty : int or float\u001b[0m\n",
      "\u001b[1;34m        Penalty for extending a gap (this is substracted from previous best\u001b[0m\n",
      "\u001b[1;34m        alignment score, so is typically positive).\u001b[0m\n",
      "\u001b[1;34m    substitution_matrix: 2D dict (or similar)\u001b[0m\n",
      "\u001b[1;34m        Lookup for substitution scores (these values are added to the\u001b[0m\n",
      "\u001b[1;34m        previous best alignment score).\u001b[0m\n",
      "\u001b[1;34m\u001b[0m\n",
      "\u001b[1;34m    Returns\u001b[0m\n",
      "\u001b[1;34m    -------\u001b[0m\n",
      "\u001b[1;34m    skbio.Alignment\u001b[0m\n",
      "\u001b[1;34m       ``Alignment`` object containing the aligned sequences as well as\u001b[0m\n",
      "\u001b[1;34m        details about the alignment.\u001b[0m\n",
      "\u001b[1;34m\u001b[0m\n",
      "\u001b[1;34m    See Also\u001b[0m\n",
      "\u001b[1;34m    --------\u001b[0m\n",
      "\u001b[1;34m    local_pairwise_align_protein\u001b[0m\n",
      "\u001b[1;34m    local_pairwise_align_nucleotide\u001b[0m\n",
      "\u001b[1;34m    skbio.alignment.local_pairwise_align_ssw\u001b[0m\n",
      "\u001b[1;34m    global_pairwise_align\u001b[0m\n",
      "\u001b[1;34m    global_pairwise_align_protein\u001b[0m\n",
      "\u001b[1;34m    global_pairwise_align_nucelotide\u001b[0m\n",
      "\u001b[1;34m\u001b[0m\n",
      "\u001b[1;34m    Notes\u001b[0m\n",
      "\u001b[1;34m    -----\u001b[0m\n",
      "\u001b[1;34m    This algorithm was originally described in [1]_. The scikit-bio\u001b[0m\n",
      "\u001b[1;34m    implementation was validated against the EMBOSS water web server [2]_.\u001b[0m\n",
      "\u001b[1;34m\u001b[0m\n",
      "\u001b[1;34m    References\u001b[0m\n",
      "\u001b[1;34m    ----------\u001b[0m\n",
      "\u001b[1;34m    .. [1] Identification of common molecular subsequences.\u001b[0m\n",
      "\u001b[1;34m       Smith TF, Waterman MS.\u001b[0m\n",
      "\u001b[1;34m       J Mol Biol. 1981 Mar 25;147(1):195-7.\u001b[0m\n",
      "\u001b[1;34m    .. [2] http://www.ebi.ac.uk/Tools/psa/emboss_water/\u001b[0m\n",
      "\u001b[1;34m\u001b[0m\n",
      "\u001b[1;34m    \"\"\"\u001b[0m\u001b[1;33m\u001b[0m\n",
      "\u001b[1;33m\u001b[0m    \u001b[0mwarn\u001b[0m\u001b[1;33m(\u001b[0m\u001b[1;34m\"You're using skbio's python implementation of Smith-Waterman \"\u001b[0m\u001b[1;33m\u001b[0m\n",
      "\u001b[1;33m\u001b[0m         \u001b[1;34m\"alignment. This will be very slow (e.g., thousands of times slower) \"\u001b[0m\u001b[1;33m\u001b[0m\n",
      "\u001b[1;33m\u001b[0m         \u001b[1;34m\"than skbio.alignment.local_pairwise_align_ssw.\"\u001b[0m\u001b[1;33m,\u001b[0m\u001b[1;33m\u001b[0m\n",
      "\u001b[1;33m\u001b[0m         \u001b[0mEfficiencyWarning\u001b[0m\u001b[1;33m)\u001b[0m\u001b[1;33m\u001b[0m\n",
      "\u001b[1;33m\u001b[0m\u001b[1;33m\u001b[0m\n",
      "\u001b[1;33m\u001b[0m    \u001b[0mseq1\u001b[0m \u001b[1;33m=\u001b[0m \u001b[0m_coerce_alignment_input_type\u001b[0m\u001b[1;33m(\u001b[0m\u001b[0mseq1\u001b[0m\u001b[1;33m,\u001b[0m \u001b[0mdisallow_alignment\u001b[0m\u001b[1;33m=\u001b[0m\u001b[1;32mTrue\u001b[0m\u001b[1;33m)\u001b[0m\u001b[1;33m\u001b[0m\n",
      "\u001b[1;33m\u001b[0m    \u001b[0mseq2\u001b[0m \u001b[1;33m=\u001b[0m \u001b[0m_coerce_alignment_input_type\u001b[0m\u001b[1;33m(\u001b[0m\u001b[0mseq2\u001b[0m\u001b[1;33m,\u001b[0m \u001b[0mdisallow_alignment\u001b[0m\u001b[1;33m=\u001b[0m\u001b[1;32mTrue\u001b[0m\u001b[1;33m)\u001b[0m\u001b[1;33m\u001b[0m\n",
      "\u001b[1;33m\u001b[0m\u001b[1;33m\u001b[0m\n",
      "\u001b[1;33m\u001b[0m    \u001b[0mscore_matrix\u001b[0m\u001b[1;33m,\u001b[0m \u001b[0mtraceback_matrix\u001b[0m \u001b[1;33m=\u001b[0m \u001b[0m_compute_score_and_traceback_matrices\u001b[0m\u001b[1;33m(\u001b[0m\u001b[1;33m\u001b[0m\n",
      "\u001b[1;33m\u001b[0m        \u001b[0mseq1\u001b[0m\u001b[1;33m,\u001b[0m \u001b[0mseq2\u001b[0m\u001b[1;33m,\u001b[0m \u001b[0mgap_open_penalty\u001b[0m\u001b[1;33m,\u001b[0m \u001b[0mgap_extend_penalty\u001b[0m\u001b[1;33m,\u001b[0m\u001b[1;33m\u001b[0m\n",
      "\u001b[1;33m\u001b[0m        \u001b[0msubstitution_matrix\u001b[0m\u001b[1;33m,\u001b[0m \u001b[0mnew_alignment_score\u001b[0m\u001b[1;33m=\u001b[0m\u001b[1;36m0.0\u001b[0m\u001b[1;33m,\u001b[0m\u001b[1;33m\u001b[0m\n",
      "\u001b[1;33m\u001b[0m        \u001b[0minit_matrices_f\u001b[0m\u001b[1;33m=\u001b[0m\u001b[0m_init_matrices_sw\u001b[0m\u001b[1;33m)\u001b[0m\u001b[1;33m\u001b[0m\n",
      "\u001b[1;33m\u001b[0m\u001b[1;33m\u001b[0m\n",
      "\u001b[1;33m\u001b[0m    \u001b[0mend_row_position\u001b[0m\u001b[1;33m,\u001b[0m \u001b[0mend_col_position\u001b[0m \u001b[1;33m=\u001b[0m\\\n",
      "        \u001b[0mnp\u001b[0m\u001b[1;33m.\u001b[0m\u001b[0munravel_index\u001b[0m\u001b[1;33m(\u001b[0m\u001b[0mnp\u001b[0m\u001b[1;33m.\u001b[0m\u001b[0margmax\u001b[0m\u001b[1;33m(\u001b[0m\u001b[0mscore_matrix\u001b[0m\u001b[1;33m)\u001b[0m\u001b[1;33m,\u001b[0m \u001b[0mscore_matrix\u001b[0m\u001b[1;33m.\u001b[0m\u001b[0mshape\u001b[0m\u001b[1;33m)\u001b[0m\u001b[1;33m\u001b[0m\n",
      "\u001b[1;33m\u001b[0m\u001b[1;33m\u001b[0m\n",
      "\u001b[1;33m\u001b[0m    \u001b[0maligned1\u001b[0m\u001b[1;33m,\u001b[0m \u001b[0maligned2\u001b[0m\u001b[1;33m,\u001b[0m \u001b[0mscore\u001b[0m\u001b[1;33m,\u001b[0m \u001b[0mseq1_start_position\u001b[0m\u001b[1;33m,\u001b[0m \u001b[0mseq2_start_position\u001b[0m \u001b[1;33m=\u001b[0m \\\n",
      "        \u001b[0m_traceback\u001b[0m\u001b[1;33m(\u001b[0m\u001b[0mtraceback_matrix\u001b[0m\u001b[1;33m,\u001b[0m \u001b[0mscore_matrix\u001b[0m\u001b[1;33m,\u001b[0m \u001b[0mseq1\u001b[0m\u001b[1;33m,\u001b[0m \u001b[0mseq2\u001b[0m\u001b[1;33m,\u001b[0m\u001b[1;33m\u001b[0m\n",
      "\u001b[1;33m\u001b[0m                   \u001b[0mend_row_position\u001b[0m\u001b[1;33m,\u001b[0m \u001b[0mend_col_position\u001b[0m\u001b[1;33m)\u001b[0m\u001b[1;33m\u001b[0m\n",
      "\u001b[1;33m\u001b[0m    \u001b[0mstart_end_positions\u001b[0m \u001b[1;33m=\u001b[0m \u001b[1;33m[\u001b[0m\u001b[1;33m(\u001b[0m\u001b[0mseq1_start_position\u001b[0m\u001b[1;33m,\u001b[0m \u001b[0mend_col_position\u001b[0m\u001b[1;33m-\u001b[0m\u001b[1;36m1\u001b[0m\u001b[1;33m)\u001b[0m\u001b[1;33m,\u001b[0m\u001b[1;33m\u001b[0m\n",
      "\u001b[1;33m\u001b[0m                           \u001b[1;33m(\u001b[0m\u001b[0mseq2_start_position\u001b[0m\u001b[1;33m,\u001b[0m \u001b[0mend_row_position\u001b[0m\u001b[1;33m-\u001b[0m\u001b[1;36m1\u001b[0m\u001b[1;33m)\u001b[0m\u001b[1;33m]\u001b[0m\u001b[1;33m\u001b[0m\n",
      "\u001b[1;33m\u001b[0m\u001b[1;33m\u001b[0m\n",
      "\u001b[1;33m\u001b[0m    \u001b[1;32mreturn\u001b[0m \u001b[0mAlignment\u001b[0m\u001b[1;33m(\u001b[0m\u001b[0maligned1\u001b[0m \u001b[1;33m+\u001b[0m \u001b[0maligned2\u001b[0m\u001b[1;33m,\u001b[0m \u001b[0mscore\u001b[0m\u001b[1;33m=\u001b[0m\u001b[0mscore\u001b[0m\u001b[1;33m,\u001b[0m\u001b[1;33m\u001b[0m\n",
      "\u001b[1;33m\u001b[0m                     \u001b[0mstart_end_positions\u001b[0m\u001b[1;33m=\u001b[0m\u001b[0mstart_end_positions\u001b[0m\u001b[1;33m)\u001b[0m\u001b[1;33m\u001b[0m\u001b[0m\n",
      "\n"
     ]
    }
   ],
   "source": [
    "from skbio.alignment import local_pairwise_align\n",
    "\n",
    "%psource local_pairwise_align"
   ]
  },
  {
   "cell_type": "markdown",
   "metadata": {},
   "source": [
    "And we can take the *convenience function* one step futher, and wrap `sw_align` and `nw_align` up in a more general `align` function, which takes a boolean parameter (i.e., `True` or `False`) indicating where we want a local or global alignment."
   ]
  },
  {
   "cell_type": "code",
   "execution_count": 36,
   "metadata": {
    "collapsed": false
   },
   "outputs": [],
   "source": [
    "def align(sequence1, sequence2, gap_penalty, substitution_matrix, local):\n",
    "    if local:\n",
    "        return local_pairwise_align(sequence1, sequence2, gap_penalty, gap_penalty, substitution_matrix)\n",
    "    else:\n",
    "        return global_pairwise_align(sequence1, sequence2, gap_penalty, gap_penalty, substitution_matrix)"
   ]
  },
  {
   "cell_type": "code",
   "execution_count": 37,
   "metadata": {
    "collapsed": false
   },
   "outputs": [
    {
     "name": "stdout",
     "output_type": "stream",
     "text": [
      ">0\n",
      "AWGHE\n",
      ">1\n",
      "AW-HE\n",
      "\n"
     ]
    },
    {
     "name": "stderr",
     "output_type": "stream",
     "text": [
      "/home/anders/anaconda/envs/iab/lib/python3.4/site-packages/skbio/alignment/_pairwise.py:302: EfficiencyWarning: You're using skbio's python implementation of Smith-Waterman alignment. This will be very slow (e.g., thousands of times slower) than skbio.alignment.local_pairwise_align_ssw.\n",
      "  EfficiencyWarning)\n"
     ]
    }
   ],
   "source": [
    "result = align('HEAGAWGHEE', 'PAWHEAE', 8, blosum50, True)\n",
    "print(result)"
   ]
  },
  {
   "cell_type": "code",
   "execution_count": 38,
   "metadata": {
    "collapsed": false
   },
   "outputs": [
    {
     "name": "stdout",
     "output_type": "stream",
     "text": [
      ">0\n",
      "HEAGAWGHEE-\n",
      ">1\n",
      "---PAW-HEAE\n",
      "\n"
     ]
    },
    {
     "name": "stderr",
     "output_type": "stream",
     "text": [
      "/home/anders/anaconda/envs/iab/lib/python3.4/site-packages/skbio/alignment/_pairwise.py:540: EfficiencyWarning: You're using skbio's python implementation of Needleman-Wunsch alignment. This is known to be very slow (e.g., thousands of times slower than a native C implementation). We'll be adding a faster version soon (see https://github.com/biocore/scikit-bio/issues/254 to track progress on this).\n",
      "  \"to track progress on this).\", EfficiencyWarning)\n"
     ]
    }
   ],
   "source": [
    "result = align('HEAGAWGHEE', 'PAWHEAE', 8, blosum50, False)\n",
    "print(result)"
   ]
  },
  {
   "cell_type": "markdown",
   "metadata": {},
   "source": [
    "So there you have it: the basics of pairwise sequence alignment, which is easily the most fundamental algorithm in bioinformatics. "
   ]
  },
  {
   "cell_type": "markdown",
   "metadata": {},
   "source": [
    "## Smith-Waterman local alignment with affine gap scoring"
   ]
  },
  {
   "cell_type": "markdown",
   "metadata": {},
   "source": [
    "The second limitation of the our simple alignment algorithm, and one that is also present in our version of Smith-Waterman as implemented above, is that all gaps are scored equally whether they represent the opening of a new insertion/deletion, or the extension of an existing insertion/deletion. This isn't ideal based on what we know about how insertion/deletion events occur (see [this discussion of replication slippage](http://www.ncbi.nlm.nih.gov/books/NBK21114/)). Instead, **we might want to incur a large penalty for opening a gap, but a smaller penalty for extending a gap**. To do this, **we need to make two small changes to our scoring scheme**. When we compute the score for a gap, we should incurr a *gap open penalty* if the previous max score was derived from inserting a gap character in the same sequence. If we represent our traceback matrix as $T$, our gap open penalty as $d^0$, and our gap extend penalty as $d^e$, our scoring scheme would look like the following:\n",
    "\n",
    "$$\n",
    "F(i, j) = max \\left(\\begin{align}\n",
    "& 0\\\\\n",
    "& F(i-1, j-1) + s(c_i, c_j)\\\\\n",
    "& \\left\\{\\begin{array}{l l} F(i-1, j) - d^e \\quad \\text{if $T(i-1, j)$ is gap}\\\\ F(i-1, j) - d^o \\quad \\text{if $T(i-1, j)$ is not gap} \\end{array}  \\right\\} \\\\\n",
    "& \\left\\{\\begin{array}{l l} F(i, j-1) - d^e \\quad \\text{if $T(i, j-1)$ is gap}\\\\ F(i, j-1) - d^o \\quad \\text{if $T(i, j-1)$ is not gap} \\end{array}  \\right\\}\n",
    " \\end{align}\\right)\n",
    "$$\n",
    "\n",
    "\n",
    "Notice how we only use the gap extend penalty if the previous max score resulted from a gap in the same sequence (which we know by looking in the traceback matrix) because it represents the continuation of an existing gap in that sequence. This is why we check for a specific type of gap in $T$, rather than checking whether $T$ `!= '\\'`. \n",
    "\n",
    "Here is our ``_compute_score_and_traceback_matrices`` function again for reference."
   ]
  },
  {
   "cell_type": "code",
   "execution_count": 39,
   "metadata": {
    "collapsed": false
   },
   "outputs": [
    {
     "name": "stdout",
     "output_type": "stream",
     "text": [
      "\u001b[1;32mdef\u001b[0m \u001b[0m_compute_score_and_traceback_matrices\u001b[0m\u001b[1;33m(\u001b[0m\u001b[1;33m\u001b[0m\n",
      "\u001b[1;33m\u001b[0m        \u001b[0maln1\u001b[0m\u001b[1;33m,\u001b[0m \u001b[0maln2\u001b[0m\u001b[1;33m,\u001b[0m \u001b[0mgap_open_penalty\u001b[0m\u001b[1;33m,\u001b[0m \u001b[0mgap_extend_penalty\u001b[0m\u001b[1;33m,\u001b[0m \u001b[0msubstitution_matrix\u001b[0m\u001b[1;33m,\u001b[0m\u001b[1;33m\u001b[0m\n",
      "\u001b[1;33m\u001b[0m        \u001b[0mnew_alignment_score\u001b[0m\u001b[1;33m=\u001b[0m\u001b[1;33m-\u001b[0m\u001b[0mnp\u001b[0m\u001b[1;33m.\u001b[0m\u001b[0minf\u001b[0m\u001b[1;33m,\u001b[0m \u001b[0minit_matrices_f\u001b[0m\u001b[1;33m=\u001b[0m\u001b[0m_init_matrices_nw\u001b[0m\u001b[1;33m,\u001b[0m\u001b[1;33m\u001b[0m\n",
      "\u001b[1;33m\u001b[0m        \u001b[0mpenalize_terminal_gaps\u001b[0m\u001b[1;33m=\u001b[0m\u001b[1;32mTrue\u001b[0m\u001b[1;33m,\u001b[0m \u001b[0mgap_substitution_score\u001b[0m\u001b[1;33m=\u001b[0m\u001b[1;36m0\u001b[0m\u001b[1;33m)\u001b[0m\u001b[1;33m:\u001b[0m\u001b[1;33m\u001b[0m\n",
      "\u001b[1;33m\u001b[0m    \u001b[1;34m\"\"\"Return dynamic programming (score) and traceback matrices.\u001b[0m\n",
      "\u001b[1;34m\u001b[0m\n",
      "\u001b[1;34m    A note on the ``penalize_terminal_gaps`` parameter. When this value is\u001b[0m\n",
      "\u001b[1;34m    ``False``, this function is no longer true Smith-Waterman/Needleman-Wunsch\u001b[0m\n",
      "\u001b[1;34m    scoring, but when ``True`` it can result in biologically irrelevant\u001b[0m\n",
      "\u001b[1;34m    artifacts in Needleman-Wunsch (global) alignments. Specifically, if one\u001b[0m\n",
      "\u001b[1;34m    sequence is longer than the other (e.g., if aligning a primer sequence to\u001b[0m\n",
      "\u001b[1;34m    an amplification product, or searching for a gene in a genome) the shorter\u001b[0m\n",
      "\u001b[1;34m    sequence will have a long gap inserted. The parameter is ``True`` by\u001b[0m\n",
      "\u001b[1;34m    default (so that this function computes the score and traceback matrices as\u001b[0m\n",
      "\u001b[1;34m    described by the original authors) but the global alignment wrappers pass\u001b[0m\n",
      "\u001b[1;34m    ``False`` by default, so that the global alignment API returns the result\u001b[0m\n",
      "\u001b[1;34m    that users are most likely to be looking for.\u001b[0m\n",
      "\u001b[1;34m\u001b[0m\n",
      "\u001b[1;34m    \"\"\"\u001b[0m\u001b[1;33m\u001b[0m\n",
      "\u001b[1;33m\u001b[0m    \u001b[0maln1_length\u001b[0m \u001b[1;33m=\u001b[0m \u001b[0maln1\u001b[0m\u001b[1;33m.\u001b[0m\u001b[0msequence_length\u001b[0m\u001b[1;33m(\u001b[0m\u001b[1;33m)\u001b[0m\u001b[1;33m\u001b[0m\n",
      "\u001b[1;33m\u001b[0m    \u001b[0maln2_length\u001b[0m \u001b[1;33m=\u001b[0m \u001b[0maln2\u001b[0m\u001b[1;33m.\u001b[0m\u001b[0msequence_length\u001b[0m\u001b[1;33m(\u001b[0m\u001b[1;33m)\u001b[0m\u001b[1;33m\u001b[0m\n",
      "\u001b[1;33m\u001b[0m    \u001b[1;31m# cache some values for quicker/simpler access\u001b[0m\u001b[1;33m\u001b[0m\n",
      "\u001b[1;33m\u001b[0m    \u001b[0maend\u001b[0m \u001b[1;33m=\u001b[0m \u001b[0m_traceback_encoding\u001b[0m\u001b[1;33m[\u001b[0m\u001b[1;34m'alignment-end'\u001b[0m\u001b[1;33m]\u001b[0m\u001b[1;33m\u001b[0m\n",
      "\u001b[1;33m\u001b[0m    \u001b[0mmatch\u001b[0m \u001b[1;33m=\u001b[0m \u001b[0m_traceback_encoding\u001b[0m\u001b[1;33m[\u001b[0m\u001b[1;34m'match'\u001b[0m\u001b[1;33m]\u001b[0m\u001b[1;33m\u001b[0m\n",
      "\u001b[1;33m\u001b[0m    \u001b[0mvgap\u001b[0m \u001b[1;33m=\u001b[0m \u001b[0m_traceback_encoding\u001b[0m\u001b[1;33m[\u001b[0m\u001b[1;34m'vertical-gap'\u001b[0m\u001b[1;33m]\u001b[0m\u001b[1;33m\u001b[0m\n",
      "\u001b[1;33m\u001b[0m    \u001b[0mhgap\u001b[0m \u001b[1;33m=\u001b[0m \u001b[0m_traceback_encoding\u001b[0m\u001b[1;33m[\u001b[0m\u001b[1;34m'horizontal-gap'\u001b[0m\u001b[1;33m]\u001b[0m\u001b[1;33m\u001b[0m\n",
      "\u001b[1;33m\u001b[0m\u001b[1;33m\u001b[0m\n",
      "\u001b[1;33m\u001b[0m    \u001b[0mnew_alignment_score\u001b[0m \u001b[1;33m=\u001b[0m \u001b[1;33m(\u001b[0m\u001b[0mnew_alignment_score\u001b[0m\u001b[1;33m,\u001b[0m \u001b[0maend\u001b[0m\u001b[1;33m)\u001b[0m\u001b[1;33m\u001b[0m\n",
      "\u001b[1;33m\u001b[0m\u001b[1;33m\u001b[0m\n",
      "\u001b[1;33m\u001b[0m    \u001b[1;31m# Initialize a matrix to use for scoring the alignment and for tracing\u001b[0m\u001b[1;33m\u001b[0m\n",
      "\u001b[1;33m\u001b[0m    \u001b[1;31m# back the best alignment\u001b[0m\u001b[1;33m\u001b[0m\n",
      "\u001b[1;33m\u001b[0m    \u001b[0mscore_matrix\u001b[0m\u001b[1;33m,\u001b[0m \u001b[0mtraceback_matrix\u001b[0m \u001b[1;33m=\u001b[0m \u001b[0minit_matrices_f\u001b[0m\u001b[1;33m(\u001b[0m\u001b[1;33m\u001b[0m\n",
      "\u001b[1;33m\u001b[0m        \u001b[0maln1\u001b[0m\u001b[1;33m,\u001b[0m \u001b[0maln2\u001b[0m\u001b[1;33m,\u001b[0m \u001b[0mgap_open_penalty\u001b[0m\u001b[1;33m,\u001b[0m \u001b[0mgap_extend_penalty\u001b[0m\u001b[1;33m)\u001b[0m\u001b[1;33m\u001b[0m\n",
      "\u001b[1;33m\u001b[0m\u001b[1;33m\u001b[0m\n",
      "\u001b[1;33m\u001b[0m    \u001b[1;31m# Iterate over the characters in aln2 (which corresponds to the vertical\u001b[0m\u001b[1;33m\u001b[0m\n",
      "\u001b[1;33m\u001b[0m    \u001b[1;31m# sequence in the matrix)\u001b[0m\u001b[1;33m\u001b[0m\n",
      "\u001b[1;33m\u001b[0m    \u001b[1;32mfor\u001b[0m \u001b[0maln2_pos\u001b[0m\u001b[1;33m,\u001b[0m \u001b[0maln2_chars\u001b[0m \u001b[1;32min\u001b[0m \u001b[0menumerate\u001b[0m\u001b[1;33m(\u001b[0m\u001b[0maln2\u001b[0m\u001b[1;33m.\u001b[0m\u001b[0miter_positions\u001b[0m\u001b[1;33m(\u001b[0m\u001b[0mstr\u001b[0m\u001b[1;33m)\u001b[0m\u001b[1;33m,\u001b[0m \u001b[1;36m1\u001b[0m\u001b[1;33m)\u001b[0m\u001b[1;33m:\u001b[0m\u001b[1;33m\u001b[0m\n",
      "\u001b[1;33m\u001b[0m        \u001b[1;31m# Iterate over the characters in aln1 (which corresponds to the\u001b[0m\u001b[1;33m\u001b[0m\n",
      "\u001b[1;33m\u001b[0m        \u001b[1;31m# horizontal sequence in the matrix)\u001b[0m\u001b[1;33m\u001b[0m\n",
      "\u001b[1;33m\u001b[0m        \u001b[1;32mfor\u001b[0m \u001b[0maln1_pos\u001b[0m\u001b[1;33m,\u001b[0m \u001b[0maln1_chars\u001b[0m \u001b[1;32min\u001b[0m \u001b[0menumerate\u001b[0m\u001b[1;33m(\u001b[0m\u001b[0maln1\u001b[0m\u001b[1;33m.\u001b[0m\u001b[0miter_positions\u001b[0m\u001b[1;33m(\u001b[0m\u001b[0mstr\u001b[0m\u001b[1;33m)\u001b[0m\u001b[1;33m,\u001b[0m \u001b[1;36m1\u001b[0m\u001b[1;33m)\u001b[0m\u001b[1;33m:\u001b[0m\u001b[1;33m\u001b[0m\n",
      "\u001b[1;33m\u001b[0m            \u001b[1;31m# compute the score for a match/mismatch\u001b[0m\u001b[1;33m\u001b[0m\n",
      "\u001b[1;33m\u001b[0m            \u001b[0msubstitution_score\u001b[0m \u001b[1;33m=\u001b[0m \u001b[0m_compute_substitution_score\u001b[0m\u001b[1;33m(\u001b[0m\u001b[1;33m\u001b[0m\n",
      "\u001b[1;33m\u001b[0m                \u001b[0maln1_chars\u001b[0m\u001b[1;33m,\u001b[0m \u001b[0maln2_chars\u001b[0m\u001b[1;33m,\u001b[0m \u001b[0msubstitution_matrix\u001b[0m\u001b[1;33m,\u001b[0m\u001b[1;33m\u001b[0m\n",
      "\u001b[1;33m\u001b[0m                \u001b[0mgap_substitution_score\u001b[0m\u001b[1;33m)\u001b[0m\u001b[1;33m\u001b[0m\n",
      "\u001b[1;33m\u001b[0m\u001b[1;33m\u001b[0m\n",
      "\u001b[1;33m\u001b[0m            \u001b[0mdiag_score\u001b[0m \u001b[1;33m=\u001b[0m \\\n",
      "                \u001b[1;33m(\u001b[0m\u001b[0mscore_matrix\u001b[0m\u001b[1;33m[\u001b[0m\u001b[0maln2_pos\u001b[0m\u001b[1;33m-\u001b[0m\u001b[1;36m1\u001b[0m\u001b[1;33m,\u001b[0m \u001b[0maln1_pos\u001b[0m\u001b[1;33m-\u001b[0m\u001b[1;36m1\u001b[0m\u001b[1;33m]\u001b[0m \u001b[1;33m+\u001b[0m \u001b[0msubstitution_score\u001b[0m\u001b[1;33m,\u001b[0m\u001b[1;33m\u001b[0m\n",
      "\u001b[1;33m\u001b[0m                 \u001b[0mmatch\u001b[0m\u001b[1;33m)\u001b[0m\u001b[1;33m\u001b[0m\n",
      "\u001b[1;33m\u001b[0m\u001b[1;33m\u001b[0m\n",
      "\u001b[1;33m\u001b[0m            \u001b[1;31m# compute the score for adding a gap in aln2 (vertical)\u001b[0m\u001b[1;33m\u001b[0m\n",
      "\u001b[1;33m\u001b[0m            \u001b[1;32mif\u001b[0m \u001b[1;32mnot\u001b[0m \u001b[0mpenalize_terminal_gaps\u001b[0m \u001b[1;32mand\u001b[0m \u001b[1;33m(\u001b[0m\u001b[0maln1_pos\u001b[0m \u001b[1;33m==\u001b[0m \u001b[0maln1_length\u001b[0m\u001b[1;33m)\u001b[0m\u001b[1;33m:\u001b[0m\u001b[1;33m\u001b[0m\n",
      "\u001b[1;33m\u001b[0m                \u001b[1;31m# we've reached the end of aln1, so adding vertical gaps\u001b[0m\u001b[1;33m\u001b[0m\n",
      "\u001b[1;33m\u001b[0m                \u001b[1;31m# (which become gaps in aln1) should no longer\u001b[0m\u001b[1;33m\u001b[0m\n",
      "\u001b[1;33m\u001b[0m                \u001b[1;31m# be penalized (if penalize_terminal_gaps == False)\u001b[0m\u001b[1;33m\u001b[0m\n",
      "\u001b[1;33m\u001b[0m                \u001b[0mup_score\u001b[0m \u001b[1;33m=\u001b[0m \u001b[1;33m(\u001b[0m\u001b[0mscore_matrix\u001b[0m\u001b[1;33m[\u001b[0m\u001b[0maln2_pos\u001b[0m\u001b[1;33m-\u001b[0m\u001b[1;36m1\u001b[0m\u001b[1;33m,\u001b[0m \u001b[0maln1_pos\u001b[0m\u001b[1;33m]\u001b[0m\u001b[1;33m,\u001b[0m \u001b[0mvgap\u001b[0m\u001b[1;33m)\u001b[0m\u001b[1;33m\u001b[0m\n",
      "\u001b[1;33m\u001b[0m            \u001b[1;32melif\u001b[0m \u001b[0mtraceback_matrix\u001b[0m\u001b[1;33m[\u001b[0m\u001b[0maln2_pos\u001b[0m\u001b[1;33m-\u001b[0m\u001b[1;36m1\u001b[0m\u001b[1;33m,\u001b[0m \u001b[0maln1_pos\u001b[0m\u001b[1;33m]\u001b[0m \u001b[1;33m==\u001b[0m \u001b[0mvgap\u001b[0m\u001b[1;33m:\u001b[0m\u001b[1;33m\u001b[0m\n",
      "\u001b[1;33m\u001b[0m                \u001b[1;31m# gap extend, because the cell above was also a gap\u001b[0m\u001b[1;33m\u001b[0m\n",
      "\u001b[1;33m\u001b[0m                \u001b[0mup_score\u001b[0m \u001b[1;33m=\u001b[0m \\\n",
      "                    \u001b[1;33m(\u001b[0m\u001b[0mscore_matrix\u001b[0m\u001b[1;33m[\u001b[0m\u001b[0maln2_pos\u001b[0m\u001b[1;33m-\u001b[0m\u001b[1;36m1\u001b[0m\u001b[1;33m,\u001b[0m \u001b[0maln1_pos\u001b[0m\u001b[1;33m]\u001b[0m \u001b[1;33m-\u001b[0m \u001b[0mgap_extend_penalty\u001b[0m\u001b[1;33m,\u001b[0m\u001b[1;33m\u001b[0m\n",
      "\u001b[1;33m\u001b[0m                     \u001b[0mvgap\u001b[0m\u001b[1;33m)\u001b[0m\u001b[1;33m\u001b[0m\n",
      "\u001b[1;33m\u001b[0m            \u001b[1;32melse\u001b[0m\u001b[1;33m:\u001b[0m\u001b[1;33m\u001b[0m\n",
      "\u001b[1;33m\u001b[0m                \u001b[1;31m# gap open, because the cell above was not a gap\u001b[0m\u001b[1;33m\u001b[0m\n",
      "\u001b[1;33m\u001b[0m                \u001b[0mup_score\u001b[0m \u001b[1;33m=\u001b[0m \\\n",
      "                    \u001b[1;33m(\u001b[0m\u001b[0mscore_matrix\u001b[0m\u001b[1;33m[\u001b[0m\u001b[0maln2_pos\u001b[0m\u001b[1;33m-\u001b[0m\u001b[1;36m1\u001b[0m\u001b[1;33m,\u001b[0m \u001b[0maln1_pos\u001b[0m\u001b[1;33m]\u001b[0m \u001b[1;33m-\u001b[0m \u001b[0mgap_open_penalty\u001b[0m\u001b[1;33m,\u001b[0m\u001b[1;33m\u001b[0m\n",
      "\u001b[1;33m\u001b[0m                     \u001b[0mvgap\u001b[0m\u001b[1;33m)\u001b[0m\u001b[1;33m\u001b[0m\n",
      "\u001b[1;33m\u001b[0m\u001b[1;33m\u001b[0m\n",
      "\u001b[1;33m\u001b[0m            \u001b[1;31m# compute the score for adding a gap in aln1 (horizontal)\u001b[0m\u001b[1;33m\u001b[0m\n",
      "\u001b[1;33m\u001b[0m            \u001b[1;32mif\u001b[0m \u001b[1;32mnot\u001b[0m \u001b[0mpenalize_terminal_gaps\u001b[0m \u001b[1;32mand\u001b[0m \u001b[1;33m(\u001b[0m\u001b[0maln2_pos\u001b[0m \u001b[1;33m==\u001b[0m \u001b[0maln2_length\u001b[0m\u001b[1;33m)\u001b[0m\u001b[1;33m:\u001b[0m\u001b[1;33m\u001b[0m\n",
      "\u001b[1;33m\u001b[0m                \u001b[1;31m# we've reached the end of aln2, so adding horizontal gaps\u001b[0m\u001b[1;33m\u001b[0m\n",
      "\u001b[1;33m\u001b[0m                \u001b[1;31m# (which become gaps in aln2) should no longer\u001b[0m\u001b[1;33m\u001b[0m\n",
      "\u001b[1;33m\u001b[0m                \u001b[1;31m# be penalized (if penalize_terminal_gaps == False)\u001b[0m\u001b[1;33m\u001b[0m\n",
      "\u001b[1;33m\u001b[0m                \u001b[0mleft_score\u001b[0m \u001b[1;33m=\u001b[0m \u001b[1;33m(\u001b[0m\u001b[0mscore_matrix\u001b[0m\u001b[1;33m[\u001b[0m\u001b[0maln2_pos\u001b[0m\u001b[1;33m,\u001b[0m \u001b[0maln1_pos\u001b[0m\u001b[1;33m-\u001b[0m\u001b[1;36m1\u001b[0m\u001b[1;33m]\u001b[0m\u001b[1;33m,\u001b[0m \u001b[0mhgap\u001b[0m\u001b[1;33m)\u001b[0m\u001b[1;33m\u001b[0m\n",
      "\u001b[1;33m\u001b[0m            \u001b[1;32melif\u001b[0m \u001b[0mtraceback_matrix\u001b[0m\u001b[1;33m[\u001b[0m\u001b[0maln2_pos\u001b[0m\u001b[1;33m,\u001b[0m \u001b[0maln1_pos\u001b[0m\u001b[1;33m-\u001b[0m\u001b[1;36m1\u001b[0m\u001b[1;33m]\u001b[0m \u001b[1;33m==\u001b[0m \u001b[0mhgap\u001b[0m\u001b[1;33m:\u001b[0m\u001b[1;33m\u001b[0m\n",
      "\u001b[1;33m\u001b[0m                \u001b[1;31m# gap extend, because the cell to the left was also a gap\u001b[0m\u001b[1;33m\u001b[0m\n",
      "\u001b[1;33m\u001b[0m                \u001b[0mleft_score\u001b[0m \u001b[1;33m=\u001b[0m \\\n",
      "                    \u001b[1;33m(\u001b[0m\u001b[0mscore_matrix\u001b[0m\u001b[1;33m[\u001b[0m\u001b[0maln2_pos\u001b[0m\u001b[1;33m,\u001b[0m \u001b[0maln1_pos\u001b[0m\u001b[1;33m-\u001b[0m\u001b[1;36m1\u001b[0m\u001b[1;33m]\u001b[0m \u001b[1;33m-\u001b[0m \u001b[0mgap_extend_penalty\u001b[0m\u001b[1;33m,\u001b[0m\u001b[1;33m\u001b[0m\n",
      "\u001b[1;33m\u001b[0m                     \u001b[0mhgap\u001b[0m\u001b[1;33m)\u001b[0m\u001b[1;33m\u001b[0m\n",
      "\u001b[1;33m\u001b[0m            \u001b[1;32melse\u001b[0m\u001b[1;33m:\u001b[0m\u001b[1;33m\u001b[0m\n",
      "\u001b[1;33m\u001b[0m                \u001b[1;31m# gap open, because the cell to the left was not a gap\u001b[0m\u001b[1;33m\u001b[0m\n",
      "\u001b[1;33m\u001b[0m                \u001b[0mleft_score\u001b[0m \u001b[1;33m=\u001b[0m \\\n",
      "                    \u001b[1;33m(\u001b[0m\u001b[0mscore_matrix\u001b[0m\u001b[1;33m[\u001b[0m\u001b[0maln2_pos\u001b[0m\u001b[1;33m,\u001b[0m \u001b[0maln1_pos\u001b[0m\u001b[1;33m-\u001b[0m\u001b[1;36m1\u001b[0m\u001b[1;33m]\u001b[0m \u001b[1;33m-\u001b[0m \u001b[0mgap_open_penalty\u001b[0m\u001b[1;33m,\u001b[0m\u001b[1;33m\u001b[0m\n",
      "\u001b[1;33m\u001b[0m                     \u001b[0mhgap\u001b[0m\u001b[1;33m)\u001b[0m\u001b[1;33m\u001b[0m\n",
      "\u001b[1;33m\u001b[0m\u001b[1;33m\u001b[0m\n",
      "\u001b[1;33m\u001b[0m            \u001b[1;31m# identify the largest score, and use that information to populate\u001b[0m\u001b[1;33m\u001b[0m\n",
      "\u001b[1;33m\u001b[0m            \u001b[1;31m# the score and traceback matrices\u001b[0m\u001b[1;33m\u001b[0m\n",
      "\u001b[1;33m\u001b[0m            \u001b[0mbest_score\u001b[0m \u001b[1;33m=\u001b[0m \u001b[0m_first_largest\u001b[0m\u001b[1;33m(\u001b[0m\u001b[1;33m[\u001b[0m\u001b[0mnew_alignment_score\u001b[0m\u001b[1;33m,\u001b[0m \u001b[0mleft_score\u001b[0m\u001b[1;33m,\u001b[0m\u001b[1;33m\u001b[0m\n",
      "\u001b[1;33m\u001b[0m                                         \u001b[0mdiag_score\u001b[0m\u001b[1;33m,\u001b[0m \u001b[0mup_score\u001b[0m\u001b[1;33m]\u001b[0m\u001b[1;33m)\u001b[0m\u001b[1;33m\u001b[0m\n",
      "\u001b[1;33m\u001b[0m            \u001b[0mscore_matrix\u001b[0m\u001b[1;33m[\u001b[0m\u001b[0maln2_pos\u001b[0m\u001b[1;33m,\u001b[0m \u001b[0maln1_pos\u001b[0m\u001b[1;33m]\u001b[0m \u001b[1;33m=\u001b[0m \u001b[0mbest_score\u001b[0m\u001b[1;33m[\u001b[0m\u001b[1;36m0\u001b[0m\u001b[1;33m]\u001b[0m\u001b[1;33m\u001b[0m\n",
      "\u001b[1;33m\u001b[0m            \u001b[0mtraceback_matrix\u001b[0m\u001b[1;33m[\u001b[0m\u001b[0maln2_pos\u001b[0m\u001b[1;33m,\u001b[0m \u001b[0maln1_pos\u001b[0m\u001b[1;33m]\u001b[0m \u001b[1;33m=\u001b[0m \u001b[0mbest_score\u001b[0m\u001b[1;33m[\u001b[0m\u001b[1;36m1\u001b[0m\u001b[1;33m]\u001b[0m\u001b[1;33m\u001b[0m\n",
      "\u001b[1;33m\u001b[0m\u001b[1;33m\u001b[0m\n",
      "\u001b[1;33m\u001b[0m    \u001b[1;32mreturn\u001b[0m \u001b[0mscore_matrix\u001b[0m\u001b[1;33m,\u001b[0m \u001b[0mtraceback_matrix\u001b[0m\u001b[1;33m\u001b[0m\u001b[0m\n",
      "\n"
     ]
    }
   ],
   "source": [
    "%psource _compute_score_and_traceback_matrices"
   ]
  },
  {
   "cell_type": "markdown",
   "metadata": {},
   "source": [
    "Take a look at how the scores differ with these additions."
   ]
  },
  {
   "cell_type": "code",
   "execution_count": 40,
   "metadata": {
    "collapsed": false
   },
   "outputs": [
    {
     "name": "stdout",
     "output_type": "stream",
     "text": [
      "                 H     E     A     G     A     W     G     H     E     E\n",
      "         0.0  -8.0  -9.0 -10.0 -11.0 -12.0 -13.0 -14.0 -15.0 -16.0 -17.0\n",
      "     P  -8.0  -2.0  -9.0 -10.0 -12.0 -12.0 -16.0 -15.0 -16.0 -16.0 -17.0\n",
      "     A  -9.0 -10.0  -3.0  -4.0 -10.0  -7.0 -15.0 -16.0 -17.0 -17.0 -17.0\n",
      "     W -10.0 -12.0 -11.0  -6.0  -7.0 -13.0   8.0   0.0  -1.0  -2.0  -3.0\n",
      "     H -11.0   0.0  -8.0  -9.0  -8.0  -9.0   0.0   6.0  10.0   2.0   1.0\n",
      "     E -12.0  -8.0   6.0  -2.0  -3.0  -4.0  -1.0  -2.0   6.0  16.0   8.0\n",
      "     A -13.0  -9.0  -2.0  11.0   3.0   2.0   1.0   0.0  -1.0   8.0  15.0\n",
      "     E -14.0 -10.0  -3.0   3.0   8.0   2.0  -1.0  -2.0   0.0   7.0  14.0\n"
     ]
    }
   ],
   "source": [
    "seq1 = Alignment([Protein(\"HEAGAWGHEE\")])\n",
    "seq2 = Alignment([Protein(\"PAWHEAE\")])\n",
    "\n",
    "sw_matrix, traceback_matrix = _compute_score_and_traceback_matrices(seq1, seq2, 8, 1, blosum50)\n",
    "\n",
    "print(format_dynamic_programming_matrix(seq1, seq2, sw_matrix))"
   ]
  },
  {
   "cell_type": "code",
   "execution_count": 41,
   "metadata": {
    "collapsed": false
   },
   "outputs": [
    {
     "name": "stdout",
     "output_type": "stream",
     "text": [
      "                 H     E     A     G     A     W     G     H     E     E\n",
      "           *     -     -     -     -     -     -     -     -     -     -\n",
      "     P     |     \\     \\     \\     \\     \\     \\     \\     \\     \\     \\\n",
      "     A     |     \\     \\     \\     \\     \\     -     -     -     \\     \\\n",
      "     W     |     \\     |     \\     \\     \\     \\     -     -     -     -\n",
      "     H     |     \\     -     -     \\     \\     |     \\     \\     -     -\n",
      "     E     |     |     \\     -     -     -     |     |     \\     \\     -\n",
      "     A     |     |     |     \\     -     -     -     -     -     |     \\\n",
      "     E     |     |     \\     |     \\     \\     \\     \\     \\     |     \\\n"
     ]
    }
   ],
   "source": [
    "print(format_traceback_matrix(seq1, seq2, traceback_matrix))"
   ]
  },
  {
   "cell_type": "markdown",
   "metadata": {},
   "source": [
    "The convenience functions we worked with above all take ``gap_open_penalty`` and ``gap_extend_penalty``, so we can use those to explore sequence alignment with affine gap scoring. Here I define `seq1` to be slightly different than what I have above. Notice how we get different alignments when we use affine gap penalties (i.e., ``gap_extend_penalty`` is not equal to ``gap_open_penalty``) versus equal gap open and gap extend penalties. "
   ]
  },
  {
   "cell_type": "code",
   "execution_count": 42,
   "metadata": {
    "collapsed": false
   },
   "outputs": [
    {
     "name": "stdout",
     "output_type": "stream",
     "text": [
      "Help on function local_pairwise_align in module skbio.alignment._pairwise:\n",
      "\n",
      "local_pairwise_align(seq1, seq2, gap_open_penalty, gap_extend_penalty, substitution_matrix)\n",
      "    Locally align exactly two seqs with Smith-Waterman\n",
      "    \n",
      "    Parameters\n",
      "    ----------\n",
      "    seq1 : str or BiologicalSequence\n",
      "        The first unaligned sequence.\n",
      "    seq2 : str or BiologicalSequence\n",
      "        The second unaligned sequence.\n",
      "    gap_open_penalty : int or float\n",
      "        Penalty for opening a gap (this is substracted from previous best\n",
      "        alignment score, so is typically positive).\n",
      "    gap_extend_penalty : int or float\n",
      "        Penalty for extending a gap (this is substracted from previous best\n",
      "        alignment score, so is typically positive).\n",
      "    substitution_matrix: 2D dict (or similar)\n",
      "        Lookup for substitution scores (these values are added to the\n",
      "        previous best alignment score).\n",
      "    \n",
      "    Returns\n",
      "    -------\n",
      "    skbio.Alignment\n",
      "       ``Alignment`` object containing the aligned sequences as well as\n",
      "        details about the alignment.\n",
      "    \n",
      "    See Also\n",
      "    --------\n",
      "    local_pairwise_align_protein\n",
      "    local_pairwise_align_nucleotide\n",
      "    skbio.alignment.local_pairwise_align_ssw\n",
      "    global_pairwise_align\n",
      "    global_pairwise_align_protein\n",
      "    global_pairwise_align_nucelotide\n",
      "    \n",
      "    Notes\n",
      "    -----\n",
      "    This algorithm was originally described in [1]_. The scikit-bio\n",
      "    implementation was validated against the EMBOSS water web server [2]_.\n",
      "    \n",
      "    References\n",
      "    ----------\n",
      "    .. [1] Identification of common molecular subsequences.\n",
      "       Smith TF, Waterman MS.\n",
      "       J Mol Biol. 1981 Mar 25;147(1):195-7.\n",
      "    .. [2] http://www.ebi.ac.uk/Tools/psa/emboss_water/\n",
      "\n"
     ]
    }
   ],
   "source": [
    "help(local_pairwise_align)"
   ]
  },
  {
   "cell_type": "code",
   "execution_count": 43,
   "metadata": {
    "collapsed": false
   },
   "outputs": [],
   "source": [
    "seq1 = Alignment([Protein(\"HEAGAWGFHEE\")])\n",
    "seq2 = Alignment([Protein(\"PAWHEAE\")])"
   ]
  },
  {
   "cell_type": "code",
   "execution_count": 44,
   "metadata": {
    "collapsed": false
   },
   "outputs": [
    {
     "name": "stdout",
     "output_type": "stream",
     "text": [
      ">0\n",
      "---HEAGAWGFHEE\n",
      ">1\n",
      "PAWHEAE-------\n",
      "\n",
      "18.0\n"
     ]
    },
    {
     "name": "stderr",
     "output_type": "stream",
     "text": [
      "/home/anders/anaconda/envs/iab/lib/python3.4/site-packages/skbio/alignment/_pairwise.py:540: EfficiencyWarning: You're using skbio's python implementation of Needleman-Wunsch alignment. This is known to be very slow (e.g., thousands of times slower than a native C implementation). We'll be adding a faster version soon (see https://github.com/biocore/scikit-bio/issues/254 to track progress on this).\n",
      "  \"to track progress on this).\", EfficiencyWarning)\n"
     ]
    }
   ],
   "source": [
    "alignment = global_pairwise_align(seq1, seq2, 8, 8, blosum50)\n",
    "\n",
    "print(alignment)\n",
    "print(alignment.score())"
   ]
  },
  {
   "cell_type": "code",
   "execution_count": 45,
   "metadata": {
    "collapsed": false
   },
   "outputs": [
    {
     "name": "stdout",
     "output_type": "stream",
     "text": [
      ">0\n",
      "HEAGAWGFHEE-\n",
      ">1\n",
      "---PAW--HEAE\n",
      "\n",
      "24.0\n"
     ]
    },
    {
     "name": "stderr",
     "output_type": "stream",
     "text": [
      "/home/anders/anaconda/envs/iab/lib/python3.4/site-packages/skbio/alignment/_pairwise.py:540: EfficiencyWarning: You're using skbio's python implementation of Needleman-Wunsch alignment. This is known to be very slow (e.g., thousands of times slower than a native C implementation). We'll be adding a faster version soon (see https://github.com/biocore/scikit-bio/issues/254 to track progress on this).\n",
      "  \"to track progress on this).\", EfficiencyWarning)\n"
     ]
    }
   ],
   "source": [
    "alignment = global_pairwise_align(seq1, seq2, 8, 1, blosum50)\n",
    "\n",
    "print(alignment)\n",
    "print(alignment.score())"
   ]
  },
  {
   "cell_type": "markdown",
   "metadata": {},
   "source": [
    "## How long does pairwise sequence alignment take?"
   ]
  },
  {
   "cell_type": "markdown",
   "metadata": {},
   "source": [
    "The focus of this course is *applied* bioinformatics, and **some of the practical considerations we need to think about when developing applications is their runtime and memory requirements**. The third issue we mentioned above is general to the problem of sequence alignment: runtime can be problematic. Over the next few cells we'll explore the runtime of sequence alignment.\n",
    "\n",
    "We just worked through a few algorithms for pairwise sequence alignment, and used some toy examples with short sequences. What if we wanted to scale this up to align much longer sequences, or to align relatively short sequences against a large database. \n",
    "\n",
    "To explore runtime, let's use the IPython [magic function](http://ipython.org/ipython-doc/dev/interactive/tutorial.html#magic-functions) called ``timeit``, which runs a given command many times and reports the average time it takes to fun. We'll use this to see how long global alignment takes to run. Note that we don't care about getting the actual alignment back anymore, we just want the runtime in seconds."
   ]
  },
  {
   "cell_type": "code",
   "execution_count": 46,
   "metadata": {
    "collapsed": false
   },
   "outputs": [
    {
     "name": "stdout",
     "output_type": "stream",
     "text": [
      "100 loops, best of 3: 1.74 ms per loop\n"
     ]
    },
    {
     "name": "stderr",
     "output_type": "stream",
     "text": [
      "/home/anders/anaconda/envs/iab/lib/python3.4/site-packages/skbio/alignment/_pairwise.py:540: EfficiencyWarning: You're using skbio's python implementation of Needleman-Wunsch alignment. This is known to be very slow (e.g., thousands of times slower than a native C implementation). We'll be adding a faster version soon (see https://github.com/biocore/scikit-bio/issues/254 to track progress on this).\n",
      "  \"to track progress on this).\", EfficiencyWarning)\n"
     ]
    }
   ],
   "source": [
    "%timeit global_pairwise_align(seq1, seq2, 8, 1, blosum50)"
   ]
  },
  {
   "cell_type": "markdown",
   "metadata": {},
   "source": [
    "Next, let's apply this to pairs of sequences where we vary the length. We don't really care what the sequences are here, so we'll use python's ``random`` module to get random pairs of sequences. Let's play with that first to see how it can be applied to generate random sequences, as that's generally useful functionality."
   ]
  },
  {
   "cell_type": "code",
   "execution_count": 47,
   "metadata": {
    "collapsed": false
   },
   "outputs": [],
   "source": [
    "from random import choice\n",
    "\n",
    "def random_sequence(alphabet, length):\n",
    "    result = []\n",
    "    for e in range(length):\n",
    "        result.append(choice(alphabet))\n",
    "    return ''.join(result)"
   ]
  },
  {
   "cell_type": "code",
   "execution_count": 48,
   "metadata": {
    "collapsed": false
   },
   "outputs": [
    {
     "name": "stdout",
     "output_type": "stream",
     "text": [
      "SFSNFLPDMR\n",
      "IRCIVKTMNA\n",
      "FAEADRKDNLVPFCEHVVMVKARPH\n",
      "SMAANAPQANMWLYSKNVIQADAWVYCHVCLYAKANQPCVCESMVVVKAV\n"
     ]
    }
   ],
   "source": [
    "aa_choices = list(blosum50.keys())\n",
    "\n",
    "print(random_sequence(aa_choices, 10))\n",
    "print(random_sequence(aa_choices, 10))\n",
    "print(random_sequence(aa_choices, 25))\n",
    "print(random_sequence(aa_choices, 50))"
   ]
  },
  {
   "cell_type": "markdown",
   "metadata": {},
   "source": [
    "Next, let's define a loop where we align, randomly, pairs of sequences of increasing length, and compile the time it took to align the sequences. Here we're going to use a faster version of pairwise alignment that's implemented in scikit-bio, to faciliate testing with more alignments."
   ]
  },
  {
   "cell_type": "code",
   "execution_count": 49,
   "metadata": {
    "collapsed": false
   },
   "outputs": [],
   "source": [
    "import timeit\n",
    "from skbio.alignment import local_pairwise_align_ssw\n",
    "\n",
    "times = []\n",
    "seq_lengths = range(50,100000,20000)\n",
    "\n",
    "def get_time_function(seq_length):\n",
    "    def f():\n",
    "        seq1 = DNA([choice(aa_choices) for i in range(seq_length)])\n",
    "        seq2 = DNA([choice(aa_choices) for i in range(seq_length)])\n",
    "        local_pairwise_align_ssw(seq1, seq2)\n",
    "    return f\n",
    "    \n",
    "for seq_length in seq_lengths:\n",
    "    times.append(min(timeit.Timer(get_time_function(seq_length)).repeat(repeat=3, number=3)))\n",
    "    "
   ]
  },
  {
   "cell_type": "markdown",
   "metadata": {},
   "source": [
    "If we look at the run times, we can see that they are increasing with increasing sequence lengths. "
   ]
  },
  {
   "cell_type": "code",
   "execution_count": 50,
   "metadata": {
    "collapsed": false
   },
   "outputs": [
    {
     "name": "stdout",
     "output_type": "stream",
     "text": [
      "50\t0.0007 sec\n",
      "20050\t0.3145 sec\n",
      "40050\t1.0504 sec\n",
      "60050\t2.2099 sec\n",
      "80050\t3.9062 sec\n"
     ]
    }
   ],
   "source": [
    "for seq_length, t in zip(seq_lengths, times):\n",
    "    print(\"%d\\t%1.4f sec\" % (seq_length, t))"
   ]
  },
  {
   "cell_type": "markdown",
   "metadata": {},
   "source": [
    "That's expected, but what we care about is how they're increasing. Can we use this information to project how well this alignment would work if our sequences were much longer? This is where plotting becomes useful."
   ]
  },
  {
   "cell_type": "code",
   "execution_count": 51,
   "metadata": {
    "collapsed": false
   },
   "outputs": [
    {
     "data": {
      "text/plain": [
       "<matplotlib.text.Text at 0x7fc2b9b91ef0>"
      ]
     },
     "execution_count": 51,
     "metadata": {},
     "output_type": "execute_result"
    },
    {
     "data": {
      "image/png": "[encoded data removed]",
      "text/plain": [
       "<matplotlib.figure.Figure at 0x7fc2e00daa20>"
      ]
     },
     "metadata": {},
     "output_type": "display_data"
    }
   ],
   "source": [
    "import matplotlib.pyplot as plt\n",
    "\n",
    "plt.plot(seq_lengths, times)\n",
    "plt.xlabel('Sequence Length')\n",
    "plt.ylabel('Runtime (s)')\n"
   ]
  },
  {
   "cell_type": "markdown",
   "metadata": {},
   "source": [
    "**One good question is whether developing a version of this algorithm which can run in parallel would be an effective way to make it scale to larger data sets.** In the next cell, we look and how the plot would change if we could run the alignment process over four processors. This would effectively make each alignment run four times as fast (so each runtime would be divided by four) but it doesn't solve our scability problem."
   ]
  },
  {
   "cell_type": "code",
   "execution_count": 52,
   "metadata": {
    "collapsed": false
   },
   "outputs": [
    {
     "data": {
      "text/plain": [
       "<matplotlib.text.Text at 0x7fc2b9ac5320>"
      ]
     },
     "execution_count": 52,
     "metadata": {},
     "output_type": "execute_result"
    },
    {
     "data": {
      "image/png": "[encoded data removed]",
      "text/plain": [
       "<matplotlib.figure.Figure at 0x7fc2e00da6a0>"
      ]
     },
     "metadata": {},
     "output_type": "display_data"
    }
   ],
   "source": [
    "# if we could split this process over more processors (four, for example)\n",
    "# that would effectively reduce the runtime by 1/4\n",
    "times = [t / 4 for t in times]\n",
    "\n",
    "\n",
    "plt.plot(seq_lengths, times)\n",
    "plt.xlabel('Sequence Length')\n",
    "plt.ylabel('Runtime (s)')"
   ]
  },
  {
   "cell_type": "markdown",
   "metadata": {},
   "source": [
    "**Notice that the runtimes in the plot (the y-axis) are smaller, but shape of the curve is the same.** This tells us that we won't be in trouble as soon (we can run bigger alignments in a reasonable amount of time), but we'll still be in trouble eventually. While parallelization can help with this class of computational problem -- one that scales [quadratically](http://en.wikipedia.org/wiki/Quadratic_time) -- it doesn't resolve the problem completely.\n",
    "\n",
    "How an algorithm scales with input size is referred to as its computational complexity. You can explore the computational complexity of different types of algorithms in the [Big-O cheatsheet](http://bigocheatsheet.com/), though it's a fairly advanced introduction to the topic (and one that's usually covered in the second or third year for Computer Science majors). \n",
    "\n",
    "In the next chapter we'll begin exploring ways to address this scalability issue by approximating solutions to the problem."
   ]
  }
 ],
 "metadata": {
  "kernelspec": {
   "display_name": "Python 3",
   "language": "python",
   "name": "python3"
  },
  "language_info": {
   "codemirror_mode": {
    "name": "ipython",
    "version": 3
   },
   "file_extension": ".py",
   "mimetype": "text/x-python",
   "name": "python",
   "nbconvert_exporter": "python",
   "pygments_lexer": "ipython3",
   "version": "3.4.3"
  }
 },
 "nbformat": 4,
 "nbformat_minor": 0
}
