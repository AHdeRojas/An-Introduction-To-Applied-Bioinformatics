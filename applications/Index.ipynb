{
 "metadata": {
  "name": "",
  "signature": "sha256:b3058aaeba1f324cca0ebd7d173cd08ec08cfb1e7ea876ea8017597255b91e2c"
 },
 "nbformat": 3,
 "nbformat_minor": 0,
 "worksheets": [
  {
   "cells": [
    {
     "cell_type": "heading",
     "level": 1,
     "metadata": {},
     "source": [
      "Applications"
     ]
    },
    {
     "cell_type": "markdown",
     "metadata": {},
     "source": [
      "This section introduces applications of the concepts cover in the [Fundamentals](../algorithms/Index.ipynb) section, and on the whole is less developed than that section. This will continue to expand and the project moves forward.\n",
      "\n",
      "  1. [Pairwise alignment](1-pairwise-alignment.ipynb) ([exercise](pairwise-alignment-exercises.ipynb))\n",
      "  2. [Database searching and determining the statistical significance of an alignment](2-database-searching.ipynb)\n",
      "  3. [Phylogeny reconstruction: distances, distances matrices and hierarchical clustering with UPGMA](3-phylogeny-reconstruction.ipynb)\n",
      "  4. [Multiple sequence alignment](4-multiple-sequence-alignment.ipynb) ([exercise](msa-assignment.ipynb))\n",
      "  5. [Read mapping and clustering](5-sequence-mapping-and-clustering.ipynb?create=1)\n",
      "  \n",
      "As always, I am very interested in feedback in the form of email (gregcaporaso@gmail.com) or [pull requests](https://help.github.com/articles/using-pull-requests). "
     ]
    }
   ],
   "metadata": {}
  }
 ]
}