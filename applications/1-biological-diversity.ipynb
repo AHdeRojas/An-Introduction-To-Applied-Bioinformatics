{
 "metadata": {
  "name": "",
  "signature": "sha256:bbfb61dca19fb1322be7a66b0a651f355cb1a0b23ede2675801bdc30749227f0"
 },
 "nbformat": 3,
 "nbformat_minor": 0,
 "worksheets": [
  {
   "cells": [
    {
     "cell_type": "markdown",
     "metadata": {},
     "source": [
      "This chapter is in very early development. In the meantime, I recommend [Measuring Biological Diversity](http://www.amazon.com/Measuring-Biological-Diversity-Anne-Magurran/dp/0632056339) by Anne E. Magurran, and the [QIIME tutorials](http://qiime.org/tutorials/index.html) to learn more about this topic. "
     ]
    },
    {
     "cell_type": "heading",
     "level": 1,
     "metadata": {},
     "source": [
      "Studying Biological Diversity"
     ]
    },
    {
     "cell_type": "heading",
     "level": 2,
     "metadata": {},
     "source": [
      "Getting started: the sample by observation count/frequency table"
     ]
    },
    {
     "cell_type": "code",
     "collapsed": false,
     "input": [
      "from biom.table import table_factory, SparseOTUTable\n",
      "from numpy import array\n",
      "\n",
      "sample_ids = ['A', 'B', 'C']\n",
      "observation_ids = ['OTU1', 'OTU2', 'OTU3', 'OTU4', 'OTU5']\n",
      "data = array([[1, 0, 0],\n",
      "              [3, 2, 0],\n",
      "              [0, 0, 6],\n",
      "              [1, 4, 2],\n",
      "              [0, 4, 1]])\n",
      "\n",
      "table = table_factory(data,\n",
      "                  sample_ids,\n",
      "                  observation_ids,\n",
      "                  sample_md = [],\n",
      "                  observation_md = [],\n",
      "                  constructor=SparseOTUTable)\n",
      "\n",
      "print table"
     ],
     "language": "python",
     "metadata": {},
     "outputs": [
      {
       "output_type": "stream",
       "stream": "stdout",
       "text": [
        "# Constructed from biom file\n",
        "#OTU ID\tA\tB\tC\n",
        "OTU1\t1.0\t0.0\t0.0\n",
        "OTU2\t3.0\t2.0\t0.0\n",
        "OTU3\t0.0\t0.0\t6.0\n",
        "OTU4\t1.0\t4.0\t2.0\n",
        "OTU5\t0.0\t4.0\t1.0\n"
       ]
      }
     ],
     "prompt_number": 1
    },
    {
     "cell_type": "code",
     "collapsed": false,
     "input": [
      "table.sampleData('A')"
     ],
     "language": "python",
     "metadata": {},
     "outputs": [
      {
       "metadata": {},
       "output_type": "pyout",
       "prompt_number": 2,
       "text": [
        "array([ 1.,  3.,  0.,  1.,  0.])"
       ]
      }
     ],
     "prompt_number": 2
    },
    {
     "cell_type": "heading",
     "level": 2,
     "metadata": {},
     "source": [
      "Terminology"
     ]
    },
    {
     "cell_type": "markdown",
     "metadata": {},
     "source": [
      "* alpha diversity versus beta diversity\n",
      "* quantitiative versus qualitative\n",
      "* phylogentic versus non-phylogenetic"
     ]
    },
    {
     "cell_type": "heading",
     "level": 2,
     "metadata": {},
     "source": [
      "Measuring alpha diversity"
     ]
    },
    {
     "cell_type": "heading",
     "level": 4,
     "metadata": {},
     "source": [
      "Observed species (or Observed OTUs)"
     ]
    },
    {
     "cell_type": "heading",
     "level": 4,
     "metadata": {},
     "source": [
      "Why phylogenetic methods?"
     ]
    },
    {
     "cell_type": "heading",
     "level": 4,
     "metadata": {},
     "source": [
      "Phylogenetic Diversity (PD)"
     ]
    },
    {
     "cell_type": "heading",
     "level": 2,
     "metadata": {},
     "source": [
      "Measuring beta diversity"
     ]
    },
    {
     "cell_type": "markdown",
     "metadata": {},
     "source": [
      "$\\beta$-diversity (canonically pronounced *beta diversity*) refers to **between sample diversity**, and is typically used to answer questions of the form: is sample $A$ more similar in composition to sample $B$ or sample $C$? In this section we'll explore two (of tens or hundreds) of metrics for computing pairwise dissimilarity of samples to estimate $\\beta$ diversity."
     ]
    },
    {
     "cell_type": "heading",
     "level": 3,
     "metadata": {},
     "source": [
      "Distance metrics"
     ]
    },
    {
     "cell_type": "heading",
     "level": 4,
     "metadata": {},
     "source": [
      "Bray-Curtis"
     ]
    },
    {
     "cell_type": "markdown",
     "metadata": {},
     "source": [
      "The first metric that we'll look at is a quantitative non-phylogenetic $\\beta$ diversity metric called Bray-Curtis. The Bray-Curtis dissimilarity between a pair of samples, $j$ and $k$, is defined as follows:\n",
      "\n",
      "$BC_{jk} = \\frac{ \\sum_{i} | X_{ij} \u2013 X_{ik}|} {\\sum_{i} (X_{ij} + X_{ik})}$\n",
      "\n",
      "$i$ : observation (e.g., OTUs)\n",
      "\n",
      "$X_{ij}$ : count of observation $i$ in sample $j$\n",
      "\n",
      "$X_{ik}$ : count of observation $i$ in sample $k$\n",
      "\n",
      "This could be implemented in python as follows:\n"
     ]
    },
    {
     "cell_type": "code",
     "collapsed": false,
     "input": [
      "def bray_curtis_distance(j_counts, k_counts):\n",
      "    numerator = 0\n",
      "    denominator = 0\n",
      "    for j_count, k_count in zip(j_counts, k_counts):\n",
      "        numerator += abs(j_count - k_count)\n",
      "        denominator += j_count + k_count\n",
      "    return numerator / denominator"
     ],
     "language": "python",
     "metadata": {},
     "outputs": [],
     "prompt_number": 3
    },
    {
     "cell_type": "code",
     "collapsed": false,
     "input": [
      "print bray_curtis_distance(table.sampleData('A'), table.sampleData('B'))"
     ],
     "language": "python",
     "metadata": {},
     "outputs": [
      {
       "output_type": "stream",
       "stream": "stdout",
       "text": [
        "0.6\n"
       ]
      }
     ],
     "prompt_number": 4
    },
    {
     "cell_type": "code",
     "collapsed": false,
     "input": [
      "print bray_curtis_distance(table.sampleData('A'), table.sampleData('C'))"
     ],
     "language": "python",
     "metadata": {},
     "outputs": [
      {
       "output_type": "stream",
       "stream": "stdout",
       "text": [
        "0.857142857143\n"
       ]
      }
     ],
     "prompt_number": 5
    },
    {
     "cell_type": "code",
     "collapsed": false,
     "input": [
      "print bray_curtis_distance(table.sampleData('B'), table.sampleData('C'))"
     ],
     "language": "python",
     "metadata": {},
     "outputs": [
      {
       "output_type": "stream",
       "stream": "stdout",
       "text": [
        "0.684210526316\n"
       ]
      }
     ],
     "prompt_number": 6
    },
    {
     "cell_type": "code",
     "collapsed": false,
     "input": [
      "print bray_curtis_distance(table.sampleData('A'), table.sampleData('A'))"
     ],
     "language": "python",
     "metadata": {},
     "outputs": [
      {
       "output_type": "stream",
       "stream": "stdout",
       "text": [
        "0.0\n"
       ]
      }
     ],
     "prompt_number": 7
    },
    {
     "cell_type": "code",
     "collapsed": false,
     "input": [
      "print bray_curtis_distance(table.sampleData('C'), table.sampleData('B'))"
     ],
     "language": "python",
     "metadata": {},
     "outputs": [
      {
       "output_type": "stream",
       "stream": "stdout",
       "text": [
        "0.684210526316\n"
       ]
      }
     ],
     "prompt_number": 8
    },
    {
     "cell_type": "code",
     "collapsed": false,
     "input": [
      "from skbio.core.distance import DistanceMatrix\n",
      "from numpy import zeros\n",
      "\n",
      "def table_to_distances(table, pairwise_distance_fn):\n",
      "    sample_ids = table.SampleIds\n",
      "    num_samples = len(sample_ids)\n",
      "    data = zeros((num_samples, num_samples))\n",
      "    for i, sample_id1 in enumerate(sample_ids):\n",
      "        for j, sample_id2 in enumerate(sample_ids[:i]):\n",
      "            data[i,j] = data[j,i] = \\\n",
      "             pairwise_distance_fn(table.sampleData(sample_id1), table.sampleData(sample_id2))\n",
      "    return DistanceMatrix(data, sample_ids)"
     ],
     "language": "python",
     "metadata": {},
     "outputs": [],
     "prompt_number": 9
    },
    {
     "cell_type": "code",
     "collapsed": false,
     "input": [
      "bc_dm = table_to_distances(table, bray_curtis_distance)\n",
      "print bc_dm"
     ],
     "language": "python",
     "metadata": {},
     "outputs": [
      {
       "output_type": "stream",
       "stream": "stdout",
       "text": [
        "3x3 distance matrix\n",
        "IDs:\n",
        "A, B, C\n",
        "Data:\n",
        "[[ 0.          0.6         0.85714286]\n",
        " [ 0.6         0.          0.68421053]\n",
        " [ 0.85714286  0.68421053  0.        ]]\n"
       ]
      }
     ],
     "prompt_number": 10
    },
    {
     "cell_type": "heading",
     "level": 4,
     "metadata": {},
     "source": [
      "Unweighted UniFrac"
     ]
    },
    {
     "cell_type": "heading",
     "level": 3,
     "metadata": {},
     "source": [
      "Interpreting distance matrices"
     ]
    },
    {
     "cell_type": "markdown",
     "metadata": {},
     "source": [
      "One excellent paper that includes a comparison of several different strategies for interpreting beta diversity results in [Costello *et al.* Science (2009) Bacterial Community Variation in Human Body Habitats Across Space and Time](https://www.sciencemag.org/content/326/5960/1694.full). In this study, the authors collected human microbiome samples from *n* individuals at *m* sites on their bodies, at four different timepoints. \n",
      "\n",
      "Figure 1 shows several different approaches for comparing the resulting UniFrac distance matrix (this image is linked from the *Science* journal website - copyright belongs to *Science*):\n",
      "\n",
      "<img src=\"https://www.sciencemag.org/content/326/5960/1694/F1.large.jpg\">\n",
      "\n",
      "Let's generate a small distance matrix representing just a few of these body sites, and figure out how we'd generate each of these visualizations. The values in the distance matrix below are a subset of the unweighted UniFrac distance matrix representing two samples each from three body sites from the Costello *et al.* (2009) study."
     ]
    },
    {
     "cell_type": "code",
     "collapsed": false,
     "input": [
      "sample_ids = ['A', 'B', 'C', 'D', 'E', 'F']\n",
      "\n",
      "sample_metadata = {'A': {'sample_type': 'gut'},\n",
      "                   'B': {'sample_type': 'gut'},\n",
      "                   'C': {'sample_type': 'tongue'},\n",
      "                   'D': {'sample_type': 'tongue'},\n",
      "                   'E': {'sample_type': 'skin'},\n",
      "                   'F': {'sample_type': 'skin'}}\n",
      "\n",
      "data = array([[0.00, 0.35, 0.83, 0.83, 0.90, 0.90],\n",
      "              [0.35, 0.00, 0.86, 0.85, 0.92, 0.91],\n",
      "              [0.83, 0.86, 0.00, 0.25, 0.88, 0.87],\n",
      "              [0.83, 0.85, 0.25, 0.00, 0.88, 0.88],\n",
      "              [0.90, 0.92, 0.88, 0.88, 0.00, 0.50],\n",
      "              [0.90, 0.91, 0.87, 0.88, 0.50, 0.00]])\n",
      "\n",
      "ex_dm = DistanceMatrix(data, sample_ids)\n",
      "print ex_dm"
     ],
     "language": "python",
     "metadata": {},
     "outputs": [
      {
       "output_type": "stream",
       "stream": "stdout",
       "text": [
        "6x6 distance matrix\n",
        "IDs:\n",
        "A, B, C, D, E, F\n",
        "Data:\n",
        "[[ 0.    0.35  0.83  0.83  0.9   0.9 ]\n",
        " [ 0.35  0.    0.86  0.85  0.92  0.91]\n",
        " [ 0.83  0.86  0.    0.25  0.88  0.87]\n",
        " [ 0.83  0.85  0.25  0.    0.88  0.88]\n",
        " [ 0.9   0.92  0.88  0.88  0.    0.5 ]\n",
        " [ 0.9   0.91  0.87  0.88  0.5   0.  ]]\n"
       ]
      }
     ],
     "prompt_number": 19
    },
    {
     "cell_type": "heading",
     "level": 4,
     "metadata": {},
     "source": [
      "Distribution plots and comparisons"
     ]
    },
    {
     "cell_type": "markdown",
     "metadata": {},
     "source": [
      "First, let's look at the analysis presented in panels E and F. Instead of generating bar plots here, we'll generate box plots as these are more informative (i.e., they provide a more detailed summary of the distribution being investigated). One important thing to notice here is the central role that the sample metadata plays in the visualization. If we just had our sample ids (i.e., letters ``A`` through ``F``) we wouldn't be able to group distances into *within* and *between* sample type categories, and we therefore couldn't perform the comparisons we're interested in."
     ]
    },
    {
     "cell_type": "code",
     "collapsed": false,
     "input": [
      "def within_between_category_distributions(dm, md, md_category):\n",
      "    within_category_distances = []\n",
      "    between_category_distances = []\n",
      "    for i, sample_id1 in enumerate(dm.ids):\n",
      "        sample_md1 = md[sample_id1][md_category]\n",
      "        for sample_id2 in dm.ids[:i]:\n",
      "            sample_md2 = md[sample_id2][md_category]\n",
      "            if sample_md1 == sample_md2:\n",
      "                within_category_distances.append(dm[sample_id1, sample_id2])\n",
      "            else:\n",
      "                between_category_distances.append(dm[sample_id1, sample_id2])\n",
      "    return within_category_distances, between_category_distances"
     ],
     "language": "python",
     "metadata": {},
     "outputs": [],
     "prompt_number": 22
    },
    {
     "cell_type": "code",
     "collapsed": false,
     "input": [
      "within_category_distances, between_category_distances = within_between_category_distributions(ex_dm, sample_metadata, \"sample_type\")\n",
      "print within_category_distances\n",
      "print between_category_distances"
     ],
     "language": "python",
     "metadata": {},
     "outputs": [
      {
       "output_type": "stream",
       "stream": "stdout",
       "text": [
        "[0.34999999999999998, 0.25, 0.5]\n",
        "[0.82999999999999996, 0.85999999999999999, 0.82999999999999996, 0.84999999999999998, 0.90000000000000002, 0.92000000000000004, 0.88, 0.88, 0.90000000000000002, 0.91000000000000003, 0.87, 0.88]\n"
       ]
      }
     ],
     "prompt_number": 26
    },
    {
     "cell_type": "code",
     "collapsed": false,
     "input": [
      "from skbio.draw.distributions import boxplots\n",
      "\n",
      "plot = boxplots([within_category_distances, between_category_distances],\n",
      "                x_tick_labels=['same body site', 'different body site'],\n",
      "                x_tick_labels_orientation='horizontal',\n",
      "                y_label=\"Unweighted UniFrac distance\",\n",
      "                y_min=0.0, y_max=1.0)"
     ],
     "language": "python",
     "metadata": {},
     "outputs": [
      {
       "metadata": {},
       "output_type": "display_data",
       "png": "[encoded data removed]",
       "text": [
        "<matplotlib.figure.Figure at 0x11184c550>"
       ]
      }
     ],
     "prompt_number": 43
    },
    {
     "cell_type": "code",
     "collapsed": false,
     "input": [
      "from scipy.stats import ttest_ind\n",
      "t, p_value = ttest_ind(within_category_distances, between_category_distances)\n",
      "print t, p_value"
     ],
     "language": "python",
     "metadata": {},
     "outputs": [
      {
       "output_type": "stream",
       "stream": "stdout",
       "text": [
        "-14.0187203101 3.17133166547e-09\n"
       ]
      }
     ],
     "prompt_number": 40
    },
    {
     "cell_type": "heading",
     "level": 4,
     "metadata": {},
     "source": [
      "Heirarchical clustering"
     ]
    },
    {
     "cell_type": "markdown",
     "metadata": {},
     "source": [
      "Next, let's look at a hierarchical clustering analysis, similar to that presented in panel G. "
     ]
    },
    {
     "cell_type": "code",
     "collapsed": false,
     "input": [
      "from scipy.cluster.hierarchy import average, dendrogram\n",
      "lm = average(ex_dm.condensed_form())\n",
      "d = dendrogram(lm, labels=ex_dm.ids, orientation='right', \n",
      "               link_color_func=lambda x: 'black')"
     ],
     "language": "python",
     "metadata": {},
     "outputs": [
      {
       "metadata": {},
       "output_type": "display_data",
       "png": "[encoded data removed]",
       "text": [
        "<matplotlib.figure.Figure at 0x10fbe6210>"
       ]
      }
     ],
     "prompt_number": 20
    },
    {
     "cell_type": "markdown",
     "metadata": {},
     "source": [
      "Again, we can see how the data really only becomes interpretable in the context of metadata:"
     ]
    },
    {
     "cell_type": "code",
     "collapsed": false,
     "input": [
      "labels = [sample_metadata[sid]['sample_type'] for sid in sample_ids]\n",
      "d = dendrogram(lm, labels=labels, orientation='right', \n",
      "               link_color_func=lambda x: 'black')"
     ],
     "language": "python",
     "metadata": {},
     "outputs": [
      {
       "metadata": {},
       "output_type": "display_data",
       "png": "[encoded data removed]",
       "text": [
        "<matplotlib.figure.Figure at 0x10fd67510>"
       ]
      }
     ],
     "prompt_number": 21
    },
    {
     "cell_type": "heading",
     "level": 3,
     "metadata": {},
     "source": [
      "Ordination"
     ]
    },
    {
     "cell_type": "markdown",
     "metadata": {},
     "source": [
      "Finally, let's look at ordination, similar to that presented in panels A-D. The basic idea behind oridination is dimensionality reduction: we want to take high-dimensionality data (a distance matrix) and represent that in a few (usually two or three) dimensions. As humans, we're very bad at interpreting high dimensionality data directly: with ordination, we can take an $n$-dimensional data set (e.g., a distance matrix of shape $n \\times n$, representing the distances between $n$ biological samples) and reduce that to a 2-dimensional scatter plot similar to that presented in panels A-D above. \n",
      "\n",
      "Ordination is a technique that is widely applied in ecology and in bioinformatics, but the math behind some of the methods such as *Principal Coordinates Analysis* is fairly complex, and as a result I've found that these methods are a black box for a lot of people. Possibly the most simple ordination technique is one called Polar Ordination. Polar Ordination is not widely applied because it has some incovenient features, but I find that it is useful for introducing the idea behind ordination. Here we'll work through a simple implementation of ordination to illustrate the process, which will help us to interpret ordination plots. In practice, you will use existing software, such as [scikit-bio](http://scikit-bio.org)'s [ordination module](http://scikit-bio.org/maths.stats.ordination.html). \n",
      "\n",
      "An excellent site for learning more about ordination is [Michael W. Palmer's Ordination Methods page](http://ordination.okstate.edu/).\n"
     ]
    },
    {
     "cell_type": "heading",
     "level": 4,
     "metadata": {},
     "source": [
      "Polar ordination"
     ]
    },
    {
     "cell_type": "markdown",
     "metadata": {},
     "source": [
      "First, let's print our distance matrix again so we have it nearby."
     ]
    },
    {
     "cell_type": "code",
     "collapsed": false,
     "input": [
      "print ex_dm"
     ],
     "language": "python",
     "metadata": {},
     "outputs": [
      {
       "output_type": "stream",
       "stream": "stdout",
       "text": [
        "6x6 distance matrix\n",
        "IDs:\n",
        "A, B, C, D, E, F\n",
        "Data:\n",
        "[[ 0.    0.35  0.83  0.83  0.9   0.9 ]\n",
        " [ 0.35  0.    0.86  0.85  0.92  0.91]\n",
        " [ 0.83  0.86  0.    0.25  0.88  0.87]\n",
        " [ 0.83  0.85  0.25  0.    0.88  0.88]\n",
        " [ 0.9   0.92  0.88  0.88  0.    0.5 ]\n",
        " [ 0.9   0.91  0.87  0.88  0.5   0.  ]]\n"
       ]
      }
     ],
     "prompt_number": 44
    },
    {
     "cell_type": "markdown",
     "metadata": {},
     "source": [
      "Polar ordination works in a few steps:\n",
      "\n",
      "**Step 1.** Identify the largest distance in the distance matrix.\n",
      "\n",
      "**Step 2.** Define a line, with the two samples leading to that distance defining the endpoints.\n",
      "\n",
      "**Step 3.** Compute the location of each other sample on that axis as follows:\n",
      "\n",
      "$A1 = \\frac{D^2 + D1^2 - D2^2}{2 \\times D}$\n",
      "   \n",
      "where:\n",
      "\n",
      "$D$ is distance between the endpoints\n",
      "\n",
      "$D1$ is distance between the current sample and endpoint 1\n",
      "\n",
      "$D2$ is distance between sample and endpoint 2.\n",
      "\n",
      "**Step 4.** Find the next largest distance that could be used to define an *uncorrelated axis* (this step can be labor-intensive to do by hand \u2013 usually you would compute all of the axes, along with correlation scores \u2013 I\u2019ll pick one for the demo.)\n",
      "\n",
      "\n"
     ]
    },
    {
     "cell_type": "code",
     "collapsed": false,
     "input": [
      "def compute_axis_values(dm, endpoint1, endpoint2):\n",
      "    d = dm[endpoint1, endpoint2]\n",
      "    result = {endpoint1: 0, endpoint2: d}\n",
      "    non_endpoints = set(dm.ids) - set([endpoint1, endpoint2])\n",
      "    for e in non_endpoints:\n",
      "        d1 = dm[endpoint1, e]\n",
      "        d2 = dm[endpoint2, e]\n",
      "        result[e] = (d**2 + d1**2 - d2**2) / (2 * d)\n",
      "    return [result[e] for e in dm.ids]"
     ],
     "language": "python",
     "metadata": {},
     "outputs": [],
     "prompt_number": 55
    },
    {
     "cell_type": "code",
     "collapsed": false,
     "input": [
      "a1_values = compute_axis_values(ex_dm, 'E', 'B')\n",
      "for sid, a1_value in zip(ex_dm.ids, a1_values):\n",
      "    print sid, a1_value"
     ],
     "language": "python",
     "metadata": {},
     "outputs": [
      {
       "output_type": "stream",
       "stream": "stdout",
       "text": [
        "A 0.833641304348\n",
        "B 0.92\n",
        "C 0.478913043478\n",
        "D 0.488206521739\n",
        "E 0\n",
        "F 0.145815217391\n"
       ]
      }
     ],
     "prompt_number": 80
    },
    {
     "cell_type": "code",
     "collapsed": false,
     "input": [
      "a2_values = compute_axis_values(ex_dm, 'E', 'D')\n",
      "for sid, a2_value in zip(ex_dm.ids, a2_values):\n",
      "    print sid, a2_value"
     ],
     "language": "python",
     "metadata": {},
     "outputs": [
      {
       "output_type": "stream",
       "stream": "stdout",
       "text": [
        "A 0.508806818182\n",
        "B 0.510397727273\n",
        "C 0.844488636364\n",
        "D 0.88\n",
        "E 0\n",
        "F 0.142045454545\n"
       ]
      }
     ],
     "prompt_number": 81
    },
    {
     "cell_type": "code",
     "collapsed": false,
     "input": [
      "from pylab import scatter\n",
      "ord_plot = scatter(a1_values, a2_values, s=40)"
     ],
     "language": "python",
     "metadata": {},
     "outputs": [
      {
       "metadata": {},
       "output_type": "display_data",
       "png": "[encoded data removed]",
       "text": [
        "<matplotlib.figure.Figure at 0x111d34fd0>"
       ]
      }
     ],
     "prompt_number": 82
    },
    {
     "cell_type": "markdown",
     "metadata": {},
     "source": [
      "And again, let's look at how including metadata helps us to interpret our results."
     ]
    },
    {
     "cell_type": "code",
     "collapsed": false,
     "input": [
      "colors = {'tongue': 'red', 'gut':'yellow', 'skin':'blue'}\n",
      "c = [colors[sample_metadata[e]['sample_type']] for e in ex_dm.ids]\n",
      "ord_plot = scatter(a1_values, a2_values, s=40, c=c)"
     ],
     "language": "python",
     "metadata": {},
     "outputs": [
      {
       "metadata": {},
       "output_type": "display_data",
       "png": "[encoded data removed]",
       "text": [
        "<matplotlib.figure.Figure at 0x111d2fdd0>"
       ]
      }
     ],
     "prompt_number": 83
    },
    {
     "cell_type": "heading",
     "level": 4,
     "metadata": {},
     "source": [
      "Interpreting ordination plots"
     ]
    },
    {
     "cell_type": "markdown",
     "metadata": {},
     "source": [
      "There are a few points that are important to keep in mind when interpreting ordination plots. Review each one of these in the context of polar ordination to figure out the reason for each.\n",
      "\n",
      "* Direction of the axes is not important (e.g., up/down/left/right)\n",
      "* Numerical scale of the axis is generally not useful\n",
      "* The order of axes is generally important (first axis explains the most variation, second axis explains the second most variation, ...)\n",
      "* Most techniques result in uncorrelated axes.\n",
      "* Additional axes can be generated (third, fourth, ...)"
     ]
    },
    {
     "cell_type": "code",
     "collapsed": false,
     "input": [
      "a1_alt_values = compute_axis_values(ex_dm, 'B', 'E')\n",
      "ord_plot = scatter(a1_alt_values, a2_values, s=40, c=c)"
     ],
     "language": "python",
     "metadata": {},
     "outputs": [
      {
       "metadata": {},
       "output_type": "display_data",
       "png": "[encoded data removed]",
       "text": [
        "<matplotlib.figure.Figure at 0x111e39090>"
       ]
      }
     ],
     "prompt_number": 85
    },
    {
     "cell_type": "code",
     "collapsed": false,
     "input": [],
     "language": "python",
     "metadata": {},
     "outputs": [],
     "prompt_number": 84
    },
    {
     "cell_type": "markdown",
     "metadata": {},
     "source": []
    }
   ],
   "metadata": {}
  }
 ]
}