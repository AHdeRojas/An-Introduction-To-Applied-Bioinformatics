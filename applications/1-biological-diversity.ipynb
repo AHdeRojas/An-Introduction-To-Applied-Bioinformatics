{
 "metadata": {
  "name": "",
  "signature": "sha256:025b09f65077581ed133d555698f553fcffd3f2e3ddb8a777b032585fef57297"
 },
 "nbformat": 3,
 "nbformat_minor": 0,
 "worksheets": [
  {
   "cells": [
    {
     "cell_type": "markdown",
     "metadata": {},
     "source": [
      "This chapter is in very early development. In the meantime, I recommend [Measuring Biological Diversity](http://www.amazon.com/Measuring-Biological-Diversity-Anne-Magurran/dp/0632056339) by Anne E. Magurran, and the [QIIME tutorials](http://qiime.org/tutorials/index.html) to learn more about this topic. "
     ]
    },
    {
     "cell_type": "heading",
     "level": 1,
     "metadata": {},
     "source": [
      "Studying Biological Diversity"
     ]
    },
    {
     "cell_type": "heading",
     "level": 2,
     "metadata": {},
     "source": [
      "Getting started: the sample by observation count/frequency table"
     ]
    },
    {
     "cell_type": "markdown",
     "metadata": {},
     "source": [
      "From a bioinformatics perspective, studying biological diversity is centered around a few key pieces of information:\n",
      "\n",
      "* A table of the counts (or relative abundances) of certain biological observations (e.g., species or OTUs) on a per sample basis.\n",
      "* *Sample metadata* describing exactly what each of the samples is, as well as any relevant technical information. \n",
      "* Optionally, information on the relationships between the biological observations, typically in the form of a phylogenetic tree where tips in the tree correspond to OTUs in the table.\n",
      "\n",
      "None of these are trival to generate (defining OTUs was described in the [OTU clustering chapter](../algorithms/5-sequence-mapping-and-clustering.ipynb), building trees in the [Phylogenetic reconstruction chapter](../algorithms/3-phylogeny-reconstruction.ipynb), and there is a lot of active work on standardized ways to describe samples in the form of metadata, for example [Yilmaz et al (2011)](http://www.nature.com/nbt/journal/v29/n5/full/nbt.1823.html) and the [isa-tab](http://isa-tools.org/) project. For this discussion we're going to largely ignore the complexities of generating each of these, so we can focus on how we study diversity.\n",
      "\n",
      "<hr> \n",
      "\n",
      "The sample by observation count table is central to investigations of biological diversity. The Genomics Standards Consortium has recognized the [Biological Observation Matrix](http://www.biom-format.org) ([McDonald et al. (2011) *Gigascience*](http://www.gigasciencejournal.com/content/1/1/7)), or `biom-format` software and file format definition as a community standard for representing those tables. We'll use the `biom-format` python package here to work with these tables, and we'll refer to these tables through-out this chapter as *BIOM tables*.\n",
      "\n",
      "The basic data that goes into a BIOM table is the list of sample ids, the list of observation (e.g., OTU) ids, and the count matrix, which describes how many times each OTU was observed in each sample. We can build and display a BIOM table as follows:"
     ]
    },
    {
     "cell_type": "code",
     "collapsed": false,
     "input": [
      "from biom.table import table_factory, SparseOTUTable\n",
      "from numpy import array\n",
      "\n",
      "sample_ids = ['A', 'B', 'C']\n",
      "observation_ids = ['OTU1', 'OTU2', 'OTU3', 'OTU4', 'OTU5']\n",
      "data = array([[1, 0, 0],\n",
      "              [3, 2, 0],\n",
      "              [0, 0, 6],\n",
      "              [1, 4, 2],\n",
      "              [0, 4, 1]])\n",
      "\n",
      "table1 = table_factory(data,\n",
      "                  sample_ids,\n",
      "                  observation_ids,\n",
      "                  sample_md = [],\n",
      "                  observation_md = [],\n",
      "                  constructor=SparseOTUTable)\n",
      "\n",
      "print table1"
     ],
     "language": "python",
     "metadata": {},
     "outputs": [
      {
       "output_type": "stream",
       "stream": "stdout",
       "text": [
        "# Constructed from biom file\n",
        "#OTU ID\tA\tB\tC\n",
        "OTU1\t1.0\t0.0\t0.0\n",
        "OTU2\t3.0\t2.0\t0.0\n",
        "OTU3\t0.0\t0.0\t6.0\n",
        "OTU4\t1.0\t4.0\t2.0\n",
        "OTU5\t0.0\t4.0\t1.0\n"
       ]
      }
     ],
     "prompt_number": 1
    },
    {
     "cell_type": "markdown",
     "metadata": {},
     "source": [
      "The [biom-format API documentation](http://biom-format.org/documentation/table_objects.html) describes the functionality available for working with these tables once they're loaded. For example, if we want the observation count vector for sample `A` from the above table, we could get that as follows:"
     ]
    },
    {
     "cell_type": "code",
     "collapsed": false,
     "input": [
      "table1.sampleData('A')"
     ],
     "language": "python",
     "metadata": {},
     "outputs": [
      {
       "metadata": {},
       "output_type": "pyout",
       "prompt_number": 2,
       "text": [
        "array([ 1.,  3.,  0.,  1.,  0.])"
       ]
      }
     ],
     "prompt_number": 2
    },
    {
     "cell_type": "markdown",
     "metadata": {},
     "source": [
      "**TODO**: Trees in newick format; sample metadata in tsv format, and loaded into a pandas DataFrame.\n",
      "\n",
      "Before we start looking at what we can do with this data once we have it, let's discuss some terminology."
     ]
    },
    {
     "cell_type": "heading",
     "level": 2,
     "metadata": {},
     "source": [
      "Terminology"
     ]
    },
    {
     "cell_type": "markdown",
     "metadata": {},
     "source": [
      "There are literally hundreds of metrics of biological diversity. Here is some terminology that is useful for classifying these metrics. \n",
      "\n",
      "**Alpha versus beta diversity**\n",
      "\n",
      " * $\\alpha$ (i.e., within sample) diversity: Who is there? How many are there? \n",
      " * $\\beta$ (i.e., between sample) diversity: How similar are pairs of samples?    \n",
      "\n",
      "**Quantitative versus qualitative metrics**\n",
      "\n",
      " * qualitative metrices only account for whether an organism is present or absent\n",
      " * quantitative metrics account for abundance \n",
      "\n",
      "**Phylogenetic versus non-phylogenetic metrics**\n",
      "\n",
      " * non-phylogenetic metrics treat all OTUs as being equally related\n",
      " * phylogenetic metrics incorporate evolutionary relationships between the OTUs\n",
      "\n",
      "\n",
      "In the next sections we'll look at some metrics that cross these different categories. As new metrics are introduced, try to classify each them into one class for each of the above three categories."
     ]
    },
    {
     "cell_type": "heading",
     "level": 2,
     "metadata": {},
     "source": [
      "Measuring alpha diversity"
     ]
    },
    {
     "cell_type": "markdown",
     "metadata": {},
     "source": [
      "The first type of metric that we'll look at will be alpha diversity, and we'll specifically focus on *richness* here. Richness refers to how many different *types* of organisms are present in a sample: for example, if we're interested in species richness of plants in the Sonoran Desert and the Costa Rican rainforest, we could go to each, count the number of different species of plants that we observe, and have a basic measure of species richness in each environment. \n",
      "\n",
      "An alternative type of alpha diversity measure would be *evenness*, and would tell us how even or uneven the distribution of species abundances are in a given environment. If, for example, the most abundant plant in the Sonoran desert was roughly as common as the least abundant plant (not the case!), we would say that the evenness of plant species was high. On the other hand, if the most abundant plant was thousands of times more common than the least common plant (probably closer to the truth), then we'd say that the evenness of plant species was low. We won't discuss evenness more here, but you can find coverage of this topic (as well as many of the others presented here) in [Measuring Biological Diversity](http://www.amazon.com/Measuring-Biological-Diversity-Anne-Magurran/dp/0632056339).\n",
      "\n",
      "Let's look at two metrics of alpha diversity: observed species, and phylogenetic diversity."
     ]
    },
    {
     "cell_type": "heading",
     "level": 4,
     "metadata": {},
     "source": [
      "Observed species (or Observed OTUs)"
     ]
    },
    {
     "cell_type": "markdown",
     "metadata": {},
     "source": [
      "Observed species, or Observed OTUs as it's more accurately described, is about as simple of a metric as can be used to quantify alpha diversity. With this metric, we simply count the OTUs that are observed in a given sample. Note that this is a qualitative metric: we treat each OTU as being observed or not observed - we don't care how many times it was observed.\n",
      "\n",
      "Let's define a new table for this analysis:"
     ]
    },
    {
     "cell_type": "code",
     "collapsed": false,
     "input": [
      "sample_ids = ['A', 'B', 'C']\n",
      "observation_ids = ['B1','B2','B3','B4','B5','A1','E2']\n",
      "data = array([[1, 1, 5],\n",
      "              [1, 2, 0],\n",
      "              [3, 1, 0],\n",
      "              [0, 2, 0],\n",
      "              [0, 0, 0],\n",
      "              [0, 0, 3],\n",
      "              [0, 0, 1]])\n",
      "\n",
      "table2 = table_factory(data,\n",
      "                  sample_ids,\n",
      "                  observation_ids,\n",
      "                  sample_md = [],\n",
      "                  observation_md = [],\n",
      "                  constructor=SparseOTUTable)\n",
      "\n",
      "print table2"
     ],
     "language": "python",
     "metadata": {},
     "outputs": [
      {
       "output_type": "stream",
       "stream": "stdout",
       "text": [
        "# Constructed from biom file\n",
        "#OTU ID\tA\tB\tC\n",
        "B1\t1.0\t1.0\t5.0\n",
        "B2\t1.0\t2.0\t0.0\n",
        "B3\t3.0\t1.0\t0.0\n",
        "B4\t0.0\t2.0\t0.0\n",
        "B5\t0.0\t0.0\t0.0\n",
        "A1\t0.0\t0.0\t3.0\n",
        "E2\t0.0\t0.0\t1.0\n"
       ]
      }
     ],
     "prompt_number": 3
    },
    {
     "cell_type": "markdown",
     "metadata": {},
     "source": [
      "Our sample $A$ has an observed OTU count value of 3, sample $B$ has an observed OTU count of 4, and sample $C$ has an observed OTU count of 3. Note that this is different than the total counts for each column (which would be 5, 6, and 9 respectively). Based on the observed OTUs metric, we could consider samples $A$ and $C$ to have even OTU richness, and sample $B$ to have 33% higher OTU richness.\n",
      "\n",
      "We could compute this in python as follows:"
     ]
    },
    {
     "cell_type": "code",
     "collapsed": false,
     "input": [
      "def observed_otus(table, sample_id):\n",
      "    return sum([e > 0 for e in table.sampleData(sample_id)])"
     ],
     "language": "python",
     "metadata": {},
     "outputs": [],
     "prompt_number": 4
    },
    {
     "cell_type": "code",
     "collapsed": false,
     "input": [
      "print observed_otus(table2, 'A')"
     ],
     "language": "python",
     "metadata": {},
     "outputs": [
      {
       "output_type": "stream",
       "stream": "stdout",
       "text": [
        "3\n"
       ]
      }
     ],
     "prompt_number": 5
    },
    {
     "cell_type": "code",
     "collapsed": false,
     "input": [
      "print observed_otus(table2, 'B')"
     ],
     "language": "python",
     "metadata": {},
     "outputs": [
      {
       "output_type": "stream",
       "stream": "stdout",
       "text": [
        "4\n"
       ]
      }
     ],
     "prompt_number": 6
    },
    {
     "cell_type": "code",
     "collapsed": false,
     "input": [
      "print observed_otus(table2, 'C')"
     ],
     "language": "python",
     "metadata": {},
     "outputs": [
      {
       "output_type": "stream",
       "stream": "stdout",
       "text": [
        "3\n"
       ]
      }
     ],
     "prompt_number": 7
    },
    {
     "cell_type": "heading",
     "level": 4,
     "metadata": {},
     "source": [
      "A limitation of OTU counting"
     ]
    },
    {
     "cell_type": "markdown",
     "metadata": {},
     "source": [
      "Imagine now that we have the same table, but some additional information about the OTUs in the table. Specifically, we've computed the following phylogenetic tree. And, for the sake of illustration, imagine that we've also assigned taxonomy to each of the OTUs and found that our samples contain representatives from the archaea, bacteria, and eukaryotes (their labels begin with `A`, `B`, and `E`, respectively).\n",
      "\n",
      "<img src=\"files/images/pd_calc_tree.png\">\n",
      "\n",
      "Pairing this with the table we defined above (displayed again in the cell below), given what you now now about these OTUs, which would you consider the most diverse? Are you happy with the $\\alpha$ diversity conclusion that you obtained when computing the number of observed OTUs in each sample?"
     ]
    },
    {
     "cell_type": "code",
     "collapsed": false,
     "input": [
      "print table2"
     ],
     "language": "python",
     "metadata": {},
     "outputs": [
      {
       "output_type": "stream",
       "stream": "stdout",
       "text": [
        "# Constructed from biom file\n",
        "#OTU ID\tA\tB\tC\n",
        "B1\t1.0\t1.0\t5.0\n",
        "B2\t1.0\t2.0\t0.0\n",
        "B3\t3.0\t1.0\t0.0\n",
        "B4\t0.0\t2.0\t0.0\n",
        "B5\t0.0\t0.0\t0.0\n",
        "A1\t0.0\t0.0\t3.0\n",
        "E2\t0.0\t0.0\t1.0\n"
       ]
      }
     ],
     "prompt_number": 8
    },
    {
     "cell_type": "heading",
     "level": 4,
     "metadata": {},
     "source": [
      "Phylogenetic Diversity (PD)"
     ]
    },
    {
     "cell_type": "markdown",
     "metadata": {},
     "source": [
      "Phylogenetic Diversity (PD) is a metric that was developed by Dan Faith in the early 1990s (find the original paper [here](http://www.sciencedirect.com/science/article/pii/0006320792912013)). Like many of the measures that are used in microbial community ecology, it wasn't initially designed for studying microbial communities, but rather communities of \"macro-organisms\" (macrobes?). Some of these metrics, including PD, do translate well to microbial community analysis, while some don't translate as well. (For an illustration of the effect of sequencing error on PD, where it is handled well, versus it's effect on the Chao1 metric, where it is handled less well, see Figure 1 of [Reeder and Knight (2010)](http://www.nature.com/nmeth/journal/v7/n9/full/nmeth0910-668b.html)).\n",
      "\n",
      "PD is relatively simple to calculate. It is computed simply as the sum of the branch length in a phylogenetic tree that is \"covered\" or represented in a given sample. Let's look at an example to see how this works.\n",
      "\n",
      "First, let's define a phylogenetic tree using the newick format (which is described [here](http://evolution.genetics.washington.edu/phylip/newicktree.html), and more formally defined [here](http://evolution.genetics.washington.edu/phylip/newick_doc.html)). We'll then load that up with using [scikit-bio](http://scikit-bio.org)'s [TreeNode](http://scikit-bio.org/generated/skbio.core.tree.TreeNode.html#skbio.core.tree.TreeNode) object."
     ]
    },
    {
     "cell_type": "code",
     "collapsed": false,
     "input": [
      "newick_tree = '(((B1:0.2,B2:0.3):0.3,((B3:0.5,B4:0.3):0.2,B5:0.9):0.3):0.35,(((A1:0.2,A2:0.3):0.3,(E1:0.3,E2:0.4):0.7):0.2):0.05)root;'\n",
      "\n",
      "from skbio.core.tree import TreeNode\n",
      "\n",
      "tree = TreeNode.from_newick(newick_tree)\n",
      "tree = tree.root_at_midpoint()"
     ],
     "language": "python",
     "metadata": {},
     "outputs": [],
     "prompt_number": 9
    },
    {
     "cell_type": "markdown",
     "metadata": {},
     "source": [
      "I'll now define a couple of functions that we'll use to compute PD. "
     ]
    },
    {
     "cell_type": "code",
     "collapsed": false,
     "input": [
      "def get_observed_nodes(tree, table, sample_id, verbose=False):\n",
      "    observed_otus = [obs_id for obs_id in table.ObservationIds \n",
      "                if table.getValueByIds(obs_id, sample_id) > 0]\n",
      "    observed_nodes = set()\n",
      "    # iterate over the observed OTUs\n",
      "    for otu in observed_otus:\n",
      "        t = tree.find(otu)\n",
      "        observed_nodes.add(t)\n",
      "        if verbose:\n",
      "            print t.name, t.length, \n",
      "        for internal_node in t.ancestors():\n",
      "            if internal_node.length is None:\n",
      "                # we've hit the root\n",
      "                if verbose:\n",
      "                    print\n",
      "            else:\n",
      "                if verbose and internal_node not in observed_nodes:\n",
      "                    print internal_node.length,\n",
      "                observed_nodes.add(internal_node)\n",
      "    return observed_nodes\n",
      "\n",
      "def phylogenetic_diversity(tree, table, sample_id, verbose=False):\n",
      "    observed_nodes = get_observed_nodes(tree, table, sample_id, verbose=verbose)\n",
      "    pd = sum(o.length for o in observed_nodes)\n",
      "    return pd"
     ],
     "language": "python",
     "metadata": {},
     "outputs": [],
     "prompt_number": 10
    },
    {
     "cell_type": "markdown",
     "metadata": {},
     "source": [
      "And then apply those to compute the PD of our three samples. For each computation, we're also printing out the branch lengths of the branches that are observed *for the first time* when looking at a given OTU. When computing PD, we include the length of each branch only one time."
     ]
    },
    {
     "cell_type": "code",
     "collapsed": false,
     "input": [
      "pd_A = phylogenetic_diversity(tree, table2, 'A', verbose=True)\n",
      "print pd_A"
     ],
     "language": "python",
     "metadata": {},
     "outputs": [
      {
       "output_type": "stream",
       "stream": "stdout",
       "text": [
        "B1 0.2 0.3 0.25\n",
        "B2 0.3\n",
        "B3 0.5 0.2 0.3\n",
        "2.05\n"
       ]
      }
     ],
     "prompt_number": 11
    },
    {
     "cell_type": "code",
     "collapsed": false,
     "input": [
      "pd_B = phylogenetic_diversity(tree, table2, 'B', verbose=True)\n",
      "print pd_B"
     ],
     "language": "python",
     "metadata": {},
     "outputs": [
      {
       "output_type": "stream",
       "stream": "stdout",
       "text": [
        "B1 0.2 0.3 0.25\n",
        "B2 0.3\n",
        "B3 0.5 0.2 0.3\n",
        "B4 0.3\n",
        "2.35\n"
       ]
      }
     ],
     "prompt_number": 12
    },
    {
     "cell_type": "code",
     "collapsed": false,
     "input": [
      "pd_C = phylogenetic_diversity(tree, table2, 'C', verbose=True)\n",
      "print pd_C"
     ],
     "language": "python",
     "metadata": {},
     "outputs": [
      {
       "output_type": "stream",
       "stream": "stdout",
       "text": [
        "B1 0.2 0.3 0.25\n",
        "A1 0.2 0.3 0.2 0.05 0.1\n",
        "E2 0.4 0.7\n",
        "2.7\n"
       ]
      }
     ],
     "prompt_number": 13
    },
    {
     "cell_type": "markdown",
     "metadata": {},
     "source": [
      "How does this result compare to what we observed above with the Observed OTUs metric? Based on your knowledge of biology, which do you think is a better representation of the relative diversities of these samples?"
     ]
    },
    {
     "cell_type": "heading",
     "level": 4,
     "metadata": {},
     "source": [
      "Even sampling"
     ]
    },
    {
     "cell_type": "markdown",
     "metadata": {},
     "source": [
      "Imagine again that we're going out to count plants in the Sonoran Desert and the Costa Rican rainforest. We're interested in getting an idea of the plant richness in each environment. In the Sonoran Desert, we survey a square kilometer area, and count 150 species of plants. In the rainforest, we survey a square meter, and count 15 species of plants. So, clearly the plant species richness in the Sonoran Desert is higher, right? What's wrong with this comparison?\n",
      "\n",
      "The problem is that we've expended a lot more sampling effort in the desert than we did in the rainforest, so it shouldn't be surprising that we observed more species there. If we expended the same effort in the rainforest, we'd probably observe a lot more than 15 or 150 plant species, and we'd have a more sound comparison.\n",
      "\n",
      "In sequencing-based studies of microorganism richness, the analog of sampling area is sequencing depth. If we collect 100 sequences from one sample, and 10,000 sequences from another sample, we can't directly compare the number of observed OTUs or the phylogenetic diversity of these because we expended a lot more sampling effort on the sample with 10,000 sequences than on the sample with 100 sequences. The way this is typically handled is by randomly subsampling sequences from the sample with more sequences until the sequencing depth is equal to that in the sample with fewer sequences. If we randomly select 100 sequences at random from the sample with 10,000 sequences, and compute the alpha diversity based on that random subsample, we'll have a better idea of the relative alpha diversities of the two samples."
     ]
    },
    {
     "cell_type": "code",
     "collapsed": false,
     "input": [
      "sample_ids = ['A', 'B', 'C']\n",
      "observation_ids = ['OTU1', 'OTU2', 'OTU3', 'OTU4', 'OTU5']\n",
      "data = array([[50, 4, 0],\n",
      "              [35, 200, 0],\n",
      "              [100, 2, 1],\n",
      "              [15, 400, 1],\n",
      "              [0, 40, 1]])\n",
      "\n",
      "bad_table = table_factory(data,\n",
      "                  sample_ids,\n",
      "                  observation_ids,\n",
      "                  sample_md = [],\n",
      "                  observation_md = [],\n",
      "                  constructor=SparseOTUTable)\n",
      "\n",
      "print bad_table"
     ],
     "language": "python",
     "metadata": {},
     "outputs": [
      {
       "output_type": "stream",
       "stream": "stdout",
       "text": [
        "# Constructed from biom file\n",
        "#OTU ID\tA\tB\tC\n",
        "OTU1\t50.0\t4.0\t0.0\n",
        "OTU2\t35.0\t200.0\t0.0\n",
        "OTU3\t100.0\t2.0\t1.0\n",
        "OTU4\t15.0\t400.0\t1.0\n",
        "OTU5\t0.0\t40.0\t1.0\n"
       ]
      }
     ],
     "prompt_number": 14
    },
    {
     "cell_type": "code",
     "collapsed": false,
     "input": [
      "print observed_otus(bad_table, 'A')"
     ],
     "language": "python",
     "metadata": {},
     "outputs": [
      {
       "output_type": "stream",
       "stream": "stdout",
       "text": [
        "4\n"
       ]
      }
     ],
     "prompt_number": 15
    },
    {
     "cell_type": "code",
     "collapsed": false,
     "input": [
      "print observed_otus(bad_table, 'B')"
     ],
     "language": "python",
     "metadata": {},
     "outputs": [
      {
       "output_type": "stream",
       "stream": "stdout",
       "text": [
        "5\n"
       ]
      }
     ],
     "prompt_number": 16
    },
    {
     "cell_type": "code",
     "collapsed": false,
     "input": [
      "print observed_otus(bad_table, 'C')"
     ],
     "language": "python",
     "metadata": {},
     "outputs": [
      {
       "output_type": "stream",
       "stream": "stdout",
       "text": [
        "3\n"
       ]
      }
     ],
     "prompt_number": 17
    },
    {
     "cell_type": "code",
     "collapsed": false,
     "input": [
      "print zip(bad_table.SampleIds, bad_table.sum('sample'))"
     ],
     "language": "python",
     "metadata": {},
     "outputs": [
      {
       "output_type": "stream",
       "stream": "stdout",
       "text": [
        "[('A', 200.0), ('B', 646.0), ('C', 3.0)]\n"
       ]
      }
     ],
     "prompt_number": 18
    },
    {
     "cell_type": "markdown",
     "metadata": {},
     "source": [
      "**TODO**: Add alpha rarefaction discussion."
     ]
    },
    {
     "cell_type": "heading",
     "level": 2,
     "metadata": {},
     "source": [
      "Measuring beta diversity"
     ]
    },
    {
     "cell_type": "markdown",
     "metadata": {},
     "source": [
      "$\\beta$-diversity (canonically pronounced *beta diversity*) refers to **between sample diversity**, and is typically used to answer questions of the form: is sample $A$ more similar in composition to sample $B$ or sample $C$? In this section we'll explore two (of tens or hundreds) of metrics for computing pairwise dissimilarity of samples to estimate $\\beta$ diversity."
     ]
    },
    {
     "cell_type": "heading",
     "level": 3,
     "metadata": {},
     "source": [
      "Distance metrics"
     ]
    },
    {
     "cell_type": "heading",
     "level": 4,
     "metadata": {},
     "source": [
      "Bray-Curtis"
     ]
    },
    {
     "cell_type": "markdown",
     "metadata": {},
     "source": [
      "The first metric that we'll look at is a quantitative non-phylogenetic $\\beta$ diversity metric called Bray-Curtis. The Bray-Curtis dissimilarity between a pair of samples, $j$ and $k$, is defined as follows:\n",
      "\n",
      "$BC_{jk} = \\frac{ \\sum_{i} | X_{ij} \u2013 X_{ik}|} {\\sum_{i} (X_{ij} + X_{ik})}$\n",
      "\n",
      "$i$ : observation (e.g., OTUs)\n",
      "\n",
      "$X_{ij}$ : count of observation $i$ in sample $j$\n",
      "\n",
      "$X_{ik}$ : count of observation $i$ in sample $k$\n",
      "\n",
      "This could be implemented in python as follows:\n"
     ]
    },
    {
     "cell_type": "code",
     "collapsed": false,
     "input": [
      "def bray_curtis_distance(table, sample1_id, sample2_id):\n",
      "    numerator = 0\n",
      "    denominator = 0\n",
      "    sample1_counts = table.sampleData(sample1_id)\n",
      "    sample2_counts = table.sampleData(sample2_id)\n",
      "    for sample1_count, sample2_count in zip(sample1_counts, sample2_counts):\n",
      "        numerator += abs(sample1_count - sample2_count)\n",
      "        denominator += sample1_count + sample2_count\n",
      "    return numerator / denominator"
     ],
     "language": "python",
     "metadata": {},
     "outputs": [],
     "prompt_number": 19
    },
    {
     "cell_type": "code",
     "collapsed": false,
     "input": [
      "print table1"
     ],
     "language": "python",
     "metadata": {},
     "outputs": [
      {
       "output_type": "stream",
       "stream": "stdout",
       "text": [
        "# Constructed from biom file\n",
        "#OTU ID\tA\tB\tC\n",
        "OTU1\t1.0\t0.0\t0.0\n",
        "OTU2\t3.0\t2.0\t0.0\n",
        "OTU3\t0.0\t0.0\t6.0\n",
        "OTU4\t1.0\t4.0\t2.0\n",
        "OTU5\t0.0\t4.0\t1.0\n"
       ]
      }
     ],
     "prompt_number": 20
    },
    {
     "cell_type": "markdown",
     "metadata": {},
     "source": [
      "Let's now apply this to some pairs of samples:"
     ]
    },
    {
     "cell_type": "code",
     "collapsed": false,
     "input": [
      "print bray_curtis_distance(table1, 'A', 'B')"
     ],
     "language": "python",
     "metadata": {},
     "outputs": [
      {
       "output_type": "stream",
       "stream": "stdout",
       "text": [
        "0.6\n"
       ]
      }
     ],
     "prompt_number": 21
    },
    {
     "cell_type": "code",
     "collapsed": false,
     "input": [
      "print bray_curtis_distance(table1, 'A', 'C')"
     ],
     "language": "python",
     "metadata": {},
     "outputs": [
      {
       "output_type": "stream",
       "stream": "stdout",
       "text": [
        "0.857142857143\n"
       ]
      }
     ],
     "prompt_number": 22
    },
    {
     "cell_type": "code",
     "collapsed": false,
     "input": [
      "print bray_curtis_distance(table1, 'B', 'C')"
     ],
     "language": "python",
     "metadata": {},
     "outputs": [
      {
       "output_type": "stream",
       "stream": "stdout",
       "text": [
        "0.684210526316\n"
       ]
      }
     ],
     "prompt_number": 23
    },
    {
     "cell_type": "code",
     "collapsed": false,
     "input": [
      "print bray_curtis_distance(table1, 'A', 'A')"
     ],
     "language": "python",
     "metadata": {},
     "outputs": [
      {
       "output_type": "stream",
       "stream": "stdout",
       "text": [
        "0.0\n"
       ]
      }
     ],
     "prompt_number": 24
    },
    {
     "cell_type": "code",
     "collapsed": false,
     "input": [
      "print bray_curtis_distance(table1, 'C', 'B')"
     ],
     "language": "python",
     "metadata": {},
     "outputs": [
      {
       "output_type": "stream",
       "stream": "stdout",
       "text": [
        "0.684210526316\n"
       ]
      }
     ],
     "prompt_number": 25
    },
    {
     "cell_type": "markdown",
     "metadata": {},
     "source": [
      "Ultimately, we likely want to apply this to all pairs of samples to get a distance matrix containing all pairwise distances. Let's define a function for that, and then compute all pairwise Bray-Curtis distances between samples `A`, `B` and `C`."
     ]
    },
    {
     "cell_type": "code",
     "collapsed": false,
     "input": [
      "from skbio.core.distance import DistanceMatrix\n",
      "from numpy import zeros\n",
      "\n",
      "def table_to_distances(table, pairwise_distance_fn):\n",
      "    sample_ids = table.SampleIds\n",
      "    num_samples = len(sample_ids)\n",
      "    data = zeros((num_samples, num_samples))\n",
      "    for i, sample1_id in enumerate(sample_ids):\n",
      "        for j, sample2_id in enumerate(sample_ids[:i]):\n",
      "            data[i,j] = data[j,i] = \\\n",
      "             pairwise_distance_fn(table, sample1_id, sample2_id)\n",
      "    return DistanceMatrix(data, sample_ids)"
     ],
     "language": "python",
     "metadata": {},
     "outputs": [],
     "prompt_number": 26
    },
    {
     "cell_type": "code",
     "collapsed": false,
     "input": [
      "bc_dm = table_to_distances(table1, bray_curtis_distance)\n",
      "print bc_dm"
     ],
     "language": "python",
     "metadata": {},
     "outputs": [
      {
       "output_type": "stream",
       "stream": "stdout",
       "text": [
        "3x3 distance matrix\n",
        "IDs:\n",
        "A, B, C\n",
        "Data:\n",
        "[[ 0.          0.6         0.85714286]\n",
        " [ 0.6         0.          0.68421053]\n",
        " [ 0.85714286  0.68421053  0.        ]]\n"
       ]
      }
     ],
     "prompt_number": 27
    },
    {
     "cell_type": "heading",
     "level": 4,
     "metadata": {},
     "source": [
      "Unweighted UniFrac"
     ]
    },
    {
     "cell_type": "markdown",
     "metadata": {},
     "source": [
      "Just as phylogenetic alpha diversity metrics can be more informative than non-phylogenetic alpha diversity metrics, phylogenetic beta diversity metrics offer advantages over non-phylogenetic metrics such as Bray-Curtis. The most widely applied phylogenetic beta diversity metric as of this writing is unweighted UniFrac. UniFrac was initially presented in [Lozupone and Knight, 2005, Applied and Environmental Microbiology](http://aem.asm.org/content/71/12/8228.abstract), and has been widely applied in microbial ecology since (and the illustration of UniFrac computation presented below is derived from a similar example originally developed by Lozupone and Knight).\n",
      "\n",
      "The unweighted UniFrac distance between a pair of samples `A` and `B` is defined as follows:\n",
      "\n",
      "$U_{AB} = \\frac{unique}{observed}$\n",
      "\n",
      "where:\n",
      "\n",
      "$unique$ : the unique branch length, or branch length that only leads to OTU(s) observed in sample $A$ or sample $B$\n",
      "\n",
      "$observed$ : the total branch length observed in either sample $A$ or sample $B$"
     ]
    },
    {
     "cell_type": "markdown",
     "metadata": {},
     "source": [
      "<div style=\"float: right; margin-left: 30px;\"><img title=\"Image by @gregcaporaso.\" style=\"float: right; margin-left: 30px;\" src=\"files/images/unifrac_tree_d0.png\" align=right/></div>\n",
      "\n",
      "To illustrate how UniFrac distances are computed, before we get into actually computing them, let's look at a few examples. In these examples, imagine that we're determining the pairwise UniFrac distance between two samples: a red sample, and a blue sample. If a red box appears next to an OTU, that indicates that it's observed in the red sample; if a blue box appears next to the OTU, that indicates that it's observed in the blue sample; if a red and blue box appears next to the OTU, that indicates that the OTU is present in both samples; and if no box is presented next to the OTU, that indicates that it's present in neither sample.\n",
      "\n",
      "To compute the UniFrac distance between a pair of samples, we need to know the sum of the branch length that was observed in either sample (the *observed* branch length), and the sum of the branch length that was observed only in a single sample (the *unique* branch length). In these examples, we color all of the *observed* branch length. Branch length that is unique to the red sample is red, branch length that is unique to the blue sample is blue, and branch length that is observed in both samples is purple. Unobserved branch length is black (as is the vertical branches, as those don't contribute to branch length - they are purely for visual presentation). \n",
      "\n",
      "In the tree on the right, all of the OTUs that are observed in either sample are observed in both samples. As a result, all of the observed branch length is purple. The unique branch length in this case is zero, so **we have a UniFrac distance of 0 between the red and blue samples**."
     ]
    },
    {
     "cell_type": "markdown",
     "metadata": {},
     "source": [
      "<hr>\n",
      "\n",
      "<div style=\"float: right; margin-left: 30px;\"><img title=\"Image by @gregcaporaso.\" style=\"float: right; margin-left: 30px;\" src=\"files/images/unifrac_tree_d1.png\" align=right/></div>\n",
      "\n",
      "On the other end of the spectrum, in the second tree, all of the OTUs in the tree are observed either in the red sample, or in the blue sample. All of the observed branch length in the tree is either red or blue, meaning that if you follow a branch out to the tips, you will observed only red or blue samples. In this case the unique branch length is equal to the observed branch length, so **we have a UniFrac distance of 1 between the red and blue samples**.\n"
     ]
    },
    {
     "cell_type": "markdown",
     "metadata": {},
     "source": [
      "<hr>\n",
      "\n",
      "<div style=\"float: right; margin-left: 30px;\"><img title=\"Image by @gregcaporaso.\" style=\"float: right; margin-left: 30px;\" src=\"files/images/unifrac_tree_d0.5.png\" align=right/></div>\n",
      "\n",
      "Finally, most of the time we're somewhere in the middle. In this tree, some of our branch length is unique, and some is not. For example, OTU 1 is only observed in our red sample, so the terminal branch leading to OTU 1 is red (i.e., unique to the red sample). OTU 2 is only observed in our blue sample, so the terminal branch leading to OTU 2 is blue (i.e., unique to the blue sample). However, the internal branch leading to the node connecting OTU 1 and OTU 2 leads to OTUs observed in both the red and blue samples (i.e., OTU 1 and OTU 2), so is purple (i.e, observed branch length, but not unique branch length). In this case, **we have an intermediate UniFrac distance between the red and blue samples, maybe somewhere around 0.5**."
     ]
    },
    {
     "cell_type": "markdown",
     "metadata": {},
     "source": [
      "<hr>\n",
      "<div style=\"float: right; margin-left: 30px;\"><img title=\"Image by @gregcaporaso.\" style=\"float: right; margin-left: 30px;\" src=\"files/images/unifrac_tree_with_distances.png\" align=right/></div>\n",
      "\n",
      "Let's now compute the Unweighted UniFrac distances between some samples. Imagine we have the following tree, paired with our table below (printed below, for quick reference)."
     ]
    },
    {
     "cell_type": "code",
     "collapsed": false,
     "input": [
      "print table1"
     ],
     "language": "python",
     "metadata": {},
     "outputs": [
      {
       "output_type": "stream",
       "stream": "stdout",
       "text": [
        "# Constructed from biom file\n",
        "#OTU ID\tA\tB\tC\n",
        "OTU1\t1.0\t0.0\t0.0\n",
        "OTU2\t3.0\t2.0\t0.0\n",
        "OTU3\t0.0\t0.0\t6.0\n",
        "OTU4\t1.0\t4.0\t2.0\n",
        "OTU5\t0.0\t4.0\t1.0\n"
       ]
      }
     ],
     "prompt_number": 28
    },
    {
     "cell_type": "markdown",
     "metadata": {},
     "source": [
      "<div style=\"float: right; margin-left: 30px;\"><img title=\"Image by @gregcaporaso.\" style=\"float: right; margin-left: 30px;\" src=\"files/images/unifrac_tree_with_distances_ab.png\" align=right/></div>\n",
      "\n",
      "First, let's compute the unweighted UniFrac distance between samples $A$ and $B$. The *unweighted* in *unweighted UniFrac* means that this is a qualitative diversity metric, meaning that we don't care about the abundances of the OTUs, only whether they are present in a given sample ($count > 0$) or not present ($count = 0$). \n",
      "\n",
      "Start at the top right branch in the tree, and for each branch, determine if the branch is observed, and if so, if it is also unique. If it is observed then you add its length to your observed branch length. If it is observed and unique, then you also add its length to your unique branch length. \n",
      "\n",
      "For samples $A$ and $B$, I get the following (in the tree on the right, red branches are those observed in $A$, blue branches are those observed in $B$, and purple are observed in both):\n",
      "\n",
      "$unique_{ab} = 0.5 + 0.75 = 1.25$\n",
      "\n",
      "$observed_{ab} = 0.5 + 0.5 + 0.5 + 1.0 + 1.25 + 0.75 + 0.75 = 5.25$\n",
      "\n",
      "$uu_{ab} = \\frac{unique_{ab}}{observed_{ab}} = \\frac{1.25}{5.25} = 0.238$"
     ]
    },
    {
     "cell_type": "markdown",
     "metadata": {},
     "source": [
      "As an exercise, now compute the UniFrac distances between samples $B$ and $C$, and samples $A$ and $C$, using the above table and tree. When I do this, I get the following distance matrix. "
     ]
    },
    {
     "cell_type": "code",
     "collapsed": false,
     "input": [
      "ids = ['A', 'B', 'C']\n",
      "d = [[0.00, 0.24, 0.52],\n",
      "      [0.24, 0.00, 0.35],\n",
      "      [0.52, 0.35, 0.00]]\n",
      "print DistanceMatrix(d, ids)"
     ],
     "language": "python",
     "metadata": {},
     "outputs": [
      {
       "output_type": "stream",
       "stream": "stdout",
       "text": [
        "3x3 distance matrix\n",
        "IDs:\n",
        "A, B, C\n",
        "Data:\n",
        "[[ 0.    0.24  0.52]\n",
        " [ 0.24  0.    0.35]\n",
        " [ 0.52  0.35  0.  ]]\n"
       ]
      }
     ],
     "prompt_number": 29
    },
    {
     "cell_type": "markdown",
     "metadata": {},
     "source": [
      " **TODO**: Interface change so this code can be used with ``table_to_distances``. "
     ]
    },
    {
     "cell_type": "code",
     "collapsed": false,
     "input": [
      "## This is untested!! I'm not certain that it's exactly right, just a quick test.\n",
      "\n",
      "newick_tree1 = '(((((OTU1:0.5,OTU2:0.5):0.5,OTU3:1.0):1.0),(OTU4:0.75,OTU5:0.75):1.25))root;'\n",
      "tree1 = TreeNode.from_newick(newick_tree1)\n",
      "\n",
      "def unweighted_unifrac(tree, table, sample_id1, sample_id2, verbose=False):\n",
      "    observed_nodes1 = get_observed_nodes(tree, table, sample_id1, verbose=verbose)\n",
      "    observed_nodes2 = get_observed_nodes(tree, table, sample_id2, verbose=verbose)\n",
      "    observed_branch_length = sum(o.length for o in observed_nodes1 | observed_nodes2)\n",
      "    shared_branch_length = sum(o.length for o in observed_nodes1 & observed_nodes2)\n",
      "    unique_branch_length = observed_branch_length - shared_branch_length\n",
      "    unweighted_unifrac = unique_branch_length / observed_branch_length\n",
      "    return unweighted_unifrac\n",
      "\n",
      "print unweighted_unifrac(tree1, table1, 'A', 'B')\n",
      "print unweighted_unifrac(tree1, table1, 'A', 'C')\n",
      "print unweighted_unifrac(tree1, table1, 'B', 'C')"
     ],
     "language": "python",
     "metadata": {},
     "outputs": [
      {
       "output_type": "stream",
       "stream": "stdout",
       "text": [
        "0.238095238095\n",
        "0.52\n",
        "0.347826086957\n"
       ]
      }
     ],
     "prompt_number": 30
    },
    {
     "cell_type": "heading",
     "level": 4,
     "metadata": {},
     "source": [
      "Even sampling"
     ]
    },
    {
     "cell_type": "markdown",
     "metadata": {},
     "source": [
      "**TODO**: Add discussion on necessity of even sampling"
     ]
    },
    {
     "cell_type": "heading",
     "level": 3,
     "metadata": {},
     "source": [
      "Interpreting distance matrices"
     ]
    },
    {
     "cell_type": "markdown",
     "metadata": {},
     "source": [
      "In the previous section we computed distance matrices that contained the pairwise distances between a few samples. You can look at those distance matrices and get a pretty good feeling for what the patterns are. For example, what are the most similar samples? What are the most dissimilar samples? \n",
      "\n",
      "What if instead of three samples though, we had more. Here's a screenshot from a distance martix containing data on 105 samples (this is just the first few rows and columns):\n",
      "\n",
      "<img src='files/images/example_big_dm.png'>\n",
      "\n",
      "Do you have a good feeling for the patterns here? What are the most similar samples? What are the most dissimilar samples? \n",
      "\n",
      "Chances are, you can't just squint at that table and understand what's going on (but if you can, I'm hiring!). The problem is exacerbated by the fact that in modern microbial ecology studies we may have thousands or tens of thousands of samples, not \"just\" hundreds as in the table above. We need tools to help us take these raw distances and convert them into something that we can interpret. In this section we'll look at some techniques, one of which we've covered previously, that will help us interpret large distance matrices.\n",
      "\n",
      "<hr>\n",
      "\n",
      "One excellent paper that includes a comparison of several different strategies for interpreting beta diversity results is [Costello *et al.* Science (2009) Bacterial Community Variation in Human Body Habitats Across Space and Time](https://www.sciencemag.org/content/326/5960/1694.full). In this study, the authors collected microbiome samples from 7 human subjects at about 25 sites on their bodies, at four different timepoints. \n",
      "\n",
      "Figure 1 shows several different approaches for comparing the resulting UniFrac distance matrix (this image is linked from the *Science* journal website - copyright belongs to *Science*):\n",
      "\n",
      "<img src=\"https://www.sciencemag.org/content/326/5960/1694/F1.large.jpg\">\n",
      "\n",
      "Let's generate a small distance matrix representing just a few of these body sites, and figure out how we'd generate and interpret each of these visualizations. The values in the distance matrix below are a subset of the unweighted UniFrac distance matrix representing two samples each from three body sites from the Costello *et al.* (2009) study."
     ]
    },
    {
     "cell_type": "code",
     "collapsed": false,
     "input": [
      "sample_ids = ['A', 'B', 'C', 'D', 'E', 'F']\n",
      "\n",
      "human_microbiome_sample_md = {\n",
      "                   'A': {'body_habitat': 'gut', 'person': 'subject 1'},\n",
      "                   'B': {'body_habitat': 'gut', 'person': 'subject 2'},\n",
      "                   'C': {'body_habitat': 'tongue', 'person': 'subject 1'},\n",
      "                   'D': {'body_habitat': 'tongue', 'person': 'subject 2'},\n",
      "                   'E': {'body_habitat': 'skin', 'person': 'subject 1'},\n",
      "                   'F': {'body_habitat': 'skin', 'person': 'subject 2'}}\n",
      "\n",
      "dm_data = array([[0.00, 0.35, 0.83, 0.83, 0.90, 0.90],\n",
      "                 [0.35, 0.00, 0.86, 0.85, 0.92, 0.91],\n",
      "                 [0.83, 0.86, 0.00, 0.25, 0.88, 0.87],\n",
      "                 [0.83, 0.85, 0.25, 0.00, 0.88, 0.88],\n",
      "                 [0.90, 0.92, 0.88, 0.88, 0.00, 0.50],\n",
      "                 [0.90, 0.91, 0.87, 0.88, 0.50, 0.00]])\n",
      "\n",
      "human_microbiome_dm = DistanceMatrix(dm_data, sample_ids)\n",
      "print human_microbiome_dm"
     ],
     "language": "python",
     "metadata": {},
     "outputs": [
      {
       "output_type": "stream",
       "stream": "stdout",
       "text": [
        "6x6 distance matrix\n",
        "IDs:\n",
        "A, B, C, D, E, F\n",
        "Data:\n",
        "[[ 0.    0.35  0.83  0.83  0.9   0.9 ]\n",
        " [ 0.35  0.    0.86  0.85  0.92  0.91]\n",
        " [ 0.83  0.86  0.    0.25  0.88  0.87]\n",
        " [ 0.83  0.85  0.25  0.    0.88  0.88]\n",
        " [ 0.9   0.92  0.88  0.88  0.    0.5 ]\n",
        " [ 0.9   0.91  0.87  0.88  0.5   0.  ]]\n"
       ]
      }
     ],
     "prompt_number": 31
    },
    {
     "cell_type": "heading",
     "level": 4,
     "metadata": {},
     "source": [
      "Distribution plots and comparisons"
     ]
    },
    {
     "cell_type": "markdown",
     "metadata": {},
     "source": [
      "First, let's look at the analysis presented in panels E and F. Instead of generating bar plots here, we'll generate box plots as these are more informative (i.e., they provide a more detailed summary of the distribution being investigated). One important thing to notice here is the central role that the sample metadata plays in the visualization. If we just had our sample ids (i.e., letters ``A`` through ``F``) we wouldn't be able to group distances into *within* and *between* sample type categories, and we therefore couldn't perform the comparisons we're interested in."
     ]
    },
    {
     "cell_type": "code",
     "collapsed": false,
     "input": [
      "def within_between_category_distributions(dm, md, md_category):\n",
      "    within_category_distances = []\n",
      "    between_category_distances = []\n",
      "    for i, sample_id1 in enumerate(dm.ids):\n",
      "        sample_md1 = md[sample_id1][md_category]\n",
      "        for sample_id2 in dm.ids[:i]:\n",
      "            sample_md2 = md[sample_id2][md_category]\n",
      "            if sample_md1 == sample_md2:\n",
      "                within_category_distances.append(dm[sample_id1, sample_id2])\n",
      "            else:\n",
      "                between_category_distances.append(dm[sample_id1, sample_id2])\n",
      "    return within_category_distances, between_category_distances"
     ],
     "language": "python",
     "metadata": {},
     "outputs": [],
     "prompt_number": 32
    },
    {
     "cell_type": "code",
     "collapsed": false,
     "input": [
      "within_category_distances, between_category_distances = \\\n",
      "    within_between_category_distributions(human_microbiome_dm, human_microbiome_sample_md, \"body_habitat\")\n",
      "print within_category_distances\n",
      "print between_category_distances"
     ],
     "language": "python",
     "metadata": {},
     "outputs": [
      {
       "output_type": "stream",
       "stream": "stdout",
       "text": [
        "[0.34999999999999998, 0.25, 0.5]\n",
        "[0.82999999999999996, 0.85999999999999999, 0.82999999999999996, 0.84999999999999998, 0.90000000000000002, 0.92000000000000004, 0.88, 0.88, 0.90000000000000002, 0.91000000000000003, 0.87, 0.88]\n"
       ]
      }
     ],
     "prompt_number": 33
    },
    {
     "cell_type": "code",
     "collapsed": false,
     "input": [
      "from skbio.draw.distributions import boxplots\n",
      "\n",
      "plot = boxplots([within_category_distances, between_category_distances],\n",
      "                x_tick_labels=['same body habitat', 'different body habitat'],\n",
      "                x_tick_labels_orientation='horizontal',\n",
      "                y_label=\"Unweighted UniFrac distance\",\n",
      "                y_min=0.0, y_max=1.0)"
     ],
     "language": "python",
     "metadata": {},
     "outputs": [
      {
       "metadata": {},
       "output_type": "display_data",
       "png": "[encoded data removed]",
       "text": [
        "<matplotlib.figure.Figure at 0x105167ad0>"
       ]
      }
     ],
     "prompt_number": 34
    },
    {
     "cell_type": "code",
     "collapsed": false,
     "input": [
      "from scipy.stats import ttest_ind\n",
      "t, p_value = ttest_ind(within_category_distances, between_category_distances)\n",
      "print t, p_value"
     ],
     "language": "python",
     "metadata": {},
     "outputs": [
      {
       "output_type": "stream",
       "stream": "stdout",
       "text": [
        "-14.0187203101 3.17133166547e-09\n"
       ]
      }
     ],
     "prompt_number": 35
    },
    {
     "cell_type": "markdown",
     "metadata": {},
     "source": [
      "If we run through these same steps, but base our analysis on a different metadata category where we don't expect to see any significant clustering, you can see that we no longer get a significant result."
     ]
    },
    {
     "cell_type": "code",
     "collapsed": false,
     "input": [
      "within_category_distances, between_category_distances = \\\n",
      "    within_between_category_distributions(human_microbiome_dm, human_microbiome_sample_md, \"person\")\n",
      "print within_category_distances\n",
      "print between_category_distances"
     ],
     "language": "python",
     "metadata": {},
     "outputs": [
      {
       "output_type": "stream",
       "stream": "stdout",
       "text": [
        "[0.82999999999999996, 0.84999999999999998, 0.90000000000000002, 0.88, 0.91000000000000003, 0.88]\n",
        "[0.34999999999999998, 0.85999999999999999, 0.82999999999999996, 0.25, 0.92000000000000004, 0.88, 0.90000000000000002, 0.87, 0.5]\n"
       ]
      }
     ],
     "prompt_number": 36
    },
    {
     "cell_type": "code",
     "collapsed": false,
     "input": [
      "plot = boxplots([within_category_distances, between_category_distances],\n",
      "                x_tick_labels=['same person', 'different person'],\n",
      "                x_tick_labels_orientation='horizontal',\n",
      "                y_label=\"Unweighted UniFrac distance\",\n",
      "                y_min=0.0, y_max=1.0)"
     ],
     "language": "python",
     "metadata": {},
     "outputs": [
      {
       "metadata": {},
       "output_type": "display_data",
       "png": "[encoded data removed]",
       "text": [
        "<matplotlib.figure.Figure at 0x1069a9a50>"
       ]
      }
     ],
     "prompt_number": 37
    },
    {
     "cell_type": "code",
     "collapsed": false,
     "input": [
      "t, p_value = ttest_ind(within_category_distances, between_category_distances)\n",
      "print t, p_value"
     ],
     "language": "python",
     "metadata": {},
     "outputs": [
      {
       "output_type": "stream",
       "stream": "stdout",
       "text": [
        "1.53700820694 0.148267378899\n"
       ]
      }
     ],
     "prompt_number": 38
    },
    {
     "cell_type": "markdown",
     "metadata": {},
     "source": [
      "Why do you think the distribution of distances between people has such as larger range than the distribution of distances within people in this particular example?"
     ]
    },
    {
     "cell_type": "heading",
     "level": 4,
     "metadata": {},
     "source": [
      "Heirarchical clustering"
     ]
    },
    {
     "cell_type": "markdown",
     "metadata": {},
     "source": [
      "Next, let's look at a hierarchical clustering analysis, similar to that presented in panel G above. Here I'm applying the UPGMA functionality implemented in [scipy](http://www.scipy.org/scipylib/index.html) to generate a tree which we visualize with a dendrogram. However the tips in this tree don't represent sequences or OTUs, like they did when we covered UPGMA in the [Phylogenetic reconstruction chapter](../algorithms/3-phylogeny-reconstruction.ipynb) chapter, but instead they represent samples, and samples with a smaller branch length between them are more similar in composition than samples with a longer branch length between them. (Remember that only horizontal branch length is counted - vertical branch length is just to aid in the organization of the dendrogram.)"
     ]
    },
    {
     "cell_type": "code",
     "collapsed": false,
     "input": [
      "from scipy.cluster.hierarchy import average, dendrogram\n",
      "lm = average(human_microbiome_dm.condensed_form())\n",
      "d = dendrogram(lm, labels=human_microbiome_dm.ids, orientation='right', \n",
      "               link_color_func=lambda x: 'black')"
     ],
     "language": "python",
     "metadata": {},
     "outputs": [
      {
       "metadata": {},
       "output_type": "display_data",
       "png": "[encoded data removed]",
       "text": [
        "<matplotlib.figure.Figure at 0x106b279d0>"
       ]
      }
     ],
     "prompt_number": 39
    },
    {
     "cell_type": "markdown",
     "metadata": {},
     "source": [
      "Again, we can see how the data really only becomes interpretable in the context of metadata:"
     ]
    },
    {
     "cell_type": "code",
     "collapsed": false,
     "input": [
      "labels = [human_microbiome_sample_md[sid]['body_habitat'] for sid in sample_ids]\n",
      "d = dendrogram(lm, labels=labels, orientation='right', \n",
      "               link_color_func=lambda x: 'black')"
     ],
     "language": "python",
     "metadata": {},
     "outputs": [
      {
       "metadata": {},
       "output_type": "display_data",
       "png": "[encoded data removed]",
       "text": [
        "<matplotlib.figure.Figure at 0x1052e26d0>"
       ]
      }
     ],
     "prompt_number": 40
    },
    {
     "cell_type": "code",
     "collapsed": false,
     "input": [
      "labels = [human_microbiome_sample_md[sid]['person'] for sid in sample_ids]\n",
      "d = dendrogram(lm, labels=labels, orientation='right', \n",
      "               link_color_func=lambda x: 'black')"
     ],
     "language": "python",
     "metadata": {},
     "outputs": [
      {
       "metadata": {},
       "output_type": "display_data",
       "png": "[encoded data removed]",
       "text": [
        "<matplotlib.figure.Figure at 0x106b6ca50>"
       ]
      }
     ],
     "prompt_number": 41
    },
    {
     "cell_type": "heading",
     "level": 3,
     "metadata": {},
     "source": [
      "Ordination"
     ]
    },
    {
     "cell_type": "markdown",
     "metadata": {},
     "source": [
      "Finally, let's look at ordination, similar to that presented in panels A-D. The basic idea behind oridination is dimensionality reduction: we want to take high-dimensionality data (a distance matrix) and represent that in a few (usually two or three) dimensions. As humans, we're very bad at interpreting high dimensionality data directly: with ordination, we can take an $n$-dimensional data set (e.g., a distance matrix of shape $n \\times n$, representing the distances between $n$ biological samples) and reduce that to a 2-dimensional scatter plot similar to that presented in panels A-D above. \n",
      "\n",
      "Ordination is a technique that is widely applied in ecology and in bioinformatics, but the math behind some of the methods such as *Principal Coordinates Analysis* is fairly complex, and as a result I've found that these methods are a black box for a lot of people. Possibly the most simple ordination technique is one called Polar Ordination. Polar Ordination is not widely applied because it has some incovenient features, but I find that it is useful for introducing the idea behind ordination. Here we'll work through a simple implementation of ordination to illustrate the process, which will help us to interpret ordination plots. In practice, you will use existing software, such as [scikit-bio](http://scikit-bio.org)'s [ordination module](http://scikit-bio.org/maths.stats.ordination.html). \n",
      "\n",
      "An excellent site for learning more about ordination is [Michael W. Palmer's Ordination Methods page](http://ordination.okstate.edu/).\n"
     ]
    },
    {
     "cell_type": "heading",
     "level": 4,
     "metadata": {},
     "source": [
      "Polar ordination"
     ]
    },
    {
     "cell_type": "markdown",
     "metadata": {},
     "source": [
      "First, let's print our distance matrix again so we have it nearby."
     ]
    },
    {
     "cell_type": "code",
     "collapsed": false,
     "input": [
      "print human_microbiome_dm"
     ],
     "language": "python",
     "metadata": {},
     "outputs": [
      {
       "output_type": "stream",
       "stream": "stdout",
       "text": [
        "6x6 distance matrix\n",
        "IDs:\n",
        "A, B, C, D, E, F\n",
        "Data:\n",
        "[[ 0.    0.35  0.83  0.83  0.9   0.9 ]\n",
        " [ 0.35  0.    0.86  0.85  0.92  0.91]\n",
        " [ 0.83  0.86  0.    0.25  0.88  0.87]\n",
        " [ 0.83  0.85  0.25  0.    0.88  0.88]\n",
        " [ 0.9   0.92  0.88  0.88  0.    0.5 ]\n",
        " [ 0.9   0.91  0.87  0.88  0.5   0.  ]]\n"
       ]
      }
     ],
     "prompt_number": 42
    },
    {
     "cell_type": "markdown",
     "metadata": {},
     "source": [
      "Polar ordination works in a few steps:\n",
      "\n",
      "**Step 1.** Identify the largest distance in the distance matrix.\n",
      "\n",
      "**Step 2.** Define a line, with the two samples contributing to that distance defining the endpoints.\n",
      "\n",
      "**Step 3.** Compute the location of each other sample on that axis as follows:\n",
      "\n",
      "$a = \\frac{D^2 + D1^2 - D2^2}{2 \\times D}$\n",
      "   \n",
      "where:\n",
      "\n",
      "$D$ is distance between the endpoints\n",
      "\n",
      "$D1$ is distance between the current sample and endpoint 1\n",
      "\n",
      "$D2$ is distance between sample and endpoint 2.\n",
      "\n",
      "**Step 4.** Find the next largest distance that could be used to define an *uncorrelated axis*. (This step can be labor-intensive to do by hand \u2013 usually you would compute all of the axes, along with correlation scores. I\u2019ll pick one for the demo, and we'll wrap up by looking at all of the axes.)\n",
      "\n",
      "Here is what steps 2 and 3 look like in python:"
     ]
    },
    {
     "cell_type": "code",
     "collapsed": false,
     "input": [
      "def compute_axis_values(dm, endpoint1, endpoint2):\n",
      "    d = dm[endpoint1, endpoint2]\n",
      "    result = {endpoint1: 0, endpoint2: d}\n",
      "    non_endpoints = set(dm.ids) - set([endpoint1, endpoint2])\n",
      "    for e in non_endpoints:\n",
      "        d1 = dm[endpoint1, e]\n",
      "        d2 = dm[endpoint2, e]\n",
      "        result[e] = (d**2 + d1**2 - d2**2) / (2 * d)\n",
      "    return d, [result[e] for e in dm.ids]"
     ],
     "language": "python",
     "metadata": {},
     "outputs": [],
     "prompt_number": 43
    },
    {
     "cell_type": "code",
     "collapsed": false,
     "input": [
      "d, a1_values = compute_axis_values(human_microbiome_dm, 'B', 'E')\n",
      "for sid, a1_value in zip(human_microbiome_dm.ids, a1_values):\n",
      "    print sid, a1_value"
     ],
     "language": "python",
     "metadata": {},
     "outputs": [
      {
       "output_type": "stream",
       "stream": "stdout",
       "text": [
        "A 0.0863586956522\n",
        "B 0\n",
        "C 0.441086956522\n",
        "D 0.431793478261\n",
        "E 0.92\n",
        "F 0.774184782609\n"
       ]
      }
     ],
     "prompt_number": 44
    },
    {
     "cell_type": "code",
     "collapsed": false,
     "input": [
      "d, a2_values = compute_axis_values(human_microbiome_dm, 'D', 'E')\n",
      "for sid, a2_value in zip(human_microbiome_dm.ids, a2_values):\n",
      "    print sid, a2_value"
     ],
     "language": "python",
     "metadata": {},
     "outputs": [
      {
       "output_type": "stream",
       "stream": "stdout",
       "text": [
        "A 0.371193181818\n",
        "B 0.369602272727\n",
        "C 0.0355113636364\n",
        "D 0\n",
        "E 0.88\n",
        "F 0.737954545455\n"
       ]
      }
     ],
     "prompt_number": 45
    },
    {
     "cell_type": "code",
     "collapsed": false,
     "input": [
      "from pylab import scatter\n",
      "ord_plot = scatter(a1_values, a2_values, s=40)"
     ],
     "language": "python",
     "metadata": {},
     "outputs": [
      {
       "metadata": {},
       "output_type": "display_data",
       "png": "[encoded data removed]",
       "text": [
        "<matplotlib.figure.Figure at 0x106b41310>"
       ]
      }
     ],
     "prompt_number": 46
    },
    {
     "cell_type": "markdown",
     "metadata": {},
     "source": [
      "And again, let's look at how including metadata helps us to interpret our results.\n",
      "\n",
      "First, we'll color the points by the body habitat that they're derived from:"
     ]
    },
    {
     "cell_type": "code",
     "collapsed": false,
     "input": [
      "colors = {'tongue': 'red', 'gut':'yellow', 'skin':'blue'}\n",
      "c = [colors[human_microbiome_sample_md[e]['body_habitat']] for e in human_microbiome_dm.ids]\n",
      "ord_plot = scatter(a1_values, a2_values, s=40, c=c)"
     ],
     "language": "python",
     "metadata": {},
     "outputs": [
      {
       "metadata": {},
       "output_type": "display_data",
       "png": "[encoded data removed]",
       "text": [
        "<matplotlib.figure.Figure at 0x1052e2b10>"
       ]
      }
     ],
     "prompt_number": 47
    },
    {
     "cell_type": "markdown",
     "metadata": {},
     "source": [
      "And next we'll color the samples by the person that they're derived from:"
     ]
    },
    {
     "cell_type": "code",
     "collapsed": false,
     "input": [
      "person_colors = {'subject 1': 'red', 'subject 2':'yellow'}\n",
      "person_c = [person_colors[human_microbiome_sample_md[e]['person']] for e in human_microbiome_dm.ids]\n",
      "ord_plot = scatter(a1_values, a2_values, s=40, c=person_c)"
     ],
     "language": "python",
     "metadata": {},
     "outputs": [
      {
       "metadata": {},
       "output_type": "display_data",
       "png": "[encoded data removed]",
       "text": [
        "<matplotlib.figure.Figure at 0x1052d8710>"
       ]
      }
     ],
     "prompt_number": 48
    },
    {
     "cell_type": "heading",
     "level": 4,
     "metadata": {},
     "source": [
      "Determining the most important axes in polar ordination"
     ]
    },
    {
     "cell_type": "markdown",
     "metadata": {},
     "source": [
      "Generally, you would compute the polar ordination axes for all possible axes. You could then order the axes by which represent the largest differences in sample composition, and the lowest correlation with previous axes. This might look like the following:"
     ]
    },
    {
     "cell_type": "code",
     "collapsed": false,
     "input": [
      "from scipy.stats import spearmanr\n",
      "\n",
      "data = []\n",
      "for i, sample_id1 in enumerate(human_microbiome_dm.ids):\n",
      "    for sample_id2 in human_microbiome_dm.ids[:i]:\n",
      "        d, axis_values = compute_axis_values(human_microbiome_dm, sample_id1, sample_id2)\n",
      "        r, p = spearmanr(a1_values, axis_values)\n",
      "        data.append((d, abs(r), sample_id1, sample_id2, axis_values))\n",
      "\n",
      "data.sort()\n",
      "data.reverse()\n",
      "for i, e in enumerate(data):\n",
      "    print \"axis %d:\" % i, \n",
      "    print \"\\t%1.3f\\t%1.3f\\t%s\\t%s\" % e[:4]"
     ],
     "language": "python",
     "metadata": {},
     "outputs": [
      {
       "output_type": "stream",
       "stream": "stdout",
       "text": [
        "axis 0: \t0.920\t1.000\tE\tB\n",
        "axis 1: \t0.910\t0.943\tF\tB\n",
        "axis 2: \t0.900\t0.928\tE\tA\n",
        "axis 3: \t0.900\t0.886\tF\tA\n",
        "axis 4: \t0.880\t0.543\tE\tD\n",
        "axis 5: \t0.880\t0.429\tF\tD\n",
        "axis 6: \t0.880\t0.429\tE\tC\n",
        "axis 7: \t0.870\t0.371\tF\tC\n",
        "axis 8: \t0.860\t0.543\tC\tB\n",
        "axis 9: \t0.850\t0.486\tD\tB\n",
        "axis 10: \t0.830\t0.429\tC\tA\n",
        "axis 11: \t0.830\t0.406\tD\tA\n",
        "axis 12: \t0.500\t0.232\tF\tE\n",
        "axis 13: \t0.350\t0.143\tB\tA\n",
        "axis 14: \t0.250\t0.493\tD\tC\n"
       ]
      }
     ],
     "prompt_number": 49
    },
    {
     "cell_type": "markdown",
     "metadata": {},
     "source": [
      "So why do we care about axes being uncorrelated? And why do we care about explaining a lot of the variation? Let's look at a few of these plots and see how they compare to the plots above, where we compared axes 1 and 4."
     ]
    },
    {
     "cell_type": "code",
     "collapsed": false,
     "input": [
      "ord_plot = scatter(data[0][4], data[1][4], s=40, c=c)"
     ],
     "language": "python",
     "metadata": {},
     "outputs": [
      {
       "metadata": {},
       "output_type": "display_data",
       "png": "[encoded data removed]",
       "text": [
        "<matplotlib.figure.Figure at 0x1052ed990>"
       ]
      }
     ],
     "prompt_number": 50
    },
    {
     "cell_type": "code",
     "collapsed": false,
     "input": [
      "ord_plot = scatter(data[0][4], data[13][4], s=40, c=c)"
     ],
     "language": "python",
     "metadata": {},
     "outputs": [
      {
       "metadata": {},
       "output_type": "display_data",
       "png": "[encoded data removed]",
       "text": [
        "<matplotlib.figure.Figure at 0x106b7de10>"
       ]
      }
     ],
     "prompt_number": 51
    },
    {
     "cell_type": "code",
     "collapsed": false,
     "input": [
      "ord_plot = scatter(data[0][4], data[14][4], s=40, c=c)"
     ],
     "language": "python",
     "metadata": {},
     "outputs": [
      {
       "metadata": {},
       "output_type": "display_data",
       "png": "[encoded data removed]",
       "text": [
        "<matplotlib.figure.Figure at 0x106b558d0>"
       ]
      }
     ],
     "prompt_number": 52
    },
    {
     "cell_type": "heading",
     "level": 4,
     "metadata": {},
     "source": [
      "Interpreting ordination plots"
     ]
    },
    {
     "cell_type": "markdown",
     "metadata": {},
     "source": [
      "There are a few points that are important to keep in mind when interpreting ordination plots. Review each one of these in the context of polar ordination to figure out the reason for each."
     ]
    },
    {
     "cell_type": "markdown",
     "metadata": {},
     "source": [
      "**Directionality of the axes is not important (e.g., up/down/left/right)**\n",
      "\n",
      "One thing that you may have notices as you computed the polar ordination above is that the method is *not symmetric*: in other words, the axis values for axis $EB$ are different than for axis $BE$. In practice though, we derive the same conclusions regardless of how we compute that axis: in this example, that samples cluster by body site."
     ]
    },
    {
     "cell_type": "code",
     "collapsed": false,
     "input": [
      "d, a1_values = compute_axis_values(human_microbiome_dm, 'E', 'B')\n",
      "d, a2_values = compute_axis_values(human_microbiome_dm, 'E', 'D')\n",
      "d, alt_a1_values = compute_axis_values(human_microbiome_dm, 'B', 'E')"
     ],
     "language": "python",
     "metadata": {},
     "outputs": [],
     "prompt_number": 53
    },
    {
     "cell_type": "code",
     "collapsed": false,
     "input": [
      "ord_plot = scatter(a1_values, a2_values, s=40, c=c)"
     ],
     "language": "python",
     "metadata": {},
     "outputs": [
      {
       "metadata": {},
       "output_type": "display_data",
       "png": "[encoded data removed]",
       "text": [
        "<matplotlib.figure.Figure at 0x10529e690>"
       ]
      }
     ],
     "prompt_number": 54
    },
    {
     "cell_type": "code",
     "collapsed": false,
     "input": [
      "ord_plot = scatter(alt_a1_values, a2_values, s=40, c=c)"
     ],
     "language": "python",
     "metadata": {},
     "outputs": [
      {
       "metadata": {},
       "output_type": "display_data",
       "png": "[encoded data removed]",
       "text": [
        "<matplotlib.figure.Figure at 0x106b35190>"
       ]
      }
     ],
     "prompt_number": 55
    },
    {
     "cell_type": "markdown",
     "metadata": {},
     "source": [
      "Some other important features:\n",
      "\n",
      "* Numerical scale of the axis is generally not useful\n",
      "* The order of axes is generally important (first axis explains the most variation, second axis explains the second most variation, ...)\n",
      "* Most techniques result in uncorrelated axes.\n",
      "* Additional axes can be generated (third, fourth, ...)"
     ]
    },
    {
     "cell_type": "heading",
     "level": 3,
     "metadata": {},
     "source": [
      "Are my ordination plots the same? (This section in particular is in very early development.)"
     ]
    },
    {
     "cell_type": "markdown",
     "metadata": {},
     "source": [
      "* Given a pair of coordinate matrices, determine if their shape (in two or three dimensions) is the same.\n",
      "* Given a pair of ordination plots, would we derive the same biological conclusions regardless of which plot we look at?\n",
      "<hr>\n",
      "Procrustes analysis: Treat one set of points as the reference set, and apply several operations to the other:\n",
      "\n",
      "* Translation (mean of all points is set to 1)\n",
      "* Scaling (root mean square distance of all points from the origin is 1)\n",
      "* Rotation (choosing one set of points as the reference, and rotate the other to minimize the sum of squares distance (SSD) between the corresponding points) [more complex in > 2 dimensions]\n",
      "\n",
      "Monte Carlo simulation can be applied to generate p-values.\n"
     ]
    },
    {
     "cell_type": "code",
     "collapsed": false,
     "input": [
      "from StringIO import StringIO\n",
      "import pandas as pd\n",
      "\n",
      "soil_sample_md_str = \"\"\"\tPH\tENV_BIOME\tLATITUDE\n",
      "CF3.141691\t3.56\tENVO:Temperate broadleaf and mixed forest biome\t42.11666667\n",
      "PE5.141692\t3.57\tENVO:Tropical humid forests\t-12.63333333\n",
      "BF2.141708\t3.61\tENVO:Temperate broadleaf and mixed forest biome\t41.58333333\n",
      "CF2.141679\t3.63\tENVO:Temperate broadleaf and mixed forest biome\t41.93333333\n",
      "CF1.141675\t3.92\tENVO:Temperate broadleaf and mixed forest biome\t42.15833333\n",
      "HF2.141686\t3.98\tENVO:Temperate broadleaf and mixed forest biome\t42.5\n",
      "BF1.141647\t4.05\tENVO:Temperate broadleaf and mixed forest biome\t41.58333333\n",
      "PE4.141683\t4.1\tENVO:Tropical humid forests\t-13.08333333\n",
      "PE2.141725\t4.11\tENVO:Tropical humid forests\t-13.08333333\n",
      "PE1.141715\t4.12\tENVO:Tropical humid forests\t-13.08333333\n",
      "PE6.141700\t4.12\tENVO:Tropical humid forests\t-12.65\n",
      "TL3.141709\t4.23\tENVO:shrubland\t68.63333333\n",
      "HF1.141663\t4.25\tENVO:Temperate broadleaf and mixed forest biome\t42.5\n",
      "PE3.141731\t4.25\tENVO:Tropical humid forests\t-13.08333333\n",
      "BB1.141690\t4.3\tENVO:Tropical humid forests\t44.87\n",
      "MP2.141695\t4.38\tENVO:Temperate broadleaf and mixed forest biome\t49.46666667\n",
      "MP1.141661\t4.56\tENVO:Temperate grasslands\t49.46666667\n",
      "TL1.141653\t4.58\tENVO:grassland\t68.63333333\n",
      "BB2.141659\t4.6\tENVO:Temperate broadleaf and mixed forest biome\t44.86666667\n",
      "LQ3.141712\t4.67\tENVO:Tropical humid forests\t18.3\n",
      "CL3.141664\t4.89\tENVO:Temperate broadleaf and mixed forest biome\t34.61666667\n",
      "LQ1.141701\t4.89\tENVO:Tropical humid forests\t18.3\n",
      "HI4.141735\t4.92\tENVO:Tropical and subtropical grasslands, savannas, and shrubland biome\t20.08333333\n",
      "SN1.141681\t4.95\tENVO:Temperate broadleaf and mixed forest biome\t36.45\n",
      "LQ2.141729\t5.03\tENVO:Tropical humid forests\t18.3\n",
      "CL4.141667\t5.03\tENVO:Temperate grasslands\t34.61666667\n",
      "DF3.141696\t5.05\tENVO:Temperate broadleaf and mixed forest biome\t35.96666667\n",
      "BZ1.141724\t5.12\tENVO:forest\t64.8\n",
      "SP2.141678\t5.13\tENVO:Temperate grasslands\t36.61666667\n",
      "IE1.141648\t5.27\tENVO:Temperate grasslands\t41.8\n",
      "HJ2.141717\t5.36\tENVO:Temperate broadleaf and mixed forest biome\t44.21666667\n",
      "DF1.141684\t5.37\tENVO:Temperate broadleaf and mixed forest biome\t35.96666667\n",
      "HJ1.141718\t5.41\tENVO:Temperate broadleaf and mixed forest biome\t44.21666667\n",
      "IT2.141720\t5.42\tENVO:Temperate broadleaf and mixed forest biome\t47.18333333\n",
      "SK1.141669\t5.45\tENVO:forest\t53.9\n",
      "PE7.141734\t5.51\tENVO:Tropical humid forests\t-12.65\n",
      "IE2.141655\t5.52\tENVO:Temperate grasslands\t41.8\n",
      "VC1.141722\t5.55\tENVO:forest\t35.9\n",
      "CL2.141671\t5.57\tENVO:Temperate grasslands\t34.61666667\n",
      "CL1.141697\t5.68\tENVO:Temperate broadleaf and mixed forest biome\t34.61666667\n",
      "CO2.141657\t5.68\tENVO:forest\t40.58333333\n",
      "SN3.141650\t5.74\tENVO:shrubland\t36.45\n",
      "IT1.141711\t5.78\tENVO:Temperate broadleaf and mixed forest biome\t47.16666667\n",
      "AR1.141727\t5.8\tENVO:Tropical humid forests\t-27.73333333\n",
      "SK3.141716\t5.83\tENVO:forest\t53.6\n",
      "AR3.141705\t5.9\tENVO:Tropical humid forests\t-27.73333333\n",
      "VC2.141694\t5.99\tENVO:grassland\t35.9\n",
      "AR2.141703\t6.0\tENVO:Tropical humid forests\t-27.73333333\n",
      "CO3.141651\t6.02\tENVO:grassland\t40.8\n",
      "CC1.141721\t6.06\tENVO:Temperate grasslands\t45.4\n",
      "CO1.141714\t6.13\tENVO:forest\t40.4\n",
      "SK2.141662\t6.18\tENVO:forest\t53.98333333\n",
      "SP1.141656\t6.25\tENVO:shrubland\t36.5\n",
      "HI2.141672\t6.32\tENVO:Tropical and subtropical grasslands, savannas, and shrubland biome\t20.08333333\n",
      "KP1.141713\t6.37\tENVO:Temperate grasslands\t39.1\n",
      "HI1.141693\t6.45\tENVO:Tropical and subtropical grasslands, savannas, and shrubland biome\t20.08333333\n",
      "TL2.141706\t6.47\tENVO:shrubland\t68.63333333\n",
      "HI3.141676\t6.53\tENVO:Tropical and subtropical grasslands, savannas, and shrubland biome\t20.08333333\n",
      "MT2.141698\t6.66\tENVO:forest\t46.8\n",
      "DF2.141726\t6.84\tENVO:Temperate broadleaf and mixed forest biome\t35.96666667\n",
      "GB1.141665\t6.84\tENVO:grassland\t39.33333333\n",
      "SR1.141680\t6.84\tENVO:shrubland\t34.7\n",
      "SA1.141670\t6.9\tENVO:forest\t35.36666667\n",
      "SR3.141674\t6.95\tENVO:shrubland\t34.68333333\n",
      "KP4.141733\t7.1\tENVO:shrubland\t39.1\n",
      "GB3.141652\t7.18\tENVO:forest\t39.31666667\n",
      "CA1.141704\t7.27\tENVO:forest\t36.05\n",
      "BP1.141702\t7.53\tENVO:grassland\t43.75\n",
      "GB2.141732\t7.57\tENVO:forest\t39.31666667\n",
      "MT1.141719\t7.57\tENVO:forest\t46.8\n",
      "JT1.141699\t7.6\tENVO:shrubland\t33.96666667\n",
      "MD2.141689\t7.65\tENVO:shrubland\t34.9\n",
      "SF1.141728\t7.71\tENVO:shrubland\t35.38333333\n",
      "CM1.141723\t7.85\tENVO:Temperate grasslands\t33.3\n",
      "MD3.141707\t7.9\tENVO:shrubland\t34.9\n",
      "KP3.141658\t7.92\tENVO:shrubland\t39.1\n",
      "SB1.141730\t7.92\tENVO:shrubland\t34.46666667\n",
      "RT1.141654\t7.92\tENVO:shrubland\t31.46666667\n",
      "SR2.141673\t8.0\tENVO:shrubland\t34.68333333\n",
      "CR1.141682\t8.0\tENVO:Temperate grasslands\t33.93333333\n",
      "CA2.141685\t8.02\tENVO:shrubland\t36.05\n",
      "RT2.141710\t8.07\tENVO:Temperate grasslands\t31.46666667\n",
      "MD5.141688\t8.07\tENVO:shrubland\t35.2\n",
      "SA2.141687\t8.1\tENVO:shrubland\t35.36666667\n",
      "GB5.141668\t8.22\tENVO:shrubland\t39.35\n",
      "SV1.141649\t8.31\tENVO:shrubland\t34.33333333\n",
      "SF2.141677\t8.38\tENVO:shrubland\t35.38333333\n",
      "SV2.141666\t8.44\tENVO:grassland\t34.33333333\n",
      "MD4.141660\t8.86\tENVO:shrubland\t35.2\"\"\"\n",
      "\n",
      "soil_sample_md = pd.read_csv(StringIO(soil_sample_md_str), sep='\\t', index_col=0)\n",
      "print soil_sample_md\n",
      "\n",
      "\n",
      "\n",
      "\n"
     ],
     "language": "python",
     "metadata": {},
     "outputs": [
      {
       "output_type": "stream",
       "stream": "stdout",
       "text": [
        "              PH                                          ENV_BIOME   LATITUDE\n",
        "CF3.141691  3.56    ENVO:Temperate broadleaf and mixed forest biome  42.116667\n",
        "PE5.141692  3.57                        ENVO:Tropical humid forests -12.633333\n",
        "BF2.141708  3.61    ENVO:Temperate broadleaf and mixed forest biome  41.583333\n",
        "CF2.141679  3.63    ENVO:Temperate broadleaf and mixed forest biome  41.933333\n",
        "CF1.141675  3.92    ENVO:Temperate broadleaf and mixed forest biome  42.158333\n",
        "HF2.141686  3.98    ENVO:Temperate broadleaf and mixed forest biome  42.500000\n",
        "BF1.141647  4.05    ENVO:Temperate broadleaf and mixed forest biome  41.583333\n",
        "PE4.141683  4.10                        ENVO:Tropical humid forests -13.083333\n",
        "PE2.141725  4.11                        ENVO:Tropical humid forests -13.083333\n",
        "PE1.141715  4.12                        ENVO:Tropical humid forests -13.083333\n",
        "PE6.141700  4.12                        ENVO:Tropical humid forests -12.650000\n",
        "TL3.141709  4.23                                     ENVO:shrubland  68.633333\n",
        "HF1.141663  4.25    ENVO:Temperate broadleaf and mixed forest biome  42.500000\n",
        "PE3.141731  4.25                        ENVO:Tropical humid forests -13.083333\n",
        "BB1.141690  4.30                        ENVO:Tropical humid forests  44.870000\n",
        "MP2.141695  4.38    ENVO:Temperate broadleaf and mixed forest biome  49.466667\n",
        "MP1.141661  4.56                          ENVO:Temperate grasslands  49.466667\n",
        "TL1.141653  4.58                                     ENVO:grassland  68.633333\n",
        "BB2.141659  4.60    ENVO:Temperate broadleaf and mixed forest biome  44.866667\n",
        "LQ3.141712  4.67                        ENVO:Tropical humid forests  18.300000\n",
        "CL3.141664  4.89    ENVO:Temperate broadleaf and mixed forest biome  34.616667\n",
        "LQ1.141701  4.89                        ENVO:Tropical humid forests  18.300000\n",
        "HI4.141735  4.92  ENVO:Tropical and subtropical grasslands, sava...  20.083333\n",
        "SN1.141681  4.95    ENVO:Temperate broadleaf and mixed forest biome  36.450000\n",
        "LQ2.141729  5.03                        ENVO:Tropical humid forests  18.300000\n",
        "CL4.141667  5.03                          ENVO:Temperate grasslands  34.616667\n",
        "DF3.141696  5.05    ENVO:Temperate broadleaf and mixed forest biome  35.966667\n",
        "BZ1.141724  5.12                                        ENVO:forest  64.800000\n",
        "SP2.141678  5.13                          ENVO:Temperate grasslands  36.616667\n",
        "IE1.141648  5.27                          ENVO:Temperate grasslands  41.800000\n",
        "HJ2.141717  5.36    ENVO:Temperate broadleaf and mixed forest biome  44.216667\n",
        "DF1.141684  5.37    ENVO:Temperate broadleaf and mixed forest biome  35.966667\n",
        "HJ1.141718  5.41    ENVO:Temperate broadleaf and mixed forest biome  44.216667\n",
        "IT2.141720  5.42    ENVO:Temperate broadleaf and mixed forest biome  47.183333\n",
        "SK1.141669  5.45                                        ENVO:forest  53.900000\n",
        "PE7.141734  5.51                        ENVO:Tropical humid forests -12.650000\n",
        "IE2.141655  5.52                          ENVO:Temperate grasslands  41.800000\n",
        "VC1.141722  5.55                                        ENVO:forest  35.900000\n",
        "CL2.141671  5.57                          ENVO:Temperate grasslands  34.616667\n",
        "CL1.141697  5.68    ENVO:Temperate broadleaf and mixed forest biome  34.616667\n",
        "CO2.141657  5.68                                        ENVO:forest  40.583333\n",
        "SN3.141650  5.74                                     ENVO:shrubland  36.450000\n",
        "IT1.141711  5.78    ENVO:Temperate broadleaf and mixed forest biome  47.166667\n",
        "AR1.141727  5.80                        ENVO:Tropical humid forests -27.733333\n",
        "SK3.141716  5.83                                        ENVO:forest  53.600000\n",
        "AR3.141705  5.90                        ENVO:Tropical humid forests -27.733333\n",
        "VC2.141694  5.99                                     ENVO:grassland  35.900000\n",
        "AR2.141703  6.00                        ENVO:Tropical humid forests -27.733333\n",
        "CO3.141651  6.02                                     ENVO:grassland  40.800000\n",
        "CC1.141721  6.06                          ENVO:Temperate grasslands  45.400000\n",
        "CO1.141714  6.13                                        ENVO:forest  40.400000\n",
        "SK2.141662  6.18                                        ENVO:forest  53.983333\n",
        "SP1.141656  6.25                                     ENVO:shrubland  36.500000\n",
        "HI2.141672  6.32  ENVO:Tropical and subtropical grasslands, sava...  20.083333\n",
        "KP1.141713  6.37                          ENVO:Temperate grasslands  39.100000\n",
        "HI1.141693  6.45  ENVO:Tropical and subtropical grasslands, sava...  20.083333\n",
        "TL2.141706  6.47                                     ENVO:shrubland  68.633333\n",
        "HI3.141676  6.53  ENVO:Tropical and subtropical grasslands, sava...  20.083333\n",
        "MT2.141698  6.66                                        ENVO:forest  46.800000\n",
        "DF2.141726  6.84    ENVO:Temperate broadleaf and mixed forest biome  35.966667\n",
        "             ...                                                ...        ...\n",
        "\n",
        "[89 rows x 3 columns]\n"
       ]
      }
     ],
     "prompt_number": 68
    },
    {
     "cell_type": "code",
     "collapsed": false,
     "input": [
      "soil_dm_str = \"\"\"\tIT2.141720\tHI3.141676\tMD2.141689\tCA1.141704\tPE5.141692\tCO1.141714\tDF3.141696\tPE1.141715\tSP2.141678\tCO3.141651\tSA2.141687\tCM1.141723\tLQ2.141729\tSR2.141673\tCR1.141682\tVC1.141722\tIE2.141655\tRT2.141710\tCC1.141721\tTL2.141706\tPE6.141700\tHI1.141693\tPE7.141734\tBF1.141647\tMP2.141695\tKP1.141713\tCL3.141664\tSK3.141716\tSF1.141728\tPE4.141683\tBP1.141702\tSB1.141730\tSF2.141677\tSN1.141681\tSA1.141670\tKP3.141658\tIE1.141648\tCL1.141697\tMD5.141688\tSR1.141680\tHI2.141672\tMT1.141719\tTL3.141709\tSV1.141649\tCO2.141657\tMT2.141698\tHF1.141663\tCF2.141679\tRT1.141654\tGB1.141665\tDF1.141684\tPE2.141725\tCA2.141685\tCF1.141675\tGB5.141668\tLQ3.141712\tDF2.141726\tLQ1.141701\tMD4.141660\tIT1.141711\tBF2.141708\tSN3.141650\tTL1.141653\tAR3.141705\tJT1.141699\tBZ1.141724\tHI4.141735\tAR2.141703\tSV2.141666\tMD3.141707\tKP4.141733\tHJ2.141717\tSR3.141674\tCF3.141691\tSK2.141662\tAR1.141727\tBB2.141659\tGB3.141652\tHJ1.141718\tPE3.141731\tMP1.141661\tSP1.141656\tCL4.141667\tHF2.141686\tVC2.141694\tGB2.141732\tCL2.141671\tSK1.141669\n",
      "IT2.141720\t0.0\t0.725773091052\t0.840423748527\t0.758482011874\t0.771359564922\t0.701826470377\t0.703129567066\t0.759157912705\t0.733834113466\t0.728857809727\t0.779159522647\t0.779077557214\t0.771873434323\t0.793005811266\t0.779888061433\t0.667300873793\t0.640906302613\t0.784000837393\t0.692952713183\t0.752485289039\t0.776979159076\t0.824563507319\t0.722355420178\t0.735134301999\t0.697642054616\t0.719166984884\t0.678999994481\t0.637515880591\t0.786679757284\t0.790354038163\t0.755533203689\t0.783381686383\t0.830620234033\t0.75646306659\t0.728694333885\t0.778714889996\t0.660807943732\t0.693423789512\t0.838269383093\t0.746090037924\t0.760916673451\t0.734032134333\t0.700861918649\t0.836923582576\t0.653458845523\t0.638683822007\t0.753317335989\t0.80785480165\t0.77652521287\t0.755777524938\t0.668460544639\t0.772640789823\t0.777783719901\t0.763243754162\t0.802743437466\t0.798105495544\t0.722004061492\t0.770545467085\t0.876612094285\t0.640903736276\t0.741517185699\t0.726887960639\t0.740259851582\t0.753887960732\t0.821143939862\t0.652739486274\t0.78666651507\t0.73784805049\t0.826864477696\t0.830157365182\t0.711727965435\t0.658102009525\t0.783980531592\t0.82161856584\t0.710510899571\t0.74654765423\t0.777694289473\t0.725898143961\t0.708411254858\t0.77617146466\t0.704315546191\t0.722196372016\t0.723687929105\t0.770607237982\t0.713622333656\t0.770994532905\t0.713860366658\t0.673966462302\n",
      "HI3.141676\t0.725773091052\t0.0\t0.81429343677\t0.704665508827\t0.844842481347\t0.741592097109\t0.77993688397\t0.840415653631\t0.793692039276\t0.73462144505\t0.748971911772\t0.726967385044\t0.806249711955\t0.747223990154\t0.726444982036\t0.735887881472\t0.69770222342\t0.714504901033\t0.70646384851\t0.738422613935\t0.817166853011\t0.79288700253\t0.715694868608\t0.821348150515\t0.810171843632\t0.695878471242\t0.726284278394\t0.766466567718\t0.729117548277\t0.855397762605\t0.697311848764\t0.720575594818\t0.781619830918\t0.824432503645\t0.742774527311\t0.692466768727\t0.67562843859\t0.739137708135\t0.805357753547\t0.693125255157\t0.733787366154\t0.676144596063\t0.805080331155\t0.814804616773\t0.724618208348\t0.705956537748\t0.83058108071\t0.869761152057\t0.718627893901\t0.726922123354\t0.76965150158\t0.835449205807\t0.740776552254\t0.807102707019\t0.747249905597\t0.830017228532\t0.652435950745\t0.792999185826\t0.839742991202\t0.70729868634\t0.828030738304\t0.768700087368\t0.833690812475\t0.685875755202\t0.802664501304\t0.789331736942\t0.818764478591\t0.696691764219\t0.801976687282\t0.798461810061\t0.666367634388\t0.75021673688\t0.72531515505\t0.87371599298\t0.746251775006\t0.713439352711\t0.830441268028\t0.689037145585\t0.789717105851\t0.829189945535\t0.793596976211\t0.705973521787\t0.712975534343\t0.839352222705\t0.71075488152\t0.71206229417\t0.700396287442\t0.784531402763\n",
      "MD2.141689\t0.840423748527\t0.81429343677\t0.0\t0.746520096574\t0.88760585428\t0.797294357301\t0.868194577459\t0.881765126376\t0.868516190918\t0.762795500279\t0.735334884156\t0.808751822141\t0.875553646567\t0.67864427186\t0.770165085885\t0.823355752554\t0.821204500737\t0.78717159326\t0.819016238986\t0.851417586185\t0.882892475174\t0.73945867647\t0.853574027459\t0.874712411813\t0.858530990581\t0.795486334044\t0.852024218899\t0.850647116438\t0.700201392784\t0.891812250929\t0.757845378831\t0.71161079096\t0.654155972636\t0.829284103694\t0.73364306828\t0.787195983486\t0.842024508449\t0.852452605398\t0.638075501449\t0.754625993223\t0.804373137596\t0.81351771316\t0.853124210063\t0.604686583191\t0.822305326325\t0.823810266968\t0.872066389807\t0.901704083136\t0.796714315897\t0.71620113723\t0.855576402608\t0.869997687833\t0.739660111692\t0.873243042166\t0.668985930799\t0.880044779978\t0.825228753019\t0.865538294052\t0.694235142588\t0.828622421807\t0.877323266126\t0.77633980072\t0.871972417202\t0.832669314188\t0.638767783691\t0.852473067506\t0.892169390036\t0.839222502153\t0.616619726252\t0.608185255122\t0.793956150507\t0.852932510351\t0.715473308803\t0.905377211994\t0.8464667955\t0.818747345545\t0.868163796082\t0.793072256006\t0.843330717689\t0.881565195289\t0.855258825558\t0.77884674162\t0.816955958717\t0.884155144409\t0.770377998309\t0.747001448824\t0.829163370451\t0.84125975609\n",
      "CA1.141704\t0.758482011874\t0.704665508827\t0.746520096574\t0.0\t0.864457805475\t0.709445648312\t0.829472621217\t0.858239914754\t0.811825652188\t0.661045684539\t0.65794176434\t0.703023584226\t0.836874803642\t0.658709237576\t0.680075618307\t0.735500992613\t0.72904417536\t0.698957499106\t0.712113313084\t0.725173723859\t0.842216816076\t0.78627834568\t0.761988529372\t0.851152316998\t0.833594088464\t0.687245040254\t0.76137815712\t0.791039771569\t0.655964075997\t0.884698247334\t0.651622255046\t0.683515442701\t0.702586011866\t0.827971851617\t0.676864474754\t0.696916909616\t0.748503873342\t0.754490209797\t0.794978591406\t0.647139653868\t0.787233044906\t0.694396584761\t0.823425661703\t0.745785284058\t0.724608641344\t0.711706052509\t0.8640955885\t0.895160861788\t0.708725196696\t0.640023870345\t0.798848964148\t0.849435226727\t0.607475382778\t0.858361139887\t0.68827743653\t0.862534174637\t0.713619265134\t0.833901721981\t0.817408722742\t0.729757766678\t0.857441315808\t0.741821002834\t0.839170444899\t0.727572885222\t0.751533995993\t0.803164301688\t0.85698333904\t0.745888090994\t0.726309630882\t0.766499619083\t0.696622673929\t0.752703538113\t0.681854897974\t0.902217157188\t0.741753630523\t0.753128102784\t0.853209737603\t0.666137427308\t0.798937677593\t0.85959893929\t0.817143715833\t0.670163054887\t0.75631808707\t0.876014949306\t0.695058991488\t0.632045389698\t0.745395557492\t0.802090919047\n",
      "PE5.141692\t0.771359564922\t0.844842481347\t0.88760585428\t0.864457805475\t0.0\t0.845818399475\t0.687665997056\t0.636487291322\t0.738010912081\t0.812566357989\t0.865485790103\t0.868234390325\t0.682374001252\t0.871083004944\t0.872344762121\t0.80052054247\t0.794387394303\t0.861174933218\t0.820213972414\t0.84915777173\t0.646132454796\t0.858072554376\t0.773660636707\t0.662497570886\t0.694653318567\t0.849413632276\t0.745495375448\t0.742729077253\t0.874939320877\t0.608025609053\t0.860947318323\t0.86809773012\t0.891308559891\t0.788430835983\t0.849150967687\t0.865901931992\t0.802117585933\t0.732457690067\t0.888955427624\t0.856465387962\t0.827393158652\t0.86592238082\t0.709546037837\t0.89791545284\t0.796208932978\t0.802851265845\t0.669674141769\t0.70111220887\t0.870618505486\t0.867068977134\t0.740382028757\t0.693578150717\t0.877323057868\t0.698663834425\t0.888090492655\t0.673072834119\t0.840395566157\t0.75777425288\t0.909516261776\t0.815725429545\t0.675817072916\t0.81971066228\t0.778376893482\t0.82754703566\t0.899838806239\t0.744306398546\t0.743584456297\t0.831103755948\t0.892091550025\t0.886732524628\t0.845877826604\t0.76056292442\t0.874508881968\t0.683099220853\t0.831739420003\t0.835904945733\t0.718443198271\t0.838609461325\t0.749828090683\t0.616498812321\t0.714103352794\t0.833033117018\t0.778213349223\t0.684182167348\t0.808667885206\t0.874000155512\t0.803646149281\t0.757202316601\n",
      "CO1.141714\t0.701826470377\t0.741592097109\t0.797294357301\t0.709445648312\t0.845818399475\t0.0\t0.783542540367\t0.83921586106\t0.77241642283\t0.707242620534\t0.755505241034\t0.781309451413\t0.824398434366\t0.748625952809\t0.779358359946\t0.672382074031\t0.679511117223\t0.770542168481\t0.706971441315\t0.734758646115\t0.82635663189\t0.814643836036\t0.776428099901\t0.813985995187\t0.780522635614\t0.745644384649\t0.726770661408\t0.708545826305\t0.764351453917\t0.856313845859\t0.709846737221\t0.741664918384\t0.77486070035\t0.753661288151\t0.700327728059\t0.766320907675\t0.718933751925\t0.762711503564\t0.814739334195\t0.723181781599\t0.798359191777\t0.742494042586\t0.775214787008\t0.806350875416\t0.673315235424\t0.682229231222\t0.818591995203\t0.864036905321\t0.790553187439\t0.714115996809\t0.742844058375\t0.827522763616\t0.756638841505\t0.830420628365\t0.756872709118\t0.835425293592\t0.756659425164\t0.816326607343\t0.836989180708\t0.696972735314\t0.805316222255\t0.671144220669\t0.797769114063\t0.756578609073\t0.792722559973\t0.722359318109\t0.825194981264\t0.76477220949\t0.788834444516\t0.792823136623\t0.727375793632\t0.724170001708\t0.737269438796\t0.878315694715\t0.734825967476\t0.761878108235\t0.823549513674\t0.715683670904\t0.756257777735\t0.833671076529\t0.778340785101\t0.700818101966\t0.729729299347\t0.840337744149\t0.707534609909\t0.734445360388\t0.721950100873\t0.7312195981\n",
      "DF3.141696\t0.703129567066\t0.77993688397\t0.868194577459\t0.829472621217\t0.687665997056\t0.783542540367\t0.0\t0.67259196636\t0.691059722298\t0.788354441309\t0.834355233899\t0.833614246515\t0.707328995193\t0.840635667045\t0.838618765224\t0.732282961226\t0.716506100671\t0.829236520199\t0.766185183113\t0.810563567535\t0.69804305061\t0.83371239657\t0.749320410482\t0.653849845862\t0.657706653003\t0.812102215213\t0.656890248525\t0.676892115458\t0.837613898876\t0.697858758804\t0.82413700179\t0.837848152447\t0.870040988918\t0.743537980269\t0.81319295055\t0.839039865949\t0.73587632348\t0.661736720843\t0.867410150701\t0.810512302516\t0.782255509709\t0.82111618802\t0.65755706484\t0.882781445907\t0.725692327223\t0.743902232785\t0.635947727533\t0.727988390789\t0.837471553774\t0.826074713469\t0.665777000518\t0.71977389406\t0.84481635113\t0.666204950601\t0.852565471972\t0.726135973874\t0.78922830885\t0.736359341407\t0.897293436128\t0.751557922894\t0.677820272629\t0.779117782739\t0.755544363413\t0.791360067642\t0.870963428815\t0.685052988159\t0.70360531656\t0.788308218602\t0.863650793482\t0.858556411253\t0.800674039008\t0.69975054384\t0.827248878353\t0.734921435387\t0.786373955582\t0.794253324271\t0.701710331124\t0.790108849618\t0.671714344819\t0.68797405464\t0.691372287918\t0.786542592456\t0.732935216409\t0.665883334697\t0.768556021105\t0.854646046721\t0.732598123492\t0.683121159457\n",
      "PE1.141715\t0.759157912705\t0.840415653631\t0.881765126376\t0.858239914754\t0.636487291322\t0.83921586106\t0.67259196636\t0.0\t0.71707907341\t0.824251536046\t0.859930532777\t0.857991642038\t0.71053485237\t0.870371273876\t0.870010184484\t0.792712975418\t0.776796210654\t0.85039475219\t0.798047962057\t0.839104786808\t0.690002607463\t0.849859795678\t0.77106969353\t0.659405757273\t0.66825780799\t0.840473629692\t0.728610924548\t0.703451815224\t0.872683467839\t0.623142635198\t0.857593689387\t0.87001539661\t0.89172523266\t0.785917354724\t0.849847144416\t0.857903389931\t0.773460966558\t0.723258912759\t0.87792806532\t0.848679905899\t0.82532382892\t0.851767837836\t0.706756514296\t0.891038147849\t0.778764994873\t0.791641982742\t0.651756893815\t0.719835521661\t0.87043710991\t0.852329691091\t0.711858221284\t0.624159317868\t0.86687621503\t0.676067010672\t0.873383537153\t0.701222947934\t0.824318724963\t0.732141477538\t0.902938092579\t0.805482709558\t0.689103150204\t0.821984192086\t0.759311153687\t0.820567123911\t0.881651476748\t0.724358760311\t0.728211317649\t0.814388528339\t0.890911243332\t0.87136751646\t0.828976917881\t0.744424940536\t0.87221887496\t0.6867591797\t0.807663299423\t0.806313613938\t0.706825193863\t0.839026964343\t0.720878157725\t0.603029451919\t0.699456696089\t0.822439626464\t0.781969112594\t0.652984881002\t0.812657135171\t0.862470516065\t0.79780306402\t0.755930422531\n",
      "SP2.141678\t0.733834113466\t0.793692039276\t0.868516190918\t0.811825652188\t0.738010912081\t0.77241642283\t0.691059722298\t0.71707907341\t0.0\t0.784878483446\t0.837401489276\t0.828875434699\t0.756783109579\t0.842443438713\t0.842344742885\t0.736618779194\t0.725898659561\t0.830750173154\t0.753106723879\t0.771840325344\t0.729769159496\t0.835168572598\t0.7568801097\t0.696387556883\t0.686815358071\t0.81147000027\t0.715837161478\t0.686614237821\t0.837842883587\t0.765894671756\t0.818645642813\t0.836418893534\t0.855901266132\t0.754977729403\t0.815935895523\t0.823779453221\t0.730250045352\t0.730211188839\t0.866371680678\t0.800543583673\t0.815103446415\t0.81905693441\t0.693808653912\t0.871996479807\t0.741565787031\t0.742839845162\t0.692708055202\t0.768826919463\t0.840004756388\t0.815884916633\t0.695160801387\t0.730991678664\t0.824791558891\t0.70777205938\t0.841445655169\t0.740458709307\t0.792515605324\t0.731112247606\t0.889227221478\t0.755814178825\t0.730728192703\t0.76008986703\t0.700045946964\t0.791592600714\t0.863372598427\t0.695712427626\t0.700085508054\t0.792760912785\t0.86222369994\t0.85351565461\t0.798410017846\t0.687683085231\t0.828322879517\t0.780822594856\t0.766185185574\t0.793804218083\t0.692302692993\t0.80153752729\t0.67990172952\t0.714809653421\t0.683800250685\t0.784794919774\t0.758564389048\t0.743270793638\t0.764164355083\t0.826204667726\t0.75773899141\t0.723513824746\n",
      "CO3.141651\t0.728857809727\t0.73462144505\t0.762795500279\t0.661045684539\t0.812566357989\t0.707242620534\t0.788354441309\t0.824251536046\t0.784878483446\t0.0\t0.703038409514\t0.741648220397\t0.807416882564\t0.686387126298\t0.718692938842\t0.725031317479\t0.705751640203\t0.730371791039\t0.708274709212\t0.749675433299\t0.804130879475\t0.762432729927\t0.758331364881\t0.810847766873\t0.795808299223\t0.696128673102\t0.72829612156\t0.755692960687\t0.697870581167\t0.841617501897\t0.664724373526\t0.717457135295\t0.738859271259\t0.759950171723\t0.667202089025\t0.742157347087\t0.736411277536\t0.726486447016\t0.798193983877\t0.66021607033\t0.73046140988\t0.75180310546\t0.768583772757\t0.779167651223\t0.692336061678\t0.688650329686\t0.810843390609\t0.852697710292\t0.745847973316\t0.701711026871\t0.75100411499\t0.820986719879\t0.671640359541\t0.808987527016\t0.723360384149\t0.816997542507\t0.756536274665\t0.806234225273\t0.829944461183\t0.743393430273\t0.812615591153\t0.675973844667\t0.822100266528\t0.699914907977\t0.775258889503\t0.76782749339\t0.812974142516\t0.739924044512\t0.747622388586\t0.765542338916\t0.694414439295\t0.749771220136\t0.694201138619\t0.858056548\t0.76329759714\t0.739720569932\t0.810991772858\t0.689819590321\t0.753250208983\t0.815778574072\t0.771872875944\t0.651626188349\t0.707914683679\t0.827680895118\t0.647314738749\t0.695879701421\t0.681958043459\t0.737931920496\n",
      "SA2.141687\t0.779159522647\t0.748971911772\t0.735334884156\t0.65794176434\t0.865485790103\t0.755505241034\t0.834355233899\t0.859930532777\t0.837401489276\t0.703038409514\t0.0\t0.705311950633\t0.838282046908\t0.635495189234\t0.722675416152\t0.764800147138\t0.76882577951\t0.712404277462\t0.745727843909\t0.758982265689\t0.856926876788\t0.791074704609\t0.779613506542\t0.858838091035\t0.834490998254\t0.727803573744\t0.783502834302\t0.814129338471\t0.66779833512\t0.884266363012\t0.669028400108\t0.691103837434\t0.695152158015\t0.830573704333\t0.664690562864\t0.714443960138\t0.781302096797\t0.795571315405\t0.769239684627\t0.689375574015\t0.771613250929\t0.715701400643\t0.840777075772\t0.707852243199\t0.762797334078\t0.736549854424\t0.863324133378\t0.897280664834\t0.714361589922\t0.679457343211\t0.809441475058\t0.852584326724\t0.651782715904\t0.878386969029\t0.661966806804\t0.863085212828\t0.744183180783\t0.843111502142\t0.807027223876\t0.779701104811\t0.86816812113\t0.76721806775\t0.854848136275\t0.743563636606\t0.74028978077\t0.826661460803\t0.863808609763\t0.755044729753\t0.698945571407\t0.738177840359\t0.726206923747\t0.781533339812\t0.710147439431\t0.912904216004\t0.767646384776\t0.766379796199\t0.863363917278\t0.696992168017\t0.804731059845\t0.870291133454\t0.840538484781\t0.710082741172\t0.78440334936\t0.891223298179\t0.73475744922\t0.634899737912\t0.784995003277\t0.821181930555\n",
      "CM1.141723\t0.779077557214\t0.726967385044\t0.808751822141\t0.703023584226\t0.868234390325\t0.781309451413\t0.833614246515\t0.857991642038\t0.828875434699\t0.741648220397\t0.705311950633\t0.0\t0.833284385792\t0.698647582582\t0.638507643135\t0.779621218158\t0.759078582308\t0.600797771225\t0.726909687787\t0.761601280066\t0.850858904272\t0.798569170526\t0.755411100208\t0.85118353212\t0.844160513622\t0.700148947983\t0.779850325776\t0.8110962908\t0.732409363381\t0.886302928407\t0.682261235402\t0.704149467029\t0.749264529436\t0.838942192551\t0.764866219214\t0.617266806866\t0.749433291355\t0.771762830717\t0.797553295971\t0.717100814611\t0.784265608414\t0.695606435068\t0.850316283678\t0.796966352522\t0.778572739916\t0.767840089697\t0.846300406184\t0.902997856548\t0.593691431066\t0.712743561299\t0.810772544699\t0.850523502313\t0.699722560733\t0.862470227453\t0.726218690033\t0.844621596662\t0.701754594741\t0.835027330383\t0.826588682382\t0.777838898117\t0.881227348575\t0.79371114945\t0.869680547024\t0.703168472928\t0.786872082185\t0.810479731343\t0.855308364472\t0.70099513347\t0.76914594767\t0.798426973081\t0.663119049829\t0.810775570242\t0.734226258909\t0.909186703963\t0.779320388087\t0.705303186181\t0.856122591078\t0.705972422181\t0.824954646378\t0.867024930485\t0.834702657821\t0.729864700353\t0.753693065609\t0.867234991527\t0.725149389329\t0.675452873053\t0.761509560089\t0.823124060588\n",
      "LQ2.141729\t0.771873434323\t0.806249711955\t0.875553646567\t0.836874803642\t0.682374001252\t0.824398434366\t0.707328995193\t0.71053485237\t0.756783109579\t0.807416882564\t0.838282046908\t0.833284385792\t0.0\t0.845680515759\t0.83658133747\t0.800101425206\t0.769177469399\t0.831656822439\t0.792191168579\t0.814254448313\t0.63458500578\t0.821969466646\t0.721009098133\t0.723155811836\t0.706819279886\t0.826791404195\t0.748256058507\t0.759742514943\t0.846269269206\t0.704121846178\t0.834915200057\t0.85162601626\t0.871376822251\t0.817924332009\t0.849346870546\t0.832486720336\t0.772416955502\t0.743694130835\t0.859033338561\t0.832330581039\t0.795272014011\t0.849354072548\t0.766564628902\t0.885212984199\t0.793727787668\t0.794572562357\t0.723488044173\t0.740933918519\t0.835671832495\t0.833163378977\t0.743269783817\t0.728613820153\t0.858250328324\t0.733820615284\t0.857529649241\t0.666643274917\t0.810088964135\t0.734016616138\t0.895148747778\t0.810386684569\t0.72019419991\t0.815610867919\t0.783534173261\t0.783417516492\t0.867177795779\t0.770169194806\t0.678124775046\t0.785178933951\t0.872572956786\t0.871758375485\t0.805969465569\t0.758744662481\t0.842289126025\t0.758578278268\t0.816361229208\t0.792811484097\t0.727310921447\t0.799288150128\t0.754548568735\t0.673839285199\t0.741108769666\t0.812675673757\t0.742448001348\t0.735634048261\t0.800480544075\t0.849515947701\t0.778526897193\t0.755217446253\n",
      "SR2.141673\t0.793005811266\t0.747223990154\t0.67864427186\t0.658709237576\t0.871083004944\t0.748625952809\t0.840635667045\t0.870371273876\t0.842443438713\t0.686387126298\t0.635495189234\t0.698647582582\t0.845680515759\t0.0\t0.681397405071\t0.762612253515\t0.764651738798\t0.697634160038\t0.751379802455\t0.779361198446\t0.854979519052\t0.766034183474\t0.785218710767\t0.865981882917\t0.851182896039\t0.735259324206\t0.801711411429\t0.817203292254\t0.62654897933\t0.88892914054\t0.668505866055\t0.629487679568\t0.640312208208\t0.83080258644\t0.676314984064\t0.694109085235\t0.790129273643\t0.7929845126\t0.744375206268\t0.665615071567\t0.791246018414\t0.747114891693\t0.817645926908\t0.68043761518\t0.753100753884\t0.775120499647\t0.861704173237\t0.900939281881\t0.69949221772\t0.653610840536\t0.820274384809\t0.848544490545\t0.638709579716\t0.867842017221\t0.645111518129\t0.861525687031\t0.758881955637\t0.844263432479\t0.77837278228\t0.776654657581\t0.869176969536\t0.770826552817\t0.85593481368\t0.764639879972\t0.696224309354\t0.815202856768\t0.864785834391\t0.77403729995\t0.655899441967\t0.715976394412\t0.726725367393\t0.790191452797\t0.655589488905\t0.910496002937\t0.796976939799\t0.777017964429\t0.860540013083\t0.720552780385\t0.818225060212\t0.870279325125\t0.840536341577\t0.699715221345\t0.783493783577\t0.889042410545\t0.718765195529\t0.668264491098\t0.776245244538\t0.82191314658\n",
      "CR1.141682\t0.779888061433\t0.726444982036\t0.770165085885\t0.680075618307\t0.872344762121\t0.779358359946\t0.838618765224\t0.870010184484\t0.842344742885\t0.718692938842\t0.722675416152\t0.638507643135\t0.83658133747\t0.681397405071\t0.0\t0.778610437063\t0.759809984757\t0.622823502511\t0.73605246628\t0.763529064881\t0.839064209861\t0.792381139213\t0.760626415457\t0.858917572403\t0.84387861183\t0.682668814085\t0.778028421733\t0.811789363109\t0.693566074352\t0.881990704942\t0.678702049626\t0.699671173321\t0.710859271744\t0.841653129227\t0.74248607128\t0.632654530787\t0.770468875297\t0.784690957579\t0.76832899316\t0.688354237779\t0.787195923915\t0.728926788286\t0.843253127075\t0.75556143777\t0.772393003415\t0.770698876494\t0.85481740449\t0.895183873351\t0.607162441621\t0.69651754313\t0.80946021145\t0.847784548931\t0.68810596536\t0.850010625242\t0.69554264464\t0.849659487592\t0.723062183156\t0.823151885306\t0.80798096466\t0.761800136689\t0.868740355105\t0.793059219689\t0.861308612151\t0.701734699323\t0.775306635803\t0.818747615993\t0.852625870852\t0.723460696346\t0.715489480589\t0.76483932267\t0.66753270657\t0.800597670401\t0.718680215026\t0.907262644143\t0.789591534197\t0.716943972817\t0.852374123494\t0.706848470525\t0.822970255019\t0.86341518169\t0.835489422175\t0.713833115724\t0.754138156441\t0.868728551256\t0.720212169885\t0.688543055343\t0.746855720937\t0.816435570277\n",
      "VC1.141722\t0.667300873793\t0.735887881472\t0.823355752554\t0.735500992613\t0.80052054247\t0.672382074031\t0.732282961226\t0.792712975418\t0.736618779194\t0.725031317479\t0.764800147138\t0.779621218158\t0.800101425206\t0.762612253515\t0.778610437063\t0.0\t0.679786276869\t0.76790748862\t0.695662055829\t0.729382010493\t0.792523123815\t0.826371683399\t0.751126150208\t0.765597342645\t0.738505508792\t0.722102166078\t0.675949631388\t0.664550896788\t0.773921182068\t0.796597907822\t0.72713773241\t0.756506254024\t0.815205640576\t0.766723416525\t0.725142729687\t0.767564172721\t0.700127101029\t0.71378095005\t0.837961230313\t0.72933600179\t0.789685379904\t0.726442143595\t0.730434873445\t0.828516305179\t0.654237193381\t0.654448704052\t0.765010904911\t0.825763452265\t0.77635842845\t0.716870873802\t0.670383565938\t0.778265143564\t0.751048857663\t0.773288013108\t0.78506119248\t0.797217859438\t0.736977024711\t0.796177064019\t0.863515905328\t0.672352337346\t0.770976129567\t0.720270712711\t0.772203126103\t0.743889288395\t0.811647197085\t0.673299120636\t0.785342505833\t0.738043667043\t0.819155115172\t0.824362122001\t0.713253002134\t0.68473667596\t0.744073286994\t0.836273373634\t0.728289041834\t0.763779621677\t0.792007189004\t0.707137063976\t0.71093656244\t0.801834680598\t0.727909782339\t0.708600231448\t0.722703435595\t0.774114230451\t0.696387849976\t0.753568917792\t0.695651663401\t0.702129776343\n",
      "IE2.141655\t0.640906302613\t0.69770222342\t0.821204500737\t0.72904417536\t0.794387394303\t0.679511117223\t0.716506100671\t0.776796210654\t0.725898659561\t0.705751640203\t0.76882577951\t0.759078582308\t0.769177469399\t0.764651738798\t0.759809984757\t0.679786276869\t0.0\t0.767035682833\t0.655917328884\t0.731455151643\t0.779182602253\t0.794651607765\t0.715422769554\t0.751271116964\t0.725415967837\t0.683939496308\t0.660068931276\t0.680654379107\t0.773457979874\t0.804375515117\t0.73374761111\t0.755846705765\t0.8018900672\t0.748431377699\t0.729285518492\t0.767003637676\t0.608616163877\t0.686523508784\t0.826260045439\t0.709457157981\t0.771792065189\t0.709590977805\t0.744197898904\t0.831311016324\t0.678743803422\t0.631586254389\t0.757018467258\t0.819221250894\t0.765092400954\t0.735266148253\t0.667427341309\t0.777404094028\t0.763444215625\t0.759667285565\t0.779185566334\t0.787458169921\t0.700870466695\t0.76020357933\t0.858920644907\t0.636889718158\t0.769787121613\t0.703264923553\t0.769565676597\t0.715103475076\t0.819412569946\t0.676011987709\t0.773469262855\t0.70743451709\t0.80939992279\t0.811456520233\t0.673280765522\t0.675573406305\t0.742756595559\t0.834009400394\t0.708927460989\t0.737543848698\t0.769148152673\t0.711862325997\t0.702387079173\t0.774955620755\t0.714530715176\t0.668538337679\t0.687929862504\t0.790244779836\t0.656341427193\t0.733058031358\t0.651169888444\t0.703262973651\n",
      "RT2.141710\t0.784000837393\t0.714504901033\t0.78717159326\t0.698957499106\t0.861174933218\t0.770542168481\t0.829236520199\t0.85039475219\t0.830750173154\t0.730371791039\t0.712404277462\t0.600797771225\t0.831656822439\t0.697634160038\t0.622823502511\t0.76790748862\t0.767035682833\t0.0\t0.735704187218\t0.748567322092\t0.836027230604\t0.783425390753\t0.750308130308\t0.835055193289\t0.837610187802\t0.706968247579\t0.771545872095\t0.812459259466\t0.704282769584\t0.878061387235\t0.666865672938\t0.701188156028\t0.728653473707\t0.833634168305\t0.721440063488\t0.616480080006\t0.757423963554\t0.744119275356\t0.80528321173\t0.699747093299\t0.773366683271\t0.712319918289\t0.842632137884\t0.773679492489\t0.765709295759\t0.752246024737\t0.845084479626\t0.889343368237\t0.569277443512\t0.698154177134\t0.808979165221\t0.843829412152\t0.690321224812\t0.856081867188\t0.712641802895\t0.841136161672\t0.704707597511\t0.826279987525\t0.830916434445\t0.746368063685\t0.863483329618\t0.783704676627\t0.861727917832\t0.685331653839\t0.782881117515\t0.817300810412\t0.852635723231\t0.705478131054\t0.748420689514\t0.781366878611\t0.668224564526\t0.779266222612\t0.717844462919\t0.898380058816\t0.776448401108\t0.721323277399\t0.836729712138\t0.693307897403\t0.803628974461\t0.85003531817\t0.820764206987\t0.701171677338\t0.758667220661\t0.860835373051\t0.73754725046\t0.673653230302\t0.756546671436\t0.814004504088\n",
      "CC1.141721\t0.692952713183\t0.70646384851\t0.819016238986\t0.712113313084\t0.820213972414\t0.706971441315\t0.766185183113\t0.798047962057\t0.753106723879\t0.708274709212\t0.745727843909\t0.726909687787\t0.792191168579\t0.751379802455\t0.73605246628\t0.695662055829\t0.655917328884\t0.735704187218\t0.0\t0.709321676283\t0.799561000734\t0.814935915561\t0.689004675148\t0.793712480256\t0.772429216314\t0.70163029715\t0.699847431311\t0.706357650495\t0.742444815294\t0.830760867864\t0.695733005245\t0.75302277993\t0.797792468323\t0.808356483408\t0.730452190534\t0.744317488914\t0.683120734661\t0.703453953314\t0.829503486021\t0.703796735929\t0.778973888576\t0.677231925211\t0.787941605074\t0.81654903395\t0.706305301724\t0.662542616104\t0.792514293982\t0.840607072763\t0.753330147862\t0.702283917452\t0.718878504591\t0.786607608827\t0.733677874942\t0.774149075313\t0.769504764675\t0.810541772956\t0.664619411375\t0.773824087945\t0.867261222182\t0.666994194424\t0.805851892003\t0.734984295315\t0.803276379537\t0.702715092266\t0.819455027325\t0.71635868189\t0.806504901786\t0.703386169882\t0.797166629747\t0.807608669568\t0.683247906828\t0.721841637429\t0.739972782547\t0.857782992451\t0.725595189282\t0.721381752396\t0.79367996072\t0.701575704356\t0.755563020301\t0.801910773217\t0.77059548501\t0.694580667882\t0.710019180318\t0.817955239376\t0.6557433525\t0.701916751581\t0.689915792303\t0.753669878145\n",
      "TL2.141706\t0.752485289039\t0.738422613935\t0.851417586185\t0.725173723859\t0.84915777173\t0.734758646115\t0.810563567535\t0.839104786808\t0.771840325344\t0.749675433299\t0.758982265689\t0.761601280066\t0.814254448313\t0.779361198446\t0.763529064881\t0.729382010493\t0.731455151643\t0.748567322092\t0.709321676283\t0.0\t0.803466335525\t0.819545591599\t0.727732800211\t0.829405374386\t0.818206836482\t0.752696872726\t0.749337644953\t0.748334461267\t0.768663266182\t0.865976468659\t0.722375067593\t0.792222532824\t0.810126302266\t0.854614270039\t0.771833800232\t0.750980473516\t0.697586663977\t0.753128938782\t0.862312738017\t0.72865905199\t0.796357973499\t0.684121749391\t0.81930946909\t0.844023164204\t0.742590347222\t0.713382875826\t0.843248688165\t0.883441809986\t0.76641349967\t0.750441036567\t0.77596033445\t0.818701689511\t0.749390164803\t0.847303181765\t0.792432749338\t0.829321090127\t0.698155037543\t0.789260396662\t0.877296272715\t0.730444538101\t0.853937915098\t0.792500913024\t0.779277384827\t0.708596779384\t0.845338436734\t0.760661264322\t0.80404305677\t0.734410252108\t0.834945325677\t0.839206324376\t0.716485188372\t0.729376434624\t0.78522254999\t0.893664837566\t0.685075900157\t0.739238258969\t0.812867260613\t0.693128357064\t0.775101484237\t0.83464557581\t0.797362503075\t0.729430738656\t0.788636774944\t0.851111430626\t0.709079480929\t0.728078250552\t0.751563116106\t0.803409848127\n",
      "PE6.141700\t0.776979159076\t0.817166853011\t0.882892475174\t0.842216816076\t0.646132454796\t0.82635663189\t0.69804305061\t0.690002607463\t0.729769159496\t0.804130879475\t0.856926876788\t0.850858904272\t0.63458500578\t0.854979519052\t0.839064209861\t0.792523123815\t0.779182602253\t0.836027230604\t0.799561000734\t0.803466335525\t0.0\t0.847426525371\t0.723537074044\t0.686921587143\t0.725455315475\t0.822409955576\t0.733504566035\t0.753328743593\t0.85779962736\t0.705967858299\t0.842544934946\t0.860512835503\t0.875223241931\t0.816598506134\t0.851943221587\t0.832306843531\t0.776056533839\t0.719611376705\t0.877472425163\t0.836924544989\t0.814485390546\t0.842506723367\t0.757616817258\t0.882788177304\t0.790295832566\t0.797829248724\t0.716529397441\t0.758459227732\t0.841781184113\t0.837539299702\t0.744828396122\t0.719394084203\t0.862419208596\t0.729334859676\t0.862240180115\t0.683076803195\t0.804937226745\t0.726005194866\t0.911289877171\t0.80955083219\t0.718823736033\t0.815887099889\t0.792097480619\t0.789266101075\t0.883237111157\t0.751630723418\t0.686431238318\t0.784390941598\t0.880120079963\t0.873016986493\t0.807250756691\t0.740163430566\t0.854269421601\t0.734572113664\t0.811030528734\t0.793656420131\t0.730917164815\t0.818086107697\t0.742767501204\t0.672714495193\t0.706804662862\t0.813952346709\t0.744931612501\t0.727007922727\t0.802939081576\t0.846225316004\t0.757698941496\t0.77377147222\n",
      "HI1.141693\t0.824563507319\t0.79288700253\t0.73945867647\t0.78627834568\t0.858072554376\t0.814643836036\t0.83371239657\t0.849859795678\t0.835168572598\t0.762432729927\t0.791074704609\t0.798569170526\t0.821969466646\t0.766034183474\t0.792381139213\t0.826371683399\t0.794651607765\t0.783425390753\t0.814935915561\t0.819545591599\t0.847426525371\t0.0\t0.819479974245\t0.84684351806\t0.835649569047\t0.781464221192\t0.816914429026\t0.832132876304\t0.772986667449\t0.866265549327\t0.778906289908\t0.783842948689\t0.748860795453\t0.799059353923\t0.780458780025\t0.786949059793\t0.814982168163\t0.817751747845\t0.766609699935\t0.77609517874\t0.763089742313\t0.833991587114\t0.848327137046\t0.76471394971\t0.795676883686\t0.811613078363\t0.848608795731\t0.874792747873\t0.792178441006\t0.785388350966\t0.823829850633\t0.839706579019\t0.779098244349\t0.842526645031\t0.766338742597\t0.854098987973\t0.814280176094\t0.833019398568\t0.764004534646\t0.820607408838\t0.85958413785\t0.780440400592\t0.861280758208\t0.777485332847\t0.759385829732\t0.849380938387\t0.847317837043\t0.803915704268\t0.755256712781\t0.741169391433\t0.780290459457\t0.811628756573\t0.778212248794\t0.879116536392\t0.826197395653\t0.77855595941\t0.823919460954\t0.784669504061\t0.796524941288\t0.840509650122\t0.834225564742\t0.782672300792\t0.805424451503\t0.864344327398\t0.781702051654\t0.784083591095\t0.81521784111\t0.811811506882\n",
      "PE7.141734\t0.722355420178\t0.715694868608\t0.853574027459\t0.761988529372\t0.773660636707\t0.776428099901\t0.749320410482\t0.77106969353\t0.7568801097\t0.758331364881\t0.779613506542\t0.755411100208\t0.721009098133\t0.785218710767\t0.760626415457\t0.751126150208\t0.715422769554\t0.750308130308\t0.689004675148\t0.727732800211\t0.723537074044\t0.819479974245\t0.0\t0.772602761798\t0.776059267145\t0.748905466869\t0.700921970799\t0.728200322892\t0.790137921749\t0.790137241786\t0.772432685931\t0.790331272719\t0.830592331693\t0.832274494437\t0.780892510677\t0.759624320473\t0.68268696433\t0.699712469949\t0.8523892821\t0.746013103795\t0.791519520449\t0.733286366053\t0.771272130116\t0.847523781415\t0.750512165369\t0.733010518737\t0.781754671344\t0.829931038706\t0.75797510656\t0.770349310414\t0.735988752191\t0.764561384722\t0.775699567731\t0.774699488543\t0.808951362706\t0.745242218279\t0.692037519917\t0.722162788342\t0.8809270802\t0.730417518182\t0.797949538331\t0.790742235293\t0.804462961794\t0.697639205245\t0.856326440442\t0.739426622573\t0.768491435275\t0.685856386435\t0.837344348928\t0.836870906544\t0.714385669014\t0.721514621161\t0.788081795552\t0.841377031985\t0.746311580458\t0.680749773043\t0.790245994953\t0.756493749776\t0.762395676647\t0.76282766951\t0.772506622167\t0.747938978935\t0.725603710821\t0.801849604228\t0.731395561479\t0.768804971837\t0.72246988506\t0.790669441712\n",
      "BF1.141647\t0.735134301999\t0.821348150515\t0.874712411813\t0.851152316998\t0.662497570886\t0.813985995187\t0.653849845862\t0.659405757273\t0.696387556883\t0.810847766873\t0.858838091035\t0.85118353212\t0.723155811836\t0.865981882917\t0.858917572403\t0.765597342645\t0.751271116964\t0.835055193289\t0.793712480256\t0.829405374386\t0.686921587143\t0.84684351806\t0.772602761798\t0.0\t0.649336267957\t0.839760011328\t0.694667361066\t0.704750443286\t0.865708664723\t0.673911197281\t0.844278663847\t0.866973884951\t0.868737527496\t0.755902225709\t0.833803225406\t0.844537006765\t0.760685301542\t0.722547424742\t0.874981148695\t0.83141951775\t0.806306344482\t0.845947607258\t0.69683314748\t0.881091251602\t0.776287736426\t0.770877824957\t0.61704133899\t0.674628008147\t0.861421704488\t0.847448073753\t0.687071982169\t0.703337213519\t0.860086142102\t0.623791589325\t0.863446825867\t0.714506481421\t0.823143827354\t0.75529721931\t0.9030449087\t0.780415126809\t0.627593894033\t0.78663575701\t0.738246024948\t0.808127232172\t0.880863135971\t0.696814742377\t0.722311373135\t0.823540557127\t0.871594897806\t0.862925088201\t0.824468858734\t0.704845046156\t0.856883199136\t0.671860719608\t0.790138725204\t0.808899775819\t0.664009455802\t0.821118922037\t0.694855515007\t0.667511117148\t0.662077904522\t0.81612466437\t0.768888153836\t0.635775284016\t0.786032105803\t0.861268828623\t0.766678118035\t0.729267507328\n",
      "MP2.141695\t0.697642054616\t0.810171843632\t0.858530990581\t0.833594088464\t0.694653318567\t0.780522635614\t0.657706653003\t0.66825780799\t0.686815358071\t0.795808299223\t0.834490998254\t0.844160513622\t0.706819279886\t0.851182896039\t0.84387861183\t0.738505508792\t0.725415967837\t0.837610187802\t0.772429216314\t0.818206836482\t0.725455315475\t0.835649569047\t0.776059267145\t0.649336267957\t0.0\t0.818509841241\t0.700025798168\t0.64564269524\t0.85011452552\t0.704706511281\t0.833352715315\t0.855352559245\t0.873081663305\t0.756302955879\t0.816244848335\t0.840940894641\t0.751861878414\t0.719969046217\t0.85713537084\t0.827525596954\t0.805365478028\t0.835205684398\t0.659476385505\t0.872403630202\t0.725828165748\t0.755282108068\t0.639459276736\t0.692679818811\t0.849385330001\t0.818989596367\t0.667611274334\t0.700611143507\t0.84384700745\t0.65571599957\t0.863909083225\t0.736690225336\t0.820541595803\t0.76341060037\t0.895840600831\t0.775555143225\t0.652542871162\t0.772291856544\t0.737528062437\t0.808350611626\t0.876240709612\t0.642214666725\t0.739194600577\t0.805932812982\t0.868510369521\t0.865636253103\t0.811533211967\t0.688151181265\t0.851976283741\t0.715821827937\t0.796941343939\t0.802880449301\t0.680880094477\t0.80619210053\t0.669522101695\t0.674551228276\t0.605050082901\t0.807277581499\t0.760291188397\t0.64854609308\t0.766643831029\t0.837943721195\t0.779913619543\t0.679808173491\n",
      "KP1.141713\t0.719166984884\t0.695878471242\t0.795486334044\t0.687245040254\t0.849413632276\t0.745644384649\t0.812102215213\t0.840473629692\t0.81147000027\t0.696128673102\t0.727803573744\t0.700148947983\t0.826791404195\t0.735259324206\t0.682668814085\t0.722102166078\t0.683939496308\t0.706968247579\t0.70163029715\t0.752696872726\t0.822409955576\t0.781464221192\t0.748905466869\t0.839760011328\t0.818509841241\t0.0\t0.742617190197\t0.780517401741\t0.720322245143\t0.863610561579\t0.670270843067\t0.722839316502\t0.760581507436\t0.812531565874\t0.721743308381\t0.695669790387\t0.726641067943\t0.754625715518\t0.810545271055\t0.680639177543\t0.744366386792\t0.707113666772\t0.827926153319\t0.787872934111\t0.727379461681\t0.704144824432\t0.829986991113\t0.881187017822\t0.688537623631\t0.686321401412\t0.759830422472\t0.844854165556\t0.684267882453\t0.830677664566\t0.729767016672\t0.839501381306\t0.680608345479\t0.825898391635\t0.854917405907\t0.695099543292\t0.857402160078\t0.751479193417\t0.858273564517\t0.667612410223\t0.785932285769\t0.789254627155\t0.839601803064\t0.701077373106\t0.772194440055\t0.79064669179\t0.624995547617\t0.756073964233\t0.708392581684\t0.886388440299\t0.74048113731\t0.691463081411\t0.8426989821\t0.688511561036\t0.78576869639\t0.838330436408\t0.796369444306\t0.682620029979\t0.719027623923\t0.850533574247\t0.676570436042\t0.687593993656\t0.721905945293\t0.786178142443\n",
      "CL3.141664\t0.678999994481\t0.726284278394\t0.852024218899\t0.76137815712\t0.745495375448\t0.726770661408\t0.656890248525\t0.728610924548\t0.715837161478\t0.72829612156\t0.783502834302\t0.779850325776\t0.748256058507\t0.801711411429\t0.778028421733\t0.675949631388\t0.660068931276\t0.771545872095\t0.699847431311\t0.749337644953\t0.733504566035\t0.816914429026\t0.700921970799\t0.694667361066\t0.700025798168\t0.742617190197\t0.0\t0.66447979478\t0.789635027035\t0.750057517794\t0.759005439498\t0.783922682774\t0.831498951458\t0.75741118912\t0.768572889068\t0.769941719307\t0.681599108488\t0.633221821038\t0.851734119015\t0.740728888323\t0.772538805889\t0.753669235396\t0.69378582543\t0.847518525963\t0.693183376853\t0.684207676958\t0.719828121638\t0.771423604316\t0.777875520431\t0.766724211719\t0.645665193578\t0.745234165012\t0.788887020778\t0.722223132912\t0.804686770643\t0.766674606384\t0.720745147176\t0.752200020501\t0.881344682185\t0.706048277966\t0.710523010823\t0.756700391823\t0.764245496488\t0.731901037053\t0.836249526489\t0.678242085893\t0.731569604845\t0.728643858699\t0.839907335957\t0.839474054687\t0.727266140328\t0.68789390335\t0.777729105061\t0.788502970875\t0.727662145373\t0.747571785492\t0.747089827634\t0.744134109298\t0.694226033328\t0.743140068465\t0.717283569296\t0.712550974897\t0.6603153984\t0.739642229848\t0.721663255289\t0.778750962915\t0.629557344015\t0.702153083184\n",
      "SK3.141716\t0.637515880591\t0.766466567718\t0.850647116438\t0.791039771569\t0.742729077253\t0.708545826305\t0.676892115458\t0.703451815224\t0.686614237821\t0.755692960687\t0.814129338471\t0.8110962908\t0.759742514943\t0.817203292254\t0.811789363109\t0.664550896788\t0.680654379107\t0.812459259466\t0.706357650495\t0.748334461267\t0.753328743593\t0.832132876304\t0.728200322892\t0.704750443286\t0.64564269524\t0.780517401741\t0.66447979478\t0.0\t0.815471425621\t0.750327379884\t0.78365110375\t0.803734804586\t0.843700875301\t0.743060292511\t0.777957584171\t0.810877960415\t0.681604500855\t0.698361832115\t0.858851682976\t0.765582297283\t0.799918443932\t0.779268697308\t0.679783842011\t0.85267236306\t0.676393945731\t0.674743324676\t0.712433390955\t0.779314931646\t0.811901010995\t0.786558266046\t0.626429923687\t0.715744694711\t0.799150832949\t0.713670065973\t0.821117120349\t0.770049719832\t0.760186415803\t0.747905257554\t0.88894693942\t0.693398626004\t0.706388676358\t0.72164586394\t0.720702433087\t0.775782223007\t0.852392038632\t0.584048078566\t0.755577815534\t0.761577515877\t0.847689436156\t0.847227422126\t0.752998091639\t0.661233504684\t0.808999009976\t0.774973958252\t0.708874499747\t0.76993438331\t0.724451530524\t0.771934535582\t0.668857288111\t0.738091570358\t0.690661314517\t0.746959553708\t0.732454508825\t0.738040106634\t0.724919029001\t0.810168353197\t0.729317687442\t0.656183111229\n",
      "SF1.141728\t0.786679757284\t0.729117548277\t0.700201392784\t0.655964075997\t0.874939320877\t0.764351453917\t0.837613898876\t0.872683467839\t0.837842883587\t0.697870581167\t0.66779833512\t0.732409363381\t0.846269269206\t0.62654897933\t0.693566074352\t0.773921182068\t0.773457979874\t0.704282769584\t0.742444815294\t0.768663266182\t0.85779962736\t0.772986667449\t0.790137921749\t0.865708664723\t0.85011452552\t0.720322245143\t0.789635027035\t0.815471425621\t0.0\t0.883700514721\t0.655087407807\t0.651376295212\t0.642947103526\t0.832844432399\t0.686146486696\t0.699380490114\t0.787913070841\t0.794766513339\t0.753168631705\t0.671296318585\t0.783901642496\t0.738842124373\t0.841186228827\t0.690947946041\t0.749055737358\t0.77399878441\t0.866267535922\t0.899918371643\t0.692995555458\t0.683257353808\t0.814632760145\t0.865898482163\t0.658178005689\t0.868392445517\t0.649880312411\t0.866677154354\t0.746270419822\t0.847428955172\t0.779937112625\t0.774534308126\t0.864311784501\t0.765604642036\t0.851276763112\t0.766864919784\t0.725355017308\t0.825275820594\t0.865333990144\t0.777206149216\t0.683482195276\t0.730568708499\t0.727474420584\t0.791664177531\t0.667856100827\t0.903309757149\t0.791818894552\t0.776419845802\t0.854876719946\t0.709104498775\t0.830781567451\t0.871003964265\t0.840739294571\t0.70738690954\t0.768201372361\t0.878115100752\t0.740070761202\t0.659605362215\t0.775284115744\t0.823802643262\n",
      "PE4.141683\t0.790354038163\t0.855397762605\t0.891812250929\t0.884698247334\t0.608025609053\t0.856313845859\t0.697858758804\t0.623142635198\t0.765894671756\t0.841617501897\t0.884266363012\t0.886302928407\t0.704121846178\t0.88892914054\t0.881990704942\t0.796597907822\t0.804375515117\t0.878061387235\t0.830760867864\t0.865976468659\t0.705967858299\t0.866265549327\t0.790137241786\t0.673911197281\t0.704706511281\t0.863610561579\t0.750057517794\t0.750327379884\t0.883700514721\t0.0\t0.880570340822\t0.888064257235\t0.899489912351\t0.811880242687\t0.867183970912\t0.878223294231\t0.811538299881\t0.757194299828\t0.890807934695\t0.86969185194\t0.837923045635\t0.885116975545\t0.715608731303\t0.898950122381\t0.801142572021\t0.82656426941\t0.671234324898\t0.667373629953\t0.886361439801\t0.883160619142\t0.732441919224\t0.636741963922\t0.891891127253\t0.680799906585\t0.886505833391\t0.692775302213\t0.864668638391\t0.748553102947\t0.915545241142\t0.837363487785\t0.677226800752\t0.851643334771\t0.801802120801\t0.850423372054\t0.893201245358\t0.761401280972\t0.725864855813\t0.852268902229\t0.901799741429\t0.882164335594\t0.863512874309\t0.772847143775\t0.881848080268\t0.665562540664\t0.842593321231\t0.84933773755\t0.721084242879\t0.86176965778\t0.746934731683\t0.60199781592\t0.719197304417\t0.86084585693\t0.812269108288\t0.656070957254\t0.842059387299\t0.884111307714\t0.809585278998\t0.763273198585\n",
      "BP1.141702\t0.755533203689\t0.697311848764\t0.757845378831\t0.651622255046\t0.860947318323\t0.709846737221\t0.82413700179\t0.857593689387\t0.818645642813\t0.664724373526\t0.669028400108\t0.682261235402\t0.834915200057\t0.668505866055\t0.678702049626\t0.72713773241\t0.73374761111\t0.666865672938\t0.695733005245\t0.722375067593\t0.842544934946\t0.778906289908\t0.772432685931\t0.844278663847\t0.833352715315\t0.670270843067\t0.759005439498\t0.78365110375\t0.655087407807\t0.880570340822\t0.0\t0.678692483942\t0.692017857033\t0.822849590547\t0.694938459512\t0.690284356132\t0.73566666875\t0.758688827944\t0.780963915557\t0.656379013872\t0.768784437995\t0.704390824577\t0.830767819457\t0.753126367094\t0.736427557052\t0.719439745224\t0.845154139737\t0.886518812428\t0.675334268551\t0.651052562274\t0.792193415539\t0.84880112963\t0.647547222099\t0.851235808769\t0.673611873563\t0.852557260892\t0.72429977013\t0.829526957974\t0.824558321524\t0.735987544613\t0.855725123325\t0.739208446567\t0.847613775318\t0.703645483707\t0.75479758115\t0.802410419345\t0.851893311327\t0.740398886758\t0.723952705972\t0.757120346565\t0.669702170773\t0.766374637746\t0.684913439589\t0.899922793851\t0.74848678173\t0.730702245749\t0.834367800174\t0.65039998134\t0.794355884183\t0.856175436856\t0.805937616591\t0.665416198445\t0.73696596013\t0.8680183401\t0.671013306447\t0.617102771113\t0.752867926027\t0.791789365256\n",
      "SB1.141730\t0.783381686383\t0.720575594818\t0.71161079096\t0.683515442701\t0.86809773012\t0.741664918384\t0.837848152447\t0.87001539661\t0.836418893534\t0.717457135295\t0.691103837434\t0.704149467029\t0.85162601626\t0.629487679568\t0.699671173321\t0.756506254024\t0.755846705765\t0.701188156028\t0.75302277993\t0.792222532824\t0.860512835503\t0.783842948689\t0.790331272719\t0.866973884951\t0.855352559245\t0.722839316502\t0.783922682774\t0.803734804586\t0.651376295212\t0.888064257235\t0.678692483942\t0.0\t0.668908451461\t0.834638737979\t0.699591549781\t0.698176087792\t0.774445095101\t0.792047812658\t0.741196786921\t0.667565844459\t0.794471227785\t0.715275170938\t0.821202980373\t0.691793049752\t0.765629463199\t0.753450021083\t0.868074723497\t0.901300187825\t0.704640232284\t0.666514329583\t0.803984186734\t0.858567129445\t0.669908387649\t0.869040733592\t0.636730891931\t0.862737605387\t0.732511111819\t0.838897428284\t0.790039914396\t0.761019259331\t0.852780667436\t0.758245589038\t0.855273548314\t0.769836287081\t0.710389958251\t0.816247834657\t0.859154685755\t0.785951488568\t0.690471963308\t0.730596014304\t0.724430488403\t0.808502377035\t0.636396451068\t0.907886032385\t0.786753582472\t0.785088042752\t0.863906747966\t0.725768479104\t0.826468057743\t0.868953606787\t0.834533005395\t0.677726649764\t0.767945116413\t0.881913071593\t0.724459714468\t0.676800645518\t0.765915147902\t0.815177493712\n",
      "SF2.141677\t0.830620234033\t0.781619830918\t0.654155972636\t0.702586011866\t0.891308559891\t0.77486070035\t0.870040988918\t0.89172523266\t0.855901266132\t0.738859271259\t0.695152158015\t0.749264529436\t0.871376822251\t0.640312208208\t0.710859271744\t0.815205640576\t0.8018900672\t0.728653473707\t0.797792468323\t0.810126302266\t0.875223241931\t0.748860795453\t0.830592331693\t0.868737527496\t0.873081663305\t0.760581507436\t0.831498951458\t0.843700875301\t0.642947103526\t0.899489912351\t0.692017857033\t0.668908451461\t0.0\t0.839029710402\t0.717289066319\t0.711869620385\t0.809976186081\t0.831219072863\t0.707749415811\t0.71456577346\t0.813346939172\t0.774715185342\t0.852680973491\t0.607335831561\t0.806962253186\t0.813298074013\t0.874512528766\t0.914590514392\t0.742956563962\t0.700571277646\t0.84229746456\t0.878974157071\t0.701776886266\t0.88033167648\t0.622799761335\t0.88690951421\t0.785753640481\t0.867701578296\t0.718241521092\t0.809209812313\t0.877351448428\t0.782883560997\t0.87022431036\t0.789414920439\t0.691813541905\t0.849101542868\t0.882829691644\t0.793654128294\t0.602689663454\t0.651701109819\t0.758476906686\t0.821600961953\t0.699340093436\t0.918605766316\t0.820632270316\t0.796688972026\t0.870511024079\t0.754067408397\t0.843357267586\t0.887424312976\t0.848820948224\t0.740983321555\t0.793351855937\t0.898197320086\t0.760632930054\t0.701954495981\t0.797341731143\t0.841684348216\n",
      "SN1.141681\t0.75646306659\t0.824432503645\t0.829284103694\t0.827971851617\t0.788430835983\t0.753661288151\t0.743537980269\t0.785917354724\t0.754977729403\t0.759950171723\t0.830573704333\t0.838942192551\t0.817924332009\t0.83080258644\t0.841653129227\t0.766723416525\t0.748431377699\t0.833634168305\t0.808356483408\t0.854614270039\t0.816598506134\t0.799059353923\t0.832274494437\t0.755902225709\t0.756302955879\t0.812531565874\t0.75741118912\t0.743060292511\t0.832844432399\t0.811880242687\t0.822849590547\t0.834638737979\t0.839029710402\t0.0\t0.756439274744\t0.847810955295\t0.79105268867\t0.788756531736\t0.83136737793\t0.816534493801\t0.80393684579\t0.837055867691\t0.728371902543\t0.843947990395\t0.724337524649\t0.743617230071\t0.759472865929\t0.815034954273\t0.849801822611\t0.812948946742\t0.754662111975\t0.801721652525\t0.816538239292\t0.778286216842\t0.835040662019\t0.808111899847\t0.833250225454\t0.838215036374\t0.84868157032\t0.782024610921\t0.761621294653\t0.678492329138\t0.756102304219\t0.813351601181\t0.821012459586\t0.747797937436\t0.826825237907\t0.837170946612\t0.826461599934\t0.843035757713\t0.819202022992\t0.751679467936\t0.808056015948\t0.815506409146\t0.814687773572\t0.84053241514\t0.781773290665\t0.809033398121\t0.732200252934\t0.803370367029\t0.750276790156\t0.771019258023\t0.76698235206\t0.775923619821\t0.761734802906\t0.841850450134\t0.779371890673\t0.701138200838\n",
      "SA1.141670\t0.728694333885\t0.742774527311\t0.73364306828\t0.676864474754\t0.849150967687\t0.700327728059\t0.81319295055\t0.849847144416\t0.815935895523\t0.667202089025\t0.664690562864\t0.764866219214\t0.849346870546\t0.676314984064\t0.74248607128\t0.725142729687\t0.729285518492\t0.721440063488\t0.730452190534\t0.771833800232\t0.851943221587\t0.780458780025\t0.780892510677\t0.833803225406\t0.816244848335\t0.721743308381\t0.768572889068\t0.777957584171\t0.686146486696\t0.867183970912\t0.694938459512\t0.699591549781\t0.717289066319\t0.756439274744\t0.0\t0.74449548419\t0.746799299487\t0.772416992495\t0.786801417321\t0.692788252741\t0.776176973757\t0.726419747599\t0.804547000899\t0.740170609466\t0.708704979861\t0.70819587233\t0.841531456849\t0.872826761956\t0.751443581388\t0.684864746763\t0.770722745928\t0.841627589232\t0.677561307244\t0.842444202204\t0.711378074221\t0.853404291009\t0.744825115657\t0.836483508761\t0.817072077633\t0.727137569156\t0.833174226243\t0.700694027366\t0.825152163674\t0.758620186916\t0.740110319735\t0.785071094429\t0.853414639709\t0.763063142125\t0.715723163215\t0.744923667533\t0.713235091589\t0.752260463943\t0.694298443818\t0.886790137622\t0.751427108422\t0.779698409554\t0.835934509599\t0.71320314302\t0.795584395313\t0.850315750343\t0.812943337791\t0.681593480744\t0.768337536433\t0.853070772835\t0.710579083958\t0.695534295702\t0.75355544013\t0.767966829765\n",
      "KP3.141658\t0.778714889996\t0.692466768727\t0.787195983486\t0.696916909616\t0.865901931992\t0.766320907675\t0.839039865949\t0.857903389931\t0.823779453221\t0.742157347087\t0.714443960138\t0.617266806866\t0.832486720336\t0.694109085235\t0.632654530787\t0.767564172721\t0.767003637676\t0.616480080006\t0.744317488914\t0.750980473516\t0.832306843531\t0.786949059793\t0.759624320473\t0.844537006765\t0.840940894641\t0.695669790387\t0.769941719307\t0.810877960415\t0.699380490114\t0.878223294231\t0.690284356132\t0.698176087792\t0.711869620385\t0.847810955295\t0.74449548419\t0.0\t0.757731850305\t0.774731778594\t0.794844301172\t0.707152169362\t0.772214509607\t0.73354256359\t0.837454112895\t0.769120279892\t0.76564770838\t0.771778795512\t0.852616618609\t0.890898775584\t0.599367049302\t0.713667881206\t0.800429875998\t0.853562899495\t0.691347164106\t0.850948567951\t0.707935363631\t0.845735882841\t0.708822856312\t0.821991999346\t0.825271463795\t0.768332025438\t0.85468635799\t0.789377565975\t0.854732454226\t0.690426845005\t0.764304349572\t0.813886735065\t0.854065971024\t0.694983339192\t0.753547881828\t0.790430153402\t0.691188878421\t0.794901877553\t0.726281224082\t0.891347919061\t0.772529524898\t0.705353418799\t0.848344034255\t0.69910968012\t0.806248192875\t0.856142462515\t0.821483331789\t0.727337048023\t0.756843043507\t0.862697227388\t0.733314575624\t0.670386730768\t0.763336486511\t0.821362691168\n",
      "IE1.141648\t0.660807943732\t0.67562843859\t0.842024508449\t0.748503873342\t0.802117585933\t0.718933751925\t0.73587632348\t0.773460966558\t0.730250045352\t0.736411277536\t0.781302096797\t0.749433291355\t0.772416955502\t0.790129273643\t0.770468875297\t0.700127101029\t0.608616163877\t0.757423963554\t0.683120734661\t0.697586663977\t0.776056533839\t0.814982168163\t0.68268696433\t0.760685301542\t0.751861878414\t0.726641067943\t0.681599108488\t0.681604500855\t0.787913070841\t0.811538299881\t0.73566666875\t0.774445095101\t0.809976186081\t0.79105268867\t0.746799299487\t0.757731850305\t0.0\t0.693486928712\t0.83440004808\t0.728768225194\t0.776082354725\t0.702176038883\t0.759282907726\t0.845521125442\t0.709134188908\t0.673948101451\t0.782952172087\t0.825519860979\t0.750903795286\t0.758626122928\t0.670314173439\t0.768028858395\t0.776908670013\t0.773543610172\t0.784052694333\t0.785682168902\t0.684940050069\t0.750237493651\t0.865716803679\t0.659296989244\t0.774112071052\t0.750076042525\t0.776632256231\t0.711445938491\t0.8331554696\t0.703075839262\t0.765003152513\t0.701154823444\t0.836565575786\t0.823648360464\t0.690680605127\t0.682611612799\t0.772177582879\t0.846919440426\t0.704415382896\t0.714648112462\t0.783841237029\t0.7191106209\t0.723785164186\t0.798397562759\t0.728323398329\t0.707369948519\t0.707560085653\t0.789883257837\t0.695372891581\t0.744835907608\t0.678168586188\t0.74459360168\n",
      "CL1.141697\t0.693423789512\t0.739137708135\t0.852452605398\t0.754490209797\t0.732457690067\t0.762711503564\t0.661736720843\t0.723258912759\t0.730211188839\t0.726486447016\t0.795571315405\t0.771762830717\t0.743694130835\t0.7929845126\t0.784690957579\t0.71378095005\t0.686523508784\t0.744119275356\t0.703453953314\t0.753128938782\t0.719611376705\t0.817751747845\t0.699712469949\t0.722547424742\t0.719969046217\t0.754625715518\t0.633221821038\t0.698361832115\t0.794766513339\t0.757194299828\t0.758688827944\t0.792047812658\t0.831219072863\t0.788756531736\t0.772416992495\t0.774731778594\t0.693486928712\t0.0\t0.859896947152\t0.753590176031\t0.780416549777\t0.763619409656\t0.717370258121\t0.850948156191\t0.707711709753\t0.704334443888\t0.727452926172\t0.764277850833\t0.776079496646\t0.762792138204\t0.675593339389\t0.750912248803\t0.780279820788\t0.728941511717\t0.809290791433\t0.766451684457\t0.717617410811\t0.746245846473\t0.895394244344\t0.708591006129\t0.728352018257\t0.76876931054\t0.778196901791\t0.734113750777\t0.84039479331\t0.695352304063\t0.756519612745\t0.734840435725\t0.8295823744\t0.836418195216\t0.722057724269\t0.698137810347\t0.784682237503\t0.787591913976\t0.73680779414\t0.734055343707\t0.743715952704\t0.725951210222\t0.676964516046\t0.746119301156\t0.71685930503\t0.713326498038\t0.693910455149\t0.732274947001\t0.724879141875\t0.771160684122\t0.693450677791\t0.715329224577\n",
      "MD5.141688\t0.838269383093\t0.805357753547\t0.638075501449\t0.794978591406\t0.888955427624\t0.814739334195\t0.867410150701\t0.87792806532\t0.866371680678\t0.798193983877\t0.769239684627\t0.797553295971\t0.859033338561\t0.744375206268\t0.76832899316\t0.837961230313\t0.826260045439\t0.80528321173\t0.829503486021\t0.862312738017\t0.877472425163\t0.766609699935\t0.8523892821\t0.874981148695\t0.85713537084\t0.810545271055\t0.851734119015\t0.858851682976\t0.753168631705\t0.890807934695\t0.780963915557\t0.741196786921\t0.707749415811\t0.83136737793\t0.786801417321\t0.794844301172\t0.83440004808\t0.859896947152\t0.0\t0.800340245389\t0.839171892978\t0.827522224492\t0.867418677893\t0.6743067092\t0.847871778763\t0.829551785711\t0.872645826582\t0.890455914089\t0.802735124464\t0.759308650438\t0.855532451105\t0.867710411719\t0.789323637156\t0.870737950047\t0.705238994966\t0.875100392691\t0.840475822222\t0.865916549531\t0.6611365949\t0.831534387641\t0.883250172569\t0.799542580786\t0.880087955235\t0.834349461417\t0.651292459181\t0.862398943792\t0.882722782117\t0.828472848338\t0.666449097739\t0.65759914082\t0.805450506586\t0.84403337841\t0.748843191026\t0.89918720929\t0.857403821099\t0.825720350682\t0.875060548019\t0.808056665544\t0.851816342503\t0.877134567684\t0.840690778947\t0.802511897609\t0.820048961123\t0.872670172552\t0.812322185084\t0.777042889592\t0.845666360765\t0.84387524155\n",
      "SR1.141680\t0.746090037924\t0.693125255157\t0.754625993223\t0.647139653868\t0.856465387962\t0.723181781599\t0.810512302516\t0.848679905899\t0.800543583673\t0.66021607033\t0.689375574015\t0.717100814611\t0.832330581039\t0.665615071567\t0.688354237779\t0.72933600179\t0.709457157981\t0.699747093299\t0.703796735929\t0.72865905199\t0.836924544989\t0.77609517874\t0.746013103795\t0.83141951775\t0.827525596954\t0.680639177543\t0.740728888323\t0.765582297283\t0.671296318585\t0.86969185194\t0.656379013872\t0.667565844459\t0.71456577346\t0.816534493801\t0.692788252741\t0.707152169362\t0.728768225194\t0.753590176031\t0.800340245389\t0.0\t0.768212508376\t0.703898467653\t0.821498517528\t0.76064052396\t0.721912848803\t0.703306013676\t0.84565965181\t0.889479444213\t0.701295561514\t0.660811663089\t0.772109547166\t0.839270599231\t0.656279620523\t0.840051912603\t0.700638473476\t0.840291319268\t0.712891422367\t0.820268510388\t0.824999037778\t0.725123487838\t0.858938153853\t0.741967330411\t0.833589592368\t0.698770712976\t0.750734409707\t0.775362566748\t0.845337308309\t0.723299836265\t0.743343233272\t0.770425798197\t0.677968589568\t0.76095707198\t0.655671253826\t0.90292883427\t0.74190549994\t0.725132131291\t0.831198620193\t0.68463685521\t0.788928980306\t0.849846873694\t0.812767583157\t0.653993350149\t0.734150867579\t0.867277184482\t0.679892329604\t0.684411624551\t0.73562906966\t0.789672553182\n",
      "HI2.141672\t0.760916673451\t0.733787366154\t0.804373137596\t0.787233044906\t0.827393158652\t0.798359191777\t0.782255509709\t0.82532382892\t0.815103446415\t0.73046140988\t0.771613250929\t0.784265608414\t0.795272014011\t0.791246018414\t0.787195923915\t0.789685379904\t0.771792065189\t0.773366683271\t0.778973888576\t0.796357973499\t0.814485390546\t0.763089742313\t0.791519520449\t0.806306344482\t0.805365478028\t0.744366386792\t0.772538805889\t0.799918443932\t0.783901642496\t0.837923045635\t0.768784437995\t0.794471227785\t0.813346939172\t0.80393684579\t0.776176973757\t0.772214509607\t0.776082354725\t0.780416549777\t0.839171892978\t0.768212508376\t0.0\t0.787419669312\t0.836132513063\t0.820862079329\t0.76788390611\t0.760508307108\t0.811960954129\t0.851502010857\t0.786941792922\t0.783961434526\t0.781854905658\t0.824422954903\t0.793945823847\t0.818116577826\t0.772932625086\t0.830557148663\t0.768442860475\t0.817977509727\t0.866876396662\t0.786343079602\t0.824081034273\t0.790117291482\t0.849056947638\t0.749564837455\t0.833960320484\t0.815558648213\t0.81289074737\t0.756258249271\t0.81153678264\t0.818265555108\t0.754098926909\t0.786147475742\t0.770177613265\t0.843242265846\t0.783762118536\t0.762862196202\t0.82013393625\t0.747621654536\t0.777224948543\t0.8197875321\t0.799643262117\t0.763109134935\t0.758528768088\t0.822897780874\t0.75452338345\t0.781727738939\t0.749605300872\t0.79599170556\n",
      "MT1.141719\t0.734032134333\t0.676144596063\t0.81351771316\t0.694396584761\t0.86592238082\t0.742494042586\t0.82111618802\t0.851767837836\t0.81905693441\t0.75180310546\t0.715701400643\t0.695606435068\t0.849354072548\t0.747114891693\t0.728926788286\t0.726442143595\t0.709590977805\t0.712319918289\t0.677231925211\t0.684121749391\t0.842506723367\t0.833991587114\t0.733286366053\t0.845947607258\t0.835205684398\t0.707113666772\t0.753669235396\t0.779268697308\t0.738842124373\t0.885116975545\t0.704390824577\t0.715275170938\t0.774715185342\t0.837055867691\t0.726419747599\t0.73354256359\t0.702176038883\t0.763619409656\t0.827522224492\t0.703898467653\t0.787419669312\t0.0\t0.828489670458\t0.805240961221\t0.744906893005\t0.703514596913\t0.853766766854\t0.897597116233\t0.712585442125\t0.697620323036\t0.79374811896\t0.856383833743\t0.712865696849\t0.850702783322\t0.75615097627\t0.853075810208\t0.633932270048\t0.815070784305\t0.83989439699\t0.701351309884\t0.860090592164\t0.778631088215\t0.830088931807\t0.733441493038\t0.816918888507\t0.786461809884\t0.860741977007\t0.720438258287\t0.793425868483\t0.80868378116\t0.683993352567\t0.770271041434\t0.734616354694\t0.911113760098\t0.729171431768\t0.751050530243\t0.869025609289\t0.676636645915\t0.804028936728\t0.865527152699\t0.817432086173\t0.696203679094\t0.765461010956\t0.865319436723\t0.722655885129\t0.677240404892\t0.734576179976\t0.802285642218\n",
      "TL3.141709\t0.700861918649\t0.805080331155\t0.853124210063\t0.823425661703\t0.709546037837\t0.775214787008\t0.65755706484\t0.706756514296\t0.693808653912\t0.768583772757\t0.840777075772\t0.850316283678\t0.766564628902\t0.817645926908\t0.843253127075\t0.730434873445\t0.744197898904\t0.842632137884\t0.787941605074\t0.81930946909\t0.757616817258\t0.848327137046\t0.771272130116\t0.69683314748\t0.659476385505\t0.827926153319\t0.69378582543\t0.679783842011\t0.841186228827\t0.715608731303\t0.830767819457\t0.821202980373\t0.852680973491\t0.728371902543\t0.804547000899\t0.837454112895\t0.759282907726\t0.717370258121\t0.867418677893\t0.821498517528\t0.836132513063\t0.828489670458\t0.0\t0.861221245455\t0.69924856851\t0.753180753943\t0.677130184341\t0.727512023719\t0.854853466308\t0.823546595406\t0.674099127462\t0.733519507228\t0.833968623841\t0.674884220926\t0.851685488339\t0.750866286172\t0.820147080246\t0.776876408753\t0.880250252355\t0.748829162737\t0.666817360644\t0.7675517811\t0.727123412444\t0.819532925483\t0.856921820886\t0.660770084251\t0.764543543711\t0.826300387985\t0.847728106815\t0.84727791643\t0.816920502961\t0.70910620691\t0.834742053747\t0.720769244049\t0.793823652185\t0.837116985943\t0.715845152082\t0.813675153314\t0.697995921759\t0.712966773086\t0.66885994148\t0.794968119327\t0.766300395511\t0.660533140577\t0.765270778933\t0.848591531374\t0.77040933545\t0.663088580062\n",
      "SV1.141649\t0.836923582576\t0.814804616773\t0.604686583191\t0.745785284058\t0.89791545284\t0.806350875416\t0.882781445907\t0.891038147849\t0.871996479807\t0.779167651223\t0.707852243199\t0.796966352522\t0.885212984199\t0.68043761518\t0.75556143777\t0.828516305179\t0.831311016324\t0.773679492489\t0.81654903395\t0.844023164204\t0.882788177304\t0.76471394971\t0.847523781415\t0.881091251602\t0.872403630202\t0.787872934111\t0.847518525963\t0.85267236306\t0.690947946041\t0.898950122381\t0.753126367094\t0.691793049752\t0.607335831561\t0.843947990395\t0.740170609466\t0.769120279892\t0.845521125442\t0.850948156191\t0.6743067092\t0.76064052396\t0.820862079329\t0.805240961221\t0.861221245455\t0.0\t0.824330484824\t0.825592258346\t0.888753513206\t0.916844839558\t0.779850769936\t0.726999126712\t0.853247715563\t0.871230335242\t0.709105163278\t0.89767524371\t0.64561842717\t0.891508732788\t0.823671297142\t0.872686112771\t0.734575278862\t0.830024709384\t0.887851667216\t0.79142906913\t0.874577613231\t0.829438957759\t0.672024049655\t0.855832081558\t0.893129885582\t0.829976372707\t0.582879319138\t0.630833088257\t0.798500944445\t0.843406861844\t0.725404459013\t0.911304529419\t0.843259937295\t0.824681876776\t0.872525834579\t0.799906127612\t0.853228485199\t0.895211866774\t0.855780781848\t0.776097871861\t0.821377271917\t0.899908587875\t0.792148096985\t0.742799484469\t0.840375768701\t0.861461411726\n",
      "CO2.141657\t0.653458845523\t0.724618208348\t0.822305326325\t0.724608641344\t0.796208932978\t0.673315235424\t0.725692327223\t0.778764994873\t0.741565787031\t0.692336061678\t0.762797334078\t0.778572739916\t0.793727787668\t0.753100753884\t0.772393003415\t0.654237193381\t0.678743803422\t0.765709295759\t0.706305301724\t0.742590347222\t0.790295832566\t0.795676883686\t0.750512165369\t0.776287736426\t0.725828165748\t0.727379461681\t0.693183376853\t0.676393945731\t0.749055737358\t0.801142572021\t0.736427557052\t0.765629463199\t0.806962253186\t0.724337524649\t0.708704979861\t0.76564770838\t0.709134188908\t0.707711709753\t0.847871778763\t0.721912848803\t0.76788390611\t0.744906893005\t0.69924856851\t0.824330484824\t0.0\t0.634362634089\t0.76238594593\t0.822817744058\t0.76355196994\t0.738291689047\t0.698004512518\t0.791529771472\t0.739042723874\t0.776502589665\t0.782964960944\t0.810571196155\t0.74295870691\t0.785026656056\t0.863600788981\t0.691414789841\t0.762297643932\t0.705921764774\t0.762224972675\t0.752838878843\t0.816239064355\t0.67867126701\t0.799423370929\t0.761579281724\t0.801246887571\t0.820459986661\t0.719992790684\t0.675114404506\t0.744390843033\t0.819806532779\t0.726480926509\t0.775314105461\t0.79106347329\t0.702589525887\t0.682967239188\t0.77899199588\t0.730652961695\t0.704365750991\t0.734368889023\t0.769813229397\t0.691947469267\t0.741760647444\t0.712626943013\t0.659512110227\n",
      "MT2.141698\t0.638683822007\t0.705956537748\t0.823810266968\t0.711706052509\t0.802851265845\t0.682229231222\t0.743902232785\t0.791641982742\t0.742839845162\t0.688650329686\t0.736549854424\t0.767840089697\t0.794572562357\t0.775120499647\t0.770698876494\t0.654448704052\t0.631586254389\t0.752246024737\t0.662542616104\t0.713382875826\t0.797829248724\t0.811613078363\t0.733010518737\t0.770877824957\t0.755282108068\t0.704144824432\t0.684207676958\t0.674743324676\t0.77399878441\t0.82656426941\t0.719439745224\t0.753450021083\t0.813298074013\t0.743617230071\t0.70819587233\t0.771778795512\t0.673948101451\t0.704334443888\t0.829551785711\t0.703306013676\t0.760508307108\t0.703514596913\t0.753180753943\t0.825592258346\t0.634362634089\t0.0\t0.777814039884\t0.840709811956\t0.775997412518\t0.723935817094\t0.681657116529\t0.800747029413\t0.741287424156\t0.785257138799\t0.776976450221\t0.811544344112\t0.723022650696\t0.780925705627\t0.861384069166\t0.619565252686\t0.786604179279\t0.681899645223\t0.768033695259\t0.715150856755\t0.804538267903\t0.683770823125\t0.800110999287\t0.738421762258\t0.804507533138\t0.811049522408\t0.684786559918\t0.69248212991\t0.734773851705\t0.839848698373\t0.703454010937\t0.759235951558\t0.792005697224\t0.685464246146\t0.707920573195\t0.798936775763\t0.749664659277\t0.666893791776\t0.718612881775\t0.810250716743\t0.67957234526\t0.721351153488\t0.697185267367\t0.678818668805\n",
      "HF1.141663\t0.753317335989\t0.83058108071\t0.872066389807\t0.8640955885\t0.669674141769\t0.818591995203\t0.635947727533\t0.651756893815\t0.692708055202\t0.810843390609\t0.863324133378\t0.846300406184\t0.723488044173\t0.861704173237\t0.85481740449\t0.765010904911\t0.757018467258\t0.845084479626\t0.792514293982\t0.843248688165\t0.716529397441\t0.848608795731\t0.781754671344\t0.61704133899\t0.639459276736\t0.829986991113\t0.719828121638\t0.712433390955\t0.866267535922\t0.671234324898\t0.845154139737\t0.868074723497\t0.874512528766\t0.759472865929\t0.841531456849\t0.852616618609\t0.782952172087\t0.727452926172\t0.872645826582\t0.84565965181\t0.811960954129\t0.853766766854\t0.677130184341\t0.888753513206\t0.76238594593\t0.777814039884\t0.0\t0.656641111247\t0.858774027247\t0.846334524147\t0.698144621215\t0.681715592698\t0.85672134006\t0.639715488037\t0.868494441837\t0.714076052886\t0.841536942457\t0.765963563884\t0.888727688187\t0.800058867846\t0.64595243066\t0.79213190379\t0.759338191725\t0.823626829223\t0.87923937062\t0.725606850017\t0.716889484601\t0.816030383281\t0.866716150338\t0.861859185402\t0.819115830503\t0.732237129881\t0.849997100122\t0.679357899178\t0.821383772378\t0.811950169493\t0.680932725777\t0.829102378374\t0.707816303543\t0.670318674172\t0.650819193642\t0.825662756444\t0.769795583288\t0.599627386916\t0.796344569105\t0.86161053667\t0.787297088617\t0.73039256079\n",
      "CF2.141679\t0.80785480165\t0.869761152057\t0.901704083136\t0.895160861788\t0.70111220887\t0.864036905321\t0.727988390789\t0.719835521661\t0.768826919463\t0.852697710292\t0.897280664834\t0.902997856548\t0.740933918519\t0.900939281881\t0.895183873351\t0.825763452265\t0.819221250894\t0.889343368237\t0.840607072763\t0.883441809986\t0.758459227732\t0.874792747873\t0.829931038706\t0.674628008147\t0.692679818811\t0.881187017822\t0.771423604316\t0.779314931646\t0.899918371643\t0.667373629953\t0.886518812428\t0.901300187825\t0.914590514392\t0.815034954273\t0.872826761956\t0.890898775584\t0.825519860979\t0.764277850833\t0.890455914089\t0.889479444213\t0.851502010857\t0.897597116233\t0.727512023719\t0.916844839558\t0.822817744058\t0.840709811956\t0.656641111247\t0.0\t0.901397065511\t0.886047865323\t0.765515326253\t0.702254693552\t0.90853530209\t0.656427899041\t0.902320270574\t0.765172850979\t0.878118352242\t0.795495887999\t0.917276017824\t0.850780411212\t0.668779448354\t0.845288052115\t0.779954057023\t0.869479087743\t0.902132275301\t0.780928767558\t0.759849031171\t0.865420084994\t0.906110048443\t0.892360650938\t0.874347762671\t0.794458175329\t0.890396202051\t0.586915934962\t0.841764273471\t0.871921916506\t0.718379394963\t0.864562635498\t0.765867825956\t0.713476009266\t0.712832722366\t0.874323536665\t0.830499259234\t0.627483929896\t0.852543361058\t0.898995474904\t0.839673548631\t0.781965790877\n",
      "RT1.141654\t0.77652521287\t0.718627893901\t0.796714315897\t0.708725196696\t0.870618505486\t0.790553187439\t0.837471553774\t0.87043710991\t0.840004756388\t0.745847973316\t0.714361589922\t0.593691431066\t0.835671832495\t0.69949221772\t0.607162441621\t0.77635842845\t0.765092400954\t0.569277443512\t0.753330147862\t0.76641349967\t0.841781184113\t0.792178441006\t0.75797510656\t0.861421704488\t0.849385330001\t0.688537623631\t0.777875520431\t0.811901010995\t0.692995555458\t0.886361439801\t0.675334268551\t0.704640232284\t0.742956563962\t0.849801822611\t0.751443581388\t0.599367049302\t0.750903795286\t0.776079496646\t0.802735124464\t0.701295561514\t0.786941792922\t0.712585442125\t0.854853466308\t0.779850769936\t0.76355196994\t0.775997412518\t0.858774027247\t0.901397065511\t0.0\t0.71303102717\t0.813176740727\t0.865354538714\t0.701116295846\t0.86230598622\t0.722044878529\t0.847650172554\t0.705012401728\t0.826916097358\t0.829410170858\t0.768401585993\t0.874021366247\t0.805110325431\t0.862968049207\t0.698411068841\t0.776287545447\t0.820662865222\t0.857498547586\t0.700751405101\t0.75823513286\t0.78856189469\t0.674341655053\t0.798730445686\t0.724320681818\t0.91122108989\t0.79471622439\t0.700867897259\t0.861355187289\t0.690687811806\t0.815914931382\t0.869270020001\t0.837916177809\t0.724878182466\t0.762729675011\t0.879193830584\t0.741747125382\t0.679145677822\t0.768325279187\t0.824930354978\n",
      "GB1.141665\t0.755777524938\t0.726922123354\t0.71620113723\t0.640023870345\t0.867068977134\t0.714115996809\t0.826074713469\t0.852329691091\t0.815884916633\t0.701711026871\t0.679457343211\t0.712743561299\t0.833163378977\t0.653610840536\t0.69651754313\t0.716870873802\t0.735266148253\t0.698154177134\t0.702283917452\t0.750441036567\t0.837539299702\t0.785388350966\t0.770349310414\t0.847448073753\t0.818989596367\t0.686321401412\t0.766724211719\t0.786558266046\t0.683257353808\t0.883160619142\t0.651052562274\t0.666514329583\t0.700571277646\t0.812948946742\t0.684864746763\t0.713667881206\t0.758626122928\t0.762792138204\t0.759308650438\t0.660811663089\t0.783961434526\t0.697620323036\t0.823546595406\t0.726999126712\t0.738291689047\t0.723935817094\t0.846334524147\t0.886047865323\t0.71303102717\t0.0\t0.789200611616\t0.849301330565\t0.639661203466\t0.85296114709\t0.667991183756\t0.854736014445\t0.724744948261\t0.830556310472\t0.81062977452\t0.696159138873\t0.849582333114\t0.747936789474\t0.834782590538\t0.74028765686\t0.714952251227\t0.782345008668\t0.846846054062\t0.759542048808\t0.725120568515\t0.74466248458\t0.693622882485\t0.753096263197\t0.658046444405\t0.893539095221\t0.76088922964\t0.755325038021\t0.848155317504\t0.665092835435\t0.799699016283\t0.857063676868\t0.805458895614\t0.669825931037\t0.741156935924\t0.859787090071\t0.685878150025\t0.637913550416\t0.764218460162\t0.801021957759\n",
      "DF1.141684\t0.668460544639\t0.76965150158\t0.855576402608\t0.798848964148\t0.740382028757\t0.742844058375\t0.665777000518\t0.711858221284\t0.695160801387\t0.75100411499\t0.809441475058\t0.810772544699\t0.743269783817\t0.820274384809\t0.80946021145\t0.670383565938\t0.667427341309\t0.808979165221\t0.718878504591\t0.77596033445\t0.744828396122\t0.823829850633\t0.735988752191\t0.687071982169\t0.667611274334\t0.759830422472\t0.645665193578\t0.626429923687\t0.814632760145\t0.732441919224\t0.792193415539\t0.803984186734\t0.84229746456\t0.754662111975\t0.770722745928\t0.800429875998\t0.670314173439\t0.675593339389\t0.855532451105\t0.772109547166\t0.781854905658\t0.79374811896\t0.674099127462\t0.853247715563\t0.698004512518\t0.681657116529\t0.698144621215\t0.765515326253\t0.813176740727\t0.789200611616\t0.0\t0.732500900747\t0.802692788755\t0.703967563786\t0.817104643936\t0.751581258812\t0.754456544261\t0.73527180882\t0.885935795026\t0.698890037245\t0.683538287407\t0.744389076358\t0.754527467015\t0.759188402808\t0.851853734585\t0.650384482975\t0.732993444208\t0.754292978188\t0.846379710123\t0.844319325705\t0.734637236471\t0.677378697177\t0.80346322955\t0.781013272252\t0.736388260999\t0.762651183952\t0.717252338889\t0.780026629006\t0.672290334191\t0.730021436673\t0.683858809061\t0.752377763381\t0.701729298261\t0.713408702839\t0.731341652987\t0.809092958293\t0.69649557949\t0.667803314634\n",
      "PE2.141725\t0.772640789823\t0.835449205807\t0.869997687833\t0.849435226727\t0.693578150717\t0.827522763616\t0.71977389406\t0.624159317868\t0.730991678664\t0.820986719879\t0.852584326724\t0.850523502313\t0.728613820153\t0.848544490545\t0.847784548931\t0.778265143564\t0.777404094028\t0.843829412152\t0.786607608827\t0.818701689511\t0.719394084203\t0.839706579019\t0.764561384722\t0.703337213519\t0.700611143507\t0.844854165556\t0.745234165012\t0.715744694711\t0.865898482163\t0.636741963922\t0.84880112963\t0.858567129445\t0.878974157071\t0.801721652525\t0.841627589232\t0.853562899495\t0.768028858395\t0.750912248803\t0.867710411719\t0.839270599231\t0.824422954903\t0.856383833743\t0.733519507228\t0.871230335242\t0.791529771472\t0.800747029413\t0.681715592698\t0.702254693552\t0.865354538714\t0.849301330565\t0.732500900747\t0.0\t0.856619572592\t0.712216157849\t0.860849174141\t0.721896197812\t0.823763686426\t0.721841830834\t0.904706441452\t0.811794325517\t0.719777144454\t0.829223544514\t0.759485727558\t0.812228084208\t0.871768411473\t0.725110755789\t0.726678675612\t0.80349717501\t0.873601852035\t0.855716542172\t0.831279514476\t0.734002632698\t0.861253229584\t0.710262743689\t0.800355321482\t0.814280062838\t0.689597881821\t0.837993210009\t0.716470775623\t0.648213561275\t0.723089598359\t0.824533981021\t0.797872199229\t0.713737862829\t0.798772170216\t0.859539159625\t0.797925934359\t0.760561506299\n",
      "CA2.141685\t0.777783719901\t0.740776552254\t0.739660111692\t0.607475382778\t0.877323057868\t0.756638841505\t0.84481635113\t0.86687621503\t0.824791558891\t0.671640359541\t0.651782715904\t0.699722560733\t0.858250328324\t0.638709579716\t0.68810596536\t0.751048857663\t0.763444215625\t0.690321224812\t0.733677874942\t0.749390164803\t0.862419208596\t0.779098244349\t0.775699567731\t0.860086142102\t0.84384700745\t0.684267882453\t0.788887020778\t0.799150832949\t0.658178005689\t0.891891127253\t0.647547222099\t0.669908387649\t0.701776886266\t0.816538239292\t0.677561307244\t0.691347164106\t0.776908670013\t0.780279820788\t0.789323637156\t0.656279620523\t0.793945823847\t0.712865696849\t0.833968623841\t0.709105163278\t0.739042723874\t0.741287424156\t0.85672134006\t0.90853530209\t0.701116295846\t0.639661203466\t0.802692788755\t0.856619572592\t0.0\t0.863510280701\t0.669158532006\t0.875737850099\t0.739599339987\t0.848799489719\t0.819201521065\t0.747842682385\t0.86322933848\t0.756898525179\t0.845514055114\t0.738295917366\t0.741867268744\t0.808407536146\t0.858541871966\t0.76010045352\t0.699245871551\t0.752542948029\t0.700546299966\t0.779362925967\t0.688413156496\t0.909986940448\t0.769600099418\t0.761369693686\t0.853070846027\t0.698072734338\t0.809850844421\t0.860143720418\t0.828662532291\t0.685589028372\t0.780296048909\t0.881374570981\t0.705417670458\t0.630375026126\t0.784459699516\t0.806981994218\n",
      "CF1.141675\t0.763243754162\t0.807102707019\t0.873243042166\t0.858361139887\t0.698663834425\t0.830420628365\t0.666204950601\t0.676067010672\t0.70777205938\t0.808987527016\t0.878386969029\t0.862470227453\t0.733820615284\t0.867842017221\t0.850010625242\t0.773288013108\t0.759667285565\t0.856081867188\t0.774149075313\t0.847303181765\t0.729334859676\t0.842526645031\t0.774699488543\t0.623791589325\t0.65571599957\t0.830677664566\t0.722223132912\t0.713670065973\t0.868392445517\t0.680799906585\t0.851235808769\t0.869040733592\t0.88033167648\t0.778286216842\t0.842444202204\t0.850948567951\t0.773543610172\t0.728941511717\t0.870737950047\t0.840051912603\t0.818116577826\t0.850702783322\t0.674884220926\t0.89767524371\t0.776502589665\t0.785257138799\t0.639715488037\t0.656427899041\t0.86230598622\t0.85296114709\t0.703967563786\t0.712216157849\t0.863510280701\t0.0\t0.868396180857\t0.735150086863\t0.833160991095\t0.746775890861\t0.898000061924\t0.785937200435\t0.634957084361\t0.808341294574\t0.772360209571\t0.812868201054\t0.891272433157\t0.717709778929\t0.740095194697\t0.82390779749\t0.873926433373\t0.866222642545\t0.820749490736\t0.739803095022\t0.870591296488\t0.684670944361\t0.812499438425\t0.828835977255\t0.696529153184\t0.826676252515\t0.733154163668\t0.667008612691\t0.686790454189\t0.834023484736\t0.785907363899\t0.633492459719\t0.786999045018\t0.867329265308\t0.78240093762\t0.736833908955\n",
      "GB5.141668\t0.802743437466\t0.747249905597\t0.668985930799\t0.68827743653\t0.888090492655\t0.756872709118\t0.852565471972\t0.873383537153\t0.841445655169\t0.723360384149\t0.661966806804\t0.726218690033\t0.857529649241\t0.645111518129\t0.69554264464\t0.78506119248\t0.779185566334\t0.712641802895\t0.769504764675\t0.792432749338\t0.862240180115\t0.766338742597\t0.808951362706\t0.863446825867\t0.863909083225\t0.729767016672\t0.804686770643\t0.821117120349\t0.649880312411\t0.886505833391\t0.673611873563\t0.636730891931\t0.622799761335\t0.835040662019\t0.711378074221\t0.707935363631\t0.784052694333\t0.809290791433\t0.705238994966\t0.700638473476\t0.772932625086\t0.75615097627\t0.851685488339\t0.64561842717\t0.782964960944\t0.776976450221\t0.868494441837\t0.902320270574\t0.722044878529\t0.667991183756\t0.817104643936\t0.860849174141\t0.669158532006\t0.868396180857\t0.0\t0.871705380477\t0.771288005736\t0.8509542343\t0.755071240621\t0.778484931069\t0.861963764879\t0.767627215592\t0.871266489777\t0.771542378402\t0.678191126167\t0.832053087776\t0.865284056047\t0.77697374285\t0.65224841761\t0.672851083703\t0.732622143984\t0.811098747701\t0.682339231977\t0.902157351384\t0.805836409822\t0.778236999509\t0.861396376253\t0.72259616622\t0.817077244362\t0.874286583779\t0.841466238172\t0.722762454168\t0.777238497398\t0.871759067258\t0.740445937605\t0.662347151758\t0.773979887967\t0.82626469244\n",
      "LQ3.141712\t0.798105495544\t0.830017228532\t0.880044779978\t0.862534174637\t0.673072834119\t0.835425293592\t0.726135973874\t0.701222947934\t0.740458709307\t0.816997542507\t0.863085212828\t0.844621596662\t0.666643274917\t0.861525687031\t0.849659487592\t0.797217859438\t0.787458169921\t0.841136161672\t0.810541772956\t0.829321090127\t0.683076803195\t0.854098987973\t0.745242218279\t0.714506481421\t0.736690225336\t0.839501381306\t0.766674606384\t0.770049719832\t0.866677154354\t0.692775302213\t0.852557260892\t0.862737605387\t0.88690951421\t0.808111899847\t0.853404291009\t0.845735882841\t0.785682168902\t0.766451684457\t0.875100392691\t0.840291319268\t0.830557148663\t0.853075810208\t0.750866286172\t0.891508732788\t0.810571196155\t0.811544344112\t0.714076052886\t0.765172850979\t0.847650172554\t0.854736014445\t0.751581258812\t0.721896197812\t0.875737850099\t0.735150086863\t0.871705380477\t0.0\t0.81971458849\t0.649166101995\t0.900182621764\t0.817710218942\t0.75229815865\t0.828584309383\t0.795941703732\t0.799161417929\t0.881939821646\t0.769626252154\t0.700818647091\t0.809819913229\t0.880831098637\t0.875931978917\t0.824824418155\t0.780639477697\t0.863990865442\t0.761824877679\t0.815163261068\t0.80726569321\t0.743106920984\t0.834347290358\t0.756118562305\t0.699750102228\t0.750253693586\t0.821003341087\t0.774707403051\t0.743366296325\t0.806490041837\t0.863526620261\t0.782306077586\t0.778301060805\n",
      "DF2.141726\t0.722004061492\t0.652435950745\t0.825228753019\t0.713619265134\t0.840395566157\t0.756659425164\t0.78922830885\t0.824318724963\t0.792515605324\t0.756536274665\t0.744183180783\t0.701754594741\t0.810088964135\t0.758881955637\t0.723062183156\t0.736977024711\t0.700870466695\t0.704707597511\t0.664619411375\t0.698155037543\t0.804937226745\t0.814280176094\t0.692037519917\t0.823143827354\t0.820541595803\t0.680608345479\t0.720745147176\t0.760186415803\t0.746270419822\t0.864668638391\t0.72429977013\t0.732511111819\t0.785753640481\t0.833250225454\t0.744825115657\t0.708822856312\t0.684940050069\t0.717617410811\t0.840475822222\t0.712891422367\t0.768442860475\t0.633932270048\t0.820147080246\t0.823671297142\t0.74295870691\t0.723022650696\t0.841536942457\t0.878118352242\t0.705012401728\t0.724744948261\t0.754456544261\t0.823763686426\t0.739599339987\t0.833160991095\t0.771288005736\t0.81971458849\t0.0\t0.795574277891\t0.856416697345\t0.704011537484\t0.844665122421\t0.788176738635\t0.829012626446\t0.69734857933\t0.813307306299\t0.775855763032\t0.82448252683\t0.672609649693\t0.814199324291\t0.819796873873\t0.665674586729\t0.754799891911\t0.743751330826\t0.891880009125\t0.725309198479\t0.712354412776\t0.827804268829\t0.679347078955\t0.782750792904\t0.828453828124\t0.8005754653\t0.697159852837\t0.738249420685\t0.854121961974\t0.734445025982\t0.699873653053\t0.693960004203\t0.805009332868\n",
      "LQ1.141701\t0.770545467085\t0.792999185826\t0.865538294052\t0.833901721981\t0.75777425288\t0.816326607343\t0.736359341407\t0.732141477538\t0.731112247606\t0.806234225273\t0.843111502142\t0.835027330383\t0.734016616138\t0.844263432479\t0.823151885306\t0.796177064019\t0.76020357933\t0.826279987525\t0.773824087945\t0.789260396662\t0.726005194866\t0.833019398568\t0.722162788342\t0.75529721931\t0.76341060037\t0.825898391635\t0.752200020501\t0.747905257554\t0.847428955172\t0.748553102947\t0.829526957974\t0.838897428284\t0.867701578296\t0.838215036374\t0.836483508761\t0.821991999346\t0.750237493651\t0.746245846473\t0.865916549531\t0.820268510388\t0.817977509727\t0.815070784305\t0.776876408753\t0.872686112771\t0.785026656056\t0.780925705627\t0.765963563884\t0.795495887999\t0.826916097358\t0.830556310472\t0.73527180882\t0.721841830834\t0.848799489719\t0.746775890861\t0.8509542343\t0.649166101995\t0.795574277891\t0.0\t0.895536703332\t0.790553040582\t0.779445048551\t0.824382362339\t0.784273194829\t0.788602718407\t0.869347428628\t0.761233922679\t0.706641346719\t0.782386489949\t0.865225680805\t0.856477460849\t0.802005669013\t0.774747491312\t0.841922822194\t0.803817606122\t0.77088643819\t0.786804108476\t0.769161223704\t0.816292233614\t0.746620000565\t0.711329792778\t0.763871709845\t0.802024560394\t0.769856611976\t0.795425592732\t0.797851510677\t0.83752164786\t0.765860544383\t0.776666452051\n",
      "MD4.141660\t0.876612094285\t0.839742991202\t0.694235142588\t0.817408722742\t0.909516261776\t0.836989180708\t0.897293436128\t0.902938092579\t0.889227221478\t0.829944461183\t0.807027223876\t0.826588682382\t0.895148747778\t0.77837278228\t0.80798096466\t0.863515905328\t0.858920644907\t0.830916434445\t0.867261222182\t0.877296272715\t0.911289877171\t0.764004534646\t0.8809270802\t0.9030449087\t0.895840600831\t0.854917405907\t0.881344682185\t0.88894693942\t0.779937112625\t0.915545241142\t0.824558321524\t0.790039914396\t0.718241521092\t0.84868157032\t0.817072077633\t0.825271463795\t0.865716803679\t0.895394244344\t0.6611365949\t0.824999037778\t0.866876396662\t0.83989439699\t0.880250252355\t0.734575278862\t0.863600788981\t0.861384069166\t0.888727688187\t0.917276017824\t0.829410170858\t0.81062977452\t0.885935795026\t0.904706441452\t0.819201521065\t0.898000061924\t0.755071240621\t0.900182621764\t0.856416697345\t0.895536703332\t0.0\t0.866739757549\t0.913298949439\t0.824396015737\t0.887969601543\t0.862700332785\t0.733088637279\t0.893731215975\t0.907479799111\t0.85420973919\t0.709101732306\t0.674478164104\t0.848104896037\t0.882750341168\t0.793157711059\t0.922203738117\t0.877904356046\t0.859498525253\t0.903458253269\t0.850726194515\t0.867836648462\t0.907189575518\t0.884325432404\t0.830939691135\t0.859505241939\t0.905626781473\t0.853861443653\t0.808653858523\t0.860081326243\t0.863537928291\n",
      "IT1.141711\t0.640903736276\t0.70729868634\t0.828622421807\t0.729757766678\t0.815725429545\t0.696972735314\t0.751557922894\t0.805482709558\t0.755814178825\t0.743393430273\t0.779701104811\t0.777838898117\t0.810386684569\t0.776654657581\t0.761800136689\t0.672352337346\t0.636889718158\t0.746368063685\t0.666994194424\t0.730444538101\t0.80955083219\t0.820607408838\t0.730417518182\t0.780415126809\t0.775555143225\t0.695099543292\t0.706048277966\t0.693398626004\t0.774534308126\t0.837363487785\t0.735987544613\t0.761019259331\t0.809209812313\t0.782024610921\t0.727137569156\t0.768332025438\t0.659296989244\t0.708591006129\t0.831534387641\t0.725123487838\t0.786343079602\t0.701351309884\t0.748829162737\t0.830024709384\t0.691414789841\t0.619565252686\t0.800058867846\t0.850780411212\t0.768401585993\t0.696159138873\t0.698890037245\t0.811794325517\t0.747842682385\t0.785937200435\t0.778484931069\t0.817710218942\t0.704011537484\t0.790553040582\t0.866739757549\t0.0\t0.801154496377\t0.724074691133\t0.783670509471\t0.731710314859\t0.806458552659\t0.697805194418\t0.81764206753\t0.745897219089\t0.812493626925\t0.812079896919\t0.680460618859\t0.690917682903\t0.750130108251\t0.85528659151\t0.701497212396\t0.748168473696\t0.796238704977\t0.717815380654\t0.733061924669\t0.815226368767\t0.752711987377\t0.698741519809\t0.703590106963\t0.815971601857\t0.697598491387\t0.730544700821\t0.715520474708\t0.713350692266\n",
      "BF2.141708\t0.741517185699\t0.828030738304\t0.877323266126\t0.857441315808\t0.675817072916\t0.805316222255\t0.677820272629\t0.689103150204\t0.730728192703\t0.812615591153\t0.86816812113\t0.881227348575\t0.72019419991\t0.869176969536\t0.868740355105\t0.770976129567\t0.769787121613\t0.863483329618\t0.805851892003\t0.853937915098\t0.718823736033\t0.85958413785\t0.797949538331\t0.627593894033\t0.652542871162\t0.857402160078\t0.710523010823\t0.706388676358\t0.864311784501\t0.677226800752\t0.855725123325\t0.852780667436\t0.877351448428\t0.761621294653\t0.833174226243\t0.85468635799\t0.774112071052\t0.728352018257\t0.883250172569\t0.858938153853\t0.824081034273\t0.860090592164\t0.666817360644\t0.887851667216\t0.762297643932\t0.786604179279\t0.64595243066\t0.668779448354\t0.874021366247\t0.849582333114\t0.683538287407\t0.719777144454\t0.86322933848\t0.634957084361\t0.861963764879\t0.75229815865\t0.844665122421\t0.779445048551\t0.913298949439\t0.801154496377\t0.0\t0.795762947282\t0.770211031668\t0.838108445594\t0.884449803536\t0.708358893591\t0.739444066484\t0.842077710237\t0.869857008983\t0.879066059887\t0.841070139742\t0.742294663962\t0.865246696628\t0.675651003589\t0.821360997606\t0.847113400781\t0.75248174024\t0.838187024358\t0.732201372503\t0.676898132308\t0.686374310709\t0.831572464169\t0.771717596097\t0.622990659516\t0.79710378232\t0.86735641637\t0.782664039728\t0.731933317937\n",
      "SN3.141650\t0.726887960639\t0.768700087368\t0.77633980072\t0.741821002834\t0.81971066228\t0.671144220669\t0.779117782739\t0.821984192086\t0.76008986703\t0.675973844667\t0.76721806775\t0.79371114945\t0.815610867919\t0.770826552817\t0.793059219689\t0.720270712711\t0.703264923553\t0.783704676627\t0.734984295315\t0.792500913024\t0.815887099889\t0.780440400592\t0.790742235293\t0.78663575701\t0.772291856544\t0.751479193417\t0.756700391823\t0.72164586394\t0.765604642036\t0.851643334771\t0.739208446567\t0.758245589038\t0.782883560997\t0.678492329138\t0.700694027366\t0.789377565975\t0.750076042525\t0.76876931054\t0.799542580786\t0.741967330411\t0.790117291482\t0.778631088215\t0.7675517811\t0.79142906913\t0.705921764774\t0.681899645223\t0.79213190379\t0.845288052115\t0.805110325431\t0.747936789474\t0.744389076358\t0.829223544514\t0.756898525179\t0.808341294574\t0.767627215592\t0.828584309383\t0.788176738635\t0.824382362339\t0.824396015737\t0.724074691133\t0.795762947282\t0.0\t0.802165215668\t0.781074659984\t0.756531841759\t0.73944413058\t0.84202170004\t0.785733245009\t0.7678879336\t0.778063938639\t0.741664626256\t0.728738488546\t0.736902588312\t0.849882187501\t0.780213338369\t0.789359454631\t0.801155323184\t0.74930991421\t0.737385658074\t0.815333568572\t0.746355630296\t0.718167709122\t0.718816958651\t0.815717348088\t0.706071350699\t0.757584274262\t0.732265197025\t0.716594089061\n",
      "TL1.141653\t0.740259851582\t0.833690812475\t0.871972417202\t0.839170444899\t0.778376893482\t0.797769114063\t0.755544363413\t0.759311153687\t0.700045946964\t0.822100266528\t0.854848136275\t0.869680547024\t0.783534173261\t0.85593481368\t0.861308612151\t0.772203126103\t0.769565676597\t0.861727917832\t0.803276379537\t0.779277384827\t0.792097480619\t0.861280758208\t0.804462961794\t0.738246024948\t0.737528062437\t0.858273564517\t0.764245496488\t0.720702433087\t0.851276763112\t0.801802120801\t0.847613775318\t0.855273548314\t0.87022431036\t0.756102304219\t0.825152163674\t0.854732454226\t0.776632256231\t0.778196901791\t0.880087955235\t0.833589592368\t0.849056947638\t0.830088931807\t0.727123412444\t0.874577613231\t0.762224972675\t0.768033695259\t0.759338191725\t0.779954057023\t0.862968049207\t0.834782590538\t0.754527467015\t0.759485727558\t0.845514055114\t0.772360209571\t0.871266489777\t0.795941703732\t0.829012626446\t0.784273194829\t0.887969601543\t0.783670509471\t0.770211031668\t0.802165215668\t0.0\t0.822092435202\t0.871541982147\t0.696969851353\t0.759692824748\t0.833349475457\t0.873620082488\t0.872995828805\t0.833522791141\t0.750716209991\t0.852341011386\t0.787466297924\t0.752662023511\t0.840202768064\t0.740497877012\t0.817514516571\t0.719072019228\t0.777986148844\t0.722501557359\t0.818419288981\t0.799472678379\t0.76581273241\t0.799393035236\t0.848556995076\t0.801505220155\t0.733506706792\n",
      "AR3.141705\t0.753887960732\t0.685875755202\t0.832669314188\t0.727572885222\t0.82754703566\t0.756578609073\t0.791360067642\t0.820567123911\t0.791592600714\t0.699914907977\t0.743563636606\t0.703168472928\t0.783417516492\t0.764639879972\t0.701734699323\t0.743889288395\t0.715103475076\t0.685331653839\t0.702715092266\t0.708596779384\t0.789266101075\t0.777485332847\t0.697639205245\t0.808127232172\t0.808350611626\t0.667612410223\t0.731901037053\t0.775782223007\t0.766864919784\t0.850423372054\t0.703645483707\t0.769836287081\t0.789414920439\t0.813351601181\t0.758620186916\t0.690426845005\t0.711445938491\t0.734113750777\t0.834349461417\t0.698770712976\t0.749564837455\t0.733441493038\t0.819532925483\t0.829438957759\t0.752838878843\t0.715150856755\t0.823626829223\t0.869479087743\t0.698411068841\t0.74028765686\t0.759188402808\t0.812228084208\t0.738295917366\t0.812868201054\t0.771542378402\t0.799161417929\t0.69734857933\t0.788602718407\t0.862700332785\t0.731710314859\t0.838108445594\t0.781074659984\t0.822092435202\t0.0\t0.824571844192\t0.774769332532\t0.800990096535\t0.630905153832\t0.813611258879\t0.81806854914\t0.645145050998\t0.758776499821\t0.753826450786\t0.881070701911\t0.740098279972\t0.598185999071\t0.806068922233\t0.697758984032\t0.778532739714\t0.822153720916\t0.792515332555\t0.707517750335\t0.732218384242\t0.841591743629\t0.676404575861\t0.730858546781\t0.702009156586\t0.796756728962\n",
      "JT1.141699\t0.821143939862\t0.802664501304\t0.638767783691\t0.751533995993\t0.899838806239\t0.792722559973\t0.870963428815\t0.881651476748\t0.863372598427\t0.775258889503\t0.74028978077\t0.786872082185\t0.867177795779\t0.696224309354\t0.775306635803\t0.811647197085\t0.819412569946\t0.782881117515\t0.819455027325\t0.845338436734\t0.883237111157\t0.759385829732\t0.856326440442\t0.880863135971\t0.876240709612\t0.785932285769\t0.836249526489\t0.852392038632\t0.725355017308\t0.893201245358\t0.75479758115\t0.710389958251\t0.691813541905\t0.821012459586\t0.740110319735\t0.764304349572\t0.8331554696\t0.84039479331\t0.651292459181\t0.750734409707\t0.833960320484\t0.816918888507\t0.856921820886\t0.672024049655\t0.816239064355\t0.804538267903\t0.87923937062\t0.902132275301\t0.776287545447\t0.714952251227\t0.851853734585\t0.871768411473\t0.741867268744\t0.891272433157\t0.678191126167\t0.881939821646\t0.813307306299\t0.869347428628\t0.733088637279\t0.806458552659\t0.884449803536\t0.756531841759\t0.871541982147\t0.824571844192\t0.0\t0.852320406807\t0.885789594363\t0.817429354785\t0.689073207834\t0.657242755575\t0.791046520349\t0.842560709619\t0.718764915002\t0.899420455418\t0.841345800335\t0.816052842592\t0.879271477907\t0.778533394703\t0.844523765184\t0.888091233565\t0.853006122668\t0.769060527107\t0.809564014874\t0.881841077057\t0.802264773055\t0.733001692069\t0.823135630763\t0.836501727494\n",
      "BZ1.141724\t0.652739486274\t0.789331736942\t0.852473067506\t0.803164301688\t0.744306398546\t0.722359318109\t0.685052988159\t0.724358760311\t0.695712427626\t0.76782749339\t0.826661460803\t0.810479731343\t0.770169194806\t0.815202856768\t0.818747615993\t0.673299120636\t0.676011987709\t0.817300810412\t0.71635868189\t0.760661264322\t0.751630723418\t0.849380938387\t0.739426622573\t0.696814742377\t0.642214666725\t0.789254627155\t0.678242085893\t0.584048078566\t0.825275820594\t0.761401280972\t0.802410419345\t0.816247834657\t0.849101542868\t0.747797937436\t0.785071094429\t0.813886735065\t0.703075839262\t0.695352304063\t0.862398943792\t0.775362566748\t0.815558648213\t0.786461809884\t0.660770084251\t0.855832081558\t0.67867126701\t0.683770823125\t0.725606850017\t0.780928767558\t0.820662865222\t0.782345008668\t0.650384482975\t0.725110755789\t0.808407536146\t0.717709778929\t0.832053087776\t0.769626252154\t0.775855763032\t0.761233922679\t0.893731215975\t0.697805194418\t0.708358893591\t0.73944413058\t0.696969851353\t0.774769332532\t0.852320406807\t0.0\t0.76416001095\t0.77504422452\t0.852914275897\t0.855716348986\t0.764476633362\t0.651721843532\t0.813681720354\t0.782206827952\t0.740270972327\t0.797941979412\t0.726275720544\t0.766996009551\t0.667576247149\t0.747510012451\t0.663446432585\t0.757604200475\t0.749694802705\t0.726135081299\t0.725628661743\t0.819622339098\t0.734859452185\t0.643385919151\n",
      "HI4.141735\t0.78666651507\t0.818764478591\t0.892169390036\t0.85698333904\t0.743584456297\t0.825194981264\t0.70360531656\t0.728211317649\t0.700085508054\t0.812974142516\t0.863808609763\t0.855308364472\t0.678124775046\t0.864785834391\t0.852625870852\t0.785342505833\t0.773469262855\t0.852635723231\t0.806504901786\t0.80404305677\t0.686431238318\t0.847317837043\t0.768491435275\t0.722311373135\t0.739194600577\t0.839601803064\t0.731569604845\t0.755577815534\t0.865333990144\t0.725864855813\t0.851893311327\t0.859154685755\t0.882829691644\t0.826825237907\t0.853414639709\t0.854065971024\t0.765003152513\t0.756519612745\t0.882722782117\t0.845337308309\t0.81289074737\t0.860741977007\t0.764543543711\t0.893129885582\t0.799423370929\t0.800110999287\t0.716889484601\t0.759849031171\t0.857498547586\t0.846846054062\t0.732993444208\t0.726678675612\t0.858541871966\t0.740095194697\t0.865284056047\t0.700818647091\t0.82448252683\t0.706641346719\t0.907479799111\t0.81764206753\t0.739444066484\t0.84202170004\t0.759692824748\t0.800990096535\t0.885789594363\t0.76416001095\t0.0\t0.812667255241\t0.888200758334\t0.881447456513\t0.816469920859\t0.764839984492\t0.856981199739\t0.772183563849\t0.79817195551\t0.811773290301\t0.725453771557\t0.828774977137\t0.744794621165\t0.700849234768\t0.72962769328\t0.818624170794\t0.76863102726\t0.735534451903\t0.813375126363\t0.85655782029\t0.771993470771\t0.772000300991\n",
      "AR2.141703\t0.73784805049\t0.696691764219\t0.839222502153\t0.745888090994\t0.831103755948\t0.76477220949\t0.788308218602\t0.814388528339\t0.792760912785\t0.739924044512\t0.755044729753\t0.70099513347\t0.785178933951\t0.77403729995\t0.723460696346\t0.738043667043\t0.70743451709\t0.705478131054\t0.703386169882\t0.734410252108\t0.784390941598\t0.803915704268\t0.685856386435\t0.823540557127\t0.805932812982\t0.701077373106\t0.728643858699\t0.761577515877\t0.777206149216\t0.852268902229\t0.740398886758\t0.785951488568\t0.793654128294\t0.837170946612\t0.763063142125\t0.694983339192\t0.701154823444\t0.734840435725\t0.828472848338\t0.723299836265\t0.756258249271\t0.720438258287\t0.826300387985\t0.829976372707\t0.761579281724\t0.738421762258\t0.816030383281\t0.865420084994\t0.700751405101\t0.759542048808\t0.754292978188\t0.80349717501\t0.76010045352\t0.82390779749\t0.77697374285\t0.809819913229\t0.672609649693\t0.782386489949\t0.85420973919\t0.745897219089\t0.842077710237\t0.785733245009\t0.833349475457\t0.630905153832\t0.817429354785\t0.77504422452\t0.812667255241\t0.0\t0.817781102233\t0.828819254297\t0.659516989049\t0.760634533762\t0.753737409729\t0.882095166012\t0.757913544341\t0.610997137746\t0.825589301839\t0.718970156853\t0.777009022143\t0.82585700041\t0.78624279357\t0.736496134107\t0.720645676271\t0.834110326334\t0.73414481383\t0.729948790326\t0.702695024981\t0.788380579067\n",
      "SV2.141666\t0.826864477696\t0.801976687282\t0.616619726252\t0.726309630882\t0.892091550025\t0.788834444516\t0.863650793482\t0.890911243332\t0.86222369994\t0.747622388586\t0.698945571407\t0.76914594767\t0.872572956786\t0.655899441967\t0.715489480589\t0.819155115172\t0.80939992279\t0.748420689514\t0.797166629747\t0.834945325677\t0.880120079963\t0.755256712781\t0.837344348928\t0.871594897806\t0.868510369521\t0.772194440055\t0.839907335957\t0.847689436156\t0.683482195276\t0.901799741429\t0.723952705972\t0.690471963308\t0.602689663454\t0.826461599934\t0.715723163215\t0.753547881828\t0.836565575786\t0.8295823744\t0.666449097739\t0.743343233272\t0.81153678264\t0.793425868483\t0.847728106815\t0.582879319138\t0.801246887571\t0.804507533138\t0.866716150338\t0.906110048443\t0.75823513286\t0.725120568515\t0.846379710123\t0.873601852035\t0.699245871551\t0.873926433373\t0.65224841761\t0.880831098637\t0.814199324291\t0.865225680805\t0.709101732306\t0.812493626925\t0.869857008983\t0.7678879336\t0.873620082488\t0.813611258879\t0.689073207834\t0.852914275897\t0.888200758334\t0.817781102233\t0.0\t0.635379880547\t0.772850284824\t0.829466371533\t0.704921556014\t0.910825497743\t0.834325315481\t0.816760145028\t0.866053128371\t0.781535169866\t0.834251202414\t0.882525417602\t0.848970178217\t0.757250392949\t0.811463941305\t0.888624749827\t0.768846336659\t0.745086529527\t0.816809984731\t0.836449672179\n",
      "MD3.141707\t0.830157365182\t0.798461810061\t0.608185255122\t0.766499619083\t0.886732524628\t0.792823136623\t0.858556411253\t0.87136751646\t0.85351565461\t0.765542338916\t0.738177840359\t0.798426973081\t0.871758375485\t0.715976394412\t0.76483932267\t0.824362122001\t0.811456520233\t0.781366878611\t0.807608669568\t0.839206324376\t0.873016986493\t0.741169391433\t0.836870906544\t0.862925088201\t0.865636253103\t0.79064669179\t0.839474054687\t0.847227422126\t0.730568708499\t0.882164335594\t0.757120346565\t0.730596014304\t0.651701109819\t0.843035757713\t0.744923667533\t0.790430153402\t0.823648360464\t0.836418195216\t0.65759914082\t0.770425798197\t0.818265555108\t0.80868378116\t0.84727791643\t0.630833088257\t0.820459986661\t0.811049522408\t0.861859185402\t0.892360650938\t0.78856189469\t0.74466248458\t0.844319325705\t0.855716542172\t0.752542948029\t0.866222642545\t0.672851083703\t0.875931978917\t0.819796873873\t0.856477460849\t0.674478164104\t0.812079896919\t0.879066059887\t0.778063938639\t0.872995828805\t0.81806854914\t0.657242755575\t0.855716348986\t0.881447456513\t0.828819254297\t0.635379880547\t0.0\t0.794514506399\t0.840076951319\t0.744488533527\t0.890313555804\t0.840472063766\t0.803472100216\t0.859398202596\t0.806154716375\t0.837772432062\t0.874595496094\t0.842388755233\t0.784814822211\t0.815646762224\t0.879847357602\t0.788130986456\t0.754114996833\t0.811763294725\t0.834159376\n",
      "KP4.141733\t0.711727965435\t0.666367634388\t0.793956150507\t0.696622673929\t0.845877826604\t0.727375793632\t0.800674039008\t0.828976917881\t0.798410017846\t0.694414439295\t0.726206923747\t0.663119049829\t0.805969465569\t0.726725367393\t0.66753270657\t0.713253002134\t0.673280765522\t0.668224564526\t0.683247906828\t0.716485188372\t0.807250756691\t0.780290459457\t0.714385669014\t0.824468858734\t0.811533211967\t0.624995547617\t0.727266140328\t0.752998091639\t0.727474420584\t0.863512874309\t0.669702170773\t0.724430488403\t0.758476906686\t0.819202022992\t0.713235091589\t0.691188878421\t0.690680605127\t0.722057724269\t0.805450506586\t0.677968589568\t0.754098926909\t0.683993352567\t0.816920502961\t0.798500944445\t0.719992790684\t0.684786559918\t0.819115830503\t0.874347762671\t0.674341655053\t0.693622882485\t0.734637236471\t0.831279514476\t0.700546299966\t0.820749490736\t0.732622143984\t0.824824418155\t0.665674586729\t0.802005669013\t0.848104896037\t0.680460618859\t0.841070139742\t0.741664626256\t0.833522791141\t0.645145050998\t0.791046520349\t0.764476633362\t0.816469920859\t0.659516989049\t0.772850284824\t0.794514506399\t0.0\t0.746008404015\t0.719947960865\t0.882987457305\t0.724086910969\t0.653079329765\t0.821805397263\t0.673666372762\t0.777541874717\t0.832202241621\t0.778965295856\t0.662095061814\t0.707780286095\t0.836909225786\t0.691018029792\t0.677000003005\t0.684700821115\t0.762304956908\n",
      "HJ2.141717\t0.658102009525\t0.75021673688\t0.852932510351\t0.752703538113\t0.76056292442\t0.724170001708\t0.69975054384\t0.744424940536\t0.687683085231\t0.749771220136\t0.781533339812\t0.810775570242\t0.758744662481\t0.790191452797\t0.800597670401\t0.68473667596\t0.675573406305\t0.779266222612\t0.721841637429\t0.729376434624\t0.740163430566\t0.811628756573\t0.721514621161\t0.704845046156\t0.688151181265\t0.756073964233\t0.68789390335\t0.661233504684\t0.791664177531\t0.772847143775\t0.766374637746\t0.808502377035\t0.821600961953\t0.751679467936\t0.752260463943\t0.794901877553\t0.682611612799\t0.698137810347\t0.84403337841\t0.76095707198\t0.786147475742\t0.770271041434\t0.70910620691\t0.843406861844\t0.675114404506\t0.69248212991\t0.732237129881\t0.794458175329\t0.798730445686\t0.753096263197\t0.677378697177\t0.734002632698\t0.779362925967\t0.739803095022\t0.811098747701\t0.780639477697\t0.754799891911\t0.774747491312\t0.882750341168\t0.690917682903\t0.742294663962\t0.728738488546\t0.750716209991\t0.758776499821\t0.842560709619\t0.651721843532\t0.764839984492\t0.760634533762\t0.829466371533\t0.840076951319\t0.746008404015\t0.0\t0.798013745461\t0.793165400655\t0.714521070433\t0.757294387276\t0.722509118599\t0.74181654755\t0.644802209614\t0.745630107459\t0.687253061743\t0.735462596795\t0.72115514838\t0.74211171729\t0.702516428317\t0.776229191185\t0.717361093102\t0.681262319968\n",
      "SR3.141674\t0.783980531592\t0.72531515505\t0.715473308803\t0.681854897974\t0.874508881968\t0.737269438796\t0.827248878353\t0.87221887496\t0.828322879517\t0.694201138619\t0.710147439431\t0.734226258909\t0.842289126025\t0.655589488905\t0.718680215026\t0.744073286994\t0.742756595559\t0.717844462919\t0.739972782547\t0.78522254999\t0.854269421601\t0.778212248794\t0.788081795552\t0.856883199136\t0.851976283741\t0.708392581684\t0.777729105061\t0.808999009976\t0.667856100827\t0.881848080268\t0.684913439589\t0.636396451068\t0.699340093436\t0.808056015948\t0.694298443818\t0.726281224082\t0.772177582879\t0.784682237503\t0.748843191026\t0.655671253826\t0.770177613265\t0.734616354694\t0.834742053747\t0.725404459013\t0.744390843033\t0.734773851705\t0.849997100122\t0.890396202051\t0.724320681818\t0.658046444405\t0.80346322955\t0.861253229584\t0.688413156496\t0.870591296488\t0.682339231977\t0.863990865442\t0.743751330826\t0.841922822194\t0.793157711059\t0.750130108251\t0.865246696628\t0.736902588312\t0.852341011386\t0.753826450786\t0.718764915002\t0.813681720354\t0.856981199739\t0.753737409729\t0.704921556014\t0.744488533527\t0.719947960865\t0.798013745461\t0.0\t0.905681517789\t0.781848105471\t0.772946981518\t0.859551715111\t0.712454237223\t0.816547256461\t0.868770818909\t0.820425482616\t0.662502446071\t0.74945085281\t0.87990316156\t0.717350647285\t0.69956122176\t0.756004682491\t0.802222279629\n",
      "CF3.141691\t0.82161856584\t0.87371599298\t0.905377211994\t0.902217157188\t0.683099220853\t0.878315694715\t0.734921435387\t0.6867591797\t0.780822594856\t0.858056548\t0.912904216004\t0.909186703963\t0.758578278268\t0.910496002937\t0.907262644143\t0.836273373634\t0.834009400394\t0.898380058816\t0.857782992451\t0.893664837566\t0.734572113664\t0.879116536392\t0.841377031985\t0.671860719608\t0.715821827937\t0.886388440299\t0.788502970875\t0.774973958252\t0.903309757149\t0.665562540664\t0.899922793851\t0.907886032385\t0.918605766316\t0.815506409146\t0.886790137622\t0.891347919061\t0.846919440426\t0.787591913976\t0.89918720929\t0.90292883427\t0.843242265846\t0.911113760098\t0.720769244049\t0.911304529419\t0.819806532779\t0.839848698373\t0.679357899178\t0.586915934962\t0.91122108989\t0.893539095221\t0.781013272252\t0.710262743689\t0.909986940448\t0.684670944361\t0.902157351384\t0.761824877679\t0.891880009125\t0.803817606122\t0.922203738117\t0.85528659151\t0.675651003589\t0.849882187501\t0.787466297924\t0.881070701911\t0.899420455418\t0.782206827952\t0.772183563849\t0.882095166012\t0.910825497743\t0.890313555804\t0.882987457305\t0.793165400655\t0.905681517789\t0.0\t0.856538656286\t0.880515529567\t0.719395580256\t0.877779283678\t0.773202214919\t0.706974413821\t0.727240620756\t0.881877743078\t0.826403732759\t0.611744880521\t0.865205521974\t0.905900693941\t0.849322421317\t0.778005573478\n",
      "SK2.141662\t0.710510899571\t0.746251775006\t0.8464667955\t0.741753630523\t0.831739420003\t0.734825967476\t0.786373955582\t0.807663299423\t0.766185185574\t0.76329759714\t0.767646384776\t0.779320388087\t0.816361229208\t0.796976939799\t0.789591534197\t0.728289041834\t0.708927460989\t0.776448401108\t0.725595189282\t0.685075900157\t0.811030528734\t0.826197395653\t0.746311580458\t0.790138725204\t0.796941343939\t0.74048113731\t0.727662145373\t0.708874499747\t0.791818894552\t0.842593321231\t0.74848678173\t0.786753582472\t0.820632270316\t0.814687773572\t0.751427108422\t0.772529524898\t0.704415382896\t0.73680779414\t0.857403821099\t0.74190549994\t0.783762118536\t0.729171431768\t0.793823652185\t0.843259937295\t0.726480926509\t0.703454010937\t0.821383772378\t0.841764273471\t0.79471622439\t0.76088922964\t0.736388260999\t0.800355321482\t0.769600099418\t0.812499438425\t0.805836409822\t0.815163261068\t0.725309198479\t0.77088643819\t0.877904356046\t0.701497212396\t0.821360997606\t0.780213338369\t0.752662023511\t0.740098279972\t0.841345800335\t0.740270972327\t0.79817195551\t0.757913544341\t0.834325315481\t0.840472063766\t0.724086910969\t0.714521070433\t0.781848105471\t0.856538656286\t0.0\t0.752289436164\t0.793461045905\t0.712858524986\t0.750282579047\t0.808269005674\t0.774996203374\t0.746126421904\t0.763017486634\t0.837689250972\t0.749864260158\t0.748039824524\t0.746125579708\t0.750758368474\n",
      "AR1.141727\t0.74654765423\t0.713439352711\t0.818747345545\t0.753128102784\t0.835904945733\t0.761878108235\t0.794253324271\t0.806313613938\t0.793804218083\t0.739720569932\t0.766379796199\t0.705303186181\t0.792811484097\t0.777017964429\t0.716943972817\t0.763779621677\t0.737543848698\t0.721323277399\t0.721381752396\t0.739238258969\t0.793656420131\t0.77855595941\t0.680749773043\t0.808899775819\t0.802880449301\t0.691463081411\t0.747571785492\t0.76993438331\t0.776419845802\t0.84933773755\t0.730702245749\t0.785088042752\t0.796688972026\t0.84053241514\t0.779698409554\t0.705353418799\t0.714648112462\t0.734055343707\t0.825720350682\t0.725132131291\t0.762862196202\t0.751050530243\t0.837116985943\t0.824681876776\t0.775314105461\t0.759235951558\t0.811950169493\t0.871921916506\t0.700867897259\t0.755325038021\t0.762651183952\t0.814280062838\t0.761369693686\t0.828835977255\t0.778236999509\t0.80726569321\t0.712354412776\t0.786804108476\t0.859498525253\t0.748168473696\t0.847113400781\t0.789359454631\t0.840202768064\t0.598185999071\t0.816052842592\t0.797941979412\t0.811773290301\t0.610997137746\t0.816760145028\t0.803472100216\t0.653079329765\t0.757294387276\t0.772946981518\t0.880515529567\t0.752289436164\t0.0\t0.814865632292\t0.715279675452\t0.773203085828\t0.823512851163\t0.788612454698\t0.736177402545\t0.74264802718\t0.84056632118\t0.720529426439\t0.741279835045\t0.723754219342\t0.801738612034\n",
      "BB2.141659\t0.777694289473\t0.830441268028\t0.868163796082\t0.853209737603\t0.718443198271\t0.823549513674\t0.701710331124\t0.706825193863\t0.692302692993\t0.810991772858\t0.863363917278\t0.856122591078\t0.727310921447\t0.860540013083\t0.852374123494\t0.792007189004\t0.769148152673\t0.836729712138\t0.79367996072\t0.812867260613\t0.730917164815\t0.823919460954\t0.790245994953\t0.664009455802\t0.680880094477\t0.8426989821\t0.747089827634\t0.724451530524\t0.854876719946\t0.721084242879\t0.834367800174\t0.863906747966\t0.870511024079\t0.781773290665\t0.835934509599\t0.848344034255\t0.783841237029\t0.743715952704\t0.875060548019\t0.831198620193\t0.82013393625\t0.869025609289\t0.715845152082\t0.872525834579\t0.79106347329\t0.792005697224\t0.680932725777\t0.718379394963\t0.861355187289\t0.848155317504\t0.717252338889\t0.689597881821\t0.853070846027\t0.696529153184\t0.861396376253\t0.743106920984\t0.827804268829\t0.769161223704\t0.903458253269\t0.796238704977\t0.75248174024\t0.801155323184\t0.740497877012\t0.806068922233\t0.879271477907\t0.726275720544\t0.725453771557\t0.825589301839\t0.866053128371\t0.859398202596\t0.821805397263\t0.722509118599\t0.859551715111\t0.719395580256\t0.793461045905\t0.814865632292\t0.0\t0.826487238128\t0.688840115991\t0.694939314006\t0.686474564619\t0.819938195939\t0.809983952256\t0.714126616863\t0.797969848218\t0.856836960687\t0.795333572811\t0.732038610247\n",
      "GB3.141652\t0.725898143961\t0.689037145585\t0.793072256006\t0.666137427308\t0.838609461325\t0.715683670904\t0.790108849618\t0.839026964343\t0.80153752729\t0.689819590321\t0.696992168017\t0.705972422181\t0.799288150128\t0.720552780385\t0.706848470525\t0.707137063976\t0.711862325997\t0.693307897403\t0.701575704356\t0.693128357064\t0.818086107697\t0.784669504061\t0.756493749776\t0.821118922037\t0.80619210053\t0.688511561036\t0.744134109298\t0.771934535582\t0.709104498775\t0.86176965778\t0.65039998134\t0.725768479104\t0.754067408397\t0.809033398121\t0.71320314302\t0.69910968012\t0.7191106209\t0.725951210222\t0.808056665544\t0.68463685521\t0.747621654536\t0.676636645915\t0.813675153314\t0.799906127612\t0.702589525887\t0.685464246146\t0.829102378374\t0.864562635498\t0.690687811806\t0.665092835435\t0.780026629006\t0.837993210009\t0.698072734338\t0.826676252515\t0.72259616622\t0.834347290358\t0.679347078955\t0.816292233614\t0.850726194515\t0.717815380654\t0.838187024358\t0.74930991421\t0.817514516571\t0.697758984032\t0.778533394703\t0.766996009551\t0.828774977137\t0.718970156853\t0.781535169866\t0.806154716375\t0.673666372762\t0.74181654755\t0.712454237223\t0.877779283678\t0.712858524986\t0.715279675452\t0.826487238128\t0.0\t0.764475781348\t0.838836118985\t0.767211556957\t0.685735445544\t0.733803678175\t0.845093027174\t0.683222666422\t0.645054411855\t0.725113726775\t0.766520804916\n",
      "HJ1.141718\t0.708411254858\t0.789717105851\t0.843330717689\t0.798937677593\t0.749828090683\t0.756257777735\t0.671714344819\t0.720878157725\t0.67990172952\t0.753250208983\t0.804731059845\t0.824954646378\t0.754548568735\t0.818225060212\t0.822970255019\t0.71093656244\t0.702387079173\t0.803628974461\t0.755563020301\t0.775101484237\t0.742767501204\t0.796524941288\t0.762395676647\t0.694855515007\t0.669522101695\t0.78576869639\t0.694226033328\t0.668857288111\t0.830781567451\t0.746934731683\t0.794355884183\t0.826468057743\t0.843357267586\t0.732200252934\t0.795584395313\t0.806248192875\t0.723785164186\t0.676964516046\t0.851816342503\t0.788928980306\t0.777224948543\t0.804028936728\t0.697995921759\t0.853228485199\t0.682967239188\t0.707920573195\t0.707816303543\t0.765867825956\t0.815914931382\t0.799699016283\t0.672290334191\t0.716470775623\t0.809850844421\t0.733154163668\t0.817077244362\t0.756118562305\t0.782750792904\t0.746620000565\t0.867836648462\t0.733061924669\t0.732201372503\t0.737385658074\t0.719072019228\t0.778532739714\t0.844523765184\t0.667576247149\t0.744794621165\t0.777009022143\t0.834251202414\t0.837772432062\t0.777541874717\t0.644802209614\t0.816547256461\t0.773202214919\t0.750282579047\t0.773203085828\t0.688840115991\t0.764475781348\t0.0\t0.724105749142\t0.698374932598\t0.764658291888\t0.770515502734\t0.723966407675\t0.758042575003\t0.813446372063\t0.740004286817\t0.626363378258\n",
      "PE3.141731\t0.77617146466\t0.829189945535\t0.881565195289\t0.85959893929\t0.616498812321\t0.833671076529\t0.68797405464\t0.603029451919\t0.714809653421\t0.815778574072\t0.870291133454\t0.867024930485\t0.673839285199\t0.870279325125\t0.86341518169\t0.801834680598\t0.774955620755\t0.85003531817\t0.801910773217\t0.83464557581\t0.672714495193\t0.840509650122\t0.76282766951\t0.667511117148\t0.674551228276\t0.838330436408\t0.743140068465\t0.738091570358\t0.871003964265\t0.60199781592\t0.856175436856\t0.868953606787\t0.887424312976\t0.803370367029\t0.850315750343\t0.856142462515\t0.798397562759\t0.746119301156\t0.877134567684\t0.849846873694\t0.8197875321\t0.865527152699\t0.712966773086\t0.895211866774\t0.77899199588\t0.798936775763\t0.670318674172\t0.713476009266\t0.869270020001\t0.857063676868\t0.730021436673\t0.648213561275\t0.860143720418\t0.667008612691\t0.874286583779\t0.699750102228\t0.828453828124\t0.711329792778\t0.907189575518\t0.815226368767\t0.676898132308\t0.815333568572\t0.777986148844\t0.822153720916\t0.888091233565\t0.747510012451\t0.700849234768\t0.82585700041\t0.882525417602\t0.874595496094\t0.832202241621\t0.745630107459\t0.868770818909\t0.706974413821\t0.808269005674\t0.823512851163\t0.694939314006\t0.838836118985\t0.724105749142\t0.0\t0.69804917735\t0.832947026991\t0.793845982554\t0.680970185063\t0.816250235132\t0.865617583214\t0.779943436613\t0.747546118326\n",
      "MP1.141661\t0.704315546191\t0.793596976211\t0.855258825558\t0.817143715833\t0.714103352794\t0.778340785101\t0.691372287918\t0.699456696089\t0.683800250685\t0.771872875944\t0.840538484781\t0.834702657821\t0.741108769666\t0.840536341577\t0.835489422175\t0.727909782339\t0.714530715176\t0.820764206987\t0.77059548501\t0.797362503075\t0.706804662862\t0.834225564742\t0.772506622167\t0.662077904522\t0.605050082901\t0.796369444306\t0.717283569296\t0.690661314517\t0.840739294571\t0.719197304417\t0.805937616591\t0.834533005395\t0.848820948224\t0.750276790156\t0.812943337791\t0.821483331789\t0.728323398329\t0.71685930503\t0.840690778947\t0.812767583157\t0.799643262117\t0.817432086173\t0.66885994148\t0.855780781848\t0.730652961695\t0.749664659277\t0.650819193642\t0.712832722366\t0.837916177809\t0.805458895614\t0.683858809061\t0.723089598359\t0.828662532291\t0.686790454189\t0.841466238172\t0.750253693586\t0.8005754653\t0.763871709845\t0.884325432404\t0.752711987377\t0.686374310709\t0.746355630296\t0.722501557359\t0.792515332555\t0.853006122668\t0.663446432585\t0.72962769328\t0.78624279357\t0.848970178217\t0.842388755233\t0.778965295856\t0.687253061743\t0.820425482616\t0.727240620756\t0.774996203374\t0.788612454698\t0.686474564619\t0.767211556957\t0.698374932598\t0.69804917735\t0.0\t0.791317814992\t0.747513499504\t0.657930013977\t0.747534081761\t0.828326828857\t0.758895935123\t0.702813350242\n",
      "SP1.141656\t0.722196372016\t0.705973521787\t0.77884674162\t0.670163054887\t0.833033117018\t0.700818101966\t0.786542592456\t0.822439626464\t0.784794919774\t0.651626188349\t0.710082741172\t0.729864700353\t0.812675673757\t0.699715221345\t0.713833115724\t0.708600231448\t0.668538337679\t0.701171677338\t0.694580667882\t0.729430738656\t0.813952346709\t0.782672300792\t0.747938978935\t0.81612466437\t0.807277581499\t0.682620029979\t0.712550974897\t0.746959553708\t0.70738690954\t0.86084585693\t0.665416198445\t0.677726649764\t0.740983321555\t0.771019258023\t0.681593480744\t0.727337048023\t0.707369948519\t0.713326498038\t0.802511897609\t0.653993350149\t0.763109134935\t0.696203679094\t0.794968119327\t0.776097871861\t0.704365750991\t0.666893791776\t0.825662756444\t0.874323536665\t0.724878182466\t0.669825931037\t0.752377763381\t0.824533981021\t0.685589028372\t0.834023484736\t0.722762454168\t0.821003341087\t0.697159852837\t0.802024560394\t0.830939691135\t0.698741519809\t0.831572464169\t0.718167709122\t0.818419288981\t0.707517750335\t0.769060527107\t0.757604200475\t0.818624170794\t0.736496134107\t0.757250392949\t0.784814822211\t0.662095061814\t0.735462596795\t0.662502446071\t0.881877743078\t0.746126421904\t0.736177402545\t0.819938195939\t0.685735445544\t0.764658291888\t0.832947026991\t0.791317814992\t0.0\t0.716029456522\t0.845305499025\t0.665154641143\t0.689473981688\t0.694967963846\t0.752509290936\n",
      "CL4.141667\t0.723687929105\t0.712975534343\t0.816955958717\t0.75631808707\t0.778213349223\t0.729729299347\t0.732935216409\t0.781969112594\t0.758564389048\t0.707914683679\t0.78440334936\t0.753693065609\t0.742448001348\t0.783493783577\t0.754138156441\t0.722703435595\t0.687929862504\t0.758667220661\t0.710019180318\t0.788636774944\t0.744931612501\t0.805424451503\t0.725603710821\t0.768888153836\t0.760291188397\t0.719027623923\t0.6603153984\t0.732454508825\t0.768201372361\t0.812269108288\t0.73696596013\t0.767945116413\t0.793351855937\t0.76698235206\t0.768337536433\t0.756843043507\t0.707560085653\t0.693910455149\t0.820048961123\t0.734150867579\t0.758528768088\t0.765461010956\t0.766300395511\t0.821377271917\t0.734368889023\t0.718612881775\t0.769795583288\t0.830499259234\t0.762729675011\t0.741156935924\t0.701729298261\t0.797872199229\t0.780296048909\t0.785907363899\t0.777238497398\t0.774707403051\t0.738249420685\t0.769856611976\t0.859505241939\t0.703590106963\t0.771717596097\t0.718816958651\t0.799472678379\t0.732218384242\t0.809564014874\t0.749694802705\t0.76863102726\t0.720645676271\t0.811463941305\t0.815646762224\t0.707780286095\t0.72115514838\t0.74945085281\t0.826403732759\t0.763017486634\t0.74264802718\t0.809983952256\t0.733803678175\t0.770515502734\t0.793845982554\t0.747513499504\t0.716029456522\t0.0\t0.783854385076\t0.696562322543\t0.75227643219\t0.643700638144\t0.74110563838\n",
      "HF2.141686\t0.770607237982\t0.839352222705\t0.884155144409\t0.876014949306\t0.684182167348\t0.840337744149\t0.665883334697\t0.652984881002\t0.743270793638\t0.827680895118\t0.891223298179\t0.867234991527\t0.735634048261\t0.889042410545\t0.868728551256\t0.774114230451\t0.790244779836\t0.860835373051\t0.817955239376\t0.851111430626\t0.727007922727\t0.864344327398\t0.801849604228\t0.635775284016\t0.64854609308\t0.850533574247\t0.739642229848\t0.738040106634\t0.878115100752\t0.656070957254\t0.8680183401\t0.881913071593\t0.898197320086\t0.775923619821\t0.853070772835\t0.862697227388\t0.789883257837\t0.732274947001\t0.872670172552\t0.867277184482\t0.822897780874\t0.865319436723\t0.660533140577\t0.899908587875\t0.769813229397\t0.810250716743\t0.599627386916\t0.627483929896\t0.879193830584\t0.859787090071\t0.713408702839\t0.713737862829\t0.881374570981\t0.633492459719\t0.871759067258\t0.743366296325\t0.854121961974\t0.795425592732\t0.905626781473\t0.815971601857\t0.622990659516\t0.815717348088\t0.76581273241\t0.841591743629\t0.881841077057\t0.726135081299\t0.735534451903\t0.834110326334\t0.888624749827\t0.879847357602\t0.836909225786\t0.74211171729\t0.87990316156\t0.611744880521\t0.837689250972\t0.84056632118\t0.714126616863\t0.845093027174\t0.723966407675\t0.680970185063\t0.657930013977\t0.845305499025\t0.783854385076\t0.0\t0.819065849862\t0.875368467518\t0.802850934476\t0.736200970813\n",
      "VC2.141694\t0.713622333656\t0.71075488152\t0.770377998309\t0.695058991488\t0.808667885206\t0.707534609909\t0.768556021105\t0.812657135171\t0.764164355083\t0.647314738749\t0.73475744922\t0.725149389329\t0.800480544075\t0.718765195529\t0.720212169885\t0.696387849976\t0.656341427193\t0.73754725046\t0.6557433525\t0.709079480929\t0.802939081576\t0.781702051654\t0.731395561479\t0.786032105803\t0.766643831029\t0.676570436042\t0.721663255289\t0.724919029001\t0.740070761202\t0.842059387299\t0.671013306447\t0.724459714468\t0.760632930054\t0.761734802906\t0.710579083958\t0.733314575624\t0.695372891581\t0.724879141875\t0.812322185084\t0.679892329604\t0.75452338345\t0.722655885129\t0.765270778933\t0.792148096985\t0.691947469267\t0.67957234526\t0.796344569105\t0.852543361058\t0.741747125382\t0.685878150025\t0.731341652987\t0.798772170216\t0.705417670458\t0.786999045018\t0.740445937605\t0.806490041837\t0.734445025982\t0.797851510677\t0.853861443653\t0.697598491387\t0.79710378232\t0.706071350699\t0.799393035236\t0.676404575861\t0.802264773055\t0.725628661743\t0.813375126363\t0.73414481383\t0.768846336659\t0.788130986456\t0.691018029792\t0.702516428317\t0.717350647285\t0.865205521974\t0.749864260158\t0.720529426439\t0.797969848218\t0.683222666422\t0.758042575003\t0.816250235132\t0.747534081761\t0.665154641143\t0.696562322543\t0.819065849862\t0.0\t0.715197110076\t0.687342919183\t0.759480157455\n",
      "GB2.141732\t0.770994532905\t0.71206229417\t0.747001448824\t0.632045389698\t0.874000155512\t0.734445360388\t0.854646046721\t0.862470516065\t0.826204667726\t0.695879701421\t0.634899737912\t0.675452873053\t0.849515947701\t0.668264491098\t0.688543055343\t0.753568917792\t0.733058031358\t0.673653230302\t0.701916751581\t0.728078250552\t0.846225316004\t0.784083591095\t0.768804971837\t0.861268828623\t0.837943721195\t0.687593993656\t0.778750962915\t0.810168353197\t0.659605362215\t0.884111307714\t0.617102771113\t0.676800645518\t0.701954495981\t0.841850450134\t0.695534295702\t0.670386730768\t0.744835907608\t0.771160684122\t0.777042889592\t0.684411624551\t0.781727738939\t0.677240404892\t0.848591531374\t0.742799484469\t0.741760647444\t0.721351153488\t0.86161053667\t0.898995474904\t0.679145677822\t0.637913550416\t0.809092958293\t0.859539159625\t0.630375026126\t0.867329265308\t0.662347151758\t0.863526620261\t0.699873653053\t0.83752164786\t0.808653858523\t0.730544700821\t0.86735641637\t0.757584274262\t0.848556995076\t0.730858546781\t0.733001692069\t0.819622339098\t0.85655782029\t0.729948790326\t0.745086529527\t0.754114996833\t0.677000003005\t0.776229191185\t0.69956122176\t0.905900693941\t0.748039824524\t0.741279835045\t0.856836960687\t0.645054411855\t0.813446372063\t0.865617583214\t0.828326828857\t0.689473981688\t0.75227643219\t0.875368467518\t0.715197110076\t0.0\t0.756571233406\t0.819053773522\n",
      "CL2.141671\t0.713860366658\t0.700396287442\t0.829163370451\t0.745395557492\t0.803646149281\t0.721950100873\t0.732598123492\t0.79780306402\t0.75773899141\t0.681958043459\t0.784995003277\t0.761509560089\t0.778526897193\t0.776245244538\t0.746855720937\t0.695651663401\t0.651169888444\t0.756546671436\t0.689915792303\t0.751563116106\t0.757698941496\t0.81521784111\t0.72246988506\t0.766678118035\t0.779913619543\t0.721905945293\t0.629557344015\t0.729317687442\t0.775284115744\t0.809585278998\t0.752867926027\t0.765915147902\t0.797341731143\t0.779371890673\t0.75355544013\t0.763336486511\t0.678168586188\t0.693450677791\t0.845666360765\t0.73562906966\t0.749605300872\t0.734576179976\t0.77040933545\t0.840375768701\t0.712626943013\t0.697185267367\t0.787297088617\t0.839673548631\t0.768325279187\t0.764218460162\t0.69649557949\t0.797925934359\t0.784459699516\t0.78240093762\t0.773979887967\t0.782306077586\t0.693960004203\t0.765860544383\t0.860081326243\t0.715520474708\t0.782664039728\t0.732265197025\t0.801505220155\t0.702009156586\t0.823135630763\t0.734859452185\t0.771993470771\t0.702695024981\t0.816809984731\t0.811763294725\t0.684700821115\t0.717361093102\t0.756004682491\t0.849322421317\t0.746125579708\t0.723754219342\t0.795333572811\t0.725113726775\t0.740004286817\t0.779943436613\t0.758895935123\t0.694967963846\t0.643700638144\t0.802850934476\t0.687342919183\t0.756571233406\t0.0\t0.739202954285\n",
      "SK1.141669\t0.673966462302\t0.784531402763\t0.84125975609\t0.802090919047\t0.757202316601\t0.7312195981\t0.683121159457\t0.755930422531\t0.723513824746\t0.737931920496\t0.821181930555\t0.823124060588\t0.755217446253\t0.82191314658\t0.816435570277\t0.702129776343\t0.703262973651\t0.814004504088\t0.753669878145\t0.803409848127\t0.77377147222\t0.811811506882\t0.790669441712\t0.729267507328\t0.679808173491\t0.786178142443\t0.702153083184\t0.656183111229\t0.823802643262\t0.763273198585\t0.791789365256\t0.815177493712\t0.841684348216\t0.701138200838\t0.767966829765\t0.821362691168\t0.74459360168\t0.715329224577\t0.84387524155\t0.789672553182\t0.79599170556\t0.802285642218\t0.663088580062\t0.861461411726\t0.659512110227\t0.678818668805\t0.73039256079\t0.781965790877\t0.824930354978\t0.801021957759\t0.667803314634\t0.760561506299\t0.806981994218\t0.736833908955\t0.82626469244\t0.778301060805\t0.805009332868\t0.776666452051\t0.863537928291\t0.713350692266\t0.731933317937\t0.716594089061\t0.733506706792\t0.796756728962\t0.836501727494\t0.643385919151\t0.772000300991\t0.788380579067\t0.836449672179\t0.834159376\t0.762304956908\t0.681262319968\t0.802222279629\t0.778005573478\t0.750758368474\t0.801738612034\t0.732038610247\t0.766520804916\t0.626363378258\t0.747546118326\t0.702813350242\t0.752509290936\t0.74110563838\t0.736200970813\t0.759480157455\t0.819053773522\t0.739202954285\t0.0\"\"\"\n",
      "\n",
      "soil_dm = DistanceMatrix.from_file(StringIO(soil_dm_str))\n",
      "print soil_dm"
     ],
     "language": "python",
     "metadata": {},
     "outputs": [
      {
       "output_type": "stream",
       "stream": "stdout",
       "text": [
        "88x88 distance matrix\n",
        "IDs:\n",
        "IT2.141720, HI3.141676, MD2.141689, CA1.141704, PE5.141692, CO1.141714, ...\n",
        "Data:\n",
        "[[ 0.          0.72577309  0.84042375 ...,  0.77099453  0.71386037\n",
        "   0.67396646]\n",
        " [ 0.72577309  0.          0.81429344 ...,  0.71206229  0.70039629\n",
        "   0.7845314 ]\n",
        " [ 0.84042375  0.81429344  0.         ...,  0.74700145  0.82916337\n",
        "   0.84125976]\n",
        " ..., \n",
        " [ 0.77099453  0.71206229  0.74700145 ...,  0.          0.75657123\n",
        "   0.81905377]\n",
        " [ 0.71386037  0.70039629  0.82916337 ...,  0.75657123  0.          0.73920295]\n",
        " [ 0.67396646  0.7845314   0.84125976 ...,  0.81905377  0.73920295  0.        ]]\n"
       ]
      }
     ],
     "prompt_number": 70
    },
    {
     "cell_type": "code",
     "collapsed": false,
     "input": [
      "from skbio.maths.stats.ordination import PCoA\n",
      "\n",
      "pcoa = PCoA(soil_dm)\n",
      "pcoa_result = pcoa.scores()"
     ],
     "language": "python",
     "metadata": {},
     "outputs": [],
     "prompt_number": 77
    },
    {
     "cell_type": "code",
     "collapsed": false,
     "input": [
      "pcoa_matrix = pcoa_result.species\n",
      "pcoa_proportion_explained = pcoa_result.proportion_explained\n",
      "pcoa_ids = pcoa_result.ids\n"
     ],
     "language": "python",
     "metadata": {},
     "outputs": [],
     "prompt_number": 83
    },
    {
     "cell_type": "code",
     "collapsed": false,
     "input": [
      "ord_plot = scatter(pcoa_matrix[0], pcoa_matrix[1], s=40, c=[])"
     ],
     "language": "python",
     "metadata": {},
     "outputs": []
    },
    {
     "cell_type": "code",
     "collapsed": false,
     "input": [
      "from skbio.maths.stats.spatial import procrustes\n",
      "\n",
      "d, a1_values = compute_axis_values(human_microbiome_dm, 'E', 'B')\n",
      "d, a2_values = compute_axis_values(human_microbiome_dm, 'E', 'D')\n",
      "d, alt_a1_values = compute_axis_values(human_microbiome_dm, 'B', 'E')\n",
      "d, alt_a2_values = compute_axis_values(human_microbiome_dm, 'D', 'E')\n",
      "\n",
      "matrix1 = [a1_values, a2_values]\n",
      "matrix2 = [alt_a1_values, alt_a2_values]\n",
      "\n",
      "transformed_matrix1, transformed_matrix2, m2 = procrustes(matrix1, matrix2)\n",
      "print m2"
     ],
     "language": "python",
     "metadata": {},
     "outputs": [
      {
       "output_type": "stream",
       "stream": "stdout",
       "text": [
        "2.09773410328e-31\n"
       ]
      }
     ],
     "prompt_number": 56
    },
    {
     "cell_type": "code",
     "collapsed": false,
     "input": [
      "ord_plot = scatter(matrix1[0], matrix1[1], s=40, c=c)"
     ],
     "language": "python",
     "metadata": {},
     "outputs": [
      {
       "metadata": {},
       "output_type": "display_data",
       "png": "[encoded data removed]",
       "text": [
        "<matplotlib.figure.Figure at 0x11036d690>"
       ]
      }
     ],
     "prompt_number": 57
    },
    {
     "cell_type": "code",
     "collapsed": false,
     "input": [
      "ord_plot = scatter(matrix2[0], matrix2[1], s=40, c=c)"
     ],
     "language": "python",
     "metadata": {},
     "outputs": [
      {
       "metadata": {},
       "output_type": "display_data",
       "png": "[encoded data removed]",
       "text": [
        "<matplotlib.figure.Figure at 0x10e975c50>"
       ]
      }
     ],
     "prompt_number": 58
    },
    {
     "cell_type": "code",
     "collapsed": false,
     "input": [
      "ord_plot = scatter(transformed_matrix1[0], transformed_matrix1[1], s=40, c=c)"
     ],
     "language": "python",
     "metadata": {},
     "outputs": [
      {
       "metadata": {},
       "output_type": "display_data",
       "png": "[encoded data removed]",
       "text": [
        "<matplotlib.figure.Figure at 0x11005ce50>"
       ]
      }
     ],
     "prompt_number": 59
    },
    {
     "cell_type": "code",
     "collapsed": false,
     "input": [
      "ord_plot = scatter(transformed_matrix2[0], transformed_matrix2[1], s=40, c=c)"
     ],
     "language": "python",
     "metadata": {},
     "outputs": [
      {
       "metadata": {},
       "output_type": "display_data",
       "png": "[encoded data removed]",
       "text": [
        "<matplotlib.figure.Figure at 0x10e9c2450>"
       ]
      }
     ],
     "prompt_number": 60
    },
    {
     "cell_type": "code",
     "collapsed": false,
     "input": [
      "from random import shuffle\n",
      "\n",
      "shuffled_sample_ids = list(sample_ids)\n",
      "shuffle(shuffled_sample_ids)\n",
      "\n",
      "shuffled_dm = DistanceMatrix(dm_data, shuffled_sample_ids)\n",
      "\n",
      "d, shuffled_a1_values = compute_axis_values(shuffled_dm, 'E', 'B')\n",
      "d, shuffled_a2_values = compute_axis_values(shuffled_dm, 'E', 'D')\n",
      "\n",
      "shuffled_matrix1 = [shuffled_a1_values, shuffled_a2_values]\n",
      "ord_plot = scatter(shuffled_matrix1[0], shuffled_matrix1[1], s=40, \n",
      "                   c=[colors[human_microbiome_sample_md[e]['body_habitat']] for e in shuffled_dm.ids])\n"
     ],
     "language": "python",
     "metadata": {},
     "outputs": [
      {
       "metadata": {},
       "output_type": "display_data",
       "png": "[encoded data removed]",
       "text": [
        "<matplotlib.figure.Figure at 0x110244110>"
       ]
      }
     ],
     "prompt_number": 61
    },
    {
     "cell_type": "code",
     "collapsed": false,
     "input": [
      "transformed_matrix1, transformed_matrix2, m2 = procrustes(matrix1, shuffled_matrix1)\n",
      "print m2"
     ],
     "language": "python",
     "metadata": {},
     "outputs": [
      {
       "output_type": "stream",
       "stream": "stdout",
       "text": [
        "3.83917729657e-31\n"
       ]
      }
     ],
     "prompt_number": 62
    },
    {
     "cell_type": "code",
     "collapsed": false,
     "input": [
      "_, _, actual_m2 = procrustes(matrix1, matrix2)\n",
      "print actual_m2"
     ],
     "language": "python",
     "metadata": {},
     "outputs": [
      {
       "output_type": "stream",
       "stream": "stdout",
       "text": [
        "2.09773410328e-31\n"
       ]
      }
     ],
     "prompt_number": 63
    },
    {
     "cell_type": "code",
     "collapsed": false,
     "input": [
      "trial_m2 = []\n",
      "\n",
      "for i in range(100):\n",
      "    shuffle(shuffled_sample_ids)\n",
      "\n",
      "    shuffled_dm = DistanceMatrix(dm_data, shuffled_sample_ids)\n",
      "\n",
      "    d, shuffled_a1_values = compute_axis_values(shuffled_dm, 'E', 'B')\n",
      "    d, shuffled_a2_values = compute_axis_values(shuffled_dm, 'E', 'D')\n",
      "\n",
      "    shuffled_matrix1 = [shuffled_a1_values, shuffled_a2_values]\n",
      "    _, _, current_m2 = procrustes(matrix1, shuffled_matrix1)\n",
      "    trial_m2.append(current_m2)"
     ],
     "language": "python",
     "metadata": {},
     "outputs": [],
     "prompt_number": 64
    },
    {
     "cell_type": "code",
     "collapsed": false,
     "input": [
      "from pylab import hist\n",
      "hist(trial_m2)"
     ],
     "language": "python",
     "metadata": {},
     "outputs": [
      {
       "metadata": {},
       "output_type": "pyout",
       "prompt_number": 65,
       "text": [
        "(array([ 93.,   4.,   1.,   0.,   0.,   0.,   1.,   0.,   0.,   1.]),\n",
        " array([  8.15557981e-32,   9.79289523e-31,   1.87702325e-30,\n",
        "          2.77475697e-30,   3.67249070e-30,   4.57022442e-30,\n",
        "          5.46795815e-30,   6.36569187e-30,   7.26342560e-30,\n",
        "          8.16115932e-30,   9.05889305e-30]),\n",
        " <a list of 10 Patch objects>)"
       ]
      },
      {
       "metadata": {},
       "output_type": "display_data",
       "png": "[encoded data removed]",
       "text": [
        "<matplotlib.figure.Figure at 0x1101ea450>"
       ]
      }
     ],
     "prompt_number": 65
    },
    {
     "cell_type": "code",
     "collapsed": false,
     "input": [
      "count_better = 0\n",
      "for e in trial_m2:\n",
      "    if e < actual_m2:\n",
      "        count_better += 1\n",
      "print count_better"
     ],
     "language": "python",
     "metadata": {},
     "outputs": [
      {
       "output_type": "stream",
       "stream": "stdout",
       "text": [
        "46\n"
       ]
      }
     ],
     "prompt_number": 66
    },
    {
     "cell_type": "heading",
     "level": 3,
     "metadata": {},
     "source": [
      "Principal coordinates and principal components analysis"
     ]
    },
    {
     "cell_type": "markdown",
     "metadata": {},
     "source": [
      "Principal Coordinates Analysis (PCoA)\n",
      "\n",
      "* Similar to PO: represents distances between samples\n",
      "* Maximizes the correlation between sample distances, and represents that in low-dimensional space (usually 2 or 3 dimensions)\n",
      "* Based on Eigenvalues of matrices\n",
      "\n",
      "Principal components analysis (PCA)\n",
      "\n",
      "* PCA begins with sample by observation count table and computes Euclidean distance between samples. \n",
      "* PCoA begins with a distance matrix.\n",
      "* PCoA is much more useful in ecology as it allows us to use arbitrary distance metrics (for example, phylogenetic diversity metrics).\n",
      "* When using Euclidean distance, PCoA = PCA\n"
     ]
    },
    {
     "cell_type": "heading",
     "level": 2,
     "metadata": {},
     "source": [
      "Acknowledgements"
     ]
    },
    {
     "cell_type": "markdown",
     "metadata": {},
     "source": [
      "The majority of content in this section is based on knowledge that I gained through years of working with [Rob Knight](https://knightlab.colorado.edu/) and the rest of the [QIIME](http://qiime.org/) [development group](https://github.com/biocore/qiime/graphs/contributors). Thanks everyone, I'm looking forward to many more years of productive, fun and exciting work together!"
     ]
    }
   ],
   "metadata": {}
  }
 ]
}