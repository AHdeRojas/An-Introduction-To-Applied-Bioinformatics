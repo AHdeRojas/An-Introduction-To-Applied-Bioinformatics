{
 "metadata": {
  "name": "",
  "signature": "sha256:c68c9b4a5a2cd6a36ecaa3bd6e23af6d09506a36f391a5bf863113958cbfdc48"
 },
 "nbformat": 3,
 "nbformat_minor": 0,
 "worksheets": [
  {
   "cells": [
    {
     "cell_type": "markdown",
     "metadata": {},
     "source": [
      "This chapter is in very early development. In the meantime, I recommend [Measuring Biological Diversity](http://www.amazon.com/Measuring-Biological-Diversity-Anne-Magurran/dp/0632056339) by Anne E. Magurran, and the [QIIME tutorials](http://qiime.org/tutorials/index.html) to learn more about this topic. "
     ]
    },
    {
     "cell_type": "heading",
     "level": 1,
     "metadata": {},
     "source": [
      "Studying Biological Diversity"
     ]
    },
    {
     "cell_type": "heading",
     "level": 2,
     "metadata": {},
     "source": [
      "Getting started: the sample by observation count/frequency table"
     ]
    },
    {
     "cell_type": "markdown",
     "metadata": {},
     "source": [
      "From a bioinformatics perspective, studying biological diversity is centered around a few key pieces of information:\n",
      "\n",
      "* A table of the counts (or relative abundances) of certain biological observations (e.g., species or OTUs) on a per sample basis.\n",
      "* *Sample metadata* describing exactly what each of the samples is, as well as any relevant technical information. \n",
      "* Optionally, information on the relationships between the biological observations, typically in the form of a phylogenetic tree where tips in the tree correspond to OTUs in the table.\n",
      "\n",
      "None of these are trival to generate (defining OTUs was described in the [OTU clustering chapter](http://nbviewer.ipython.org/urls/raw.githubusercontent.com/gregcaporaso/An-Introduction-To-Applied-Bioinformatics/master/algorithms/5-sequence-mapping-and-clustering.ipynb?create=1), building trees in the [Phylogenetic reconstruction chapter](http://nbviewer.ipython.org/github/gregcaporaso/An-Introduction-To-Applied-Bioinformatics/blob/master/algorithms/3-phylogeny-reconstruction.ipynb), and there is a lot of active work on standardized ways to describe samples in the form of metadata, for example [Yilmaz et al (2011)](http://www.nature.com/nbt/journal/v29/n5/full/nbt.1823.html) and the [isa-tab](http://isa-tools.org/) project. For this discussion we're going to largely ignore the complexities of generating each of these, so we can focus on how we study diversity.\n",
      "\n",
      "<hr> \n",
      "\n",
      "The sample by observation count table is central to investigations of biological diversity. The Genomics Standards Consortium has recognized the [Biological Observation Matrix](http://www.biom-format.org) ([McDonald et al. (2011) *Gigascience*](http://www.gigasciencejournal.com/content/1/1/7)), or `biom-format` software and file format definition as a community standard for representing those tables. We'll use the `biom-format` python package here to work with these tables, and we'll refer to these tables through-out this chapter as *BIOM tables*.\n",
      "\n",
      "The basic data that goes into a BIOM table is the list of sample ids, the list of observation (e.g., OTU) ids, and the count matrix, which describes how many times each OTU was observed in each sample. We can build and display a BIOM table as follows:"
     ]
    },
    {
     "cell_type": "code",
     "collapsed": false,
     "input": [
      "from biom.table import table_factory, SparseOTUTable\n",
      "from numpy import array\n",
      "\n",
      "sample_ids = ['A', 'B', 'C']\n",
      "observation_ids = ['OTU1', 'OTU2', 'OTU3', 'OTU4', 'OTU5']\n",
      "data = array([[1, 0, 0],\n",
      "              [3, 2, 0],\n",
      "              [0, 0, 6],\n",
      "              [1, 4, 2],\n",
      "              [0, 4, 1]])\n",
      "\n",
      "table1 = table_factory(data,\n",
      "                  sample_ids,\n",
      "                  observation_ids,\n",
      "                  sample_md = [],\n",
      "                  observation_md = [],\n",
      "                  constructor=SparseOTUTable)\n",
      "\n",
      "print table1"
     ],
     "language": "python",
     "metadata": {},
     "outputs": [
      {
       "output_type": "stream",
       "stream": "stdout",
       "text": [
        "# Constructed from biom file\n",
        "#OTU ID\tA\tB\tC\n",
        "OTU1\t1.0\t0.0\t0.0\n",
        "OTU2\t3.0\t2.0\t0.0\n",
        "OTU3\t0.0\t0.0\t6.0\n",
        "OTU4\t1.0\t4.0\t2.0\n",
        "OTU5\t0.0\t4.0\t1.0\n"
       ]
      }
     ],
     "prompt_number": 1
    },
    {
     "cell_type": "markdown",
     "metadata": {},
     "source": [
      "The [biom-format API documentation](http://biom-format.org/documentation/table_objects.html) describes the functionality available for working with these tables once they're loaded. For example, if we want the observation count vector for sample `A` from the above table, we could get that as follows:"
     ]
    },
    {
     "cell_type": "code",
     "collapsed": false,
     "input": [
      "table1.sampleData('A')"
     ],
     "language": "python",
     "metadata": {},
     "outputs": [
      {
       "metadata": {},
       "output_type": "pyout",
       "prompt_number": 2,
       "text": [
        "array([ 1.,  3.,  0.,  1.,  0.])"
       ]
      }
     ],
     "prompt_number": 2
    },
    {
     "cell_type": "markdown",
     "metadata": {},
     "source": [
      "**TODO**: Trees in newick format; sample metadata in tsv format, and loaded into a pandas DataFrame.\n",
      "\n",
      "Before we start looking at what we can do with this data once we have it, let's discuss some terminology."
     ]
    },
    {
     "cell_type": "heading",
     "level": 2,
     "metadata": {},
     "source": [
      "Terminology"
     ]
    },
    {
     "cell_type": "markdown",
     "metadata": {},
     "source": [
      "There are literally hundreds of metrics of biological diversity. Here is some terminology that is useful for classifying these metrics. \n",
      "\n",
      "**Alpha versus beta diversity**\n",
      "\n",
      " * $\\alpha$ (i.e., within sample) diversity: Who is there? How many are there? \n",
      " * $\\beta$ (i.e., between sample) diversity: How similar are pairs of samples?    \n",
      "\n",
      "**Quantitative versus qualitative metrics**\n",
      "\n",
      " * qualitative metrices only account for whether an organism is present or absent\n",
      " * quantitative metrics account for abundance \n",
      "\n",
      "**Phylogenetic versus non-phylogenetic metrics**\n",
      "\n",
      " * non-phylogenetic metrics treat all OTUs as being equally related\n",
      " * phylogenetic metrics incorporate evolutionary relationships between the OTUs\n",
      "\n",
      "\n",
      "In the next sections we'll look at some metrics that cross these different categories. As new metrics are introduced, try to classify each them into one class for each of the above three categories."
     ]
    },
    {
     "cell_type": "heading",
     "level": 2,
     "metadata": {},
     "source": [
      "Measuring alpha diversity"
     ]
    },
    {
     "cell_type": "markdown",
     "metadata": {},
     "source": [
      "The first type of metric that we'll look at will be alpha diversity, and we'll specifically focus on *richness* here. Richness refers to how many different *types* of organisms are present in a sample: for example, if we're interested in species richness of plants in the Sonoran Desert and the Costa Rican rainforest, we could go to each, count the number of different species of plants that we observe, and have a basic measure of species richness in each environment. \n",
      "\n",
      "An alternative type of alpha diversity measure would be *evenness*, and would tell us how even or uneven the distribution of species abundances are in a given environment. If, for example, the most abundant plant in the Sonoran desert was roughly as common as the least abundant plant (not the case!), we would say that the evenness of plant species was high. On the other hand, if the most abundant plant was thousands of times more common than the least common plant (probably closer to the truth), then we'd say that the evenness of plant species was low. We won't discuss evenness more here, but you can find coverage of this topic (as well as many of the others presented here) in [Measuring Biological Diversity](http://www.amazon.com/Measuring-Biological-Diversity-Anne-Magurran/dp/0632056339).\n",
      "\n",
      "Let's look at two metrics of alpha diversity: observed species, and phylogenetic diversity."
     ]
    },
    {
     "cell_type": "heading",
     "level": 4,
     "metadata": {},
     "source": [
      "Observed species (or Observed OTUs)"
     ]
    },
    {
     "cell_type": "markdown",
     "metadata": {},
     "source": [
      "Observed species, or Observed OTUs as it's more accurately described, is about as simple of a metric as can be used to quantify alpha diversity. With this metric, we simply count the OTUs that are observed in a given sample. Note that this is a qualitative metric: we treat each OTU as being observed or not observed - we don't care how many times it was observed.\n",
      "\n",
      "Let's define a new table for this analysis:"
     ]
    },
    {
     "cell_type": "code",
     "collapsed": false,
     "input": [
      "sample_ids = ['A', 'B', 'C']\n",
      "observation_ids = ['B1','B2','B3','B4','B5','A1','E2']\n",
      "data = array([[1, 1, 5],\n",
      "              [1, 2, 0],\n",
      "              [3, 1, 0],\n",
      "              [0, 2, 0],\n",
      "              [0, 0, 0],\n",
      "              [0, 0, 3],\n",
      "              [0, 0, 1]])\n",
      "\n",
      "table2 = table_factory(data,\n",
      "                  sample_ids,\n",
      "                  observation_ids,\n",
      "                  sample_md = [],\n",
      "                  observation_md = [],\n",
      "                  constructor=SparseOTUTable)\n",
      "\n",
      "print table2"
     ],
     "language": "python",
     "metadata": {},
     "outputs": [
      {
       "output_type": "stream",
       "stream": "stdout",
       "text": [
        "# Constructed from biom file\n",
        "#OTU ID\tA\tB\tC\n",
        "B1\t1.0\t1.0\t5.0\n",
        "B2\t1.0\t2.0\t0.0\n",
        "B3\t3.0\t1.0\t0.0\n",
        "B4\t0.0\t2.0\t0.0\n",
        "B5\t0.0\t0.0\t0.0\n",
        "A1\t0.0\t0.0\t3.0\n",
        "E2\t0.0\t0.0\t1.0\n"
       ]
      }
     ],
     "prompt_number": 3
    },
    {
     "cell_type": "markdown",
     "metadata": {},
     "source": [
      "Our sample $A$ has an observed OTU count value of 3, sample $B$ has an observed OTU count of 4, and sample $C$ has an observed OTU count of 3. Note that this is different than the total counts for each column (which would be 5, 6, and 9 respectively). Based on the observed OTUs metric, we could consider samples $A$ and $C$ to have even OTU richness, and sample $B$ to have 33% higher OTU richness.\n",
      "\n",
      "We could compute this in python as follows:"
     ]
    },
    {
     "cell_type": "code",
     "collapsed": false,
     "input": [
      "def observed_otus(table, sample_id):\n",
      "    return sum([e > 0 for e in table.sampleData(sample_id)])"
     ],
     "language": "python",
     "metadata": {},
     "outputs": [],
     "prompt_number": 4
    },
    {
     "cell_type": "code",
     "collapsed": false,
     "input": [
      "print observed_otus(table2, 'A')"
     ],
     "language": "python",
     "metadata": {},
     "outputs": [
      {
       "output_type": "stream",
       "stream": "stdout",
       "text": [
        "3\n"
       ]
      }
     ],
     "prompt_number": 5
    },
    {
     "cell_type": "code",
     "collapsed": false,
     "input": [
      "print observed_otus(table2, 'B')"
     ],
     "language": "python",
     "metadata": {},
     "outputs": [
      {
       "output_type": "stream",
       "stream": "stdout",
       "text": [
        "4\n"
       ]
      }
     ],
     "prompt_number": 6
    },
    {
     "cell_type": "code",
     "collapsed": false,
     "input": [
      "print observed_otus(table2, 'C')"
     ],
     "language": "python",
     "metadata": {},
     "outputs": [
      {
       "output_type": "stream",
       "stream": "stdout",
       "text": [
        "3\n"
       ]
      }
     ],
     "prompt_number": 7
    },
    {
     "cell_type": "heading",
     "level": 4,
     "metadata": {},
     "source": [
      "A limitation of OTU counting"
     ]
    },
    {
     "cell_type": "markdown",
     "metadata": {},
     "source": [
      "Imagine now that we have the same table, but some additional information about the OTUs in the table. Specifically, we've computed the following phylogenetic tree. And, for the sake of illustration, imagine that we've also assigned taxonomy to each of the OTUs and found that our samples contain representatives from the archaea, bacteria, and eukaryotes (their labels begin with `A`, `B`, and `E`, respectively).\n",
      "\n",
      "<img src=\"files/images/pd_calc_tree.png\">\n",
      "\n",
      "Pairing this with the table we defined above (displayed again in the cell below), given what you now now about these OTUs, which would you consider the most diverse? Are you happy with the $\\alpha$ diversity conclusion that you obtained when computing the number of observed OTUs in each sample?"
     ]
    },
    {
     "cell_type": "code",
     "collapsed": false,
     "input": [
      "print table2"
     ],
     "language": "python",
     "metadata": {},
     "outputs": [
      {
       "output_type": "stream",
       "stream": "stdout",
       "text": [
        "# Constructed from biom file\n",
        "#OTU ID\tA\tB\tC\n",
        "B1\t1.0\t1.0\t5.0\n",
        "B2\t1.0\t2.0\t0.0\n",
        "B3\t3.0\t1.0\t0.0\n",
        "B4\t0.0\t2.0\t0.0\n",
        "B5\t0.0\t0.0\t0.0\n",
        "A1\t0.0\t0.0\t3.0\n",
        "E2\t0.0\t0.0\t1.0\n"
       ]
      }
     ],
     "prompt_number": 8
    },
    {
     "cell_type": "heading",
     "level": 4,
     "metadata": {},
     "source": [
      "Phylogenetic Diversity (PD)"
     ]
    },
    {
     "cell_type": "markdown",
     "metadata": {},
     "source": [
      "**TODO:** add discussion of PD and forumla for computing.\n",
      "\n",
      "**TODO:** add code from scikit-bio when it is added there.\n",
      "\n",
      "First, let's define a phylogenetic tree using the newick format (which is described [here](http://evolution.genetics.washington.edu/phylip/newicktree.html), and more formally defined [here](http://evolution.genetics.washington.edu/phylip/newick_doc.html))."
     ]
    },
    {
     "cell_type": "code",
     "collapsed": false,
     "input": [
      "newick_tree = '(((B1:0.2,B2:0.3):0.3,((B3:0.5,B4:0.3):0.2,B5:0.9):0.3):0.35,(((A1:0.2,A2:0.3):0.3,(E1:0.3,E2:0.4):0.7):0.2):0.05)root;'"
     ],
     "language": "python",
     "metadata": {},
     "outputs": [],
     "prompt_number": 9
    },
    {
     "cell_type": "code",
     "collapsed": false,
     "input": [
      "from skbio.core.tree import TreeNode\n",
      "\n",
      "def get_observed_nodes(tree, table, sample_id, verbose=False):\n",
      "    observed_otus = [obs_id for obs_id in table.ObservationIds \n",
      "                if table.getValueByIds(obs_id, sample_id) > 0]\n",
      "    observed_nodes = set()\n",
      "    # iterate over the observed OTUs\n",
      "    for otu in observed_otus:\n",
      "        t = tree.find(otu)\n",
      "        observed_nodes.add(t)\n",
      "        if verbose:\n",
      "            print t.name, t.length, \n",
      "        for internal_node in t.ancestors():\n",
      "            if internal_node.length is None:\n",
      "                # we've hit the root\n",
      "                if verbose:\n",
      "                    print\n",
      "            else:\n",
      "                if verbose and internal_node not in observed_nodes:\n",
      "                    print internal_node.length,\n",
      "                observed_nodes.add(internal_node)\n",
      "    return observed_nodes\n",
      "\n",
      "def phylogenetic_diversity(tree, table, sample_id, verbose=False):\n",
      "    observed_nodes = get_observed_nodes(tree, table, sample_id, verbose=verbose)\n",
      "    pd = sum(o.length for o in observed_nodes)\n",
      "    return pd"
     ],
     "language": "python",
     "metadata": {},
     "outputs": [],
     "prompt_number": 10
    },
    {
     "cell_type": "code",
     "collapsed": false,
     "input": [
      "tree = TreeNode.from_newick(newick_tree)\n",
      "tree = tree.root_at_midpoint()"
     ],
     "language": "python",
     "metadata": {},
     "outputs": [],
     "prompt_number": 11
    },
    {
     "cell_type": "code",
     "collapsed": false,
     "input": [
      "pd_A = phylogenetic_diversity(tree, table2, 'A', verbose=True)\n",
      "print pd_A"
     ],
     "language": "python",
     "metadata": {},
     "outputs": [
      {
       "output_type": "stream",
       "stream": "stdout",
       "text": [
        "B1 0.2 0.3 0.25\n",
        "B2 0.3\n",
        "B3 0.5 0.2 0.3\n",
        "2.05\n"
       ]
      }
     ],
     "prompt_number": 12
    },
    {
     "cell_type": "code",
     "collapsed": false,
     "input": [
      "pd_B = phylogenetic_diversity(tree, table2, 'B', verbose=True)\n",
      "print pd_B"
     ],
     "language": "python",
     "metadata": {},
     "outputs": [
      {
       "output_type": "stream",
       "stream": "stdout",
       "text": [
        "B1 0.2 0.3 0.25\n",
        "B2 0.3\n",
        "B3 0.5 0.2 0.3\n",
        "B4 0.3\n",
        "2.35\n"
       ]
      }
     ],
     "prompt_number": 13
    },
    {
     "cell_type": "code",
     "collapsed": false,
     "input": [
      "pd_C = phylogenetic_diversity(tree, table2, 'C', verbose=True)\n",
      "print pd_C"
     ],
     "language": "python",
     "metadata": {},
     "outputs": [
      {
       "output_type": "stream",
       "stream": "stdout",
       "text": [
        "B1 0.2 0.3 0.25\n",
        "A1 0.2 0.3 0.2 0.05 0.1\n",
        "E2 0.4 0.7\n",
        "2.7\n"
       ]
      }
     ],
     "prompt_number": 14
    },
    {
     "cell_type": "heading",
     "level": 4,
     "metadata": {},
     "source": [
      "Even sampling"
     ]
    },
    {
     "cell_type": "markdown",
     "metadata": {},
     "source": [
      "Imagine again that we're going out to count plants in the Sonoran Desert and the Costa Rican rainforest. We're interested in getting an idea of the plant richness in each environment. In the Sonoran Desert, we survey a square kilometer area, and count 150 species of plants. In the rainforest, we survey a square meter, and count 15 species of plants. So, clearly the plant species richness in the Sonoran Desert is higher, right? What's wrong with this comparison?\n",
      "\n",
      "The problem is that we've expended a lot more sampling effort in the desert than we did in the rainforest, so it shouldn't be surprising that we observed more species there. If we expended the same effort in the rainforest, we'd probably observe a lot more than 15 or 150 plant species, and we'd have a more sound comparison.\n",
      "\n",
      "In sequencing-based studies of microorganism richness, the analog of sampling area is sequencing depth. If we collect 100 sequences from one sample, and 10,000 sequences from another sample, we can't directly compare the number of observed OTUs or the phylogenetic diversity of these because we expended a lot more sampling effort on the sample with 10,000 sequences than on the sample with 100 sequences. The way this is typically handled is by randomly subsampling sequences from the sample with more sequences until the sequencing depth is equal to that in the sample with fewer sequences. If we randomly select 100 sequences at random from the sample with 10,000 sequences, and compute the alpha diversity based on that random subsample, we'll have a better idea of the relative alpha diversities of the two samples."
     ]
    },
    {
     "cell_type": "code",
     "collapsed": false,
     "input": [
      "sample_ids = ['A', 'B', 'C']\n",
      "observation_ids = ['OTU1', 'OTU2', 'OTU3', 'OTU4', 'OTU5']\n",
      "data = array([[50, 4, 0],\n",
      "              [35, 200, 0],\n",
      "              [100, 2, 1],\n",
      "              [15, 400, 1],\n",
      "              [0, 40, 1]])\n",
      "\n",
      "bad_table = table_factory(data,\n",
      "                  sample_ids,\n",
      "                  observation_ids,\n",
      "                  sample_md = [],\n",
      "                  observation_md = [],\n",
      "                  constructor=SparseOTUTable)\n",
      "\n",
      "print bad_table"
     ],
     "language": "python",
     "metadata": {},
     "outputs": [
      {
       "output_type": "stream",
       "stream": "stdout",
       "text": [
        "# Constructed from biom file\n",
        "#OTU ID\tA\tB\tC\n",
        "OTU1\t50.0\t4.0\t0.0\n",
        "OTU2\t35.0\t200.0\t0.0\n",
        "OTU3\t100.0\t2.0\t1.0\n",
        "OTU4\t15.0\t400.0\t1.0\n",
        "OTU5\t0.0\t40.0\t1.0\n"
       ]
      }
     ],
     "prompt_number": 15
    },
    {
     "cell_type": "code",
     "collapsed": false,
     "input": [
      "print observed_otus(bad_table, 'A')"
     ],
     "language": "python",
     "metadata": {},
     "outputs": [
      {
       "output_type": "stream",
       "stream": "stdout",
       "text": [
        "4\n"
       ]
      }
     ],
     "prompt_number": 16
    },
    {
     "cell_type": "code",
     "collapsed": false,
     "input": [
      "print observed_otus(bad_table, 'B')"
     ],
     "language": "python",
     "metadata": {},
     "outputs": [
      {
       "output_type": "stream",
       "stream": "stdout",
       "text": [
        "5\n"
       ]
      }
     ],
     "prompt_number": 17
    },
    {
     "cell_type": "code",
     "collapsed": false,
     "input": [
      "print observed_otus(bad_table, 'C')"
     ],
     "language": "python",
     "metadata": {},
     "outputs": [
      {
       "output_type": "stream",
       "stream": "stdout",
       "text": [
        "3\n"
       ]
      }
     ],
     "prompt_number": 18
    },
    {
     "cell_type": "code",
     "collapsed": false,
     "input": [
      "print zip(bad_table.SampleIds, bad_table.sum('sample'))"
     ],
     "language": "python",
     "metadata": {},
     "outputs": [
      {
       "output_type": "stream",
       "stream": "stdout",
       "text": [
        "[('A', 200.0), ('B', 646.0), ('C', 3.0)]\n"
       ]
      }
     ],
     "prompt_number": 19
    },
    {
     "cell_type": "markdown",
     "metadata": {},
     "source": [
      "**TODO**: Add alpha rarefaction discussion."
     ]
    },
    {
     "cell_type": "heading",
     "level": 2,
     "metadata": {},
     "source": [
      "Measuring beta diversity"
     ]
    },
    {
     "cell_type": "markdown",
     "metadata": {},
     "source": [
      "$\\beta$-diversity (canonically pronounced *beta diversity*) refers to **between sample diversity**, and is typically used to answer questions of the form: is sample $A$ more similar in composition to sample $B$ or sample $C$? In this section we'll explore two (of tens or hundreds) of metrics for computing pairwise dissimilarity of samples to estimate $\\beta$ diversity."
     ]
    },
    {
     "cell_type": "heading",
     "level": 3,
     "metadata": {},
     "source": [
      "Distance metrics"
     ]
    },
    {
     "cell_type": "heading",
     "level": 4,
     "metadata": {},
     "source": [
      "Bray-Curtis"
     ]
    },
    {
     "cell_type": "markdown",
     "metadata": {},
     "source": [
      "The first metric that we'll look at is a quantitative non-phylogenetic $\\beta$ diversity metric called Bray-Curtis. The Bray-Curtis dissimilarity between a pair of samples, $j$ and $k$, is defined as follows:\n",
      "\n",
      "$BC_{jk} = \\frac{ \\sum_{i} | X_{ij} \u2013 X_{ik}|} {\\sum_{i} (X_{ij} + X_{ik})}$\n",
      "\n",
      "$i$ : observation (e.g., OTUs)\n",
      "\n",
      "$X_{ij}$ : count of observation $i$ in sample $j$\n",
      "\n",
      "$X_{ik}$ : count of observation $i$ in sample $k$\n",
      "\n",
      "This could be implemented in python as follows:\n"
     ]
    },
    {
     "cell_type": "code",
     "collapsed": false,
     "input": [
      "def bray_curtis_distance(table, sample1_id, sample2_id):\n",
      "    numerator = 0\n",
      "    denominator = 0\n",
      "    sample1_counts = table.sampleData(sample1_id)\n",
      "    sample2_counts = table.sampleData(sample2_id)\n",
      "    for sample1_count, sample2_count in zip(sample1_counts, sample2_counts):\n",
      "        numerator += abs(sample1_count - sample2_count)\n",
      "        denominator += sample1_count + sample2_count\n",
      "    return numerator / denominator"
     ],
     "language": "python",
     "metadata": {},
     "outputs": [],
     "prompt_number": 20
    },
    {
     "cell_type": "code",
     "collapsed": false,
     "input": [
      "print table1"
     ],
     "language": "python",
     "metadata": {},
     "outputs": [
      {
       "output_type": "stream",
       "stream": "stdout",
       "text": [
        "# Constructed from biom file\n",
        "#OTU ID\tA\tB\tC\n",
        "OTU1\t1.0\t0.0\t0.0\n",
        "OTU2\t3.0\t2.0\t0.0\n",
        "OTU3\t0.0\t0.0\t6.0\n",
        "OTU4\t1.0\t4.0\t2.0\n",
        "OTU5\t0.0\t4.0\t1.0\n"
       ]
      }
     ],
     "prompt_number": 21
    },
    {
     "cell_type": "markdown",
     "metadata": {},
     "source": [
      "Let's now apply this to some pairs of samples:"
     ]
    },
    {
     "cell_type": "code",
     "collapsed": false,
     "input": [
      "print bray_curtis_distance(table1, 'A', 'B')"
     ],
     "language": "python",
     "metadata": {},
     "outputs": [
      {
       "output_type": "stream",
       "stream": "stdout",
       "text": [
        "0.6\n"
       ]
      }
     ],
     "prompt_number": 22
    },
    {
     "cell_type": "code",
     "collapsed": false,
     "input": [
      "print bray_curtis_distance(table1, 'A', 'C')"
     ],
     "language": "python",
     "metadata": {},
     "outputs": [
      {
       "output_type": "stream",
       "stream": "stdout",
       "text": [
        "0.857142857143\n"
       ]
      }
     ],
     "prompt_number": 23
    },
    {
     "cell_type": "code",
     "collapsed": false,
     "input": [
      "print bray_curtis_distance(table1, 'B', 'C')"
     ],
     "language": "python",
     "metadata": {},
     "outputs": [
      {
       "output_type": "stream",
       "stream": "stdout",
       "text": [
        "0.684210526316\n"
       ]
      }
     ],
     "prompt_number": 24
    },
    {
     "cell_type": "code",
     "collapsed": false,
     "input": [
      "print bray_curtis_distance(table1, 'A', 'A')"
     ],
     "language": "python",
     "metadata": {},
     "outputs": [
      {
       "output_type": "stream",
       "stream": "stdout",
       "text": [
        "0.0\n"
       ]
      }
     ],
     "prompt_number": 25
    },
    {
     "cell_type": "code",
     "collapsed": false,
     "input": [
      "print bray_curtis_distance(table1, 'C', 'B')"
     ],
     "language": "python",
     "metadata": {},
     "outputs": [
      {
       "output_type": "stream",
       "stream": "stdout",
       "text": [
        "0.684210526316\n"
       ]
      }
     ],
     "prompt_number": 26
    },
    {
     "cell_type": "markdown",
     "metadata": {},
     "source": [
      "Ultimately, we likely want to apply this to all pairs of samples to get a distance matrix containing all pairwise distances. Let's define a function for that, and then compute all pairwise Bray-Curtis distances between samples `A`, `B` and `C`."
     ]
    },
    {
     "cell_type": "code",
     "collapsed": false,
     "input": [
      "from skbio.core.distance import DistanceMatrix\n",
      "from numpy import zeros\n",
      "\n",
      "def table_to_distances(table, pairwise_distance_fn):\n",
      "    sample_ids = table.SampleIds\n",
      "    num_samples = len(sample_ids)\n",
      "    data = zeros((num_samples, num_samples))\n",
      "    for i, sample1_id in enumerate(sample_ids):\n",
      "        for j, sample2_id in enumerate(sample_ids[:i]):\n",
      "            data[i,j] = data[j,i] = \\\n",
      "             pairwise_distance_fn(table, sample1_id, sample2_id)\n",
      "    return DistanceMatrix(data, sample_ids)"
     ],
     "language": "python",
     "metadata": {},
     "outputs": [],
     "prompt_number": 27
    },
    {
     "cell_type": "code",
     "collapsed": false,
     "input": [
      "bc_dm = table_to_distances(table1, bray_curtis_distance)\n",
      "print bc_dm"
     ],
     "language": "python",
     "metadata": {},
     "outputs": [
      {
       "output_type": "stream",
       "stream": "stdout",
       "text": [
        "3x3 distance matrix\n",
        "IDs:\n",
        "A, B, C\n",
        "Data:\n",
        "[[ 0.          0.6         0.85714286]\n",
        " [ 0.6         0.          0.68421053]\n",
        " [ 0.85714286  0.68421053  0.        ]]\n"
       ]
      }
     ],
     "prompt_number": 28
    },
    {
     "cell_type": "heading",
     "level": 4,
     "metadata": {},
     "source": [
      "Unweighted UniFrac"
     ]
    },
    {
     "cell_type": "markdown",
     "metadata": {},
     "source": [
      "Just as phylogenetic alpha diversity metrics can be more informative than non-phylogenetic alpha diversity metrics, phylogenetic beta diversity metrics offer advantages over non-phylogenetic metrics such as Bray-Curtis. The most widely applied phylogenetic beta diversity metric as of this writing is unweighted UniFrac. UniFrac was initially presented in [Lozupone and Knight, 2005, Applied and Environmental Microbiology](http://aem.asm.org/content/71/12/8228.abstract), and has been widely applied in microbial ecology since (and the illustration of UniFrac computation presented below is derived from a similar example originally developed by Lozupone and Knight).\n",
      "\n",
      "The unweighted UniFrac distance between a pair of samples `A` and `B` is defined as follows:\n",
      "\n",
      "$U_{AB} = \\frac{unique}{observed}$\n",
      "\n",
      "where:\n",
      "\n",
      "$unique$ : the unique branch length, or branch length that only leads to OTU(s) observed in sample $A$ or sample $B$\n",
      "\n",
      "$observed$ : the total branch length observed in either sample $A$ or sample $B$"
     ]
    },
    {
     "cell_type": "markdown",
     "metadata": {},
     "source": [
      "<div style=\"float: right; margin-left: 30px;\"><img title=\"Image by @gregcaporaso.\" style=\"float: right; margin-left: 30px;\" src=\"files/images/unifrac_tree_d0.png\" align=right/></div>\n",
      "\n",
      "To illustrate how UniFrac distances are computed, before we get into actually computing them, let's look at a few examples. In these examples, imagine that we're determining the pairwise UniFrac distance between two samples: a red sample, and a blue sample. If a red box appears next to an OTU, that indicates that it's observed in the red sample; if a blue box appears next to the OTU, that indicates that it's observed in the blue sample; if a red and blue box appears next to the OTU, that indicates that the OTU is present in both samples; and if no box is presented next to the OTU, that indicates that it's present in neither sample.\n",
      "\n",
      "To compute the UniFrac distance between a pair of samples, we need to know the sum of the branch length that was observed in either sample (the *observed* branch length), and the sum of the branch length that was observed only in a single sample (the *unique* branch length). In these examples, we color all of the *observed* branch length. Branch length that is unique to the red sample is red, branch length that is unique to the blue sample is blue, and branch length that is observed in both samples is purple. Unobserved branch length is black (as is the vertical branches, as those don't contribute to branch length - they are purely for visual presentation). \n",
      "\n",
      "In the tree on the right, all of the OTUs that are observed in either sample are observed in both samples. As a result, all of the observed branch length is purple. The unique branch length in this case is zero, so **we have a UniFrac distance of 0 between the red and blue samples**."
     ]
    },
    {
     "cell_type": "markdown",
     "metadata": {},
     "source": [
      "<hr>\n",
      "\n",
      "<div style=\"float: right; margin-left: 30px;\"><img title=\"Image by @gregcaporaso.\" style=\"float: right; margin-left: 30px;\" src=\"files/images/unifrac_tree_d1.png\" align=right/></div>\n",
      "\n",
      "On the other end of the spectrum, in the second tree, all of the OTUs in the tree are observed either in the red sample, or in the blue sample. All of the observed branch length in the tree is either red or blue, meaning that if you follow a branch out to the tips, you will observed only red or blue samples. In this case the unique branch length is equal to the observed branch length, so **we have a UniFrac distance of 1 between the red and blue samples**.\n"
     ]
    },
    {
     "cell_type": "markdown",
     "metadata": {},
     "source": [
      "<hr>\n",
      "\n",
      "<div style=\"float: right; margin-left: 30px;\"><img title=\"Image by @gregcaporaso.\" style=\"float: right; margin-left: 30px;\" src=\"files/images/unifrac_tree_d0.5.png\" align=right/></div>\n",
      "\n",
      "Finally, most of the time we're somewhere in the middle. In this tree, some of our branch length is unique, and some is not. For example, OTU 1 is only observed in our red sample, so the terminal branch leading to OTU 1 is red (i.e., unique to the red sample). OTU 2 is only observed in our blue sample, so the terminal branch leading to OTU 2 is blue (i.e., unique to the blue sample). However, the internal branch leading to the node connecting OTU 1 and OTU 2 leads to OTUs observed in both the red and blue samples (i.e., OTU 1 and OTU 2), so is purple (i.e, observed branch length, but not unique branch length). In this case, **we have an intermediate UniFrac distance between the red and blue samples, maybe somewhere around 0.5**."
     ]
    },
    {
     "cell_type": "markdown",
     "metadata": {},
     "source": [
      "<hr>\n",
      "<div style=\"float: right; margin-left: 30px;\"><img title=\"Image by @gregcaporaso.\" style=\"float: right; margin-left: 30px;\" src=\"files/images/unifrac_tree_with_distances.png\" align=right/></div>\n",
      "\n",
      "Let's now compute the Unweighted UniFrac distances between some samples. Imagine we have the following tree, paired with our table below (printed below, for quick reference)."
     ]
    },
    {
     "cell_type": "code",
     "collapsed": false,
     "input": [
      "print table1"
     ],
     "language": "python",
     "metadata": {},
     "outputs": [
      {
       "output_type": "stream",
       "stream": "stdout",
       "text": [
        "# Constructed from biom file\n",
        "#OTU ID\tA\tB\tC\n",
        "OTU1\t1.0\t0.0\t0.0\n",
        "OTU2\t3.0\t2.0\t0.0\n",
        "OTU3\t0.0\t0.0\t6.0\n",
        "OTU4\t1.0\t4.0\t2.0\n",
        "OTU5\t0.0\t4.0\t1.0\n"
       ]
      }
     ],
     "prompt_number": 29
    },
    {
     "cell_type": "markdown",
     "metadata": {},
     "source": [
      "<div style=\"float: right; margin-left: 30px;\"><img title=\"Image by @gregcaporaso.\" style=\"float: right; margin-left: 30px;\" src=\"files/images/unifrac_tree_with_distances_ab.png\" align=right/></div>\n",
      "\n",
      "First, let's compute the unweighted UniFrac distance between samples $A$ and $B$. The *unweighted* in *unweighted UniFrac* means that this is a qualitative diversity metric, meaning that we don't care about the abundances of the OTUs, only whether they are present in a given sample ($count > 0$) or not present ($count = 0$). \n",
      "\n",
      "Start at the top right branch in the tree, and for each branch, determine if the branch is observed, and if so, if it is also unique. If it is observed then you add its length to your observed branch length. If it is observed and unique, then you also add its length to your unique branch length. \n",
      "\n",
      "For samples $A$ and $B$, I get the following (in the tree on the right, red branches are those observed in $A$, blue branches are those observed in $B$, and purple are observed in both):"
     ]
    },
    {
     "cell_type": "code",
     "collapsed": false,
     "input": [
      "unique_ab = 0.5 + 0.75\n",
      "print \"Unique:\", unique_ab\n",
      "\n",
      "observed_ab = 0.5 + 0.5 + 0.5 + 1.0 + 1.25 + 0.75 + 0.75\n",
      "print \"Observed:\", observed_ab\n",
      "\n",
      "unweighted_unifrac_ab = unique_ab / observed_ab\n",
      "print \"Unweighted UniFrac:\", unweighted_unifrac_ab"
     ],
     "language": "python",
     "metadata": {},
     "outputs": [
      {
       "output_type": "stream",
       "stream": "stdout",
       "text": [
        "Unique: 1.25\n",
        "Observed: 5.25\n",
        "Unweighted UniFrac: 0.238095238095\n"
       ]
      }
     ],
     "prompt_number": 30
    },
    {
     "cell_type": "markdown",
     "metadata": {},
     "source": [
      "As an exercise, now compute the UniFrac distances between samples $B$ and $C$, and samples $A$ and $C$, using the above table and tree. When I do this, I get the following distance matrix. "
     ]
    },
    {
     "cell_type": "code",
     "collapsed": false,
     "input": [
      "ids = ['A', 'B', 'C']\n",
      "d = [[0.00, 0.24, 0.52],\n",
      "      [0.24, 0.00, 0.35],\n",
      "      [0.52, 0.35, 0.00]]\n",
      "print DistanceMatrix(d, ids)"
     ],
     "language": "python",
     "metadata": {},
     "outputs": [
      {
       "output_type": "stream",
       "stream": "stdout",
       "text": [
        "3x3 distance matrix\n",
        "IDs:\n",
        "A, B, C\n",
        "Data:\n",
        "[[ 0.    0.24  0.52]\n",
        " [ 0.24  0.    0.35]\n",
        " [ 0.52  0.35  0.  ]]\n"
       ]
      }
     ],
     "prompt_number": 31
    },
    {
     "cell_type": "markdown",
     "metadata": {},
     "source": [
      "**TODO**: fill in with unifrac code when that code is ported to scikit-bio"
     ]
    },
    {
     "cell_type": "heading",
     "level": 4,
     "metadata": {},
     "source": [
      "Even sampling"
     ]
    },
    {
     "cell_type": "markdown",
     "metadata": {},
     "source": [
      "**TODO**: Add discussion on necessity of even sampling"
     ]
    },
    {
     "cell_type": "heading",
     "level": 3,
     "metadata": {},
     "source": [
      "Interpreting distance matrices"
     ]
    },
    {
     "cell_type": "markdown",
     "metadata": {},
     "source": [
      "In the previous section we computed distance matrices that contained the pairwise distances between a few samples. You can look at those distance matrices and get a pretty good feeling for what the patterns are. For example, what are the most similar samples? What are the most dissimilar samples? \n",
      "\n",
      "What if instead of three samples though, we had more. Here's a screenshot from a distance martix containing data on 105 samples (this is just the first few rows and columns):\n",
      "\n",
      "<img src='files/images/example_big_dm.png'>\n",
      "\n",
      "Do you have a good feeling for the patterns here? What are the most similar samples? What are the most dissimilar samples? \n",
      "\n",
      "Chances are, you can't just squint at that table and understand what's going on (but if you can, I'm hiring!). The problem is exacerbated by the fact that in modern microbial ecology studies we may have thousands or tens of thousands of samples, not \"just\" hundreds as in the table above. We need tools to help us take these raw distances and convert them into something that we can interpret. In this section we'll look at some techniques, one of which we've covered previously, that will help us interpret large distance matrices.\n",
      "\n",
      "<hr>\n",
      "\n",
      "One excellent paper that includes a comparison of several different strategies for interpreting beta diversity results is [Costello *et al.* Science (2009) Bacterial Community Variation in Human Body Habitats Across Space and Time](https://www.sciencemag.org/content/326/5960/1694.full). In this study, the authors collected microbiome samples from 7 human subjects at about 25 sites on their bodies, at four different timepoints. \n",
      "\n",
      "Figure 1 shows several different approaches for comparing the resulting UniFrac distance matrix (this image is linked from the *Science* journal website - copyright belongs to *Science*):\n",
      "\n",
      "<img src=\"https://www.sciencemag.org/content/326/5960/1694/F1.large.jpg\">\n",
      "\n",
      "Let's generate a small distance matrix representing just a few of these body sites, and figure out how we'd generate and interpret each of these visualizations. The values in the distance matrix below are a subset of the unweighted UniFrac distance matrix representing two samples each from three body sites from the Costello *et al.* (2009) study."
     ]
    },
    {
     "cell_type": "code",
     "collapsed": false,
     "input": [
      "sample_ids = ['A', 'B', 'C', 'D', 'E', 'F']\n",
      "\n",
      "sample_metadata = {'A': {'sample_type': 'gut'},\n",
      "                   'B': {'sample_type': 'gut'},\n",
      "                   'C': {'sample_type': 'tongue'},\n",
      "                   'D': {'sample_type': 'tongue'},\n",
      "                   'E': {'sample_type': 'skin'},\n",
      "                   'F': {'sample_type': 'skin'}}\n",
      "\n",
      "dm_data = array([[0.00, 0.35, 0.83, 0.83, 0.90, 0.90],\n",
      "                 [0.35, 0.00, 0.86, 0.85, 0.92, 0.91],\n",
      "                 [0.83, 0.86, 0.00, 0.25, 0.88, 0.87],\n",
      "                 [0.83, 0.85, 0.25, 0.00, 0.88, 0.88],\n",
      "                 [0.90, 0.92, 0.88, 0.88, 0.00, 0.50],\n",
      "                 [0.90, 0.91, 0.87, 0.88, 0.50, 0.00]])\n",
      "\n",
      "ex_dm = DistanceMatrix(dm_data, sample_ids)\n",
      "print ex_dm"
     ],
     "language": "python",
     "metadata": {},
     "outputs": [
      {
       "output_type": "stream",
       "stream": "stdout",
       "text": [
        "6x6 distance matrix\n",
        "IDs:\n",
        "A, B, C, D, E, F\n",
        "Data:\n",
        "[[ 0.    0.35  0.83  0.83  0.9   0.9 ]\n",
        " [ 0.35  0.    0.86  0.85  0.92  0.91]\n",
        " [ 0.83  0.86  0.    0.25  0.88  0.87]\n",
        " [ 0.83  0.85  0.25  0.    0.88  0.88]\n",
        " [ 0.9   0.92  0.88  0.88  0.    0.5 ]\n",
        " [ 0.9   0.91  0.87  0.88  0.5   0.  ]]\n"
       ]
      }
     ],
     "prompt_number": 32
    },
    {
     "cell_type": "heading",
     "level": 4,
     "metadata": {},
     "source": [
      "Distribution plots and comparisons"
     ]
    },
    {
     "cell_type": "markdown",
     "metadata": {},
     "source": [
      "First, let's look at the analysis presented in panels E and F. Instead of generating bar plots here, we'll generate box plots as these are more informative (i.e., they provide a more detailed summary of the distribution being investigated). One important thing to notice here is the central role that the sample metadata plays in the visualization. If we just had our sample ids (i.e., letters ``A`` through ``F``) we wouldn't be able to group distances into *within* and *between* sample type categories, and we therefore couldn't perform the comparisons we're interested in."
     ]
    },
    {
     "cell_type": "code",
     "collapsed": false,
     "input": [
      "def within_between_category_distributions(dm, md, md_category):\n",
      "    within_category_distances = []\n",
      "    between_category_distances = []\n",
      "    for i, sample_id1 in enumerate(dm.ids):\n",
      "        sample_md1 = md[sample_id1][md_category]\n",
      "        for sample_id2 in dm.ids[:i]:\n",
      "            sample_md2 = md[sample_id2][md_category]\n",
      "            if sample_md1 == sample_md2:\n",
      "                within_category_distances.append(dm[sample_id1, sample_id2])\n",
      "            else:\n",
      "                between_category_distances.append(dm[sample_id1, sample_id2])\n",
      "    return within_category_distances, between_category_distances"
     ],
     "language": "python",
     "metadata": {},
     "outputs": [],
     "prompt_number": 33
    },
    {
     "cell_type": "code",
     "collapsed": false,
     "input": [
      "within_category_distances, between_category_distances = \\\n",
      "    within_between_category_distributions(ex_dm, sample_metadata, \"sample_type\")\n",
      "print within_category_distances\n",
      "print between_category_distances"
     ],
     "language": "python",
     "metadata": {},
     "outputs": [
      {
       "output_type": "stream",
       "stream": "stdout",
       "text": [
        "[0.34999999999999998, 0.25, 0.5]\n",
        "[0.82999999999999996, 0.85999999999999999, 0.82999999999999996, 0.84999999999999998, 0.90000000000000002, 0.92000000000000004, 0.88, 0.88, 0.90000000000000002, 0.91000000000000003, 0.87, 0.88]\n"
       ]
      }
     ],
     "prompt_number": 34
    },
    {
     "cell_type": "code",
     "collapsed": false,
     "input": [
      "from skbio.draw.distributions import boxplots\n",
      "\n",
      "plot = boxplots([within_category_distances, between_category_distances],\n",
      "                x_tick_labels=['same body site', 'different body site'],\n",
      "                x_tick_labels_orientation='horizontal',\n",
      "                y_label=\"Unweighted UniFrac distance\",\n",
      "                y_min=0.0, y_max=1.0)"
     ],
     "language": "python",
     "metadata": {},
     "outputs": [
      {
       "metadata": {},
       "output_type": "display_data",
       "png": "[encoded data removed]",
       "text": [
        "<matplotlib.figure.Figure at 0x111008990>"
       ]
      }
     ],
     "prompt_number": 35
    },
    {
     "cell_type": "code",
     "collapsed": false,
     "input": [
      "from scipy.stats import ttest_ind\n",
      "t, p_value = ttest_ind(within_category_distances, between_category_distances)\n",
      "print t, p_value"
     ],
     "language": "python",
     "metadata": {},
     "outputs": [
      {
       "output_type": "stream",
       "stream": "stdout",
       "text": [
        "-14.0187203101 3.17133166547e-09\n"
       ]
      }
     ],
     "prompt_number": 36
    },
    {
     "cell_type": "heading",
     "level": 4,
     "metadata": {},
     "source": [
      "Heirarchical clustering"
     ]
    },
    {
     "cell_type": "markdown",
     "metadata": {},
     "source": [
      "Next, let's look at a hierarchical clustering analysis, similar to that presented in panel G. "
     ]
    },
    {
     "cell_type": "code",
     "collapsed": false,
     "input": [
      "from scipy.cluster.hierarchy import average, dendrogram\n",
      "lm = average(ex_dm.condensed_form())\n",
      "d = dendrogram(lm, labels=ex_dm.ids, orientation='right', \n",
      "               link_color_func=lambda x: 'black')"
     ],
     "language": "python",
     "metadata": {},
     "outputs": [
      {
       "metadata": {},
       "output_type": "display_data",
       "png": "[encoded data removed]",
       "text": [
        "<matplotlib.figure.Figure at 0x11288c350>"
       ]
      }
     ],
     "prompt_number": 37
    },
    {
     "cell_type": "markdown",
     "metadata": {},
     "source": [
      "Again, we can see how the data really only becomes interpretable in the context of metadata:"
     ]
    },
    {
     "cell_type": "code",
     "collapsed": false,
     "input": [
      "labels = [sample_metadata[sid]['sample_type'] for sid in sample_ids]\n",
      "d = dendrogram(lm, labels=labels, orientation='right', \n",
      "               link_color_func=lambda x: 'black')"
     ],
     "language": "python",
     "metadata": {},
     "outputs": [
      {
       "metadata": {},
       "output_type": "display_data",
       "png": "[encoded data removed]",
       "text": [
        "<matplotlib.figure.Figure at 0x1128cb7d0>"
       ]
      }
     ],
     "prompt_number": 38
    },
    {
     "cell_type": "heading",
     "level": 3,
     "metadata": {},
     "source": [
      "Ordination"
     ]
    },
    {
     "cell_type": "markdown",
     "metadata": {},
     "source": [
      "Finally, let's look at ordination, similar to that presented in panels A-D. The basic idea behind oridination is dimensionality reduction: we want to take high-dimensionality data (a distance matrix) and represent that in a few (usually two or three) dimensions. As humans, we're very bad at interpreting high dimensionality data directly: with ordination, we can take an $n$-dimensional data set (e.g., a distance matrix of shape $n \\times n$, representing the distances between $n$ biological samples) and reduce that to a 2-dimensional scatter plot similar to that presented in panels A-D above. \n",
      "\n",
      "Ordination is a technique that is widely applied in ecology and in bioinformatics, but the math behind some of the methods such as *Principal Coordinates Analysis* is fairly complex, and as a result I've found that these methods are a black box for a lot of people. Possibly the most simple ordination technique is one called Polar Ordination. Polar Ordination is not widely applied because it has some incovenient features, but I find that it is useful for introducing the idea behind ordination. Here we'll work through a simple implementation of ordination to illustrate the process, which will help us to interpret ordination plots. In practice, you will use existing software, such as [scikit-bio](http://scikit-bio.org)'s [ordination module](http://scikit-bio.org/maths.stats.ordination.html). \n",
      "\n",
      "An excellent site for learning more about ordination is [Michael W. Palmer's Ordination Methods page](http://ordination.okstate.edu/).\n"
     ]
    },
    {
     "cell_type": "heading",
     "level": 4,
     "metadata": {},
     "source": [
      "Polar ordination"
     ]
    },
    {
     "cell_type": "markdown",
     "metadata": {},
     "source": [
      "First, let's print our distance matrix again so we have it nearby."
     ]
    },
    {
     "cell_type": "code",
     "collapsed": false,
     "input": [
      "print ex_dm"
     ],
     "language": "python",
     "metadata": {},
     "outputs": [
      {
       "output_type": "stream",
       "stream": "stdout",
       "text": [
        "6x6 distance matrix\n",
        "IDs:\n",
        "A, B, C, D, E, F\n",
        "Data:\n",
        "[[ 0.    0.35  0.83  0.83  0.9   0.9 ]\n",
        " [ 0.35  0.    0.86  0.85  0.92  0.91]\n",
        " [ 0.83  0.86  0.    0.25  0.88  0.87]\n",
        " [ 0.83  0.85  0.25  0.    0.88  0.88]\n",
        " [ 0.9   0.92  0.88  0.88  0.    0.5 ]\n",
        " [ 0.9   0.91  0.87  0.88  0.5   0.  ]]\n"
       ]
      }
     ],
     "prompt_number": 39
    },
    {
     "cell_type": "markdown",
     "metadata": {},
     "source": [
      "Polar ordination works in a few steps:\n",
      "\n",
      "**Step 1.** Identify the largest distance in the distance matrix.\n",
      "\n",
      "**Step 2.** Define a line, with the two samples contributing to that distance defining the endpoints.\n",
      "\n",
      "**Step 3.** Compute the location of each other sample on that axis as follows:\n",
      "\n",
      "$a = \\frac{D^2 + D1^2 - D2^2}{2 \\times D}$\n",
      "   \n",
      "where:\n",
      "\n",
      "$D$ is distance between the endpoints\n",
      "\n",
      "$D1$ is distance between the current sample and endpoint 1\n",
      "\n",
      "$D2$ is distance between sample and endpoint 2.\n",
      "\n",
      "**Step 4.** Find the next largest distance that could be used to define an *uncorrelated axis*. (This step can be labor-intensive to do by hand \u2013 usually you would compute all of the axes, along with correlation scores. I\u2019ll pick one for the demo, and we'll wrap up by looking at all of the axes.)\n",
      "\n",
      "Here is what steps 2 and 3 look like in python:"
     ]
    },
    {
     "cell_type": "code",
     "collapsed": false,
     "input": [
      "def compute_axis_values(dm, endpoint1, endpoint2):\n",
      "    d = dm[endpoint1, endpoint2]\n",
      "    result = {endpoint1: 0, endpoint2: d}\n",
      "    non_endpoints = set(dm.ids) - set([endpoint1, endpoint2])\n",
      "    for e in non_endpoints:\n",
      "        d1 = dm[endpoint1, e]\n",
      "        d2 = dm[endpoint2, e]\n",
      "        result[e] = (d**2 + d1**2 - d2**2) / (2 * d)\n",
      "    return d, [result[e] for e in dm.ids]"
     ],
     "language": "python",
     "metadata": {},
     "outputs": [],
     "prompt_number": 40
    },
    {
     "cell_type": "code",
     "collapsed": false,
     "input": [
      "d, a1_values = compute_axis_values(ex_dm, 'B', 'E')\n",
      "for sid, a1_value in zip(ex_dm.ids, a1_values):\n",
      "    print sid, a1_value"
     ],
     "language": "python",
     "metadata": {},
     "outputs": [
      {
       "output_type": "stream",
       "stream": "stdout",
       "text": [
        "A 0.0863586956522\n",
        "B 0\n",
        "C 0.441086956522\n",
        "D 0.431793478261\n",
        "E 0.92\n",
        "F 0.774184782609\n"
       ]
      }
     ],
     "prompt_number": 41
    },
    {
     "cell_type": "code",
     "collapsed": false,
     "input": [
      "d, a2_values = compute_axis_values(ex_dm, 'D', 'E')\n",
      "for sid, a2_value in zip(ex_dm.ids, a2_values):\n",
      "    print sid, a2_value"
     ],
     "language": "python",
     "metadata": {},
     "outputs": [
      {
       "output_type": "stream",
       "stream": "stdout",
       "text": [
        "A 0.371193181818\n",
        "B 0.369602272727\n",
        "C 0.0355113636364\n",
        "D 0\n",
        "E 0.88\n",
        "F 0.737954545455\n"
       ]
      }
     ],
     "prompt_number": 42
    },
    {
     "cell_type": "code",
     "collapsed": false,
     "input": [
      "from pylab import scatter\n",
      "ord_plot = scatter(a1_values, a2_values, s=40)"
     ],
     "language": "python",
     "metadata": {},
     "outputs": [
      {
       "metadata": {},
       "output_type": "display_data",
       "png": "[encoded data removed]",
       "text": [
        "<matplotlib.figure.Figure at 0x111029a10>"
       ]
      }
     ],
     "prompt_number": 43
    },
    {
     "cell_type": "markdown",
     "metadata": {},
     "source": [
      "And again, let's look at how including metadata helps us to interpret our results."
     ]
    },
    {
     "cell_type": "code",
     "collapsed": false,
     "input": [
      "colors = {'tongue': 'red', 'gut':'yellow', 'skin':'blue'}\n",
      "c = [colors[sample_metadata[e]['sample_type']] for e in ex_dm.ids]\n",
      "ord_plot = scatter(a1_values, a2_values, s=40, c=c)"
     ],
     "language": "python",
     "metadata": {},
     "outputs": [
      {
       "metadata": {},
       "output_type": "display_data",
       "png": "[encoded data removed]",
       "text": [
        "<matplotlib.figure.Figure at 0x1128ab5d0>"
       ]
      }
     ],
     "prompt_number": 44
    },
    {
     "cell_type": "heading",
     "level": 4,
     "metadata": {},
     "source": [
      "Determining the most important axes in polar ordination"
     ]
    },
    {
     "cell_type": "markdown",
     "metadata": {},
     "source": [
      "Generally, you would compute the polar ordination axes for all possible axes. You could then order the axes by which represent the largest differences in sample composition, and the lowest correlation with previous axes. This might look like the following:"
     ]
    },
    {
     "cell_type": "code",
     "collapsed": false,
     "input": [
      "from scipy.stats import spearmanr\n",
      "\n",
      "data = []\n",
      "for i, sample_id1 in enumerate(ex_dm.ids):\n",
      "    for sample_id2 in ex_dm.ids[:i]:\n",
      "        d, axis_values = compute_axis_values(ex_dm, sample_id1, sample_id2)\n",
      "        r, p = spearmanr(a1_values, axis_values)\n",
      "        data.append((d, abs(r), sample_id1, sample_id2, axis_values))\n",
      "\n",
      "data.sort()\n",
      "data.reverse()\n",
      "for i, e in enumerate(data):\n",
      "    print \"axis %d:\" % i, \n",
      "    print \"\\t%1.3f\\t%1.3f\\t%s\\t%s\" % e[:4]"
     ],
     "language": "python",
     "metadata": {},
     "outputs": [
      {
       "output_type": "stream",
       "stream": "stdout",
       "text": [
        "axis 0: \t0.920\t1.000\tE\tB\n",
        "axis 1: \t0.910\t0.943\tF\tB\n",
        "axis 2: \t0.900\t0.928\tE\tA\n",
        "axis 3: \t0.900\t0.886\tF\tA\n",
        "axis 4: \t0.880\t0.543\tE\tD\n",
        "axis 5: \t0.880\t0.429\tF\tD\n",
        "axis 6: \t0.880\t0.429\tE\tC\n",
        "axis 7: \t0.870\t0.371\tF\tC\n",
        "axis 8: \t0.860\t0.543\tC\tB\n",
        "axis 9: \t0.850\t0.486\tD\tB\n",
        "axis 10: \t0.830\t0.429\tC\tA\n",
        "axis 11: \t0.830\t0.406\tD\tA\n",
        "axis 12: \t0.500\t0.232\tF\tE\n",
        "axis 13: \t0.350\t0.143\tB\tA\n",
        "axis 14: \t0.250\t0.493\tD\tC\n"
       ]
      }
     ],
     "prompt_number": 45
    },
    {
     "cell_type": "markdown",
     "metadata": {},
     "source": [
      "So why do we care about axes being uncorrelated? And why do we care about explaining a lot of the variation? Let's look at a few of these plots and see how they compare to the plots above, where we compared axes 1 and 4."
     ]
    },
    {
     "cell_type": "code",
     "collapsed": false,
     "input": [
      "ord_plot = scatter(data[0][4], data[1][4], s=40, c=c)"
     ],
     "language": "python",
     "metadata": {},
     "outputs": [
      {
       "metadata": {},
       "output_type": "display_data",
       "png": "[encoded data removed]",
       "text": [
        "<matplotlib.figure.Figure at 0x1128b6050>"
       ]
      }
     ],
     "prompt_number": 46
    },
    {
     "cell_type": "code",
     "collapsed": false,
     "input": [
      "ord_plot = scatter(data[0][4], data[13][4], s=40, c=c)"
     ],
     "language": "python",
     "metadata": {},
     "outputs": [
      {
       "metadata": {},
       "output_type": "display_data",
       "png": "[encoded data removed]",
       "text": [
        "<matplotlib.figure.Figure at 0x11288c5d0>"
       ]
      }
     ],
     "prompt_number": 47
    },
    {
     "cell_type": "code",
     "collapsed": false,
     "input": [
      "ord_plot = scatter(data[0][4], data[14][4], s=40, c=c)"
     ],
     "language": "python",
     "metadata": {},
     "outputs": [
      {
       "metadata": {},
       "output_type": "display_data",
       "png": "[encoded data removed]",
       "text": [
        "<matplotlib.figure.Figure at 0x11289bb10>"
       ]
      }
     ],
     "prompt_number": 48
    },
    {
     "cell_type": "heading",
     "level": 4,
     "metadata": {},
     "source": [
      "Interpreting ordination plots"
     ]
    },
    {
     "cell_type": "markdown",
     "metadata": {},
     "source": [
      "There are a few points that are important to keep in mind when interpreting ordination plots. Review each one of these in the context of polar ordination to figure out the reason for each."
     ]
    },
    {
     "cell_type": "markdown",
     "metadata": {},
     "source": [
      "**Directionality of the axes is not important (e.g., up/down/left/right)**\n",
      "\n",
      "One thing that you may have notices as you computed the polar ordination above is that the method is *not symmetric*: in other words, the axis values for axis $EB$ are different than for axis $BE$. In practice though, we derive the same conclusions regardless of how we compute that axis: in this example, that samples cluster by body site."
     ]
    },
    {
     "cell_type": "code",
     "collapsed": false,
     "input": [
      "d, a1_values = compute_axis_values(ex_dm, 'E', 'B')\n",
      "d, a2_values = compute_axis_values(ex_dm, 'E', 'D')\n",
      "d, alt_a1_values = compute_axis_values(ex_dm, 'B', 'E')"
     ],
     "language": "python",
     "metadata": {},
     "outputs": [],
     "prompt_number": 49
    },
    {
     "cell_type": "code",
     "collapsed": false,
     "input": [
      "ord_plot = scatter(a1_values, a2_values, s=40, c=c)"
     ],
     "language": "python",
     "metadata": {},
     "outputs": [
      {
       "metadata": {},
       "output_type": "display_data",
       "png": "[encoded data removed]",
       "text": [
        "<matplotlib.figure.Figure at 0x1128c5090>"
       ]
      }
     ],
     "prompt_number": 50
    },
    {
     "cell_type": "code",
     "collapsed": false,
     "input": [
      "ord_plot = scatter(alt_a1_values, a2_values, s=40, c=c)"
     ],
     "language": "python",
     "metadata": {},
     "outputs": [
      {
       "metadata": {},
       "output_type": "display_data",
       "png": "[encoded data removed]",
       "text": [
        "<matplotlib.figure.Figure at 0x11289be50>"
       ]
      }
     ],
     "prompt_number": 51
    },
    {
     "cell_type": "markdown",
     "metadata": {},
     "source": [
      "Some other important features:\n",
      "\n",
      "* Numerical scale of the axis is generally not useful\n",
      "* The order of axes is generally important (first axis explains the most variation, second axis explains the second most variation, ...)\n",
      "* Most techniques result in uncorrelated axes.\n",
      "* Additional axes can be generated (third, fourth, ...)"
     ]
    },
    {
     "cell_type": "heading",
     "level": 3,
     "metadata": {},
     "source": [
      "Are my ordination plots the same? "
     ]
    },
    {
     "cell_type": "markdown",
     "metadata": {},
     "source": [
      "* Given a pair of coordinate matrices, determine if their shape (in two or three dimensions) is the same.\n",
      "* Given a pair of ordination plots, would we derive the same biological conclusions regardless of which plot we look at?\n",
      "<hr>\n",
      "Procrustes analysis: Treat one set of points as the reference set, and apply several operations to the other:\n",
      "\n",
      "* Translation (mean of all points is set to 1)\n",
      "* Scaling (root mean square distance of all points from the origin is 1)\n",
      "* Rotation (choosing one set of points as the reference, and rotate the other to minimize the sum of squares distance (SSD) between the corresponding points) [more complex in > 2 dimensions]\n",
      "\n",
      "Monte Carlo simulation can be applied to generate p-values.\n"
     ]
    },
    {
     "cell_type": "code",
     "collapsed": false,
     "input": [
      "from skbio.maths.stats.spatial import procrustes\n",
      "\n",
      "d, a1_values = compute_axis_values(ex_dm, 'E', 'B')\n",
      "d, a2_values = compute_axis_values(ex_dm, 'E', 'D')\n",
      "d, alt_a1_values = compute_axis_values(ex_dm, 'B', 'E')\n",
      "\n",
      "matrix1 = [a1_values, a2_values]\n",
      "matrix2 = [alt_a1_values, a2_values]\n",
      "\n",
      "transformed_matrix1, transformed_matrix2, m2 = procrustes(matrix1, matrix2)\n",
      "print m2"
     ],
     "language": "python",
     "metadata": {},
     "outputs": [
      {
       "output_type": "stream",
       "stream": "stdout",
       "text": [
        "5.58155750821e-31\n"
       ]
      }
     ],
     "prompt_number": 52
    },
    {
     "cell_type": "code",
     "collapsed": false,
     "input": [
      "ord_plot = scatter(matrix1[0], matrix1[1], s=40, c=c)"
     ],
     "language": "python",
     "metadata": {},
     "outputs": [
      {
       "metadata": {},
       "output_type": "display_data",
       "png": "[encoded data removed]",
       "text": [
        "<matplotlib.figure.Figure at 0x112981790>"
       ]
      }
     ],
     "prompt_number": 53
    },
    {
     "cell_type": "code",
     "collapsed": false,
     "input": [
      "ord_plot = scatter(matrix2[0], matrix2[1], s=40, c=c)"
     ],
     "language": "python",
     "metadata": {},
     "outputs": [
      {
       "metadata": {},
       "output_type": "display_data",
       "png": "[encoded data removed]",
       "text": [
        "<matplotlib.figure.Figure at 0x1126fe750>"
       ]
      }
     ],
     "prompt_number": 54
    },
    {
     "cell_type": "code",
     "collapsed": false,
     "input": [
      "ord_plot = scatter(transformed_matrix1[0], transformed_matrix1[1], s=40, c=c)"
     ],
     "language": "python",
     "metadata": {},
     "outputs": [
      {
       "metadata": {},
       "output_type": "display_data",
       "png": "[encoded data removed]",
       "text": [
        "<matplotlib.figure.Figure at 0x1128ee590>"
       ]
      }
     ],
     "prompt_number": 55
    },
    {
     "cell_type": "code",
     "collapsed": false,
     "input": [
      "ord_plot = scatter(transformed_matrix2[0], transformed_matrix2[1], s=40, c=c)"
     ],
     "language": "python",
     "metadata": {},
     "outputs": [
      {
       "metadata": {},
       "output_type": "display_data",
       "png": "[encoded data removed]",
       "text": [
        "<matplotlib.figure.Figure at 0x1128ab8d0>"
       ]
      }
     ],
     "prompt_number": 56
    },
    {
     "cell_type": "code",
     "collapsed": false,
     "input": [
      "from random import shuffle\n",
      "\n",
      "shuffled_sample_ids = ['A', 'B', 'C', 'D', 'E', 'F']\n",
      "shuffle(shuffled_sample_ids)\n",
      "\n",
      "shuffled_dm = DistanceMatrix(dm_data, shuffled_sample_ids)\n",
      "\n",
      "d, shuffled_a1_values = compute_axis_values(shuffled_dm, 'E', 'B')\n",
      "d, shuffled_a2_values = compute_axis_values(shuffled_dm, 'E', 'D')\n",
      "\n",
      "shuffled_matrix1 = [shuffled_a1_values, shuffled_a2_values]\n",
      "ord_plot = scatter(shuffled_matrix1[0], shuffled_matrix1[1], s=40, \n",
      "                   c=[colors[sample_metadata[e]['sample_type']] for e in shuffled_dm.ids])\n"
     ],
     "language": "python",
     "metadata": {},
     "outputs": [
      {
       "metadata": {},
       "output_type": "display_data",
       "png": "[encoded data removed]",
       "text": [
        "<matplotlib.figure.Figure at 0x112904bd0>"
       ]
      }
     ],
     "prompt_number": 57
    },
    {
     "cell_type": "code",
     "collapsed": false,
     "input": [
      "transformed_matrix1, transformed_matrix2, m2 = procrustes(matrix1, shuffled_matrix1)\n",
      "print m2"
     ],
     "language": "python",
     "metadata": {},
     "outputs": [
      {
       "output_type": "stream",
       "stream": "stdout",
       "text": [
        "2.05990790048e-30\n"
       ]
      }
     ],
     "prompt_number": 58
    },
    {
     "cell_type": "code",
     "collapsed": false,
     "input": [
      "_, _, actual_m2 = procrustes(matrix1, matrix2)\n",
      "print actual_m2"
     ],
     "language": "python",
     "metadata": {},
     "outputs": [
      {
       "output_type": "stream",
       "stream": "stdout",
       "text": [
        "5.58155750821e-31\n"
       ]
      }
     ],
     "prompt_number": 59
    },
    {
     "cell_type": "code",
     "collapsed": false,
     "input": [
      "trial_m2 = []\n",
      "\n",
      "for i in range(100):\n",
      "    shuffle(shuffled_sample_ids)\n",
      "\n",
      "    shuffled_dm = DistanceMatrix(dm_data, shuffled_sample_ids)\n",
      "\n",
      "    d, shuffled_a1_values = compute_axis_values(shuffled_dm, 'E', 'B')\n",
      "    d, shuffled_a2_values = compute_axis_values(shuffled_dm, 'E', 'D')\n",
      "\n",
      "    shuffled_matrix1 = [shuffled_a1_values, shuffled_a2_values]\n",
      "    _, _, current_m2 = procrustes(matrix1, shuffled_matrix1)\n",
      "    trial_m2.append(current_m2)"
     ],
     "language": "python",
     "metadata": {},
     "outputs": [],
     "prompt_number": 60
    },
    {
     "cell_type": "code",
     "collapsed": false,
     "input": [
      "from pylab import hist\n",
      "hist(trial_m2)"
     ],
     "language": "python",
     "metadata": {},
     "outputs": [
      {
       "metadata": {},
       "output_type": "pyout",
       "prompt_number": 61,
       "text": [
        "(array([ 89.,   3.,   0.,   0.,   0.,   4.,   2.,   0.,   0.,   2.]),\n",
        " array([  8.15557981e-32,   1.16562217e-30,   2.24968855e-30,\n",
        "          3.33375492e-30,   4.41782130e-30,   5.50188767e-30,\n",
        "          6.58595405e-30,   7.67002042e-30,   8.75408680e-30,\n",
        "          9.83815317e-30,   1.09222195e-29]),\n",
        " <a list of 10 Patch objects>)"
       ]
      },
      {
       "metadata": {},
       "output_type": "display_data",
       "png": "[encoded data removed]",
       "text": [
        "<matplotlib.figure.Figure at 0x11289b650>"
       ]
      }
     ],
     "prompt_number": 61
    },
    {
     "cell_type": "code",
     "collapsed": false,
     "input": [
      "count_better = 0\n",
      "for e in trial_m2:\n",
      "    if e < actual_m2:\n",
      "        count_better += 1\n",
      "print count_better"
     ],
     "language": "python",
     "metadata": {},
     "outputs": [
      {
       "output_type": "stream",
       "stream": "stdout",
       "text": [
        "83\n"
       ]
      }
     ],
     "prompt_number": 62
    },
    {
     "cell_type": "heading",
     "level": 3,
     "metadata": {},
     "source": [
      "Principal coordinates and principal components analysis"
     ]
    },
    {
     "cell_type": "markdown",
     "metadata": {},
     "source": [
      "Principal Coordinates Analysis (PCoA)\n",
      "\n",
      "* Similar to PO: represents distances between samples\n",
      "* Maximizes the correlation between sample distances, and represents that in low-dimensional space (usually 2 or 3 dimensions)\n",
      "* Based on Eigenvalues of matrices\n",
      "\n",
      "Principal components analysis (PCA)\n",
      "\n",
      "* PCA begins with sample by observation count table and computes Euclidean distance between samples. \n",
      "* PCoA begins with a distance matrix.\n",
      "* PCoA is much more useful in ecology as it allows us to use arbitrary distance metrics (for example, phylogenetic diversity metrics).\n",
      "* When using Euclidean distance, PCoA = PCA\n"
     ]
    },
    {
     "cell_type": "code",
     "collapsed": false,
     "input": [],
     "language": "python",
     "metadata": {},
     "outputs": [],
     "prompt_number": 62
    }
   ],
   "metadata": {}
  }
 ]
}