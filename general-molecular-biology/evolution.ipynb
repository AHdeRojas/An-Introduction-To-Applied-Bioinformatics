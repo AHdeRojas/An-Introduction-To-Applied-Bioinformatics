{
 "metadata": {
  "name": "evolution"
 },
 "nbformat": 3,
 "nbformat_minor": 0,
 "worksheets": [
  {
   "cells": [
    {
     "cell_type": "heading",
     "level": 2,
     "metadata": {},
     "source": [
      "Setting up the notebook"
     ]
    },
    {
     "cell_type": "markdown",
     "metadata": {},
     "source": [
      "In python 2, division of integers is not true division. This will be changed in python 3. For example:"
     ]
    },
    {
     "cell_type": "code",
     "collapsed": false,
     "input": [
      "1/4"
     ],
     "language": "python",
     "metadata": {},
     "outputs": [
      {
       "output_type": "pyout",
       "prompt_number": 12,
       "text": [
        "0"
       ]
      }
     ],
     "prompt_number": 12
    },
    {
     "cell_type": "markdown",
     "metadata": {},
     "source": [
      "Note that this isn't rounding, but truncation of the remainder."
     ]
    },
    {
     "cell_type": "code",
     "collapsed": false,
     "input": [
      "3/4"
     ],
     "language": "python",
     "metadata": {},
     "outputs": [
      {
       "output_type": "pyout",
       "prompt_number": 13,
       "text": [
        "0"
       ]
      }
     ],
     "prompt_number": 13
    },
    {
     "cell_type": "markdown",
     "metadata": {},
     "source": [
      "There are a few ways around this, but most convenient is to add the the following ``import`` statement. It's always a good idea to add this to your python code to avoid any surprises. "
     ]
    },
    {
     "cell_type": "code",
     "collapsed": false,
     "input": [
      "from __future__ import division"
     ],
     "language": "python",
     "metadata": {},
     "outputs": [],
     "prompt_number": 14
    },
    {
     "cell_type": "code",
     "collapsed": false,
     "input": [
      "3/4"
     ],
     "language": "python",
     "metadata": {},
     "outputs": [
      {
       "output_type": "pyout",
       "prompt_number": 15,
       "text": [
        "0.75"
       ]
      }
     ],
     "prompt_number": 15
    },
    {
     "cell_type": "heading",
     "level": 2,
     "metadata": {},
     "source": [
      "Genetic bottleneck programming example"
     ]
    },
    {
     "cell_type": "markdown",
     "metadata": {},
     "source": [
      "This example illustrates the concept of genetic drift in a population of genotypes. Imagine we start with four genotypes, A, B, C, and D and 10,000 individuals. First, let\u2019s define a starting population with the following genotype frequencies:\n"
     ]
    },
    {
     "cell_type": "code",
     "collapsed": false,
     "input": [
      "genotype_frequencies = ['A'] * 5000 + ['B'] * 2500 + ['C'] * 1250 + ['D'] * 1250"
     ],
     "language": "python",
     "metadata": {},
     "outputs": [],
     "prompt_number": 16
    },
    {
     "cell_type": "markdown",
     "metadata": {},
     "source": [
      "This syntax may be new to you. Break this apart to individual addends to figure out what the full statement is doing.\n",
      "\n",
      "Next, let\u2019s define a function that will conveniently allow us to summarize this population:"
     ]
    },
    {
     "cell_type": "code",
     "collapsed": false,
     "input": [
      "def summarize_composition(population):\n",
      "    population_size = len(population)\n",
      "    print 'A: %0.4f' % (population.count('A') / population_size)\n",
      "    print 'B: %0.4f' % (population.count('B') / population_size)\n",
      "    print 'C: %0.4f' % (population.count('C') / population_size)\n",
      "    print 'D: %0.4f' % (population.count('D') / population_size)"
     ],
     "language": "python",
     "metadata": {},
     "outputs": [],
     "prompt_number": 17
    },
    {
     "cell_type": "markdown",
     "metadata": {},
     "source": [
      "You can then call this as follows:"
     ]
    },
    {
     "cell_type": "code",
     "collapsed": false,
     "input": [
      "summarize_composition(genotype_frequencies)"
     ],
     "language": "python",
     "metadata": {},
     "outputs": [
      {
       "output_type": "stream",
       "stream": "stdout",
       "text": [
        "A: 0.5000\n",
        "B: 0.2500\n",
        "C: 0.1250\n",
        "D: 0.1250\n"
       ]
      }
     ],
     "prompt_number": 18
    },
    {
     "cell_type": "markdown",
     "metadata": {},
     "source": [
      "Next we\u2019re going to import the ``sample`` function from the ``random`` module. Given a list (``population``) and a number of elements (``k``) to select, sample randomly samples (without replacement) ``k`` elements from the list and returns those as a new list. So, if we sample the full population and summarize the genotype composition, we should get the same result \u2013 let\u2019s test it out:"
     ]
    },
    {
     "cell_type": "code",
     "collapsed": false,
     "input": [
      "from random import sample\n",
      "new_genotype_frequencies = sample(genotype_frequencies,10000)\n",
      "summarize_composition(new_genotype_frequencies)"
     ],
     "language": "python",
     "metadata": {},
     "outputs": [
      {
       "output_type": "stream",
       "stream": "stdout",
       "text": [
        "A: 0.5000\n",
        "B: 0.2500\n",
        "C: 0.1250\n",
        "D: 0.1250\n"
       ]
      }
     ],
     "prompt_number": 19
    },
    {
     "cell_type": "markdown",
     "metadata": {},
     "source": [
      "Now, let\u2019s simulate genetic drift. Imagine we have a population of organisms with the genotype frequencies represented in our ``genotype_frequencies`` list. Regardless of which of these genotypes confers the most selective advantage a random removal of a large component from the population has the ability to affect the resulting genotypic composition.\n",
      "\n",
      "To simulate an event that randomly kills off 10% of the total population, and look at the resulting genotype composition:"
     ]
    },
    {
     "cell_type": "code",
     "collapsed": false,
     "input": [
      "new_genotype_frequencies = sample(genotype_frequencies,9000)\n",
      "summarize_composition(new_genotype_frequencies)"
     ],
     "language": "python",
     "metadata": {},
     "outputs": [
      {
       "output_type": "stream",
       "stream": "stdout",
       "text": [
        "A: 0.4993\n",
        "B: 0.2526\n",
        "C: 0.1236\n",
        "D: 0.1246\n"
       ]
      }
     ],
     "prompt_number": 20
    },
    {
     "cell_type": "markdown",
     "metadata": {},
     "source": [
      "Do this a few times. You should notice that the frequencies don\u2019t change a lot. What happens if instead of this relatively small dying off, there is a near-extinction event. Simulate an event that randomly kills off 99.9% of the population. What happens now? Run this simulation several times and explain the results of this experiment."
     ]
    },
    {
     "cell_type": "markdown",
     "metadata": {},
     "source": [
      "Genetic drift without bottlenecks\n",
      "----------------------------\n",
      "Above, we saw that a bottleneck can drastically changes allele frequencies due to purely random events, but what happens if there is no bottleneck and population sizes don't change? Lets start with the same population of genotypes as in the first example."
     ]
    },
    {
     "cell_type": "code",
     "collapsed": false,
     "input": [
      "summarize_composition(genotype_frequencies)"
     ],
     "language": "python",
     "metadata": {},
     "outputs": [
      {
       "output_type": "stream",
       "stream": "stdout",
       "text": [
        "A: 0.5000\n",
        "B: 0.2500\n",
        "C: 0.1250\n",
        "D: 0.1250\n"
       ]
      }
     ],
     "prompt_number": 21
    },
    {
     "cell_type": "markdown",
     "metadata": {},
     "source": [
      "We now want to sample from the founder population, but with replacement. This simulates what is considered to be a pool of infinte alleles, and very closely resembles what happens in actual reproducing populations\n"
     ]
    },
    {
     "cell_type": "code",
     "collapsed": false,
     "input": [
      "from numpy import random\n",
      "new_genotype_frequencies = list(random.choice(genotype_frequencies,10000))\n",
      "summarize_composition(new_genotype_frequencies)"
     ],
     "language": "python",
     "metadata": {},
     "outputs": [
      {
       "output_type": "stream",
       "stream": "stdout",
       "text": [
        "A: 0.4996\n",
        "B: 0.2523\n",
        "C: 0.1198\n",
        "D: 0.1283\n"
       ]
      }
     ],
     "prompt_number": 22
    },
    {
     "cell_type": "markdown",
     "metadata": {},
     "source": [
      "From the above example we can see that frequencies change very little from one generation to the next. But what happens over many (for example, hundreds or thousands) of generations?\n",
      "\n",
      "We can change the number of generations that a population evolves using the ``for`` loop below. Each new generation is created from the previous generation as many times as is specified with the generations parameter. "
     ]
    },
    {
     "cell_type": "code",
     "collapsed": false,
     "input": [
      "genotype_frequencies = ['A'] * 500 + ['B'] * 250 + ['C'] * 125 + ['D'] * 125\n",
      "generations = 1000\n",
      "\n",
      "for i in range(generations):\n",
      "    genotype_frequencies = list(random.choice(genotype_frequencies,len(genotype_frequencies)))\n",
      "summarize_composition(genotype_frequencies)"
     ],
     "language": "python",
     "metadata": {},
     "outputs": [
      {
       "output_type": "stream",
       "stream": "stdout",
       "text": [
        "A: 0.0000\n",
        "B: 0.0000\n",
        "C: 1.0000\n",
        "D: 0.0000\n"
       ]
      }
     ],
     "prompt_number": 26
    },
    {
     "cell_type": "markdown",
     "metadata": {},
     "source": [
      "If we run the simulation enough times, the result is always the same: one genotype always becomes fixed! This is true regardless of whether the population is haploid or diploid, or sexual or asexual. Try try running this with different starting population sizes, genotype frequencies, and number of generations."
     ]
    },
    {
     "cell_type": "code",
     "collapsed": false,
     "input": [],
     "language": "python",
     "metadata": {},
     "outputs": []
    }
   ],
   "metadata": {}
  }
 ]
}