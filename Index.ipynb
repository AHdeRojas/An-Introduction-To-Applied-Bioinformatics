{
 "cells": [
  {
   "cell_type": "markdown",
   "metadata": {},
   "source": [
    "# An Introduction To Applied Bioinformatics"
   ]
  },
  {
   "cell_type": "markdown",
   "metadata": {},
   "source": [
    "## Table of Contents\n",
    "\n",
    "<div style=\"float: right; margin-left: 30px; width: 200px\"><img title=\"Logo by @gregcaporaso.\" style=\"float: right;margin-left: 30px;\" src=\"https://raw.github.com/gregcaporaso/An-Introduction-To-Applied-Bioinformatics/master/images/logo.png\" align=right height=250/></div>\n",
    "\n",
    "1. Getting started\n",
    "  1. [Reading *An Introduction To Applied Bioinformatics*](getting-started/reading-iab.ipynb)\n",
    "2. Fundamentals\n",
    "  1. [Pairwise alignment](fundamentals/pairwise-alignment.ipynb) ([exercise](fundamentals/pairwise-alignment-exercises.ipynb))\n",
    "  2. [Database searching and determining the statistical significance of an alignment](fundamentals/database-searching.ipynb)\n",
    "  3. [Phylogeny reconstruction: distances, distances matrices and hierarchical clustering with UPGMA](fundamentals/phylogeny-reconstruction.ipynb)\n",
    "  4. [Multiple sequence alignment](fundamentals/multiple-sequence-alignment.ipynb) ([exercise](fundamentals/msa-assignment.ipynb))\n",
    "  5. [Read mapping and clustering](fundamentals/sequence-mapping-and-clustering.ipynb?create=1)\n",
    "3. Applications\n",
    "  1. [Studying biological diversity](applications/biological-diversity.ipynb)\n",
    "4. Wrapping up"
   ]
  },
  {
   "cell_type": "markdown",
   "metadata": {},
   "source": [
    "## Disclaimer\n",
    "\n",
    "**This project is in very early development stage.** It's not ready for prime-time by any means, but I fall firmly into the \"publish early, publish often\" mindset, hence its public availability. I am very interested in feedback. The best way to get feedback to me is through [the IAB issue tracker](https://github.com/gregcaporaso/An-Introduction-To-Applied-Bioinformatics/issues), and the best way to contribute is through [pull requests](https://help.github.com/articles/using-pull-requests).\n",
    "\n",
    "The code in the iab module is **not sufficiently tested, documented, or optimized for production use**. As code reaches those quality standards it will be ported to [scikit-bio](http://www.scikit-bio.org). I do not recommend using the code in the iab module outside of these notebooks. In other words, don't `import iab` outside of the notebooks - if you want access to the functionality in your own code, you should `import skbio`.\n",
    "\n",
    "Currently, the **best example of where I'm hoping to go with these materials** is the [multiple sequence alignment](http://nbviewer.ipython.org/github/gregcaporaso/An-Introduction-To-Applied-Bioinformatics/blob/master/algorithms/4-multiple-sequence-alignment.ipynb) chapter."
   ]
  }
 ],
 "metadata": {
  "kernelspec": {
   "display_name": "Python 2",
   "language": "python",
   "name": "python2"
  },
  "language_info": {
   "codemirror_mode": {
    "name": "ipython",
    "version": 2
   },
   "file_extension": ".py",
   "mimetype": "text/x-python",
   "name": "python",
   "nbconvert_exporter": "python",
   "pygments_lexer": "ipython2",
   "version": "2.7.5"
  }
 },
 "nbformat": 4,
 "nbformat_minor": 0
}
