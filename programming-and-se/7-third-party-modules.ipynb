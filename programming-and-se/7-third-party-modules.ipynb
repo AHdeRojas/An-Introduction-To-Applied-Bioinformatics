{
 "metadata": {
  "name": "7-third-party-modules"
 },
 "nbformat": 3,
 "nbformat_minor": 0,
 "worksheets": [
  {
   "cells": [
    {
     "cell_type": "markdown",
     "metadata": {},
     "source": [
      "**Working with third-party python modules**\n",
      "\n",
      "Today we'll look at working with two third-party python modules: [PyCogent](www.pycogent.org) and [matplotlib](http://matplotlib.org/). We could spend weeks exploring the functionality of each, but since we don't have that time we'll instead just scratch the surface of each explore how to get more information. \n",
      "\n",
      "Both [PyCogent](www.pycogent.org) and [matplotlib](http://matplotlib.org/) are available in the QIIME EC2 instance, so that's a quick way to get started."
     ]
    },
    {
     "cell_type": "markdown",
     "metadata": {},
     "source": [
      "*PyCogent: The Python Comparative Genomics Toolkit*\n",
      "\n",
      "PyCogent was developed to provide support for many common bioinforamtics functions, with a focus on test-driven development to ensure that the tools we were building are reliable and work as expected. Some of the most useful features that PyCogent facilitates are:\n",
      "\n",
      "1. Interacting external databases.\n",
      "2. Interacting with external applications.\n",
      "3. Working frequently used bioinformatics data types (e.g., trees, alignments, sequences).\n",
      "4. Parsing and writing many common file formats.\n",
      "5. Applying many commonly-used statistical methods.\n",
      "\n",
      "Let's look at examples of a few of these.\n",
      "\n",
      "To import tools from PyCogent, you must first have PyCogent installed, and then import from the ``cogent`` module. Here we'll query the PDB for a PDB coordinates file."
     ]
    },
    {
     "cell_type": "code",
     "collapsed": true,
     "input": [
      "from cogent.db.pdb import Pdb"
     ],
     "language": "python",
     "metadata": {},
     "outputs": [
      {
       "ename": "ImportError",
       "evalue": "No module named cogent.db.pdb",
       "output_type": "pyerr",
       "traceback": [
        "\u001b[0;31m---------------------------------------------------------------------------\u001b[0m\n\u001b[0;31mImportError\u001b[0m                               Traceback (most recent call last)",
        "\u001b[0;32m<ipython-input-1-5b59ebb583d3>\u001b[0m in \u001b[0;36m<module>\u001b[0;34m()\u001b[0m\n\u001b[0;32m----> 1\u001b[0;31m \u001b[0;32mfrom\u001b[0m \u001b[0mcogent\u001b[0m\u001b[0;34m.\u001b[0m\u001b[0mdb\u001b[0m\u001b[0;34m.\u001b[0m\u001b[0mpdb\u001b[0m \u001b[0;32mimport\u001b[0m \u001b[0mPdb\u001b[0m\u001b[0;34m\u001b[0m\u001b[0m\n\u001b[0m",
        "\u001b[0;31mImportError\u001b[0m: No module named cogent.db.pdb"
       ]
      }
     ],
     "prompt_number": 1
    },
    {
     "cell_type": "code",
     "collapsed": true,
     "input": [
      "p = Pdb()"
     ],
     "language": "python",
     "metadata": {},
     "outputs": [],
     "prompt_number": 34
    },
    {
     "cell_type": "code",
     "collapsed": false,
     "input": [
      "result = p['3L0U']\n",
      "print '\\n'.join(list(result)[:25])"
     ],
     "language": "python",
     "metadata": {},
     "outputs": [
      {
       "output_type": "stream",
       "stream": "stdout",
       "text": [
        "HEADER    RNA                                     10-DEC-09   3L0U              \n",
        "\n",
        "TITLE     THE CRYSTAL STRUCTURE OF UNMODIFIED TRNAPHE FROM ESCHERICHIA          \n",
        "\n",
        "TITLE    2 COLI                                                                 \n",
        "\n",
        "COMPND    MOL_ID: 1;                                                            \n",
        "\n",
        "COMPND   2 MOLECULE: UNMODIFIED TRNAPHE;                                        \n",
        "\n",
        "COMPND   3 CHAIN: A;                                                            \n",
        "\n",
        "COMPND   4 ENGINEERED: YES;                                                     \n",
        "\n",
        "COMPND   5 MUTATION: YES                                                        \n",
        "\n",
        "SOURCE    MOL_ID: 1;                                                            \n",
        "\n",
        "SOURCE   2 SYNTHETIC: YES;                                                      \n",
        "\n",
        "SOURCE   3 OTHER_DETAILS: IN VITRO SYNTHESIS BY T7 RNA POLYMERASE, THE          \n",
        "\n",
        "SOURCE   4 SEQUENCE OF THE TRNA IS FROM ESCHERICHIA COLI K12                    \n",
        "\n",
        "KEYWDS    TRANSFER RNA, TRNA, TRANSCRIPT, UNMODIFIED, RNA                       \n",
        "\n",
        "EXPDTA    X-RAY DIFFRACTION                                                     \n",
        "\n",
        "AUTHOR    R.T.BYRNE,A.L.KONEVEGA,M.V.RODNINA,A.A.ANTSON                         \n",
        "\n",
        "REVDAT   1   16-MAR-10 3L0U    0                                                \n",
        "\n",
        "JRNL        AUTH   R.T.BYRNE,A.L.KONEVEGA,M.V.RODNINA,A.A.ANTSON                \n",
        "\n",
        "JRNL        TITL   THE CRYSTAL STRUCTURE OF UNMODIFIED TRNAPHE FROM             \n",
        "\n",
        "JRNL        TITL 2 ESCHERICHIA COLI                                             \n",
        "\n",
        "JRNL        REF    NUCLEIC ACIDS RES.                         2010              \n",
        "\n",
        "JRNL        REFN                   ESSN 1362-4962                               \n",
        "\n",
        "JRNL        PMID   20203084                                                     \n",
        "\n",
        "JRNL        DOI    10.1093/NAR/GKQ133                                           \n",
        "\n",
        "REMARK   2                                                                      \n",
        "\n",
        "REMARK   2 RESOLUTION.    3.00 ANGSTROMS.                                       \n"
       ]
      }
     ],
     "prompt_number": 35
    },
    {
     "cell_type": "markdown",
     "metadata": {},
     "source": [
      "Similarly we can query Genbank using the ``EUtils`` module. We'll also import the ``MinimalFastaParser`` here, but we'll come back to that later."
     ]
    },
    {
     "cell_type": "code",
     "collapsed": true,
     "input": [
      "from cogent.db.ncbi import EUtils\n",
      "from cogent.parse.fasta import MinimalFastaParser"
     ],
     "language": "python",
     "metadata": {},
     "outputs": [],
     "prompt_number": 36
    },
    {
     "cell_type": "code",
     "collapsed": true,
     "input": [
      "e = EUtils()\n",
      "bac16s = list(MinimalFastaParser(e['\"small subunit rRNA\"[ti] AND bacteria[orgn]']))"
     ],
     "language": "python",
     "metadata": {},
     "outputs": [],
     "prompt_number": 37
    },
    {
     "cell_type": "code",
     "collapsed": false,
     "input": [
      "print bac16s[:5]"
     ],
     "language": "python",
     "metadata": {},
     "outputs": [
      {
       "output_type": "stream",
       "stream": "stdout",
       "text": [
        "[(&apos;gi|1809027|gb|U62130.1|SPU62130 Solemya pusilla gill symbiont 16S small subunit rRNA gene&apos;, &apos;TCCTGGCTCAGATTGAACGCTGGCGGTATGCTTAACACATGCAAGTCGAACGGTAACAGGAGAGAGCTTGCTCTCTTGCTGACGAGTGGCGGACGGGTGAGTAACGCGTAGGAATCTGCCTATTAGTGGGGGACAACTTCCGGAAACGGAAGCTAATACCGCATACGCCCTACGGGGGAAAGCAGGGGATCTTCGGACCTTGCGCTATTAGATGAGCCTGCGTTGGATTAGTTAGTTGGTGAGGTAATGGCTCACCAAGACAGCGATCCATAGCTGGTCTGAGAGGACGATCAGCCACACTGGGACTGAGACACGGCCCAGACTCCTACGGGAGGCAGCAGTGGGGAATATTGGACAATGGGCGCAAGCCTGATCCAGCAATACCGCGTGTGTGAAGAAGGCCTGCGGGTTGTAAAGCACTTTCAATTGTGAAGAAAAGCTGAAGGTTAATAACCTTTGTCTTTGACGTTAACTTTAGAAGAAGCACCGCTAAGGGTGCAAGCGTTAATCGGAATTACTGGGCGTAAAGCGTGCGTAGGCGGTTTGGTCAGTCAGATGTGAAAGCCCTGGGCTTAACCTGGGAACTGCATTTGATACTGCCAAGCTAGAGTATGGTAGAGGGAAGTGGAATTTCGGGTGTAGCGGTGAAATGCGTAGATATCCGAAGGAACACCAGTGGCGAAGGCGACTTCCTGGACCAATACTGACGCTGAGGTACGAAAGCGTGGGTAGCAAACAGGATTAGATACCCTGGTAGTCCACGCCGTAAACGATGTCAACTAGCCGTTGGTCTCATTAAAGAGATTAGTGGCGCAGCTAACGCGATAAGTTGACACAAGCGGTGGACATGTGGTTTAATTCGATGCAACGCAAAAAACCTTACCAGCTCTTGACATCCTGCAAAAATAAATTGGTGCCTTCGGGAACGCATTGACGGTGCTGCATGGCTGTCGTCACTCGTGTCGTGAGATGTGGGTTAATTCCCGTCTTATTGCCAGCACGTAATGGTGGGAACTCTAGGAGACTGCCGGTGATAAACCGGAGGAATGTGGGGATGACGTCAAGTCATCATGGTCCTTATGAGCTGGGCTACACACGTGCTACAATGGTCGGTACAGACGGTTGCGAACCCGCGAGGGGAAGCTAATCCGAGAAAGCCGATCGTAGTCCGGATCGCATCTGCAACTCGACTGCGTGAAGTCGGAATCGCTAGTAATCGCGAATCAAATGTCGCGGTGAATACTTCCCGGGCCTTGTACACACCGCCCGTCACACCATGGGA&apos;), (&apos;gi|174515|gb|M59230.1|EUBRG Eubacterium biforme small subunit rRNA&apos;, &apos;NCAAATGGAGAGTTTGATCCTGGCTCAGGATNAACGCTGGCGGCATGCCTAATACATGCAAGTCGAACGAGAGGAAGGAAAGCTTGCTTTTCTGAATCTAGTGGCGAACGGGTGAGTAACNCGTAGGTAACCTGCCCATGTGCCCGGGATAACTTCTGGAAACGGATGCTAAAACCGGATAGGTAGCAGACAAGCATTTGACTGCTATTAAAGTGGCTAAGGCCATGAACATGGATGGACCTNCGGTGCATTAGCTAGTTGGTGAGGTAACGGCCCACCAAGGCGACGATGCATAGCCGGCCTGAGAGGGCGGACGGCCACATTGGGACTGAGACACGGCCNNAACTCCTACGGGAGGCAGCAGTAGGGAATTTTCGTCAATGGGGGGAACCCTGAACGAGCAATGCCGCGTGAGTGAGGAAGGTCTTCGGATCGTAAAGCTCTGTTGTAAGAGAAAAACGACATTCATAGGGAATGATGAGTGAGTGATGGTATCTTACCAGAAAGTCACGGCTAACTACGTGCCAGCAGCCGCGGTAATACGTAGGTGGCGAGCGTTATCCGGAATGATTGGGCGTANAGGGTGCGTAGGTGGCAGAACAAGTCTGGAGTAAAAGGTATGGGCTCAACCCGTACTGGCTCTGGAAACTGTTCAGCTAGAGAACAGAAGAGGACGGCGGAACTCCATGTGTAGCGGTAAAATGCGTAGATATATGGAAGAACACCGGTGGCGAAGGCGGCCGTCTGGTCTGTTGCTGACACTGAAGCACGAAAGCGTGGGGAGCAAATAGGATTAGATACCCTAGTAGTCCACGCCGTAAACGATGAGAACTAGGTGTTGGGGGAATAACTCAGTGCCGCAGTTAACGCAATAAGTTCTCCGCCTGGGGAGTATGCACGCAAGTGTGAAACTCAAAGGAATTGACGGNNGCCNGCACAAGCGGTGGAGTATGTGGTTTAATTCGAAGNAACGCGAAGAACCTTACCAGGCCTTGACATCCCTTGCAGAGRTATAGAGATATATCCGAGGTTAACAAGGAGACAGGTGGTGCATGGTTGTCGTCAGCTCGTGTCGTGAGATGTTGGGTTAAGTCCCGCAACGAGCGCAACCCTTGTGATATGTTACTAACATTGAGTTGAGGACTCATATCAGACTGCCGGTGATAAACCGGAGGAAGGTGGGGATGACGTCAAATCATCATGCCCCTTATGGCCTGGGCTACACACGTNCTACAATGGCGTCTACAAAGAGCGGCAAGCCTGTGAAGGCAAGCGAATCTCATAAAGGACGTCTCAGTTCGGATTGAAGTCTGCAACCCGACTTCATGAAGCTGGAATCGCTAGTAATCGCGAATCAGCATGTCGCGGTGAATACGTTCTCGGGCNTTGTACACACCGCCCGTCAAACCATGGGAGTTGGTAATGCCCGAAGCCGGTGGCATAACCTTTCGAGGAGTGAGCCGTCGAAGGCAGGACCGATGACTGGGG&apos;), (&apos;gi|154840|gb|M83140.1|TPHRRNA Thermosipho africanus ribosomal small subunit rRNA gene&apos;, &apos;NATTCATGGAGGGTTTGATCCTGGCTCAGGGTGAACGCTGGCGGCGTGCCTTACACATGCAAGTCGAGCGAAGCTGCTGGTGGAATCCTTTCGGGGAGGAANGCCNGTAGACTNAGCGGCGGACGGGTGAGTAACGCGTAGGTGACCTACCCCTCAGAGGGGGATAACTGGGGGAAACCTCAGCTAATACCCNATACGTTCCTACCTATAAGNAGGTAGGAAGAAAGGGAGCAATAGCTCTGCTGAGNNNGGGGCCTGCGACCCATCAGGTAGTTGGTGAGGTAACGGCTCACNAAGCCTACGACGGGTAGCCGGTCTGAGAGGATGGCCGNCNACAAGGGCACTGAGACACGGGCCNNACTCCTACGGGAGGCAGCAGTGGGGGATTTTGGACAATGGGCGAAAGCCTNATCCAGCGACGCCGNGTGCGGGACGAAGCCCTTCGGGGTGTAAACCGCTGTGGTGGGAGACGAATAAGGTGAGGAGTGGAAAGCCTCACTGATGACGGTATCCCACTAGAAAGCCCCGGCTAACTACGTGCCAGCAGCCGCGGTAATACGTAGGGGGCNAGCGTTACCCGGATTTACTGGGCGTAAAGGGGGCGTAGGCGGCCGTGAAAGTCCGGTGTGAAAACTCACGGCTCAACCGTGGGACTGCGCTGGAAACTACACGGCTTGAGGACGGTAGAGGGAGACGGAACTGCTGGTGTAGGGGTGAAATCCGTAGATATCAGCAGGAACGCCGGTGGAGAAGTCGGTCTCCTGGGCCGTNCCTGACGCTGAGGCCCNAAAGCTAGGGGAGCAAACCGGATTAGATACCCGGGTAGTCCTAGCCGTAAACGATGCCCNCTAGGTGTGGGGGAGTAATTCCTCCGTGCTGAAGCTAACGCGATAAGTGGGCCGCCTGGGGAGTATGCCCGCAAGGGTGAAACTCAAAGGAATTGACGGGACCCNGCACAAGCGGTGGAGCGTGTGGTTTAATTGGACGCTAAGCCAAGAACCTTACCAGGGCTTGACATGCTGGTGGTACTGNCNCGAAAGGGGAGGGACCTGTGGCGTTAGTCACGGGAGCCAGCACAGGTGGTGCACGGTCGTCGTCAGCTCGTGCCGTGAGGTGTTGGGTTAAGTCCCGCAACGAGCGCAACCCCTGCCCTTAGTTGCCAGCGGTTCGGCCGGGCACTCTAAGGGNACTGCCGGCGACGAGCCGGAGGAAGGAGGGGATGACGTCAGATACTCGTGCNCCTTATGCCCTNGGCGACACACGCGCTACAATGGGTGGGACAGCGGGAAGCGAGCCAGCGATGGTGAGCGAAGCCCTTAAACCCACCCTCAGTTCGGATTGCAGGCTGAAACCCGCCTGCATGAAGCCGGAATCGCTAGTAATCGCGGATCAGCCACGCCGCG&apos;), (&apos;gi|89111228|dbj|AB252048.1| Sulfurimonas paralvinellae rrn gene for small subunit rRNA, partial sequence&apos;, &apos;CTGCTCAGAATGAACGCTGGCGGCGTGCTTAACACATGCAAGTCGAACGGTAACAGAGAGAAGCTTGCTTCTCTGCTGACGAGTGGCGCACGGGTGAGTAATATATAGGTAATGTGCCCCTTGGACCGGGATAGCCACTGGAAACGGTGATTAATACTGGATACTCCTTTTCATCAAAAGATGAATCGGGAAATGGATTCCGCCAAGGGATCGGCCTATATCCTATCAGCTAGTTGGTGAGGTAAGAGCTCACCAAGGCGATGACGGGTAGCGGGTTTGAGAGGATGATCCGCCACACTGGTACTGAGACACGGACCAGACTCCTACGGGAGGCAGCAGTGAGGAATATTGCACAATGGGGGAAACCCTGATGCAGCAACGCCGCGTGGAGGATGACGCATTTCGGTGTGTAAACTCCTTTTATATGTCAAGAAAATGACGGTAGCATATGAATAAGCACCGGCTAACTCCGTGCCAGCAGCCGCGGTAATACGGAGGGTGCAAGCGTTATTCGGAATCACTGGGCGTAAAGGACGCGTAGGCGGGTTGGTAAGTCAGATGTGAAATCCTACAGCTTAACTGTAGAACTGCATTTGAAACTACTAACCTAGAGTATGGGAGGGGCAGATGGAATTAGTGGTGTAGGGGTAAAATCCGTAGATATCACTAGGAATACCGAAAGCGAAGGCGATCTGCTGGAACATAACTGACGCTAAGGCGTGAAAGCGTGGGGAGCAAACAGGATTAGATACCCTGGTAGTCCACGCCCTAAACGATGAACACTAGTCGTCGGGATGCTAGTCATCTCGGTGATGCACTTAACAGATTAAGTGTTCCGCCTGGGGAGTACGGTCGCAAGATTAAAACTCAAAGGAATAGACGGGGACCCGCACAAGTGGTGGAGCATGTGGTTTAATTCGAAGATACGCGAAGAACCTTACCTAGCCTTGACATTGAGAGAACCTGCCAGAGATGGCGGGGTGCCCTTCGGGGAACTCGAAAACAGGTGCTGCACGGCTGTCGTCAGCTCGTGTCGTGAGATGTTGGGTTAAGTCCCGCAACGAGCGCAACCCTCGTCCTTAGTTGCTAGCAGTTCGGCTGAGCACTCTAAGGAGACTGCCTTCGCAAGGAGGAGGAAGGTGAGGACGACGTCAAGTCATCATGGCCCTTATGGCTAGGGCTACACACGTGCTACAATGGGGCGTACAGAGTGTTGCGATACCGCGAGGTGGAGCTAATCACTTAAAGCGTCTCTCAGTTCGGATTGGAGTCTGCAACTCGACTCCATGAAGCTGGAATCACTAGTAATCGTAGATCAGCAATGCTACGGTGAATACGTTCCCGGGTCTTGTACTCACCGCCCGTCACACCATGGGAGTTGATTTCACCCGAAATCGGGAAGCCAACCTTCGGGGGGCTACCGCTTAACCGGTGGAATTAGGCGA&apos;), (&apos;gi|13122406|dbj|AB055735.1| Uncultured bacterium Pn34 gene for small subunit rRNA, partial sequence&apos;, &apos;TACGGAGGATTCGAGCGTTATCCGGATTTATTGGGTTTAAAGGGTGCGCAGGCGGTTTTTTAAGTCGGCGGTGAAATTTTGCGGCTCAACCGTAAAAGTGCCTTCGAAACTGGAAGACTTGAGTATAGATGAAGTAGGCGGAATTTGTGGTGTAGCGGTGAAATGCATAGATATCACGAGGAACTCCGATTGCGCAGGCAGCTTACTAAACTATAACTGACGCTCATGCACGAAGGCGTGGGGATCAAACAGGATTAGATACCCTGGTAGTCCACGCAGTAAACGATGATTACTCGCTGTTTGCGATATACCGCAAGCGGCTTAGCGAAAGCGTTAAGTAATCCACCTGGGGAGTACGTTCGCAAGAATGAAACTCAAAGGAATTGGCGGGGGCCCGCACAAGCGGAGGAACATGTGGTTTAATTCGATGATACGCGAGGAACCTTACCCGGGCTAGAACGCAGAGGGAATGTATGGGAAACTGTACAGCCGCAAGGCCGTCTGCGAGGTGCTGCATGGTTGTCGTCAGCTCGTGCCGTGAGGTGTCGGCTTAAGTGCCATAACGAGCGCAACCCTTATTGTTAGTTGCCAGCGGATCATGCCGGGGACTCTAGCAAAACTGCCGGCGTAAGCTGTGAGGAAGGTGGGGATGACGTCAAATCAGCACGGCCCTTACGTCCGGGGCGACACACGTGTTACAATGGGAGGTACAGAAGGTTGCTACCACGCGAGTGGATGCTAATCCAGAAAGCCTCTCTCAGTTCGGATCGAAGTCTGCAACTCGACTTCGTGAAGCTGGATTCGCTAGTAATCGCGCATCAGCCATGGCGCGGTGAATACGTTCCCGGGCCTT&apos;)]"
       ]
      }
     ],
     "prompt_number": 38
    },
    {
     "cell_type": "markdown",
     "metadata": {},
     "source": [
      "PyCogent also supports common data types that are used in bioinformatics. For example, it's very common to have a collection of sequences that you want to perform some processing of, so PyCogent implents a data type called a ``SequenceCollection``.  To load sequences into a sequence collection, you can use the ``LoadSeqs`` function. "
     ]
    },
    {
     "cell_type": "code",
     "collapsed": true,
     "input": [
      "from cogent import LoadSeqs, DNA\n",
      "seqs = LoadSeqs(data=bac16s,moltype=DNA,aligned=False)"
     ],
     "language": "python",
     "metadata": {},
     "outputs": [],
     "prompt_number": 39
    },
    {
     "cell_type": "markdown",
     "metadata": {},
     "source": [
      "To see what you can do with a sequence collection, use the ``dir`` function."
     ]
    },
    {
     "cell_type": "code",
     "collapsed": false,
     "input": [
      "dir(seqs)"
     ],
     "language": "python",
     "metadata": {},
     "outputs": [
      {
       "output_type": "pyout",
       "prompt_number": 40,
       "text": [
        "[&apos;Alphabet&apos;,\n",
        " &apos;DefaultNameFunction&apos;,\n",
        " &apos;Info&apos;,\n",
        " &apos;InputHandlers&apos;,\n",
        " &apos;IsArray&apos;,\n",
        " &apos;Items&apos;,\n",
        " &apos;MolType&apos;,\n",
        " &apos;Name&apos;,\n",
        " &apos;NamedSeqs&apos;,\n",
        " &apos;Names&apos;,\n",
        " &apos;SeqData&apos;,\n",
        " &apos;SeqLen&apos;,\n",
        " &apos;Seqs&apos;,\n",
        " &apos;__add__&apos;,\n",
        " &apos;__class__&apos;,\n",
        " &apos;__cmp__&apos;,\n",
        " &apos;__delattr__&apos;,\n",
        " &apos;__dict__&apos;,\n",
        " &apos;__doc__&apos;,\n",
        " &apos;__format__&apos;,\n",
        " &apos;__getattribute__&apos;,\n",
        " &apos;__hash__&apos;,\n",
        " &apos;__init__&apos;,\n",
        " &apos;__len__&apos;,\n",
        " &apos;__module__&apos;,\n",
        " &apos;__new__&apos;,\n",
        " &apos;__reduce__&apos;,\n",
        " &apos;__reduce_ex__&apos;,\n",
        " &apos;__repr__&apos;,\n",
        " &apos;__setattr__&apos;,\n",
        " &apos;__sizeof__&apos;,\n",
        " &apos;__str__&apos;,\n",
        " &apos;__subclasshook__&apos;,\n",
        " &apos;__weakref__&apos;,\n",
        " &apos;_coerce_seqs&apos;,\n",
        " &apos;_force_same_data&apos;,\n",
        " &apos;_get_alphabet_and_moltype&apos;,\n",
        " &apos;_get_container_item&apos;,\n",
        " &apos;_guess_input_type&apos;,\n",
        " &apos;_make_gaps_ok&apos;,\n",
        " &apos;_make_named_seqs&apos;,\n",
        " &apos;_names_seqs_order&apos;,\n",
        " &apos;_seqs&apos;,\n",
        " &apos;_set_additional_attributes&apos;,\n",
        " &apos;_strip_duplicates&apos;,\n",
        " &apos;_take_seqs&apos;,\n",
        " &apos;addSeqs&apos;,\n",
        " &apos;annotateFromGff&apos;,\n",
        " &apos;copy&apos;,\n",
        " &apos;copyAnnotations&apos;,\n",
        " &apos;degap&apos;,\n",
        " &apos;distanceMatrix&apos;,\n",
        " &apos;getGapCount&apos;,\n",
        " &apos;getGappedSeq&apos;,\n",
        " &apos;getIntMap&apos;,\n",
        " &apos;getItemIndices&apos;,\n",
        " &apos;getItems&apos;,\n",
        " &apos;getItemsIf&apos;,\n",
        " &apos;getMotifProbs&apos;,\n",
        " &apos;getNumSeqs&apos;,\n",
        " &apos;getPerSequenceAmbiguousPositions&apos;,\n",
        " &apos;getSeq&apos;,\n",
        " &apos;getSeqFreqs&apos;,\n",
        " &apos;getSeqIndices&apos;,\n",
        " &apos;getSeqNames&apos;,\n",
        " &apos;getSimilar&apos;,\n",
        " &apos;getTranslation&apos;,\n",
        " &apos;hasTerminalStops&apos;,\n",
        " &apos;isRagged&apos;,\n",
        " &apos;items&apos;,\n",
        " &apos;iterItems&apos;,\n",
        " &apos;iterSeqs&apos;,\n",
        " &apos;keys&apos;,\n",
        " &apos;omitGapPositions&apos;,\n",
        " &apos;omitGapRuns&apos;,\n",
        " &apos;omitGapSeqs&apos;,\n",
        " &apos;omitSeqsTemplate&apos;,\n",
        " &apos;padSeqs&apos;,\n",
        " &apos;rc&apos;,\n",
        " &apos;replaceSeqs&apos;,\n",
        " &apos;reversecomplement&apos;,\n",
        " &apos;takeSeqs&apos;,\n",
        " &apos;takeSeqsIf&apos;,\n",
        " &apos;toDna&apos;,\n",
        " &apos;toFasta&apos;,\n",
        " &apos;toNexus&apos;,\n",
        " &apos;toPhylip&apos;,\n",
        " &apos;toRna&apos;,\n",
        " &apos;todict&apos;,\n",
        " &apos;values&apos;,\n",
        " &apos;withModifiedTermini&apos;,\n",
        " &apos;withoutTerminalStopCodons&apos;,\n",
        " &apos;writeToFile&apos;]"
       ]
      }
     ],
     "prompt_number": 40
    },
    {
     "cell_type": "markdown",
     "metadata": {},
     "source": [
      "Then you can use ``help`` to get additional information on specific methods."
     ]
    },
    {
     "cell_type": "code",
     "collapsed": false,
     "input": [
      "help(seqs.getTranslation)"
     ],
     "language": "python",
     "metadata": {},
     "outputs": [
      {
       "output_type": "stream",
       "stream": "stdout",
       "text": [
        "Help on method getTranslation in module cogent.core.alignment:\n",
        "\n",
        "getTranslation(self, gc=None, **kwargs) method of cogent.core.alignment.SequenceCollection instance\n",
        "    Returns a new alignment object with the DNA sequences translated,\n",
        "    using the current codon moltype, into an amino acid sequence.\n"
       ]
      }
     ],
     "prompt_number": 41
    },
    {
     "cell_type": "markdown",
     "metadata": {},
     "source": [
      "One of the most powerful tools (in my unbiased opinion) in PyCogent is the [Application Controller framework](http://pycogent.sourceforge.net/examples/application_controller_framework.html).\n",
      "\n",
      "This allows you to wrap command line applications in python, which then provides very convenient access from inside your code. Some common use cases for this are running the same application with many different parameter settings (to study the effect of different parameters) or on many different inputs (to apply the same process to different data sets). Additionally you may want to build *pipelines*, or scripts that plug together many different applications into a single script for commonly performed tasks. An example of this would be ``pick_otus_through_otu_table.py`` workflow script in QIIME, which picks OTUs with ``uclust``, assigns taxonomy to OTUs with ``RDP classifier``, aligns sequences with ``PyNAST`` and then builds a phylogenetic tree from those sequences with ``FastTree``.\n",
      "\n",
      "Here we'll run the muscle multiple sequence aligner."
     ]
    },
    {
     "cell_type": "code",
     "collapsed": true,
     "input": [
      "from cogent.app.muscle import align_unaligned_seqs"
     ],
     "language": "python",
     "metadata": {},
     "outputs": [],
     "prompt_number": 42
    },
    {
     "cell_type": "code",
     "collapsed": true,
     "input": [
      "aligned_seqs = align_unaligned_seqs(seqs,DNA)"
     ],
     "language": "python",
     "metadata": {},
     "outputs": [],
     "prompt_number": 43
    },
    {
     "cell_type": "markdown",
     "metadata": {},
     "source": [
      "In this step we ran the muscle command line program, which takes a fasta file as input and generates another fasta file as output. Notice that we didn't have to write that fasta file though, nor did we have to parse the resulting file. The PyCogent application controller takes care of all of that for us, seemingly letting us just pass python objects to muscle.  \n",
      "\n",
      "The return value from ``align_unaligned_seqs`` is an ``Alignment``, which has some useful functionality. Use ``dir`` to see that."
     ]
    },
    {
     "cell_type": "code",
     "collapsed": false,
     "input": [
      "dir(aligned_seqs)"
     ],
     "language": "python",
     "metadata": {},
     "outputs": [
      {
       "output_type": "pyout",
       "prompt_number": 46,
       "text": [
        "[&apos;AlignedSeqs&apos;,\n",
        " &apos;Alphabet&apos;,\n",
        " &apos;DefaultGap&apos;,\n",
        " &apos;DefaultNameFunction&apos;,\n",
        " &apos;GapChars&apos;,\n",
        " &apos;IUPACConsensus&apos;,\n",
        " &apos;Info&apos;,\n",
        " &apos;InputHandlers&apos;,\n",
        " &apos;IsArray&apos;,\n",
        " &apos;Items&apos;,\n",
        " &apos;MolType&apos;,\n",
        " &apos;Name&apos;,\n",
        " &apos;NamedSeqs&apos;,\n",
        " &apos;Names&apos;,\n",
        " &apos;Positions&apos;,\n",
        " &apos;SeqData&apos;,\n",
        " &apos;SeqLen&apos;,\n",
        " &apos;Seqs&apos;,\n",
        " &apos;__add__&apos;,\n",
        " &apos;__class__&apos;,\n",
        " &apos;__cmp__&apos;,\n",
        " &apos;__delattr__&apos;,\n",
        " &apos;__dict__&apos;,\n",
        " &apos;__doc__&apos;,\n",
        " &apos;__format__&apos;,\n",
        " &apos;__getattribute__&apos;,\n",
        " &apos;__getitem__&apos;,\n",
        " &apos;__hash__&apos;,\n",
        " &apos;__init__&apos;,\n",
        " &apos;__len__&apos;,\n",
        " &apos;__module__&apos;,\n",
        " &apos;__new__&apos;,\n",
        " &apos;__reduce__&apos;,\n",
        " &apos;__reduce_ex__&apos;,\n",
        " &apos;__repr__&apos;,\n",
        " &apos;__setattr__&apos;,\n",
        " &apos;__sizeof__&apos;,\n",
        " &apos;__str__&apos;,\n",
        " &apos;__subclasshook__&apos;,\n",
        " &apos;__weakref__&apos;,\n",
        " &apos;_annotations_nucleic_reversed_on&apos;,\n",
        " &apos;_as_map&apos;,\n",
        " &apos;_coerce_seqs&apos;,\n",
        " &apos;_force_same_data&apos;,\n",
        " &apos;_get_alphabet_and_moltype&apos;,\n",
        " &apos;_get_container_item&apos;,\n",
        " &apos;_get_freqs&apos;,\n",
        " &apos;_guess_input_type&apos;,\n",
        " &apos;_make_gaps_ok&apos;,\n",
        " &apos;_make_named_seqs&apos;,\n",
        " &apos;_mapped&apos;,\n",
        " &apos;_motif_probs&apos;,\n",
        " &apos;_names_seqs_order&apos;,\n",
        " &apos;_seq_to_aligned&apos;,\n",
        " &apos;_seqs&apos;,\n",
        " &apos;_set_additional_attributes&apos;,\n",
        " &apos;_shiftedAnnotations&apos;,\n",
        " &apos;_slicedAnnotations&apos;,\n",
        " &apos;_strip_duplicates&apos;,\n",
        " &apos;_take_seqs&apos;,\n",
        " &apos;_type&apos;,\n",
        " &apos;addAnnotation&apos;,\n",
        " &apos;addFeature&apos;,\n",
        " &apos;addFromReferenceAln&apos;,\n",
        " &apos;addSeqs&apos;,\n",
        " &apos;annotateFromGff&apos;,\n",
        " &apos;annotations&apos;,\n",
        " &apos;attachAnnotations&apos;,\n",
        " &apos;columnFreqs&apos;,\n",
        " &apos;columnProbs&apos;,\n",
        " &apos;copy&apos;,\n",
        " &apos;copyAnnotations&apos;,\n",
        " &apos;degap&apos;,\n",
        " &apos;detachAnnotations&apos;,\n",
        " &apos;distanceMatrix&apos;,\n",
        " &apos;filtered&apos;,\n",
        " &apos;gappedByMap&apos;,\n",
        " &apos;getAnnotationTracks&apos;,\n",
        " &apos;getAnnotationsFromAnySequence&apos;,\n",
        " &apos;getAnnotationsFromSequence&apos;,\n",
        " &apos;getAnnotationsMatching&apos;,\n",
        " &apos;getByAnnotation&apos;,\n",
        " &apos;getBySequenceAnnotation&apos;,\n",
        " &apos;getChildTracks&apos;,\n",
        " &apos;getDegappedRelativeTo&apos;,\n",
        " &apos;getGapCount&apos;,\n",
        " &apos;getGappedSeq&apos;,\n",
        " &apos;getIntMap&apos;,\n",
        " &apos;getItemIndices&apos;,\n",
        " &apos;getItems&apos;,\n",
        " &apos;getItemsIf&apos;,\n",
        " &apos;getMotifProbs&apos;,\n",
        " &apos;getNumSeqs&apos;,\n",
        " &apos;getPerSequenceAmbiguousPositions&apos;,\n",
        " &apos;getPosFreqs&apos;,\n",
        " &apos;getPositionIndices&apos;,\n",
        " &apos;getProjectedAnnotations&apos;,\n",
        " &apos;getRegionCoveringAll&apos;,\n",
        " &apos;getSeq&apos;,\n",
        " &apos;getSeqFreqs&apos;,\n",
        " &apos;getSeqIndices&apos;,\n",
        " &apos;getSeqNames&apos;,\n",
        " &apos;getSimilar&apos;,\n",
        " &apos;getTracks&apos;,\n",
        " &apos;getTranslation&apos;,\n",
        " &apos;hasTerminalStops&apos;,\n",
        " &apos;isRagged&apos;,\n",
        " &apos;items&apos;,\n",
        " &apos;iterItems&apos;,\n",
        " &apos;iterPositions&apos;,\n",
        " &apos;iterSeqs&apos;,\n",
        " &apos;keys&apos;,\n",
        " &apos;majorityConsensus&apos;,\n",
        " &apos;omitGapPositions&apos;,\n",
        " &apos;omitGapRuns&apos;,\n",
        " &apos;omitGapSeqs&apos;,\n",
        " &apos;omitSeqsTemplate&apos;,\n",
        " &apos;padSeqs&apos;,\n",
        " &apos;rc&apos;,\n",
        " &apos;replaceSeqs&apos;,\n",
        " &apos;reversecomplement&apos;,\n",
        " &apos;sample&apos;,\n",
        " &apos;scoreMatrix&apos;,\n",
        " &apos;slidingWindows&apos;,\n",
        " &apos;takePositions&apos;,\n",
        " &apos;takePositionsIf&apos;,\n",
        " &apos;takeSeqs&apos;,\n",
        " &apos;takeSeqsIf&apos;,\n",
        " &apos;toDna&apos;,\n",
        " &apos;toFasta&apos;,\n",
        " &apos;toNexus&apos;,\n",
        " &apos;toPhylip&apos;,\n",
        " &apos;toRna&apos;,\n",
        " &apos;todict&apos;,\n",
        " &apos;uncertainties&apos;,\n",
        " &apos;values&apos;,\n",
        " &apos;variablePositions&apos;,\n",
        " &apos;withGapsFrom&apos;,\n",
        " &apos;withMaskedAnnotations&apos;,\n",
        " &apos;withModifiedTermini&apos;,\n",
        " &apos;withoutTerminalStopCodons&apos;,\n",
        " &apos;writeToFile&apos;]"
       ]
      }
     ],
     "prompt_number": 46
    },
    {
     "cell_type": "markdown",
     "metadata": {},
     "source": [
      "One of these useful functionalities is the ``uncertainties`` method, which can provide useful information about the varability at different positions in the sequence."
     ]
    },
    {
     "cell_type": "code",
     "collapsed": false,
     "input": [
      "help(aligned_seqs.uncertainties)"
     ],
     "language": "python",
     "metadata": {},
     "outputs": [
      {
       "output_type": "stream",
       "stream": "stdout",
       "text": [
        "Help on method uncertainties in module cogent.core.alignment:\n",
        "\n",
        "uncertainties(self, good_items=None) method of cogent.core.alignment.Alignment instance\n",
        "    Returns Shannon uncertainty at each position.\n",
        "    \n",
        "    Usage: information_list = alignment.information(good_items=None)\n",
        "    \n",
        "    If good_items is supplied, deletes any symbols that are not in\n",
        "    good_items.\n"
       ]
      }
     ],
     "prompt_number": 54
    },
    {
     "cell_type": "code",
     "collapsed": true,
     "input": [
      "uncertainties = aligned_seqs.uncertainties()"
     ],
     "language": "python",
     "metadata": {},
     "outputs": [],
     "prompt_number": 48
    },
    {
     "cell_type": "markdown",
     "metadata": {},
     "source": [
      "If we want to investiage the positional variability through-out the alignment, we could plug these results directly into the other module that we'll look at today: ``matplotlib``. \n",
      "\n",
      "``matplotlib`` provides plotting functionality for use in python. To import from ``matplotlib`` we import from ``pylab``. Let's import the plot function and generate a figure."
     ]
    },
    {
     "cell_type": "code",
     "collapsed": true,
     "input": [
      "from pylab import plot"
     ],
     "language": "python",
     "metadata": {},
     "outputs": [],
     "prompt_number": 50
    },
    {
     "cell_type": "code",
     "collapsed": false,
     "input": [
      "plot(uncertainties)"
     ],
     "language": "python",
     "metadata": {},
     "outputs": [
      {
       "output_type": "pyout",
       "prompt_number": 52,
       "text": [
        "[&lt;matplotlib.lines.Line2D at 0x3034090&gt;]"
       ]
      },
      {
       "output_type": "display_data",
       "png": "[encoded data removed]"
      }
     ],
     "prompt_number": 52
    },
    {
     "cell_type": "markdown",
     "metadata": {},
     "source": [
      "We could make this figure nicer by adding labels and a title."
     ]
    },
    {
     "cell_type": "code",
     "collapsed": false,
     "input": [
      "from pylab import xlabel, ylabel, title\n",
      "xlabel(\"Alignment position\")\n",
      "ylabel(\"Shannon uncertainty\")\n",
      "title(\"Posiitional variability in the bacterial 16S rRNA gene (based on a very small sample of sequences)\")\n",
      "plot(uncertainties)"
     ],
     "language": "python",
     "metadata": {},
     "outputs": [
      {
       "output_type": "pyout",
       "prompt_number": 56,
       "text": [
        "[&lt;matplotlib.lines.Line2D at 0x328c810&gt;]"
       ]
      },
      {
       "output_type": "display_data",
       "png": "[encoded data removed]"
      }
     ],
     "prompt_number": 56
    },
    {
     "cell_type": "markdown",
     "metadata": {},
     "source": [
      "PyCogent also provides support for parsing many common file types. To access PyCogent's fasta parser (which we used above), you can import from ``cogent.parse.fasta``. Let's parse a fasta file and do some light processing of it."
     ]
    },
    {
     "cell_type": "code",
     "collapsed": false,
     "input": [
      "fp = \"/home/ubuntu/qiime_software/gg_otus-4feb2011-release/rep_set/gg_70_otus_4feb2011.fasta\"\n",
      "\n",
      "from cogent.parse.fasta import MinimalFastaParser\n",
      "\n",
      "gc_contents = []\n",
      "\n",
      "for seq_id, seq in MinimalFastaParser(open(fp,'U')):\n",
      "    gc_content = float(seq.count('G') + seq.count('C')) / len(seq)\n",
      "    print \"%s: %1.2f\" % (seq_id, gc_content)\n",
      "    gc_contents.append(gc_content)"
     ],
     "language": "python",
     "metadata": {},
     "outputs": [
      {
       "output_type": "stream",
       "stream": "stdout",
       "text": [
        "45024: 0.58\n",
        "177038: 0.62\n",
        "264416: 0.55\n",
        "332077: 0.55\n",
        "550229: 0.52\n",
        "574071: 0.53\n",
        "20204: 0.51\n",
        "569058: 0.52\n",
        "82149: 0.49\n",
        "128551: 0.40\n",
        "532645: 0.57\n",
        "201216: 0.54\n",
        "89696: 0.59\n",
        "245702: 0.52\n",
        "201574: 0.52\n",
        "355913: 0.56\n",
        "201331: 0.50\n",
        "254053: 0.52\n",
        "153852: 0.50\n",
        "250980: 0.58\n",
        "201378: 0.49\n",
        "153508: 0.57"
       ]
      }
     ],
     "prompt_number": 59
    },
    {
     "cell_type": "markdown",
     "metadata": {},
     "source": [
      "We could then use ``matplotlib`` again to visualize the distributions of gc_contents across this wide range of 16S rRNA genes (the bacterial and the archaea). "
     ]
    },
    {
     "cell_type": "code",
     "collapsed": false,
     "input": [
      "from pylab import boxplot\n",
      "boxplot(gc_contents)"
     ],
     "language": "python",
     "metadata": {},
     "outputs": [
      {
       "output_type": "pyout",
       "prompt_number": 66,
       "text": [
        "{&apos;boxes&apos;: [&lt;matplotlib.lines.Line2D at 0x423ecd0&gt;],\n",
        " &apos;caps&apos;: [&lt;matplotlib.lines.Line2D at 0x423e2d0&gt;,\n",
        "  &lt;matplotlib.lines.Line2D at 0x423e7d0&gt;],\n",
        " &apos;fliers&apos;: [&lt;matplotlib.lines.Line2D at 0x4240710&gt;,\n",
        "  &lt;matplotlib.lines.Line2D at 0x4240bd0&gt;],\n",
        " &apos;medians&apos;: [&lt;matplotlib.lines.Line2D at 0x4240210&gt;],\n",
        " &apos;whiskers&apos;: [&lt;matplotlib.lines.Line2D at 0x423a890&gt;,\n",
        "  &lt;matplotlib.lines.Line2D at 0x423ad90&gt;]}"
       ]
      },
      {
       "output_type": "display_data",
       "png": "[encoded data removed]"
      }
     ],
     "prompt_number": 66
    },
    {
     "cell_type": "markdown",
     "metadata": {},
     "source": [
      "``matplotlib`` offers very rich functionality. A great way to figure out how to generate certain types of plots is by browsing their [gallery](ahttp://matplotlib.org/gallery.html) and [examples](http://matplotlib.org/examples/index.html). These show off what ``matplotlib`` can do, and provide the source code to generate each plot. I often start there to get a working plot and then tweak it to display what I want."
     ]
    },
    {
     "cell_type": "code",
     "collapsed": true,
     "input": [],
     "language": "python",
     "metadata": {},
     "outputs": [],
     "prompt_number": "&nbsp;"
    }
   ],
   "metadata": {}
  }
 ]
}