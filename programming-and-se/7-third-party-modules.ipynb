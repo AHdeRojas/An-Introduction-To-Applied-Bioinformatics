{
 "metadata": {
  "name": ""
 },
 "nbformat": 3,
 "nbformat_minor": 0,
 "worksheets": [
  {
   "cells": [
    {
     "cell_type": "markdown",
     "metadata": {},
     "source": [
      "**Important**: see discussion on the intentions for these materials in the [overview notebook](http://nbviewer.ipython.org/github/gregcaporaso/An-Introduction-To-Applied-Bioinformatics/blob/master/programming-and-se/0-overview.ipynb) for this chapter."
     ]
    },
    {
     "cell_type": "heading",
     "level": 1,
     "metadata": {},
     "source": [
      "Working with third-party python modules"
     ]
    },
    {
     "cell_type": "markdown",
     "metadata": {},
     "source": [
      "Today we'll look at working with two third-party python modules: [scikit-bio](www.scikit-bio.org) and [matplotlib](http://matplotlib.org/). We could spend weeks exploring the functionality of each, but since we don't have that time we'll instead just scratch the surface of each explore how to get more information. "
     ]
    },
    {
     "cell_type": "heading",
     "level": 2,
     "metadata": {},
     "source": [
      "scikit-bio: General bioinformatics functionality implemented in Python"
     ]
    },
    {
     "cell_type": "markdown",
     "metadata": {},
     "source": [
      "scikit-bio is a very new package, designed to support common bioinformatics functions and facilitate the development of new bioinformatics applications in python. scikit-bio is open source, free software under the BSD license [hosted on GitHub](http://www.github.com/biocore/scikit-bio). Some of the functionality is derived from pre-existing packages, including [PyCogent](http://www.pycogent.org) and [QIIME](http://www.qiime.org).\n",
      "\n",
      "scikit-bio is developed with a focus on [test-driven development](http://en.wikipedia.org/wiki/Test-driven_development), [peer code review](http://en.wikipedia.org/wiki/Code_review), and [standardized API documentation](https://github.com/numpy/numpy/blob/master/doc/HOWTO_DOCUMENT.rst.txt). These will support a useful and usable general bioinformatics package. \n",
      "\n",
      "To import tools from scikit-bio, you must first have scikit-bio installed, and then import from the ``skbio`` module. Often in bioinformatics you'll have a collection of aligned sequences that you need to work with, so we'll focus on some examples built around that application."
     ]
    },
    {
     "cell_type": "code",
     "collapsed": true,
     "input": [
      "from skbio.core.alignment import Alignment\n",
      "from skbio.core.sequence import DNASequence\n",
      "from skbio.parse.sequences import parse_fasta"
     ],
     "language": "python",
     "metadata": {},
     "outputs": [],
     "prompt_number": 1
    },
    {
     "cell_type": "code",
     "collapsed": false,
     "input": [
      "help(parse_fasta)"
     ],
     "language": "python",
     "metadata": {},
     "outputs": [
      {
       "output_type": "stream",
       "stream": "stdout",
       "text": [
        "Help on function parse_fasta in module skbio.parse.sequences:\n",
        "\n",
        "parse_fasta(infile, strict=True, label_to_name=<type 'str'>, finder=<function parser>, is_label=None, label_characters='>')\n",
        "    yields label and seq from a fasta file.\n",
        "    \n",
        "    \n",
        "    Parameters\n",
        "    ----------\n",
        "    data : open file object\n",
        "        An open fasta file.\n",
        "    \n",
        "    strict : bool\n",
        "        If strict is true a ``RecordError`` will\n",
        "        be raised if no header line is found\n",
        "    \n",
        "    Returns\n",
        "    -------\n",
        "    label, sequence : string\n",
        "        yields the label and sequence for each entry.\n",
        "    \n",
        "    Examples\n",
        "    --------\n",
        "    Assume we have a fasta formatted file with the following contents::\n",
        "    \n",
        "        >seq1\n",
        "        CGATGTCGATCGATCGATCGATCAG\n",
        "        >seq2\n",
        "        CATCGATCGATCGATGCATGCATGCATG\n",
        "    \n",
        "    >>> from StringIO import StringIO\n",
        "    >>> from skbio.parse.sequences import parse_fasta\n",
        "    >>> fasta_f = StringIO('>seq1\\n'\n",
        "    ...                    'CGATGTCGATCGATCGATCGATCAG\\n'\n",
        "    ...                    '>seq2\\n'\n",
        "    ...                    'CATCGATCGATCGATGCATGCATGCATG\\n')\n",
        "    >>> for label, seq in parse_fasta(fasta_f):\n",
        "    ...     print label\n",
        "    ...     print seq\n",
        "    seq1\n",
        "    CGATGTCGATCGATCGATCGATCAG\n",
        "    seq2\n",
        "    CATCGATCGATCGATGCATGCATGCATG\n",
        "\n"
       ]
      }
     ],
     "prompt_number": 2
    },
    {
     "cell_type": "code",
     "collapsed": false,
     "input": [
      "help(Alignment.from_fasta_records)"
     ],
     "language": "python",
     "metadata": {},
     "outputs": [
      {
       "output_type": "stream",
       "stream": "stdout",
       "text": [
        "Help on method from_fasta_records in module skbio.core.alignment:\n",
        "\n",
        "from_fasta_records(cls, fasta_records, seq_constructor, validate=False) method of __builtin__.type instance\n",
        "    Initialize a `SequenceCollection` object\n",
        "    \n",
        "    Parameters\n",
        "    ----------\n",
        "    fasta_records : iterator of tuples\n",
        "        The records to load into a new `SequenceCollection` object. These\n",
        "        should be tuples of ``(sequence_identifier, sequence)``.\n",
        "    seq_constructor : skbio.core.sequence.BiologicalSequence\n",
        "    validate : bool, optional\n",
        "        If True, runs the `is_valid` method after construction and raises\n",
        "        `SequenceCollectionError` if ``is_valid == False``.\n",
        "    \n",
        "    Returns\n",
        "    -------\n",
        "    SequenceCollection (or a derived class)\n",
        "        The new `SequenceCollection` object.\n",
        "    \n",
        "    Raises\n",
        "    ------\n",
        "    skbio.core.exception.SequenceCollectionError\n",
        "        If ``validate == True`` and ``is_valid == False``.\n",
        "    \n",
        "    See Also\n",
        "    --------\n",
        "    skbio.core.sequence.BiologicalSequence\n",
        "    skbio.core.sequence.NucelotideSequence\n",
        "    skbio.core.sequence.DNASequence\n",
        "    skbio.core.sequence.RNASequence\n",
        "    Alignment\n",
        "    skbio.parse.sequences\n",
        "    skbio.parse.sequences.parse_fasta\n",
        "    \n",
        "    Examples\n",
        "    --------\n",
        "    >>> from skbio.core.alignment import SequenceCollection\n",
        "    >>> from skbio.parse.sequences import parse_fasta\n",
        "    >>> from StringIO import StringIO\n",
        "    >>> from skbio.core.sequence import DNA\n",
        "    >>> fasta_f = StringIO('>seq1\\nACCGT\\n>seq2\\nAACCGGT\\n')\n",
        "    >>> s1 = SequenceCollection.from_fasta_records(\n",
        "    ...     parse_fasta(fasta_f), DNA)\n",
        "    >>> s1\n",
        "    <SequenceCollection: n=2; mean +/- std length=6.00 +/- 1.00>\n",
        "    \n",
        "    >>> records = [('seq1', 'ACCGT'), ('seq2', 'AACCGGT')]\n",
        "    >>> s1 = SequenceCollection.from_fasta_records(records, DNA)\n",
        "    >>> s1\n",
        "    <SequenceCollection: n=2; mean +/- std length=6.00 +/- 1.00>\n",
        "\n"
       ]
      }
     ],
     "prompt_number": 3
    },
    {
     "cell_type": "code",
     "collapsed": true,
     "input": [
      "example_16s_fp = \"61_otus.fasta\"\n",
      "aln = Alignment.from_fasta_records(parse_fasta(open(example_16s_fp)), DNASequence)"
     ],
     "language": "python",
     "metadata": {},
     "outputs": [],
     "prompt_number": 4
    },
    {
     "cell_type": "markdown",
     "metadata": {},
     "source": [
      "To see what you can do with an ``Alignment`` object, use the ``dir`` function."
     ]
    },
    {
     "cell_type": "code",
     "collapsed": false,
     "input": [
      "dir(aln)"
     ],
     "language": "python",
     "metadata": {},
     "outputs": [
      {
       "metadata": {},
       "output_type": "pyout",
       "prompt_number": 5,
       "text": [
        "['__class__',\n",
        " '__delattr__',\n",
        " '__dict__',\n",
        " '__doc__',\n",
        " '__eq__',\n",
        " '__format__',\n",
        " '__getattribute__',\n",
        " '__getitem__',\n",
        " '__hash__',\n",
        " '__init__',\n",
        " '__iter__',\n",
        " '__len__',\n",
        " '__module__',\n",
        " '__ne__',\n",
        " '__new__',\n",
        " '__reduce__',\n",
        " '__reduce_ex__',\n",
        " '__repr__',\n",
        " '__setattr__',\n",
        " '__sizeof__',\n",
        " '__str__',\n",
        " '__subclasshook__',\n",
        " '__weakref__',\n",
        " '_data',\n",
        " '_identifier_to_index',\n",
        " '_validate_character_set',\n",
        " '_validate_lengths',\n",
        " 'degap',\n",
        " 'distances',\n",
        " 'distribution_stats',\n",
        " 'from_fasta_records',\n",
        " 'get_seq',\n",
        " 'identifiers',\n",
        " 'int_map',\n",
        " 'is_valid',\n",
        " 'iter_positions',\n",
        " 'iteritems',\n",
        " 'lower',\n",
        " 'majority_consensus',\n",
        " 'omit_gap_positions',\n",
        " 'omit_gap_sequences',\n",
        " 'position_counters',\n",
        " 'position_entropies',\n",
        " 'position_frequencies',\n",
        " 'sequence_count',\n",
        " 'sequence_frequencies',\n",
        " 'sequence_length',\n",
        " 'sequence_lengths',\n",
        " 'subalignment',\n",
        " 'toFasta',\n",
        " 'to_fasta',\n",
        " 'to_phylip',\n",
        " 'upper']"
       ]
      }
     ],
     "prompt_number": 5
    },
    {
     "cell_type": "markdown",
     "metadata": {},
     "source": [
      "One of these useful functionalities is the ``position_entropies`` method, which can provide useful information about the varability at different positions in the alignment."
     ]
    },
    {
     "cell_type": "code",
     "collapsed": false,
     "input": [
      "help(aln.position_entropies)"
     ],
     "language": "python",
     "metadata": {},
     "outputs": [
      {
       "output_type": "stream",
       "stream": "stdout",
       "text": [
        "Help on method position_entropies in module skbio.core.alignment:\n",
        "\n",
        "position_entropies(self, base=None) method of skbio.core.alignment.Alignment instance\n",
        "    Return Shannon entropy of positions in Alignment\n",
        "    \n",
        "    Parameters\n",
        "    ----------\n",
        "    base : float, optional\n",
        "        log base for entropy calculation. If not passed, default will be e\n",
        "        (i.e., natural log will be computed).\n",
        "    \n",
        "    Returns\n",
        "    -------\n",
        "    list\n",
        "        List of floats of Shannon entropy at `Alignment` positions. Shannon\n",
        "        entropy is defined in [1].\n",
        "    \n",
        "    See Also\n",
        "    --------\n",
        "    position_counters\n",
        "    position_frequencies\n",
        "    \n",
        "    References\n",
        "    ----------\n",
        "    [1] A Mathematical Theory of Communication, CE Shannon\n",
        "    The Bell System Technical Journal (1948).\n",
        "    \n",
        "    Examples\n",
        "    --------\n",
        "    >>> from skbio.core.alignment import Alignment\n",
        "    >>> from skbio.core.sequence import DNA\n",
        "    >>> sequences = [DNA('AC--', identifier=\"seq1\"),\n",
        "    ...              DNA('AT-C', identifier=\"seq2\"),\n",
        "    ...              DNA('TT-C', identifier=\"seq3\")]\n",
        "    >>> a1 = Alignment(sequences)\n",
        "    >>> print a1.position_entropies()\n",
        "    [0.63651416829481278, 0.63651416829481278, -0.0, 0.63651416829481278]\n",
        "\n"
       ]
      }
     ],
     "prompt_number": 6
    },
    {
     "cell_type": "code",
     "collapsed": true,
     "input": [
      "position_entropies = aln.position_entropies()"
     ],
     "language": "python",
     "metadata": {},
     "outputs": [],
     "prompt_number": 7
    },
    {
     "cell_type": "code",
     "collapsed": false,
     "input": [
      "print position_entropies[500:550]"
     ],
     "language": "python",
     "metadata": {},
     "outputs": [
      {
       "output_type": "stream",
       "stream": "stdout",
       "text": [
        "[-0.0, 1.4443559324814563, 0.9562373310679898, 0.70883294799436125, -0.0, -0.0, 1.0208880675106418, -0.0, 1.0965754342577216, 0.64968771274762327, -0.0, 1.1732061161852607, -0.0, -0.0, 0.64968771274762327, -0.0, 0.7519304663146793, -0.0, 1.4276786533747516, 1.0097780476720652, 1.4276786533747516, -0.0, -0.0, 1.6849243827207228, 1.2862065262915434, -0.0, 1.0318204422829809, -0.0, -0.0, -0.0, -0.0, -0.0, -0.0, -0.0, -0.0, -0.0, -0.0, -0.0, -0.0, -0.0, -0.0, -0.0, -0.0, -0.0, -0.0, -0.0, -0.0, -0.0, -0.0, -0.0]\n"
       ]
      }
     ],
     "prompt_number": 8
    },
    {
     "cell_type": "markdown",
     "metadata": {},
     "source": [
      "Explore some other functionality of ``Alignment`` objects in the cell below."
     ]
    },
    {
     "cell_type": "code",
     "collapsed": false,
     "input": [],
     "language": "python",
     "metadata": {},
     "outputs": [],
     "prompt_number": 8
    },
    {
     "cell_type": "heading",
     "level": 2,
     "metadata": {},
     "source": [
      "matplotlib: Plotting functionality in Python"
     ]
    },
    {
     "cell_type": "markdown",
     "metadata": {},
     "source": [
      "If we want to investiage the positional entropies through-out the alignment, we could plug these results directly into the other module that we'll look at in this notebook: ``matplotlib``. \n",
      "\n",
      "``matplotlib`` provides plotting functionality for use in python. To import from ``matplotlib`` we import from ``pylab``. Let's import the plot function and generate a figure."
     ]
    },
    {
     "cell_type": "code",
     "collapsed": false,
     "input": [
      "%matplotlib inline"
     ],
     "language": "python",
     "metadata": {},
     "outputs": [],
     "prompt_number": 9
    },
    {
     "cell_type": "code",
     "collapsed": true,
     "input": [
      "from pylab import plot"
     ],
     "language": "python",
     "metadata": {},
     "outputs": [],
     "prompt_number": 10
    },
    {
     "cell_type": "code",
     "collapsed": false,
     "input": [
      "plot(position_entropies)"
     ],
     "language": "python",
     "metadata": {},
     "outputs": [
      {
       "metadata": {},
       "output_type": "pyout",
       "prompt_number": 11,
       "text": [
        "[<matplotlib.lines.Line2D at 0x111ae4390>]"
       ]
      },
      {
       "metadata": {},
       "output_type": "display_data",
       "png": "[encoded data removed]",
       "text": [
        "<matplotlib.figure.Figure at 0x1119acb10>"
       ]
      }
     ],
     "prompt_number": 11
    },
    {
     "cell_type": "markdown",
     "metadata": {},
     "source": [
      "We could make this figure nicer by adding labels and a title."
     ]
    },
    {
     "cell_type": "code",
     "collapsed": false,
     "input": [
      "from pylab import xlabel, ylabel, title\n",
      "xlabel(\"Alignment position\")\n",
      "ylabel(\"Shannon uncertainty\")\n",
      "title(\"Posiitional variability in the bacterial 16S rRNA gene (based on a very small sample of sequences)\")\n",
      "plot(position_entropies)"
     ],
     "language": "python",
     "metadata": {},
     "outputs": [
      {
       "metadata": {},
       "output_type": "pyout",
       "prompt_number": 12,
       "text": [
        "[<matplotlib.lines.Line2D at 0x111d2e0d0>]"
       ]
      },
      {
       "metadata": {},
       "output_type": "display_data",
       "png": "[encoded data removed]",
       "text": [
        "<matplotlib.figure.Figure at 0x111af7710>"
       ]
      }
     ],
     "prompt_number": 12
    },
    {
     "cell_type": "markdown",
     "metadata": {},
     "source": [
      "Another plot of interest in matplotlib is distribution plots. We can look at a few examples of this to investigate the distribution of GC contents across bacterial and archaeal 16S rRNA."
     ]
    },
    {
     "cell_type": "code",
     "collapsed": false,
     "input": [
      "from __future__ import division\n",
      "\n",
      "gc_contents = []\n",
      "\n",
      "for seq in aln:\n",
      "    degapped_seq = seq.degap() \n",
      "    count_G = degapped_seq.count('G')\n",
      "    count_C = degapped_seq.count('C')\n",
      "    sequence_length = len(degapped_seq)\n",
      "    gc_content = (count_G + count_C) / sequence_length\n",
      "    print \"%s: %1.2f\" % (seq.identifier, gc_content)\n",
      "    gc_contents.append(gc_content)"
     ],
     "language": "python",
     "metadata": {},
     "outputs": [
      {
       "output_type": "stream",
       "stream": "stdout",
       "text": [
        "426860: 0.53\n",
        "1928988: 0.51\n",
        "1128285: 0.56\n",
        "3770699: 0.43\n",
        "3825327: 0.53\n",
        "801940: 0.55\n",
        "823009: 0.50\n",
        "4455990: 0.56\n",
        "229854: 0.53\n",
        "2107103: 0.41\n",
        "696036: 0.49\n",
        "3190878: 0.41\n",
        "3761685: 0.57\n",
        "3779572: 0.55\n",
        "4251079: 0.57\n",
        "4336814: 0.49\n",
        "4363260: 0.52\n",
        "4363563: 0.47\n",
        "4391683: 0.55\n",
        "4423155: 0.53\n",
        "4452949: 0.47\n",
        "4459468: 0.56\n"
       ]
      }
     ],
     "prompt_number": 16
    },
    {
     "cell_type": "markdown",
     "metadata": {},
     "source": [
      "We could then use ``matplotlib`` again to visualize the distributions of gc_contents across this wide range of 16S rRNA gene sequences."
     ]
    },
    {
     "cell_type": "code",
     "collapsed": false,
     "input": [
      "from pylab import hist\n",
      "hist(gc_contents)"
     ],
     "language": "python",
     "metadata": {},
     "outputs": [
      {
       "metadata": {},
       "output_type": "pyout",
       "prompt_number": 17,
       "text": [
        "(array([ 2.,  1.,  0.,  1.,  2.,  2.,  2.,  4.,  3.,  5.]),\n",
        " array([ 0.40649762,  0.42315683,  0.43981604,  0.45647525,  0.47313445,\n",
        "        0.48979366,  0.50645287,  0.52311208,  0.53977129,  0.55643049,\n",
        "        0.5730897 ]),\n",
        " <a list of 10 Patch objects>)"
       ]
      },
      {
       "metadata": {},
       "output_type": "display_data",
       "png": "[encoded data removed]",
       "text": [
        "<matplotlib.figure.Figure at 0x1123044d0>"
       ]
      }
     ],
     "prompt_number": 17
    },
    {
     "cell_type": "markdown",
     "metadata": {},
     "source": [
      "``matplotlib`` offers very rich functionality. A great way to figure out how to generate certain types of plots is by browsing their [gallery](http://matplotlib.org/gallery.html) and [examples](http://matplotlib.org/examples/index.html). These show off what ``matplotlib`` can do, and provide the source code to generate each plot. I often start there to get a working plot and then tweak it to display what I want."
     ]
    }
   ],
   "metadata": {}
  }
 ]
}