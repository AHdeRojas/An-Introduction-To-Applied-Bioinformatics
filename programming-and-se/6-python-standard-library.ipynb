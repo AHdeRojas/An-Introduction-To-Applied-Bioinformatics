{
 "metadata": {
  "name": ""
 },
 "nbformat": 3,
 "nbformat_minor": 0,
 "worksheets": [
  {
   "cells": [
    {
     "cell_type": "markdown",
     "metadata": {},
     "source": [
      "**Important**: see discussion on the intentions for these materials in the [overview notebook](http://nbviewer.ipython.org/github/gregcaporaso/An-Introduction-To-Applied-Bioinformatics/blob/master/programming-and-se/0-overview.ipynb) for this chapter."
     ]
    },
    {
     "cell_type": "heading",
     "level": 1,
     "metadata": {},
     "source": [
      "Working with python's built-in modules"
     ]
    },
    {
     "cell_type": "markdown",
     "metadata": {},
     "source": [
      "Next we'll jump to chapter 12 of *Practical Computing for Biologists* and look at some of the built-in functions and objects that come with python. These are referred to as modules or libraries, and collectively are the [Python Standard Library](http://docs.python.org/2/library/index.html). An excellent source for discussion of what's in the Python Standard Library, and how to use it, is Doug Hellman's [Python Module of the Week](http://pymotw.com/2/) blog. \n",
      "\n",
      "To access code in an existing module we use the ``import`` statement. You can browse the built-in modules on the python website in Sections 7 - 40 of [this page](http://docs.python.org/2/library/).\n",
      "\n",
      "First let's take a look at [the ``random`` module](http://docs.python.org/2/library/random.html), which is used for generating pseudo-random numbers. To access the functions in random we can do the following:"
     ]
    },
    {
     "cell_type": "code",
     "collapsed": true,
     "input": [
      "import random"
     ],
     "language": "python",
     "metadata": {},
     "outputs": [],
     "prompt_number": 1
    },
    {
     "cell_type": "markdown",
     "metadata": {},
     "source": [
      "We can now use ``dir`` to see what functions are available."
     ]
    },
    {
     "cell_type": "code",
     "collapsed": false,
     "input": [
      "dir(random)"
     ],
     "language": "python",
     "metadata": {},
     "outputs": [
      {
       "metadata": {},
       "output_type": "pyout",
       "prompt_number": 2,
       "text": [
        "['BPF',\n",
        " 'LOG4',\n",
        " 'NV_MAGICCONST',\n",
        " 'RECIP_BPF',\n",
        " 'Random',\n",
        " 'SG_MAGICCONST',\n",
        " 'SystemRandom',\n",
        " 'TWOPI',\n",
        " 'WichmannHill',\n",
        " '_BuiltinMethodType',\n",
        " '_MethodType',\n",
        " '__all__',\n",
        " '__builtins__',\n",
        " '__doc__',\n",
        " '__file__',\n",
        " '__name__',\n",
        " '__package__',\n",
        " '_acos',\n",
        " '_ceil',\n",
        " '_cos',\n",
        " '_e',\n",
        " '_exp',\n",
        " '_hashlib',\n",
        " '_hexlify',\n",
        " '_inst',\n",
        " '_log',\n",
        " '_pi',\n",
        " '_random',\n",
        " '_sin',\n",
        " '_sqrt',\n",
        " '_test',\n",
        " '_test_generator',\n",
        " '_urandom',\n",
        " '_warn',\n",
        " 'betavariate',\n",
        " 'choice',\n",
        " 'division',\n",
        " 'expovariate',\n",
        " 'gammavariate',\n",
        " 'gauss',\n",
        " 'getrandbits',\n",
        " 'getstate',\n",
        " 'jumpahead',\n",
        " 'lognormvariate',\n",
        " 'normalvariate',\n",
        " 'paretovariate',\n",
        " 'randint',\n",
        " 'random',\n",
        " 'randrange',\n",
        " 'sample',\n",
        " 'seed',\n",
        " 'setstate',\n",
        " 'shuffle',\n",
        " 'triangular',\n",
        " 'uniform',\n",
        " 'vonmisesvariate',\n",
        " 'weibullvariate']"
       ]
      }
     ],
     "prompt_number": 2
    },
    {
     "cell_type": "markdown",
     "metadata": {},
     "source": [
      "The ones I use most here are ``choice``, ``random``, and ``shuffle``. After calling ``import random`` you can access these as ``random.choice``, ``random.random``, and ``random.shuffle``. Remember that you can call ``help`` to find out what a python function does - give that a try."
     ]
    },
    {
     "cell_type": "code",
     "collapsed": false,
     "input": [
      "help(random.shuffle)"
     ],
     "language": "python",
     "metadata": {},
     "outputs": [
      {
       "output_type": "stream",
       "stream": "stdout",
       "text": [
        "Help on method shuffle in module random:\n",
        "\n",
        "shuffle(self, x, random=None, int=<type 'int'>) method of random.Random instance\n",
        "    x, random=random.random -> shuffle list x in place; return None.\n",
        "    \n",
        "    Optional arg random is a 0-argument function returning a random\n",
        "    float in [0.0, 1.0); by default, the standard random.random.\n",
        "\n"
       ]
      }
     ],
     "prompt_number": 3
    },
    {
     "cell_type": "markdown",
     "metadata": {},
     "source": [
      "Let's try it out:"
     ]
    },
    {
     "cell_type": "code",
     "collapsed": false,
     "input": [
      "l = range(100)\n",
      "print l\n",
      "random.shuffle(l)\n",
      "print l"
     ],
     "language": "python",
     "metadata": {},
     "outputs": [
      {
       "output_type": "stream",
       "stream": "stdout",
       "text": [
        "[0, 1, 2, 3, 4, 5, 6, 7, 8, 9, 10, 11, 12, 13, 14, 15, 16, 17, 18, 19, 20, 21, 22, 23, 24, 25, 26, 27, 28, 29, 30, 31, 32, 33, 34, 35, 36, 37, 38, 39, 40, 41, 42, 43, 44, 45, 46, 47, 48, 49, 50, 51, 52, 53, 54, 55, 56, 57, 58, 59, 60, 61, 62, 63, 64, 65, 66, 67, 68, 69, 70, 71, 72, 73, 74, 75, 76, 77, 78, 79, 80, 81, 82, 83, 84, 85, 86, 87, 88, 89, 90, 91, 92, 93, 94, 95, 96, 97, 98, 99]\n",
        "[50, 66, 94, 88, 53, 41, 98, 76, 61, 59, 55, 29, 86, 80, 57, 87, 77, 30, 27, 51, 72, 56, 60, 68, 93, 83, 75, 18, 20, 85, 4, 26, 21, 36, 32, 49, 5, 96, 2, 23, 46, 0, 52, 74, 63, 16, 10, 45, 71, 28, 38, 15, 62, 8, 69, 44, 17, 54, 6, 14, 99, 47, 65, 39, 92, 25, 58, 19, 11, 90, 42, 48, 73, 33, 22, 1, 35, 89, 95, 67, 82, 24, 3, 81, 43, 79, 34, 84, 37, 40, 13, 31, 91, 7, 9, 12, 70, 97, 78, 64]\n"
       ]
      }
     ],
     "prompt_number": 4
    },
    {
     "cell_type": "markdown",
     "metadata": {},
     "source": [
      "Notice that if you call this different times you'll get different results."
     ]
    },
    {
     "cell_type": "code",
     "collapsed": false,
     "input": [
      "random.shuffle(l)\n",
      "print l\n",
      "random.shuffle(l)\n",
      "print l\n",
      "random.shuffle(l)\n",
      "print l\n",
      "random.shuffle(l)\n",
      "print l\n",
      "random.shuffle(l)\n",
      "print l"
     ],
     "language": "python",
     "metadata": {},
     "outputs": [
      {
       "output_type": "stream",
       "stream": "stdout",
       "text": [
        "[13, 37, 14, 33, 55, 31, 84, 59, 8, 17, 74, 75, 52, 72, 61, 56, 51, 44, 57, 50, 80, 87, 90, 81, 25, 99, 4, 78, 15, 66, 10, 54, 69, 86, 35, 28, 71, 63, 53, 97, 88, 38, 41, 32, 91, 67, 60, 45, 19, 96, 70, 76, 49, 93, 7, 64, 9, 2, 62, 34, 12, 18, 40, 24, 6, 85, 36, 83, 20, 48, 5, 0, 42, 1, 27, 16, 77, 82, 21, 3, 95, 98, 29, 65, 68, 58, 89, 73, 26, 79, 22, 94, 92, 11, 23, 46, 47, 39, 30, 43]\n",
        "[32, 74, 54, 91, 89, 98, 71, 44, 92, 57, 77, 20, 55, 39, 19, 18, 21, 63, 90, 37, 45, 12, 33, 80, 93, 4, 95, 72, 29, 69, 53, 94, 7, 9, 34, 62, 49, 96, 88, 24, 81, 30, 1, 65, 83, 31, 66, 75, 70, 56, 87, 41, 67, 36, 3, 86, 76, 0, 28, 23, 50, 11, 68, 2, 10, 17, 40, 42, 59, 5, 14, 35, 52, 64, 8, 47, 15, 43, 51, 6, 79, 73, 78, 46, 97, 25, 38, 58, 13, 27, 22, 60, 82, 85, 84, 61, 16, 99, 48, 26]\n",
        "[46, 48, 88, 40, 58, 56, 87, 69, 43, 16, 15, 38, 17, 98, 31, 82, 77, 25, 57, 76, 27, 2, 49, 75, 65, 24, 80, 67, 73, 90, 3, 81, 18, 22, 19, 36, 20, 72, 86, 50, 84, 41, 78, 89, 11, 29, 1, 0, 37, 54, 63, 34, 7, 59, 91, 10, 51, 14, 55, 94, 53, 6, 66, 62, 79, 99, 52, 9, 95, 64, 35, 85, 12, 93, 74, 71, 44, 97, 92, 96, 4, 21, 26, 8, 23, 70, 32, 45, 39, 61, 30, 47, 33, 13, 60, 28, 68, 83, 42, 5]\n",
        "[16, 99, 3, 44, 38, 14, 31, 25, 67, 5, 71, 46, 48, 90, 11, 69, 42, 88, 15, 89, 68, 84, 39, 34, 47, 78, 13, 20, 23, 27, 79, 62, 10, 52, 33, 55, 35, 8, 28, 12, 63, 53, 40, 61, 4, 58, 17, 81, 83, 2, 41, 57, 51, 43, 19, 77, 72, 87, 80, 26, 45, 70, 37, 82, 50, 59, 74, 49, 56, 85, 96, 76, 6, 32, 60, 36, 24, 93, 21, 7, 97, 54, 1, 66, 86, 75, 94, 0, 22, 91, 98, 73, 64, 18, 9, 29, 95, 92, 30, 65]\n",
        "[23, 18, 93, 57, 38, 15, 64, 29, 48, 14, 25, 76, 58, 50, 35, 33, 70, 72, 59, 74, 2, 96, 53, 88, 80, 86, 24, 40, 45, 11, 30, 82, 3, 63, 19, 52, 51, 16, 47, 95, 31, 71, 39, 54, 34, 90, 42, 84, 10, 6, 60, 12, 98, 49, 43, 22, 5, 87, 61, 7, 28, 55, 83, 94, 81, 21, 77, 13, 41, 17, 1, 9, 37, 20, 97, 69, 0, 78, 67, 44, 32, 8, 65, 66, 56, 85, 91, 99, 73, 36, 62, 79, 46, 68, 27, 26, 75, 89, 92, 4]\n"
       ]
      }
     ],
     "prompt_number": 5
    },
    {
     "cell_type": "markdown",
     "metadata": {},
     "source": [
      "``random.choice`` is another extremely useful function. This returns an element at random from a list, so is useful for subsampling with replacement."
     ]
    },
    {
     "cell_type": "code",
     "collapsed": false,
     "input": [
      "print random.choice(l)\n",
      "print random.choice(l)\n",
      "print random.choice(l)\n",
      "print random.choice(l)"
     ],
     "language": "python",
     "metadata": {},
     "outputs": [
      {
       "output_type": "stream",
       "stream": "stdout",
       "text": [
        "21\n",
        "71\n",
        "63\n",
        "28\n"
       ]
      }
     ],
     "prompt_number": 6
    },
    {
     "cell_type": "markdown",
     "metadata": {},
     "source": [
      "In general, you don't want to import all of the functions in a module, but rather only the ones you want to use. This is important because import too many modules can make your program bulkier as references will need to be stored for all of the functions in memory. Instead, you should use ``from`` with ``import`` to only import specific functions. For example:"
     ]
    },
    {
     "cell_type": "code",
     "collapsed": true,
     "input": [
      "from random import choice"
     ],
     "language": "python",
     "metadata": {},
     "outputs": [],
     "prompt_number": 7
    },
    {
     "cell_type": "markdown",
     "metadata": {},
     "source": [
      "Or, to import several at once:"
     ]
    },
    {
     "cell_type": "code",
     "collapsed": true,
     "input": [
      "from random import (choice, shuffle)"
     ],
     "language": "python",
     "metadata": {},
     "outputs": [],
     "prompt_number": 8
    },
    {
     "cell_type": "markdown",
     "metadata": {},
     "source": [
      "When you import in this way, you access these functions only by their name, not prefixed with ``random.``"
     ]
    },
    {
     "cell_type": "code",
     "collapsed": false,
     "input": [
      "l = range(100)\n",
      "print choice(l)\n",
      "print choice(l)"
     ],
     "language": "python",
     "metadata": {},
     "outputs": [
      {
       "output_type": "stream",
       "stream": "stdout",
       "text": [
        "55\n",
        "71\n"
       ]
      }
     ],
     "prompt_number": 9
    },
    {
     "cell_type": "code",
     "collapsed": false,
     "input": [
      "shuffle(l)\n",
      "print l\n",
      "shuffle(l)\n",
      "print l"
     ],
     "language": "python",
     "metadata": {},
     "outputs": [
      {
       "output_type": "stream",
       "stream": "stdout",
       "text": [
        "[90, 88, 30, 20, 81, 87, 98, 44, 92, 19, 57, 27, 75, 59, 76, 26, 5, 99, 36, 78, 12, 13, 35, 1, 39, 64, 65, 31, 46, 62, 22, 9, 58, 8, 24, 23, 28, 2, 61, 56, 84, 29, 68, 18, 85, 49, 97, 91, 15, 37, 83, 70, 32, 6, 55, 40, 73, 16, 17, 34, 25, 53, 79, 47, 21, 54, 89, 52, 94, 80, 66, 48, 45, 3, 51, 10, 14, 72, 42, 38, 4, 43, 41, 7, 93, 95, 0, 33, 50, 96, 71, 69, 60, 82, 11, 63, 67, 86, 74, 77]\n",
        "[22, 52, 51, 16, 9, 75, 84, 91, 64, 33, 96, 83, 63, 78, 79, 57, 50, 38, 11, 6, 28, 36, 14, 97, 32, 3, 44, 67, 54, 66, 24, 81, 88, 90, 65, 37, 17, 61, 13, 68, 72, 40, 43, 20, 94, 31, 60, 53, 82, 55, 0, 56, 48, 47, 46, 5, 77, 93, 12, 45, 26, 21, 7, 10, 92, 8, 70, 62, 95, 2, 4, 18, 86, 35, 89, 87, 49, 30, 69, 58, 39, 42, 80, 99, 85, 71, 34, 27, 1, 74, 59, 29, 25, 73, 98, 15, 76, 23, 19, 41]\n"
       ]
      }
     ],
     "prompt_number": 10
    },
    {
     "cell_type": "markdown",
     "metadata": {},
     "source": [
      "Next let's look at some other modules. ``time`` is very useful for timing how long some code takes to execute. The function of interest for that is called ``time`` (so the function has the same name as the module."
     ]
    },
    {
     "cell_type": "code",
     "collapsed": false,
     "input": [
      "from time import time\n",
      "help(time)"
     ],
     "language": "python",
     "metadata": {},
     "outputs": [
      {
       "output_type": "stream",
       "stream": "stdout",
       "text": [
        "Help on built-in function time in module time:\n",
        "\n",
        "time(...)\n",
        "    time() -> floating point number\n",
        "    \n",
        "    Return the current time in seconds since the Epoch.\n",
        "    Fractions of a second may be present if the system clock provides them.\n",
        "\n"
       ]
      }
     ],
     "prompt_number": 11
    },
    {
     "cell_type": "markdown",
     "metadata": {},
     "source": [
      "This function returns the number of seconds since the [Epoch](http://en.wikipedia.org/wiki/Epoch_(reference_date)) which most often refers to January 1, 1970."
     ]
    },
    {
     "cell_type": "code",
     "collapsed": false,
     "input": [
      "time()"
     ],
     "language": "python",
     "metadata": {},
     "outputs": [
      {
       "metadata": {},
       "output_type": "pyout",
       "prompt_number": 12,
       "text": [
        "1393964032.623004"
       ]
      }
     ],
     "prompt_number": 12
    },
    {
     "cell_type": "code",
     "collapsed": false,
     "input": [
      "time()"
     ],
     "language": "python",
     "metadata": {},
     "outputs": [
      {
       "metadata": {},
       "output_type": "pyout",
       "prompt_number": 13,
       "text": [
        "1393964032.642341"
       ]
      }
     ],
     "prompt_number": 13
    },
    {
     "cell_type": "code",
     "collapsed": false,
     "input": [
      "time()"
     ],
     "language": "python",
     "metadata": {},
     "outputs": [
      {
       "metadata": {},
       "output_type": "pyout",
       "prompt_number": 14,
       "text": [
        "1393964032.66134"
       ]
      }
     ],
     "prompt_number": 14
    },
    {
     "cell_type": "markdown",
     "metadata": {},
     "source": [
      "So how can you use this to see how long some piece of code takes to run? First, let's grab another function from ``time`` called ``sleep``. Figure out what ``sleep`` does."
     ]
    },
    {
     "cell_type": "code",
     "collapsed": false,
     "input": [
      "from time import sleep\n",
      "help(sleep)"
     ],
     "language": "python",
     "metadata": {},
     "outputs": [
      {
       "output_type": "stream",
       "stream": "stdout",
       "text": [
        "Help on built-in function sleep in module time:\n",
        "\n",
        "sleep(...)\n",
        "    sleep(seconds)\n",
        "    \n",
        "    Delay execution for a given number of seconds.  The argument may be\n",
        "    a floating point number for subsecond precision.\n",
        "\n"
       ]
      }
     ],
     "prompt_number": 15
    },
    {
     "cell_type": "code",
     "collapsed": false,
     "input": [
      "start_time = time()\n",
      "sleep(5)\n",
      "end_time = time()\n",
      "run_time = end_time - start_time\n",
      "print \"The code took %1.3f seconds to run.\" % run_time"
     ],
     "language": "python",
     "metadata": {},
     "outputs": [
      {
       "output_type": "stream",
       "stream": "stdout",
       "text": [
        "The code took 5.001 seconds to run.\n"
       ]
      }
     ],
     "prompt_number": 16
    }
   ],
   "metadata": {}
  }
 ]
}