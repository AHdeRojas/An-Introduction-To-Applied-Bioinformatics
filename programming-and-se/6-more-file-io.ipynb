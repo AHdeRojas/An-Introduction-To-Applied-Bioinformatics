{
 "metadata": {
  "name": "6-more-file-io"
 },
 "nbformat": 3,
 "nbformat_minor": 0,
 "worksheets": [
  {
   "cells": [
    {
     "cell_type": "markdown",
     "metadata": {},
     "source": [
      "**Important**: see discussion on the intentions for these materials in the [overview notebook](http://nbviewer.ipython.org/github/gregcaporaso/An-Introduction-To-Applied-Bioinformatics/blob/master/programming-and-se/0-overview.ipynb) for this chapter."
     ]
    },
    {
     "cell_type": "markdown",
     "metadata": {},
     "source": [
      "**Writing files**\n",
      "\n",
      "We previously looked at how to read files using python, so now let's look briefly at how to write files. Again we use ``open``, but use either mode ``w`` (for write) or ``a`` (for append)."
     ]
    },
    {
     "cell_type": "code",
     "collapsed": true,
     "input": [
      "f = open('example.txt','w')"
     ],
     "language": "python",
     "metadata": {},
     "outputs": [],
     "prompt_number": 1
    },
    {
     "cell_type": "code",
     "collapsed": true,
     "input": [
      "f.write(\"Hello world!\")\n",
      "f.write(\"\\n\")\n",
      "f.write(\"Goodbye!\")\n",
      "f.write(\"\\n\")"
     ],
     "language": "python",
     "metadata": {},
     "outputs": [],
     "prompt_number": 2
    },
    {
     "cell_type": "code",
     "collapsed": true,
     "input": [
      "f.close()"
     ],
     "language": "python",
     "metadata": {},
     "outputs": [],
     "prompt_number": 3
    },
    {
     "cell_type": "markdown",
     "metadata": {},
     "source": [
      "Here I wrote a few lines to file. We can view those from within the IPython Notebook using the ``bash`` command ``cat``. Remember that to run a ``bash`` command in the Notebook you preface it with an ``!``."
     ]
    },
    {
     "cell_type": "code",
     "collapsed": false,
     "input": [
      "!cat example.txt"
     ],
     "language": "python",
     "metadata": {},
     "outputs": [
      {
       "output_type": "stream",
       "stream": "stdout",
       "text": [
        "Hello world!\r\n",
        "Goodbye!\r\n"
       ]
      }
     ],
     "prompt_number": 4
    },
    {
     "cell_type": "code",
     "collapsed": true,
     "input": [
      "f = open('example.txt','w')\n",
      "f.write(\"This is a test!\\n\")\n",
      "f.close()"
     ],
     "language": "python",
     "metadata": {},
     "outputs": [],
     "prompt_number": 5
    },
    {
     "cell_type": "code",
     "collapsed": false,
     "input": [
      "!cat example.txt"
     ],
     "language": "python",
     "metadata": {},
     "outputs": [
      {
       "output_type": "stream",
       "stream": "stdout",
       "text": [
        "This is a test!\r\n"
       ]
      }
     ],
     "prompt_number": 6
    },
    {
     "cell_type": "markdown",
     "metadata": {},
     "source": [
      "Notice that we overwrote what was previously in that file. You need to be really careful with this - once you call ``open`` in ``w`` mode, any contents of an existing file will be immediately overwritten.\n",
      "\n",
      "To append to a file, we can open it in ``a`` mode."
     ]
    },
    {
     "cell_type": "code",
     "collapsed": true,
     "input": [
      "f = open('example.txt','a')\n",
      "f.write(\"This is only a test!\\n\")\n",
      "f.close()"
     ],
     "language": "python",
     "metadata": {},
     "outputs": [],
     "prompt_number": 7
    },
    {
     "cell_type": "code",
     "collapsed": false,
     "input": [
      "!cat example.txt"
     ],
     "language": "python",
     "metadata": {},
     "outputs": [
      {
       "output_type": "stream",
       "stream": "stdout",
       "text": [
        "This is a test!\r\n",
        "This is only a test!\r\n"
       ]
      }
     ],
     "prompt_number": 8
    },
    {
     "cell_type": "markdown",
     "metadata": {},
     "source": [
      "Notice that we now started writing at the end of the existing file. This distinction between writing to and appending to files should be familiar from when we looked at the ``>`` and ``>>`` operators in ``bash``. If you don't remember how those worked, go back and review them.\n",
      "\n",
      "We can of course now open this file in python and read on a line-by-line basis. Here's an example of how to do that, adding some annotation."
     ]
    },
    {
     "cell_type": "code",
     "collapsed": false,
     "input": [
      "f = open('example.txt','U')\n",
      "line_n = 1\n",
      "for line in f:\n",
      "    line = line.strip()\n",
      "    print \"Line number %d: %s\" % (line_n, line)\n",
      "    line_n += 1\n",
      "f.close()"
     ],
     "language": "python",
     "metadata": {},
     "outputs": [
      {
       "output_type": "stream",
       "stream": "stdout",
       "text": [
        "Line number 1: This is a test!\n",
        "Line number 2: This is only a test!\n"
       ]
      }
     ],
     "prompt_number": 9
    },
    {
     "cell_type": "markdown",
     "metadata": {},
     "source": [
      "Notice that I'm using some different syntax for building strings here. This can be more convenient than concatenating strings with ``+`` when your strings start getting more complex, but this is personal preference. You can find some discussion and exercises on the *Learn Python The Hard Way* site [here](http://learnpythonthehardway.org/book/ex5.html) and [here](http://learnpythonthehardway.org/book/ex6.html). "
     ]
    },
    {
     "cell_type": "markdown",
     "metadata": {},
     "source": [
      "**Working with python's built-in modules**"
     ]
    },
    {
     "cell_type": "markdown",
     "metadata": {},
     "source": [
      "Next we'll jump to chapter 12 of *Practical Computing for Biologists* and look at some of the built-in functions and objects that come with python. These are referred to as modules or libraries.\n",
      "\n",
      "To access code in an existing module we use the ``import`` statement. You can browse the built-in modules on the python website in Sections 7 - 40 of [this page](http://docs.python.org/2/library/).\n",
      "\n",
      "First let's take a look at [the ``random`` module](http://docs.python.org/2/library/random.html), which is used for generating pseudo-random numbers. To access the functions in random we can do the following:"
     ]
    },
    {
     "cell_type": "code",
     "collapsed": true,
     "input": [
      "import random"
     ],
     "language": "python",
     "metadata": {},
     "outputs": [],
     "prompt_number": 10
    },
    {
     "cell_type": "markdown",
     "metadata": {},
     "source": [
      "We can now use ``dir`` to see what functions are available."
     ]
    },
    {
     "cell_type": "code",
     "collapsed": false,
     "input": [
      "dir(random)"
     ],
     "language": "python",
     "metadata": {},
     "outputs": [
      {
       "output_type": "pyout",
       "prompt_number": 11,
       "text": [
        "['BPF',\n",
        " 'LOG4',\n",
        " 'NV_MAGICCONST',\n",
        " 'RECIP_BPF',\n",
        " 'Random',\n",
        " 'SG_MAGICCONST',\n",
        " 'SystemRandom',\n",
        " 'TWOPI',\n",
        " 'WichmannHill',\n",
        " '_BuiltinMethodType',\n",
        " '_MethodType',\n",
        " '__all__',\n",
        " '__builtins__',\n",
        " '__doc__',\n",
        " '__file__',\n",
        " '__name__',\n",
        " '__package__',\n",
        " '_acos',\n",
        " '_ceil',\n",
        " '_cos',\n",
        " '_e',\n",
        " '_exp',\n",
        " '_hashlib',\n",
        " '_hexlify',\n",
        " '_inst',\n",
        " '_log',\n",
        " '_pi',\n",
        " '_random',\n",
        " '_sin',\n",
        " '_sqrt',\n",
        " '_test',\n",
        " '_test_generator',\n",
        " '_urandom',\n",
        " '_warn',\n",
        " 'betavariate',\n",
        " 'choice',\n",
        " 'division',\n",
        " 'expovariate',\n",
        " 'gammavariate',\n",
        " 'gauss',\n",
        " 'getrandbits',\n",
        " 'getstate',\n",
        " 'jumpahead',\n",
        " 'lognormvariate',\n",
        " 'normalvariate',\n",
        " 'paretovariate',\n",
        " 'randint',\n",
        " 'random',\n",
        " 'randrange',\n",
        " 'sample',\n",
        " 'seed',\n",
        " 'setstate',\n",
        " 'shuffle',\n",
        " 'triangular',\n",
        " 'uniform',\n",
        " 'vonmisesvariate',\n",
        " 'weibullvariate']"
       ]
      }
     ],
     "prompt_number": 11
    },
    {
     "cell_type": "markdown",
     "metadata": {},
     "source": [
      "The ones I use most here are ``choice``, ``random``, and ``shuffle``. After calling ``import random`` you can access these as ``random.choice``, ``random.random``, and ``random.shuffle``. Remember that you can call ``help`` to find out what a python function does - give that a try."
     ]
    },
    {
     "cell_type": "code",
     "collapsed": false,
     "input": [
      "help(random.shuffle)"
     ],
     "language": "python",
     "metadata": {},
     "outputs": [
      {
       "output_type": "stream",
       "stream": "stdout",
       "text": [
        "Help on method shuffle in module random:\n",
        "\n",
        "shuffle(self, x, random=None, int=<type 'int'>) method of random.Random instance\n",
        "    x, random=random.random -> shuffle list x in place; return None.\n",
        "    \n",
        "    Optional arg random is a 0-argument function returning a random\n",
        "    float in [0.0, 1.0); by default, the standard random.random.\n",
        "\n"
       ]
      }
     ],
     "prompt_number": 12
    },
    {
     "cell_type": "markdown",
     "metadata": {},
     "source": [
      "Let's try it out:"
     ]
    },
    {
     "cell_type": "code",
     "collapsed": false,
     "input": [
      "l = range(100)\n",
      "print l\n",
      "random.shuffle(l)\n",
      "print l"
     ],
     "language": "python",
     "metadata": {},
     "outputs": [
      {
       "output_type": "stream",
       "stream": "stdout",
       "text": [
        "[0, 1, 2, 3, 4, 5, 6, 7, 8, 9, 10, 11, 12, 13, 14, 15, 16, 17, 18, 19, 20, 21, 22, 23, 24, 25, 26, 27, 28, 29, 30, 31, 32, 33, 34, 35, 36, 37, 38, 39, 40, 41, 42, 43, 44, 45, 46, 47, 48, 49, 50, 51, 52, 53, 54, 55, 56, 57, 58, 59, 60, 61, 62, 63, 64, 65, 66, 67, 68, 69, 70, 71, 72, 73, 74, 75, 76, 77, 78, 79, 80, 81, 82, 83, 84, 85, 86, 87, 88, 89, 90, 91, 92, 93, 94, 95, 96, 97, 98, 99]\n",
        "[76, 43, 37, 54, 28, 82, 49, 40, 20, 93, 87, 62, 69, 7, 79, 74, 29, 59, 12, 92, 50, 75, 98, 80, 9, 89, 95, 70, 0, 46, 94, 51, 1, 41, 27, 86, 31, 65, 66, 5, 91, 60, 44, 99, 68, 52, 10, 2, 30, 64, 18, 36, 38, 97, 53, 25, 96, 16, 21, 85, 45, 55, 58, 15, 57, 73, 81, 14, 22, 6, 56, 32, 3, 47, 63, 19, 67, 88, 13, 35, 72, 42, 84, 8, 39, 71, 61, 24, 17, 78, 83, 4, 90, 48, 77, 34, 26, 23, 11, 33]\n"
       ]
      }
     ],
     "prompt_number": 13
    },
    {
     "cell_type": "markdown",
     "metadata": {},
     "source": [
      "Notice that if you call this different times you'll get different results."
     ]
    },
    {
     "cell_type": "code",
     "collapsed": false,
     "input": [
      "random.shuffle(l)\n",
      "print l\n",
      "random.shuffle(l)\n",
      "print l\n",
      "random.shuffle(l)\n",
      "print l\n",
      "random.shuffle(l)\n",
      "print l\n",
      "random.shuffle(l)\n",
      "print l"
     ],
     "language": "python",
     "metadata": {},
     "outputs": [
      {
       "output_type": "stream",
       "stream": "stdout",
       "text": [
        "[3, 90, 20, 16, 94, 8, 21, 80, 89, 82, 42, 18, 31, 52, 15, 46, 59, 50, 78, 2, 47, 76, 13, 66, 84, 86, 25, 28, 53, 27, 69, 77, 83, 85, 93, 11, 14, 19, 96, 33, 61, 95, 54, 45, 10, 56, 5, 65, 62, 57, 36, 32, 23, 49, 64, 58, 39, 68, 4, 87, 92, 38, 30, 0, 72, 37, 35, 73, 12, 40, 99, 79, 51, 9, 81, 24, 91, 63, 55, 98, 41, 70, 60, 26, 71, 74, 34, 88, 7, 17, 75, 6, 97, 67, 48, 43, 22, 44, 29, 1]\n",
        "[20, 2, 88, 63, 53, 34, 95, 8, 62, 92, 54, 23, 22, 51, 84, 35, 55, 71, 4, 74, 12, 43, 31, 15, 7, 19, 29, 69, 99, 77, 40, 33, 6, 86, 79, 36, 16, 57, 52, 96, 66, 17, 0, 98, 30, 73, 87, 48, 70, 93, 32, 68, 41, 80, 59, 65, 94, 28, 76, 64, 81, 18, 9, 78, 89, 1, 60, 58, 61, 3, 27, 44, 26, 39, 37, 75, 83, 46, 25, 11, 38, 67, 56, 90, 50, 97, 5, 82, 21, 91, 49, 10, 85, 47, 24, 14, 42, 13, 72, 45]\n",
        "[62, 36, 79, 73, 61, 25, 5, 98, 82, 10, 37, 74, 8, 6, 13, 81, 85, 67, 49, 18, 96, 9, 40, 28, 4, 19, 80, 23, 63, 68, 34, 60, 77, 11, 53, 24, 55, 17, 95, 32, 54, 89, 87, 59, 7, 35, 15, 44, 90, 30, 26, 52, 78, 75, 50, 86, 16, 66, 31, 21, 51, 91, 88, 92, 33, 3, 42, 0, 39, 45, 20, 76, 12, 14, 47, 99, 70, 2, 94, 22, 84, 65, 71, 64, 57, 93, 83, 46, 43, 29, 48, 97, 27, 58, 72, 38, 1, 41, 69, 56]\n",
        "[89, 9, 28, 5, 17, 52, 20, 65, 3, 96, 86, 19, 44, 62, 76, 13, 24, 75, 16, 61, 93, 91, 79, 33, 11, 55, 59, 81, 88, 2, 38, 53, 48, 40, 83, 15, 54, 23, 35, 46, 39, 6, 45, 29, 7, 49, 70, 78, 74, 68, 10, 4, 25, 90, 99, 73, 47, 66, 63, 34, 50, 80, 18, 92, 1, 58, 82, 97, 22, 36, 41, 87, 31, 27, 57, 64, 56, 14, 30, 94, 69, 60, 71, 43, 77, 85, 0, 12, 95, 21, 32, 67, 42, 8, 98, 37, 72, 84, 26, 51]\n",
        "[13, 80, 4, 42, 30, 55, 53, 68, 63, 57, 3, 79, 32, 59, 6, 69, 73, 17, 23, 22, 70, 96, 85, 90, 58, 48, 46, 50, 74, 60, 66, 82, 24, 89, 12, 65, 10, 29, 15, 27, 18, 92, 47, 37, 91, 77, 87, 26, 44, 38, 61, 16, 81, 84, 20, 14, 54, 52, 33, 35, 99, 97, 28, 34, 78, 0, 9, 39, 94, 31, 2, 88, 51, 56, 67, 25, 62, 41, 8, 72, 71, 98, 95, 36, 1, 5, 75, 45, 49, 83, 40, 43, 19, 76, 21, 64, 93, 11, 7, 86]\n"
       ]
      }
     ],
     "prompt_number": 14
    },
    {
     "cell_type": "markdown",
     "metadata": {},
     "source": [
      "``random.choice`` is another extremely useful function. This returns an element at random from a list, so is useful for subsampling with replacement."
     ]
    },
    {
     "cell_type": "code",
     "collapsed": false,
     "input": [
      "print random.choice(l)\n",
      "print random.choice(l)\n",
      "print random.choice(l)\n",
      "print random.choice(l)"
     ],
     "language": "python",
     "metadata": {},
     "outputs": [
      {
       "output_type": "stream",
       "stream": "stdout",
       "text": [
        "63\n",
        "20\n",
        "53\n",
        "17\n"
       ]
      }
     ],
     "prompt_number": 15
    },
    {
     "cell_type": "markdown",
     "metadata": {},
     "source": [
      "In general, you don't want to import all of the functions in a module, but rather only the ones you want to use. This is important because import too many modules can make your program bulkier as references will need to be stored for all of the functions in memory. Instead, you should use ``from`` with ``import`` to only import specific functions. For example:"
     ]
    },
    {
     "cell_type": "code",
     "collapsed": true,
     "input": [
      "from random import choice"
     ],
     "language": "python",
     "metadata": {},
     "outputs": [],
     "prompt_number": 16
    },
    {
     "cell_type": "markdown",
     "metadata": {},
     "source": [
      "Or, to import several at once:"
     ]
    },
    {
     "cell_type": "code",
     "collapsed": true,
     "input": [
      "from random import (choice, shuffle)"
     ],
     "language": "python",
     "metadata": {},
     "outputs": [],
     "prompt_number": 17
    },
    {
     "cell_type": "markdown",
     "metadata": {},
     "source": [
      "When you import in this way, you access these functions only by their name, not prefixed with ``random.``"
     ]
    },
    {
     "cell_type": "code",
     "collapsed": false,
     "input": [
      "l = range(100)\n",
      "print choice(l)\n",
      "print choice(l)"
     ],
     "language": "python",
     "metadata": {},
     "outputs": [
      {
       "output_type": "stream",
       "stream": "stdout",
       "text": [
        "21\n",
        "64\n"
       ]
      }
     ],
     "prompt_number": 18
    },
    {
     "cell_type": "code",
     "collapsed": false,
     "input": [
      "shuffle(l)\n",
      "print l\n",
      "shuffle(l)\n",
      "print l"
     ],
     "language": "python",
     "metadata": {},
     "outputs": [
      {
       "output_type": "stream",
       "stream": "stdout",
       "text": [
        "[9, 88, 44, 68, 1, 35, 96, 85, 15, 74, 0, 30, 42, 51, 12, 25, 95, 81, 63, 13, 28, 2, 37, 40, 50, 3, 84, 4, 73, 19, 29, 92, 75, 99, 43, 93, 64, 26, 78, 72, 7, 32, 76, 90, 45, 24, 55, 36, 56, 83, 79, 57, 94, 86, 6, 61, 87, 46, 71, 82, 98, 49, 89, 39, 18, 16, 17, 60, 91, 8, 69, 62, 70, 21, 53, 54, 77, 33, 34, 11, 48, 80, 31, 58, 65, 66, 10, 47, 41, 14, 27, 52, 97, 23, 22, 5, 20, 38, 59, 67]\n",
        "[46, 70, 60, 36, 59, 81, 99, 83, 39, 28, 0, 35, 21, 12, 26, 77, 11, 10, 6, 31, 95, 97, 89, 92, 1, 18, 56, 20, 38, 93, 15, 74, 32, 76, 4, 96, 65, 84, 52, 13, 51, 53, 37, 9, 71, 40, 87, 79, 54, 62, 2, 78, 67, 55, 90, 48, 24, 44, 50, 14, 34, 22, 64, 69, 68, 8, 73, 7, 49, 47, 88, 43, 57, 19, 85, 42, 94, 41, 61, 98, 17, 80, 5, 16, 75, 86, 45, 23, 63, 30, 66, 3, 58, 29, 91, 33, 82, 27, 25, 72]\n"
       ]
      }
     ],
     "prompt_number": 19
    },
    {
     "cell_type": "markdown",
     "metadata": {},
     "source": [
      "Next let's look at some other modules. ``time`` is very useful for timing how long some code takes to execute. The function of interest for that is called ``time`` (so the function has the same name as the module."
     ]
    },
    {
     "cell_type": "code",
     "collapsed": false,
     "input": [
      "from time import time\n",
      "help(time)"
     ],
     "language": "python",
     "metadata": {},
     "outputs": [
      {
       "output_type": "stream",
       "stream": "stdout",
       "text": [
        "Help on built-in function time in module time:\n",
        "\n",
        "time(...)\n",
        "    time() -> floating point number\n",
        "    \n",
        "    Return the current time in seconds since the Epoch.\n",
        "    Fractions of a second may be present if the system clock provides them.\n",
        "\n"
       ]
      }
     ],
     "prompt_number": 20
    },
    {
     "cell_type": "markdown",
     "metadata": {},
     "source": [
      "This function returns the number of seconds since the [Epoch](http://en.wikipedia.org/wiki/Epoch_(reference_date)) which most often refers to January 1, 1970."
     ]
    },
    {
     "cell_type": "code",
     "collapsed": false,
     "input": [
      "time()"
     ],
     "language": "python",
     "metadata": {},
     "outputs": [
      {
       "output_type": "pyout",
       "prompt_number": 21,
       "text": [
        "1392156292.190883"
       ]
      }
     ],
     "prompt_number": 21
    },
    {
     "cell_type": "code",
     "collapsed": false,
     "input": [
      "time()"
     ],
     "language": "python",
     "metadata": {},
     "outputs": [
      {
       "output_type": "pyout",
       "prompt_number": 22,
       "text": [
        "1392156292.195759"
       ]
      }
     ],
     "prompt_number": 22
    },
    {
     "cell_type": "code",
     "collapsed": false,
     "input": [
      "time()"
     ],
     "language": "python",
     "metadata": {},
     "outputs": [
      {
       "output_type": "pyout",
       "prompt_number": 23,
       "text": [
        "1392156292.201058"
       ]
      }
     ],
     "prompt_number": 23
    },
    {
     "cell_type": "markdown",
     "metadata": {},
     "source": [
      "So how can you use this to see how long some piece of code takes to run? First, let's grab another function from ``time`` called ``sleep``. Figure out what ``sleep`` does."
     ]
    },
    {
     "cell_type": "code",
     "collapsed": false,
     "input": [
      "from time import sleep\n",
      "help(sleep)"
     ],
     "language": "python",
     "metadata": {},
     "outputs": [
      {
       "output_type": "stream",
       "stream": "stdout",
       "text": [
        "Help on built-in function sleep in module time:\n",
        "\n",
        "sleep(...)\n",
        "    sleep(seconds)\n",
        "    \n",
        "    Delay execution for a given number of seconds.  The argument may be\n",
        "    a floating point number for subsecond precision.\n",
        "\n"
       ]
      }
     ],
     "prompt_number": 24
    },
    {
     "cell_type": "code",
     "collapsed": false,
     "input": [
      "start_time = time()\n",
      "sleep(5)\n",
      "end_time = time()\n",
      "run_time = end_time - start_time\n",
      "print \"The code took %1.3f seconds to run.\" % run_time"
     ],
     "language": "python",
     "metadata": {},
     "outputs": [
      {
       "output_type": "stream",
       "stream": "stdout",
       "text": [
        "The code took 5.001 seconds to run.\n"
       ]
      }
     ],
     "prompt_number": 25
    }
   ],
   "metadata": {}
  }
 ]
}