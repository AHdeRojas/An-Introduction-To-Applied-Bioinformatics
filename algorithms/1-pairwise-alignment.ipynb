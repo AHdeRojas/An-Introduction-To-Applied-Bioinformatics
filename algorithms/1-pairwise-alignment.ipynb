{
 "metadata": {
  "name": "",
  "signature": "sha256:0eac3ae44946e756815899fd69df9a18a3969dd2e94ae13eb8e56eec0d589304"
 },
 "nbformat": 3,
 "nbformat_minor": 0,
 "worksheets": [
  {
   "cells": [
    {
     "cell_type": "heading",
     "level": 1,
     "metadata": {},
     "source": [
      "Introduction to pairwise sequence alignment"
     ]
    },
    {
     "cell_type": "markdown",
     "metadata": {},
     "source": [
      "One of the most fundamental problems in bioinformatics is determining how \"similar\" a pair of sequences are. There are many applications for this, including determing the function of an unknown gene sequence, determining the source organism of a sequence, developing hypotheses about the relatedness of organisms, or grouping sequences from closely related organisms. On the surface, this seems like a pretty straight-forward problem - not one that would have been at the center of decades of research and the subject of [one of the most cited papers](http://scholar.google.com/citations?view_op=view_citation&hl=en&user=VRccPlQAAAAJ&citation_for_view=VRccPlQAAAAJ:u-x6o8ySG0sC) in modern biology.\n",
      "\n",
      "For example, imagine you have three sequences - call them ``r1`` and (for *reference*) and ``q1`` and ``q2`` (for *query*). Can't you just count the number of differences across their length (i.e., compute the [Hamming distance](http://en.wikipedia.org/wiki/Hamming_distance) between them) to figure out whether ``q1`` or ``q2`` is more closely related to ``r1``? "
     ]
    },
    {
     "cell_type": "code",
     "collapsed": false,
     "input": [
      "# first we need to do some configuration of the notebook, don't worry about this for now\n",
      "from __future__ import division, print_function\n",
      "\n",
      "from IPython.core import page\n",
      "from scipy.spatial.distance import hamming\n",
      "from skbio import DNA\n",
      "\n",
      "page.page = print"
     ],
     "language": "python",
     "metadata": {},
     "outputs": [],
     "prompt_number": 1
    },
    {
     "cell_type": "code",
     "collapsed": false,
     "input": [
      "r1 = DNA(\"ACCCAGGTTAACGGTGACCAGGTACCAGAAGGGTACCAGGTAGGACACACGGGGATTAA\")\n",
      "q1 = DNA(\"ACCGAGGTTAACGGTGACCAGGTACCAGAAGGGTACCAGGTAGGAGACACGGCGATTAA\")\n",
      "q2 = DNA(\"TTCCAGGTAAACGGTGACCAGGTACCAGTTGCGTTTGTTGTAGGAGACACGGGGACCCA\")\n",
      "\n",
      "%psource hamming"
     ],
     "language": "python",
     "metadata": {},
     "outputs": [
      {
       "output_type": "stream",
       "stream": "stdout",
       "text": [
        "\u001b[0;32mdef\u001b[0m \u001b[0mhamming\u001b[0m\u001b[0;34m(\u001b[0m\u001b[0mu\u001b[0m\u001b[0;34m,\u001b[0m \u001b[0mv\u001b[0m\u001b[0;34m)\u001b[0m\u001b[0;34m:\u001b[0m\u001b[0;34m\u001b[0m\n",
        "\u001b[0;34m\u001b[0m    \u001b[0;34m\"\"\"\u001b[0m\n",
        "\u001b[0;34m    Computes the Hamming distance between two 1-D arrays.\u001b[0m\n",
        "\u001b[0;34m\u001b[0m\n",
        "\u001b[0;34m    The Hamming distance between 1-D arrays `u` and `v`, is simply the\u001b[0m\n",
        "\u001b[0;34m    proportion of disagreeing components in `u` and `v`. If `u` and `v` are\u001b[0m\n",
        "\u001b[0;34m    boolean vectors, the Hamming distance is\u001b[0m\n",
        "\u001b[0;34m\u001b[0m\n",
        "\u001b[0;34m    .. math::\u001b[0m\n",
        "\u001b[0;34m\u001b[0m\n",
        "\u001b[0;34m       \\\\frac{c_{01} + c_{10}}{n}\u001b[0m\n",
        "\u001b[0;34m\u001b[0m\n",
        "\u001b[0;34m    where :math:`c_{ij}` is the number of occurrences of\u001b[0m\n",
        "\u001b[0;34m    :math:`\\\\mathtt{u[k]} = i` and :math:`\\\\mathtt{v[k]} = j` for\u001b[0m\n",
        "\u001b[0;34m    :math:`k < n`.\u001b[0m\n",
        "\u001b[0;34m\u001b[0m\n",
        "\u001b[0;34m    Parameters\u001b[0m\n",
        "\u001b[0;34m    ----------\u001b[0m\n",
        "\u001b[0;34m    u : (N,) array_like\u001b[0m\n",
        "\u001b[0;34m        Input array.\u001b[0m\n",
        "\u001b[0;34m    v : (N,) array_like\u001b[0m\n",
        "\u001b[0;34m        Input array.\u001b[0m\n",
        "\u001b[0;34m\u001b[0m\n",
        "\u001b[0;34m    Returns\u001b[0m\n",
        "\u001b[0;34m    -------\u001b[0m\n",
        "\u001b[0;34m    hamming : double\u001b[0m\n",
        "\u001b[0;34m        The Hamming distance between vectors `u` and `v`.\u001b[0m\n",
        "\u001b[0;34m\u001b[0m\n",
        "\u001b[0;34m    \"\"\"\u001b[0m\u001b[0;34m\u001b[0m\n",
        "\u001b[0;34m\u001b[0m    \u001b[0mu\u001b[0m \u001b[0;34m=\u001b[0m \u001b[0m_validate_vector\u001b[0m\u001b[0;34m(\u001b[0m\u001b[0mu\u001b[0m\u001b[0;34m)\u001b[0m\u001b[0;34m\u001b[0m\n",
        "\u001b[0;34m\u001b[0m    \u001b[0mv\u001b[0m \u001b[0;34m=\u001b[0m \u001b[0m_validate_vector\u001b[0m\u001b[0;34m(\u001b[0m\u001b[0mv\u001b[0m\u001b[0;34m)\u001b[0m\u001b[0;34m\u001b[0m\n",
        "\u001b[0;34m\u001b[0m    \u001b[0;32mreturn\u001b[0m \u001b[0;34m(\u001b[0m\u001b[0mu\u001b[0m \u001b[0;34m!=\u001b[0m \u001b[0mv\u001b[0m\u001b[0;34m)\u001b[0m\u001b[0;34m.\u001b[0m\u001b[0mmean\u001b[0m\u001b[0;34m(\u001b[0m\u001b[0;34m)\u001b[0m\u001b[0;34m\u001b[0m\u001b[0m\n",
        "\n"
       ]
      }
     ],
     "prompt_number": 2
    },
    {
     "cell_type": "code",
     "collapsed": false,
     "input": [
      "print(hamming(r1, q1))\n",
      "print(hamming(r1, q2))"
     ],
     "language": "python",
     "metadata": {},
     "outputs": [
      {
       "output_type": "stream",
       "stream": "stdout",
       "text": [
        "0.0508474576271\n",
        "0.254237288136"
       ]
      },
      {
       "output_type": "stream",
       "stream": "stdout",
       "text": [
        "\n"
       ]
      }
     ],
     "prompt_number": 3
    },
    {
     "cell_type": "markdown",
     "metadata": {},
     "source": [
      "In this case, ``q1`` is clearly more similar to ``r1`` than ``q2`` is. But it's not always that simple. Here we're assuming that only substitution events have occured. Let's define ``q3``, which is the same as ``q1`` except that a single base deletion (with respect to ``r1``) is present toward the beginning of the sequence, and a single base addition at the end of the sequence. (Note: it's required that if we have a deletion we also have an insertion, because ``hamming`` is only defined for sequences of equal length.)"
     ]
    },
    {
     "cell_type": "code",
     "collapsed": false,
     "input": [
      "q3 = DNA(\"ACGAGGTTAACGGTGACCAGGTACCAGAAGGGTACCAGGTAGGAGACACGGCGATTAAA\")\n",
      "print(hamming(r1, q3))"
     ],
     "language": "python",
     "metadata": {},
     "outputs": [
      {
       "output_type": "stream",
       "stream": "stdout",
       "text": [
        "0.661016949153\n"
       ]
      }
     ],
     "prompt_number": 4
    },
    {
     "cell_type": "markdown",
     "metadata": {},
     "source": [
      "This one base change had a big effect on the distance between the two sequences. If this is a protein coding sequence, maybe that's reasonable, but given what we know about how biological sequences evolve this doesn't seem biologically justified. In this case, it seems that an insertion or deletion (i.e., an **indel**) event has shifted one sequence relative to the other, which resulted in many of the bases \"downstream\" of the indel being different. What we'd really want to do is have a way to indicate that an indel seems to have occured in one of the sequences. For example, let's define ``q4``, where we use a ``-`` character to indicate a deletion with respect to ``r1``. This results in what seems like a more reasonable distance between the two sequences (though given what you know about how indel events can disrupt protein coding sequences, you may feel that this distance is too close to the distance between ``r1`` and ``q1``):"
     ]
    },
    {
     "cell_type": "code",
     "collapsed": false,
     "input": [
      "q4 = DNA(\"AC-GAGGTTAACGGTGACCAGGTACCAGAAGGGTACCAGGTAGGAGACACGGCGATTAA\")\n",
      "print(hamming(r1,q4))"
     ],
     "language": "python",
     "metadata": {},
     "outputs": [
      {
       "output_type": "stream",
       "stream": "stdout",
       "text": [
        "0.0677966101695\n"
       ]
      }
     ],
     "prompt_number": 5
    },
    {
     "cell_type": "markdown",
     "metadata": {},
     "source": [
      "What we've done here is create a pairwise alignment of ``r1`` and ``q4``. In other words, we've **aligned** the positions that we hypothesize were derived from the same position in some ancestral sequence. The *alignment* is clear if we print these two sequence out one on top of the other:"
     ]
    },
    {
     "cell_type": "code",
     "collapsed": false,
     "input": [
      "print(r1)\n",
      "print(q4)"
     ],
     "language": "python",
     "metadata": {},
     "outputs": [
      {
       "output_type": "stream",
       "stream": "stdout",
       "text": [
        "ACCCAGGTTAACGGTGACCAGGTACCAGAAGGGTACCAGGTAGGACACACGGGGATTAA\n",
        "AC-GAGGTTAACGGTGACCAGGTACCAGAAGGGTACCAGGTAGGAGACACGGCGATTAA\n"
       ]
      }
     ],
     "prompt_number": 6
    },
    {
     "cell_type": "markdown",
     "metadata": {},
     "source": [
      "Scanning through these two sequences, we can see that they are mostly identicial, with the except of one ``-`` character, and a few *substitutions* of one base for another. We refer to ``-`` characters in aligned sequences as **gaps**. "
     ]
    },
    {
     "cell_type": "markdown",
     "metadata": {},
     "source": [
      "The problem of **pairwise sequence alignment** is, **given two sequences, generate a hypothesis about which bases were derived from a common ancestor**. In other words, align one on top of the other, inserting gaps as necessary, in a way that maximizes their similarity. Sequence alignment is tricky, in part, because of insertion/deletion mutations, and in part because particularly as sequences get long, there may be many possible ways to align them and we need to figure out which of those alignments is the best hypothesis in light of what we know about the (very messy) underlying biological systems. (When the sequences get very long, sequence alignment also becomes a very computationally expensive problem - we'll come back to this part.)\n",
      "\n",
      "In the next section we'll work through one algorithm for aligning a pair of sequences. As you work through this exercise, try to make a list of the assumptions that we're making that violate what you know about how sequences evolve. "
     ]
    },
    {
     "cell_type": "heading",
     "level": 2,
     "metadata": {},
     "source": [
      "A simple procedure for aligning a pair of sequences"
     ]
    },
    {
     "cell_type": "markdown",
     "metadata": {},
     "source": [
      "Aligning ``seq1`` and ``seq2`` can be achieved algorithmically in a few steps. First, let's define the sequences that we want to align."
     ]
    },
    {
     "cell_type": "code",
     "collapsed": false,
     "input": [
      "seq1 = \"ACCGGTGGAACCGGTAACACCCAC\"\n",
      "seq2 = \"ACCGGTAACCGGTTAACACCCAC\""
     ],
     "language": "python",
     "metadata": {},
     "outputs": [],
     "prompt_number": 7
    },
    {
     "cell_type": "markdown",
     "metadata": {},
     "source": [
      "I'm going to use a function in the following cells called ``format_matrix`` to display the alignment. Once a object has been imported, you can always view the source code for that function. This will be useful as we begin to explore some of the algorithms that are in use throughout these notebooks. \n",
      "\n",
      "For example:"
     ]
    },
    {
     "cell_type": "code",
     "collapsed": false,
     "input": [
      "from iab.algorithms import format_matrix"
     ],
     "language": "python",
     "metadata": {},
     "outputs": [],
     "prompt_number": 8
    },
    {
     "cell_type": "code",
     "collapsed": false,
     "input": [
      "%psource format_matrix"
     ],
     "language": "python",
     "metadata": {},
     "outputs": [
      {
       "output_type": "stream",
       "stream": "stdout",
       "text": [
        "\u001b[0;32mdef\u001b[0m \u001b[0mformat_matrix\u001b[0m\u001b[0;34m(\u001b[0m\u001b[0mrow_headers\u001b[0m\u001b[0;34m,\u001b[0m \u001b[0mcol_headers\u001b[0m\u001b[0;34m,\u001b[0m \u001b[0mdata\u001b[0m\u001b[0;34m,\u001b[0m \u001b[0mhide_zeros\u001b[0m\u001b[0;34m=\u001b[0m\u001b[0mFalse\u001b[0m\u001b[0;34m,\u001b[0m \u001b[0mcell_width\u001b[0m\u001b[0;34m=\u001b[0m\u001b[0;36m3\u001b[0m\u001b[0;34m)\u001b[0m\u001b[0;34m:\u001b[0m\u001b[0;34m\u001b[0m\n",
        "\u001b[0;34m\u001b[0m    \u001b[0mresult\u001b[0m \u001b[0;34m=\u001b[0m \u001b[0;34m[\u001b[0m\u001b[0;34m]\u001b[0m\u001b[0;34m\u001b[0m\n",
        "\u001b[0;34m\u001b[0m    \u001b[0mcell_format\u001b[0m \u001b[0;34m=\u001b[0m \u001b[0;34m\"%\"\u001b[0m \u001b[0;34m+\u001b[0m \u001b[0mstr\u001b[0m\u001b[0;34m(\u001b[0m\u001b[0mcell_width\u001b[0m\u001b[0;34m)\u001b[0m \u001b[0;34m+\u001b[0m \u001b[0;34m\"s\"\u001b[0m\u001b[0;34m\u001b[0m\n",
        "\u001b[0;34m\u001b[0m    \u001b[0mline_format\u001b[0m \u001b[0;34m=\u001b[0m \u001b[0mcell_format\u001b[0m \u001b[0;34m*\u001b[0m \u001b[0;34m(\u001b[0m\u001b[0mlen\u001b[0m\u001b[0;34m(\u001b[0m\u001b[0mrow_headers\u001b[0m\u001b[0;34m)\u001b[0m \u001b[0;34m+\u001b[0m \u001b[0;36m1\u001b[0m\u001b[0;34m)\u001b[0m\u001b[0;34m\u001b[0m\n",
        "\u001b[0;34m\u001b[0m\u001b[0;34m\u001b[0m\n",
        "\u001b[0;34m\u001b[0m    \u001b[0;31m# print a header row\u001b[0m\u001b[0;34m\u001b[0m\n",
        "\u001b[0;34m\u001b[0m    \u001b[0mresult\u001b[0m\u001b[0;34m.\u001b[0m\u001b[0mappend\u001b[0m\u001b[0;34m(\u001b[0m\u001b[0mline_format\u001b[0m \u001b[0;34m%\u001b[0m \u001b[0mtuple\u001b[0m\u001b[0;34m(\u001b[0m\u001b[0;34m[\u001b[0m\u001b[0;34m' '\u001b[0m\u001b[0;34m]\u001b[0m \u001b[0;34m+\u001b[0m \u001b[0mlist\u001b[0m\u001b[0;34m(\u001b[0m\u001b[0mrow_headers\u001b[0m\u001b[0;34m)\u001b[0m\u001b[0;34m)\u001b[0m\u001b[0;34m)\u001b[0m\u001b[0;34m\u001b[0m\n",
        "\u001b[0;34m\u001b[0m\u001b[0;34m\u001b[0m\n",
        "\u001b[0;34m\u001b[0m    \u001b[0;31m# print the data rows\u001b[0m\u001b[0;34m\u001b[0m\n",
        "\u001b[0;34m\u001b[0m    \u001b[0;32mfor\u001b[0m \u001b[0mb2\u001b[0m\u001b[0;34m,\u001b[0m \u001b[0mrow\u001b[0m \u001b[0;32min\u001b[0m \u001b[0mzip\u001b[0m\u001b[0;34m(\u001b[0m\u001b[0mcol_headers\u001b[0m\u001b[0;34m,\u001b[0m\u001b[0mdata\u001b[0m\u001b[0;34m)\u001b[0m\u001b[0;34m:\u001b[0m\u001b[0;34m\u001b[0m\n",
        "\u001b[0;34m\u001b[0m        \u001b[0;32mif\u001b[0m \u001b[0mhide_zeros\u001b[0m\u001b[0;34m:\u001b[0m\u001b[0;34m\u001b[0m\n",
        "\u001b[0;34m\u001b[0m            \u001b[0mdisplay_row\u001b[0m \u001b[0;34m=\u001b[0m \u001b[0;34m[\u001b[0m\u001b[0;34m]\u001b[0m\u001b[0;34m\u001b[0m\n",
        "\u001b[0;34m\u001b[0m            \u001b[0;32mfor\u001b[0m \u001b[0mv\u001b[0m \u001b[0;32min\u001b[0m \u001b[0mrow\u001b[0m\u001b[0;34m:\u001b[0m\u001b[0;34m\u001b[0m\n",
        "\u001b[0;34m\u001b[0m                \u001b[0;32mif\u001b[0m \u001b[0mv\u001b[0m \u001b[0;34m==\u001b[0m \u001b[0;36m0\u001b[0m\u001b[0;34m:\u001b[0m\u001b[0;34m\u001b[0m\n",
        "\u001b[0;34m\u001b[0m                    \u001b[0mdisplay_row\u001b[0m\u001b[0;34m.\u001b[0m\u001b[0mappend\u001b[0m\u001b[0;34m(\u001b[0m\u001b[0;34m''\u001b[0m\u001b[0;34m)\u001b[0m\u001b[0;34m\u001b[0m\n",
        "\u001b[0;34m\u001b[0m                \u001b[0;32melse\u001b[0m\u001b[0;34m:\u001b[0m\u001b[0;34m\u001b[0m\n",
        "\u001b[0;34m\u001b[0m                    \u001b[0mdisplay_row\u001b[0m\u001b[0;34m.\u001b[0m\u001b[0mappend\u001b[0m\u001b[0;34m(\u001b[0m\u001b[0mv\u001b[0m\u001b[0;34m)\u001b[0m\u001b[0;34m\u001b[0m\n",
        "\u001b[0;34m\u001b[0m        \u001b[0;32melse\u001b[0m\u001b[0;34m:\u001b[0m\u001b[0;34m\u001b[0m\n",
        "\u001b[0;34m\u001b[0m            \u001b[0mdisplay_row\u001b[0m \u001b[0;34m=\u001b[0m \u001b[0mrow\u001b[0m\u001b[0;34m\u001b[0m\n",
        "\u001b[0;34m\u001b[0m        \u001b[0mresult\u001b[0m\u001b[0;34m.\u001b[0m\u001b[0mappend\u001b[0m\u001b[0;34m(\u001b[0m\u001b[0mline_format\u001b[0m \u001b[0;34m%\u001b[0m \u001b[0mtuple\u001b[0m\u001b[0;34m(\u001b[0m\u001b[0;34m[\u001b[0m\u001b[0mb2\u001b[0m\u001b[0;34m]\u001b[0m \u001b[0;34m+\u001b[0m \u001b[0mdisplay_row\u001b[0m\u001b[0;34m)\u001b[0m\u001b[0;34m)\u001b[0m\u001b[0;34m\u001b[0m\n",
        "\u001b[0;34m\u001b[0m\u001b[0;34m\u001b[0m\n",
        "\u001b[0;34m\u001b[0m    \u001b[0;32mreturn\u001b[0m \u001b[0;34m'\\n'\u001b[0m\u001b[0;34m.\u001b[0m\u001b[0mjoin\u001b[0m\u001b[0;34m(\u001b[0m\u001b[0mresult\u001b[0m\u001b[0;34m)\u001b[0m\u001b[0;34m\u001b[0m\u001b[0m\n",
        "\n"
       ]
      }
     ],
     "prompt_number": 9
    },
    {
     "cell_type": "markdown",
     "metadata": {},
     "source": [
      "Now let's look at how to align these sequences.\n",
      "\n",
      "**Step 1.** Create a matrix, where the columns represent the positions in ``seq1`` and the rows represent the positions in ``seq2``. "
     ]
    },
    {
     "cell_type": "code",
     "collapsed": false,
     "input": [
      "data = []\n",
      "for p in seq2:\n",
      "    data.append(['-']*len(seq1))\n",
      "\n",
      "print(format_matrix(seq1, seq2, data))"
     ],
     "language": "python",
     "metadata": {},
     "outputs": [
      {
       "output_type": "stream",
       "stream": "stdout",
       "text": [
        "     A  C  C  G  G  T  G  G  A  A  C  C  G  G  T  A  A  C  A  C  C  C  A  C\n",
        "  A  -  -  -  -  -  -  -  -  -  -  -  -  -  -  -  -  -  -  -  -  -  -  -  -\n",
        "  C  -  -  -  -  -  -  -  -  -  -  -  -  -  -  -  -  -  -  -  -  -  -  -  -\n",
        "  C  -  -  -  -  -  -  -  -  -  -  -  -  -  -  -  -  -  -  -  -  -  -  -  -\n",
        "  G  -  -  -  -  -  -  -  -  -  -  -  -  -  -  -  -  -  -  -  -  -  -  -  -\n",
        "  G  -  -  -  -  -  -  -  -  -  -  -  -  -  -  -  -  -  -  -  -  -  -  -  -\n",
        "  T  -  -  -  -  -  -  -  -  -  -  -  -  -  -  -  -  -  -  -  -  -  -  -  -\n",
        "  A  -  -  -  -  -  -  -  -  -  -  -  -  -  -  -  -  -  -  -  -  -  -  -  -\n",
        "  A  -  -  -  -  -  -  -  -  -  -  -  -  -  -  -  -  -  -  -  -  -  -  -  -\n",
        "  C  -  -  -  -  -  -  -  -  -  -  -  -  -  -  -  -  -  -  -  -  -  -  -  -\n",
        "  C  -  -  -  -  -  -  -  -  -  -  -  -  -  -  -  -  -  -  -  -  -  -  -  -\n",
        "  G  -  -  -  -  -  -  -  -  -  -  -  -  -  -  -  -  -  -  -  -  -  -  -  -\n",
        "  G  -  -  -  -  -  -  -  -  -  -  -  -  -  -  -  -  -  -  -  -  -  -  -  -\n",
        "  T  -  -  -  -  -  -  -  -  -  -  -  -  -  -  -  -  -  -  -  -  -  -  -  -\n",
        "  T  -  -  -  -  -  -  -  -  -  -  -  -  -  -  -  -  -  -  -  -  -  -  -  -\n",
        "  A  -  -  -  -  -  -  -  -  -  -  -  -  -  -  -  -  -  -  -  -  -  -  -  -\n",
        "  A  -  -  -  -  -  -  -  -  -  -  -  -  -  -  -  -  -  -  -  -  -  -  -  -\n",
        "  C  -  -  -  -  -  -  -  -  -  -  -  -  -  -  -  -  -  -  -  -  -  -  -  -\n",
        "  A  -  -  -  -  -  -  -  -  -  -  -  -  -  -  -  -  -  -  -  -  -  -  -  -\n",
        "  C  -  -  -  -  -  -  -  -  -  -  -  -  -  -  -  -  -  -  -  -  -  -  -  -\n",
        "  C  -  -  -  -  -  -  -  -  -  -  -  -  -  -  -  -  -  -  -  -  -  -  -  -\n",
        "  C  -  -  -  -  -  -  -  -  -  -  -  -  -  -  -  -  -  -  -  -  -  -  -  -\n",
        "  A  -  -  -  -  -  -  -  -  -  -  -  -  -  -  -  -  -  -  -  -  -  -  -  -\n",
        "  C  -  -  -  -  -  -  -  -  -  -  -  -  -  -  -  -  -  -  -  -  -  -  -  -\n"
       ]
      }
     ],
     "prompt_number": 10
    },
    {
     "cell_type": "markdown",
     "metadata": {},
     "source": [
      "**Step 2.** Score the cells where the row value is equal to the column value as ``1``, and the others as ``0``. "
     ]
    },
    {
     "cell_type": "code",
     "collapsed": false,
     "input": [
      "data = []\n",
      "for b2 in seq2:\n",
      "    row = []\n",
      "    for b1 in seq1:\n",
      "        if b1 == b2:\n",
      "            row.append(1)\n",
      "        else:\n",
      "            row.append(0)\n",
      "    data.append(row)\n",
      "        \n",
      "print(format_matrix(seq1, seq2, data, hide_zeros=True))"
     ],
     "language": "python",
     "metadata": {},
     "outputs": [
      {
       "output_type": "stream",
       "stream": "stdout",
       "text": [
        "     A  C  C  G  G  T  G  G  A  A  C  C  G  G  T  A  A  C  A  C  C  C  A  C\n",
        "  A  1                       1  1                 1  1     1           1   \n",
        "  C     1  1                       1  1                 1     1  1  1     1\n",
        "  C     1  1                       1  1                 1     1  1  1     1\n",
        "  G           1  1     1  1              1  1                              \n",
        "  G           1  1     1  1              1  1                              \n",
        "  T                 1                          1                           \n",
        "  A  1                       1  1                 1  1     1           1   \n",
        "  A  1                       1  1                 1  1     1           1   \n",
        "  C     1  1                       1  1                 1     1  1  1     1\n",
        "  C     1  1                       1  1                 1     1  1  1     1\n",
        "  G           1  1     1  1              1  1                              \n",
        "  G           1  1     1  1              1  1                              \n",
        "  T                 1                          1                           \n",
        "  T                 1                          1                           \n",
        "  A  1                       1  1                 1  1     1           1   \n",
        "  A  1                       1  1                 1  1     1           1   \n",
        "  C     1  1                       1  1                 1     1  1  1     1\n",
        "  A  1                       1  1                 1  1     1           1   \n",
        "  C     1  1                       1  1                 1     1  1  1     1\n",
        "  C     1  1                       1  1                 1     1  1  1     1\n",
        "  C     1  1                       1  1                 1     1  1  1     1\n",
        "  A  1                       1  1                 1  1     1           1   \n",
        "  C     1  1                       1  1                 1     1  1  1     1\n"
       ]
      }
     ],
     "prompt_number": 11
    },
    {
     "cell_type": "markdown",
     "metadata": {},
     "source": [
      "**Step 3**: Identify the \u201chigh-scoring\u201d or contiguous diagonals. You can score each diagonal by summing the values in each cell."
     ]
    },
    {
     "cell_type": "code",
     "collapsed": false,
     "input": [
      "line_format = \"%3s\" * (len(seq1) + 1)\n",
      "scored_data = []\n",
      "for i, drow in enumerate(data):\n",
      "    row = []\n",
      "    for j, value in enumerate(drow):\n",
      "        if value > 0:\n",
      "            if i == 0 or j == 0:\n",
      "                row.append(value)\n",
      "            else:\n",
      "                row.append(value + scored_data[i-1][j-1])\n",
      "        else:\n",
      "            row.append(0)\n",
      "    scored_data.append(row)\n",
      "        \n",
      "print(format_matrix(seq1, seq2, scored_data, hide_zeros=True))"
     ],
     "language": "python",
     "metadata": {},
     "outputs": [
      {
       "output_type": "stream",
       "stream": "stdout",
       "text": [
        "     A  C  C  G  G  T  G  G  A  A  C  C  G  G  T  A  A  C  A  C  C  C  A  C\n",
        "  A  1                       1  1                 1  1     1           1   \n",
        "  C     2  1                       2  1                 2     2  1  1     2\n",
        "  C     1  3                       1  3                 1     1  3  2     1\n",
        "  G           4  1     1  1              4  1                              \n",
        "  G           1  5     1  2              1  5                              \n",
        "  T                 6                          6                           \n",
        "  A  1                       1  1                 7  1     1           1   \n",
        "  A  1                       1  2                 1  8     1           1   \n",
        "  C     2  1                       3  1                 9     2  1  1     2\n",
        "  C     1  3                       1  4                 1     1  3  2     1\n",
        "  G           4  1     1  1              5  1                              \n",
        "  G           1  5     1  2              1  6                              \n",
        "  T                 6                          7                           \n",
        "  T                 1                          1                           \n",
        "  A  1                       1  1                 2  1     1           1   \n",
        "  A  1                       1  2                 1  3     1           1   \n",
        "  C     2  1                       3  1                 4     2  1  1     2\n",
        "  A  1                       1  1                 1  1     5           2   \n",
        "  C     2  1                       2  1                 2     6  1  1     3\n",
        "  C     1  3                       1  3                 1     1  7  2     1\n",
        "  C     1  2                       1  2                 1     1  2  8     1\n",
        "  A  1                       1  1                 1  1     2           9   \n",
        "  C     2  1                       2  1                 2     3  1  1    10\n"
       ]
      }
     ],
     "prompt_number": 12
    },
    {
     "cell_type": "markdown",
     "metadata": {},
     "source": [
      "**Step 4**: Transcribe and score alignments including gaps (subtract one for every non-diagonal cell).\n",
      "\n",
      "You can now identify the highest scoring contiguous alignments \u2013 but notice that this only represents a portion of the full sequences, and there are other regions that are apparently homologous (as evidenced by high alignment scores).\n",
      "\n",
      "To transcribe a gapped alignment, add a gap character in the first (horizontal) sequence for each vertical line in the matrix, and a gap character in the second (vertical) sequence for each horizontal line in the matrix.\n",
      "\n",
      "``ACCGGTGGAACCGG-TAACACCCAC``\n",
      "\n",
      "``ACCGGT--AACCGGTTAACACCCAC``\n",
      "\n",
      "Alignment score: 19\n",
      "\n",
      "\n",
      "``ACCGGTGGAACCGGTAACACCCAC``\n",
      "\n",
      "``ACCGGT--------TAACACCCAC``\n",
      "\n",
      "Alignment score: 8\n",
      "\n",
      "**Remember that an alignment represents a hypothesis about the evolutionary history of a sequence.  Which of these hypotheses do you think is more likely to be true based on what you know about sequence evolution?**\n",
      "\n",
      "**As an exercise**, now scroll back to where we defined `seq1` and `seq2` and redefine one or both of those as other sequences. Execute that cell, and the one up to the previous cell, and transcribe the highest scoring alignment. "
     ]
    },
    {
     "cell_type": "markdown",
     "metadata": {},
     "source": [
      "**Complexities**: why this simple procedure is too simple\n",
      "\n",
      "1. We\u2019re scoring all matches as 1 and all mismatches as 0. This suggests that all substitutions are treated equally. What\u2019s a more biologically meaningful way to do this (e.g., in protein alignments)?\n",
      "\n",
      "2. Similarly, every gap that is introduced results in the same penalty being incurred. Based on what we know about how insertion/deletion events occur, it likely makes more sense to score *opening a new gap* differently from *extending an existing gap*.\n",
      "\n",
      "3. When searching a novel sequence against a database, you may have billions of bases to search against (which would correspond to billions of columns in these matrices). How can this be done efficiently? How can you determine if a hit is statistically meaningful or the result of chance?\n",
      "\n",
      "All scoring schemes have limitations, and you should consider alignments that come back from systems such as BLAST as hypotheses. You still need to do your due diligence to decide if you agree with the result that a computational systems gives you. They are there to help you do your work, but their answers are based on models and the models are not perfect. Be skeptical!\n",
      "\n",
      "Over the next several sections we'll explore ways of addressing each of these complexities. This notebook covers solutions to address the first and second. We'll introduce the problem of the third in this notebook, but begin exploring solutions in the next chapter."
     ]
    },
    {
     "cell_type": "heading",
     "level": 2,
     "metadata": {},
     "source": [
      "Substitution matrices"
     ]
    },
    {
     "cell_type": "markdown",
     "metadata": {},
     "source": [
      "The first of the limitations we identified above was that all matches and mismatches are scored equally, though we know that that isn't the most biologically meaningful way to score an alignment. We'll next expore a more general approach to the problem of *global sequence alignment* for protein sequences, or aligning a pair of protein sequences from beginning to end. We'll start by defining a **substitution matrix which defines the score associated with substitution of one amino acid for another**. We'll do this in a 2D python dictionary. "
     ]
    },
    {
     "cell_type": "code",
     "collapsed": false,
     "input": [
      "from iab.algorithms import blosum50\n",
      "\n",
      "print(blosum50)"
     ],
     "language": "python",
     "metadata": {},
     "outputs": [
      {
       "output_type": "stream",
       "stream": "stdout",
       "text": [
        "{'A': {'A': 5, 'C': -1, 'E': -1, 'D': -2, 'G': 0, 'F': -3, 'I': -1, 'H': -2, 'K': -1, 'M': -1, 'L': -2, 'N': -1, 'Q': -1, 'P': -1, 'S': 1, 'R': -2, 'T': 0, 'W': -3, 'V': 0, 'Y': -2}, 'C': {'A': -1, 'C': 13, 'E': -3, 'D': -4, 'G': -3, 'F': -2, 'I': -2, 'H': -3, 'K': -3, 'M': -2, 'L': -2, 'N': -2, 'Q': -3, 'P': -4, 'S': -1, 'R': -4, 'T': -1, 'W': -5, 'V': -1, 'Y': -3}, 'E': {'A': -1, 'C': -3, 'E': 6, 'D': 2, 'G': -3, 'F': -3, 'I': -4, 'H': 0, 'K': 1, 'M': -2, 'L': -3, 'N': 0, 'Q': 2, 'P': -1, 'S': -1, 'R': 0, 'T': -1, 'W': -3, 'V': -3, 'Y': -2}, 'D': {'A': -2, 'C': -4, 'E': 2, 'D': 8, 'G': -1, 'F': -5, 'I': -4, 'H': -1, 'K': -1, 'M': -4, 'L': -4, 'N': 2, 'Q': 0, 'P': -1, 'S': 0, 'R': -2, 'T': -1, 'W': -5, 'V': -4, 'Y': -3}, 'G': {'A': 0, 'C': -3, 'E': -3, 'D': -1, 'G': 8, 'F': -4, 'I': -4, 'H': -2, 'K': -2, 'M': -3, 'L': -4, 'N': 0, 'Q': -2, 'P': -2, 'S': 0, 'R': -3, 'T': -2, 'W': -3, 'V': -4, 'Y': -3}, 'F': {'A': -3, 'C': -2, 'E': -3, 'D': -5, 'G': -4, 'F': 8, 'I': 0, 'H': -1, 'K': -4, 'M': 0, 'L': 1, 'N': -4, 'Q': -4, 'P': -4, 'S': -3, 'R': -3, 'T': -2, 'W': 1, 'V': -1, 'Y': 4}, 'I': {'A': -1, 'C': -2, 'E': -4, 'D': -4, 'G': -4, 'F': 0, 'I': 5, 'H': -4, 'K': -3, 'M': 2, 'L': 2, 'N': -3, 'Q': -3, 'P': -3, 'S': -3, 'R': -4, 'T': -1, 'W': -3, 'V': 4, 'Y': -1}, 'H': {'A': -2, 'C': -3, 'E': 0, 'D': -1, 'G': -2, 'F': -1, 'I': -4, 'H': 10, 'K': 0, 'M': -1, 'L': -3, 'N': 1, 'Q': 1, 'P': -2, 'S': -1, 'R': 0, 'T': -2, 'W': -3, 'V': -4, 'Y': 2}, 'K': {'A': -1, 'C': -3, 'E': 1, 'D': -1, 'G': -2, 'F': -4, 'I': -3, 'H': 0, 'K': 6, 'M': -2, 'L': -3, 'N': 0, 'Q': 2, 'P': -1, 'S': 0, 'R': 3, 'T': -1, 'W': -3, 'V': -3, 'Y': -2}, 'M': {'A': -1, 'C': -2, 'E': -2, 'D': -4, 'G': -3, 'F': 0, 'I': 2, 'H': -1, 'K': -2, 'M': 7, 'L': 3, 'N': -2, 'Q': 0, 'P': -3, 'S': -2, 'R': -2, 'T': -1, 'W': -1, 'V': 1, 'Y': 0}, 'L': {'A': -2, 'C': -2, 'E': -3, 'D': -4, 'G': -4, 'F': 1, 'I': 2, 'H': -3, 'K': -3, 'M': 3, 'L': 5, 'N': -4, 'Q': -2, 'P': -4, 'S': -3, 'R': -3, 'T': -1, 'W': -2, 'V': 1, 'Y': -1}, 'N': {'A': -1, 'C': -2, 'E': 0, 'D': 2, 'G': 0, 'F': -4, 'I': -3, 'H': 1, 'K': 0, 'M': -2, 'L': -4, 'N': 7, 'Q': 0, 'P': -2, 'S': 1, 'R': -1, 'T': 0, 'W': -4, 'V': -3, 'Y': -2}, 'Q': {'A': -1, 'C': -3, 'E': 2, 'D': 0, 'G': -2, 'F': -4, 'I': -3, 'H': 1, 'K': 2, 'M': 0, 'L': -2, 'N': 0, 'Q': 7, 'P': -1, 'S': 0, 'R': 1, 'T': -1, 'W': -1, 'V': -3, 'Y': -1}, 'P': {'A': -1, 'C': -4, 'E': -1, 'D': -1, 'G': -2, 'F': -4, 'I': -3, 'H': -2, 'K': -1, 'M': -3, 'L': -4, 'N': -2, 'Q': -1, 'P': 10, 'S': -1, 'R': -3, 'T': -1, 'W': -4, 'V': -3, 'Y': -3}, 'S': {'A': 1, 'C': -1, 'E': -1, 'D': 0, 'G': 0, 'F': -3, 'I': -3, 'H': -1, 'K': 0, 'M': -2, 'L': -3, 'N': 1, 'Q': 0, 'P': -1, 'S': 5, 'R': -1, 'T': 2, 'W': -4, 'V': -2, 'Y': -2}, 'R': {'A': -2, 'C': -4, 'E': 0, 'D': -2, 'G': -3, 'F': -3, 'I': -4, 'H': 0, 'K': 3, 'M': -2, 'L': -3, 'N': -1, 'Q': 1, 'P': -3, 'S': -1, 'R': 7, 'T': -1, 'W': -3, 'V': -3, 'Y': -1}, 'T': {'A': 0, 'C': -1, 'E': -1, 'D': -1, 'G': -2, 'F': -2, 'I': -1, 'H': -2, 'K': -1, 'M': -1, 'L': -1, 'N': 0, 'Q': -1, 'P': -1, 'S': 2, 'R': -1, 'T': 5, 'W': -3, 'V': 0, 'Y': -2}, 'W': {'A': -3, 'C': -5, 'E': -3, 'D': -5, 'G': -3, 'F': 1, 'I': -3, 'H': -3, 'K': -3, 'M': -1, 'L': -2, 'N': -4, 'Q': -1, 'P': -4, 'S': -4, 'R': -3, 'T': -3, 'W': 15, 'V': -3, 'Y': 2}, 'V': {'A': 0, 'C': -1, 'E': -3, 'D': -4, 'G': -4, 'F': -1, 'I': 4, 'H': -4, 'K': -3, 'M': 1, 'L': 1, 'N': -3, 'Q': -3, 'P': -3, 'S': -2, 'R': -3, 'T': 0, 'W': -3, 'V': 5, 'Y': -1}, 'Y': {'A': -2, 'C': -3, 'E': -2, 'D': -3, 'G': -3, 'F': 4, 'I': -1, 'H': 2, 'K': -2, 'M': 0, 'L': -1, 'N': -2, 'Q': -1, 'P': -3, 'S': -2, 'R': -1, 'T': -2, 'W': 2, 'V': -1, 'Y': 8}}\n"
       ]
      }
     ],
     "prompt_number": 13
    },
    {
     "cell_type": "markdown",
     "metadata": {},
     "source": [
      "Early work on defining protein substitution matrices was performed by Dayhoff in the 1970s and by Henikoff and Henikoff in the early 1990s. This substitution matrix is known as the blosum 50 matrix, and was [presented in PNAS in 1992](http://www.ncbi.nlm.nih.gov/pmc/articles/PMC50453/). Briefly, these matrices are defined empirically, by aligning sequences manually or through automated systems, and counting how frequent certain substitutions are. There is a good [wikipedia article on this topic](http://www.ncbi.nlm.nih.gov/pmc/articles/PMC50453/). "
     ]
    },
    {
     "cell_type": "markdown",
     "metadata": {},
     "source": [
      "We can now look up the score for a given substitution."
     ]
    },
    {
     "cell_type": "code",
     "collapsed": false,
     "input": [
      "print(blosum50['A']['G'])\n",
      "print(blosum50['G']['A'])\n",
      "\n",
      "print(blosum50['W']['K'])\n",
      "\n",
      "print(blosum50['A']['A'])\n",
      "print(blosum50['W']['W'])"
     ],
     "language": "python",
     "metadata": {},
     "outputs": [
      {
       "output_type": "stream",
       "stream": "stdout",
       "text": [
        "0\n",
        "0\n",
        "-3\n",
        "5\n",
        "15\n"
       ]
      }
     ],
     "prompt_number": 14
    },
    {
     "cell_type": "markdown",
     "metadata": {},
     "source": [
      "And we can get a global view of the matrix."
     ]
    },
    {
     "cell_type": "code",
     "collapsed": false,
     "input": [
      "aas = blosum50.keys()\n",
      "aas.sort()\n",
      "data = []\n",
      "for aa1 in aas:\n",
      "    row = []\n",
      "    for aa2 in aas:\n",
      "        row.append(blosum50[aa1][aa2])\n",
      "    data.append(row)\n",
      "\n",
      "print(format_matrix(aas, aas, data))"
     ],
     "language": "python",
     "metadata": {},
     "outputs": [
      {
       "output_type": "stream",
       "stream": "stdout",
       "text": [
        "     A  C  D  E  F  G  H  I  K  L  M  N  P  Q  R  S  T  V  W  Y\n",
        "  A  5 -1 -2 -1 -3  0 -2 -1 -1 -2 -1 -1 -1 -1 -2  1  0  0 -3 -2\n",
        "  C -1 13 -4 -3 -2 -3 -3 -2 -3 -2 -2 -2 -4 -3 -4 -1 -1 -1 -5 -3\n",
        "  D -2 -4  8  2 -5 -1 -1 -4 -1 -4 -4  2 -1  0 -2  0 -1 -4 -5 -3\n",
        "  E -1 -3  2  6 -3 -3  0 -4  1 -3 -2  0 -1  2  0 -1 -1 -3 -3 -2\n",
        "  F -3 -2 -5 -3  8 -4 -1  0 -4  1  0 -4 -4 -4 -3 -3 -2 -1  1  4\n",
        "  G  0 -3 -1 -3 -4  8 -2 -4 -2 -4 -3  0 -2 -2 -3  0 -2 -4 -3 -3\n",
        "  H -2 -3 -1  0 -1 -2 10 -4  0 -3 -1  1 -2  1  0 -1 -2 -4 -3  2\n",
        "  I -1 -2 -4 -4  0 -4 -4  5 -3  2  2 -3 -3 -3 -4 -3 -1  4 -3 -1\n",
        "  K -1 -3 -1  1 -4 -2  0 -3  6 -3 -2  0 -1  2  3  0 -1 -3 -3 -2\n",
        "  L -2 -2 -4 -3  1 -4 -3  2 -3  5  3 -4 -4 -2 -3 -3 -1  1 -2 -1\n",
        "  M -1 -2 -4 -2  0 -3 -1  2 -2  3  7 -2 -3  0 -2 -2 -1  1 -1  0\n",
        "  N -1 -2  2  0 -4  0  1 -3  0 -4 -2  7 -2  0 -1  1  0 -3 -4 -2\n",
        "  P -1 -4 -1 -1 -4 -2 -2 -3 -1 -4 -3 -2 10 -1 -3 -1 -1 -3 -4 -3\n",
        "  Q -1 -3  0  2 -4 -2  1 -3  2 -2  0  0 -1  7  1  0 -1 -3 -1 -1\n",
        "  R -2 -4 -2  0 -3 -3  0 -4  3 -3 -2 -1 -3  1  7 -1 -1 -3 -3 -1\n",
        "  S  1 -1  0 -1 -3  0 -1 -3  0 -3 -2  1 -1  0 -1  5  2 -2 -4 -2\n",
        "  T  0 -1 -1 -1 -2 -2 -2 -1 -1 -1 -1  0 -1 -1 -1  2  5  0 -3 -2\n",
        "  V  0 -1 -4 -3 -1 -4 -4  4 -3  1  1 -3 -3 -3 -3 -2  0  5 -3 -1\n",
        "  W -3 -5 -5 -3  1 -3 -3 -3 -3 -2 -1 -4 -4 -1 -3 -4 -3 -3 15  2\n",
        "  Y -2 -3 -3 -2  4 -3  2 -1 -2 -1  0 -2 -3 -1 -1 -2 -2 -1  2  8\n"
       ]
      }
     ],
     "prompt_number": 15
    },
    {
     "cell_type": "heading",
     "level": 1,
     "metadata": {},
     "source": [
      "Needleman-Wunsch global pairwise sequence alignment"
     ]
    },
    {
     "cell_type": "markdown",
     "metadata": {},
     "source": [
      "Now let's get started on using this to align a pair of sequences.\n",
      "\n",
      "**Step 1.** Create a matrix, where the colums represent the positions in ``seq1`` and the rows represent the positions in ``seq2``."
     ]
    },
    {
     "cell_type": "code",
     "collapsed": false,
     "input": [
      "## Example adapted from Biological Sequence Analysis Chapter 2. \n",
      "\n",
      "seq1 = \"HEAGAWGHEE\"\n",
      "seq2 = \"PAWHEAE\""
     ],
     "language": "python",
     "metadata": {},
     "outputs": [],
     "prompt_number": 16
    },
    {
     "cell_type": "code",
     "collapsed": false,
     "input": [
      "data = []\n",
      "for p in seq2:\n",
      "    data.append(['-']*len(seq1))\n",
      "\n",
      "print(format_matrix(seq1, seq2, data))"
     ],
     "language": "python",
     "metadata": {},
     "outputs": [
      {
       "output_type": "stream",
       "stream": "stdout",
       "text": [
        "     H  E  A  G  A  W  G  H  E  E\n",
        "  P  -  -  -  -  -  -  -  -  -  -\n",
        "  A  -  -  -  -  -  -  -  -  -  -\n",
        "  W  -  -  -  -  -  -  -  -  -  -\n",
        "  H  -  -  -  -  -  -  -  -  -  -\n",
        "  E  -  -  -  -  -  -  -  -  -  -\n",
        "  A  -  -  -  -  -  -  -  -  -  -\n",
        "  E  -  -  -  -  -  -  -  -  -  -\n"
       ]
      }
     ],
     "prompt_number": 17
    },
    {
     "cell_type": "markdown",
     "metadata": {},
     "source": [
      "**Step 2**:  Using a substitution matrix, score each cell in the matrix."
     ]
    },
    {
     "cell_type": "code",
     "collapsed": false,
     "input": [
      "from iab.algorithms import generate_score_matrix\n",
      "\n",
      "%psource generate_score_matrix"
     ],
     "language": "python",
     "metadata": {},
     "outputs": [
      {
       "output_type": "stream",
       "stream": "stdout",
       "text": [
        "\u001b[0;32mdef\u001b[0m \u001b[0mgenerate_score_matrix\u001b[0m\u001b[0;34m(\u001b[0m\u001b[0mseq1\u001b[0m\u001b[0;34m,\u001b[0m\u001b[0mseq2\u001b[0m\u001b[0;34m,\u001b[0m\u001b[0msubstitution_matrix\u001b[0m\u001b[0;34m)\u001b[0m\u001b[0;34m:\u001b[0m\u001b[0;34m\u001b[0m\n",
        "\u001b[0;34m\u001b[0m    \u001b[0;31m# Initialize a matrix to use for storing the scores\u001b[0m\u001b[0;34m\u001b[0m\n",
        "\u001b[0;34m\u001b[0m    \u001b[0mscore_matrix\u001b[0m \u001b[0;34m=\u001b[0m \u001b[0;34m[\u001b[0m\u001b[0;34m]\u001b[0m\u001b[0;34m\u001b[0m\n",
        "\u001b[0;34m\u001b[0m    \u001b[0;31m# Iterate over the amino acids in sequence two (which will correspond\u001b[0m\u001b[0;34m\u001b[0m\n",
        "\u001b[0;34m\u001b[0m    \u001b[0;31m# to the vertical sequence in the matrix)\u001b[0m\u001b[0;34m\u001b[0m\n",
        "\u001b[0;34m\u001b[0m    \u001b[0;32mfor\u001b[0m \u001b[0maa2\u001b[0m \u001b[0;32min\u001b[0m \u001b[0mseq2\u001b[0m\u001b[0;34m:\u001b[0m\u001b[0;34m\u001b[0m\n",
        "\u001b[0;34m\u001b[0m        \u001b[0;31m# Initialize the current row of the matrix\u001b[0m\u001b[0;34m\u001b[0m\n",
        "\u001b[0;34m\u001b[0m        \u001b[0mcurrent_row\u001b[0m \u001b[0;34m=\u001b[0m \u001b[0;34m[\u001b[0m\u001b[0;34m]\u001b[0m\u001b[0;34m\u001b[0m\n",
        "\u001b[0;34m\u001b[0m        \u001b[0;31m# Iterate over the amino acids in sequence one (which will\u001b[0m\u001b[0;34m\u001b[0m\n",
        "\u001b[0;34m\u001b[0m        \u001b[0;31m# correspond to the horizontal sequence in the matrix)\u001b[0m\u001b[0;34m\u001b[0m\n",
        "\u001b[0;34m\u001b[0m        \u001b[0;32mfor\u001b[0m \u001b[0maa1\u001b[0m \u001b[0;32min\u001b[0m \u001b[0mseq1\u001b[0m\u001b[0;34m:\u001b[0m\u001b[0;34m\u001b[0m\n",
        "\u001b[0;34m\u001b[0m            \u001b[0;31m# score as 1 if the bases are equal and 0 if they're not\u001b[0m\u001b[0;34m\u001b[0m\n",
        "\u001b[0;34m\u001b[0m            \u001b[0mcurrent_row\u001b[0m\u001b[0;34m.\u001b[0m\u001b[0mappend\u001b[0m\u001b[0;34m(\u001b[0m\u001b[0msubstitution_matrix\u001b[0m\u001b[0;34m[\u001b[0m\u001b[0maa1\u001b[0m\u001b[0;34m]\u001b[0m\u001b[0;34m[\u001b[0m\u001b[0maa2\u001b[0m\u001b[0;34m]\u001b[0m\u001b[0;34m)\u001b[0m\u001b[0;34m\u001b[0m\n",
        "\u001b[0;34m\u001b[0m        \u001b[0;31m# append the current row to the matrix\u001b[0m\u001b[0;34m\u001b[0m\n",
        "\u001b[0;34m\u001b[0m        \u001b[0mscore_matrix\u001b[0m\u001b[0;34m.\u001b[0m\u001b[0mappend\u001b[0m\u001b[0;34m(\u001b[0m\u001b[0mcurrent_row\u001b[0m\u001b[0;34m)\u001b[0m\u001b[0;34m\u001b[0m\n",
        "\u001b[0;34m\u001b[0m    \u001b[0;32mreturn\u001b[0m \u001b[0mscore_matrix\u001b[0m\u001b[0;34m\u001b[0m\u001b[0m\n",
        "\n"
       ]
      }
     ],
     "prompt_number": 18
    },
    {
     "cell_type": "code",
     "collapsed": false,
     "input": [
      "score_matrix = generate_score_matrix(seq1,seq2,blosum50)\n",
      "\n",
      "print(format_matrix(seq1,\n",
      "                    seq2,\n",
      "                    score_matrix))"
     ],
     "language": "python",
     "metadata": {},
     "outputs": [
      {
       "output_type": "stream",
       "stream": "stdout",
       "text": [
        "     H  E  A  G  A  W  G  H  E  E\n",
        "  P -2 -1 -1 -2 -1 -4 -2 -2 -1 -1\n",
        "  A -2 -1  5  0  5 -3  0 -2 -1 -1\n",
        "  W -3 -3 -3 -3 -3 15 -3 -3 -3 -3\n",
        "  H 10  0 -2 -2 -2 -3 -2 10  0  0\n",
        "  E  0  6 -1 -3 -1 -3 -3  0  6  6\n",
        "  A -2 -1  5  0  5 -3  0 -2 -1 -1\n",
        "  E  0  6 -1 -3 -1 -3 -3  0  6  6\n"
       ]
      }
     ],
     "prompt_number": 19
    },
    {
     "cell_type": "markdown",
     "metadata": {},
     "source": [
      "**Step 3**: Generate the dynamic programming and traceback matrices.\n",
      "\n",
      "In the next step we determine the best alignment given the sequences and scoring scheme in what we'll call the **dynamic programming matrix**, and then define programmatically how to transcribe the alignment in what we'll call the **traceback matrix** to yield a pair of aligned sequences. \n",
      "\n",
      "\n",
      "For the convenience of coding this algorithm, it helps to define the dynamic programming matrix with one extra row and one extra column relative to the score matrix, and make these the first column and row of the matrix. These then represent the beginning of the alignment position $(0, 0)$. The score $F$ for cell $(i, j)$, where $i$ represents the row number and $j$ represents the column number, is defined for the first row and column as follows. \n",
      "\n",
      "\n",
      "$F(0, 0) = 0$\n",
      "\n",
      "$F(i, 0) = F(i-1, 0) - d$\n",
      "\n",
      "$F(0, j) = F(0, j-1) - d$\n",
      "\n",
      "This matrix, pre-initialization, would look like the following. As an exercise, try computing the values for the cells in the first four rows in column zero, and the first four columns in row zero. As you fill in the value for a cell, for all cells with a score based on another score in the matrix (i.e., everything except for $F(0, 0)$), draw an arrow from that cell to the cell whose score it depends on. \n",
      "\n",
      "For the sake of this exercise, define the gap penalty, $d$, as $d=8$. "
     ]
    },
    {
     "cell_type": "code",
     "collapsed": false,
     "input": [
      "data = []\n",
      "# This is a hack: to pad the matrix with an \n",
      "# extra row and column at the beginning I'm just prepending a \n",
      "# space to each sequence. Need to improve handling of that.\n",
      "padded_seq1 = \" \" + seq1\n",
      "padded_seq2 = \" \" + seq2\n",
      "\n",
      "for p in padded_seq2:\n",
      "    data.append(['-']*len(padded_seq1))\n",
      "\n",
      "print(format_matrix(padded_seq1, padded_seq2, data))"
     ],
     "language": "python",
     "metadata": {},
     "outputs": [
      {
       "output_type": "stream",
       "stream": "stdout",
       "text": [
        "        H  E  A  G  A  W  G  H  E  E\n",
        "     -  -  -  -  -  -  -  -  -  -  -\n",
        "  P  -  -  -  -  -  -  -  -  -  -  -\n",
        "  A  -  -  -  -  -  -  -  -  -  -  -\n",
        "  W  -  -  -  -  -  -  -  -  -  -  -\n",
        "  H  -  -  -  -  -  -  -  -  -  -  -\n",
        "  E  -  -  -  -  -  -  -  -  -  -  -\n",
        "  A  -  -  -  -  -  -  -  -  -  -  -\n",
        "  E  -  -  -  -  -  -  -  -  -  -  -\n"
       ]
      }
     ],
     "prompt_number": 20
    },
    {
     "cell_type": "markdown",
     "metadata": {},
     "source": [
      "Initializing this would result in the following."
     ]
    },
    {
     "cell_type": "code",
     "collapsed": false,
     "input": [
      "# We'll define the gap penalty as 8.\n",
      "d = 8\n",
      "\n",
      "data[0][0] = 0\n",
      "for i in range(1,len(padded_seq2)):\n",
      "    data[i][0] = data[i-1][0] - d\n",
      "\n",
      "for j in range(1,len(padded_seq1)):\n",
      "    data[0][j] = data[0][j-1] - d\n",
      "\n",
      "print(format_matrix(padded_seq1, padded_seq2, data, cell_width=4))\n",
      "                "
     ],
     "language": "python",
     "metadata": {},
     "outputs": [
      {
       "output_type": "stream",
       "stream": "stdout",
       "text": [
        "           H   E   A   G   A   W   G   H   E   E\n",
        "       0  -8 -16 -24 -32 -40 -48 -56 -64 -72 -80\n",
        "   P  -8   -   -   -   -   -   -   -   -   -   -\n",
        "   A -16   -   -   -   -   -   -   -   -   -   -\n",
        "   W -24   -   -   -   -   -   -   -   -   -   -\n",
        "   H -32   -   -   -   -   -   -   -   -   -   -\n",
        "   E -40   -   -   -   -   -   -   -   -   -   -\n",
        "   A -48   -   -   -   -   -   -   -   -   -   -\n",
        "   E -56   -   -   -   -   -   -   -   -   -   -\n"
       ]
      }
     ],
     "prompt_number": 21
    },
    {
     "cell_type": "markdown",
     "metadata": {},
     "source": [
      "Next, we'll compute the scores for all of the other cells in the matrix, starting at position $(1, 1)$. \n",
      "\n",
      "In a Needleman-Wunsch alignment, the score $F$ for cell $(i, j)$ (where $i$ is the row number and $j$ is the column number, and $i > 0$ and $j > 0$) is computed as the maximum of three possible values.\n",
      "\n",
      "```\n",
      "F(i, j) = max( F(i-1, j-1) + s(xi, yj), \n",
      "                F(i-1, j) - d,\n",
      "                F(i, j-1) - d)\n",
      "```\n",
      "\n",
      "In this notation, $s$ refers to the substitution matrix, $x$ and $y$ refer to characters in `seq1` and `seq2`, and $d$ again is the gap penalty. Describing the scoring function in English, we score a cell with the maximum of three values: either the value of the cell up and to the left plus the score for the substitution taking place in the current cell (which you find by looking up the substitution in the substitution matrix); the value of the cell above minus the gap penalty; or the value of the cell to the left minus the gap penalty. In this way, you're determining whether the best (highest) score is obtained by intersting a gap in sequence 1 (corresponding to $F(i-1, j) - d$), inserting a gap in sequence 2 (corresponding to $F(i, j-1) - d$), or aligning the characters in sequence 1 and sequence 2 (corresponding to $F(i-1, j-1) + s(xi, yj)$).\n",
      "\n",
      "As an exercise, fill in the values of cells $(1, 1)$, $(1, 2)$, and $(2, 1)$ by hand. Remember to insert arrows indicating which cell each score was derived from as you fill in the matrix, and notice the situation that you encounter when computing the value for $(2, 1)$. Which arrow do you draw there? Keep this issue in mind, and think about how it might affect your final result.\n"
     ]
    },
    {
     "cell_type": "markdown",
     "metadata": {},
     "source": [
      "The function in the next cell generates the dynamic programming and traceback matrices for us. You should review this code to understand exactly how it's working."
     ]
    },
    {
     "cell_type": "code",
     "collapsed": false,
     "input": [
      "from iab.algorithms import format_dynamic_programming_matrix, format_traceback_matrix\n",
      "from skbio.core.alignment.pairwise import _compute_score_and_traceback_matrices \n",
      "\n",
      "%psource _compute_score_and_traceback_matrices"
     ],
     "language": "python",
     "metadata": {},
     "outputs": [
      {
       "output_type": "stream",
       "stream": "stdout",
       "text": [
        "\u001b[0;32mdef\u001b[0m \u001b[0m_compute_score_and_traceback_matrices\u001b[0m\u001b[0;34m(\u001b[0m\u001b[0;34m\u001b[0m\n",
        "\u001b[0;34m\u001b[0m        \u001b[0mseq1\u001b[0m\u001b[0;34m,\u001b[0m \u001b[0mseq2\u001b[0m\u001b[0;34m,\u001b[0m \u001b[0mgap_open_penalty\u001b[0m\u001b[0;34m,\u001b[0m \u001b[0mgap_extend_penalty\u001b[0m\u001b[0;34m,\u001b[0m \u001b[0msubstitution_matrix\u001b[0m\u001b[0;34m,\u001b[0m\u001b[0;34m\u001b[0m\n",
        "\u001b[0;34m\u001b[0m        \u001b[0mnew_alignment_score\u001b[0m\u001b[0;34m=\u001b[0m\u001b[0;34m-\u001b[0m\u001b[0mnp\u001b[0m\u001b[0;34m.\u001b[0m\u001b[0minf\u001b[0m\u001b[0;34m,\u001b[0m \u001b[0minit_matrices_f\u001b[0m\u001b[0;34m=\u001b[0m\u001b[0m_init_matrices_nw\u001b[0m\u001b[0;34m)\u001b[0m\u001b[0;34m:\u001b[0m\u001b[0;34m\u001b[0m\n",
        "\u001b[0;34m\u001b[0m    \u001b[0;34m\"\"\"Return dynamic programming (score) and traceback matrices\u001b[0m\n",
        "\u001b[0;34m    \"\"\"\u001b[0m\u001b[0;34m\u001b[0m\n",
        "\u001b[0;34m\u001b[0m    \u001b[0;31m# cache some values for quicker/simpler access\u001b[0m\u001b[0;34m\u001b[0m\n",
        "\u001b[0;34m\u001b[0m    \u001b[0maend\u001b[0m \u001b[0;34m=\u001b[0m \u001b[0m_traceback_encoding\u001b[0m\u001b[0;34m[\u001b[0m\u001b[0;34m'alignment-end'\u001b[0m\u001b[0;34m]\u001b[0m\u001b[0;34m\u001b[0m\n",
        "\u001b[0;34m\u001b[0m    \u001b[0mmatch\u001b[0m \u001b[0;34m=\u001b[0m \u001b[0m_traceback_encoding\u001b[0m\u001b[0;34m[\u001b[0m\u001b[0;34m'match'\u001b[0m\u001b[0;34m]\u001b[0m\u001b[0;34m\u001b[0m\n",
        "\u001b[0;34m\u001b[0m    \u001b[0mvgap\u001b[0m \u001b[0;34m=\u001b[0m \u001b[0m_traceback_encoding\u001b[0m\u001b[0;34m[\u001b[0m\u001b[0;34m'vertical-gap'\u001b[0m\u001b[0;34m]\u001b[0m\u001b[0;34m\u001b[0m\n",
        "\u001b[0;34m\u001b[0m    \u001b[0mhgap\u001b[0m \u001b[0;34m=\u001b[0m \u001b[0m_traceback_encoding\u001b[0m\u001b[0;34m[\u001b[0m\u001b[0;34m'horizontal-gap'\u001b[0m\u001b[0;34m]\u001b[0m\u001b[0;34m\u001b[0m\n",
        "\u001b[0;34m\u001b[0m\u001b[0;34m\u001b[0m\n",
        "\u001b[0;34m\u001b[0m    \u001b[0mnew_alignment_score\u001b[0m \u001b[0;34m=\u001b[0m \u001b[0;34m(\u001b[0m\u001b[0mnew_alignment_score\u001b[0m\u001b[0;34m,\u001b[0m \u001b[0maend\u001b[0m\u001b[0;34m)\u001b[0m\u001b[0;34m\u001b[0m\n",
        "\u001b[0;34m\u001b[0m\u001b[0;34m\u001b[0m\n",
        "\u001b[0;34m\u001b[0m    \u001b[0;31m# Initialize a matrix to use for scoring the alignment and for tracing\u001b[0m\u001b[0;34m\u001b[0m\n",
        "\u001b[0;34m\u001b[0m    \u001b[0;31m# back the best alignment\u001b[0m\u001b[0;34m\u001b[0m\n",
        "\u001b[0;34m\u001b[0m    \u001b[0mscore_matrix\u001b[0m\u001b[0;34m,\u001b[0m \u001b[0mtraceback_matrix\u001b[0m \u001b[0;34m=\u001b[0m \u001b[0minit_matrices_f\u001b[0m\u001b[0;34m(\u001b[0m\u001b[0;34m\u001b[0m\n",
        "\u001b[0;34m\u001b[0m        \u001b[0mseq1\u001b[0m\u001b[0;34m,\u001b[0m \u001b[0mseq2\u001b[0m\u001b[0;34m,\u001b[0m \u001b[0mgap_open_penalty\u001b[0m\u001b[0;34m,\u001b[0m \u001b[0mgap_extend_penalty\u001b[0m\u001b[0;34m)\u001b[0m\u001b[0;34m\u001b[0m\n",
        "\u001b[0;34m\u001b[0m\u001b[0;34m\u001b[0m\n",
        "\u001b[0;34m\u001b[0m    \u001b[0;31m# Iterate over the characters in sequence two (which will correspond\u001b[0m\u001b[0;34m\u001b[0m\n",
        "\u001b[0;34m\u001b[0m    \u001b[0;31m# to the vertical sequence in the matrix)\u001b[0m\u001b[0;34m\u001b[0m\n",
        "\u001b[0;34m\u001b[0m    \u001b[0;31m# Note that i corresponds to column numbers, as in 'Biological Sequence\u001b[0m\u001b[0;34m\u001b[0m\n",
        "\u001b[0;34m\u001b[0m    \u001b[0;31m# Analysis'\u001b[0m\u001b[0;34m\u001b[0m\n",
        "\u001b[0;34m\u001b[0m    \u001b[0;32mfor\u001b[0m \u001b[0mi\u001b[0m\u001b[0;34m,\u001b[0m \u001b[0mc2\u001b[0m \u001b[0;32min\u001b[0m \u001b[0mzip\u001b[0m\u001b[0;34m(\u001b[0m\u001b[0mrange\u001b[0m\u001b[0;34m(\u001b[0m\u001b[0;36m1\u001b[0m\u001b[0;34m,\u001b[0m \u001b[0mlen\u001b[0m\u001b[0;34m(\u001b[0m\u001b[0mseq2\u001b[0m\u001b[0;34m)\u001b[0m\u001b[0;34m+\u001b[0m\u001b[0;36m1\u001b[0m\u001b[0;34m)\u001b[0m\u001b[0;34m,\u001b[0m \u001b[0mseq2\u001b[0m\u001b[0;34m)\u001b[0m\u001b[0;34m:\u001b[0m\u001b[0;34m\u001b[0m\n",
        "\u001b[0;34m\u001b[0m        \u001b[0;31m# Iterate over the characters in sequence one (which will\u001b[0m\u001b[0;34m\u001b[0m\n",
        "\u001b[0;34m\u001b[0m        \u001b[0;31m# correspond to the horizontal sequence in the matrix)\u001b[0m\u001b[0;34m\u001b[0m\n",
        "\u001b[0;34m\u001b[0m        \u001b[0;31m# Note that j corresponds to row numbers, as in 'Biological Sequence\u001b[0m\u001b[0;34m\u001b[0m\n",
        "\u001b[0;34m\u001b[0m        \u001b[0;31m# Analysis'\u001b[0m\u001b[0;34m\u001b[0m\n",
        "\u001b[0;34m\u001b[0m        \u001b[0;32mfor\u001b[0m \u001b[0mj\u001b[0m\u001b[0;34m,\u001b[0m \u001b[0mc1\u001b[0m \u001b[0;32min\u001b[0m \u001b[0mzip\u001b[0m\u001b[0;34m(\u001b[0m\u001b[0mrange\u001b[0m\u001b[0;34m(\u001b[0m\u001b[0;36m1\u001b[0m\u001b[0;34m,\u001b[0m \u001b[0mlen\u001b[0m\u001b[0;34m(\u001b[0m\u001b[0mseq1\u001b[0m\u001b[0;34m)\u001b[0m\u001b[0;34m+\u001b[0m\u001b[0;36m1\u001b[0m\u001b[0;34m)\u001b[0m\u001b[0;34m,\u001b[0m \u001b[0mseq1\u001b[0m\u001b[0;34m)\u001b[0m\u001b[0;34m:\u001b[0m\u001b[0;34m\u001b[0m\n",
        "\u001b[0;34m\u001b[0m            \u001b[0;32mtry\u001b[0m\u001b[0;34m:\u001b[0m\u001b[0;34m\u001b[0m\n",
        "\u001b[0;34m\u001b[0m                \u001b[0msubstitution_score\u001b[0m \u001b[0;34m=\u001b[0m \u001b[0msubstitution_matrix\u001b[0m\u001b[0;34m[\u001b[0m\u001b[0mc1\u001b[0m\u001b[0;34m]\u001b[0m\u001b[0;34m[\u001b[0m\u001b[0mc2\u001b[0m\u001b[0;34m]\u001b[0m\u001b[0;34m\u001b[0m\n",
        "\u001b[0;34m\u001b[0m            \u001b[0;32mexcept\u001b[0m \u001b[0mKeyError\u001b[0m\u001b[0;34m:\u001b[0m\u001b[0;34m\u001b[0m\n",
        "\u001b[0;34m\u001b[0m                \u001b[0moffending_chars\u001b[0m \u001b[0;34m=\u001b[0m \\\n",
        "                    \u001b[0;34m[\u001b[0m\u001b[0mc\u001b[0m \u001b[0;32mfor\u001b[0m \u001b[0mc\u001b[0m \u001b[0;32min\u001b[0m \u001b[0;34m(\u001b[0m\u001b[0mc1\u001b[0m\u001b[0;34m,\u001b[0m \u001b[0mc2\u001b[0m\u001b[0;34m)\u001b[0m \u001b[0;32mif\u001b[0m \u001b[0mc\u001b[0m \u001b[0;32mnot\u001b[0m \u001b[0;32min\u001b[0m \u001b[0msubstitution_matrix\u001b[0m\u001b[0;34m]\u001b[0m\u001b[0;34m\u001b[0m\n",
        "\u001b[0;34m\u001b[0m                \u001b[0;32mraise\u001b[0m \u001b[0mValueError\u001b[0m\u001b[0;34m(\u001b[0m\u001b[0;34m\u001b[0m\n",
        "\u001b[0;34m\u001b[0m                    \u001b[0;34m\"One of the sequences contains a character that is not \"\u001b[0m\u001b[0;34m\u001b[0m\n",
        "\u001b[0;34m\u001b[0m                    \u001b[0;34m\"contained in the substitution matrix. Are you using \"\u001b[0m\u001b[0;34m\u001b[0m\n",
        "\u001b[0;34m\u001b[0m                    \u001b[0;34m\"an appropriate substitution matrix for your sequence \"\u001b[0m\u001b[0;34m\u001b[0m\n",
        "\u001b[0;34m\u001b[0m                    \u001b[0;34m\"type (e.g., a nucleotide substitution matrix does not \"\u001b[0m\u001b[0;34m\u001b[0m\n",
        "\u001b[0;34m\u001b[0m                    \u001b[0;34m\"make sense for aligning protein sequences)? Does your \"\u001b[0m\u001b[0;34m\u001b[0m\n",
        "\u001b[0;34m\u001b[0m                    \u001b[0;34m\"sequence contain invalid characters? The offending \"\u001b[0m\u001b[0;34m\u001b[0m\n",
        "\u001b[0;34m\u001b[0m                    \u001b[0;34m\"character(s) is: %s.\"\u001b[0m \u001b[0;34m%\u001b[0m \u001b[0;34m', '\u001b[0m\u001b[0;34m.\u001b[0m\u001b[0mjoin\u001b[0m\u001b[0;34m(\u001b[0m\u001b[0moffending_chars\u001b[0m\u001b[0;34m)\u001b[0m\u001b[0;34m)\u001b[0m\u001b[0;34m\u001b[0m\n",
        "\u001b[0;34m\u001b[0m            \u001b[0mdiag_score\u001b[0m \u001b[0;34m=\u001b[0m \u001b[0;34m(\u001b[0m\u001b[0mscore_matrix\u001b[0m\u001b[0;34m[\u001b[0m\u001b[0mi\u001b[0m\u001b[0;34m-\u001b[0m\u001b[0;36m1\u001b[0m\u001b[0;34m,\u001b[0m \u001b[0mj\u001b[0m\u001b[0;34m-\u001b[0m\u001b[0;36m1\u001b[0m\u001b[0;34m]\u001b[0m \u001b[0;34m+\u001b[0m \u001b[0msubstitution_score\u001b[0m\u001b[0;34m,\u001b[0m \u001b[0mmatch\u001b[0m\u001b[0;34m)\u001b[0m\u001b[0;34m\u001b[0m\n",
        "\u001b[0;34m\u001b[0m            \u001b[0;32mif\u001b[0m \u001b[0mtraceback_matrix\u001b[0m\u001b[0;34m[\u001b[0m\u001b[0mi\u001b[0m\u001b[0;34m-\u001b[0m\u001b[0;36m1\u001b[0m\u001b[0;34m,\u001b[0m \u001b[0mj\u001b[0m\u001b[0;34m]\u001b[0m \u001b[0;34m==\u001b[0m \u001b[0mvgap\u001b[0m\u001b[0;34m:\u001b[0m\u001b[0;34m\u001b[0m\n",
        "\u001b[0;34m\u001b[0m                \u001b[0;31m# gap extend, because the cell above was also a gap\u001b[0m\u001b[0;34m\u001b[0m\n",
        "\u001b[0;34m\u001b[0m                \u001b[0mup_score\u001b[0m \u001b[0;34m=\u001b[0m \u001b[0;34m(\u001b[0m\u001b[0mscore_matrix\u001b[0m\u001b[0;34m[\u001b[0m\u001b[0mi\u001b[0m\u001b[0;34m-\u001b[0m\u001b[0;36m1\u001b[0m\u001b[0;34m,\u001b[0m \u001b[0mj\u001b[0m\u001b[0;34m]\u001b[0m \u001b[0;34m-\u001b[0m \u001b[0mgap_extend_penalty\u001b[0m\u001b[0;34m,\u001b[0m \u001b[0mvgap\u001b[0m\u001b[0;34m)\u001b[0m\u001b[0;34m\u001b[0m\n",
        "\u001b[0;34m\u001b[0m            \u001b[0;32melse\u001b[0m\u001b[0;34m:\u001b[0m\u001b[0;34m\u001b[0m\n",
        "\u001b[0;34m\u001b[0m                \u001b[0;31m# gap open, because the cell above was not a gap\u001b[0m\u001b[0;34m\u001b[0m\n",
        "\u001b[0;34m\u001b[0m                \u001b[0mup_score\u001b[0m \u001b[0;34m=\u001b[0m \u001b[0;34m(\u001b[0m\u001b[0mscore_matrix\u001b[0m\u001b[0;34m[\u001b[0m\u001b[0mi\u001b[0m\u001b[0;34m-\u001b[0m\u001b[0;36m1\u001b[0m\u001b[0;34m,\u001b[0m \u001b[0mj\u001b[0m\u001b[0;34m]\u001b[0m \u001b[0;34m-\u001b[0m \u001b[0mgap_open_penalty\u001b[0m\u001b[0;34m,\u001b[0m \u001b[0mvgap\u001b[0m\u001b[0;34m)\u001b[0m\u001b[0;34m\u001b[0m\n",
        "\u001b[0;34m\u001b[0m            \u001b[0;32mif\u001b[0m \u001b[0mtraceback_matrix\u001b[0m\u001b[0;34m[\u001b[0m\u001b[0mi\u001b[0m\u001b[0;34m,\u001b[0m \u001b[0mj\u001b[0m\u001b[0;34m-\u001b[0m\u001b[0;36m1\u001b[0m\u001b[0;34m]\u001b[0m \u001b[0;34m==\u001b[0m \u001b[0mhgap\u001b[0m\u001b[0;34m:\u001b[0m\u001b[0;34m\u001b[0m\n",
        "\u001b[0;34m\u001b[0m                \u001b[0;31m# gap extend, because the cell to the left was also a gap\u001b[0m\u001b[0;34m\u001b[0m\n",
        "\u001b[0;34m\u001b[0m                \u001b[0mleft_score\u001b[0m \u001b[0;34m=\u001b[0m \u001b[0;34m(\u001b[0m\u001b[0mscore_matrix\u001b[0m\u001b[0;34m[\u001b[0m\u001b[0mi\u001b[0m\u001b[0;34m,\u001b[0m \u001b[0mj\u001b[0m\u001b[0;34m-\u001b[0m\u001b[0;36m1\u001b[0m\u001b[0;34m]\u001b[0m \u001b[0;34m-\u001b[0m \u001b[0mgap_extend_penalty\u001b[0m\u001b[0;34m,\u001b[0m \u001b[0mhgap\u001b[0m\u001b[0;34m)\u001b[0m\u001b[0;34m\u001b[0m\n",
        "\u001b[0;34m\u001b[0m            \u001b[0;32melse\u001b[0m\u001b[0;34m:\u001b[0m\u001b[0;34m\u001b[0m\n",
        "\u001b[0;34m\u001b[0m                \u001b[0;31m# gap open, because the cell to the left was not a gap\u001b[0m\u001b[0;34m\u001b[0m\n",
        "\u001b[0;34m\u001b[0m                \u001b[0mleft_score\u001b[0m \u001b[0;34m=\u001b[0m \u001b[0;34m(\u001b[0m\u001b[0mscore_matrix\u001b[0m\u001b[0;34m[\u001b[0m\u001b[0mi\u001b[0m\u001b[0;34m,\u001b[0m \u001b[0mj\u001b[0m\u001b[0;34m-\u001b[0m\u001b[0;36m1\u001b[0m\u001b[0;34m]\u001b[0m \u001b[0;34m-\u001b[0m \u001b[0mgap_open_penalty\u001b[0m\u001b[0;34m,\u001b[0m \u001b[0mhgap\u001b[0m\u001b[0;34m)\u001b[0m\u001b[0;34m\u001b[0m\n",
        "\u001b[0;34m\u001b[0m            \u001b[0mbest_score\u001b[0m \u001b[0;34m=\u001b[0m \u001b[0m_first_largest\u001b[0m\u001b[0;34m(\u001b[0m\u001b[0;34m[\u001b[0m\u001b[0mnew_alignment_score\u001b[0m\u001b[0;34m,\u001b[0m \u001b[0mleft_score\u001b[0m\u001b[0;34m,\u001b[0m\u001b[0;34m\u001b[0m\n",
        "\u001b[0;34m\u001b[0m                                         \u001b[0mdiag_score\u001b[0m\u001b[0;34m,\u001b[0m \u001b[0mup_score\u001b[0m\u001b[0;34m]\u001b[0m\u001b[0;34m)\u001b[0m\u001b[0;34m\u001b[0m\n",
        "\u001b[0;34m\u001b[0m            \u001b[0mscore_matrix\u001b[0m\u001b[0;34m[\u001b[0m\u001b[0mi\u001b[0m\u001b[0;34m,\u001b[0m \u001b[0mj\u001b[0m\u001b[0;34m]\u001b[0m \u001b[0;34m=\u001b[0m \u001b[0mbest_score\u001b[0m\u001b[0;34m[\u001b[0m\u001b[0;36m0\u001b[0m\u001b[0;34m]\u001b[0m\u001b[0;34m\u001b[0m\n",
        "\u001b[0;34m\u001b[0m            \u001b[0mtraceback_matrix\u001b[0m\u001b[0;34m[\u001b[0m\u001b[0mi\u001b[0m\u001b[0;34m,\u001b[0m \u001b[0mj\u001b[0m\u001b[0;34m]\u001b[0m \u001b[0;34m=\u001b[0m \u001b[0mbest_score\u001b[0m\u001b[0;34m[\u001b[0m\u001b[0;36m1\u001b[0m\u001b[0;34m]\u001b[0m\u001b[0;34m\u001b[0m\n",
        "\u001b[0;34m\u001b[0m    \u001b[0;32mreturn\u001b[0m \u001b[0mscore_matrix\u001b[0m\u001b[0;34m,\u001b[0m \u001b[0mtraceback_matrix\u001b[0m\u001b[0;34m\u001b[0m\u001b[0m\n",
        "\n"
       ]
      }
     ],
     "prompt_number": 22
    },
    {
     "cell_type": "markdown",
     "metadata": {},
     "source": [
      "You can now apply this function to `seq1` and `seq2` to compute the dynamic programming and traceback matrices. Based on the arrows in your traceback matrix, what do you think the four different values used in this traceback matrix represent? "
     ]
    },
    {
     "cell_type": "code",
     "collapsed": false,
     "input": [
      "seq1 = \"HEAGAWGHEE\"\n",
      "seq2 = \"PAWHEAE\"\n",
      "\n",
      "nw_matrix, traceback_matrix = _compute_score_and_traceback_matrices(\n",
      "    seq1, seq2, 8, 8, blosum50)\n",
      "\n",
      "print(format_dynamic_programming_matrix(seq1, seq2, nw_matrix))"
     ],
     "language": "python",
     "metadata": {},
     "outputs": [
      {
       "output_type": "stream",
       "stream": "stdout",
       "text": [
        "                 H     E     A     G     A     W     G     H     E     E\n",
        "         0.0  -8.0 -16.0 -24.0 -32.0 -40.0 -48.0 -56.0 -64.0 -72.0 -80.0\n",
        "     P  -8.0  -2.0  -9.0 -17.0 -25.0 -33.0 -41.0 -49.0 -57.0 -65.0 -73.0\n",
        "     A -16.0 -10.0  -3.0  -4.0 -12.0 -20.0 -28.0 -36.0 -44.0 -52.0 -60.0\n",
        "     W -24.0 -18.0 -11.0  -6.0  -7.0 -15.0  -5.0 -13.0 -21.0 -29.0 -37.0\n",
        "     H -32.0 -14.0 -18.0 -13.0  -8.0  -9.0 -13.0  -7.0  -3.0 -11.0 -19.0\n",
        "     E -40.0 -22.0  -8.0 -16.0 -16.0  -9.0 -12.0 -15.0  -7.0   3.0  -5.0\n",
        "     A -48.0 -30.0 -16.0  -3.0 -11.0 -11.0 -12.0 -12.0 -15.0  -5.0   2.0\n",
        "     E -56.0 -38.0 -24.0 -11.0  -6.0 -12.0 -14.0 -15.0 -12.0  -9.0   1.0\n"
       ]
      }
     ],
     "prompt_number": 23
    },
    {
     "cell_type": "code",
     "collapsed": false,
     "input": [
      "print(format_traceback_matrix(seq1, seq2, traceback_matrix))"
     ],
     "language": "python",
     "metadata": {},
     "outputs": [
      {
       "output_type": "stream",
       "stream": "stdout",
       "text": [
        "                 H     E     A     G     A     W     G     H     E     E\n",
        "           *     -     -     -     -     -     -     -     -     -     -\n",
        "     P     |     \\     \\     -     -     -     -     -     -     -     -\n",
        "     A     |     \\     \\     \\     -     -     -     -     -     -     -\n",
        "     W     |     |     |     \\     \\     -     \\     -     -     -     -\n",
        "     H     |     \\     \\     \\     \\     \\     |     \\     \\     -     -\n",
        "     E     |     |     \\     -     \\     \\     \\     |     \\     \\     -\n",
        "     A     |     |     |     \\     -     \\     \\     \\     |     |     \\\n",
        "     E     |     |     \\     |     \\     \\     \\     \\     \\     \\     \\\n"
       ]
      }
     ],
     "prompt_number": 24
    },
    {
     "cell_type": "markdown",
     "metadata": {},
     "source": [
      "**Step 4**: Transcribe the alignment.\n",
      "\n",
      "We can now read the dynamic programming and traceback matrices to transcribe and score the alignment of sequences 1 and 2. To do this, we start at the bottom right of the matrices and traceback the arrows to cell $(0, 0)$.  \n",
      "\n",
      "* Every time we hit a vertical arrow (represented by `|`), we consume a character from sequence 2 (the vertical sequence) and add a gap to sequence 1. \n",
      "* Every time we hit a horizontal arrow (represented by `-`), we consume a character from sequence 1 (the vertical sequence) and add a gap to sequence 2.\n",
      "* Every time we hit a diagonal arrow (represented by `\\`), we consume a character from sequence 1 and sequence 2.\n",
      "\n",
      "As you transcribe the alignment, write sequence 1 on top of sequence 2, and work from right to left (since you are working backwards through the matrix).\n",
      "\n",
      "The score in the bottom right cell of the matrix is the score for the alignment.\n",
      "\n",
      "Work through this process on paper, and then review the function in the next cell to see how this looks in python."
     ]
    },
    {
     "cell_type": "code",
     "collapsed": false,
     "input": [
      "from skbio.core.alignment.pairwise import _traceback\n",
      "%psource _traceback"
     ],
     "language": "python",
     "metadata": {},
     "outputs": [
      {
       "output_type": "stream",
       "stream": "stdout",
       "text": [
        "\u001b[0;32mdef\u001b[0m \u001b[0m_traceback\u001b[0m\u001b[0;34m(\u001b[0m\u001b[0mtraceback_matrix\u001b[0m\u001b[0;34m,\u001b[0m \u001b[0mscore_matrix\u001b[0m\u001b[0;34m,\u001b[0m \u001b[0mseq1\u001b[0m\u001b[0;34m,\u001b[0m \u001b[0mseq2\u001b[0m\u001b[0;34m,\u001b[0m \u001b[0mstart_row\u001b[0m\u001b[0;34m,\u001b[0m\u001b[0;34m\u001b[0m\n",
        "\u001b[0;34m\u001b[0m               \u001b[0mstart_col\u001b[0m\u001b[0;34m,\u001b[0m \u001b[0mgap_character\u001b[0m\u001b[0;34m=\u001b[0m\u001b[0;34m'-'\u001b[0m\u001b[0;34m)\u001b[0m\u001b[0;34m:\u001b[0m\u001b[0;34m\u001b[0m\n",
        "\u001b[0;34m\u001b[0m    \u001b[0;31m# cache some values for simpler\u001b[0m\u001b[0;34m\u001b[0m\n",
        "\u001b[0;34m\u001b[0m    \u001b[0maend\u001b[0m \u001b[0;34m=\u001b[0m \u001b[0m_traceback_encoding\u001b[0m\u001b[0;34m[\u001b[0m\u001b[0;34m'alignment-end'\u001b[0m\u001b[0;34m]\u001b[0m\u001b[0;34m\u001b[0m\n",
        "\u001b[0;34m\u001b[0m    \u001b[0mmatch\u001b[0m \u001b[0;34m=\u001b[0m \u001b[0m_traceback_encoding\u001b[0m\u001b[0;34m[\u001b[0m\u001b[0;34m'match'\u001b[0m\u001b[0;34m]\u001b[0m\u001b[0;34m\u001b[0m\n",
        "\u001b[0;34m\u001b[0m    \u001b[0mvgap\u001b[0m \u001b[0;34m=\u001b[0m \u001b[0m_traceback_encoding\u001b[0m\u001b[0;34m[\u001b[0m\u001b[0;34m'vertical-gap'\u001b[0m\u001b[0;34m]\u001b[0m\u001b[0;34m\u001b[0m\n",
        "\u001b[0;34m\u001b[0m    \u001b[0mhgap\u001b[0m \u001b[0;34m=\u001b[0m \u001b[0m_traceback_encoding\u001b[0m\u001b[0;34m[\u001b[0m\u001b[0;34m'horizontal-gap'\u001b[0m\u001b[0;34m]\u001b[0m\u001b[0;34m\u001b[0m\n",
        "\u001b[0;34m\u001b[0m\u001b[0;34m\u001b[0m\n",
        "\u001b[0;34m\u001b[0m    \u001b[0maligned_seq1\u001b[0m \u001b[0;34m=\u001b[0m \u001b[0;34m[\u001b[0m\u001b[0;34m]\u001b[0m\u001b[0;34m\u001b[0m\n",
        "\u001b[0;34m\u001b[0m    \u001b[0maligned_seq2\u001b[0m \u001b[0;34m=\u001b[0m \u001b[0;34m[\u001b[0m\u001b[0;34m]\u001b[0m\u001b[0;34m\u001b[0m\n",
        "\u001b[0;34m\u001b[0m\u001b[0;34m\u001b[0m\n",
        "\u001b[0;34m\u001b[0m    \u001b[0mcurrent_row\u001b[0m \u001b[0;34m=\u001b[0m \u001b[0mstart_row\u001b[0m\u001b[0;34m\u001b[0m\n",
        "\u001b[0;34m\u001b[0m    \u001b[0mcurrent_col\u001b[0m \u001b[0;34m=\u001b[0m \u001b[0mstart_col\u001b[0m\u001b[0;34m\u001b[0m\n",
        "\u001b[0;34m\u001b[0m\u001b[0;34m\u001b[0m\n",
        "\u001b[0;34m\u001b[0m    \u001b[0mbest_score\u001b[0m \u001b[0;34m=\u001b[0m \u001b[0mscore_matrix\u001b[0m\u001b[0;34m[\u001b[0m\u001b[0mcurrent_row\u001b[0m\u001b[0;34m,\u001b[0m \u001b[0mcurrent_col\u001b[0m\u001b[0;34m]\u001b[0m\u001b[0;34m\u001b[0m\n",
        "\u001b[0;34m\u001b[0m    \u001b[0mcurrent_value\u001b[0m \u001b[0;34m=\u001b[0m \u001b[0mNone\u001b[0m\u001b[0;34m\u001b[0m\n",
        "\u001b[0;34m\u001b[0m\u001b[0;34m\u001b[0m\n",
        "\u001b[0;34m\u001b[0m    \u001b[0;32mwhile\u001b[0m \u001b[0mcurrent_value\u001b[0m \u001b[0;34m!=\u001b[0m \u001b[0maend\u001b[0m\u001b[0;34m:\u001b[0m\u001b[0;34m\u001b[0m\n",
        "\u001b[0;34m\u001b[0m        \u001b[0mcurrent_value\u001b[0m \u001b[0;34m=\u001b[0m \u001b[0mtraceback_matrix\u001b[0m\u001b[0;34m[\u001b[0m\u001b[0mcurrent_row\u001b[0m\u001b[0;34m,\u001b[0m \u001b[0mcurrent_col\u001b[0m\u001b[0;34m]\u001b[0m\u001b[0;34m\u001b[0m\n",
        "\u001b[0;34m\u001b[0m\u001b[0;34m\u001b[0m\n",
        "\u001b[0;34m\u001b[0m        \u001b[0;32mif\u001b[0m \u001b[0mcurrent_value\u001b[0m \u001b[0;34m==\u001b[0m \u001b[0mmatch\u001b[0m\u001b[0;34m:\u001b[0m\u001b[0;34m\u001b[0m\n",
        "\u001b[0;34m\u001b[0m            \u001b[0maligned_seq1\u001b[0m\u001b[0;34m.\u001b[0m\u001b[0mappend\u001b[0m\u001b[0;34m(\u001b[0m\u001b[0mseq1\u001b[0m\u001b[0;34m[\u001b[0m\u001b[0mcurrent_col\u001b[0m\u001b[0;34m-\u001b[0m\u001b[0;36m1\u001b[0m\u001b[0;34m]\u001b[0m\u001b[0;34m)\u001b[0m\u001b[0;34m\u001b[0m\n",
        "\u001b[0;34m\u001b[0m            \u001b[0maligned_seq2\u001b[0m\u001b[0;34m.\u001b[0m\u001b[0mappend\u001b[0m\u001b[0;34m(\u001b[0m\u001b[0mseq2\u001b[0m\u001b[0;34m[\u001b[0m\u001b[0mcurrent_row\u001b[0m\u001b[0;34m-\u001b[0m\u001b[0;36m1\u001b[0m\u001b[0;34m]\u001b[0m\u001b[0;34m)\u001b[0m\u001b[0;34m\u001b[0m\n",
        "\u001b[0;34m\u001b[0m            \u001b[0mcurrent_row\u001b[0m \u001b[0;34m-=\u001b[0m \u001b[0;36m1\u001b[0m\u001b[0;34m\u001b[0m\n",
        "\u001b[0;34m\u001b[0m            \u001b[0mcurrent_col\u001b[0m \u001b[0;34m-=\u001b[0m \u001b[0;36m1\u001b[0m\u001b[0;34m\u001b[0m\n",
        "\u001b[0;34m\u001b[0m        \u001b[0;32melif\u001b[0m \u001b[0mcurrent_value\u001b[0m \u001b[0;34m==\u001b[0m \u001b[0mvgap\u001b[0m\u001b[0;34m:\u001b[0m\u001b[0;34m\u001b[0m\n",
        "\u001b[0;34m\u001b[0m            \u001b[0maligned_seq1\u001b[0m\u001b[0;34m.\u001b[0m\u001b[0mappend\u001b[0m\u001b[0;34m(\u001b[0m\u001b[0;34m'-'\u001b[0m\u001b[0;34m)\u001b[0m\u001b[0;34m\u001b[0m\n",
        "\u001b[0;34m\u001b[0m            \u001b[0maligned_seq2\u001b[0m\u001b[0;34m.\u001b[0m\u001b[0mappend\u001b[0m\u001b[0;34m(\u001b[0m\u001b[0mseq2\u001b[0m\u001b[0;34m[\u001b[0m\u001b[0mcurrent_row\u001b[0m\u001b[0;34m-\u001b[0m\u001b[0;36m1\u001b[0m\u001b[0;34m]\u001b[0m\u001b[0;34m)\u001b[0m\u001b[0;34m\u001b[0m\n",
        "\u001b[0;34m\u001b[0m            \u001b[0mcurrent_row\u001b[0m \u001b[0;34m-=\u001b[0m \u001b[0;36m1\u001b[0m\u001b[0;34m\u001b[0m\n",
        "\u001b[0;34m\u001b[0m        \u001b[0;32melif\u001b[0m \u001b[0mcurrent_value\u001b[0m \u001b[0;34m==\u001b[0m \u001b[0mhgap\u001b[0m\u001b[0;34m:\u001b[0m\u001b[0;34m\u001b[0m\n",
        "\u001b[0;34m\u001b[0m            \u001b[0maligned_seq1\u001b[0m\u001b[0;34m.\u001b[0m\u001b[0mappend\u001b[0m\u001b[0;34m(\u001b[0m\u001b[0mseq1\u001b[0m\u001b[0;34m[\u001b[0m\u001b[0mcurrent_col\u001b[0m\u001b[0;34m-\u001b[0m\u001b[0;36m1\u001b[0m\u001b[0;34m]\u001b[0m\u001b[0;34m)\u001b[0m\u001b[0;34m\u001b[0m\n",
        "\u001b[0;34m\u001b[0m            \u001b[0maligned_seq2\u001b[0m\u001b[0;34m.\u001b[0m\u001b[0mappend\u001b[0m\u001b[0;34m(\u001b[0m\u001b[0;34m'-'\u001b[0m\u001b[0;34m)\u001b[0m\u001b[0;34m\u001b[0m\n",
        "\u001b[0;34m\u001b[0m            \u001b[0mcurrent_col\u001b[0m \u001b[0;34m-=\u001b[0m \u001b[0;36m1\u001b[0m\u001b[0;34m\u001b[0m\n",
        "\u001b[0;34m\u001b[0m        \u001b[0;32melif\u001b[0m \u001b[0mcurrent_value\u001b[0m \u001b[0;34m==\u001b[0m \u001b[0maend\u001b[0m\u001b[0;34m:\u001b[0m\u001b[0;34m\u001b[0m\n",
        "\u001b[0;34m\u001b[0m            \u001b[0;32mcontinue\u001b[0m\u001b[0;34m\u001b[0m\n",
        "\u001b[0;34m\u001b[0m        \u001b[0;32melse\u001b[0m\u001b[0;34m:\u001b[0m\u001b[0;34m\u001b[0m\n",
        "\u001b[0;34m\u001b[0m            \u001b[0;32mraise\u001b[0m \u001b[0mValueError\u001b[0m\u001b[0;34m(\u001b[0m\u001b[0;34m\u001b[0m\n",
        "\u001b[0;34m\u001b[0m                \u001b[0;34m\"Invalid value in traceback matrix: %s\"\u001b[0m \u001b[0;34m%\u001b[0m \u001b[0mcurrent_value\u001b[0m\u001b[0;34m)\u001b[0m\u001b[0;34m\u001b[0m\n",
        "\u001b[0;34m\u001b[0m\u001b[0;34m\u001b[0m\n",
        "\u001b[0;34m\u001b[0m    \u001b[0;32mreturn\u001b[0m \u001b[0;34m(\u001b[0m\u001b[0;34m''\u001b[0m\u001b[0;34m.\u001b[0m\u001b[0mjoin\u001b[0m\u001b[0;34m(\u001b[0m\u001b[0mmap\u001b[0m\u001b[0;34m(\u001b[0m\u001b[0mstr\u001b[0m\u001b[0;34m,\u001b[0m \u001b[0maligned_seq1\u001b[0m\u001b[0;34m[\u001b[0m\u001b[0;34m:\u001b[0m\u001b[0;34m:\u001b[0m\u001b[0;34m-\u001b[0m\u001b[0;36m1\u001b[0m\u001b[0;34m]\u001b[0m\u001b[0;34m)\u001b[0m\u001b[0;34m)\u001b[0m\u001b[0;34m,\u001b[0m\u001b[0;34m\u001b[0m\n",
        "\u001b[0;34m\u001b[0m            \u001b[0;34m''\u001b[0m\u001b[0;34m.\u001b[0m\u001b[0mjoin\u001b[0m\u001b[0;34m(\u001b[0m\u001b[0mmap\u001b[0m\u001b[0;34m(\u001b[0m\u001b[0mstr\u001b[0m\u001b[0;34m,\u001b[0m \u001b[0maligned_seq2\u001b[0m\u001b[0;34m[\u001b[0m\u001b[0;34m:\u001b[0m\u001b[0;34m:\u001b[0m\u001b[0;34m-\u001b[0m\u001b[0;36m1\u001b[0m\u001b[0;34m]\u001b[0m\u001b[0;34m)\u001b[0m\u001b[0;34m)\u001b[0m\u001b[0;34m,\u001b[0m\u001b[0;34m\u001b[0m\n",
        "\u001b[0;34m\u001b[0m            \u001b[0mbest_score\u001b[0m\u001b[0;34m,\u001b[0m \u001b[0mcurrent_col\u001b[0m\u001b[0;34m,\u001b[0m \u001b[0mcurrent_row\u001b[0m\u001b[0;34m)\u001b[0m\u001b[0;34m\u001b[0m\u001b[0m\n",
        "\n"
       ]
      }
     ],
     "prompt_number": 25
    },
    {
     "cell_type": "markdown",
     "metadata": {},
     "source": [
      "You can then execute this as follows, and print out the resulting alignment."
     ]
    },
    {
     "cell_type": "code",
     "collapsed": false,
     "input": [
      "aligned_seq1, aligned_seq2, score, _, _ = _traceback(traceback_matrix,nw_matrix,seq1,seq2, nw_matrix.shape[0]-1, nw_matrix.shape[1]-1)\n",
      "\n",
      "print(aligned_seq1)\n",
      "print(aligned_seq2)\n",
      "print(score)"
     ],
     "language": "python",
     "metadata": {},
     "outputs": [
      {
       "output_type": "stream",
       "stream": "stdout",
       "text": [
        "HEAGAWGHE-E\n",
        "-PA--W-HEAE\n",
        "1.0\n"
       ]
      }
     ],
     "prompt_number": 26
    },
    {
     "cell_type": "markdown",
     "metadata": {},
     "source": [
      "**Next steps**: All of those steps are a bit ugly, so as a developer you'd want to making this functionality generally accessible to users. To do that, you'd probably want to define a function that takes all of the necessary input and provides the aligned sequences and the score as output, without requiring the user to make several function calls. What are the required inputs? What steps would this function need to perform? "
     ]
    },
    {
     "cell_type": "code",
     "collapsed": false,
     "input": [
      "from skbio.core.alignment.pairwise import global_pairwise_align\n",
      "%psource global_pairwise_align"
     ],
     "language": "python",
     "metadata": {},
     "outputs": [
      {
       "output_type": "stream",
       "stream": "stdout",
       "text": [
        "\u001b[0;32mdef\u001b[0m \u001b[0mglobal_pairwise_align\u001b[0m\u001b[0;34m(\u001b[0m\u001b[0mseq1\u001b[0m\u001b[0;34m,\u001b[0m \u001b[0mseq2\u001b[0m\u001b[0;34m,\u001b[0m \u001b[0mgap_open_penalty\u001b[0m\u001b[0;34m,\u001b[0m \u001b[0mgap_extend_penalty\u001b[0m\u001b[0;34m,\u001b[0m\u001b[0;34m\u001b[0m\n",
        "\u001b[0;34m\u001b[0m                          \u001b[0msubstitution_matrix\u001b[0m\u001b[0;34m)\u001b[0m\u001b[0;34m:\u001b[0m\u001b[0;34m\u001b[0m\n",
        "\u001b[0;34m\u001b[0m    \u001b[0;34m\"\"\"Globally align exactly two seqs with Needleman-Wunsch\u001b[0m\n",
        "\u001b[0;34m\u001b[0m\n",
        "\u001b[0;34m    Parameters\u001b[0m\n",
        "\u001b[0;34m    ----------\u001b[0m\n",
        "\u001b[0;34m    seq1 : str or BiologicalSequence\u001b[0m\n",
        "\u001b[0;34m        The first unaligned sequence.\u001b[0m\n",
        "\u001b[0;34m    seq2 : str or BiologicalSequence\u001b[0m\n",
        "\u001b[0;34m        The second unaligned sequence.\u001b[0m\n",
        "\u001b[0;34m    gap_open_penalty : int or float\u001b[0m\n",
        "\u001b[0;34m        Penalty for opening a gap (this is substracted from previous best\u001b[0m\n",
        "\u001b[0;34m        alignment score, so is typically positive).\u001b[0m\n",
        "\u001b[0;34m    gap_extend_penalty : int or float\u001b[0m\n",
        "\u001b[0;34m        Penalty for extending a gap (this is substracted from previous best\u001b[0m\n",
        "\u001b[0;34m        alignment score, so is typically positive).\u001b[0m\n",
        "\u001b[0;34m    substitution_matrix: 2D dict (or similar)\u001b[0m\n",
        "\u001b[0;34m        Lookup for substitution scores (these values are added to the\u001b[0m\n",
        "\u001b[0;34m        previous best alignment score).\u001b[0m\n",
        "\u001b[0;34m\u001b[0m\n",
        "\u001b[0;34m    Returns\u001b[0m\n",
        "\u001b[0;34m    -------\u001b[0m\n",
        "\u001b[0;34m    skbio.Alignment\u001b[0m\n",
        "\u001b[0;34m        ``Alignment`` object containing the aligned sequences as well as\u001b[0m\n",
        "\u001b[0;34m        details about the alignment.\u001b[0m\n",
        "\u001b[0;34m\u001b[0m\n",
        "\u001b[0;34m    See Also\u001b[0m\n",
        "\u001b[0;34m    --------\u001b[0m\n",
        "\u001b[0;34m    local_pairwise_align\u001b[0m\n",
        "\u001b[0;34m    local_pairwise_align_protein\u001b[0m\n",
        "\u001b[0;34m    local_pairwise_align_nucleotide\u001b[0m\n",
        "\u001b[0;34m    skbio.core.alignment.local_pairwise_align_ssw\u001b[0m\n",
        "\u001b[0;34m    global_pairwise_align_protein\u001b[0m\n",
        "\u001b[0;34m    global_pairwise_align_nucelotide\u001b[0m\n",
        "\u001b[0;34m\u001b[0m\n",
        "\u001b[0;34m    Notes\u001b[0m\n",
        "\u001b[0;34m    -----\u001b[0m\n",
        "\u001b[0;34m    This algorithm (in a slightly more basic form) was originally described\u001b[0m\n",
        "\u001b[0;34m    in [1]_. The scikit-bio implementation was validated against the\u001b[0m\n",
        "\u001b[0;34m    EMBOSS needle web server [2]_.\u001b[0m\n",
        "\u001b[0;34m\u001b[0m\n",
        "\u001b[0;34m    References\u001b[0m\n",
        "\u001b[0;34m    ----------\u001b[0m\n",
        "\u001b[0;34m    .. [1] A general method applicable to the search for similarities in\u001b[0m\n",
        "\u001b[0;34m       the amino acid sequence of two proteins.\u001b[0m\n",
        "\u001b[0;34m       Needleman SB, Wunsch CD.\u001b[0m\n",
        "\u001b[0;34m       J Mol Biol. 1970 Mar;48(3):443-53.\u001b[0m\n",
        "\u001b[0;34m    .. [2] http://www.ebi.ac.uk/Tools/psa/emboss_needle/\u001b[0m\n",
        "\u001b[0;34m\u001b[0m\n",
        "\u001b[0;34m    \"\"\"\u001b[0m\u001b[0;34m\u001b[0m\n",
        "\u001b[0;34m\u001b[0m    \u001b[0mwarn\u001b[0m\u001b[0;34m(\u001b[0m\u001b[0;34m\"You're using skbio's python implementation of Needleman-Wunsch \"\u001b[0m\u001b[0;34m\u001b[0m\n",
        "\u001b[0;34m\u001b[0m         \u001b[0;34m\"alignment. This is known to be very slow (e.g., thousands of times \"\u001b[0m\u001b[0;34m\u001b[0m\n",
        "\u001b[0;34m\u001b[0m         \u001b[0;34m\"slower than a native C implementation). We'll be adding a faster \"\u001b[0m\u001b[0;34m\u001b[0m\n",
        "\u001b[0;34m\u001b[0m         \u001b[0;34m\"version soon (see https://github.com/biocore/scikit-bio/issues/254 \"\u001b[0m\u001b[0;34m\u001b[0m\n",
        "\u001b[0;34m\u001b[0m         \u001b[0;34m\"to track progress on this).\"\u001b[0m\u001b[0;34m,\u001b[0m \u001b[0mEfficiencyWarning\u001b[0m\u001b[0;34m)\u001b[0m\u001b[0;34m\u001b[0m\n",
        "\u001b[0;34m\u001b[0m\u001b[0;34m\u001b[0m\n",
        "\u001b[0;34m\u001b[0m    \u001b[0mscore_matrix\u001b[0m\u001b[0;34m,\u001b[0m \u001b[0mtraceback_matrix\u001b[0m \u001b[0;34m=\u001b[0m \\\n",
        "        \u001b[0m_compute_score_and_traceback_matrices\u001b[0m\u001b[0;34m(\u001b[0m\u001b[0;34m\u001b[0m\n",
        "\u001b[0;34m\u001b[0m            \u001b[0mseq1\u001b[0m\u001b[0;34m,\u001b[0m \u001b[0mseq2\u001b[0m\u001b[0;34m,\u001b[0m \u001b[0mgap_open_penalty\u001b[0m\u001b[0;34m,\u001b[0m \u001b[0mgap_extend_penalty\u001b[0m\u001b[0;34m,\u001b[0m\u001b[0;34m\u001b[0m\n",
        "\u001b[0;34m\u001b[0m            \u001b[0msubstitution_matrix\u001b[0m\u001b[0;34m,\u001b[0m \u001b[0mnew_alignment_score\u001b[0m\u001b[0;34m=\u001b[0m\u001b[0;34m-\u001b[0m\u001b[0mnp\u001b[0m\u001b[0;34m.\u001b[0m\u001b[0minf\u001b[0m\u001b[0;34m,\u001b[0m\u001b[0;34m\u001b[0m\n",
        "\u001b[0;34m\u001b[0m            \u001b[0minit_matrices_f\u001b[0m\u001b[0;34m=\u001b[0m\u001b[0m_init_matrices_nw\u001b[0m\u001b[0;34m)\u001b[0m\u001b[0;34m\u001b[0m\n",
        "\u001b[0;34m\u001b[0m\u001b[0;34m\u001b[0m\n",
        "\u001b[0;34m\u001b[0m    \u001b[0mend_row_position\u001b[0m \u001b[0;34m=\u001b[0m \u001b[0mtraceback_matrix\u001b[0m\u001b[0;34m.\u001b[0m\u001b[0mshape\u001b[0m\u001b[0;34m[\u001b[0m\u001b[0;36m0\u001b[0m\u001b[0;34m]\u001b[0m \u001b[0;34m-\u001b[0m \u001b[0;36m1\u001b[0m\u001b[0;34m\u001b[0m\n",
        "\u001b[0;34m\u001b[0m    \u001b[0mend_col_position\u001b[0m \u001b[0;34m=\u001b[0m \u001b[0mtraceback_matrix\u001b[0m\u001b[0;34m.\u001b[0m\u001b[0mshape\u001b[0m\u001b[0;34m[\u001b[0m\u001b[0;36m1\u001b[0m\u001b[0;34m]\u001b[0m \u001b[0;34m-\u001b[0m \u001b[0;36m1\u001b[0m\u001b[0;34m\u001b[0m\n",
        "\u001b[0;34m\u001b[0m\u001b[0;34m\u001b[0m\n",
        "\u001b[0;34m\u001b[0m    \u001b[0maligned1\u001b[0m\u001b[0;34m,\u001b[0m \u001b[0maligned2\u001b[0m\u001b[0;34m,\u001b[0m \u001b[0mscore\u001b[0m\u001b[0;34m,\u001b[0m \u001b[0mseq1_start_position\u001b[0m\u001b[0;34m,\u001b[0m \u001b[0mseq2_start_position\u001b[0m \u001b[0;34m=\u001b[0m \\\n",
        "        \u001b[0m_traceback\u001b[0m\u001b[0;34m(\u001b[0m\u001b[0mtraceback_matrix\u001b[0m\u001b[0;34m,\u001b[0m \u001b[0mscore_matrix\u001b[0m\u001b[0;34m,\u001b[0m \u001b[0mseq1\u001b[0m\u001b[0;34m,\u001b[0m \u001b[0mseq2\u001b[0m\u001b[0;34m,\u001b[0m\u001b[0;34m\u001b[0m\n",
        "\u001b[0;34m\u001b[0m                   \u001b[0mend_row_position\u001b[0m\u001b[0;34m,\u001b[0m \u001b[0mend_col_position\u001b[0m\u001b[0;34m)\u001b[0m\u001b[0;34m\u001b[0m\n",
        "\u001b[0;34m\u001b[0m    \u001b[0mstart_end_positions\u001b[0m \u001b[0;34m=\u001b[0m \u001b[0;34m[\u001b[0m\u001b[0;34m(\u001b[0m\u001b[0mseq1_start_position\u001b[0m\u001b[0;34m,\u001b[0m \u001b[0mend_col_position\u001b[0m\u001b[0;34m-\u001b[0m\u001b[0;36m1\u001b[0m\u001b[0;34m)\u001b[0m\u001b[0;34m,\u001b[0m\u001b[0;34m\u001b[0m\n",
        "\u001b[0;34m\u001b[0m                           \u001b[0;34m(\u001b[0m\u001b[0mseq2_start_position\u001b[0m\u001b[0;34m,\u001b[0m \u001b[0mend_row_position\u001b[0m\u001b[0;34m-\u001b[0m\u001b[0;36m1\u001b[0m\u001b[0;34m)\u001b[0m\u001b[0;34m]\u001b[0m\u001b[0;34m\u001b[0m\n",
        "\u001b[0;34m\u001b[0m\u001b[0;34m\u001b[0m\n",
        "\u001b[0;34m\u001b[0m    \u001b[0;31m# Get ids to assign to the output sequences in the result Alignment object\u001b[0m\u001b[0;34m\u001b[0m\n",
        "\u001b[0;34m\u001b[0m    \u001b[0mseq1_id\u001b[0m\u001b[0;34m,\u001b[0m \u001b[0mseq2_id\u001b[0m \u001b[0;34m=\u001b[0m \u001b[0m_get_seq_ids\u001b[0m\u001b[0;34m(\u001b[0m\u001b[0mseq1\u001b[0m\u001b[0;34m,\u001b[0m \u001b[0mseq2\u001b[0m\u001b[0;34m)\u001b[0m\u001b[0;34m\u001b[0m\n",
        "\u001b[0;34m\u001b[0m\u001b[0;34m\u001b[0m\n",
        "\u001b[0;34m\u001b[0m    \u001b[0;32mreturn\u001b[0m \u001b[0mAlignment\u001b[0m\u001b[0;34m(\u001b[0m\u001b[0;34m\u001b[0m\n",
        "\u001b[0;34m\u001b[0m        \u001b[0;34m[\u001b[0m\u001b[0mBiologicalSequence\u001b[0m\u001b[0;34m(\u001b[0m\u001b[0maligned1\u001b[0m\u001b[0;34m,\u001b[0m \u001b[0mid\u001b[0m\u001b[0;34m=\u001b[0m\u001b[0mseq1_id\u001b[0m\u001b[0;34m)\u001b[0m\u001b[0;34m,\u001b[0m\u001b[0;34m\u001b[0m\n",
        "\u001b[0;34m\u001b[0m         \u001b[0mBiologicalSequence\u001b[0m\u001b[0;34m(\u001b[0m\u001b[0maligned2\u001b[0m\u001b[0;34m,\u001b[0m \u001b[0mid\u001b[0m\u001b[0;34m=\u001b[0m\u001b[0mseq2_id\u001b[0m\u001b[0;34m)\u001b[0m\u001b[0;34m]\u001b[0m\u001b[0;34m,\u001b[0m\u001b[0;34m\u001b[0m\n",
        "\u001b[0;34m\u001b[0m        \u001b[0mscore\u001b[0m\u001b[0;34m=\u001b[0m\u001b[0mscore\u001b[0m\u001b[0;34m,\u001b[0m \u001b[0mstart_end_positions\u001b[0m\u001b[0;34m=\u001b[0m\u001b[0mstart_end_positions\u001b[0m\u001b[0;34m)\u001b[0m\u001b[0;34m\u001b[0m\u001b[0m\n",
        "\n"
       ]
      }
     ],
     "prompt_number": 27
    },
    {
     "cell_type": "code",
     "collapsed": false,
     "input": [
      "alignment = global_pairwise_align(\"HEAGAWGHEE\", \"PAWHEAE\", 8, 8, blosum50)\n",
      "print(str(alignment))\n",
      "print(alignment.score())"
     ],
     "language": "python",
     "metadata": {},
     "outputs": [
      {
       "output_type": "stream",
       "stream": "stdout",
       "text": [
        ">0\n",
        "HEAGAWGHE-E\n",
        ">1\n",
        "-PA--W-HEAE\n",
        "\n",
        "1.0\n"
       ]
      },
      {
       "output_type": "stream",
       "stream": "stderr",
       "text": [
        "/Users/caporaso/.virtualenvs/iab-pip/lib/python2.7/site-packages/skbio/core/alignment/pairwise.py:506: EfficiencyWarning: You're using skbio's python implementation of Needleman-Wunsch alignment. This is known to be very slow (e.g., thousands of times slower than a native C implementation). We'll be adding a faster version soon (see https://github.com/biocore/scikit-bio/issues/254 to track progress on this).\n",
        "  \"to track progress on this).\", EfficiencyWarning)\n"
       ]
      }
     ],
     "prompt_number": 28
    },
    {
     "cell_type": "heading",
     "level": 2,
     "metadata": {},
     "source": [
      "Global versus local alignment"
     ]
    },
    {
     "cell_type": "markdown",
     "metadata": {},
     "source": [
      "The alignment we just constructed is what's known as a *global alignment*, meaning we align both sequences from the beginning through the end. This has some important specific applications: for example, if we have two full-length protein sequences, and we have a crystal structure for one of them, we may want to have a direct mapping between all positions in both sequences. Probably more common however is local alignment: where we have a pair of sequences that we suspect may partially overlap each other, and we want to know what the best possible alignment of all or part of one sequence is with all or part of the other sequences. Perhaps the most widely used application of this is in the BLAST search algorithm, where we a query sequence and we want to know what the closest match (or matches) are in a reference database containing many different gene sequences. In this case, the whole reference database could be represented as a single sequence, as we could perform a local alignment against it to find the region that contains the highest scoring match. "
     ]
    },
    {
     "cell_type": "heading",
     "level": 2,
     "metadata": {},
     "source": [
      "Smith-Waterman local sequence alignment"
     ]
    },
    {
     "cell_type": "markdown",
     "metadata": {},
     "source": [
      "The Smith-Waterman algorithm is used for performing pairwise local alignment. It is nearly identical to Needleman-Wunsch, with three small important differences. \n",
      "\n",
      "First, initialization is easier:\n",
      "\n",
      "$F(0, 0) = 0$\n",
      "\n",
      "$F(i, 0) = 0$\n",
      "\n",
      "$F(0, j) = 0$"
     ]
    },
    {
     "cell_type": "code",
     "collapsed": false,
     "input": [
      "data = []\n",
      "# This is a hack: to pad the matrix with an \n",
      "# extra row and column at the beginning I'm just prepending a \n",
      "# space to each sequence. Need to improve handling of that.\n",
      "padded_seq1 = \" \" + seq1\n",
      "padded_seq2 = \" \" + seq2\n",
      "\n",
      "for p in padded_seq2:\n",
      "    data.append(['-']*len(padded_seq1))\n",
      "\n",
      "print(format_matrix(padded_seq1, padded_seq2, data))"
     ],
     "language": "python",
     "metadata": {},
     "outputs": [
      {
       "output_type": "stream",
       "stream": "stdout",
       "text": [
        "        H  E  A  G  A  W  G  H  E  E\n",
        "     -  -  -  -  -  -  -  -  -  -  -\n",
        "  P  -  -  -  -  -  -  -  -  -  -  -\n",
        "  A  -  -  -  -  -  -  -  -  -  -  -\n",
        "  W  -  -  -  -  -  -  -  -  -  -  -\n",
        "  H  -  -  -  -  -  -  -  -  -  -  -\n",
        "  E  -  -  -  -  -  -  -  -  -  -  -\n",
        "  A  -  -  -  -  -  -  -  -  -  -  -\n",
        "  E  -  -  -  -  -  -  -  -  -  -  -\n"
       ]
      }
     ],
     "prompt_number": 29
    },
    {
     "cell_type": "code",
     "collapsed": false,
     "input": [
      "data[0][0] = 0\n",
      "for i in range(1,len(padded_seq2)):\n",
      "    data[i][0] = 0\n",
      "\n",
      "for j in range(1,len(padded_seq1)):\n",
      "    data[0][j] = 0\n",
      "\n",
      "print(format_matrix(padded_seq1, padded_seq2, data))"
     ],
     "language": "python",
     "metadata": {},
     "outputs": [
      {
       "output_type": "stream",
       "stream": "stdout",
       "text": [
        "        H  E  A  G  A  W  G  H  E  E\n",
        "     0  0  0  0  0  0  0  0  0  0  0\n",
        "  P  0  -  -  -  -  -  -  -  -  -  -\n",
        "  A  0  -  -  -  -  -  -  -  -  -  -\n",
        "  W  0  -  -  -  -  -  -  -  -  -  -\n",
        "  H  0  -  -  -  -  -  -  -  -  -  -\n",
        "  E  0  -  -  -  -  -  -  -  -  -  -\n",
        "  A  0  -  -  -  -  -  -  -  -  -  -\n",
        "  E  0  -  -  -  -  -  -  -  -  -  -\n"
       ]
      }
     ],
     "prompt_number": 30
    },
    {
     "cell_type": "markdown",
     "metadata": {},
     "source": [
      "Next, there is one additional term in the scoring function:\n",
      "\n",
      "```\n",
      "F(i, j) = max(0, \n",
      "              F(i-1, j-1) + s(xi, yj),\n",
      "              F(i-1, j) - d,\n",
      "              F(i, j-1) - d)\n",
      "```"
     ]
    },
    {
     "cell_type": "code",
     "collapsed": false,
     "input": [
      "%psource _compute_score_and_traceback_matrices"
     ],
     "language": "python",
     "metadata": {},
     "outputs": [
      {
       "output_type": "stream",
       "stream": "stdout",
       "text": [
        "\u001b[0;32mdef\u001b[0m \u001b[0m_compute_score_and_traceback_matrices\u001b[0m\u001b[0;34m(\u001b[0m\u001b[0;34m\u001b[0m\n",
        "\u001b[0;34m\u001b[0m        \u001b[0mseq1\u001b[0m\u001b[0;34m,\u001b[0m \u001b[0mseq2\u001b[0m\u001b[0;34m,\u001b[0m \u001b[0mgap_open_penalty\u001b[0m\u001b[0;34m,\u001b[0m \u001b[0mgap_extend_penalty\u001b[0m\u001b[0;34m,\u001b[0m \u001b[0msubstitution_matrix\u001b[0m\u001b[0;34m,\u001b[0m\u001b[0;34m\u001b[0m\n",
        "\u001b[0;34m\u001b[0m        \u001b[0mnew_alignment_score\u001b[0m\u001b[0;34m=\u001b[0m\u001b[0;34m-\u001b[0m\u001b[0mnp\u001b[0m\u001b[0;34m.\u001b[0m\u001b[0minf\u001b[0m\u001b[0;34m,\u001b[0m \u001b[0minit_matrices_f\u001b[0m\u001b[0;34m=\u001b[0m\u001b[0m_init_matrices_nw\u001b[0m\u001b[0;34m)\u001b[0m\u001b[0;34m:\u001b[0m\u001b[0;34m\u001b[0m\n",
        "\u001b[0;34m\u001b[0m    \u001b[0;34m\"\"\"Return dynamic programming (score) and traceback matrices\u001b[0m\n",
        "\u001b[0;34m    \"\"\"\u001b[0m\u001b[0;34m\u001b[0m\n",
        "\u001b[0;34m\u001b[0m    \u001b[0;31m# cache some values for quicker/simpler access\u001b[0m\u001b[0;34m\u001b[0m\n",
        "\u001b[0;34m\u001b[0m    \u001b[0maend\u001b[0m \u001b[0;34m=\u001b[0m \u001b[0m_traceback_encoding\u001b[0m\u001b[0;34m[\u001b[0m\u001b[0;34m'alignment-end'\u001b[0m\u001b[0;34m]\u001b[0m\u001b[0;34m\u001b[0m\n",
        "\u001b[0;34m\u001b[0m    \u001b[0mmatch\u001b[0m \u001b[0;34m=\u001b[0m \u001b[0m_traceback_encoding\u001b[0m\u001b[0;34m[\u001b[0m\u001b[0;34m'match'\u001b[0m\u001b[0;34m]\u001b[0m\u001b[0;34m\u001b[0m\n",
        "\u001b[0;34m\u001b[0m    \u001b[0mvgap\u001b[0m \u001b[0;34m=\u001b[0m \u001b[0m_traceback_encoding\u001b[0m\u001b[0;34m[\u001b[0m\u001b[0;34m'vertical-gap'\u001b[0m\u001b[0;34m]\u001b[0m\u001b[0;34m\u001b[0m\n",
        "\u001b[0;34m\u001b[0m    \u001b[0mhgap\u001b[0m \u001b[0;34m=\u001b[0m \u001b[0m_traceback_encoding\u001b[0m\u001b[0;34m[\u001b[0m\u001b[0;34m'horizontal-gap'\u001b[0m\u001b[0;34m]\u001b[0m\u001b[0;34m\u001b[0m\n",
        "\u001b[0;34m\u001b[0m\u001b[0;34m\u001b[0m\n",
        "\u001b[0;34m\u001b[0m    \u001b[0mnew_alignment_score\u001b[0m \u001b[0;34m=\u001b[0m \u001b[0;34m(\u001b[0m\u001b[0mnew_alignment_score\u001b[0m\u001b[0;34m,\u001b[0m \u001b[0maend\u001b[0m\u001b[0;34m)\u001b[0m\u001b[0;34m\u001b[0m\n",
        "\u001b[0;34m\u001b[0m\u001b[0;34m\u001b[0m\n",
        "\u001b[0;34m\u001b[0m    \u001b[0;31m# Initialize a matrix to use for scoring the alignment and for tracing\u001b[0m\u001b[0;34m\u001b[0m\n",
        "\u001b[0;34m\u001b[0m    \u001b[0;31m# back the best alignment\u001b[0m\u001b[0;34m\u001b[0m\n",
        "\u001b[0;34m\u001b[0m    \u001b[0mscore_matrix\u001b[0m\u001b[0;34m,\u001b[0m \u001b[0mtraceback_matrix\u001b[0m \u001b[0;34m=\u001b[0m \u001b[0minit_matrices_f\u001b[0m\u001b[0;34m(\u001b[0m\u001b[0;34m\u001b[0m\n",
        "\u001b[0;34m\u001b[0m        \u001b[0mseq1\u001b[0m\u001b[0;34m,\u001b[0m \u001b[0mseq2\u001b[0m\u001b[0;34m,\u001b[0m \u001b[0mgap_open_penalty\u001b[0m\u001b[0;34m,\u001b[0m \u001b[0mgap_extend_penalty\u001b[0m\u001b[0;34m)\u001b[0m\u001b[0;34m\u001b[0m\n",
        "\u001b[0;34m\u001b[0m\u001b[0;34m\u001b[0m\n",
        "\u001b[0;34m\u001b[0m    \u001b[0;31m# Iterate over the characters in sequence two (which will correspond\u001b[0m\u001b[0;34m\u001b[0m\n",
        "\u001b[0;34m\u001b[0m    \u001b[0;31m# to the vertical sequence in the matrix)\u001b[0m\u001b[0;34m\u001b[0m\n",
        "\u001b[0;34m\u001b[0m    \u001b[0;31m# Note that i corresponds to column numbers, as in 'Biological Sequence\u001b[0m\u001b[0;34m\u001b[0m\n",
        "\u001b[0;34m\u001b[0m    \u001b[0;31m# Analysis'\u001b[0m\u001b[0;34m\u001b[0m\n",
        "\u001b[0;34m\u001b[0m    \u001b[0;32mfor\u001b[0m \u001b[0mi\u001b[0m\u001b[0;34m,\u001b[0m \u001b[0mc2\u001b[0m \u001b[0;32min\u001b[0m \u001b[0mzip\u001b[0m\u001b[0;34m(\u001b[0m\u001b[0mrange\u001b[0m\u001b[0;34m(\u001b[0m\u001b[0;36m1\u001b[0m\u001b[0;34m,\u001b[0m \u001b[0mlen\u001b[0m\u001b[0;34m(\u001b[0m\u001b[0mseq2\u001b[0m\u001b[0;34m)\u001b[0m\u001b[0;34m+\u001b[0m\u001b[0;36m1\u001b[0m\u001b[0;34m)\u001b[0m\u001b[0;34m,\u001b[0m \u001b[0mseq2\u001b[0m\u001b[0;34m)\u001b[0m\u001b[0;34m:\u001b[0m\u001b[0;34m\u001b[0m\n",
        "\u001b[0;34m\u001b[0m        \u001b[0;31m# Iterate over the characters in sequence one (which will\u001b[0m\u001b[0;34m\u001b[0m\n",
        "\u001b[0;34m\u001b[0m        \u001b[0;31m# correspond to the horizontal sequence in the matrix)\u001b[0m\u001b[0;34m\u001b[0m\n",
        "\u001b[0;34m\u001b[0m        \u001b[0;31m# Note that j corresponds to row numbers, as in 'Biological Sequence\u001b[0m\u001b[0;34m\u001b[0m\n",
        "\u001b[0;34m\u001b[0m        \u001b[0;31m# Analysis'\u001b[0m\u001b[0;34m\u001b[0m\n",
        "\u001b[0;34m\u001b[0m        \u001b[0;32mfor\u001b[0m \u001b[0mj\u001b[0m\u001b[0;34m,\u001b[0m \u001b[0mc1\u001b[0m \u001b[0;32min\u001b[0m \u001b[0mzip\u001b[0m\u001b[0;34m(\u001b[0m\u001b[0mrange\u001b[0m\u001b[0;34m(\u001b[0m\u001b[0;36m1\u001b[0m\u001b[0;34m,\u001b[0m \u001b[0mlen\u001b[0m\u001b[0;34m(\u001b[0m\u001b[0mseq1\u001b[0m\u001b[0;34m)\u001b[0m\u001b[0;34m+\u001b[0m\u001b[0;36m1\u001b[0m\u001b[0;34m)\u001b[0m\u001b[0;34m,\u001b[0m \u001b[0mseq1\u001b[0m\u001b[0;34m)\u001b[0m\u001b[0;34m:\u001b[0m\u001b[0;34m\u001b[0m\n",
        "\u001b[0;34m\u001b[0m            \u001b[0;32mtry\u001b[0m\u001b[0;34m:\u001b[0m\u001b[0;34m\u001b[0m\n",
        "\u001b[0;34m\u001b[0m                \u001b[0msubstitution_score\u001b[0m \u001b[0;34m=\u001b[0m \u001b[0msubstitution_matrix\u001b[0m\u001b[0;34m[\u001b[0m\u001b[0mc1\u001b[0m\u001b[0;34m]\u001b[0m\u001b[0;34m[\u001b[0m\u001b[0mc2\u001b[0m\u001b[0;34m]\u001b[0m\u001b[0;34m\u001b[0m\n",
        "\u001b[0;34m\u001b[0m            \u001b[0;32mexcept\u001b[0m \u001b[0mKeyError\u001b[0m\u001b[0;34m:\u001b[0m\u001b[0;34m\u001b[0m\n",
        "\u001b[0;34m\u001b[0m                \u001b[0moffending_chars\u001b[0m \u001b[0;34m=\u001b[0m \\\n",
        "                    \u001b[0;34m[\u001b[0m\u001b[0mc\u001b[0m \u001b[0;32mfor\u001b[0m \u001b[0mc\u001b[0m \u001b[0;32min\u001b[0m \u001b[0;34m(\u001b[0m\u001b[0mc1\u001b[0m\u001b[0;34m,\u001b[0m \u001b[0mc2\u001b[0m\u001b[0;34m)\u001b[0m \u001b[0;32mif\u001b[0m \u001b[0mc\u001b[0m \u001b[0;32mnot\u001b[0m \u001b[0;32min\u001b[0m \u001b[0msubstitution_matrix\u001b[0m\u001b[0;34m]\u001b[0m\u001b[0;34m\u001b[0m\n",
        "\u001b[0;34m\u001b[0m                \u001b[0;32mraise\u001b[0m \u001b[0mValueError\u001b[0m\u001b[0;34m(\u001b[0m\u001b[0;34m\u001b[0m\n",
        "\u001b[0;34m\u001b[0m                    \u001b[0;34m\"One of the sequences contains a character that is not \"\u001b[0m\u001b[0;34m\u001b[0m\n",
        "\u001b[0;34m\u001b[0m                    \u001b[0;34m\"contained in the substitution matrix. Are you using \"\u001b[0m\u001b[0;34m\u001b[0m\n",
        "\u001b[0;34m\u001b[0m                    \u001b[0;34m\"an appropriate substitution matrix for your sequence \"\u001b[0m\u001b[0;34m\u001b[0m\n",
        "\u001b[0;34m\u001b[0m                    \u001b[0;34m\"type (e.g., a nucleotide substitution matrix does not \"\u001b[0m\u001b[0;34m\u001b[0m\n",
        "\u001b[0;34m\u001b[0m                    \u001b[0;34m\"make sense for aligning protein sequences)? Does your \"\u001b[0m\u001b[0;34m\u001b[0m\n",
        "\u001b[0;34m\u001b[0m                    \u001b[0;34m\"sequence contain invalid characters? The offending \"\u001b[0m\u001b[0;34m\u001b[0m\n",
        "\u001b[0;34m\u001b[0m                    \u001b[0;34m\"character(s) is: %s.\"\u001b[0m \u001b[0;34m%\u001b[0m \u001b[0;34m', '\u001b[0m\u001b[0;34m.\u001b[0m\u001b[0mjoin\u001b[0m\u001b[0;34m(\u001b[0m\u001b[0moffending_chars\u001b[0m\u001b[0;34m)\u001b[0m\u001b[0;34m)\u001b[0m\u001b[0;34m\u001b[0m\n",
        "\u001b[0;34m\u001b[0m            \u001b[0mdiag_score\u001b[0m \u001b[0;34m=\u001b[0m \u001b[0;34m(\u001b[0m\u001b[0mscore_matrix\u001b[0m\u001b[0;34m[\u001b[0m\u001b[0mi\u001b[0m\u001b[0;34m-\u001b[0m\u001b[0;36m1\u001b[0m\u001b[0;34m,\u001b[0m \u001b[0mj\u001b[0m\u001b[0;34m-\u001b[0m\u001b[0;36m1\u001b[0m\u001b[0;34m]\u001b[0m \u001b[0;34m+\u001b[0m \u001b[0msubstitution_score\u001b[0m\u001b[0;34m,\u001b[0m \u001b[0mmatch\u001b[0m\u001b[0;34m)\u001b[0m\u001b[0;34m\u001b[0m\n",
        "\u001b[0;34m\u001b[0m            \u001b[0;32mif\u001b[0m \u001b[0mtraceback_matrix\u001b[0m\u001b[0;34m[\u001b[0m\u001b[0mi\u001b[0m\u001b[0;34m-\u001b[0m\u001b[0;36m1\u001b[0m\u001b[0;34m,\u001b[0m \u001b[0mj\u001b[0m\u001b[0;34m]\u001b[0m \u001b[0;34m==\u001b[0m \u001b[0mvgap\u001b[0m\u001b[0;34m:\u001b[0m\u001b[0;34m\u001b[0m\n",
        "\u001b[0;34m\u001b[0m                \u001b[0;31m# gap extend, because the cell above was also a gap\u001b[0m\u001b[0;34m\u001b[0m\n",
        "\u001b[0;34m\u001b[0m                \u001b[0mup_score\u001b[0m \u001b[0;34m=\u001b[0m \u001b[0;34m(\u001b[0m\u001b[0mscore_matrix\u001b[0m\u001b[0;34m[\u001b[0m\u001b[0mi\u001b[0m\u001b[0;34m-\u001b[0m\u001b[0;36m1\u001b[0m\u001b[0;34m,\u001b[0m \u001b[0mj\u001b[0m\u001b[0;34m]\u001b[0m \u001b[0;34m-\u001b[0m \u001b[0mgap_extend_penalty\u001b[0m\u001b[0;34m,\u001b[0m \u001b[0mvgap\u001b[0m\u001b[0;34m)\u001b[0m\u001b[0;34m\u001b[0m\n",
        "\u001b[0;34m\u001b[0m            \u001b[0;32melse\u001b[0m\u001b[0;34m:\u001b[0m\u001b[0;34m\u001b[0m\n",
        "\u001b[0;34m\u001b[0m                \u001b[0;31m# gap open, because the cell above was not a gap\u001b[0m\u001b[0;34m\u001b[0m\n",
        "\u001b[0;34m\u001b[0m                \u001b[0mup_score\u001b[0m \u001b[0;34m=\u001b[0m \u001b[0;34m(\u001b[0m\u001b[0mscore_matrix\u001b[0m\u001b[0;34m[\u001b[0m\u001b[0mi\u001b[0m\u001b[0;34m-\u001b[0m\u001b[0;36m1\u001b[0m\u001b[0;34m,\u001b[0m \u001b[0mj\u001b[0m\u001b[0;34m]\u001b[0m \u001b[0;34m-\u001b[0m \u001b[0mgap_open_penalty\u001b[0m\u001b[0;34m,\u001b[0m \u001b[0mvgap\u001b[0m\u001b[0;34m)\u001b[0m\u001b[0;34m\u001b[0m\n",
        "\u001b[0;34m\u001b[0m            \u001b[0;32mif\u001b[0m \u001b[0mtraceback_matrix\u001b[0m\u001b[0;34m[\u001b[0m\u001b[0mi\u001b[0m\u001b[0;34m,\u001b[0m \u001b[0mj\u001b[0m\u001b[0;34m-\u001b[0m\u001b[0;36m1\u001b[0m\u001b[0;34m]\u001b[0m \u001b[0;34m==\u001b[0m \u001b[0mhgap\u001b[0m\u001b[0;34m:\u001b[0m\u001b[0;34m\u001b[0m\n",
        "\u001b[0;34m\u001b[0m                \u001b[0;31m# gap extend, because the cell to the left was also a gap\u001b[0m\u001b[0;34m\u001b[0m\n",
        "\u001b[0;34m\u001b[0m                \u001b[0mleft_score\u001b[0m \u001b[0;34m=\u001b[0m \u001b[0;34m(\u001b[0m\u001b[0mscore_matrix\u001b[0m\u001b[0;34m[\u001b[0m\u001b[0mi\u001b[0m\u001b[0;34m,\u001b[0m \u001b[0mj\u001b[0m\u001b[0;34m-\u001b[0m\u001b[0;36m1\u001b[0m\u001b[0;34m]\u001b[0m \u001b[0;34m-\u001b[0m \u001b[0mgap_extend_penalty\u001b[0m\u001b[0;34m,\u001b[0m \u001b[0mhgap\u001b[0m\u001b[0;34m)\u001b[0m\u001b[0;34m\u001b[0m\n",
        "\u001b[0;34m\u001b[0m            \u001b[0;32melse\u001b[0m\u001b[0;34m:\u001b[0m\u001b[0;34m\u001b[0m\n",
        "\u001b[0;34m\u001b[0m                \u001b[0;31m# gap open, because the cell to the left was not a gap\u001b[0m\u001b[0;34m\u001b[0m\n",
        "\u001b[0;34m\u001b[0m                \u001b[0mleft_score\u001b[0m \u001b[0;34m=\u001b[0m \u001b[0;34m(\u001b[0m\u001b[0mscore_matrix\u001b[0m\u001b[0;34m[\u001b[0m\u001b[0mi\u001b[0m\u001b[0;34m,\u001b[0m \u001b[0mj\u001b[0m\u001b[0;34m-\u001b[0m\u001b[0;36m1\u001b[0m\u001b[0;34m]\u001b[0m \u001b[0;34m-\u001b[0m \u001b[0mgap_open_penalty\u001b[0m\u001b[0;34m,\u001b[0m \u001b[0mhgap\u001b[0m\u001b[0;34m)\u001b[0m\u001b[0;34m\u001b[0m\n",
        "\u001b[0;34m\u001b[0m            \u001b[0mbest_score\u001b[0m \u001b[0;34m=\u001b[0m \u001b[0m_first_largest\u001b[0m\u001b[0;34m(\u001b[0m\u001b[0;34m[\u001b[0m\u001b[0mnew_alignment_score\u001b[0m\u001b[0;34m,\u001b[0m \u001b[0mleft_score\u001b[0m\u001b[0;34m,\u001b[0m\u001b[0;34m\u001b[0m\n",
        "\u001b[0;34m\u001b[0m                                         \u001b[0mdiag_score\u001b[0m\u001b[0;34m,\u001b[0m \u001b[0mup_score\u001b[0m\u001b[0;34m]\u001b[0m\u001b[0;34m)\u001b[0m\u001b[0;34m\u001b[0m\n",
        "\u001b[0;34m\u001b[0m            \u001b[0mscore_matrix\u001b[0m\u001b[0;34m[\u001b[0m\u001b[0mi\u001b[0m\u001b[0;34m,\u001b[0m \u001b[0mj\u001b[0m\u001b[0;34m]\u001b[0m \u001b[0;34m=\u001b[0m \u001b[0mbest_score\u001b[0m\u001b[0;34m[\u001b[0m\u001b[0;36m0\u001b[0m\u001b[0;34m]\u001b[0m\u001b[0;34m\u001b[0m\n",
        "\u001b[0;34m\u001b[0m            \u001b[0mtraceback_matrix\u001b[0m\u001b[0;34m[\u001b[0m\u001b[0mi\u001b[0m\u001b[0;34m,\u001b[0m \u001b[0mj\u001b[0m\u001b[0;34m]\u001b[0m \u001b[0;34m=\u001b[0m \u001b[0mbest_score\u001b[0m\u001b[0;34m[\u001b[0m\u001b[0;36m1\u001b[0m\u001b[0;34m]\u001b[0m\u001b[0;34m\u001b[0m\n",
        "\u001b[0;34m\u001b[0m    \u001b[0;32mreturn\u001b[0m \u001b[0mscore_matrix\u001b[0m\u001b[0;34m,\u001b[0m \u001b[0mtraceback_matrix\u001b[0m\u001b[0;34m\u001b[0m\u001b[0m\n",
        "\n"
       ]
      }
     ],
     "prompt_number": 31
    },
    {
     "cell_type": "code",
     "collapsed": false,
     "input": [
      "sw_matrix, traceback_matrix = \\\n",
      "    _compute_score_and_traceback_matrices(seq1, seq2, 8, 8, blosum50, new_alignment_score=0.0)\n",
      "\n",
      "print(format_dynamic_programming_matrix(seq1, seq2, sw_matrix, 7))"
     ],
     "language": "python",
     "metadata": {},
     "outputs": [
      {
       "output_type": "stream",
       "stream": "stdout",
       "text": [
        "                    H      E      A      G      A      W      G      H      E      E\n",
        "           0.0   -8.0  -16.0  -24.0  -32.0  -40.0  -48.0  -56.0  -64.0  -72.0  -80.0\n",
        "      P   -8.0    0.0    0.0    0.0    0.0    0.0    0.0    0.0    0.0    0.0    0.0\n",
        "      A  -16.0    0.0    0.0    5.0    0.0    5.0    0.0    0.0    0.0    0.0    0.0\n",
        "      W  -24.0    0.0    0.0    0.0    2.0    0.0   20.0   12.0    4.0    0.0    0.0\n",
        "      H  -32.0    0.0    0.0    0.0    0.0    0.0   12.0   18.0   22.0   14.0    6.0\n",
        "      E  -40.0    0.0    6.0    0.0    0.0    0.0    4.0   10.0   18.0   28.0   20.0\n",
        "      A  -48.0    0.0    0.0   11.0    3.0    5.0    0.0    4.0   10.0   20.0   27.0\n",
        "      E  -56.0    0.0    6.0    3.0    8.0    2.0    2.0    0.0    4.0   16.0   26.0\n"
       ]
      }
     ],
     "prompt_number": 32
    },
    {
     "cell_type": "code",
     "collapsed": false,
     "input": [
      "print(format_traceback_matrix(seq1, seq2, traceback_matrix, cell_width=5))"
     ],
     "language": "python",
     "metadata": {},
     "outputs": [
      {
       "output_type": "stream",
       "stream": "stdout",
       "text": [
        "              H    E    A    G    A    W    G    H    E    E\n",
        "         *    -    -    -    -    -    -    -    -    -    -\n",
        "    P    |    *    *    *    *    *    *    *    *    *    *\n",
        "    A    |    *    *    \\    *    \\    *    *    *    *    *\n",
        "    W    |    *    *    *    \\    *    \\    -    -    *    *\n",
        "    H    |    *    *    *    *    *    |    \\    \\    -    -\n",
        "    E    |    *    \\    *    *    *    |    |    \\    \\    -\n",
        "    A    |    *    *    \\    -    \\    *    \\    |    |    \\\n",
        "    E    |    *    \\    |    \\    \\    \\    *    \\    \\    \\\n"
       ]
      }
     ],
     "prompt_number": 33
    },
    {
     "cell_type": "markdown",
     "metadata": {},
     "source": [
      "And finally, during the traceback step, you begin in the cell with the highest value, rather than the bottom right cell of the matrix. "
     ]
    },
    {
     "cell_type": "code",
     "collapsed": false,
     "input": [
      "%psource _traceback"
     ],
     "language": "python",
     "metadata": {},
     "outputs": [
      {
       "output_type": "stream",
       "stream": "stdout",
       "text": [
        "\u001b[0;32mdef\u001b[0m \u001b[0m_traceback\u001b[0m\u001b[0;34m(\u001b[0m\u001b[0mtraceback_matrix\u001b[0m\u001b[0;34m,\u001b[0m \u001b[0mscore_matrix\u001b[0m\u001b[0;34m,\u001b[0m \u001b[0mseq1\u001b[0m\u001b[0;34m,\u001b[0m \u001b[0mseq2\u001b[0m\u001b[0;34m,\u001b[0m \u001b[0mstart_row\u001b[0m\u001b[0;34m,\u001b[0m\u001b[0;34m\u001b[0m\n",
        "\u001b[0;34m\u001b[0m               \u001b[0mstart_col\u001b[0m\u001b[0;34m,\u001b[0m \u001b[0mgap_character\u001b[0m\u001b[0;34m=\u001b[0m\u001b[0;34m'-'\u001b[0m\u001b[0;34m)\u001b[0m\u001b[0;34m:\u001b[0m\u001b[0;34m\u001b[0m\n",
        "\u001b[0;34m\u001b[0m    \u001b[0;31m# cache some values for simpler\u001b[0m\u001b[0;34m\u001b[0m\n",
        "\u001b[0;34m\u001b[0m    \u001b[0maend\u001b[0m \u001b[0;34m=\u001b[0m \u001b[0m_traceback_encoding\u001b[0m\u001b[0;34m[\u001b[0m\u001b[0;34m'alignment-end'\u001b[0m\u001b[0;34m]\u001b[0m\u001b[0;34m\u001b[0m\n",
        "\u001b[0;34m\u001b[0m    \u001b[0mmatch\u001b[0m \u001b[0;34m=\u001b[0m \u001b[0m_traceback_encoding\u001b[0m\u001b[0;34m[\u001b[0m\u001b[0;34m'match'\u001b[0m\u001b[0;34m]\u001b[0m\u001b[0;34m\u001b[0m\n",
        "\u001b[0;34m\u001b[0m    \u001b[0mvgap\u001b[0m \u001b[0;34m=\u001b[0m \u001b[0m_traceback_encoding\u001b[0m\u001b[0;34m[\u001b[0m\u001b[0;34m'vertical-gap'\u001b[0m\u001b[0;34m]\u001b[0m\u001b[0;34m\u001b[0m\n",
        "\u001b[0;34m\u001b[0m    \u001b[0mhgap\u001b[0m \u001b[0;34m=\u001b[0m \u001b[0m_traceback_encoding\u001b[0m\u001b[0;34m[\u001b[0m\u001b[0;34m'horizontal-gap'\u001b[0m\u001b[0;34m]\u001b[0m\u001b[0;34m\u001b[0m\n",
        "\u001b[0;34m\u001b[0m\u001b[0;34m\u001b[0m\n",
        "\u001b[0;34m\u001b[0m    \u001b[0maligned_seq1\u001b[0m \u001b[0;34m=\u001b[0m \u001b[0;34m[\u001b[0m\u001b[0;34m]\u001b[0m\u001b[0;34m\u001b[0m\n",
        "\u001b[0;34m\u001b[0m    \u001b[0maligned_seq2\u001b[0m \u001b[0;34m=\u001b[0m \u001b[0;34m[\u001b[0m\u001b[0;34m]\u001b[0m\u001b[0;34m\u001b[0m\n",
        "\u001b[0;34m\u001b[0m\u001b[0;34m\u001b[0m\n",
        "\u001b[0;34m\u001b[0m    \u001b[0mcurrent_row\u001b[0m \u001b[0;34m=\u001b[0m \u001b[0mstart_row\u001b[0m\u001b[0;34m\u001b[0m\n",
        "\u001b[0;34m\u001b[0m    \u001b[0mcurrent_col\u001b[0m \u001b[0;34m=\u001b[0m \u001b[0mstart_col\u001b[0m\u001b[0;34m\u001b[0m\n",
        "\u001b[0;34m\u001b[0m\u001b[0;34m\u001b[0m\n",
        "\u001b[0;34m\u001b[0m    \u001b[0mbest_score\u001b[0m \u001b[0;34m=\u001b[0m \u001b[0mscore_matrix\u001b[0m\u001b[0;34m[\u001b[0m\u001b[0mcurrent_row\u001b[0m\u001b[0;34m,\u001b[0m \u001b[0mcurrent_col\u001b[0m\u001b[0;34m]\u001b[0m\u001b[0;34m\u001b[0m\n",
        "\u001b[0;34m\u001b[0m    \u001b[0mcurrent_value\u001b[0m \u001b[0;34m=\u001b[0m \u001b[0mNone\u001b[0m\u001b[0;34m\u001b[0m\n",
        "\u001b[0;34m\u001b[0m\u001b[0;34m\u001b[0m\n",
        "\u001b[0;34m\u001b[0m    \u001b[0;32mwhile\u001b[0m \u001b[0mcurrent_value\u001b[0m \u001b[0;34m!=\u001b[0m \u001b[0maend\u001b[0m\u001b[0;34m:\u001b[0m\u001b[0;34m\u001b[0m\n",
        "\u001b[0;34m\u001b[0m        \u001b[0mcurrent_value\u001b[0m \u001b[0;34m=\u001b[0m \u001b[0mtraceback_matrix\u001b[0m\u001b[0;34m[\u001b[0m\u001b[0mcurrent_row\u001b[0m\u001b[0;34m,\u001b[0m \u001b[0mcurrent_col\u001b[0m\u001b[0;34m]\u001b[0m\u001b[0;34m\u001b[0m\n",
        "\u001b[0;34m\u001b[0m\u001b[0;34m\u001b[0m\n",
        "\u001b[0;34m\u001b[0m        \u001b[0;32mif\u001b[0m \u001b[0mcurrent_value\u001b[0m \u001b[0;34m==\u001b[0m \u001b[0mmatch\u001b[0m\u001b[0;34m:\u001b[0m\u001b[0;34m\u001b[0m\n",
        "\u001b[0;34m\u001b[0m            \u001b[0maligned_seq1\u001b[0m\u001b[0;34m.\u001b[0m\u001b[0mappend\u001b[0m\u001b[0;34m(\u001b[0m\u001b[0mseq1\u001b[0m\u001b[0;34m[\u001b[0m\u001b[0mcurrent_col\u001b[0m\u001b[0;34m-\u001b[0m\u001b[0;36m1\u001b[0m\u001b[0;34m]\u001b[0m\u001b[0;34m)\u001b[0m\u001b[0;34m\u001b[0m\n",
        "\u001b[0;34m\u001b[0m            \u001b[0maligned_seq2\u001b[0m\u001b[0;34m.\u001b[0m\u001b[0mappend\u001b[0m\u001b[0;34m(\u001b[0m\u001b[0mseq2\u001b[0m\u001b[0;34m[\u001b[0m\u001b[0mcurrent_row\u001b[0m\u001b[0;34m-\u001b[0m\u001b[0;36m1\u001b[0m\u001b[0;34m]\u001b[0m\u001b[0;34m)\u001b[0m\u001b[0;34m\u001b[0m\n",
        "\u001b[0;34m\u001b[0m            \u001b[0mcurrent_row\u001b[0m \u001b[0;34m-=\u001b[0m \u001b[0;36m1\u001b[0m\u001b[0;34m\u001b[0m\n",
        "\u001b[0;34m\u001b[0m            \u001b[0mcurrent_col\u001b[0m \u001b[0;34m-=\u001b[0m \u001b[0;36m1\u001b[0m\u001b[0;34m\u001b[0m\n",
        "\u001b[0;34m\u001b[0m        \u001b[0;32melif\u001b[0m \u001b[0mcurrent_value\u001b[0m \u001b[0;34m==\u001b[0m \u001b[0mvgap\u001b[0m\u001b[0;34m:\u001b[0m\u001b[0;34m\u001b[0m\n",
        "\u001b[0;34m\u001b[0m            \u001b[0maligned_seq1\u001b[0m\u001b[0;34m.\u001b[0m\u001b[0mappend\u001b[0m\u001b[0;34m(\u001b[0m\u001b[0;34m'-'\u001b[0m\u001b[0;34m)\u001b[0m\u001b[0;34m\u001b[0m\n",
        "\u001b[0;34m\u001b[0m            \u001b[0maligned_seq2\u001b[0m\u001b[0;34m.\u001b[0m\u001b[0mappend\u001b[0m\u001b[0;34m(\u001b[0m\u001b[0mseq2\u001b[0m\u001b[0;34m[\u001b[0m\u001b[0mcurrent_row\u001b[0m\u001b[0;34m-\u001b[0m\u001b[0;36m1\u001b[0m\u001b[0;34m]\u001b[0m\u001b[0;34m)\u001b[0m\u001b[0;34m\u001b[0m\n",
        "\u001b[0;34m\u001b[0m            \u001b[0mcurrent_row\u001b[0m \u001b[0;34m-=\u001b[0m \u001b[0;36m1\u001b[0m\u001b[0;34m\u001b[0m\n",
        "\u001b[0;34m\u001b[0m        \u001b[0;32melif\u001b[0m \u001b[0mcurrent_value\u001b[0m \u001b[0;34m==\u001b[0m \u001b[0mhgap\u001b[0m\u001b[0;34m:\u001b[0m\u001b[0;34m\u001b[0m\n",
        "\u001b[0;34m\u001b[0m            \u001b[0maligned_seq1\u001b[0m\u001b[0;34m.\u001b[0m\u001b[0mappend\u001b[0m\u001b[0;34m(\u001b[0m\u001b[0mseq1\u001b[0m\u001b[0;34m[\u001b[0m\u001b[0mcurrent_col\u001b[0m\u001b[0;34m-\u001b[0m\u001b[0;36m1\u001b[0m\u001b[0;34m]\u001b[0m\u001b[0;34m)\u001b[0m\u001b[0;34m\u001b[0m\n",
        "\u001b[0;34m\u001b[0m            \u001b[0maligned_seq2\u001b[0m\u001b[0;34m.\u001b[0m\u001b[0mappend\u001b[0m\u001b[0;34m(\u001b[0m\u001b[0;34m'-'\u001b[0m\u001b[0;34m)\u001b[0m\u001b[0;34m\u001b[0m\n",
        "\u001b[0;34m\u001b[0m            \u001b[0mcurrent_col\u001b[0m \u001b[0;34m-=\u001b[0m \u001b[0;36m1\u001b[0m\u001b[0;34m\u001b[0m\n",
        "\u001b[0;34m\u001b[0m        \u001b[0;32melif\u001b[0m \u001b[0mcurrent_value\u001b[0m \u001b[0;34m==\u001b[0m \u001b[0maend\u001b[0m\u001b[0;34m:\u001b[0m\u001b[0;34m\u001b[0m\n",
        "\u001b[0;34m\u001b[0m            \u001b[0;32mcontinue\u001b[0m\u001b[0;34m\u001b[0m\n",
        "\u001b[0;34m\u001b[0m        \u001b[0;32melse\u001b[0m\u001b[0;34m:\u001b[0m\u001b[0;34m\u001b[0m\n",
        "\u001b[0;34m\u001b[0m            \u001b[0;32mraise\u001b[0m \u001b[0mValueError\u001b[0m\u001b[0;34m(\u001b[0m\u001b[0;34m\u001b[0m\n",
        "\u001b[0;34m\u001b[0m                \u001b[0;34m\"Invalid value in traceback matrix: %s\"\u001b[0m \u001b[0;34m%\u001b[0m \u001b[0mcurrent_value\u001b[0m\u001b[0;34m)\u001b[0m\u001b[0;34m\u001b[0m\n",
        "\u001b[0;34m\u001b[0m\u001b[0;34m\u001b[0m\n",
        "\u001b[0;34m\u001b[0m    \u001b[0;32mreturn\u001b[0m \u001b[0;34m(\u001b[0m\u001b[0;34m''\u001b[0m\u001b[0;34m.\u001b[0m\u001b[0mjoin\u001b[0m\u001b[0;34m(\u001b[0m\u001b[0mmap\u001b[0m\u001b[0;34m(\u001b[0m\u001b[0mstr\u001b[0m\u001b[0;34m,\u001b[0m \u001b[0maligned_seq1\u001b[0m\u001b[0;34m[\u001b[0m\u001b[0;34m:\u001b[0m\u001b[0;34m:\u001b[0m\u001b[0;34m-\u001b[0m\u001b[0;36m1\u001b[0m\u001b[0;34m]\u001b[0m\u001b[0;34m)\u001b[0m\u001b[0;34m)\u001b[0m\u001b[0;34m,\u001b[0m\u001b[0;34m\u001b[0m\n",
        "\u001b[0;34m\u001b[0m            \u001b[0;34m''\u001b[0m\u001b[0;34m.\u001b[0m\u001b[0mjoin\u001b[0m\u001b[0;34m(\u001b[0m\u001b[0mmap\u001b[0m\u001b[0;34m(\u001b[0m\u001b[0mstr\u001b[0m\u001b[0;34m,\u001b[0m \u001b[0maligned_seq2\u001b[0m\u001b[0;34m[\u001b[0m\u001b[0;34m:\u001b[0m\u001b[0;34m:\u001b[0m\u001b[0;34m-\u001b[0m\u001b[0;36m1\u001b[0m\u001b[0;34m]\u001b[0m\u001b[0;34m)\u001b[0m\u001b[0;34m)\u001b[0m\u001b[0;34m,\u001b[0m\u001b[0;34m\u001b[0m\n",
        "\u001b[0;34m\u001b[0m            \u001b[0mbest_score\u001b[0m\u001b[0;34m,\u001b[0m \u001b[0mcurrent_col\u001b[0m\u001b[0;34m,\u001b[0m \u001b[0mcurrent_row\u001b[0m\u001b[0;34m)\u001b[0m\u001b[0;34m\u001b[0m\u001b[0m\n",
        "\n"
       ]
      }
     ],
     "prompt_number": 34
    },
    {
     "cell_type": "code",
     "collapsed": false,
     "input": [
      "max_value = 0.0\n",
      "max_i = 0\n",
      "max_j = 0\n",
      "for i in range(sw_matrix.shape[0]):\n",
      "    for j in range(sw_matrix.shape[1]):\n",
      "        if sw_matrix[i, j] > max_value:\n",
      "            max_i, max_j = i, j\n",
      "            max_value = sw_matrix[i, j]\n",
      "\n",
      "a1, a2, score, start_a1, start_a2 = _traceback(traceback_matrix, sw_matrix, seq1, seq2, max_i, max_j)\n",
      "print(a1)\n",
      "print(a2)\n",
      "print(score)"
     ],
     "language": "python",
     "metadata": {},
     "outputs": [
      {
       "output_type": "stream",
       "stream": "stdout",
       "text": [
        "AWGHE\n",
        "AW-HE\n",
        "28.0\n"
       ]
      }
     ],
     "prompt_number": 35
    },
    {
     "cell_type": "markdown",
     "metadata": {},
     "source": [
      "Again, we can define a *convenience function*, which will allow us to provide the required input and just get our aligned sequecnes back."
     ]
    },
    {
     "cell_type": "code",
     "collapsed": false,
     "input": [
      "from skbio.core.alignment.pairwise import local_pairwise_align\n",
      "\n",
      "%psource local_pairwise_align"
     ],
     "language": "python",
     "metadata": {},
     "outputs": [
      {
       "output_type": "stream",
       "stream": "stdout",
       "text": [
        "\u001b[0;32mdef\u001b[0m \u001b[0mlocal_pairwise_align\u001b[0m\u001b[0;34m(\u001b[0m\u001b[0mseq1\u001b[0m\u001b[0;34m,\u001b[0m \u001b[0mseq2\u001b[0m\u001b[0;34m,\u001b[0m \u001b[0mgap_open_penalty\u001b[0m\u001b[0;34m,\u001b[0m\u001b[0;34m\u001b[0m\n",
        "\u001b[0;34m\u001b[0m                         \u001b[0mgap_extend_penalty\u001b[0m\u001b[0;34m,\u001b[0m \u001b[0msubstitution_matrix\u001b[0m\u001b[0;34m)\u001b[0m\u001b[0;34m:\u001b[0m\u001b[0;34m\u001b[0m\n",
        "\u001b[0;34m\u001b[0m    \u001b[0;34m\"\"\"Locally align exactly two seqs with Smith-Waterman\u001b[0m\n",
        "\u001b[0;34m\u001b[0m\n",
        "\u001b[0;34m    Parameters\u001b[0m\n",
        "\u001b[0;34m    ----------\u001b[0m\n",
        "\u001b[0;34m    seq1 : str or BiologicalSequence\u001b[0m\n",
        "\u001b[0;34m        The first unaligned sequence.\u001b[0m\n",
        "\u001b[0;34m    seq2 : str or BiologicalSequence\u001b[0m\n",
        "\u001b[0;34m        The second unaligned sequence.\u001b[0m\n",
        "\u001b[0;34m    gap_open_penalty : int or float\u001b[0m\n",
        "\u001b[0;34m        Penalty for opening a gap (this is substracted from previous best\u001b[0m\n",
        "\u001b[0;34m        alignment score, so is typically positive).\u001b[0m\n",
        "\u001b[0;34m    gap_extend_penalty : int or float\u001b[0m\n",
        "\u001b[0;34m        Penalty for extending a gap (this is substracted from previous best\u001b[0m\n",
        "\u001b[0;34m        alignment score, so is typically positive).\u001b[0m\n",
        "\u001b[0;34m    substitution_matrix: 2D dict (or similar)\u001b[0m\n",
        "\u001b[0;34m        Lookup for substitution scores (these values are added to the\u001b[0m\n",
        "\u001b[0;34m        previous best alignment score).\u001b[0m\n",
        "\u001b[0;34m\u001b[0m\n",
        "\u001b[0;34m    Returns\u001b[0m\n",
        "\u001b[0;34m    -------\u001b[0m\n",
        "\u001b[0;34m    skbio.Alignment\u001b[0m\n",
        "\u001b[0;34m       ``Alignment`` object containing the aligned sequences as well as\u001b[0m\n",
        "\u001b[0;34m        details about the alignment.\u001b[0m\n",
        "\u001b[0;34m\u001b[0m\n",
        "\u001b[0;34m    See Also\u001b[0m\n",
        "\u001b[0;34m    --------\u001b[0m\n",
        "\u001b[0;34m    local_pairwise_align_protein\u001b[0m\n",
        "\u001b[0;34m    local_pairwise_align_nucleotide\u001b[0m\n",
        "\u001b[0;34m    skbio.core.alignment.local_pairwise_align_ssw\u001b[0m\n",
        "\u001b[0;34m    global_pairwise_align\u001b[0m\n",
        "\u001b[0;34m    global_pairwise_align_protein\u001b[0m\n",
        "\u001b[0;34m    global_pairwise_align_nucelotide\u001b[0m\n",
        "\u001b[0;34m\u001b[0m\n",
        "\u001b[0;34m    Notes\u001b[0m\n",
        "\u001b[0;34m    -----\u001b[0m\n",
        "\u001b[0;34m    This algorithm was originally described in [1]_. The scikit-bio\u001b[0m\n",
        "\u001b[0;34m    implementation was validated against the EMBOSS water web server [2]_.\u001b[0m\n",
        "\u001b[0;34m\u001b[0m\n",
        "\u001b[0;34m    References\u001b[0m\n",
        "\u001b[0;34m    ----------\u001b[0m\n",
        "\u001b[0;34m    .. [1] Identification of common molecular subsequences.\u001b[0m\n",
        "\u001b[0;34m       Smith TF, Waterman MS.\u001b[0m\n",
        "\u001b[0;34m       J Mol Biol. 1981 Mar 25;147(1):195-7.\u001b[0m\n",
        "\u001b[0;34m    .. [2] http://www.ebi.ac.uk/Tools/psa/emboss_water/\u001b[0m\n",
        "\u001b[0;34m\u001b[0m\n",
        "\u001b[0;34m    \"\"\"\u001b[0m\u001b[0;34m\u001b[0m\n",
        "\u001b[0;34m\u001b[0m    \u001b[0mwarn\u001b[0m\u001b[0;34m(\u001b[0m\u001b[0;34m\"You're using skbio's python implementation of Smith-Waterman \"\u001b[0m\u001b[0;34m\u001b[0m\n",
        "\u001b[0;34m\u001b[0m         \u001b[0;34m\"alignment. This will be very slow (e.g., thousands of times slower) \"\u001b[0m\u001b[0;34m\u001b[0m\n",
        "\u001b[0;34m\u001b[0m         \u001b[0;34m\"than skbio.core.alignment.local_pairwise_align_ssw.\"\u001b[0m\u001b[0;34m,\u001b[0m\u001b[0;34m\u001b[0m\n",
        "\u001b[0;34m\u001b[0m         \u001b[0mEfficiencyWarning\u001b[0m\u001b[0;34m)\u001b[0m\u001b[0;34m\u001b[0m\n",
        "\u001b[0;34m\u001b[0m\u001b[0;34m\u001b[0m\n",
        "\u001b[0;34m\u001b[0m    \u001b[0mscore_matrix\u001b[0m\u001b[0;34m,\u001b[0m \u001b[0mtraceback_matrix\u001b[0m \u001b[0;34m=\u001b[0m \u001b[0m_compute_score_and_traceback_matrices\u001b[0m\u001b[0;34m(\u001b[0m\u001b[0;34m\u001b[0m\n",
        "\u001b[0;34m\u001b[0m        \u001b[0mseq1\u001b[0m\u001b[0;34m,\u001b[0m \u001b[0mseq2\u001b[0m\u001b[0;34m,\u001b[0m \u001b[0mgap_open_penalty\u001b[0m\u001b[0;34m,\u001b[0m \u001b[0mgap_extend_penalty\u001b[0m\u001b[0;34m,\u001b[0m\u001b[0;34m\u001b[0m\n",
        "\u001b[0;34m\u001b[0m        \u001b[0msubstitution_matrix\u001b[0m\u001b[0;34m,\u001b[0m \u001b[0mnew_alignment_score\u001b[0m\u001b[0;34m=\u001b[0m\u001b[0;36m0.0\u001b[0m\u001b[0;34m,\u001b[0m\u001b[0;34m\u001b[0m\n",
        "\u001b[0;34m\u001b[0m        \u001b[0minit_matrices_f\u001b[0m\u001b[0;34m=\u001b[0m\u001b[0m_init_matrices_sw\u001b[0m\u001b[0;34m)\u001b[0m\u001b[0;34m\u001b[0m\n",
        "\u001b[0;34m\u001b[0m\u001b[0;34m\u001b[0m\n",
        "\u001b[0;34m\u001b[0m    \u001b[0mend_row_position\u001b[0m\u001b[0;34m,\u001b[0m \u001b[0mend_col_position\u001b[0m \u001b[0;34m=\u001b[0m\\\n",
        "        \u001b[0mnp\u001b[0m\u001b[0;34m.\u001b[0m\u001b[0munravel_index\u001b[0m\u001b[0;34m(\u001b[0m\u001b[0mnp\u001b[0m\u001b[0;34m.\u001b[0m\u001b[0margmax\u001b[0m\u001b[0;34m(\u001b[0m\u001b[0mscore_matrix\u001b[0m\u001b[0;34m)\u001b[0m\u001b[0;34m,\u001b[0m \u001b[0mscore_matrix\u001b[0m\u001b[0;34m.\u001b[0m\u001b[0mshape\u001b[0m\u001b[0;34m)\u001b[0m\u001b[0;34m\u001b[0m\n",
        "\u001b[0;34m\u001b[0m\u001b[0;34m\u001b[0m\n",
        "\u001b[0;34m\u001b[0m    \u001b[0maligned1\u001b[0m\u001b[0;34m,\u001b[0m \u001b[0maligned2\u001b[0m\u001b[0;34m,\u001b[0m \u001b[0mscore\u001b[0m\u001b[0;34m,\u001b[0m \u001b[0mseq1_start_position\u001b[0m\u001b[0;34m,\u001b[0m \u001b[0mseq2_start_position\u001b[0m \u001b[0;34m=\u001b[0m \\\n",
        "        \u001b[0m_traceback\u001b[0m\u001b[0;34m(\u001b[0m\u001b[0mtraceback_matrix\u001b[0m\u001b[0;34m,\u001b[0m \u001b[0mscore_matrix\u001b[0m\u001b[0;34m,\u001b[0m \u001b[0mseq1\u001b[0m\u001b[0;34m,\u001b[0m \u001b[0mseq2\u001b[0m\u001b[0;34m,\u001b[0m\u001b[0;34m\u001b[0m\n",
        "\u001b[0;34m\u001b[0m                   \u001b[0mend_row_position\u001b[0m\u001b[0;34m,\u001b[0m \u001b[0mend_col_position\u001b[0m\u001b[0;34m)\u001b[0m\u001b[0;34m\u001b[0m\n",
        "\u001b[0;34m\u001b[0m    \u001b[0mstart_end_positions\u001b[0m \u001b[0;34m=\u001b[0m \u001b[0;34m[\u001b[0m\u001b[0;34m(\u001b[0m\u001b[0mseq1_start_position\u001b[0m\u001b[0;34m,\u001b[0m \u001b[0mend_col_position\u001b[0m\u001b[0;34m-\u001b[0m\u001b[0;36m1\u001b[0m\u001b[0;34m)\u001b[0m\u001b[0;34m,\u001b[0m\u001b[0;34m\u001b[0m\n",
        "\u001b[0;34m\u001b[0m                           \u001b[0;34m(\u001b[0m\u001b[0mseq2_start_position\u001b[0m\u001b[0;34m,\u001b[0m \u001b[0mend_row_position\u001b[0m\u001b[0;34m-\u001b[0m\u001b[0;36m1\u001b[0m\u001b[0;34m)\u001b[0m\u001b[0;34m]\u001b[0m\u001b[0;34m\u001b[0m\n",
        "\u001b[0;34m\u001b[0m\u001b[0;34m\u001b[0m\n",
        "\u001b[0;34m\u001b[0m    \u001b[0;31m# Get ids to assign to the output sequences in the result Alignment object\u001b[0m\u001b[0;34m\u001b[0m\n",
        "\u001b[0;34m\u001b[0m    \u001b[0mseq1_id\u001b[0m\u001b[0;34m,\u001b[0m \u001b[0mseq2_id\u001b[0m \u001b[0;34m=\u001b[0m \u001b[0m_get_seq_ids\u001b[0m\u001b[0;34m(\u001b[0m\u001b[0mseq1\u001b[0m\u001b[0;34m,\u001b[0m \u001b[0mseq2\u001b[0m\u001b[0;34m)\u001b[0m\u001b[0;34m\u001b[0m\n",
        "\u001b[0;34m\u001b[0m\u001b[0;34m\u001b[0m\n",
        "\u001b[0;34m\u001b[0m    \u001b[0;32mreturn\u001b[0m \u001b[0mAlignment\u001b[0m\u001b[0;34m(\u001b[0m\u001b[0;34m\u001b[0m\n",
        "\u001b[0;34m\u001b[0m        \u001b[0;34m[\u001b[0m\u001b[0mBiologicalSequence\u001b[0m\u001b[0;34m(\u001b[0m\u001b[0maligned1\u001b[0m\u001b[0;34m,\u001b[0m \u001b[0mid\u001b[0m\u001b[0;34m=\u001b[0m\u001b[0mseq1_id\u001b[0m\u001b[0;34m)\u001b[0m\u001b[0;34m,\u001b[0m\u001b[0;34m\u001b[0m\n",
        "\u001b[0;34m\u001b[0m         \u001b[0mBiologicalSequence\u001b[0m\u001b[0;34m(\u001b[0m\u001b[0maligned2\u001b[0m\u001b[0;34m,\u001b[0m \u001b[0mid\u001b[0m\u001b[0;34m=\u001b[0m\u001b[0mseq2_id\u001b[0m\u001b[0;34m)\u001b[0m\u001b[0;34m]\u001b[0m\u001b[0;34m,\u001b[0m\u001b[0;34m\u001b[0m\n",
        "\u001b[0;34m\u001b[0m        \u001b[0mscore\u001b[0m\u001b[0;34m=\u001b[0m\u001b[0mscore\u001b[0m\u001b[0;34m,\u001b[0m \u001b[0mstart_end_positions\u001b[0m\u001b[0;34m=\u001b[0m\u001b[0mstart_end_positions\u001b[0m\u001b[0;34m)\u001b[0m\u001b[0;34m\u001b[0m\u001b[0m\n",
        "\n"
       ]
      }
     ],
     "prompt_number": 36
    },
    {
     "cell_type": "markdown",
     "metadata": {},
     "source": [
      "And we can take the *convenience function* one step futher, and wrap `sw_align` and `nw_align` up in a more generate `align` function, which takes a boolean parameter (i.e., `True` or `False`) indicating where we want a local or global alignment."
     ]
    },
    {
     "cell_type": "code",
     "collapsed": false,
     "input": [
      "def align(sequence1, sequence2, gap_penalty, substitution_matrix, local):\n",
      "    if local:\n",
      "        return local_pairwise_align(sequence1, sequence2, gap_penalty, gap_penalty, substitution_matrix)\n",
      "    else:\n",
      "        return global_pairwise_align(sequence1, sequence2, gap_penalty, gap_penalty, substitution_matrix)"
     ],
     "language": "python",
     "metadata": {},
     "outputs": [],
     "prompt_number": 37
    },
    {
     "cell_type": "code",
     "collapsed": false,
     "input": [
      "result = align('HEAGAWGHEE', 'PAWHEAE', 8, blosum50, True)\n",
      "print(result)"
     ],
     "language": "python",
     "metadata": {},
     "outputs": [
      {
       "output_type": "stream",
       "stream": "stdout",
       "text": [
        ">0\n",
        "AWGHE\n",
        ">1\n",
        "AW-HE\n",
        "\n"
       ]
      },
      {
       "output_type": "stream",
       "stream": "stderr",
       "text": [
        "/Users/caporaso/.virtualenvs/iab-pip/lib/python2.7/site-packages/skbio/core/alignment/pairwise.py:300: EfficiencyWarning: You're using skbio's python implementation of Smith-Waterman alignment. This will be very slow (e.g., thousands of times slower) than skbio.core.alignment.local_pairwise_align_ssw.\n",
        "  EfficiencyWarning)\n"
       ]
      }
     ],
     "prompt_number": 38
    },
    {
     "cell_type": "code",
     "collapsed": false,
     "input": [
      "result = align('HEAGAWGHEE', 'PAWHEAE', 8, blosum50, False)\n",
      "print(result)"
     ],
     "language": "python",
     "metadata": {},
     "outputs": [
      {
       "output_type": "stream",
       "stream": "stdout",
       "text": [
        ">0\n",
        "HEAGAWGHE-E\n",
        ">1\n",
        "-PA--W-HEAE\n",
        "\n"
       ]
      }
     ],
     "prompt_number": 39
    },
    {
     "cell_type": "markdown",
     "metadata": {},
     "source": [
      "So there you have it: the basics of pairwise sequence alignment, which is easily the most fundamental algorithm in bioinformatics. "
     ]
    },
    {
     "cell_type": "heading",
     "level": 2,
     "metadata": {},
     "source": [
      "Smith-Waterman local alignment with affine gap scoring"
     ]
    },
    {
     "cell_type": "markdown",
     "metadata": {},
     "source": [
      "The second limitation of the our simple alignment algorithm, and other that is also present in our version of Smith-Waterman as implemented above, is that all gaps are scored equally whether they represent the opening of a new insertion/deletion, or the extension of an existing insertion/deletion. This isn't ideal based on what we know about how insertion/deletion events occur (see [this discussion of replication slippage](http://www.ncbi.nlm.nih.gov/books/NBK21114/)). Instead, **we might want to incurr a large penalty for opening a gap, but a smaller penalty for extending a gap**. To do this, **we need to make two small changes to our scoring scheme**. When we compute the score for a gap, we should incurr a *gap open penalty* if the previous max score was derived from inserting a gap character in the same sequence. If we represent our traceback matrix as $T$, our gap open penalty as $d^0$, and our gap extend penalty as $d^e$, our scoring scheme would look like the following:\n",
      "\n",
      "```\n",
      "F(i, j) = max( 0,\n",
      "               F(i-1, j-1) + s(xi, yj), \n",
      "               if T(i-1, j) == '|':\n",
      "                   F(i-1, j) - de\n",
      "               else:\n",
      "                   F(i-1, j) - do\n",
      "               if F(i, j-1) == '-':\n",
      "                   F(i, j-1) - de\n",
      "               else:\n",
      "                   F(i, j-1) - do\n",
      "             )\n",
      "```\n",
      "\n",
      "\n",
      "Notice how we only use the gap extend penalty if the previous max score resulted from a gap in the same sequence (which we know by looking in the traceback matrix) because it represents the continuation of an existing gap in that sequence. This is why we check for a specific type of gap in $T$, rather than checking whether $T$ `!= '\\'`. \n",
      "\n",
      "There are no changes to how final alignment scores are computed, nor are there changes to how traceback is performed. Therefore we can use an additional parameter in our ``_compute_score_and_traceback_matrices`` function, ``gap_extend_penalty`` (you may have noticed before that we were just passing the same value for ``gap_open_penalty`` and ``gap_extend_penalty`` - that treats gap openings and gap extensions equally). There are no changes in the traceback process, so we can use our existing `_traceback` function.\n",
      "\n",
      "Here is our ``_compute_score_and_traceback_matrices`` function again for reference."
     ]
    },
    {
     "cell_type": "code",
     "collapsed": false,
     "input": [
      "%psource _compute_score_and_traceback_matrices"
     ],
     "language": "python",
     "metadata": {},
     "outputs": [
      {
       "output_type": "stream",
       "stream": "stdout",
       "text": [
        "\u001b[0;32mdef\u001b[0m \u001b[0m_compute_score_and_traceback_matrices\u001b[0m\u001b[0;34m(\u001b[0m\u001b[0;34m\u001b[0m\n",
        "\u001b[0;34m\u001b[0m        \u001b[0mseq1\u001b[0m\u001b[0;34m,\u001b[0m \u001b[0mseq2\u001b[0m\u001b[0;34m,\u001b[0m \u001b[0mgap_open_penalty\u001b[0m\u001b[0;34m,\u001b[0m \u001b[0mgap_extend_penalty\u001b[0m\u001b[0;34m,\u001b[0m \u001b[0msubstitution_matrix\u001b[0m\u001b[0;34m,\u001b[0m\u001b[0;34m\u001b[0m\n",
        "\u001b[0;34m\u001b[0m        \u001b[0mnew_alignment_score\u001b[0m\u001b[0;34m=\u001b[0m\u001b[0;34m-\u001b[0m\u001b[0mnp\u001b[0m\u001b[0;34m.\u001b[0m\u001b[0minf\u001b[0m\u001b[0;34m,\u001b[0m \u001b[0minit_matrices_f\u001b[0m\u001b[0;34m=\u001b[0m\u001b[0m_init_matrices_nw\u001b[0m\u001b[0;34m)\u001b[0m\u001b[0;34m:\u001b[0m\u001b[0;34m\u001b[0m\n",
        "\u001b[0;34m\u001b[0m    \u001b[0;34m\"\"\"Return dynamic programming (score) and traceback matrices\u001b[0m\n",
        "\u001b[0;34m    \"\"\"\u001b[0m\u001b[0;34m\u001b[0m\n",
        "\u001b[0;34m\u001b[0m    \u001b[0;31m# cache some values for quicker/simpler access\u001b[0m\u001b[0;34m\u001b[0m\n",
        "\u001b[0;34m\u001b[0m    \u001b[0maend\u001b[0m \u001b[0;34m=\u001b[0m \u001b[0m_traceback_encoding\u001b[0m\u001b[0;34m[\u001b[0m\u001b[0;34m'alignment-end'\u001b[0m\u001b[0;34m]\u001b[0m\u001b[0;34m\u001b[0m\n",
        "\u001b[0;34m\u001b[0m    \u001b[0mmatch\u001b[0m \u001b[0;34m=\u001b[0m \u001b[0m_traceback_encoding\u001b[0m\u001b[0;34m[\u001b[0m\u001b[0;34m'match'\u001b[0m\u001b[0;34m]\u001b[0m\u001b[0;34m\u001b[0m\n",
        "\u001b[0;34m\u001b[0m    \u001b[0mvgap\u001b[0m \u001b[0;34m=\u001b[0m \u001b[0m_traceback_encoding\u001b[0m\u001b[0;34m[\u001b[0m\u001b[0;34m'vertical-gap'\u001b[0m\u001b[0;34m]\u001b[0m\u001b[0;34m\u001b[0m\n",
        "\u001b[0;34m\u001b[0m    \u001b[0mhgap\u001b[0m \u001b[0;34m=\u001b[0m \u001b[0m_traceback_encoding\u001b[0m\u001b[0;34m[\u001b[0m\u001b[0;34m'horizontal-gap'\u001b[0m\u001b[0;34m]\u001b[0m\u001b[0;34m\u001b[0m\n",
        "\u001b[0;34m\u001b[0m\u001b[0;34m\u001b[0m\n",
        "\u001b[0;34m\u001b[0m    \u001b[0mnew_alignment_score\u001b[0m \u001b[0;34m=\u001b[0m \u001b[0;34m(\u001b[0m\u001b[0mnew_alignment_score\u001b[0m\u001b[0;34m,\u001b[0m \u001b[0maend\u001b[0m\u001b[0;34m)\u001b[0m\u001b[0;34m\u001b[0m\n",
        "\u001b[0;34m\u001b[0m\u001b[0;34m\u001b[0m\n",
        "\u001b[0;34m\u001b[0m    \u001b[0;31m# Initialize a matrix to use for scoring the alignment and for tracing\u001b[0m\u001b[0;34m\u001b[0m\n",
        "\u001b[0;34m\u001b[0m    \u001b[0;31m# back the best alignment\u001b[0m\u001b[0;34m\u001b[0m\n",
        "\u001b[0;34m\u001b[0m    \u001b[0mscore_matrix\u001b[0m\u001b[0;34m,\u001b[0m \u001b[0mtraceback_matrix\u001b[0m \u001b[0;34m=\u001b[0m \u001b[0minit_matrices_f\u001b[0m\u001b[0;34m(\u001b[0m\u001b[0;34m\u001b[0m\n",
        "\u001b[0;34m\u001b[0m        \u001b[0mseq1\u001b[0m\u001b[0;34m,\u001b[0m \u001b[0mseq2\u001b[0m\u001b[0;34m,\u001b[0m \u001b[0mgap_open_penalty\u001b[0m\u001b[0;34m,\u001b[0m \u001b[0mgap_extend_penalty\u001b[0m\u001b[0;34m)\u001b[0m\u001b[0;34m\u001b[0m\n",
        "\u001b[0;34m\u001b[0m\u001b[0;34m\u001b[0m\n",
        "\u001b[0;34m\u001b[0m    \u001b[0;31m# Iterate over the characters in sequence two (which will correspond\u001b[0m\u001b[0;34m\u001b[0m\n",
        "\u001b[0;34m\u001b[0m    \u001b[0;31m# to the vertical sequence in the matrix)\u001b[0m\u001b[0;34m\u001b[0m\n",
        "\u001b[0;34m\u001b[0m    \u001b[0;31m# Note that i corresponds to column numbers, as in 'Biological Sequence\u001b[0m\u001b[0;34m\u001b[0m\n",
        "\u001b[0;34m\u001b[0m    \u001b[0;31m# Analysis'\u001b[0m\u001b[0;34m\u001b[0m\n",
        "\u001b[0;34m\u001b[0m    \u001b[0;32mfor\u001b[0m \u001b[0mi\u001b[0m\u001b[0;34m,\u001b[0m \u001b[0mc2\u001b[0m \u001b[0;32min\u001b[0m \u001b[0mzip\u001b[0m\u001b[0;34m(\u001b[0m\u001b[0mrange\u001b[0m\u001b[0;34m(\u001b[0m\u001b[0;36m1\u001b[0m\u001b[0;34m,\u001b[0m \u001b[0mlen\u001b[0m\u001b[0;34m(\u001b[0m\u001b[0mseq2\u001b[0m\u001b[0;34m)\u001b[0m\u001b[0;34m+\u001b[0m\u001b[0;36m1\u001b[0m\u001b[0;34m)\u001b[0m\u001b[0;34m,\u001b[0m \u001b[0mseq2\u001b[0m\u001b[0;34m)\u001b[0m\u001b[0;34m:\u001b[0m\u001b[0;34m\u001b[0m\n",
        "\u001b[0;34m\u001b[0m        \u001b[0;31m# Iterate over the characters in sequence one (which will\u001b[0m\u001b[0;34m\u001b[0m\n",
        "\u001b[0;34m\u001b[0m        \u001b[0;31m# correspond to the horizontal sequence in the matrix)\u001b[0m\u001b[0;34m\u001b[0m\n",
        "\u001b[0;34m\u001b[0m        \u001b[0;31m# Note that j corresponds to row numbers, as in 'Biological Sequence\u001b[0m\u001b[0;34m\u001b[0m\n",
        "\u001b[0;34m\u001b[0m        \u001b[0;31m# Analysis'\u001b[0m\u001b[0;34m\u001b[0m\n",
        "\u001b[0;34m\u001b[0m        \u001b[0;32mfor\u001b[0m \u001b[0mj\u001b[0m\u001b[0;34m,\u001b[0m \u001b[0mc1\u001b[0m \u001b[0;32min\u001b[0m \u001b[0mzip\u001b[0m\u001b[0;34m(\u001b[0m\u001b[0mrange\u001b[0m\u001b[0;34m(\u001b[0m\u001b[0;36m1\u001b[0m\u001b[0;34m,\u001b[0m \u001b[0mlen\u001b[0m\u001b[0;34m(\u001b[0m\u001b[0mseq1\u001b[0m\u001b[0;34m)\u001b[0m\u001b[0;34m+\u001b[0m\u001b[0;36m1\u001b[0m\u001b[0;34m)\u001b[0m\u001b[0;34m,\u001b[0m \u001b[0mseq1\u001b[0m\u001b[0;34m)\u001b[0m\u001b[0;34m:\u001b[0m\u001b[0;34m\u001b[0m\n",
        "\u001b[0;34m\u001b[0m            \u001b[0;32mtry\u001b[0m\u001b[0;34m:\u001b[0m\u001b[0;34m\u001b[0m\n",
        "\u001b[0;34m\u001b[0m                \u001b[0msubstitution_score\u001b[0m \u001b[0;34m=\u001b[0m \u001b[0msubstitution_matrix\u001b[0m\u001b[0;34m[\u001b[0m\u001b[0mc1\u001b[0m\u001b[0;34m]\u001b[0m\u001b[0;34m[\u001b[0m\u001b[0mc2\u001b[0m\u001b[0;34m]\u001b[0m\u001b[0;34m\u001b[0m\n",
        "\u001b[0;34m\u001b[0m            \u001b[0;32mexcept\u001b[0m \u001b[0mKeyError\u001b[0m\u001b[0;34m:\u001b[0m\u001b[0;34m\u001b[0m\n",
        "\u001b[0;34m\u001b[0m                \u001b[0moffending_chars\u001b[0m \u001b[0;34m=\u001b[0m \\\n",
        "                    \u001b[0;34m[\u001b[0m\u001b[0mc\u001b[0m \u001b[0;32mfor\u001b[0m \u001b[0mc\u001b[0m \u001b[0;32min\u001b[0m \u001b[0;34m(\u001b[0m\u001b[0mc1\u001b[0m\u001b[0;34m,\u001b[0m \u001b[0mc2\u001b[0m\u001b[0;34m)\u001b[0m \u001b[0;32mif\u001b[0m \u001b[0mc\u001b[0m \u001b[0;32mnot\u001b[0m \u001b[0;32min\u001b[0m \u001b[0msubstitution_matrix\u001b[0m\u001b[0;34m]\u001b[0m\u001b[0;34m\u001b[0m\n",
        "\u001b[0;34m\u001b[0m                \u001b[0;32mraise\u001b[0m \u001b[0mValueError\u001b[0m\u001b[0;34m(\u001b[0m\u001b[0;34m\u001b[0m\n",
        "\u001b[0;34m\u001b[0m                    \u001b[0;34m\"One of the sequences contains a character that is not \"\u001b[0m\u001b[0;34m\u001b[0m\n",
        "\u001b[0;34m\u001b[0m                    \u001b[0;34m\"contained in the substitution matrix. Are you using \"\u001b[0m\u001b[0;34m\u001b[0m\n",
        "\u001b[0;34m\u001b[0m                    \u001b[0;34m\"an appropriate substitution matrix for your sequence \"\u001b[0m\u001b[0;34m\u001b[0m\n",
        "\u001b[0;34m\u001b[0m                    \u001b[0;34m\"type (e.g., a nucleotide substitution matrix does not \"\u001b[0m\u001b[0;34m\u001b[0m\n",
        "\u001b[0;34m\u001b[0m                    \u001b[0;34m\"make sense for aligning protein sequences)? Does your \"\u001b[0m\u001b[0;34m\u001b[0m\n",
        "\u001b[0;34m\u001b[0m                    \u001b[0;34m\"sequence contain invalid characters? The offending \"\u001b[0m\u001b[0;34m\u001b[0m\n",
        "\u001b[0;34m\u001b[0m                    \u001b[0;34m\"character(s) is: %s.\"\u001b[0m \u001b[0;34m%\u001b[0m \u001b[0;34m', '\u001b[0m\u001b[0;34m.\u001b[0m\u001b[0mjoin\u001b[0m\u001b[0;34m(\u001b[0m\u001b[0moffending_chars\u001b[0m\u001b[0;34m)\u001b[0m\u001b[0;34m)\u001b[0m\u001b[0;34m\u001b[0m\n",
        "\u001b[0;34m\u001b[0m            \u001b[0mdiag_score\u001b[0m \u001b[0;34m=\u001b[0m \u001b[0;34m(\u001b[0m\u001b[0mscore_matrix\u001b[0m\u001b[0;34m[\u001b[0m\u001b[0mi\u001b[0m\u001b[0;34m-\u001b[0m\u001b[0;36m1\u001b[0m\u001b[0;34m,\u001b[0m \u001b[0mj\u001b[0m\u001b[0;34m-\u001b[0m\u001b[0;36m1\u001b[0m\u001b[0;34m]\u001b[0m \u001b[0;34m+\u001b[0m \u001b[0msubstitution_score\u001b[0m\u001b[0;34m,\u001b[0m \u001b[0mmatch\u001b[0m\u001b[0;34m)\u001b[0m\u001b[0;34m\u001b[0m\n",
        "\u001b[0;34m\u001b[0m            \u001b[0;32mif\u001b[0m \u001b[0mtraceback_matrix\u001b[0m\u001b[0;34m[\u001b[0m\u001b[0mi\u001b[0m\u001b[0;34m-\u001b[0m\u001b[0;36m1\u001b[0m\u001b[0;34m,\u001b[0m \u001b[0mj\u001b[0m\u001b[0;34m]\u001b[0m \u001b[0;34m==\u001b[0m \u001b[0mvgap\u001b[0m\u001b[0;34m:\u001b[0m\u001b[0;34m\u001b[0m\n",
        "\u001b[0;34m\u001b[0m                \u001b[0;31m# gap extend, because the cell above was also a gap\u001b[0m\u001b[0;34m\u001b[0m\n",
        "\u001b[0;34m\u001b[0m                \u001b[0mup_score\u001b[0m \u001b[0;34m=\u001b[0m \u001b[0;34m(\u001b[0m\u001b[0mscore_matrix\u001b[0m\u001b[0;34m[\u001b[0m\u001b[0mi\u001b[0m\u001b[0;34m-\u001b[0m\u001b[0;36m1\u001b[0m\u001b[0;34m,\u001b[0m \u001b[0mj\u001b[0m\u001b[0;34m]\u001b[0m \u001b[0;34m-\u001b[0m \u001b[0mgap_extend_penalty\u001b[0m\u001b[0;34m,\u001b[0m \u001b[0mvgap\u001b[0m\u001b[0;34m)\u001b[0m\u001b[0;34m\u001b[0m\n",
        "\u001b[0;34m\u001b[0m            \u001b[0;32melse\u001b[0m\u001b[0;34m:\u001b[0m\u001b[0;34m\u001b[0m\n",
        "\u001b[0;34m\u001b[0m                \u001b[0;31m# gap open, because the cell above was not a gap\u001b[0m\u001b[0;34m\u001b[0m\n",
        "\u001b[0;34m\u001b[0m                \u001b[0mup_score\u001b[0m \u001b[0;34m=\u001b[0m \u001b[0;34m(\u001b[0m\u001b[0mscore_matrix\u001b[0m\u001b[0;34m[\u001b[0m\u001b[0mi\u001b[0m\u001b[0;34m-\u001b[0m\u001b[0;36m1\u001b[0m\u001b[0;34m,\u001b[0m \u001b[0mj\u001b[0m\u001b[0;34m]\u001b[0m \u001b[0;34m-\u001b[0m \u001b[0mgap_open_penalty\u001b[0m\u001b[0;34m,\u001b[0m \u001b[0mvgap\u001b[0m\u001b[0;34m)\u001b[0m\u001b[0;34m\u001b[0m\n",
        "\u001b[0;34m\u001b[0m            \u001b[0;32mif\u001b[0m \u001b[0mtraceback_matrix\u001b[0m\u001b[0;34m[\u001b[0m\u001b[0mi\u001b[0m\u001b[0;34m,\u001b[0m \u001b[0mj\u001b[0m\u001b[0;34m-\u001b[0m\u001b[0;36m1\u001b[0m\u001b[0;34m]\u001b[0m \u001b[0;34m==\u001b[0m \u001b[0mhgap\u001b[0m\u001b[0;34m:\u001b[0m\u001b[0;34m\u001b[0m\n",
        "\u001b[0;34m\u001b[0m                \u001b[0;31m# gap extend, because the cell to the left was also a gap\u001b[0m\u001b[0;34m\u001b[0m\n",
        "\u001b[0;34m\u001b[0m                \u001b[0mleft_score\u001b[0m \u001b[0;34m=\u001b[0m \u001b[0;34m(\u001b[0m\u001b[0mscore_matrix\u001b[0m\u001b[0;34m[\u001b[0m\u001b[0mi\u001b[0m\u001b[0;34m,\u001b[0m \u001b[0mj\u001b[0m\u001b[0;34m-\u001b[0m\u001b[0;36m1\u001b[0m\u001b[0;34m]\u001b[0m \u001b[0;34m-\u001b[0m \u001b[0mgap_extend_penalty\u001b[0m\u001b[0;34m,\u001b[0m \u001b[0mhgap\u001b[0m\u001b[0;34m)\u001b[0m\u001b[0;34m\u001b[0m\n",
        "\u001b[0;34m\u001b[0m            \u001b[0;32melse\u001b[0m\u001b[0;34m:\u001b[0m\u001b[0;34m\u001b[0m\n",
        "\u001b[0;34m\u001b[0m                \u001b[0;31m# gap open, because the cell to the left was not a gap\u001b[0m\u001b[0;34m\u001b[0m\n",
        "\u001b[0;34m\u001b[0m                \u001b[0mleft_score\u001b[0m \u001b[0;34m=\u001b[0m \u001b[0;34m(\u001b[0m\u001b[0mscore_matrix\u001b[0m\u001b[0;34m[\u001b[0m\u001b[0mi\u001b[0m\u001b[0;34m,\u001b[0m \u001b[0mj\u001b[0m\u001b[0;34m-\u001b[0m\u001b[0;36m1\u001b[0m\u001b[0;34m]\u001b[0m \u001b[0;34m-\u001b[0m \u001b[0mgap_open_penalty\u001b[0m\u001b[0;34m,\u001b[0m \u001b[0mhgap\u001b[0m\u001b[0;34m)\u001b[0m\u001b[0;34m\u001b[0m\n",
        "\u001b[0;34m\u001b[0m            \u001b[0mbest_score\u001b[0m \u001b[0;34m=\u001b[0m \u001b[0m_first_largest\u001b[0m\u001b[0;34m(\u001b[0m\u001b[0;34m[\u001b[0m\u001b[0mnew_alignment_score\u001b[0m\u001b[0;34m,\u001b[0m \u001b[0mleft_score\u001b[0m\u001b[0;34m,\u001b[0m\u001b[0;34m\u001b[0m\n",
        "\u001b[0;34m\u001b[0m                                         \u001b[0mdiag_score\u001b[0m\u001b[0;34m,\u001b[0m \u001b[0mup_score\u001b[0m\u001b[0;34m]\u001b[0m\u001b[0;34m)\u001b[0m\u001b[0;34m\u001b[0m\n",
        "\u001b[0;34m\u001b[0m            \u001b[0mscore_matrix\u001b[0m\u001b[0;34m[\u001b[0m\u001b[0mi\u001b[0m\u001b[0;34m,\u001b[0m \u001b[0mj\u001b[0m\u001b[0;34m]\u001b[0m \u001b[0;34m=\u001b[0m \u001b[0mbest_score\u001b[0m\u001b[0;34m[\u001b[0m\u001b[0;36m0\u001b[0m\u001b[0;34m]\u001b[0m\u001b[0;34m\u001b[0m\n",
        "\u001b[0;34m\u001b[0m            \u001b[0mtraceback_matrix\u001b[0m\u001b[0;34m[\u001b[0m\u001b[0mi\u001b[0m\u001b[0;34m,\u001b[0m \u001b[0mj\u001b[0m\u001b[0;34m]\u001b[0m \u001b[0;34m=\u001b[0m \u001b[0mbest_score\u001b[0m\u001b[0;34m[\u001b[0m\u001b[0;36m1\u001b[0m\u001b[0;34m]\u001b[0m\u001b[0;34m\u001b[0m\n",
        "\u001b[0;34m\u001b[0m    \u001b[0;32mreturn\u001b[0m \u001b[0mscore_matrix\u001b[0m\u001b[0;34m,\u001b[0m \u001b[0mtraceback_matrix\u001b[0m\u001b[0;34m\u001b[0m\u001b[0m\n",
        "\n"
       ]
      }
     ],
     "prompt_number": 40
    },
    {
     "cell_type": "markdown",
     "metadata": {},
     "source": [
      "Take a look at how the scores differ with these additions."
     ]
    },
    {
     "cell_type": "code",
     "collapsed": false,
     "input": [
      "seq1 = \"HEAGAWGHEE\"\n",
      "seq2 = \"PAWHEAE\"\n",
      "\n",
      "sw_matrix, traceback_matrix = _compute_score_and_traceback_matrices(seq1, seq2, 8, 1, blosum50)\n",
      "\n",
      "print(format_dynamic_programming_matrix(seq1, seq2, sw_matrix))"
     ],
     "language": "python",
     "metadata": {},
     "outputs": [
      {
       "output_type": "stream",
       "stream": "stdout",
       "text": [
        "                 H     E     A     G     A     W     G     H     E     E\n",
        "         0.0  -8.0  -9.0 -10.0 -11.0 -12.0 -13.0 -14.0 -15.0 -16.0 -17.0\n",
        "     P  -8.0  -2.0  -9.0 -10.0 -12.0 -12.0 -16.0 -15.0 -16.0 -16.0 -17.0\n",
        "     A  -9.0 -10.0  -3.0  -4.0 -10.0  -7.0 -15.0 -16.0 -17.0 -17.0 -17.0\n",
        "     W -10.0 -12.0 -11.0  -6.0  -7.0 -13.0   8.0   0.0  -1.0  -2.0  -3.0\n",
        "     H -11.0   0.0  -8.0  -9.0  -8.0  -9.0   0.0   6.0  10.0   2.0   1.0\n",
        "     E -12.0  -8.0   6.0  -2.0  -3.0  -4.0  -1.0  -2.0   6.0  16.0   8.0\n",
        "     A -13.0  -9.0  -2.0  11.0   3.0   2.0   1.0   0.0  -1.0   8.0  15.0\n",
        "     E -14.0 -10.0  -3.0   3.0   8.0   2.0  -1.0  -2.0   0.0   7.0  14.0\n"
       ]
      }
     ],
     "prompt_number": 41
    },
    {
     "cell_type": "code",
     "collapsed": false,
     "input": [
      "print(format_traceback_matrix(seq1, seq2, traceback_matrix))"
     ],
     "language": "python",
     "metadata": {},
     "outputs": [
      {
       "output_type": "stream",
       "stream": "stdout",
       "text": [
        "                 H     E     A     G     A     W     G     H     E     E\n",
        "           *     -     -     -     -     -     -     -     -     -     -\n",
        "     P     |     \\     \\     \\     \\     \\     \\     \\     \\     \\     \\\n",
        "     A     |     \\     \\     \\     \\     \\     -     -     -     \\     \\\n",
        "     W     |     \\     |     \\     \\     \\     \\     -     -     -     -\n",
        "     H     |     \\     -     -     \\     \\     |     \\     \\     -     -\n",
        "     E     |     |     \\     -     -     -     |     |     \\     \\     -\n",
        "     A     |     |     |     \\     -     -     -     -     -     |     \\\n",
        "     E     |     |     \\     |     \\     \\     \\     \\     \\     |     \\\n"
       ]
      }
     ],
     "prompt_number": 42
    },
    {
     "cell_type": "markdown",
     "metadata": {},
     "source": [
      "The convenience functions we worked with above all take ``gap_open_penalty`` and ``gap_extend_penalty``, so we can use those to explore sequence alignment with affine gap scoring. Here I define `seq1` to be slightly different than what I have above. Notice how we get different alignments when we use affine gap penalties (i.e., ``gap_extend_penalty`` is not equal to ``gap_open_penalty``) versus equal gap open and gap extend penalties. "
     ]
    },
    {
     "cell_type": "code",
     "collapsed": false,
     "input": [
      "help(local_pairwise_align)"
     ],
     "language": "python",
     "metadata": {},
     "outputs": [
      {
       "output_type": "stream",
       "stream": "stdout",
       "text": [
        "Help on function local_pairwise_align in module skbio.core.alignment.pairwise:\n",
        "\n",
        "local_pairwise_align(seq1, seq2, gap_open_penalty, gap_extend_penalty, substitution_matrix)\n",
        "    Locally align exactly two seqs with Smith-Waterman\n",
        "    \n",
        "    Parameters\n",
        "    ----------\n",
        "    seq1 : str or BiologicalSequence\n",
        "        The first unaligned sequence.\n",
        "    seq2 : str or BiologicalSequence\n",
        "        The second unaligned sequence.\n",
        "    gap_open_penalty : int or float\n",
        "        Penalty for opening a gap (this is substracted from previous best\n",
        "        alignment score, so is typically positive).\n",
        "    gap_extend_penalty : int or float\n",
        "        Penalty for extending a gap (this is substracted from previous best\n",
        "        alignment score, so is typically positive).\n",
        "    substitution_matrix: 2D dict (or similar)\n",
        "        Lookup for substitution scores (these values are added to the\n",
        "        previous best alignment score).\n",
        "    \n",
        "    Returns\n",
        "    -------\n",
        "    skbio.Alignment\n",
        "       ``Alignment`` object containing the aligned sequences as well as\n",
        "        details about the alignment.\n",
        "    \n",
        "    See Also\n",
        "    --------\n",
        "    local_pairwise_align_protein\n",
        "    local_pairwise_align_nucleotide\n",
        "    skbio.core.alignment.local_pairwise_align_ssw\n",
        "    global_pairwise_align\n",
        "    global_pairwise_align_protein\n",
        "    global_pairwise_align_nucelotide\n",
        "    \n",
        "    Notes\n",
        "    -----\n",
        "    This algorithm was originally described in [1]_. The scikit-bio\n",
        "    implementation was validated against the EMBOSS water web server [2]_.\n",
        "    \n",
        "    References\n",
        "    ----------\n",
        "    .. [1] Identification of common molecular subsequences.\n",
        "       Smith TF, Waterman MS.\n",
        "       J Mol Biol. 1981 Mar 25;147(1):195-7.\n",
        "    .. [2] http://www.ebi.ac.uk/Tools/psa/emboss_water/\n",
        "\n"
       ]
      }
     ],
     "prompt_number": 43
    },
    {
     "cell_type": "code",
     "collapsed": false,
     "input": [
      "seq1 = \"HEAGAWGFHEE\"\n",
      "seq2 = \"PAWHEAE\""
     ],
     "language": "python",
     "metadata": {},
     "outputs": [],
     "prompt_number": 44
    },
    {
     "cell_type": "code",
     "collapsed": false,
     "input": [
      "alignment = global_pairwise_align(seq1, seq2, 8, 8, blosum50)\n",
      "\n",
      "print(alignment)\n",
      "print(alignment.score())"
     ],
     "language": "python",
     "metadata": {},
     "outputs": [
      {
       "output_type": "stream",
       "stream": "stdout",
       "text": [
        ">0\n",
        "HEAGAWGFHE-E\n",
        ">1\n",
        "-PA--W--HEAE\n",
        "\n",
        "-7.0\n"
       ]
      }
     ],
     "prompt_number": 45
    },
    {
     "cell_type": "code",
     "collapsed": false,
     "input": [
      "alignment = global_pairwise_align(seq1, seq2, 8, 1, blosum50)\n",
      "\n",
      "print(alignment)\n",
      "print(alignment.score())"
     ],
     "language": "python",
     "metadata": {},
     "outputs": [
      {
       "output_type": "stream",
       "stream": "stdout",
       "text": [
        ">0\n",
        "HEAGAWGFHE-E\n",
        ">1\n",
        "---PAW--HEAE\n",
        "\n",
        "13.0\n"
       ]
      }
     ],
     "prompt_number": 46
    },
    {
     "cell_type": "heading",
     "level": 2,
     "metadata": {},
     "source": [
      "How long does pairwise sequence alignment take?"
     ]
    },
    {
     "cell_type": "markdown",
     "metadata": {},
     "source": [
      "The focus of this course is *applied* bioinformatics, and **some of the practical considerations we need to think about when developing applications is their runtime and memory requirements**. The third issue we mentioned above is general to the problem of sequence alignment: runtime can be problematic. Over the next few cells we'll explore the runtime of sequence alignment.\n",
      "\n",
      "We just worked through a few algorithms for pairwise sequence alignment, and used some toy examples with short sequences. What if we wanted to scale this up to align much longer sequences, or to align relatively short sequences against a large database. \n",
      "\n",
      "To explore runtime, let's use the IPython [magic function](http://ipython.org/ipython-doc/dev/interactive/tutorial.html#magic-functions) called ``timeit``, which runs a given command many times and reports the average time it takes to fun. We'll use this to see how long global alignment takes to run. Note that we don't care about getting the actual alignment back anymore, we just want the runtime in seconds."
     ]
    },
    {
     "cell_type": "code",
     "collapsed": false,
     "input": [
      "%timeit global_pairwise_align(seq1, seq2, 8, 1, blosum50)"
     ],
     "language": "python",
     "metadata": {},
     "outputs": [
      {
       "output_type": "stream",
       "stream": "stdout",
       "text": [
        "1000 loops, best of 3: 1.07 ms per loop\n"
       ]
      }
     ],
     "prompt_number": 47
    },
    {
     "cell_type": "markdown",
     "metadata": {},
     "source": [
      "Next, let's apply this to pairs of sequences where we vary the length. We don't really care what the sequences are here, so we'll use python's ``random`` module to get random pairs of sequences. Let's play with that first to see how it can be applied to generate random sequences, as that's generally useful functionality."
     ]
    },
    {
     "cell_type": "code",
     "collapsed": false,
     "input": [
      "from random import choice\n",
      "\n",
      "def random_sequence(alphabet, length):\n",
      "    result = []\n",
      "    for e in range(length):\n",
      "        result.append(choice(alphabet))\n",
      "    return ''.join(result)"
     ],
     "language": "python",
     "metadata": {},
     "outputs": [],
     "prompt_number": 48
    },
    {
     "cell_type": "code",
     "collapsed": false,
     "input": [
      "aa_choices = blosum50.keys()\n",
      "\n",
      "print(random_sequence(aa_choices, 10))\n",
      "print(random_sequence(aa_choices, 10))\n",
      "print(random_sequence(aa_choices, 25))\n",
      "print(random_sequence(aa_choices, 50))"
     ],
     "language": "python",
     "metadata": {},
     "outputs": [
      {
       "output_type": "stream",
       "stream": "stdout",
       "text": [
        "RQKYNDFIAT\n",
        "YNWMWRKAMR\n",
        "ENTHWGNQNFNIMLQFSQGQTKRMW\n",
        "LTIPEIQDLRNIKFWQHPDMHEHMNLWIEFWGQPMKGMPFWMPGCIKPEM\n"
       ]
      }
     ],
     "prompt_number": 49
    },
    {
     "cell_type": "markdown",
     "metadata": {},
     "source": [
      "Next, let's define a loop where we align randomly pairs of sequences of increasing length, and compile the time it took to align the sequences. Here we're going to use a faster version of pairwise alignment that's implemented in scikit-bio, to faciliate testing with more alignments."
     ]
    },
    {
     "cell_type": "code",
     "collapsed": false,
     "input": [
      "import timeit\n",
      "from skbio.core.alignment import local_pairwise_align_ssw\n",
      "\n",
      "times = []\n",
      "seq_lengths = range(50,100000,20000)\n",
      "\n",
      "def get_time_function(seq_length):\n",
      "    def f():\n",
      "        seq1 = DNA([choice(aa_choices) for i in range(seq_length)])\n",
      "        seq2 = DNA([choice(aa_choices) for i in range(seq_length)])\n",
      "        local_pairwise_align_ssw(seq1, seq2)\n",
      "    return f\n",
      "    \n",
      "for seq_length in seq_lengths:\n",
      "    times.append(min(timeit.Timer(get_time_function(seq_length)).repeat(repeat=3, number=3)))\n",
      "    "
     ],
     "language": "python",
     "metadata": {},
     "outputs": [],
     "prompt_number": 50
    },
    {
     "cell_type": "markdown",
     "metadata": {},
     "source": [
      "If we look at the run times, we can see that they are increasing with increasing sequence lengths. "
     ]
    },
    {
     "cell_type": "code",
     "collapsed": false,
     "input": [
      "for seq_length, t in zip(seq_lengths, times):\n",
      "    print(\"%d\\t%1.4f sec\" % (seq_length, t))"
     ],
     "language": "python",
     "metadata": {},
     "outputs": [
      {
       "output_type": "stream",
       "stream": "stdout",
       "text": [
        "50\t0.0007 sec\n",
        "20050\t0.3078 sec\n",
        "40050\t0.8424 sec\n",
        "60050\t1.7377 sec\n",
        "80050\t3.6821 sec\n"
       ]
      }
     ],
     "prompt_number": 51
    },
    {
     "cell_type": "markdown",
     "metadata": {},
     "source": [
      "That's expected, but what we care about is how they're increasing. Can we use this information to project how well this alignment would work if our sequences were much longer? This is where plotting becomes useful."
     ]
    },
    {
     "cell_type": "code",
     "collapsed": false,
     "input": [
      "import matplotlib.pyplot as plt\n",
      "\n",
      "plt.plot(seq_lengths, times)\n",
      "plt.xlabel('Sequence Length')\n",
      "plt.ylabel('Runtime (s)')\n"
     ],
     "language": "python",
     "metadata": {},
     "outputs": [
      {
       "metadata": {},
       "output_type": "pyout",
       "prompt_number": 52,
       "text": [
        "<matplotlib.text.Text at 0x10f3d5e90>"
       ]
      },
      {
       "metadata": {},
       "output_type": "display_data",
       "png": "[encoded data removed]",
       "text": [
        "<matplotlib.figure.Figure at 0x10f3b0410>"
       ]
      }
     ],
     "prompt_number": 52
    },
    {
     "cell_type": "markdown",
     "metadata": {},
     "source": [
      "**One good question is whether developing a version of this algorithm which can run in parallel would be an effective way to make it scale to larger data sets.** In the next cell, we look and how the plot would change if we could run the alignment process over four processors. This would effectively make each alignment run four times as fast (so each runtime would be divided by four) but it doesn't solve our scability problem."
     ]
    },
    {
     "cell_type": "code",
     "collapsed": false,
     "input": [
      "# if we could split this process over more processors (four, for example)\n",
      "# that would effectively reduce the runtime by 1/4\n",
      "times = [t / 4 for t in times]\n",
      "\n",
      "\n",
      "plt.plot(seq_lengths, times)\n",
      "plt.xlabel('Sequence Length')\n",
      "plt.ylabel('Runtime (s)')"
     ],
     "language": "python",
     "metadata": {},
     "outputs": [
      {
       "metadata": {},
       "output_type": "pyout",
       "prompt_number": 53,
       "text": [
        "<matplotlib.text.Text at 0x10f407150>"
       ]
      },
      {
       "metadata": {},
       "output_type": "display_data",
       "png": "[encoded data removed]",
       "text": [
        "<matplotlib.figure.Figure at 0x10f3fcbd0>"
       ]
      }
     ],
     "prompt_number": 53
    },
    {
     "cell_type": "markdown",
     "metadata": {},
     "source": [
      "**Notice that the runtimes in the plot (the y-axis) are smaller, but shape of the curve is the same.** This tells us that we won't be in trouble as soon (we can run bigger alignments in a reasonable amount of time), but we'll still be in trouble eventually. While parallelization can help with this class of computational problem -- one that scales [quadratically](http://en.wikipedia.org/wiki/Quadratic_time) -- it doesn't resolve the problem completely.\n",
      "\n",
      "How an algorithm scales with input size is referred to as its computational complexity. You can explore the computational complexity of different types of algorithms in the [Big-O cheatsheet](http://bigocheatsheet.com/), though it's a fairly advanced introduction to the topic (and one that's usually covered in the second or third year for Computer Science majors). \n",
      "\n",
      "In the next chapter we'll begin exploring ways to address this scalability issue by approximating solutions to the problem."
     ]
    },
    {
     "cell_type": "code",
     "collapsed": false,
     "input": [],
     "language": "python",
     "metadata": {},
     "outputs": [],
     "prompt_number": 53
    }
   ],
   "metadata": {}
  }
 ]
}