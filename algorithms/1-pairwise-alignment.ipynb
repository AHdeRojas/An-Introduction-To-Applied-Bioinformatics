{
 "metadata": {
  "name": ""
 },
 "nbformat": 3,
 "nbformat_minor": 0,
 "worksheets": [
  {
   "cells": [
    {
     "cell_type": "heading",
     "level": 1,
     "metadata": {},
     "source": [
      "Introduction to pairwise sequence alignment"
     ]
    },
    {
     "cell_type": "markdown",
     "metadata": {},
     "source": [
      "One of the most core problems in bioinformatics is determining how \"similar\" a pair of sequences are. There are many applications for this, including determing the function of an unknown gene sequence, determining the source organism of a sequence, developing hypotheses about the relatedness of organisms, or grouping sequences from closely related organisms. On the surface, this seems like a pretty straight-forward problem - not one that would have been at the center of decades of research and the subject of [one of the most cited papers](http://scholar.google.com/citations?view_op=view_citation&hl=en&user=VRccPlQAAAAJ&citation_for_view=VRccPlQAAAAJ:u-x6o8ySG0sC) in modern biology.\n",
      "\n",
      "For example, imagine you have three sequences - call them ``r1`` and (for *reference*) and ``q1`` and ``q2`` (for *query*). Can't you just count the number of differences across their length (i.e., compute the [Hamming distance](http://en.wikipedia.org/wiki/Hamming_distance) between them) to figure out whether ``q1`` or ``q2`` is more closely related to ``r1``? "
     ]
    },
    {
     "cell_type": "code",
     "collapsed": false,
     "input": [
      "from __future__ import division\n",
      "\n",
      "r1 = \"ACCCAGGTTAACGGTGACCAGGTACCAGAAGGGTACCAGGTAGGACACACGGGGATTAA\"\n",
      "q1 = \"ACCGAGGTTAACGGTGACCAGGTACCAGAAGGGTACCAGGTAGGAGACACGGCGATTAA\"\n",
      "q2 = \"TTCCAGGTAAACGGTGACCAGGTACCAGTTGCGTTTGTTGTAGGAGACACGGGGACCCA\"\n",
      "\n",
      "def hamming_distance(s1, s2):\n",
      "    \"\"\" Compute Hamming distance, trimming longer sequence to length of the shorter\n",
      "    \n",
      "    Parameters\n",
      "    ----------\n",
      "    s1 : python Sequence (e.g., string, tuple, list)\n",
      "        The first sequence to compare\n",
      "    s2 : python Sequence (e.g., string, tuple, list)\n",
      "        The second sequence to compare\n",
      "    \"\"\"\n",
      "    differences = 0\n",
      "    for c1, c2 in zip(s1, s2):\n",
      "        if c1 != c2:\n",
      "            differences += 1\n",
      "    return differences\n",
      "\n",
      "print hamming_distance(r1, q1)\n",
      "print hamming_distance(r1, q2)"
     ],
     "language": "python",
     "metadata": {},
     "outputs": []
    },
    {
     "cell_type": "markdown",
     "metadata": {},
     "source": [
      "In this case, ``q1`` is clearly more similar to ``r1`` than ``q2`` is. But it's not always that simple. Here we're assuming that only substitution events have occured. Let's define ``q3``, which is the same as ``q2`` except that a single base deletion (with respect to ``r1``) is present toward the beginning of the sequence."
     ]
    },
    {
     "cell_type": "code",
     "collapsed": false,
     "input": [
      "q3 = \"ACGAGGTTAACGGTGACCAGGTACCAGAAGGGTACCAGGTAGGAGACACGGCGATTAA\"\n",
      "print hamming_distance(r1, q3)"
     ],
     "language": "python",
     "metadata": {},
     "outputs": []
    },
    {
     "cell_type": "markdown",
     "metadata": {},
     "source": [
      "This one base change had a big effect on the distance between the two sequences. If this is a protein coding sequence, maybe that's reasonable, but given what we know about how biological sequences evolve this doesn't seem biologically justified. In this case, it seems that an insertion or deletion (i.e., an **indel**) event has shifted one sequence relative to the other, which resulted in many of the bases \"downstream\" of the indel being different. What we'd really want to do is have a way to indicate that an indel seems to have occured in one of the sequences. For example, let's define ``q4``, where we use a ``-`` character to indicate a deletion with respect to ``r1``. This results in what seems like a more reasonable distance between the two sequences (though given what you know about how indel events can disrupt protein coding sequences, you may feel that this distance is too close to the distance between ``r1`` and ``q1``):"
     ]
    },
    {
     "cell_type": "code",
     "collapsed": false,
     "input": [
      "q4 = \"AC-GAGGTTAACGGTGACCAGGTACCAGAAGGGTACCAGGTAGGAGACACGGCGATTAA\"\n",
      "print hamming_distance(r1,q4)"
     ],
     "language": "python",
     "metadata": {},
     "outputs": []
    },
    {
     "cell_type": "markdown",
     "metadata": {},
     "source": [
      "What we've done here is create a pairwise alignment of ``r1`` and ``q4``. In other words, we've **aligned** the positions that we hypothesize were derived from the same position in some ancestral sequence. The *alignment* is clear if we print these two sequence out one on top of the other:"
     ]
    },
    {
     "cell_type": "code",
     "collapsed": false,
     "input": [
      "print r1\n",
      "print q4"
     ],
     "language": "python",
     "metadata": {},
     "outputs": []
    },
    {
     "cell_type": "markdown",
     "metadata": {},
     "source": [
      "Scanning through these two sequences, we can see that they are mostly identicial, with the except of one ``-`` character, and a few *substitutions* of one base for another. We refer to ``-`` characters in aligned sequences as **gaps**. "
     ]
    },
    {
     "cell_type": "markdown",
     "metadata": {},
     "source": [
      "The problem of **pairwise sequence alignment** is, **given two sequences, generate a hypothesis about which bases were derived from a common ancestor**. In other words, align one on top of the other, inserting gaps as necessary, in a way that maximizes their similarity. Sequence alignment is tricky, in part, because of insertion/deletion mutations, and in part because particularly as sequences get long, there may be many possible ways to align them and we need to figure out which of those alignments is the best hypothesis in light of what we know about the (very messy) underlying biological systems. (When the sequences get very long, sequence alignment also becomes a very computationally expensive problem - we'll come back to this part.)\n",
      "\n",
      "In the next section we'll work through one algorithm for aligning a pair of sequences. As you work through this exercise, try to make a list of the assumptions that we're making that violate what you know about how sequences evolve. "
     ]
    },
    {
     "cell_type": "heading",
     "level": 2,
     "metadata": {},
     "source": [
      "A simple procedure for aligning a pair of sequences"
     ]
    },
    {
     "cell_type": "markdown",
     "metadata": {},
     "source": [
      "Aligning ``seq1`` and ``seq2`` can be achieved algorithmically in a few steps. First, let's define the sequences that we want to align."
     ]
    },
    {
     "cell_type": "code",
     "collapsed": false,
     "input": [
      "seq1 = \"ACCGGTGGAACCGGTAACACCCAC\"\n",
      "seq2 = \"ACCGGTAACCGGTTAACACCCAC\""
     ],
     "language": "python",
     "metadata": {},
     "outputs": []
    },
    {
     "cell_type": "markdown",
     "metadata": {},
     "source": [
      "I'm going to use a function in the following cells called ``format_matrix`` to display the alignment. Once a object has been imported, you can always view the source code for that function. This will be useful as we begin to explore some of the algorithms that are in use throughout these notebooks. \n",
      "\n",
      "For example:"
     ]
    },
    {
     "cell_type": "code",
     "collapsed": false,
     "input": [
      "from inspect import getsource\n",
      "\n",
      "from iab.algorithms import format_matrix"
     ],
     "language": "python",
     "metadata": {},
     "outputs": []
    },
    {
     "cell_type": "code",
     "collapsed": false,
     "input": [
      "print getsource(format_matrix)"
     ],
     "language": "python",
     "metadata": {},
     "outputs": []
    },
    {
     "cell_type": "markdown",
     "metadata": {},
     "source": [
      "Now let's look at how to align these sequences.\n",
      "\n",
      "**Step 1.** Create a matrix, where the colums represent the positions in ``seq1`` and the rows represent the positions in ``seq2``. "
     ]
    },
    {
     "cell_type": "code",
     "collapsed": false,
     "input": [
      "data = []\n",
      "for p in seq2:\n",
      "    data.append(['-']*len(seq1))\n",
      "\n",
      "print format_matrix(seq1, seq2, data)"
     ],
     "language": "python",
     "metadata": {},
     "outputs": []
    },
    {
     "cell_type": "markdown",
     "metadata": {},
     "source": [
      "**Step 2.** Score the cells where the row value is equal to the column value as ``1``, and the others as ``0``. "
     ]
    },
    {
     "cell_type": "code",
     "collapsed": false,
     "input": [
      "data = []\n",
      "for b2 in seq2:\n",
      "    row = []\n",
      "    for b1 in seq1:\n",
      "        if b1 == b2:\n",
      "            row.append(1)\n",
      "        else:\n",
      "            row.append(0)\n",
      "    data.append(row)\n",
      "        \n",
      "print format_matrix(seq1, seq2, data, hide_zeros=True)"
     ],
     "language": "python",
     "metadata": {},
     "outputs": []
    },
    {
     "cell_type": "markdown",
     "metadata": {},
     "source": [
      "**Step 3**: Identify the \u201chigh-scoring\u201d or contiguous diagonals. You can score each diagonal by summing the values in each cell."
     ]
    },
    {
     "cell_type": "code",
     "collapsed": false,
     "input": [
      "line_format = \"%3s\" * (len(seq1) + 1)\n",
      "scored_data = []\n",
      "for i, drow in enumerate(data):\n",
      "    row = []\n",
      "    for j, value in enumerate(drow):\n",
      "        if value > 0:\n",
      "            if i == 0 or j == 0:\n",
      "                row.append(value)\n",
      "            else:\n",
      "                row.append(value + scored_data[i-1][j-1])\n",
      "        else:\n",
      "            row.append(0)\n",
      "    scored_data.append(row)\n",
      "        \n",
      "print format_matrix(seq1, seq2, scored_data, hide_zeros=True)"
     ],
     "language": "python",
     "metadata": {},
     "outputs": []
    },
    {
     "cell_type": "markdown",
     "metadata": {},
     "source": [
      "**Step 4**: Transcribe and score alignments including gaps (subtract one for every non-diagonal cell).\n",
      "\n",
      "You can now identify the highest scoring contiguous alignments \u2013 but notice that this only represents a portion of the full sequences, and there are other regions that are apparently homologous (as evidenced by high alignment scores).\n",
      "\n",
      "To transcribe a gapped alignment, add a gap character in the first (horizontal) sequence for each vertical line in the matrix, and a gap character in the second (vertical) sequence for each horizontal line in the matrix.\n",
      "\n",
      "``ACCGGTGGAACCGG-TAACACCCAC``\n",
      "\n",
      "``ACCGGT--AACCGGTTAACACCCAC``\n",
      "\n",
      "Alignment score: 19\n",
      "\n",
      "\n",
      "``ACCGGTGGAACCGGTAACACCCAC``\n",
      "\n",
      "``ACCGGT--------TAACACCCAC``\n",
      "\n",
      "Alignment score: 8\n",
      "\n",
      "**Remember that an alignment represents a hypothesis about the evolutionary history of a sequence.  Which of these hypotheses do you think is more likely to be true based on what you know about sequence evolution?**\n",
      "\n",
      "**As an exercise**, now scroll back to where we defined `seq1` and `seq2` and redefine one or both of those as other sequences. Execute that cell, and the one up to the previous cell, and transcribe the highest scoring alignment. "
     ]
    },
    {
     "cell_type": "markdown",
     "metadata": {},
     "source": [
      "**Complexities**: why this simple procedure is too simple\n",
      "\n",
      "1. We\u2019re scoring all matches as 1 and all mismatches as 0. This suggests that all substitutions are treated equally. What\u2019s a more biologically meaningful way to do this (e.g., in protein alignments)?\n",
      "\n",
      "2. Similarly, every gap that is introduced results in the same penalty being incurred. Based on what we know about how insertion/deletion events occur, it likely makes more sense to score *opening a new gap* differently from *extending an existing gap*.\n",
      "\n",
      "3. When searching a novel sequence against a database, you may have billions of bases to search against (which would correspond to billions of columns in these matrices). How can this be done efficiently? How can you determine if a hit is statistically meaningful or the result of chance?\n",
      "\n",
      "All scoring schemes have limitations, and you should consider alignments that come back from systems such as BLAST as hypotheses. You still need to do your due diligence to decide if you agree with the result that a computational systems gives you. They are there to help you do your work, but their answers are based on models and the models are not perfect. Be skeptical!\n",
      "\n",
      "Over the next several sections we'll explore ways of addressing each of these complexities. This notebook covers solutions to address the first and second. We'll introduce the problem of the third in this notebook, but begin exploring solutions in the next chapter."
     ]
    },
    {
     "cell_type": "heading",
     "level": 2,
     "metadata": {},
     "source": [
      "Substitution matrices"
     ]
    },
    {
     "cell_type": "markdown",
     "metadata": {},
     "source": [
      "The first of the limitations we identified above was that all matches and mismatches are scored equally, though we know that that isn't the most biologically meaningful way to score an alignment. We'll next expore a more general approach to the problem of *global sequence alignment* for protein sequences, or aligning a pair of protein sequences from beginning to end. We'll start by defining a **substitution matrix which defines the score associated with substitution of one amino acid for another**. We'll do this in a 2D python dictionary. "
     ]
    },
    {
     "cell_type": "code",
     "collapsed": false,
     "input": [
      "from iab.algorithms import blosum50\n",
      "\n",
      "print blosum50"
     ],
     "language": "python",
     "metadata": {},
     "outputs": []
    },
    {
     "cell_type": "markdown",
     "metadata": {},
     "source": [
      "Early work on defining protein substitution matrices was performed by Dayhoff in the 1970s and by Henikoff and Henikoff in the early 1990s. This substitution matrix is known as the blosum 50 matrix, and was [presented in PNAS in 1992](http://www.ncbi.nlm.nih.gov/pmc/articles/PMC50453/). Briefly, these matrices are defined empirically, by aligning sequences manually or through automated systems, and counting how frequent certain substitutions are. There is a good [wikipedia article on this topic](http://www.ncbi.nlm.nih.gov/pmc/articles/PMC50453/). "
     ]
    },
    {
     "cell_type": "markdown",
     "metadata": {},
     "source": [
      "We can now look up the score for a given substitution."
     ]
    },
    {
     "cell_type": "code",
     "collapsed": false,
     "input": [
      "print blosum50['A']['G']\n",
      "print blosum50['G']['A']\n",
      "\n",
      "print blosum50['W']['K']\n",
      "\n",
      "print blosum50['A']['A']\n",
      "print blosum50['W']['W']"
     ],
     "language": "python",
     "metadata": {},
     "outputs": []
    },
    {
     "cell_type": "markdown",
     "metadata": {},
     "source": [
      "And we can get a global view of the matrix."
     ]
    },
    {
     "cell_type": "code",
     "collapsed": false,
     "input": [
      "aas = blosum50.keys()\n",
      "aas.sort()\n",
      "data = []\n",
      "for aa1 in aas:\n",
      "    row = []\n",
      "    for aa2 in aas:\n",
      "        row.append(blosum50[aa1][aa2])\n",
      "    data.append(row)\n",
      "\n",
      "print format_matrix(aas, aas, data)"
     ],
     "language": "python",
     "metadata": {},
     "outputs": []
    },
    {
     "cell_type": "heading",
     "level": 1,
     "metadata": {},
     "source": [
      "Needleman-Wunsch global pairwise sequence alignment"
     ]
    },
    {
     "cell_type": "markdown",
     "metadata": {},
     "source": [
      "Now let's get started on using this to align a pair of sequences.\n",
      "\n",
      "**Step 1.** Create a matrix, where the colums represent the positions in ``seq1`` and the rows represent the positions in ``seq2``."
     ]
    },
    {
     "cell_type": "code",
     "collapsed": false,
     "input": [
      "## Example adapted from Biological Sequence Analysis Chapter 2. \n",
      "\n",
      "seq1 = \"HEAGAWGHEE\"\n",
      "seq2 = \"PAWHEAE\""
     ],
     "language": "python",
     "metadata": {},
     "outputs": []
    },
    {
     "cell_type": "code",
     "collapsed": false,
     "input": [
      "data = []\n",
      "for p in seq2:\n",
      "    data.append(['-']*len(seq1))\n",
      "\n",
      "print format_matrix(seq1, seq2, data)"
     ],
     "language": "python",
     "metadata": {},
     "outputs": []
    },
    {
     "cell_type": "markdown",
     "metadata": {},
     "source": [
      "**Step 2**:  Using a substitution matrix, score each cell in the matrix."
     ]
    },
    {
     "cell_type": "code",
     "collapsed": false,
     "input": [
      "from iab.algorithms import generate_score_matrix\n",
      "\n",
      "print getsource(generate_score_matrix)"
     ],
     "language": "python",
     "metadata": {},
     "outputs": []
    },
    {
     "cell_type": "code",
     "collapsed": false,
     "input": [
      "score_matrix = generate_score_matrix(seq1,seq2,blosum50)\n",
      "\n",
      "print format_matrix(seq1,\n",
      "                    seq2,\n",
      "                    score_matrix)"
     ],
     "language": "python",
     "metadata": {},
     "outputs": []
    },
    {
     "cell_type": "markdown",
     "metadata": {},
     "source": [
      "**Step 3**: Generate the dynamic programming and traceback matrices.\n",
      "\n",
      "In the next step we determine the best alignment given the sequences and scoring scheme in what we'll call the **dynamic programming matrix**, and then define programmatically how to transcribe the alignment in what we'll call the **traceback matrix** to yield a pair of aligned sequences. \n",
      "\n",
      "\n",
      "For the convenience of coding this algorithm, it helps to define the dynamic programming matrix with one extra row and one extra column relative to the score matrix, and make these the first column and row of the matrix. These then represent the beginning of the alignment position $(0, 0)$. The score $F$ for cell $(i, j)$, where $i$ represents the row number and $j$ represents the column number, is defined for the first row and column as follows. \n",
      "\n",
      "\n",
      "$F(0, 0) = 0$\n",
      "\n",
      "$F(i, 0) = F(i-1, 0) - d$\n",
      "\n",
      "$F(0, j) = F(0, j-1) - d$\n",
      "\n",
      "This matrix, pre-initialization, would look like the following. As an exercise, try computing the values for the cells in the first four rows in column zero, and the first four columns in row zero. As you fill in the value for a cell, for all cells with a score based on another score in the matrix (i.e., everything except for $F(0, 0)$), draw an arrow from that cell to the cell whose score it depends on. \n",
      "\n",
      "For the sake of this exercise, define the gap penalty, $d$, as $d=8$. "
     ]
    },
    {
     "cell_type": "code",
     "collapsed": false,
     "input": [
      "data = []\n",
      "# This is a hack: to pad the matrix with an \n",
      "# extra row and column at the beginning I'm just prepending a \n",
      "# space to each sequence. Need to improve handling of that.\n",
      "padded_seq1 = \" \" + seq1\n",
      "padded_seq2 = \" \" + seq2\n",
      "\n",
      "for p in padded_seq2:\n",
      "    data.append(['-']*len(padded_seq1))\n",
      "\n",
      "print format_matrix(padded_seq1, padded_seq2, data)"
     ],
     "language": "python",
     "metadata": {},
     "outputs": []
    },
    {
     "cell_type": "markdown",
     "metadata": {},
     "source": [
      "Initializing this would result in the following."
     ]
    },
    {
     "cell_type": "code",
     "collapsed": false,
     "input": [
      "# We'll define the gap penalty as 8.\n",
      "d = 8\n",
      "\n",
      "data[0][0] = 0\n",
      "for i in range(1,len(padded_seq2)):\n",
      "    data[i][0] = data[i-1][0] - d\n",
      "\n",
      "for j in range(1,len(padded_seq1)):\n",
      "    data[0][j] = data[0][j-1] - d\n",
      "\n",
      "print format_matrix(padded_seq1, padded_seq2, data, cell_width=4)\n",
      "                "
     ],
     "language": "python",
     "metadata": {},
     "outputs": []
    },
    {
     "cell_type": "markdown",
     "metadata": {},
     "source": [
      "Next, we'll compute the scores for all of the other cells in the matrix, starting at position $(1, 1)$. \n",
      "\n",
      "In a Needleman-Wunsch alignment, the score $F$ for cell $(i, j)$ (where $i$ is the row number and $j$ is the column number, and $i > 0$ and $j > 0$) is computed as the maximum of three possible values.\n",
      "\n",
      "```\n",
      "F(i, j) = max( F(i-1, j-1) + s(xi, yj), \n",
      "                F(i-1, j) - d,\n",
      "                F(i, j-1) - d)\n",
      "```\n",
      "\n",
      "In this notation, $s$ refers to the substitution matrix, $x$ and $y$ refer to characters in `seq1` and `seq2`, and $d$ again is the gap penalty. Describing the scoring function in English, we score a cell with the maximum of three values: either the value of the cell up and to the left plus the score for the substitution taking place in the current cell (which you find by looking up the substitution in the substitution matrix); the value of the cell above minus the gap penalty; or the value of the cell to the left minus the gap penalty. In this way, you're determining whether the best (highest) score is obtained by intersting a gap in sequence 1 (corresponding to $F(i-1, j) - d$), inserting a gap in sequence 2 (corresponding to $F(i, j-1) - d$), or aligning the characters in sequence 1 and sequence 2 (corresponding to $F(i-1, j-1) + s(xi, yj)$).\n",
      "\n",
      "As an exercise, fill in the values of cells $(1, 1)$, $(1, 2)$, and $(2, 1)$ by hand. Remember to insert arrows indicating which cell each score was derived from as you fill in the matrix, and notice the situation that you encounter when computing the value for $(2, 1)$. Which arrow do you draw there? Keep this issue in mind, and think about how it might affect your final result.\n"
     ]
    },
    {
     "cell_type": "markdown",
     "metadata": {},
     "source": [
      "The function in the next cell generates the dynamic programming and traceback matrices for us. You should review this code to understand exactly how it's working."
     ]
    },
    {
     "cell_type": "code",
     "collapsed": false,
     "input": [
      "from iab.algorithms import generate_nw_and_traceback_matrices, format_dynamic_programming_matrix\n",
      "\n",
      "print getsource(generate_nw_and_traceback_matrices)"
     ],
     "language": "python",
     "metadata": {},
     "outputs": []
    },
    {
     "cell_type": "markdown",
     "metadata": {},
     "source": [
      "You can now apply this function to `seq1` and `seq2` to compute the dynamic programming and traceback matrices. Based on the arrows in your traceback matrix, what do you think the four different values used in this traceback matrix represent? "
     ]
    },
    {
     "cell_type": "code",
     "collapsed": false,
     "input": [
      "seq1 = \"HEAGAWGHEE\"\n",
      "seq2 = \"PAWHEAE\"\n",
      "\n",
      "nw_matrix, traceback_matrix = generate_nw_and_traceback_matrices(seq1,\n",
      "                                                                 seq2,\n",
      "                                                                 8,\n",
      "                                                                 blosum50)\n",
      "\n",
      "print format_dynamic_programming_matrix(seq1,\n",
      "                                  seq2,\n",
      "                                  nw_matrix)\n",
      "\n",
      "print \"\"\n",
      "\n",
      "print format_dynamic_programming_matrix(seq1,\n",
      "                                  seq2,\n",
      "                                  traceback_matrix)"
     ],
     "language": "python",
     "metadata": {},
     "outputs": []
    },
    {
     "cell_type": "markdown",
     "metadata": {},
     "source": [
      "**Step 4**: Transcribe the alignment.\n",
      "\n",
      "We can now read the dynamic programming and traceback matrices to transcribe and score the alignment of sequences 1 and 2. To do this, we start at the bottom right of the matrices and traceback the arrows to cell $(0, 0)$.  \n",
      "\n",
      "* Every time we hit a vertical arrow (represented by `|`), we consume a character from sequence 2 (the vertical sequence) and add a gap to sequence 1. \n",
      "* Every time we hit a horizontal arrow (represented by `-`), we consume a character from sequence 1 (the vertical sequence) and add a gap to sequence 2.\n",
      "* Every time we hit a diagonal arrow (represented by `\\`), we consume a character from sequence 1 and sequence 2.\n",
      "\n",
      "As you transcribe the alignment, write sequence 1 on top of sequence 2, and work from right to left (since you are working backwards through the matrix).\n",
      "\n",
      "The score in the bottom right cell of the matrix is the score for the alignment.\n",
      "\n",
      "Work through this process on paper, and then review the function in the next cell to see how this looks in python."
     ]
    },
    {
     "cell_type": "code",
     "collapsed": false,
     "input": [
      "from iab.algorithms import nw_traceback\n",
      "print getsource(nw_traceback)"
     ],
     "language": "python",
     "metadata": {},
     "outputs": []
    },
    {
     "cell_type": "markdown",
     "metadata": {},
     "source": [
      "You can then execute this as follows, and print out the resulting alignment."
     ]
    },
    {
     "cell_type": "code",
     "collapsed": false,
     "input": [
      "aligned_seq1, aligned_seq2, score = nw_traceback(traceback_matrix,nw_matrix,seq1,seq2)\n",
      "\n",
      "print aligned_seq1\n",
      "print aligned_seq2\n",
      "print score"
     ],
     "language": "python",
     "metadata": {},
     "outputs": []
    },
    {
     "cell_type": "markdown",
     "metadata": {},
     "source": [
      "**Next steps**: If you were interested in making this functionality generally accessible to users, you'd probably want to define a function that takes all of the necessary input and provides the aligned sequences and the score as output, without requiring the user to make several function calls. What are the required inputs? What steps would this function need to perform? "
     ]
    },
    {
     "cell_type": "code",
     "collapsed": false,
     "input": [
      "from iab.algorithms import nw_align\n",
      "print getsource(nw_align)"
     ],
     "language": "python",
     "metadata": {},
     "outputs": []
    },
    {
     "cell_type": "code",
     "collapsed": false,
     "input": [
      "aligned_seq1, aligned_seq2, score = nw_align(\"HEAGAWGHEE\", \"PAWHEAE\", 8, blosum50)\n",
      "print aligned_seq1\n",
      "print aligned_seq2\n",
      "print score "
     ],
     "language": "python",
     "metadata": {},
     "outputs": []
    },
    {
     "cell_type": "heading",
     "level": 2,
     "metadata": {},
     "source": [
      "Global versus local alignment"
     ]
    },
    {
     "cell_type": "markdown",
     "metadata": {},
     "source": [
      "The alignment we just constructed is what's known as a *global alignment*, meaning we align both sequences from the beginning through the end. This has some important specific applications: for example, if we have two full-length protein sequences, and we have a crystal structure for one of them, we may want to have a direct mapping between all positions in both sequences. Probably more common however is local alignment: where we have a pair of sequences that we suspect may partially overlap each other, and we want to know what the best possible alignment of all or part of one sequence is with all or part of the other sequences. Perhaps the most widely used application of this is in the BLAST search algorithm, where we a query sequence and we want to know what the closest match (or matches) are in a reference database containing many different gene sequences. In this case, the whole reference database could be represented as a single sequence, as we could perform a local alignment against it to find the region that contains the highest scoring match. "
     ]
    },
    {
     "cell_type": "heading",
     "level": 2,
     "metadata": {},
     "source": [
      "Smith-Waterman local sequence alignment"
     ]
    },
    {
     "cell_type": "markdown",
     "metadata": {},
     "source": [
      "The Smith-Waterman algorithm is used for performing pairwise local alignment. It is nearly identical to Needleman-Wunsch, with three small important differences. \n",
      "\n",
      "First, initialization is easier:\n",
      "\n",
      "$F(0, 0) = 0$\n",
      "\n",
      "$F(i, 0) = 0$\n",
      "\n",
      "$F(0, j) = 0$"
     ]
    },
    {
     "cell_type": "code",
     "collapsed": false,
     "input": [
      "data = []\n",
      "# This is a hack: to pad the matrix with an \n",
      "# extra row and column at the beginning I'm just prepending a \n",
      "# space to each sequence. Need to improve handling of that.\n",
      "padded_seq1 = \" \" + seq1\n",
      "padded_seq2 = \" \" + seq2\n",
      "\n",
      "for p in padded_seq2:\n",
      "    data.append(['-']*len(padded_seq1))\n",
      "\n",
      "print format_matrix(padded_seq1, padded_seq2, data)"
     ],
     "language": "python",
     "metadata": {},
     "outputs": []
    },
    {
     "cell_type": "code",
     "collapsed": false,
     "input": [
      "data[0][0] = 0\n",
      "for i in range(1,len(padded_seq2)):\n",
      "    data[i][0] = 0\n",
      "\n",
      "for j in range(1,len(padded_seq1)):\n",
      "    data[0][j] = 0\n",
      "\n",
      "print format_matrix(padded_seq1, padded_seq2, data)"
     ],
     "language": "python",
     "metadata": {},
     "outputs": []
    },
    {
     "cell_type": "markdown",
     "metadata": {},
     "source": [
      "Next, there is one additional term in the scoring function:\n",
      "\n",
      "```\n",
      "F(i, j) = max(0, \n",
      "              F(i-1, j-1) + s(xi, yj),\n",
      "              F(i-1, j) - d,\n",
      "              F(i, j-1) - d)\n",
      "```"
     ]
    },
    {
     "cell_type": "code",
     "collapsed": false,
     "input": [
      "from iab.algorithms import generate_sw_and_traceback_matrices, sw_traceback\n",
      "print getsource(generate_sw_and_traceback_matrices)\n",
      "\n",
      "print getsource(sw_traceback)"
     ],
     "language": "python",
     "metadata": {},
     "outputs": []
    },
    {
     "cell_type": "code",
     "collapsed": false,
     "input": [
      "sw_matrix, traceback_matrix = generate_sw_and_traceback_matrices(seq1,\n",
      "                                                                 seq2,\n",
      "                                                                 8,\n",
      "                                                                 blosum50)\n",
      "\n",
      "print format_dynamic_programming_matrix(seq1,\n",
      "                                  seq2,\n",
      "                                  sw_matrix, cell_width=5)\n",
      "\n",
      "print \"\"\n",
      "\n",
      "print format_dynamic_programming_matrix(seq1,\n",
      "                                  seq2,\n",
      "                                  traceback_matrix, cell_width=5)"
     ],
     "language": "python",
     "metadata": {},
     "outputs": []
    },
    {
     "cell_type": "markdown",
     "metadata": {},
     "source": [
      "And finally, during the traceback step, you begin in the cell with the highest value, rather than the bottom right cell of the matrix. "
     ]
    },
    {
     "cell_type": "code",
     "collapsed": false,
     "input": [
      "aln1, aln2, score, aln1_start, aln2_start = sw_traceback(traceback_matrix, sw_matrix, seq1, seq2)\n",
      "print aln1\n",
      "print aln2\n",
      "print score\n",
      "print aln1_start\n",
      "print aln2_start"
     ],
     "language": "python",
     "metadata": {},
     "outputs": []
    },
    {
     "cell_type": "markdown",
     "metadata": {},
     "source": [
      "Again, we can define a *convenience function, which will allow us to provide the required input and just get our aligned sequecnes back."
     ]
    },
    {
     "cell_type": "code",
     "collapsed": false,
     "input": [
      "from iab.algorithms import sw_align\n",
      "print getsource(sw_align)"
     ],
     "language": "python",
     "metadata": {},
     "outputs": []
    },
    {
     "cell_type": "markdown",
     "metadata": {},
     "source": [
      "And we can take the *convenience function* one step futher, and wrap `sw_align` and `nw_align` up in a more generate `align` function, which takes a boolean parameter (i.e., `True` or `False`) indicating where we want a local or global alignment."
     ]
    },
    {
     "cell_type": "code",
     "collapsed": false,
     "input": [
      "from iab.algorithms import align\n",
      "print getsource(align)"
     ],
     "language": "python",
     "metadata": {},
     "outputs": []
    },
    {
     "cell_type": "code",
     "collapsed": false,
     "input": [
      "result = align('HEAGAWGHEE', 'PAWHEAE', 8, blosum50, True)\n",
      "print result"
     ],
     "language": "python",
     "metadata": {},
     "outputs": []
    },
    {
     "cell_type": "code",
     "collapsed": false,
     "input": [
      "result = align('HEAGAWGHEE', 'PAWHEAE', 8, blosum50, False)\n",
      "print result"
     ],
     "language": "python",
     "metadata": {},
     "outputs": []
    },
    {
     "cell_type": "markdown",
     "metadata": {},
     "source": [
      "So there you have it: the basics of pairwise sequence alignment, which is easily the most fundamental algorithm in bioinformatics. "
     ]
    },
    {
     "cell_type": "heading",
     "level": 2,
     "metadata": {},
     "source": [
      "Smith-Waterman local alignment with affine gap scoring"
     ]
    },
    {
     "cell_type": "markdown",
     "metadata": {},
     "source": [
      "The second limitation of the our simple alignment algorithm, and other that is also present in our version of Smith-Waterman as implemented above, is that all gaps are scored equally whether they represent the opening of a new insertion/deletion, or the extension of an existing insertion/deletion. This isn't ideal based on what we know about how insertion/deletion events occur (see [this discussion of replication slippage](http://www.ncbi.nlm.nih.gov/books/NBK21114/)). Instead, **we might want to incurr a large penalty for opening a gap, but a smaller penalty for extending a gap**. To do this, **we need to make two small changes to our scoring scheme**. When we compute the score for a gap, we should incurr a *gap open penalty* if the previous max score was derived from inserting a gap character in the same sequence. If we represent our traceback matrix as $T$, our gap open penalty as $d^0$, and our gap extend penalty as $d^e$, our scoring scheme would look like the following:\n",
      "\n",
      "```\n",
      "F(i, j) = max( 0,\n",
      "               F(i-1, j-1) + s(xi, yj), \n",
      "               if T(i-1, j) == '|':\n",
      "                   F(i-1, j) - de\n",
      "               else:\n",
      "                   F(i-1, j) - do\n",
      "               if F(i, j-1) == '-':\n",
      "                   F(i, j-1) - de\n",
      "               else:\n",
      "                   F(i, j-1) - do\n",
      "             )\n",
      "```\n",
      "\n",
      "\n",
      "Notice how we only use the gap extend penatly if the previous max score resulted from a gap in the same sequence (which we know by looking in the traceback matrix) because it represents the continuation of an existing gap in that sequence. This is why we check for a specific type of gap in $T$, rather than checking whether $T$ `!= '\\'`. \n",
      "\n",
      "There are no changes to how final alignment scores are computed, nor are there changes to how traceback is performed. Therefore we can define a new `generate_sw_and_traceback_matrices_affine_gap` function, but use our pre-existing `sw_traceback` function."
     ]
    },
    {
     "cell_type": "code",
     "collapsed": false,
     "input": [
      "from iab.algorithms import generate_sw_and_traceback_matrices_affine_gap\n",
      "print getsource(generate_sw_and_traceback_matrices_affine_gap)"
     ],
     "language": "python",
     "metadata": {},
     "outputs": []
    },
    {
     "cell_type": "markdown",
     "metadata": {},
     "source": [
      "Take a look at how the scores differ with these additions."
     ]
    },
    {
     "cell_type": "code",
     "collapsed": false,
     "input": [
      "seq1 = \"HEAGAWGHEE\"\n",
      "seq2 = \"PAWHEAE\"\n",
      "\n",
      "sw_matrix, traceback_matrix = \\\n",
      " generate_sw_and_traceback_matrices_affine_gap(seq1, seq2, 8, 1, blosum50)\n",
      "\n",
      "print format_dynamic_programming_matrix(seq1, seq2, sw_matrix, cell_width=5)\n",
      "print \"\"\n",
      "print format_dynamic_programming_matrix(seq1, seq2, traceback_matrix, cell_width=5)"
     ],
     "language": "python",
     "metadata": {},
     "outputs": []
    },
    {
     "cell_type": "markdown",
     "metadata": {},
     "source": [
      "Next, we can define a new convenience function, and apply to our sequences. Here I define `seq1` to be slightly different than what I have above. Notice how we get different alignments when we use affine gap penalties versus a fixed gap open/gap extend penalty. "
     ]
    },
    {
     "cell_type": "code",
     "collapsed": false,
     "input": [
      "from iab.algorithms import sw_align_affine_gap\n",
      "print getsource(sw_align_affine_gap)"
     ],
     "language": "python",
     "metadata": {},
     "outputs": []
    },
    {
     "cell_type": "code",
     "collapsed": false,
     "input": [
      "seq1 = \"HEAGAWGFHEE\"\n",
      "seq2 = \"PAWHEAE\""
     ],
     "language": "python",
     "metadata": {},
     "outputs": []
    },
    {
     "cell_type": "code",
     "collapsed": false,
     "input": [
      "aln1, aln2, score, aln1_start, aln2_start = sw_align(seq1, seq2, 8, blosum50)\n",
      "print aln1\n",
      "print aln2\n",
      "print score"
     ],
     "language": "python",
     "metadata": {},
     "outputs": []
    },
    {
     "cell_type": "code",
     "collapsed": false,
     "input": [
      "aln1, aln2, score, aln1_start, aln2_start = sw_align_affine_gap(seq1, seq2, 8, 1, blosum50)\n",
      "print aln1\n",
      "print aln2\n",
      "print score"
     ],
     "language": "python",
     "metadata": {},
     "outputs": []
    },
    {
     "cell_type": "heading",
     "level": 2,
     "metadata": {},
     "source": [
      "How long does pairwise sequence alignment take?"
     ]
    },
    {
     "cell_type": "markdown",
     "metadata": {},
     "source": [
      "The focus of this course is *applied* bioinformatics, and **some of the practical considerations we need to think about when developing applications is their runtime and memory requirements**. \n",
      "\n",
      "We just worked through a few algorithms for pairwise sequence alignment, and used some toy examples with short sequences. What if we wanted to scale this up to align much longer sequences, or to align relatively short sequences against a large database. \n",
      "\n",
      "To explore runtime, let's first define a function that reports the time it takes to align a pair of sequences. Note that we don't care about getting the actual alignment back anymore, we just want the runtime in seconds."
     ]
    },
    {
     "cell_type": "code",
     "collapsed": false,
     "input": [
      "from time import time\n",
      "\n",
      "def time_nw_align(seq1, seq2, gap_penalty=8, substitution_matrix=blosum50):\n",
      "    start_time = time()\n",
      "    nw_align(seq1, seq2, gap_penalty, substitution_matrix)\n",
      "    end_time = time()\n",
      "    return end_time - start_time"
     ],
     "language": "python",
     "metadata": {},
     "outputs": []
    },
    {
     "cell_type": "code",
     "collapsed": false,
     "input": [
      "print time_nw_align(\"KPELVMVDRI\",\"GWSKHGYGFD\")"
     ],
     "language": "python",
     "metadata": {},
     "outputs": []
    },
    {
     "cell_type": "markdown",
     "metadata": {},
     "source": [
      "Next, let's apply this to pairs of sequences where we vary the length. We don't really care what the sequences are here, so we'll use python's ``random`` module to get random pairs of sequences. Let's play with that first to see how it can be applied to generate random sequences, as that's generally useful functionality."
     ]
    },
    {
     "cell_type": "code",
     "collapsed": false,
     "input": [
      "from random import choice\n",
      "\n",
      "def random_sequence(alphabet, length):\n",
      "    result = []\n",
      "    for e in range(length):\n",
      "        result.append(choice(alphabet))\n",
      "    return ''.join(result)"
     ],
     "language": "python",
     "metadata": {},
     "outputs": []
    },
    {
     "cell_type": "code",
     "collapsed": false,
     "input": [
      "aa_choices = blosum50.keys()\n",
      "\n",
      "print random_sequence(aa_choices, 10)\n",
      "print random_sequence(aa_choices, 10)\n",
      "print random_sequence(aa_choices, 25)\n",
      "print random_sequence(aa_choices, 50)"
     ],
     "language": "python",
     "metadata": {},
     "outputs": []
    },
    {
     "cell_type": "markdown",
     "metadata": {},
     "source": [
      "Next, let's define a loop where we align randomly pairs of sequences of increasing length, and compile the time it took to align the sequences."
     ]
    },
    {
     "cell_type": "code",
     "collapsed": false,
     "input": [
      "times = []\n",
      "# total run time is about 2.75m with range(50,6000,500)\n",
      "# total run time is about 13.5m with range(50,10000,500)\n",
      "seq_lengths = range(50,4000,500)\n",
      "for seq_length in seq_lengths:\n",
      "    seq1 = [choice(aa_choices) for i in range(seq_length)]\n",
      "    seq2 = [choice(aa_choices) for i in range(seq_length)]\n",
      "    times.append(time_nw_align(seq1, seq2))"
     ],
     "language": "python",
     "metadata": {},
     "outputs": []
    },
    {
     "cell_type": "markdown",
     "metadata": {},
     "source": [
      "If we look at the run times, we can see that they are increasing with increasing sequence lengths. "
     ]
    },
    {
     "cell_type": "code",
     "collapsed": false,
     "input": [
      "for seq_length, t in zip(seq_lengths, times):\n",
      "    print \"%d\\t%1.4f sec\" % (seq_length, t) "
     ],
     "language": "python",
     "metadata": {},
     "outputs": []
    },
    {
     "cell_type": "markdown",
     "metadata": {},
     "source": [
      "That's expected, but what we care about is how they're increasing. Can we use this information to project how well this alignment would work if our sequences were much longer? This is where plotting becomes useful."
     ]
    },
    {
     "cell_type": "code",
     "collapsed": false,
     "input": [
      "import matplotlib.pyplot as plt\n",
      "\n",
      "plt.plot(seq_lengths, times)\n",
      "plt.xlabel('Sequence Length')\n",
      "plt.ylabel('Runtime (s)')\n"
     ],
     "language": "python",
     "metadata": {},
     "outputs": []
    },
    {
     "cell_type": "markdown",
     "metadata": {},
     "source": [
      "**One good question is whether developing a version of this algorithm which can run in parallel would be an effective way to make it scale to larger data sets.** In the next cell, we look and how the plot would change if we could run the alignment process over four processors. This would effectively make each alignment run four times as fast (so each runtime would be divided by four) but it doesn't solve our scability problem."
     ]
    },
    {
     "cell_type": "code",
     "collapsed": false,
     "input": [
      "# if we could split this process over more processors (four, for example)\n",
      "# that would effectively reduce the runtime by 1/4\n",
      "times = [t / 4 for t in times]\n",
      "\n",
      "plt.plot(seq_lengths, times)\n",
      "plt.xlabel('Sequence Length')\n",
      "plt.ylabel('Runtime (s)')"
     ],
     "language": "python",
     "metadata": {},
     "outputs": []
    },
    {
     "cell_type": "markdown",
     "metadata": {},
     "source": [
      "**Notice that the runtimes in the plot (the y-axis) are smaller, but shape of the curve is the same.** This tells us that we won't be in trouble as soon (we can run bigger alignments in a reasonable amount of time), but we'll still be in trouble eventually. While parallelization can help with this class of computational problem -- one that scales [quadratically](http://en.wikipedia.org/wiki/Quadratic_time) -- it doesn't resolve the problem completely. \n",
      "\n",
      "In the chapter we'll begin exploring ways to address this scalability issue by approximating solutions to the problem."
     ]
    }
   ],
   "metadata": {}
  }
 ]
}