{
 "metadata": {
  "name": "database-searching"
 },
 "nbformat": 3,
 "nbformat_minor": 0,
 "worksheets": [
  {
   "cells": [
    {
     "cell_type": "markdown",
     "metadata": {},
     "source": [
      "The next idea we'll explore is database searching. In this context, what that means is that we have some *query* sequence, and we want to know which *reference* sequence in a database it is most similar to. This could be achieved in a few ways. It could be implemented with local alignment by representing the database as one long sequnence (if we build some functionality to support that into the algorithm), or with global alignment by running our align function many times to search one *query* sequence against many *reference* sequences in the database. \n",
      "\n",
      "When our database starts getting hundreds of millions of bases long (as would be the case if we were searching against 97% OTUs from the Greengenes reference database), billions of bases long (as would be the case if we were searching against the human genome) or trillions of bases long (as would be the case if we were seraching against the NCBI non-redundant nucleotide database), runtime becomes an important consideration. "
     ]
    },
    {
     "cell_type": "markdown",
     "metadata": {},
     "source": [
      "**TODO**\n",
      "\n",
      "1. Define a function which takes a query sequence and a list of reference sequences which are somewhat similar to the query sequence (plus maybe an aligner), and returns the highest scoring alignment.  \n",
      "2. Define a large reference database as a set of random sequences, and show that we still get some hits. Compute hits against a random database to get the background distribution of scores, and then test if a given score is an outlier in that distrubtion (compute p as the number of alignments that are at least that good). \n",
      "3. Show that the approach of computing all alignments scales really poorly to large databases.\n",
      "4. Define some heurtistics: e.g., precompute GC content for a sequence and only compare to sequences with similar GC content (or hydrophobicity, or ...). Show how this improves runtime, but possibly at the expense of not getting the best alignment.\n"
     ]
    },
    {
     "cell_type": "heading",
     "level": 2,
     "metadata": {},
     "source": [
      "Is my alignment \"good\"?"
     ]
    },
    {
     "cell_type": "code",
     "collapsed": false,
     "input": [
      "def generate_random_score_distribution(query_sequence,\n",
      "                                       subject_sequence,\n",
      "                                       n,\n",
      "                                       substitution_matrix,\n",
      "                                       aligner=nw_align):\n",
      "    aa = 'ACDEFGHIKLMNPQRSTVWY'\n",
      "    result = []\n",
      "    query_length = len(query_sequence)\n",
      "    for i in range(n):\n",
      "        random_sequence = \"\".join([choice(aa) for i in range(query_length)])\n",
      "        aligned_seq1, aligned_seq2, score =\\\n",
      "         aligner(random_sequence,subject_sequence,substitution_matrix)\n",
      "        result.append(score)\n",
      "    return result"
     ],
     "language": "python",
     "metadata": {},
     "outputs": []
    },
    {
     "cell_type": "code",
     "collapsed": false,
     "input": [
      "def fraction_better_or_equivalent_alignments(query_sequence,\n",
      "                                             subject_sequence,\n",
      "                                             n,\n",
      "                                             substitution_matrix,\n",
      "                                             aligner=nw_align):\n",
      "    random_score_distribution = generate_random_score_distribution(query_sequence,\n",
      "                                                                   subject_sequence,\n",
      "                                                                   n,\n",
      "                                                                   substitution_matrix)\n",
      "    aligned_seq1, aligned_seq2, score = aligner(query_sequence,subject_sequence,substitution_matrix)\n",
      "    \n",
      "    count_better = 0\n",
      "    for e in random_score_distribution:\n",
      "        if e >= score:\n",
      "            count_better += 1\n",
      "    \n",
      "    return count_better / n"
     ],
     "language": "python",
     "metadata": {},
     "outputs": []
    },
    {
     "cell_type": "code",
     "collapsed": false,
     "input": [
      "subject = \"SAVLDMRPPEITCLCLHSVEWFWATDRAYITKFHVGQPMKCITGCHVFCGPRTSNLLQESCMYCVFSEIGCRNSANCFNFTRSCIRISSYLFSYYIVWGC\"\n",
      "query1 = \"RHT\"\n",
      "query2 = \"RHTSWIL\"\n",
      "query3 = \"RHTSWIIQECWYCWFS\"\n",
      "query4 = \"RHTSWIIQESCWYCWFSEIGCRNSANWFNFTRSCWRISYLFS\""
     ],
     "language": "python",
     "metadata": {},
     "outputs": []
    },
    {
     "cell_type": "code",
     "collapsed": false,
     "input": [
      "print fraction_better_or_equivalent_alignments(query1,subject,1000,blosum50)\n",
      "print fraction_better_or_equivalent_alignments(query2,subject,1000,blosum50)\n",
      "print fraction_better_or_equivalent_alignments(query3,subject,1000,blosum50)\n",
      "print fraction_better_or_equivalent_alignments(query4,subject,1000,blosum50)"
     ],
     "language": "python",
     "metadata": {},
     "outputs": []
    }
   ],
   "metadata": {}
  }
 ]
}