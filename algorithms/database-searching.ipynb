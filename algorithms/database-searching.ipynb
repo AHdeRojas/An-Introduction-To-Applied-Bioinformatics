{
 "metadata": {
  "name": "database-searching"
 },
 "nbformat": 3,
 "nbformat_minor": 0,
 "worksheets": [
  {
   "cells": [
    {
     "cell_type": "markdown",
     "metadata": {},
     "source": [
      "The next idea we'll explore is database searching. In this context, what that means is that we have some *query* sequence, and we want to know which *reference* sequence in a database it is most similar to. This could be achieved in a few ways. It could be implemented with local alignment by representing the database as one long sequnence (if we build some functionality to support that into the algorithm), or with global alignment by running our align function many times to search one *query* sequence against many *reference* sequences in the database. \n",
      "\n",
      "When our database starts getting hundreds of millions of bases long (as would be the case if we were searching against 97% OTUs from the Greengenes reference database), billions of bases long (as would be the case if we were searching against the human genome) or trillions of bases long (as would be the case if we were seraching against the NCBI non-redundant nucleotide database), runtime becomes an important consideration. "
     ]
    },
    {
     "cell_type": "markdown",
     "metadata": {},
     "source": [
      "**TODO**\n",
      "\n",
      "1. Define a function which takes a query sequence and a list of reference sequences which are somewhat similar to the query sequence (plus maybe an aligner), and returns the highest scoring alignment.  \n",
      "2. Define a large reference database as a set of random sequences, and show that we still get some hits. Compute hits against a random database to get the background distribution of scores, and then test if a given score is an outlier in that distrubtion (compute p as the number of alignments that are at least that good). \n",
      "3. Show that the approach of computing all alignments scales really poorly to large databases.\n",
      "4. Define some heurtistics: e.g., precompute GC content for a sequence and only compare to sequences with similar GC content (or hydrophobicity, or ...). Show how this improves runtime, but possibly at the expense of not getting the best alignment.\n"
     ]
    },
    {
     "cell_type": "code",
     "collapsed": false,
     "input": [],
     "language": "python",
     "metadata": {},
     "outputs": []
    }
   ],
   "metadata": {}
  }
 ]
}