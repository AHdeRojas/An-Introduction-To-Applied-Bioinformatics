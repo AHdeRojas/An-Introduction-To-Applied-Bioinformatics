{
 "metadata": {
  "name": "pairwise-alignment"
 },
 "nbformat": 3,
 "nbformat_minor": 0,
 "worksheets": [
  {
   "cells": [
    {
     "cell_type": "heading",
     "level": 1,
     "metadata": {},
     "source": [
      "Introduction to pairwise sequence alignment"
     ]
    },
    {
     "cell_type": "markdown",
     "metadata": {},
     "source": [
      "One of the most core problems in bioinformatics is determining how \"similar\" a pair of sequences are. There are many applications for this, including determing the function of an unknown gene sequence, determining the source organism of a sequence, developing hypotheses about the relatedness of organisms, or grouping sequences from closely related organisms. On the surface, this seems like a pretty straight-forward problem - not one that would have been at the center of decades of research and the subject of [one of the most cited papers](http://scholar.google.com/citations?view_op=view_citation&hl=en&user=VRccPlQAAAAJ&citation_for_view=VRccPlQAAAAJ:u-x6o8ySG0sC) in modern biology.\n",
      "\n",
      "For example, imagine you have three sequences - call them ``r1`` (for *reference*) and ``q1`` and ``q2`` (for *query*). Can't you just count the number of differences across their length (i.e., compute the [Hamming distance](http://en.wikipedia.org/wiki/Hamming_distance) between them) to figure out whether ``q1`` or ``q2`` is more closely related to ``r1``? "
     ]
    },
    {
     "cell_type": "code",
     "collapsed": false,
     "input": [
      "r1 = \"ACCCAGGTTAACGGTGACCAGGTACCAGAAGGGTACCAGGTAGGACACACGGGGATTAA\"\n",
      "q1 = \"ACCGAGGTTAACGGTGACCAGGTACCAGAAGGGTACCAGGTAGGAGACACGGCGATTAA\"\n",
      "q2 = \"TTCCAGGTAAACGGTGACCAGGTACCAGTTGCGTTTGTTGTAGGAGACACGGGGACCCA\"\n",
      "\n",
      "def hamming_distance(s1, s2):\n",
      "    diffs = 0\n",
      "    for b1, b2 in zip(s1, s2):\n",
      "        if b1 != b2:\n",
      "            diffs += 1\n",
      "    return diffs\n",
      "\n",
      "print hamming_distance(r1, q1)\n",
      "print hamming_distance(r1, q2)"
     ],
     "language": "python",
     "metadata": {},
     "outputs": [
      {
       "output_type": "stream",
       "stream": "stdout",
       "text": [
        "3\n",
        "15\n"
       ]
      }
     ],
     "prompt_number": 1
    },
    {
     "cell_type": "markdown",
     "metadata": {},
     "source": [
      "In this case, ``q1`` is clearly more similar to ``r1`` than ``q2`` is. But it's not always that simple. Here we're assuming that only substitution events have occured. Let's define ``q3``, which is the same as ``q2`` except that a single base deletion (with respect to ``r1``) is present toward the beginning of the sequence."
     ]
    },
    {
     "cell_type": "code",
     "collapsed": false,
     "input": [
      "q3 = \"ACGAGGTTAACGGTGACCAGGTACCAGAAGGGTACCAGGTAGGAGACACGGCGATTAA\"\n",
      "print hamming_distance(r1, q3)"
     ],
     "language": "python",
     "metadata": {},
     "outputs": [
      {
       "output_type": "stream",
       "stream": "stdout",
       "text": [
        "39\n"
       ]
      }
     ],
     "prompt_number": 2
    },
    {
     "cell_type": "markdown",
     "metadata": {},
     "source": [
      "This one base change had a big effect on the distance between the two sequences. Maybe that's justified, but the reason for the bigger distance doesn't seem to be biologically justified. In this case a deletion event has shifted one sequence relative to the other, and that resulted in many of the bases \"downstream\" of the deletion being different. What we'd really want to do is have a way to indicate that a deletion seems to have occured in one of the sequences (or that an insertion occured in the other). For example, define ``q4``, where we use a ``-`` character to indicate a gap in the sequence which represents a deletion with respect to ``r1``. This results in what seems like a more reasonable distance between the two sequences (though given what you know about how insertion/deletion events can disrupt protein coding sequences, you may feel that this distance is too close to the distance between ``r1`` and ``q1``):"
     ]
    },
    {
     "cell_type": "code",
     "collapsed": false,
     "input": [
      "q4 = \"AC-GAGGTTAACGGTGACCAGGTACCAGAAGGGTACCAGGTAGGAGACACGGCGATTAA\"\n",
      "print hamming_distance(r1,q4)"
     ],
     "language": "python",
     "metadata": {},
     "outputs": [
      {
       "output_type": "stream",
       "stream": "stdout",
       "text": [
        "4\n"
       ]
      }
     ],
     "prompt_number": 3
    },
    {
     "cell_type": "markdown",
     "metadata": {},
     "source": [
      "What we've done here is create a pairwise alignment of ``r1`` and ``q4``. In other words, we've *aligned* the positions that we hypothesize were derived from the same position in some ancestral sequence. The *alignment* is clear if we print these two sequence out one on top of the other:"
     ]
    },
    {
     "cell_type": "code",
     "collapsed": false,
     "input": [
      "print r1\n",
      "print q4"
     ],
     "language": "python",
     "metadata": {},
     "outputs": [
      {
       "output_type": "stream",
       "stream": "stdout",
       "text": [
        "ACCCAGGTTAACGGTGACCAGGTACCAGAAGGGTACCAGGTAGGACACACGGGGATTAA\n",
        "AC-GAGGTTAACGGTGACCAGGTACCAGAAGGGTACCAGGTAGGAGACACGGCGATTAA\n"
       ]
      }
     ],
     "prompt_number": 4
    },
    {
     "cell_type": "markdown",
     "metadata": {},
     "source": [
      "Scanning through these two sequences, we can see that they are mostly identicial, with the except of one *gap* (``-``), and a few *substitutions* of one base for another."
     ]
    },
    {
     "cell_type": "markdown",
     "metadata": {},
     "source": [
      "The problem of pairwise sequence alignment is, given two sequences, generate a hypothesis about which bases were derived from a common ancestor. In other words, align one on top of the other, inserting gaps as necessary, in a way that maximizes their similarity. Sequence alignment is tricky, in part, because of insertion/deletion mutations, and in part because particularly as sequences get long, there may be many possible ways to align them and we need to figure out which of those alignments is the best hypothesis in light of what we know about the (very messy) underlying biological systems. (When the sequences get very long, sequence alignment also becomes a very computationally expensive problem - we'll come back to this part.)\n",
      "\n",
      "In the next section we'll work through one algorithm for aligning a pair of sequences. As you work through this exercise, try to make a list of the assumptions that we're making that violate what you know about how sequences evolve. "
     ]
    },
    {
     "cell_type": "heading",
     "level": 2,
     "metadata": {},
     "source": [
      "A simple procedure for aligning a pair of sequences"
     ]
    },
    {
     "cell_type": "markdown",
     "metadata": {},
     "source": [
      "Aligning ``seq1`` and ``seq2`` can be achieved algorithmically in a few steps. First, let's do some configuration."
     ]
    },
    {
     "cell_type": "code",
     "collapsed": false,
     "input": [
      "seq1 = \"ACCGGTGGAACCGGTAACACCCAC\"\n",
      "seq2 = \"ACCGGTAACCGGTTAACACCCAC\"\n",
      "\n",
      "def format_matrix(row_headers, col_headers, data, hide_zeros=False):\n",
      "    result = []\n",
      "    line_format = \"%5s\" * (len(row_headers) + 1)\n",
      "    \n",
      "    # print a header row \n",
      "    result.append(line_format % tuple([' '] + list(seq1)))\n",
      "    \n",
      "    # print the data rows\n",
      "    for b2, row in zip(seq2,data):\n",
      "        if hide_zeros:\n",
      "            display_row = []\n",
      "            for v in row:\n",
      "                if v == 0:\n",
      "                    display_row.append('')\n",
      "                else:\n",
      "                    display_row.append(v)\n",
      "        else:\n",
      "            display_row = row\n",
      "        result.append(line_format % tuple([b2] + display_row))\n",
      "    \n",
      "    return '\\n'.join(result)"
     ],
     "language": "python",
     "metadata": {},
     "outputs": [],
     "prompt_number": 5
    },
    {
     "cell_type": "markdown",
     "metadata": {},
     "source": [
      "**Step 1.** Create a matrix, where the colums represent the positions in ``seq1`` and the rows represent the positions in ``seq2``. "
     ]
    },
    {
     "cell_type": "code",
     "collapsed": false,
     "input": [
      "data = []\n",
      "for p in seq2:\n",
      "    data.append(['-']*len(seq1))\n",
      "\n",
      "print format_matrix(seq1, seq2, data)"
     ],
     "language": "python",
     "metadata": {},
     "outputs": [
      {
       "output_type": "stream",
       "stream": "stdout",
       "text": [
        "         A    C    C    G    G    T    G    G    A    A    C    C    G    G    T    A    A    C    A    C    C    C    A    C\n",
        "    A    -    -    -    -    -    -    -    -    -    -    -    -    -    -    -    -    -    -    -    -    -    -    -    -\n",
        "    C    -    -    -    -    -    -    -    -    -    -    -    -    -    -    -    -    -    -    -    -    -    -    -    -\n",
        "    C    -    -    -    -    -    -    -    -    -    -    -    -    -    -    -    -    -    -    -    -    -    -    -    -\n",
        "    G    -    -    -    -    -    -    -    -    -    -    -    -    -    -    -    -    -    -    -    -    -    -    -    -\n",
        "    G    -    -    -    -    -    -    -    -    -    -    -    -    -    -    -    -    -    -    -    -    -    -    -    -\n",
        "    T    -    -    -    -    -    -    -    -    -    -    -    -    -    -    -    -    -    -    -    -    -    -    -    -\n",
        "    A    -    -    -    -    -    -    -    -    -    -    -    -    -    -    -    -    -    -    -    -    -    -    -    -\n",
        "    A    -    -    -    -    -    -    -    -    -    -    -    -    -    -    -    -    -    -    -    -    -    -    -    -\n",
        "    C    -    -    -    -    -    -    -    -    -    -    -    -    -    -    -    -    -    -    -    -    -    -    -    -\n",
        "    C    -    -    -    -    -    -    -    -    -    -    -    -    -    -    -    -    -    -    -    -    -    -    -    -\n",
        "    G    -    -    -    -    -    -    -    -    -    -    -    -    -    -    -    -    -    -    -    -    -    -    -    -\n",
        "    G    -    -    -    -    -    -    -    -    -    -    -    -    -    -    -    -    -    -    -    -    -    -    -    -\n",
        "    T    -    -    -    -    -    -    -    -    -    -    -    -    -    -    -    -    -    -    -    -    -    -    -    -\n",
        "    T    -    -    -    -    -    -    -    -    -    -    -    -    -    -    -    -    -    -    -    -    -    -    -    -\n",
        "    A    -    -    -    -    -    -    -    -    -    -    -    -    -    -    -    -    -    -    -    -    -    -    -    -\n",
        "    A    -    -    -    -    -    -    -    -    -    -    -    -    -    -    -    -    -    -    -    -    -    -    -    -\n",
        "    C    -    -    -    -    -    -    -    -    -    -    -    -    -    -    -    -    -    -    -    -    -    -    -    -\n",
        "    A    -    -    -    -    -    -    -    -    -    -    -    -    -    -    -    -    -    -    -    -    -    -    -    -\n",
        "    C    -    -    -    -    -    -    -    -    -    -    -    -    -    -    -    -    -    -    -    -    -    -    -    -\n",
        "    C    -    -    -    -    -    -    -    -    -    -    -    -    -    -    -    -    -    -    -    -    -    -    -    -\n",
        "    C    -    -    -    -    -    -    -    -    -    -    -    -    -    -    -    -    -    -    -    -    -    -    -    -\n",
        "    A    -    -    -    -    -    -    -    -    -    -    -    -    -    -    -    -    -    -    -    -    -    -    -    -\n",
        "    C    -    -    -    -    -    -    -    -    -    -    -    -    -    -    -    -    -    -    -    -    -    -    -    -\n"
       ]
      }
     ],
     "prompt_number": 6
    },
    {
     "cell_type": "markdown",
     "metadata": {},
     "source": [
      "**Step 2.** Score the cells where the row value is equal to the column value as ``1``, and the others as ``0``. "
     ]
    },
    {
     "cell_type": "code",
     "collapsed": false,
     "input": [
      "data = []\n",
      "for b2 in seq2:\n",
      "    row = []\n",
      "    for b1 in seq1:\n",
      "        if b1 == b2:\n",
      "            row.append(1)\n",
      "        else:\n",
      "            row.append(0)\n",
      "    data.append(row)\n",
      "        \n",
      "print format_matrix(seq1, seq2, data, hide_zeros=True)"
     ],
     "language": "python",
     "metadata": {},
     "outputs": [
      {
       "output_type": "stream",
       "stream": "stdout",
       "text": [
        "         A    C    C    G    G    T    G    G    A    A    C    C    G    G    T    A    A    C    A    C    C    C    A    C\n",
        "    A    1                                       1    1                             1    1         1                   1     \n",
        "    C         1    1                                       1    1                             1         1    1    1         1\n",
        "    C         1    1                                       1    1                             1         1    1    1         1\n",
        "    G                   1    1         1    1                        1    1                                                  \n",
        "    G                   1    1         1    1                        1    1                                                  \n",
        "    T                             1                                            1                                             \n",
        "    A    1                                       1    1                             1    1         1                   1     \n",
        "    A    1                                       1    1                             1    1         1                   1     \n",
        "    C         1    1                                       1    1                             1         1    1    1         1\n",
        "    C         1    1                                       1    1                             1         1    1    1         1\n",
        "    G                   1    1         1    1                        1    1                                                  \n",
        "    G                   1    1         1    1                        1    1                                                  \n",
        "    T                             1                                            1                                             \n",
        "    T                             1                                            1                                             \n",
        "    A    1                                       1    1                             1    1         1                   1     \n",
        "    A    1                                       1    1                             1    1         1                   1     \n",
        "    C         1    1                                       1    1                             1         1    1    1         1\n",
        "    A    1                                       1    1                             1    1         1                   1     \n",
        "    C         1    1                                       1    1                             1         1    1    1         1\n",
        "    C         1    1                                       1    1                             1         1    1    1         1\n",
        "    C         1    1                                       1    1                             1         1    1    1         1\n",
        "    A    1                                       1    1                             1    1         1                   1     \n",
        "    C         1    1                                       1    1                             1         1    1    1         1\n"
       ]
      }
     ],
     "prompt_number": 7
    },
    {
     "cell_type": "markdown",
     "metadata": {},
     "source": [
      "**Step 3**: Identify the \u201chigh-scoring\u201d or contiguous diagonals. You can score each diagonal by summing the values in each cell."
     ]
    },
    {
     "cell_type": "code",
     "collapsed": false,
     "input": [
      "line_format = \"%3s\" * (len(seq1) + 1)\n",
      "scored_data = []\n",
      "for i, drow in enumerate(data):\n",
      "    row = []\n",
      "    for j, value in enumerate(drow):\n",
      "        if value > 0:\n",
      "            if i == 0 or j == 0:\n",
      "                row.append(value)\n",
      "            else:\n",
      "                row.append(value + scored_data[i-1][j-1])\n",
      "        else:\n",
      "            row.append(0)\n",
      "    scored_data.append(row)\n",
      "        \n",
      "print format_matrix(seq1, seq2, scored_data, hide_zeros=True)"
     ],
     "language": "python",
     "metadata": {},
     "outputs": [
      {
       "output_type": "stream",
       "stream": "stdout",
       "text": [
        "         A    C    C    G    G    T    G    G    A    A    C    C    G    G    T    A    A    C    A    C    C    C    A    C\n",
        "    A    1                                       1    1                             1    1         1                   1     \n",
        "    C         2    1                                       2    1                             2         2    1    1         2\n",
        "    C         1    3                                       1    3                             1         1    3    2         1\n",
        "    G                   4    1         1    1                        4    1                                                  \n",
        "    G                   1    5         1    2                        1    5                                                  \n",
        "    T                             6                                            6                                             \n",
        "    A    1                                       1    1                             7    1         1                   1     \n",
        "    A    1                                       1    2                             1    8         1                   1     \n",
        "    C         2    1                                       3    1                             9         2    1    1         2\n",
        "    C         1    3                                       1    4                             1         1    3    2         1\n",
        "    G                   4    1         1    1                        5    1                                                  \n",
        "    G                   1    5         1    2                        1    6                                                  \n",
        "    T                             6                                            7                                             \n",
        "    T                             1                                            1                                             \n",
        "    A    1                                       1    1                             2    1         1                   1     \n",
        "    A    1                                       1    2                             1    3         1                   1     \n",
        "    C         2    1                                       3    1                             4         2    1    1         2\n",
        "    A    1                                       1    1                             1    1         5                   2     \n",
        "    C         2    1                                       2    1                             2         6    1    1         3\n",
        "    C         1    3                                       1    3                             1         1    7    2         1\n",
        "    C         1    2                                       1    2                             1         1    2    8         1\n",
        "    A    1                                       1    1                             1    1         2                   9     \n",
        "    C         2    1                                       2    1                             2         3    1    1        10\n"
       ]
      }
     ],
     "prompt_number": 8
    },
    {
     "cell_type": "markdown",
     "metadata": {},
     "source": [
      "**Step 4**: Transcribe and score alignments including gaps (subtract one for every non-diagonal cell).\n",
      "\n",
      "You can now identify the highest scoring contiguous alignments \u2013 but notice that this only represents a portion of the full sequences, and there are other regions that are apparently homologous (as evidenced by high alignment scores).\n",
      "\n",
      "To transcribe a gapped alignment, add a gap character in the first (horizontal) sequence for each vertical line in the matrix, and a gap character in the second (vertical) sequence for each horizontal line in the matrix."
     ]
    },
    {
     "cell_type": "markdown",
     "metadata": {},
     "source": [
      "**TODO**: Need to implement traceback so the following is auto-calculated.\n",
      "\n",
      "``ACCGGTGGAACCGG-TAACACCCAC``\n",
      "\n",
      "``ACCGGT--AACCGGTTAACACCCAC``\n",
      "\n",
      "Alignment score: 19\n",
      "\n",
      "\n",
      "``ACCGGTGGAACCGGTAACACCCAC``\n",
      "\n",
      "``ACCGGT--------TAACACCCAC``\n",
      "\n",
      "Alignment score: 8"
     ]
    },
    {
     "cell_type": "markdown",
     "metadata": {},
     "source": [
      "**Complexities**: why this simple procedure is too simple\n",
      "\n",
      "1. An alignment represents a hypothesis about the evolutionary history of a sequence.  Which of these hypotheses is more likely  to be true based on what you know about sequence evolution?\n",
      "\n",
      "2. We\u2019re scoring all matches as 1 and all mismatches as 0. This suggests that all substitutions are treated equally. What\u2019s a more biologically meaningful way to do this (e.g., in protein alignments)?\n",
      "\n",
      "3. When searching a novel sequence against a database, you may have billions of bases to search against (which would correspond to billions of columns in these matrices). How can this be done efficiently? How can you determine if a hit is statistically meaningful or the result of chance?"
     ]
    },
    {
     "cell_type": "markdown",
     "metadata": {},
     "source": [
      "**TODO** Talk about how all scoring schemes have limitations, and you should consider alignments that come back from systems such as BLAST as hypotheses. You still need to do your due diligence to decide if you agree with the result that a computational systems gives you. They are there to help you do your work, but their answers are based on models and the models are not perfect. Be skeptical!"
     ]
    },
    {
     "cell_type": "heading",
     "level": 1,
     "metadata": {},
     "source": [
      "Global versus local alignment"
     ]
    },
    {
     "cell_type": "markdown",
     "metadata": {},
     "source": [
      "Global alignment: align the full-length of the shorter sequence (e.g., muscle)\n",
      "\n",
      "Local alignment: align high-scoring regions only (so may end up with several alignments; e.g., BLAST)\n"
     ]
    },
    {
     "cell_type": "heading",
     "level": 1,
     "metadata": {},
     "source": [
      "Needleman-Wunsch global pairwise sequence alignment"
     ]
    },
    {
     "cell_type": "code",
     "collapsed": false,
     "input": [
      "blosum50 = {'A': {'A': 5.0, 'C': -1.0, 'D': -2.0, 'E': -1.0, 'F': -3.0, 'G': 0.0, 'H': -2.0, 'I': -1.0, 'K': -1.0, 'L': -2.0, 'M': -1.0, 'N': -1.0, 'P': -1.0, 'Q': -1.0, 'R': -2.0, 'S': 1.0, 'T': 0.0, 'V': 0.0, 'W': -3.0, 'Y': -2.0},\n",
      "'C': {'A': -1.0, 'C': 13.0, 'D': -4.0, 'E': -3.0, 'F': -2.0, 'G': -3.0, 'H': -3.0, 'I': -2.0, 'K': -3.0, 'L': -2.0, 'M': -2.0, 'N': -2.0, 'P': -4.0, 'Q': -3.0, 'R': -4.0, 'S': -1.0, 'T': -1.0, 'V': -1.0, 'W': -5.0, 'Y': -3.0},\n",
      "'D': {'A': -2.0, 'C': -4.0, 'D': 8.0, 'E': 2.0, 'F': -5.0, 'G': -1.0, 'H': -1.0, 'I': -4.0, 'K': -1.0, 'L': -4.0, 'M': -4.0, 'N': 2.0, 'P': -1.0, 'Q': 0.0, 'R': -2.0, 'S': 0.0, 'T': -1.0, 'V': -4.0, 'W': -5.0, 'Y': -3.0},\n",
      "'E': {'A': -1.0, 'C': -3.0, 'D': 2.0, 'E': 6.0, 'F': -3.0, 'G': -3.0, 'H': 0.0, 'I': -4.0, 'K': 1.0, 'L': -3.0, 'M': -2.0, 'N': 0.0, 'P': -1.0, 'Q': 2.0, 'R': 0.0, 'S': -1.0, 'T': -1.0, 'V': -3.0, 'W': -3.0, 'Y': -2.0},\n",
      "'F': {'A': -3.0, 'C': -2.0, 'D': -5.0, 'E': -3.0, 'F': 8.0, 'G': -4.0, 'H': -1.0, 'I': 0.0, 'K': -4.0, 'L': 1.0, 'M': 0.0, 'N': -4.0, 'P': -4.0, 'Q': -4.0, 'R': -3.0, 'S': -3.0, 'T': -2.0, 'V': -1.0, 'W': 1.0, 'Y': 4.0},\n",
      "'G': {'A': 0.0, 'C': -3.0, 'D': -1.0, 'E': -3.0, 'F': -4.0, 'G': 8.0, 'H': -2.0, 'I': -4.0, 'K': -2.0, 'L': -4.0, 'M': -3.0, 'N': 0.0, 'P': -2.0, 'Q': -2.0, 'R': -3.0, 'S': 0.0, 'T': -2.0, 'V': -4.0, 'W': -3.0, 'Y': -3.0},\n",
      "'H': {'A': -2.0, 'C': -3.0, 'D': -1.0, 'E': 0.0, 'F': -1.0, 'G': -2.0, 'H': 10.0, 'I': -4.0, 'K': 0.0, 'L': -3.0, 'M': -1.0, 'N': 1.0, 'P': -2.0, 'Q': 1.0, 'R': 0.0, 'S': -1.0, 'T': -2.0, 'V': -4.0, 'W': -3.0, 'Y': 2.0},\n",
      "'I': {'A': -1.0, 'C': -2.0, 'D': -4.0, 'E': -4.0, 'F': 0.0, 'G': -4.0, 'H': -4.0, 'I': 5.0, 'K': -3.0, 'L': 2.0, 'M': 2.0, 'N': -3.0, 'P': -3.0, 'Q': -3.0, 'R': -4.0, 'S': -3.0, 'T': -1.0, 'V': 4.0, 'W': -3.0, 'Y': -1.0},\n",
      "'K': {'A': -1.0, 'C': -3.0, 'D': -1.0, 'E': 1.0, 'F': -4.0, 'G': -2.0, 'H': 0.0, 'I': -3.0, 'K': 6.0, 'L': -3.0, 'M': -2.0, 'N': 0.0, 'P': -1.0, 'Q': 2.0, 'R': 3.0, 'S': 0.0, 'T': -1.0, 'V': -3.0, 'W': -3.0, 'Y': -2.0},\n",
      "'L': {'A': -2.0, 'C': -2.0, 'D': -4.0, 'E': -3.0, 'F': 1.0, 'G': -4.0, 'H': -3.0, 'I': 2.0, 'K': -3.0, 'L': 5.0, 'M': 3.0, 'N': -4.0, 'P': -4.0, 'Q': -2.0, 'R': -3.0, 'S': -3.0, 'T': -1.0, 'V': 1.0, 'W': -2.0, 'Y': -1.0},\n",
      "'M': {'A': -1.0, 'C': -2.0, 'D': -4.0, 'E': -2.0, 'F': 0.0, 'G': -3.0, 'H': -1.0, 'I': 2.0, 'K': -2.0, 'L': 3.0, 'M': 7.0, 'N': -2.0, 'P': -3.0, 'Q': 0.0, 'R': -2.0, 'S': -2.0, 'T': -1.0, 'V': 1.0, 'W': -1.0, 'Y': 0.0},\n",
      "'N': {'A': -1.0, 'C': -2.0, 'D': 2.0, 'E': 0.0, 'F': -4.0, 'G': 0.0, 'H': 1.0, 'I': -3.0, 'K': 0.0, 'L': -4.0, 'M': -2.0, 'N': 7.0, 'P': -2.0, 'Q': 0.0, 'R': -1.0, 'S': 1.0, 'T': 0.0, 'V': -3.0, 'W': -4.0, 'Y': -2.0},\n",
      "'P': {'A': -1.0, 'C': -4.0, 'D': -1.0, 'E': -1.0, 'F': -4.0, 'G': -2.0, 'H': -2.0, 'I': -3.0, 'K': -1.0, 'L': -4.0, 'M': -3.0, 'N': -2.0, 'P': 10.0, 'Q': -1.0, 'R': -3.0, 'S': -1.0, 'T': -1.0, 'V': -3.0, 'W': -4.0, 'Y': -3.0},\n",
      "'Q': {'A': -1.0, 'C': -3.0, 'D': 0.0, 'E': 2.0, 'F': -4.0, 'G': -2.0, 'H': 1.0, 'I': -3.0, 'K': 2.0, 'L': -2.0, 'M': 0.0, 'N': 0.0, 'P': -1.0, 'Q': 7.0, 'R': 1.0, 'S': 0.0, 'T': -1.0, 'V': -3.0, 'W': -1.0, 'Y': -1.0},\n",
      "'R': {'A': -2.0, 'C': -4.0, 'D': -2.0, 'E': 0.0, 'F': -3.0, 'G': -3.0, 'H': 0.0, 'I': -4.0, 'K': 3.0, 'L': -3.0, 'M': -2.0, 'N': -1.0, 'P': -3.0, 'Q': 1.0, 'R': 7.0, 'S': -1.0, 'T': -1.0, 'V': -3.0, 'W': -3.0, 'Y': -1.0},\n",
      "'S': {'A': 1.0, 'C': -1.0, 'D': 0.0, 'E': -1.0, 'F': -3.0, 'G': 0.0, 'H': -1.0, 'I': -3.0, 'K': 0.0, 'L': -3.0, 'M': -2.0, 'N': 1.0, 'P': -1.0, 'Q': 0.0, 'R': -1.0, 'S': 5.0, 'T': 2.0, 'V': -2.0, 'W': -4.0, 'Y': -2.0},\n",
      "'T': {'A': 0.0, 'C': -1.0, 'D': -1.0, 'E': -1.0, 'F': -2.0, 'G': -2.0, 'H': -2.0, 'I': -1.0, 'K': -1.0, 'L': -1.0, 'M': -1.0, 'N': 0.0, 'P': -1.0, 'Q': -1.0, 'R': -1.0, 'S': 2.0, 'T': 5.0, 'V': 0.0, 'W': -3.0, 'Y': -2.0},\n",
      "'V': {'A': 0.0, 'C': -1.0, 'D': -4.0, 'E': -3.0, 'F': -1.0, 'G': -4.0, 'H': -4.0, 'I': 4.0, 'K': -3.0, 'L': 1.0, 'M': 1.0, 'N': -3.0, 'P': -3.0, 'Q': -3.0, 'R': -3.0, 'S': -2.0, 'T': 0.0, 'V': 5.0, 'W': -3.0, 'Y': -1.0},\n",
      "'W': {'A': -3.0, 'C': -5.0, 'D': -5.0, 'E': -3.0, 'F': 1.0, 'G': -3.0, 'H': -3.0, 'I': -3.0, 'K': -3.0, 'L': -2.0, 'M': -1.0, 'N': -4.0, 'P': -4.0, 'Q': -1.0, 'R': -3.0, 'S': -4.0, 'T': -3.0, 'V': -3.0, 'W': 15.0, 'Y': 2.0},\n",
      "'Y': {'A': -2.0, 'C': -3.0, 'D': -3.0, 'E': -2.0, 'F': 4.0, 'G': -3.0, 'H': 2.0, 'I': -1.0, 'K': -2.0, 'L': -1.0, 'M': 0.0, 'N': -2.0, 'P': -3.0, 'Q': -1.0, 'R': -1.0, 'S': -2.0, 'T': -2.0, 'V': -1.0, 'W': 2.0, 'Y': 8.0}}\n"
     ],
     "language": "python",
     "metadata": {},
     "outputs": [],
     "prompt_number": 9
    },
    {
     "cell_type": "markdown",
     "metadata": {},
     "source": [
      "After defining this, you can look up scores in the 2D dictionary as follows:"
     ]
    },
    {
     "cell_type": "code",
     "collapsed": false,
     "input": [
      "print blosum50['Y']['W']\n",
      "print blosum50['D']['W']\n",
      "print blosum50['A']['A']"
     ],
     "language": "python",
     "metadata": {},
     "outputs": [
      {
       "output_type": "stream",
       "stream": "stdout",
       "text": [
        "2.0\n",
        "-5.0\n",
        "5.0\n"
       ]
      }
     ],
     "prompt_number": 10
    },
    {
     "cell_type": "markdown",
     "metadata": {},
     "source": [
      "**Step 1.** Create a matrix, where the colums represent the positions in ``seq1`` and the rows represent the positions in ``seq2``."
     ]
    },
    {
     "cell_type": "code",
     "collapsed": false,
     "input": [
      "## Example adapted from Biological Sequence Analysis Chapter 2. \n",
      "\n",
      "seq1 = \"HEAGAWGHEE\"\n",
      "seq2 = \"PAWHEAE\""
     ],
     "language": "python",
     "metadata": {},
     "outputs": [],
     "prompt_number": 11
    },
    {
     "cell_type": "code",
     "collapsed": false,
     "input": [
      "data = []\n",
      "for p in seq2:\n",
      "    data.append(['-']*len(seq1))\n",
      "\n",
      "print format_matrix(seq1, seq2, data)"
     ],
     "language": "python",
     "metadata": {},
     "outputs": [
      {
       "output_type": "stream",
       "stream": "stdout",
       "text": [
        "         H    E    A    G    A    W    G    H    E    E\n",
        "    P    -    -    -    -    -    -    -    -    -    -\n",
        "    A    -    -    -    -    -    -    -    -    -    -\n",
        "    W    -    -    -    -    -    -    -    -    -    -\n",
        "    H    -    -    -    -    -    -    -    -    -    -\n",
        "    E    -    -    -    -    -    -    -    -    -    -\n",
        "    A    -    -    -    -    -    -    -    -    -    -\n",
        "    E    -    -    -    -    -    -    -    -    -    -\n"
       ]
      }
     ],
     "prompt_number": 12
    },
    {
     "cell_type": "markdown",
     "metadata": {},
     "source": [
      "**Step 2**:  Using a substitution matrix, score each cell in the matrix."
     ]
    },
    {
     "cell_type": "code",
     "collapsed": false,
     "input": [
      "def generate_score_matrix(seq1,seq2,substitution_matrix):\n",
      "    # Initialize a matrix to use for storing the scores\n",
      "    score_matrix = []\n",
      "    # Iterate over the amino acids in sequence two (which will correspond\n",
      "    # to the vertical sequence in the matrix)\n",
      "    for aa2 in seq2:\n",
      "        # Initialize the current row of the matrix\n",
      "        current_row = []\n",
      "        # Iterate over the amino acids in sequence one (which will\n",
      "        # correspond to the horizontal sequence in the matrix)\n",
      "        for aa1 in seq1:\n",
      "            # score as 1 if the bases are equal and 0 if they're not\n",
      "            current_row.append(substitution_matrix[aa1][aa2])\n",
      "        # append the current row to the matrix\n",
      "        score_matrix.append(current_row)\n",
      "    return score_matrix"
     ],
     "language": "python",
     "metadata": {},
     "outputs": [],
     "prompt_number": 13
    },
    {
     "cell_type": "code",
     "collapsed": false,
     "input": [
      "score_matrix = generate_score_matrix(seq1,seq2,blosum50)\n",
      "\n",
      "print format_matrix(seq1,\n",
      "                    seq2,\n",
      "                    score_matrix)"
     ],
     "language": "python",
     "metadata": {},
     "outputs": [
      {
       "output_type": "stream",
       "stream": "stdout",
       "text": [
        "         H    E    A    G    A    W    G    H    E    E\n",
        "    P -2.0 -1.0 -1.0 -2.0 -1.0 -4.0 -2.0 -2.0 -1.0 -1.0\n",
        "    A -2.0 -1.0  5.0  0.0  5.0 -3.0  0.0 -2.0 -1.0 -1.0\n",
        "    W -3.0 -3.0 -3.0 -3.0 -3.0 15.0 -3.0 -3.0 -3.0 -3.0\n",
        "    H 10.0  0.0 -2.0 -2.0 -2.0 -3.0 -2.0 10.0  0.0  0.0\n",
        "    E  0.0  6.0 -1.0 -3.0 -1.0 -3.0 -3.0  0.0  6.0  6.0\n",
        "    A -2.0 -1.0  5.0  0.0  5.0 -3.0  0.0 -2.0 -1.0 -1.0\n",
        "    E  0.0  6.0 -1.0 -3.0 -1.0 -3.0 -3.0  0.0  6.0  6.0\n"
       ]
      }
     ],
     "prompt_number": 14
    },
    {
     "cell_type": "markdown",
     "metadata": {},
     "source": [
      "**Step 3**: Generate the dynamic programming and traceback matrices.\n",
      "\n",
      "In the next step we determine the best alignment given the sequences and scoring scheme in what we'll call the *dynamic programming matrix*, and then define programmatically how to transcribe that matrix in what we'll call the *traceback matrix* to yield a pair of aligned sequences. To do this, we define a scoring function. In a Needleman-Wunsch alignment, the score `F` for cell `(i, j)` is computed as the maximum of three possible values.\n",
      "\n",
      "``\n",
      "F(i, j) = max( F(i-1, j-1) + s(xi, yj), \n",
      "               F(i-1, j) - d,\n",
      "               F(i, j-1) - d\n",
      "             )\n",
      "``\n",
      "\n",
      "In this notation, `s` refers to the substitution matrix, `x` and `y` refer to characters in `seq1` and `seq2`, and `d` is a gap score. Describing this in English, we score a cell with the maximum of three values: either the value of the cell up and to the left plus the score for the substitution taking place in the current cell (which you find by looking up the substitution in the substitution matrix); the value of the cell above minus the gap penalty; or the value of the cell to the left minus the gap penalty. In this way, you're determining whether the best (highest) score is obtained by intersting a gap in sequence 1, inserting a gap in sequence 2, or aligning the characters in sequence 1 and sequence 2.\n",
      "\n",
      "For the convenience of coding this algorithm, it helps to define the dynamic programming matrix with one extra row and one extra column relative to the score matrix, and make these the first column and row of the matrix. These then represent the end of the alignment position `(0, 0)`. There are a couple of extra rules that are applied to initialize these cells in the dynamic programming matix.\n",
      "\n",
      "``\n",
      "F(0, 0) = 0\n",
      "F(i, 0) = -i * d\n",
      "F(0, j) = -j * d\n",
      "``\n",
      "\n",
      "This matrix, pre-initialization, would look like the following. As an exercise, try computing the values for the cells in the first three or four rows of this matrix."
     ]
    },
    {
     "cell_type": "code",
     "collapsed": false,
     "input": [
      "data = []\n",
      "seq1 = \" HEAGAWGHEE\"\n",
      "seq2 = \" PAWHEAE\"\n",
      "for p in seq2:\n",
      "    data.append(['-']*len(seq1))\n",
      "\n",
      "print format_matrix(seq1, seq2, data)"
     ],
     "language": "python",
     "metadata": {},
     "outputs": [
      {
       "output_type": "stream",
       "stream": "stdout",
       "text": [
        "              H    E    A    G    A    W    G    H    E    E\n",
        "         -    -    -    -    -    -    -    -    -    -    -\n",
        "    P    -    -    -    -    -    -    -    -    -    -    -\n",
        "    A    -    -    -    -    -    -    -    -    -    -    -\n",
        "    W    -    -    -    -    -    -    -    -    -    -    -\n",
        "    H    -    -    -    -    -    -    -    -    -    -    -\n",
        "    E    -    -    -    -    -    -    -    -    -    -    -\n",
        "    A    -    -    -    -    -    -    -    -    -    -    -\n",
        "    E    -    -    -    -    -    -    -    -    -    -    -\n"
       ]
      }
     ],
     "prompt_number": 15
    },
    {
     "cell_type": "code",
     "collapsed": false,
     "input": [
      "from __future__ import division\n",
      "from random import choice\n",
      "\n",
      "##############\n",
      "# Start function and variable definitions\n",
      "##############\n",
      "\n",
      "def generate_nw_and_traceback_matrices(seq1,seq2,gap_penalty,substitution_matrix):\n",
      "\n",
      "    # Initialize a matrix to use for scoring the alignment and for tracing\n",
      "    # back the best alignment\n",
      "    nw_matrix = [[-gap_penalty * i for i in range(0,len(seq1)+1)]]\n",
      "    traceback_matrix = [[None] + ['-' for i in range(0,len(seq1))]]\n",
      "    # Iterate over the amino acids in sequence two (which will correspond\n",
      "    # to the vertical sequence in the matrix)\n",
      "    # Note that i corresponds to column numbers, as in the 'Biological Sequence\n",
      "    # Analysis' example from class\n",
      "    for i,aa2 in zip(range(1,len(seq2)+1),seq2):\n",
      "        # Initialize the current row of the matrix\n",
      "        current_row = [i * -gap_penalty]\n",
      "        current_traceback_matrix_row = ['|']\n",
      "        # Iterate over the amino acids in sequence one (which will\n",
      "        # correspond to the horizontal sequence in the matrix)\n",
      "        # Note that j corresponds to row numbers, as in the 'Biological Sequence\n",
      "        # Analysis' example from class\n",
      "        for j,aa1 in zip(range(1,len(seq1)+1),seq1):\n",
      "            substitution_score = substitution_matrix[aa1][aa2]\n",
      "            diag_score = (nw_matrix[i-1][j-1] + substitution_score,'\\\\')\n",
      "            up_score = (nw_matrix[i-1][j] - gap_penalty,'|')\n",
      "            left_score = (current_row[-1] - gap_penalty,'-')\n",
      "            best_score = max(diag_score,up_score,left_score)\n",
      "            current_row.append(best_score[0])\n",
      "            current_traceback_matrix_row.append(best_score[1])\n",
      "        # append the current row to the matrix\n",
      "        nw_matrix.append(current_row)\n",
      "        traceback_matrix.append(current_traceback_matrix_row)\n",
      "    return nw_matrix, traceback_matrix\n",
      "\n",
      "def nw_traceback(traceback_matrix,nw_matrix,seq1,seq2,gap_character='-'):\n",
      "\n",
      "    aligned_seq1 = []\n",
      "    aligned_seq2 = []\n",
      "\n",
      "    current_row = len(traceback_matrix) - 1\n",
      "    current_col = len(traceback_matrix[0]) - 1\n",
      "\n",
      "    best_score = nw_matrix[current_row][current_col]\n",
      "\n",
      "    while True:\n",
      "        current_value = traceback_matrix[current_row][current_col]\n",
      "\n",
      "        if current_value == '\\\\':\n",
      "            aligned_seq1.append(seq1[current_col-1])\n",
      "            aligned_seq2.append(seq2[current_row-1])\n",
      "            current_row -= 1\n",
      "            current_col -= 1\n",
      "        elif current_value == '|':\n",
      "            aligned_seq1.append('-')\n",
      "            aligned_seq2.append(seq2[current_row-1])\n",
      "            current_row -= 1\n",
      "        elif current_value == '-':\n",
      "            aligned_seq1.append(seq1[current_col-1])\n",
      "            aligned_seq2.append('-')\n",
      "            current_col -= 1\n",
      "        elif current_value == None:\n",
      "            break\n",
      "        else:\n",
      "            raise ValueError, \"Invalid value in traceback matrix: %s\" % current_value\n",
      "\n",
      "    return ''.join(aligned_seq1[::-1]), ''.join(aligned_seq2[::-1]), best_score\n",
      "\n",
      "def format_score_matrix(seq1,seq2,score_matrix,title):\n",
      "    # define a format string that will be used to format each line -\n",
      "    # since seq1 is the 'horizontal' sequence in our matrix we'll\n",
      "    # have len(seq1) + 1 entries on each line to print the scores and\n",
      "    # seq2 base associated with each row\n",
      "    line_format = \"%6s\" * (len(seq1) + 1)\n",
      "\n",
      "    print \"\\n%s\" % title\n",
      "\n",
      "    # print seq1 (start the line with an empty string)\n",
      "    print line_format % tuple([' '] + map(str,list(seq1)))\n",
      "\n",
      "    # iterate over the rows and print each (starting with the\n",
      "    # corresponding base in sequence2)\n",
      "    for row, base in zip(score_matrix,seq2):\n",
      "        print line_format % tuple([base] + map(str,row))\n",
      "\n",
      "def format_dynamic_programming_matrix(seq1,seq2,matrix,title):\n",
      "    print \"\\n%s\" % title\n",
      "\n",
      "    line_format = \"%6s\" * (len(seq1) + 2)\n",
      "    # print seq1 (start the line with two empty strings)\n",
      "    print line_format % tuple([' ',' '] + map(str,list(seq1)))\n",
      "\n",
      "    # iterate over the rows and print each (starting with the\n",
      "    # corresponding base in sequence2)\n",
      "    for row, base in zip(matrix,' ' + seq2):\n",
      "        print line_format % tuple([base] + map(str,row))\n",
      "\n",
      "\n",
      "##############\n",
      "# End function and variable definitions\n",
      "##############"
     ],
     "language": "python",
     "metadata": {},
     "outputs": [],
     "prompt_number": 16
    },
    {
     "cell_type": "code",
     "collapsed": false,
     "input": [
      "## Example adapted from Biological Sequence Analysis Chapter 2. \n",
      "\n",
      "seq1 = \"HEAGAWGHEE\"\n",
      "seq2 = \"PAWHEAE\"\n",
      "\n",
      "score_matrix = generate_score_matrix(seq1,seq2,blosum50)\n",
      "\n",
      "format_score_matrix(seq1,\n",
      "                    seq2,\n",
      "                    score_matrix,\n",
      "                    title=\"Score matrix (based on BLOSUM50)\")\n",
      "\n",
      "\n",
      "nw_matrix, traceback_matrix = generate_nw_and_traceback_matrices(seq1,\n",
      "                                                                 seq2,\n",
      "                                                                 8,\n",
      "                                                                 blosum50)\n",
      "\n",
      "aligned_seq1, aligned_seq2, score = nw_traceback(traceback_matrix,nw_matrix,seq1,seq2)\n",
      "\n",
      "format_dynamic_programming_matrix(seq1,\n",
      "                                  seq2,\n",
      "                                  nw_matrix,\n",
      "                                  title=\"Global dynamic programming matrix\")\n",
      "\n",
      "format_dynamic_programming_matrix(seq1,\n",
      "                                  seq2,\n",
      "                                  traceback_matrix,\n",
      "                                  title=\"Traceback matrix\")\n",
      "\n",
      "\n",
      "print \"\\nAlignment:\"\n",
      "\n",
      "print aligned_seq1\n",
      "print aligned_seq2\n",
      "print '\\nAlignment score:'\n",
      "print score"
     ],
     "language": "python",
     "metadata": {},
     "outputs": [
      {
       "output_type": "stream",
       "stream": "stdout",
       "text": [
        "\n",
        "Score matrix (based on BLOSUM50)\n",
        "           H     E     A     G     A     W     G     H     E     E\n",
        "     P  -2.0  -1.0  -1.0  -2.0  -1.0  -4.0  -2.0  -2.0  -1.0  -1.0\n",
        "     A  -2.0  -1.0   5.0   0.0   5.0  -3.0   0.0  -2.0  -1.0  -1.0\n",
        "     W  -3.0  -3.0  -3.0  -3.0  -3.0  15.0  -3.0  -3.0  -3.0  -3.0\n",
        "     H  10.0   0.0  -2.0  -2.0  -2.0  -3.0  -2.0  10.0   0.0   0.0\n",
        "     E   0.0   6.0  -1.0  -3.0  -1.0  -3.0  -3.0   0.0   6.0   6.0\n",
        "     A  -2.0  -1.0   5.0   0.0   5.0  -3.0   0.0  -2.0  -1.0  -1.0\n",
        "     E   0.0   6.0  -1.0  -3.0  -1.0  -3.0  -3.0   0.0   6.0   6.0\n",
        "\n",
        "Global dynamic programming matrix\n",
        "                 H     E     A     G     A     W     G     H     E     E\n",
        "           0    -8   -16   -24   -32   -40   -48   -56   -64   -72   -80\n",
        "     P    -8  -2.0  -9.0 -17.0 -25.0 -33.0 -41.0 -49.0 -57.0 -65.0 -73.0\n",
        "     A   -16 -10.0  -3.0  -4.0 -12.0 -20.0 -28.0 -36.0 -44.0 -52.0 -60.0\n",
        "     W   -24 -18.0 -11.0  -6.0  -7.0 -15.0  -5.0 -13.0 -21.0 -29.0 -37.0\n",
        "     H   -32 -14.0 -18.0 -13.0  -8.0  -9.0 -13.0  -7.0  -3.0 -11.0 -19.0\n",
        "     E   -40 -22.0  -8.0 -16.0 -16.0  -9.0 -12.0 -15.0  -7.0   3.0  -5.0\n",
        "     A   -48 -30.0 -16.0  -3.0 -11.0 -11.0 -12.0 -12.0 -15.0  -5.0   2.0\n",
        "     E   -56 -38.0 -24.0 -11.0  -6.0 -12.0 -14.0 -15.0 -12.0  -9.0   1.0\n",
        "\n",
        "Traceback matrix\n",
        "                 H     E     A     G     A     W     G     H     E     E\n",
        "        None     -     -     -     -     -     -     -     -     -     -\n",
        "     P     |     \\     \\     \\     -     \\     -     -     -     \\     \\\n",
        "     A     |     |     \\     \\     -     \\     -     -     -     -     -\n",
        "     W     |     |     |     \\     \\     \\     \\     -     -     -     -\n",
        "     H     |     \\     \\     \\     \\     \\     |     \\     \\     -     -\n",
        "     E     |     |     \\     -     |     \\     \\     |     \\     \\     \\\n",
        "     A     |     |     |     \\     -     \\     \\     \\     |     |     \\\n",
        "     E     |     |     |     |     \\     \\     \\     \\     \\     \\     \\\n",
        "\n",
        "Alignment:\n",
        "HEAGAWGHE-E\n",
        "--P-AW-HEAE\n",
        "\n",
        "Alignment score:\n",
        "1.0\n"
       ]
      }
     ],
     "prompt_number": 17
    },
    {
     "cell_type": "markdown",
     "metadata": {},
     "source": [
      "**TODO**: Perform some alignments where one of the sequences is getting increasingly longer to show how runtime scales with seqeunce length. Use that to make projections about how long it might take to do Smith-Waterman against NCBI nr."
     ]
    },
    {
     "cell_type": "code",
     "collapsed": false,
     "input": [],
     "language": "python",
     "metadata": {},
     "outputs": [],
     "prompt_number": 17
    }
   ],
   "metadata": {}
  }
 ]
}