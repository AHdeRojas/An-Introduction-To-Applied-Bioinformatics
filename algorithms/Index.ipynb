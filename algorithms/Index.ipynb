{
 "metadata": {
  "name": "",
  "signature": "sha256:e9e16a9b712f78fe0f045d57776280dff372e064a05b6183ec9711a86126a7d2"
 },
 "nbformat": 3,
 "nbformat_minor": 0,
 "worksheets": [
  {
   "cells": [
    {
     "cell_type": "heading",
     "level": 1,
     "metadata": {},
     "source": [
      "Fundamentals"
     ]
    },
    {
     "cell_type": "markdown",
     "metadata": {},
     "source": [
      "This section introduces pairwise sequence alignment, phylogenetic reconstruction, and multiple sequence alignment, as well as application that derive from them such as database searching and OTU clustering. \n",
      "\n",
      "  1. [Pairwise alignment](1-pairwise-alignment.ipynb) ([exercise](pairwise-alignment-exercises.ipynb))\n",
      "  2. [Database searching and determining the statistical significance of an alignment](2-database-searching.ipynb)\n",
      "  3. [Phylogeny reconstruction: distances, distances matrices and hierarchical clustering with UPGMA](3-phylogeny-reconstruction.ipynb)\n",
      "  4. [Multiple sequence alignment](4-multiple-sequence-alignment.ipynb) ([exercise](msa-assignment.ipynb))\n",
      "  5. [Read mapping and clustering](5-sequence-mapping-and-clustering.ipynb?create=1)\n",
      "  \n",
      "These notebooks collectively are a good example of where I'm hoping to go with [An Introduction to Applied Bioinformatics](https://github.com/gregcaporaso/An-Introduction-To-Applied-Bioinformatics), though they are still in relatively early development. I am very interested in feedback in the form of email (gregcaporaso@gmail.com) or [pull requests](https://help.github.com/articles/using-pull-requests). "
     ]
    }
   ],
   "metadata": {}
  }
 ]
}