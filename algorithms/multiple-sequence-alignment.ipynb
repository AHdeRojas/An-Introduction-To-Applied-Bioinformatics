{
 "metadata": {
  "name": "multiple-sequence-alignment"
 },
 "nbformat": 3,
 "nbformat_minor": 0,
 "worksheets": [
  {
   "cells": [
    {
     "cell_type": "heading",
     "level": 1,
     "metadata": {},
     "source": [
      "Progressive alignment"
     ]
    },
    {
     "cell_type": "markdown",
     "metadata": {},
     "source": [
      "Multiple sequence alignment via progressive alignment occurs in three steps. \n",
      "\n",
      "1. Compute distances between the sequences and use that to build a guide tree.\n",
      "2. Perform pairwise alignment between adjacent tips in the guide tree.\n",
      "3. Compute alignments of alignments for all internal nodes in the tree. The alignment at the root of the tree is the mutliple sequence alignment. \n",
      "\n",
      "For computing the alignment of a pair of alignments (example derived from [here](http://statweb.stanford.edu/~nzhang/345_web/sequence_slides3.pdf)):\n",
      "\n",
      "       \n",
      "    1234567 8 90\n",
      "    peeksav t al (w1)\n",
      "    geekaav l al (w2)\n",
      "    padktnv k aa (w3)\n",
      "    aadktnv k aa (w4)\n",
      "    \n",
      "    123456 7 890\n",
      "    egewql v lhv (w5)\n",
      "    aaektk i rsa (w6)\n",
      "\n",
      "Where `w` refers to the weight of a sequence.\n",
      "\n",
      "The score for aligning alignment 1 position 8 with alignment 2 position 7 is:\n",
      "\n",
      "\n",
      "    1/8 * [M(t,v) * w1 * w5 +\n",
      "           M(t,i) * w1 * w6 +\n",
      "    \n",
      "           M(l,v) * w2 * w5 +\n",
      "           M(l,i) * w2 * w6 +\n",
      "    \n",
      "           M(k,v) * w3 * w5 +\n",
      "           M(k,i) * w3 * w6 +\n",
      "    \n",
      "           M(k,v) * w4 * w5 +\n",
      "           M(k,i) * w6 * w6]\n",
      "\n",
      "Some references that I used in assembling these notes include [1](http://statweb.stanford.edu/~nzhang/345_web/sequence_slides3.pdf), [2](http://math.mit.edu/classes/18.417/Slides/alignment.pdf), [3](http://www.sciencedirect.com/science/article/pii/0378111988903307), [4](http://bioinformatics.oxfordjournals.org/content/23/21/2947.full), and [5](http://nar.oxfordjournals.org/content/32/5/1792.full). \n"
     ]
    },
    {
     "cell_type": "heading",
     "level": 1,
     "metadata": {},
     "source": [
      "Progressive alignment versus iterative alignment"
     ]
    },
    {
     "cell_type": "code",
     "collapsed": false,
     "input": [],
     "language": "python",
     "metadata": {},
     "outputs": []
    }
   ],
   "metadata": {}
  }
 ]
}