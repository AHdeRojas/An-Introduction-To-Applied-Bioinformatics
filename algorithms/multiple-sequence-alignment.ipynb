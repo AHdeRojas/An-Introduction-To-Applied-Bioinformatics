{
 "metadata": {
  "name": ""
 },
 "nbformat": 3,
 "nbformat_minor": 0,
 "worksheets": [
  {
   "cells": [
    {
     "cell_type": "heading",
     "level": 1,
     "metadata": {},
     "source": [
      "Generalized dynamic programming for multiple sequence alignment"
     ]
    },
    {
     "cell_type": "markdown",
     "metadata": {},
     "source": [
      "It's possible to generalize Smith-Waterman and Needleman-Wunsch, the dynamic programming algorithms that we explored for pairwise sequence aligment, to identify the optimal alignment of more than two sequences. Remember that our scoring scheme for pairwise alignment with Smith-Waterman looked like the following:\n",
      "\n",
      "\n",
      "```\n",
      "F(0, 0) = 0\n",
      "F(i, 0) = 0\n",
      "F(0, j) = 0\n",
      "\n",
      "F(i, j) = max(0,\n",
      "              F(i-1, j-1) + s(xi, yj), \n",
      "              F(i-1, j) - d,\n",
      "              F(i, j-1) - d\n",
      "              )\n",
      "```\n",
      "\n",
      "To generalize this to three sequences, we could create 3x3 score, dynamic programming, and traceback matrices. Our scoring scheme would then look like the following:\n",
      "\n",
      "```\n",
      "\n",
      "F(0, 0, 0) = 0\n",
      "F(i, 0, 0) = 0\n",
      "F(0, j, 0) = 0\n",
      "F(0, 0, k) = 0\n",
      "\n",
      "F(i, j, k) = max(0,\n",
      "                 F(i-1, j-1, k-1) + s(xi, yj, zk), # match in three sequences\n",
      "                 \n",
      "                 F(i-1, j-1, k) + s(xi, yj) - d, # gap in one sequence\n",
      "                 F(i-1, j, k-1) + s(xi, zk) - d, # gap in one sequence\n",
      "                 F(i, j-1, k-1) + s(yj, zk) - d, # gap in one sequence\n",
      "                 \n",
      "                 F(i-1, j, k) - 2d, # gap in two sequences\n",
      "                 F(i, j-1, k) - 2d, # gap in two sequences\n",
      "                 F(i, j, k-1) - 2d, # gap in two sequences\n",
      "                 )\n",
      "```\n",
      "\n",
      "However the complexity of this algorithm is much worse than for pairwise alignment. For pairwise alignment, remember that if aligning two sequences of lengths `m` and `n`, the runtime of the algorithm will be proportional to `m` * `n`. If `n` is longer than or as long as `m`, we simplify the statement to say that the runtime of the algorithm will be be proportional to `n**2`. This curve has a pretty scary trajectory: runtime for pairwise alignment with dynamic programming is said to scale quadratically."
     ]
    },
    {
     "cell_type": "code",
     "collapsed": false,
     "input": [
      "import matplotlib.pyplot as plt\n",
      "\n",
      "seq_lengths = range(25)\n",
      "s2_times = [t ** 2 for t in range(25)]\n",
      "\n",
      "plt.plot(range(25), s2_times)\n",
      "plt.xlabel('Sequence Length')\n",
      "plt.ylabel('Runtime (s)')"
     ],
     "language": "python",
     "metadata": {},
     "outputs": [
      {
       "metadata": {},
       "output_type": "pyout",
       "prompt_number": 1,
       "text": [
        "<matplotlib.text.Text at 0x10860cad0>"
       ]
      },
      {
       "metadata": {},
       "output_type": "display_data",
       "png": "[encoded data removed]",
       "text": [
        "<matplotlib.figure.Figure at 0x108605a90>"
       ]
      }
     ],
     "prompt_number": 1
    },
    {
     "cell_type": "markdown",
     "metadata": {},
     "source": [
      "The ``2`` in the ``n**2`` term comes from the fact that if we assume our sequences are both of length ``n``, there will be ``n`` * ``n`` cells to fill in in the dynamic programming matrix. If we were to generalize either Smith-Waterman or Needleman-Wunsch to three sequences, we would essentially create a 3 dimensional array to score and traceback the alignment. For sequences of length ``n``, we would therefore have `n * n * n` cells to fill in, and our runtime versus sequence length curve would look like the following."
     ]
    },
    {
     "cell_type": "code",
     "collapsed": false,
     "input": [
      "s3_times = [t ** 3 for t in range(25)]\n",
      "\n",
      "plt.plot(range(25), s3_times)\n",
      "plt.xlabel('Sequence Length')\n",
      "plt.ylabel('Runtime (s)')"
     ],
     "language": "python",
     "metadata": {},
     "outputs": [
      {
       "metadata": {},
       "output_type": "pyout",
       "prompt_number": 2,
       "text": [
        "<matplotlib.text.Text at 0x1086417d0>"
       ]
      },
      {
       "metadata": {},
       "output_type": "display_data",
       "png": "[encoded data removed]",
       "text": [
        "<matplotlib.figure.Figure at 0x108633310>"
       ]
      }
     ],
     "prompt_number": 2
    },
    {
     "cell_type": "markdown",
     "metadata": {},
     "source": [
      "That curve looks steeper than the curve for pairwise alignment, and the values on the y-axis are bigger, but it's not really clear how much of a problem this is until we plot runtime for three sequences in the context of the run times for pairwise alignment."
     ]
    },
    {
     "cell_type": "code",
     "collapsed": false,
     "input": [
      "plt.plot(range(25), s2_times)\n",
      "plt.plot(range(25), s3_times)\n",
      "plt.xlabel('Sequence Length')\n",
      "plt.ylabel('Runtime (s)')"
     ],
     "language": "python",
     "metadata": {},
     "outputs": [
      {
       "metadata": {},
       "output_type": "pyout",
       "prompt_number": 3,
       "text": [
        "<matplotlib.text.Text at 0x10875e410>"
       ]
      },
      {
       "metadata": {},
       "output_type": "display_data",
       "png": "[encoded data removed]",
       "text": [
        "<matplotlib.figure.Figure at 0x10876bcd0>"
       ]
      }
     ],
     "prompt_number": 3
    },
    {
     "cell_type": "markdown",
     "metadata": {},
     "source": [
      "And for four sequences:"
     ]
    },
    {
     "cell_type": "code",
     "collapsed": false,
     "input": [
      "s4_times = [t ** 4 for t in range(25)]\n",
      "\n",
      "plt.plot(range(25), s2_times)\n",
      "plt.plot(range(25), s3_times)\n",
      "plt.plot(range(25), s4_times)\n",
      "plt.xlabel('Sequence Length')\n",
      "plt.ylabel('Runtime (s)')"
     ],
     "language": "python",
     "metadata": {},
     "outputs": [
      {
       "metadata": {},
       "output_type": "pyout",
       "prompt_number": 4,
       "text": [
        "<matplotlib.text.Text at 0x1088118d0>"
       ]
      },
      {
       "metadata": {},
       "output_type": "display_data",
       "png": "[encoded data removed]",
       "text": [
        "<matplotlib.figure.Figure at 0x1087e9050>"
       ]
      }
     ],
     "prompt_number": 4
    },
    {
     "cell_type": "markdown",
     "metadata": {},
     "source": [
      "We clearly have a problem here, and that is that the runtime for multiple sequence alignment grows exponentially with the number of sequences to be aligned. If `n` is our sequence length, and `s` is the number of sequences, that means that runtime is proportional to ``n ** s``. In pairwise alignment, ``s`` is always equal to 2, so the problem is more manangeable. For the general case of ``s`` sequences however, we really can't even consider Smith-Waterman or Needleman-Wunsch for more than just a few sequences. The pattern in the plots above should illustrate why. \n",
      "\n",
      "As we explored with database searching, we need to figure out how to align fewer sequences. This is where *progressive alignment* comes in."
     ]
    },
    {
     "cell_type": "heading",
     "level": 1,
     "metadata": {},
     "source": [
      "Progressive alignment"
     ]
    },
    {
     "cell_type": "markdown",
     "metadata": {},
     "source": [
      "In progressive alignment, the problem of exponential growth of runtime and space is managed by selectively aligning pairs of sequences, and aligning alignments of sequences. What we typically do is identify a pair of closely sequences, and align those. Then, we identify the next closely related sequence to that initial pair, and align that sequence to the alignment. This concept of aligning a sequence to an alignment is new, and we'll come back to it in just a few minutes. The other concept of identifying the most closely related sequences, and then the next most closely related sequence, and so on should sound familar. It effectively means that we're traversing a tree. And herein lies our problem: we need a tree to efficently align multiple sequences, but we need an alignment to build a good tree. You should have two burning questions in your mind right now:\n",
      "\n",
      "1. How do we build a tree to guide the alignment process?\n",
      "2. How do we align a sequence to an alignment, or an alignment to an alignment?\n",
      "\n",
      "We'll explore both of those through-out the rest of this notebook. First, let's get a feel for the process of progressive multiple sequence alignment, just assuming for a moment that we know how to do both of those things.\n",
      "\n",
      "The process of progressive multiple sequence alignment could look like the following. First, we start with some sequences and a tree representing the relationship between those sequences. We'll call this our **guide tree**, because it's going to guide us through the process of multiple sequence alignment.\n",
      "\n",
      "<img src=\"files/images/msa-tree-input.png\">\n",
      "\n",
      "Starting from the root node, descend the bottom branch of the tree until you get to the next node, and follow that to the tips. Align the sequences at that pair of tips (usually with Needleman-Wunsch, for multiple sequence alignment), and assign that alignment to the node connecting those tips.\n",
      "\n",
      "<img src=\"files/images/msa-tree-a1.png\">\n",
      "\n",
      "Next, we want to find what to align the resulting alignment to, so start from the root node and descend the top branch of the tree. When you get to the next node, determine if an alignment has already been created for that node. If not, our job is to build that alignment so we have something to align against. In this case, that means that we need to align `s1`, `s2`, and `s3`. We can achieve this by aligning `s1` and `s3` first, to get the alignment at the internal node connecting them.\n",
      "\n",
      "<img src=\"files/images/msa-tree-a2.png\">\n",
      "\n",
      "We can next align the alignment of `s1` and `s3` with `s2`, to get the alignment at the internal node connecting those clades.\n",
      "\n",
      "<img src=\"files/images/msa-tree-a3.png\">\n",
      "\n",
      "And finally, we can compute the alignment at the root node of the tree, by aligning the alignment of `s1`, `s2`, and `s3` with the alignment of `s4` and `s5`.\n",
      "\n",
      "<img src=\"files/images/msa-tree-final.png\">\n",
      "\n",
      "**The alignment at the root node is our multiple sequence alignment.**\n"
     ]
    },
    {
     "cell_type": "heading",
     "level": 2,
     "metadata": {},
     "source": [
      "Building the guide tree"
     ]
    },
    {
     "cell_type": "markdown",
     "metadata": {},
     "source": [
      "Let's address the first of our outstanding questions. I mentioned above that *we need an alignment to build a good tree*. The key word here is *good*. We can build a very rough tree - one that we would *never* want to present as representing the actual relationships between the sequences in question - without first aligning the sequences. Remember that building a UPGMA tree requires only a distance matrix, so if we can find a non-alignment-dependent way to compute distances between the sequences, we can build a rough UPGMA tree from them.\n",
      "\n",
      "Let's compute distances between the sequences based on their *word* composition. We'll define a *word* here as `k` adjacent characters in the sequence. We can then define a function that will return all of the words in a sequence as follows. These words can be defined as being overlapping, or non-overlapping. We'll go with overlapping for this example, as the more words we have, the better our guide tree should be."
     ]
    },
    {
     "cell_type": "code",
     "collapsed": false,
     "input": [
      "def get_k_words(s, k, overlapping=True):\n",
      "    result = []\n",
      "    len_s = len(s)\n",
      "    if overlapping:\n",
      "        step = 1\n",
      "    else:\n",
      "        step = k\n",
      "    for i in range(0,len_s,step):\n",
      "        if i+k > len_s:\n",
      "            # if there are no more k-mers left\n",
      "            break\n",
      "        else:\n",
      "            result.append(s[i:i+k])\n",
      "    return result"
     ],
     "language": "python",
     "metadata": {},
     "outputs": [],
     "prompt_number": 5
    },
    {
     "cell_type": "code",
     "collapsed": false,
     "input": [
      "print get_k_words(\"ACCGGTGACCAGTTGACCAGTA\", 3)\n",
      "print get_k_words(\"ACCGGTGACCAGTTGACCAGTA\", 4)"
     ],
     "language": "python",
     "metadata": {},
     "outputs": [
      {
       "output_type": "stream",
       "stream": "stdout",
       "text": [
        "['ACC', 'CCG', 'CGG', 'GGT', 'GTG', 'TGA', 'GAC', 'ACC', 'CCA', 'CAG', 'AGT', 'GTT', 'TTG', 'TGA', 'GAC', 'ACC', 'CCA', 'CAG', 'AGT', 'GTA']\n",
        "['ACCG', 'CCGG', 'CGGT', 'GGTG', 'GTGA', 'TGAC', 'GACC', 'ACCA', 'CCAG', 'CAGT', 'AGTT', 'GTTG', 'TTGA', 'TGAC', 'GACC', 'ACCA', 'CCAG', 'CAGT', 'AGTA']\n"
       ]
      }
     ],
     "prompt_number": 6
    },
    {
     "cell_type": "code",
     "collapsed": false,
     "input": [
      "print get_k_words(\"ACCGGTGACCAGTTGACCAGTA\", 3, overlapping=False)"
     ],
     "language": "python",
     "metadata": {},
     "outputs": [
      {
       "output_type": "stream",
       "stream": "stdout",
       "text": [
        "['ACC', 'GGT', 'GAC', 'CAG', 'TTG', 'ACC', 'AGT']\n"
       ]
      }
     ],
     "prompt_number": 7
    },
    {
     "cell_type": "markdown",
     "metadata": {},
     "source": [
      "If we then have two sequences, we can compute the word counts for each and define a distance between the sequences as the fraction of words that are unique to either sequence. "
     ]
    },
    {
     "cell_type": "code",
     "collapsed": false,
     "input": [
      "from __future__ import division\n",
      "\n",
      "s1 = \"ACCGGTGACCAGTTGACCAGT\"\n",
      "s2 = \"ATCGGTACCGGTAGAAGT\"\n",
      "s3 = \"GGTACCAAATAGAA\"\n",
      "\n",
      "s1_words = get_k_words(s1,3)\n",
      "s2_words = get_k_words(s2,3)\n",
      "s3_words = get_k_words(s3,3)\n",
      "\n",
      "def fraction_unique_words(words1, words2):\n",
      "    words1_set = set(words1)\n",
      "    words2_set = set(words2)\n",
      "    all_words = words1_set | words2_set\n",
      "    shared_words = words1_set & words2_set\n",
      "    number_unique = len(all_words) - len(shared_words)\n",
      "    result = number_unique / len(all_words)\n",
      "    return result\n",
      "\n",
      "print s1_words\n",
      "print s2_words\n",
      "print s3_words\n",
      "print fraction_unique_words(s1_words, s2_words)\n",
      "print fraction_unique_words(s1_words, s3_words)\n"
     ],
     "language": "python",
     "metadata": {},
     "outputs": [
      {
       "output_type": "stream",
       "stream": "stdout",
       "text": [
        "['ACC', 'CCG', 'CGG', 'GGT', 'GTG', 'TGA', 'GAC', 'ACC', 'CCA', 'CAG', 'AGT', 'GTT', 'TTG', 'TGA', 'GAC', 'ACC', 'CCA', 'CAG', 'AGT']\n",
        "['ATC', 'TCG', 'CGG', 'GGT', 'GTA', 'TAC', 'ACC', 'CCG', 'CGG', 'GGT', 'GTA', 'TAG', 'AGA', 'GAA', 'AAG', 'AGT']\n",
        "['GGT', 'GTA', 'TAC', 'ACC', 'CCA', 'CAA', 'AAA', 'AAT', 'ATA', 'TAG', 'AGA', 'GAA']\n",
        "0.75\n",
        "0.857142857143\n"
       ]
      }
     ],
     "prompt_number": 8
    },
    {
     "cell_type": "markdown",
     "metadata": {},
     "source": [
      "We can then define this as a distance function..."
     ]
    },
    {
     "cell_type": "code",
     "collapsed": false,
     "input": [
      "def kmer_distance(seq1, seq2, k):\n",
      "    seq1_k_words = get_k_words(seq1, k)\n",
      "    seq2_k_words = get_k_words(seq2, k)\n",
      "    return fraction_unique_words(seq1_k_words, seq2_k_words)"
     ],
     "language": "python",
     "metadata": {},
     "outputs": [],
     "prompt_number": 9
    },
    {
     "cell_type": "code",
     "collapsed": false,
     "input": [
      "kmer_distance(\"ACCGGTGACCAGTTGACCAGT\", \"ATCGGTACCGGTAGAAGT\", k=3)"
     ],
     "language": "python",
     "metadata": {},
     "outputs": [
      {
       "metadata": {},
       "output_type": "pyout",
       "prompt_number": 10,
       "text": [
        "0.75"
       ]
      }
     ],
     "prompt_number": 10
    },
    {
     "cell_type": "markdown",
     "metadata": {},
     "source": [
      "And apply it to build a distance matrix for a set of sequences that we want to align."
     ]
    },
    {
     "cell_type": "code",
     "collapsed": false,
     "input": [
      "query_sequences = [(\"s1\", \"ACCGGTGACCAGTTGACCAGT\"),\n",
      "                   (\"s2\", \"ATCGGTACCGGTAGAAGT\"),\n",
      "                   (\"s3\", \"GGTACCAAATAGAA\"),\n",
      "                   (\"s4\", \"GGCACCAAACAGAA\"),\n",
      "                   (\"s5\", \"GATTACA\")]"
     ],
     "language": "python",
     "metadata": {},
     "outputs": [],
     "prompt_number": 11
    },
    {
     "cell_type": "code",
     "collapsed": false,
     "input": [
      "from bipy.core.distance import SymmetricDistanceMatrix\n",
      "\n",
      "guide_dm = []\n",
      "seq_ids = []\n",
      "for seq_id1, seq1 in query_sequences:\n",
      "    seq_ids.append(seq_id1)\n",
      "    row = []\n",
      "    for seq_id2, seq2 in query_sequences:\n",
      "        row.append(kmer_distance(seq1, seq2, k=3))\n",
      "    guide_dm.append(row)\n",
      "\n",
      "guide_dm = SymmetricDistanceMatrix(guide_dm, seq_ids)\n",
      "print guide_dm"
     ],
     "language": "python",
     "metadata": {},
     "outputs": [
      {
       "output_type": "stream",
       "stream": "stdout",
       "text": [
        "5x5 distance matrix\n",
        "Sample IDs:\n",
        "s1, s2, s3, s4, s5\n",
        "Data:\n",
        "[[ 0.          0.75        0.85714286  0.85714286  1.        ]\n",
        " [ 0.75        0.          0.61111111  0.86363636  0.94117647]\n",
        " [ 0.85714286  0.61111111  0.          0.66666667  0.9375    ]\n",
        " [ 0.85714286  0.86363636  0.66666667  0.          0.9375    ]\n",
        " [ 1.          0.94117647  0.9375      0.9375      0.        ]]\n"
       ]
      }
     ],
     "prompt_number": 12
    },
    {
     "cell_type": "code",
     "collapsed": false,
     "input": [
      "from scipy.cluster.hierarchy import average, dendrogram, to_tree\n",
      "\n",
      "guide_lm = average(guide_dm.condensed_form())\n",
      "\n",
      "for q in query_sequences:\n",
      "    print q\n",
      "print guide_dm\n",
      "guide_d = dendrogram(guide_lm, labels=guide_dm.sample_ids, orientation='right', \n",
      "               link_color_func=lambda x: 'black')\n",
      "guide_tree = to_tree(guide_lm)"
     ],
     "language": "python",
     "metadata": {},
     "outputs": [
      {
       "output_type": "stream",
       "stream": "stdout",
       "text": [
        "('s1', 'ACCGGTGACCAGTTGACCAGT')\n",
        "('s2', 'ATCGGTACCGGTAGAAGT')\n",
        "('s3', 'GGTACCAAATAGAA')\n",
        "('s4', 'GGCACCAAACAGAA')\n",
        "('s5', 'GATTACA')\n",
        "5x5 distance matrix\n",
        "Sample IDs:\n",
        "s1, s2, s3, s4, s5\n",
        "Data:\n",
        "[[ 0.          0.75        0.85714286  0.85714286  1.        ]\n",
        " [ 0.75        0.          0.61111111  0.86363636  0.94117647]\n",
        " [ 0.85714286  0.61111111  0.          0.66666667  0.9375    ]\n",
        " [ 0.85714286  0.86363636  0.66666667  0.          0.9375    ]\n",
        " [ 1.          0.94117647  0.9375      0.9375      0.        ]]\n"
       ]
      },
      {
       "metadata": {},
       "output_type": "display_data",
       "png": "[encoded data removed]",
       "text": [
        "<matplotlib.figure.Figure at 0x109096250>"
       ]
      }
     ],
     "prompt_number": 13
    },
    {
     "cell_type": "code",
     "collapsed": false,
     "input": [
      "def three_mer_distance(seq1, seq2):\n",
      "    return kmer_distance(seq1, seq2, k=3)\n",
      "\n",
      "def guide_tree_from_query_sequences(query_sequences, \n",
      "                                    distance_fn=three_mer_distance,\n",
      "                                    display_tree = False):\n",
      "    guide_dm = []\n",
      "    seq_ids = []\n",
      "    for seq_id1, seq1 in query_sequences:\n",
      "        seq_ids.append(seq_id1)\n",
      "        row = []\n",
      "        for seq_id2, seq2 in query_sequences:\n",
      "            row.append(kmer_distance(seq1, seq2, k=3))\n",
      "        guide_dm.append(row)\n",
      "    \n",
      "    guide_dm = SymmetricDistanceMatrix(guide_dm, seq_ids)\n",
      "    guide_lm = average(guide_dm.condensed_form())\n",
      "    guide_tree = to_tree(guide_lm)\n",
      "    if display_tree:\n",
      "        guide_d = dendrogram(guide_lm, labels=guide_dm.sample_ids, orientation='right', \n",
      "               link_color_func=lambda x: 'black')\n",
      "    return guide_tree"
     ],
     "language": "python",
     "metadata": {},
     "outputs": [],
     "prompt_number": 14
    },
    {
     "cell_type": "code",
     "collapsed": false,
     "input": [
      "t = guide_tree_from_query_sequences(query_sequences, display_tree=True)"
     ],
     "language": "python",
     "metadata": {},
     "outputs": [
      {
       "metadata": {},
       "output_type": "display_data",
       "png": "[encoded data removed]",
       "text": [
        "<matplotlib.figure.Figure at 0x10881c190>"
       ]
      }
     ],
     "prompt_number": 15
    },
    {
     "cell_type": "markdown",
     "metadata": {},
     "source": [
      "We now have a guide tree, so we can move on to the next step of progressive alignment."
     ]
    },
    {
     "cell_type": "heading",
     "level": 2,
     "metadata": {},
     "source": [
      "Generalization of Needleman-Wunsch (with affine gap scoring) for progressive multiple sequence alignment"
     ]
    },
    {
     "cell_type": "markdown",
     "metadata": {},
     "source": [
      "As illustrated above, there are basically three different types of pairwise alignment we need to support for progressive multiple sequenence alignment with Needleman-Wunsch. These are:\n",
      "\n",
      "1. Alignment of a pair of sequences.\n",
      "2. Alignment of a sequence and an alignment.\n",
      "3. Alignment of a pair of alignments.\n",
      "\n",
      "Standard Needleman-Wunsch supports the first, and it is very easy to generalize it to support the latter two. The only change that is necessary is in how the alignment of two non-gap characters is scored. Recall that we previously scored an alignment of two characters by looking up the score of subsitution from one to the other in a substitution matrix. To adapt this for aligning a sequence to an alignment, or for aligning an alignment to an alignment, we compute this subsitution as the average score of aligning the pairs of characters. For example, if we want to align the alignment column:\n",
      "\n",
      "``\n",
      "A\n",
      "C\n",
      "``\n",
      "\n",
      "to the alignment column:\n",
      "\n",
      "``\n",
      "T\n",
      "G\n",
      "``\n",
      "\n",
      "we could compute the subsitution score using the matrix `substitution_matrix` as:\n",
      "\n",
      "``\n",
      "substitution_score = (substitution_matrix['A']['T'] + # alignment 1, sequence 1 to alignment 2, sequence 1\n",
      "                      substitution_matrix['A']['G'] + # alignment 1, sequence 1 to alignment 2, sequence 2\n",
      "                      substitution_matrix['C']['T'] + # alignment 1, sequence 2 to alignment 2, sequence 1\n",
      "                      substitution_matrix['C']['G'])  # alignment 1, sequence 2 to alignment 2, sequence 2\n",
      "                     / (num_seqs_aln1 * num_seqs_aln2) # divided by the number of combinations\n",
      "``\n",
      "\n",
      "The following code adapts our implementation of Needleman-Wunsh to support aligning a sequence to an alignment, or aligning an alignment to an alignment."
     ]
    },
    {
     "cell_type": "markdown",
     "metadata": {},
     "source": [
      "**NEED TO INTEGRATE SEQUENCE WEIGHTS INTO SUBSITUTION SCORES!**"
     ]
    },
    {
     "cell_type": "code",
     "collapsed": false,
     "input": [
      "from iab.algorithms import nt_substitution_matrix\n",
      "\n",
      "def msa_generate_nw_and_traceback_matrices(aln1,aln2,gap_open_penalty,\n",
      "                                           gap_extend_penalty,substitution_matrix):\n",
      "    gap_open_penalty = float(gap_open_penalty)\n",
      "    gap_extend_penalty = float(gap_extend_penalty)\n",
      "    # Initialize a matrix to use for scoring the alignment and for tracing\n",
      "    # back the best alignment\n",
      "    nw_matrix = [[0, -1 * gap_open_penalty]]\n",
      "    for i in range(2,len(aln1[0])+1):\n",
      "        nw_matrix[0].append(nw_matrix[0][-1] - gap_extend_penalty)\n",
      "    traceback_matrix = [[None] + ['-' for i in range(0,len(aln1[0]))]]\n",
      "    # Iterate over the amino acids in sequence two (which will correspond\n",
      "    # to the vertical sequence in the matrix)\n",
      "    # Note that i corresponds to column numbers, as in the 'Biological Sequence\n",
      "    # Analysis' example\n",
      "    for i in range(1,len(aln2[0])+1):\n",
      "        # Initialize the current row of the matrix\n",
      "        if i == 1:\n",
      "            current_row = [nw_matrix[i-1][0] - gap_open_penalty]\n",
      "        else:\n",
      "            current_row = [nw_matrix[i-1][0] - gap_extend_penalty]\n",
      "        current_traceback_matrix_row = ['|']\n",
      "        # Iterate over the amino acids in sequence one (which will\n",
      "        # correspond to the horizontal sequence in the matrix)\n",
      "        # Note that j corresponds to row numbers, as in the 'Biological Sequence\n",
      "        # Analysis' example from class\n",
      "        for j in range(1,len(aln1[0])+1):\n",
      "            # computing the subsitution score is different when aligning alignments\n",
      "            substitution_score = 0\n",
      "            aln2_aas = [seq[i-1] for seq in aln2]\n",
      "            aln1_aas = [seq[j-1] for seq in aln1]\n",
      "            for aa2 in aln2_aas:\n",
      "                for aa1 in aln1_aas:\n",
      "                    if aa1 == \"-\" or aa2 == \"-\":\n",
      "                        substitution_score += 0\n",
      "                    else:\n",
      "                        substitution_score += substitution_matrix[aa1][aa2]\n",
      "            substitution_score /= (len(aln1) * len(aln2))\n",
      "\n",
      "            # everything else is the same as for pairwise nw\n",
      "            diag_score = (nw_matrix[i-1][j-1] + substitution_score,'\\\\')\n",
      "\n",
      "            # affine gaps\n",
      "            # up_score = (nw_matrix[i-1][j] - gap_penalty,'|')\n",
      "            if traceback_matrix[i-1][j] == '|':\n",
      "                # gap extend, because the cell above was also a gap\n",
      "                up_score = (nw_matrix[i-1][j] - gap_extend_penalty,'|')\n",
      "            else:\n",
      "                # gap open, because the cell above was not a gap\n",
      "                up_score = (nw_matrix[i-1][j] - gap_open_penalty,'|')\n",
      "                \n",
      "            #left_score = (current_row[-1] - gap_penalty,'-')\n",
      "            if current_traceback_matrix_row[-1] == '-':\n",
      "                # gap extend, because the cell to the left was also a gap\n",
      "                left_score = (current_row[-1] - gap_extend_penalty,'-')\n",
      "            else:\n",
      "                # gap open, because the cell to the left was not a gap\n",
      "                left_score = (current_row[-1] - gap_open_penalty,'-')\n",
      "            \n",
      "            best_score = max(diag_score,up_score,left_score)\n",
      "            current_row.append(best_score[0])\n",
      "            current_traceback_matrix_row.append(best_score[1])\n",
      "        # append the current row to the matrix\n",
      "        nw_matrix.append(current_row)\n",
      "        traceback_matrix.append(current_traceback_matrix_row)\n",
      "    return nw_matrix, traceback_matrix\n",
      "\n",
      "def nw_traceback(traceback_matrix,nw_matrix,aln1,aln2,gap_character='-'):\n",
      "\n",
      "    # initialize the result alignments\n",
      "    len_aln1 = len(aln1)\n",
      "    aligned_seqs1 = []\n",
      "    for e in range(len_aln1):\n",
      "        aligned_seqs1.append([])\n",
      "        \n",
      "    len_aln2 = len(aln2)\n",
      "    aligned_seqs2 = []\n",
      "    for e in range(len_aln2):\n",
      "        aligned_seqs2.append([])\n",
      "\n",
      "    current_row = len(traceback_matrix) - 1\n",
      "    current_col = len(traceback_matrix[0]) - 1\n",
      "\n",
      "    best_score = nw_matrix[current_row][current_col]\n",
      "\n",
      "    while True:\n",
      "        current_value = traceback_matrix[current_row][current_col]\n",
      "\n",
      "        if current_value == '\\\\':\n",
      "            for i in range(len_aln1):\n",
      "                aligned_seqs1[i].append(aln1[i][current_col-1])\n",
      "            for i in range(len_aln2):\n",
      "                aligned_seqs2[i].append(aln2[i][current_row-1])\n",
      "            current_row -= 1\n",
      "            current_col -= 1\n",
      "        elif current_value == '|':\n",
      "            for i in range(len_aln1):\n",
      "                aligned_seqs1[i].append('-')\n",
      "            for i in range(len_aln2):\n",
      "                aligned_seqs2[i].append(aln2[i][current_row-1])\n",
      "            current_row -= 1\n",
      "        elif current_value == '-':\n",
      "            for i in range(len_aln1):\n",
      "                aligned_seqs1[i].append(aln1[i][current_col-1])\n",
      "            for i in range(len_aln2):\n",
      "                aligned_seqs2[i].append('-')\n",
      "            current_col -= 1\n",
      "        elif current_value == None:\n",
      "            break\n",
      "        else:\n",
      "            raise ValueError, \"Invalid value in traceback matrix: %s\" % current_value\n",
      "    \n",
      "    for i in range(len_aln1):\n",
      "        aligned_seqs1[i] = ''.join(aligned_seqs1[i][::-1])\n",
      "    for i in range(len_aln2):\n",
      "        aligned_seqs2[i] = ''.join(aligned_seqs2[i][::-1])\n",
      "    \n",
      "    return aligned_seqs1, aligned_seqs2, best_score\n",
      "\n",
      "def format_dynamic_programming_matrix(seq1,seq2,matrix):\n",
      "    \"\"\" define a function for formatting dynamic programming matrices\n",
      "    \"\"\"\n",
      "    lines = []\n",
      "\n",
      "    line_format = \"%6s\" * (len(seq1) + 2)\n",
      "    # print seq1 (start the line with two empty strings)\n",
      "    lines.append(line_format % tuple([' ',' '] + map(str,list(seq1))))\n",
      "\n",
      "    # iterate over the rows and print each (starting with the\n",
      "    # corresponding base in sequence2)\n",
      "    for row, base in zip(matrix,' ' + seq2):\n",
      "        lines.append(line_format % tuple([base] + map(str,row)))\n",
      "    \n",
      "    return '\\n'.join(lines)"
     ],
     "language": "python",
     "metadata": {},
     "outputs": [],
     "prompt_number": 16
    },
    {
     "cell_type": "code",
     "collapsed": false,
     "input": [
      "def nw_align(aln1, aln2, gap_open_penalty=8, gap_extend_penalty=1, substitution_matrix=nt_substitution_matrix):\n",
      "    \"\"\" Perform Needleman-Wunsch alignment of seq1 and seq2\n",
      "    \"\"\"\n",
      "    nw_matrix, traceback_matrix = msa_generate_nw_and_traceback_matrices(\n",
      "                                    aln1, aln2, gap_open_penalty, gap_extend_penalty, substitution_matrix)\n",
      "    aligned_seq1, aligned_seq2, score = nw_traceback(traceback_matrix,nw_matrix,aln1,aln2)\n",
      "    return aligned_seq1, aligned_seq2, score"
     ],
     "language": "python",
     "metadata": {},
     "outputs": [],
     "prompt_number": 17
    },
    {
     "cell_type": "markdown",
     "metadata": {},
     "source": [
      "For example, we can still use this code to align pairs of sequences (but note that we now need to pass those sequences in as a pair of one-item lists):"
     ]
    },
    {
     "cell_type": "code",
     "collapsed": false,
     "input": [
      "print [query_sequences[0][1]]\n",
      "print [query_sequences[1][1]]\n",
      "aligned_seq1, aligned_seq2, score = nw_align([query_sequences[0][1]], [query_sequences[1][1]])\n",
      "print aligned_seq1[0]\n",
      "print aligned_seq2[0]"
     ],
     "language": "python",
     "metadata": {},
     "outputs": [
      {
       "output_type": "stream",
       "stream": "stdout",
       "text": [
        "['ACCGGTGACCAGTTGACCAGT']\n",
        "['ATCGGTACCGGTAGAAGT']\n",
        "ACCGGTGACCAGTTGACCAGT\n",
        "ATCGGT-ACCGGTAGA--AGT\n"
       ]
      }
     ],
     "prompt_number": 18
    },
    {
     "cell_type": "markdown",
     "metadata": {},
     "source": [
      "We can then combine the aligned sequences into a two-item list, representing the alignment of those sequences:"
     ]
    },
    {
     "cell_type": "code",
     "collapsed": false,
     "input": [
      "alignment1 = aligned_seq1 + aligned_seq2\n",
      "print alignment1"
     ],
     "language": "python",
     "metadata": {},
     "outputs": [
      {
       "output_type": "stream",
       "stream": "stdout",
       "text": [
        "['ACCGGTGACCAGTTGACCAGT', 'ATCGGT-ACCGGTAGA--AGT']\n"
       ]
      }
     ],
     "prompt_number": 19
    },
    {
     "cell_type": "markdown",
     "metadata": {},
     "source": [
      "We can then align that alignment to one of the sequences. Here I'm calling the steps independently, so we can see that the matrices look like what we're used to."
     ]
    },
    {
     "cell_type": "code",
     "collapsed": false,
     "input": [
      "nw_matrix, traceback_matrix = msa_generate_nw_and_traceback_matrices(\n",
      "                                    alignment1, [query_sequences[2][1]], 8, 1, nt_substitution_matrix)\n",
      "aligned_seq1, aligned_seq2, score = nw_traceback(traceback_matrix,nw_matrix,alignment1,[query_sequences[2][1]])\n",
      "\n",
      "print \"The alignment:\"\n",
      "msa = aligned_seq1 + aligned_seq2\n",
      "for seq in msa:\n",
      "    print seq\n",
      "\n",
      "print \"\\nThe Needleman-Wunsch matrix:\"    \n",
      "print format_dynamic_programming_matrix(query_sequences[0][1],query_sequences[2][1],nw_matrix)\n",
      "print \"\\nThe traceback matrix:\"\n",
      "print format_dynamic_programming_matrix(query_sequences[0][1],query_sequences[2][1],traceback_matrix)"
     ],
     "language": "python",
     "metadata": {},
     "outputs": [
      {
       "output_type": "stream",
       "stream": "stdout",
       "text": [
        "The alignment:\n",
        "ACCGGTGACCAGTTGACCAGT\n",
        "ATCGGT-ACCGGTAGA--AGT\n",
        "---GGTACCAAATAGA----A\n",
        "\n",
        "The Needleman-Wunsch matrix:\n",
        "                 A     C     C     G     G     T     G     A     C     C     A     G     T     T     G     A     C     C     A     G     T\n",
        "           0  -8.0  -9.0 -10.0 -11.0 -12.0 -13.0 -14.0 -15.0 -16.0 -17.0 -18.0 -19.0 -20.0 -21.0 -22.0 -23.0 -24.0 -25.0 -26.0 -27.0 -28.0\n",
        "     G  -8.0  -2.0 -10.0 -11.0  -9.0 -10.0 -14.0 -12.5 -16.0 -17.0 -18.0 -17.5 -17.0 -21.0 -22.0 -20.0 -24.0 -24.0 -25.0 -27.0 -25.0 -29.0\n",
        "     G  -9.0 -10.0  -4.0 -12.0 -10.0  -8.0 -12.0 -13.5 -14.5 -18.0 -19.0 -18.5 -16.5 -19.0 -23.0 -21.0 -22.0 -25.0 -25.0 -27.0 -26.0 -27.0\n",
        "     T -10.0 -11.0 -10.5  -6.0 -14.0 -12.0  -7.0 -13.0 -15.5 -16.5 -20.0 -21.0 -20.5 -15.5 -19.5 -25.0 -23.0 -23.0 -26.0 -27.0 -29.0 -25.0\n",
        "     A -11.0  -9.0 -13.0 -12.5  -8.0 -16.0 -14.0  -8.0 -12.0 -17.5 -18.5 -20.5 -23.0 -22.5 -16.0 -21.5 -24.0 -24.0 -24.0 -25.0 -29.0 -31.0\n",
        "     C -12.0 -13.0  -9.5 -12.0 -14.5 -10.0 -18.0 -15.0 -10.0 -11.0 -16.5 -20.5 -22.5 -25.0 -24.0 -18.0 -23.5 -23.5 -23.5 -26.0 -27.0 -31.0\n",
        "     C -13.0 -14.0 -13.5  -8.5 -14.0 -16.5 -12.0 -19.0 -17.0  -9.0 -10.0 -18.0 -19.0 -20.0 -21.0 -22.0 -20.0 -23.0 -23.0 -25.5 -28.0 -29.0\n",
        "     A -14.0 -12.0 -16.0 -15.5 -10.5 -16.0 -18.5 -13.0 -18.0 -17.0 -11.0 -10.5 -18.5 -19.5 -20.5 -23.0 -21.0 -21.0 -24.0 -22.0 -27.5 -30.0\n",
        "     A -15.0 -13.0 -14.0 -18.0 -17.5 -12.5 -18.0 -19.5 -12.0 -18.0 -19.0 -11.5 -12.5 -20.5 -20.0 -22.5 -22.0 -22.0 -22.0 -23.0 -24.0 -29.5\n",
        "     A -16.0 -14.0 -15.0 -16.0 -20.0 -19.5 -14.5 -19.0 -18.5 -14.0 -20.0 -19.5 -13.5 -14.5 -21.0 -22.0 -21.5 -23.0 -23.0 -21.0 -25.0 -26.0\n",
        "     T -17.0 -18.0 -14.5 -17.0 -18.0 -22.0 -18.5 -15.5 -21.0 -20.5 -16.0 -20.5 -21.5 -12.5 -15.0 -23.0 -24.0 -22.5 -24.0 -25.0 -23.0 -24.0\n",
        "     A -18.0 -16.0 -20.0 -16.5 -19.0 -20.0 -24.0 -19.5 -14.5 -22.5 -22.5 -16.5 -22.5 -20.5 -13.0 -17.0 -22.0 -25.0 -23.5 -23.0 -27.0 -25.0\n",
        "     G -19.0 -20.0 -18.0 -22.0 -15.5 -18.0 -22.0 -23.5 -21.5 -16.5 -24.5 -23.0 -15.5 -21.5 -21.0 -12.0 -19.0 -23.0 -26.0 -25.5 -22.0 -29.0\n",
        "     A -20.0 -18.0 -22.0 -20.0 -23.5 -17.5 -20.0 -23.0 -22.5 -23.5 -18.5 -25.0 -23.5 -17.5 -22.0 -20.0 -11.0 -19.0 -20.0 -21.0 -22.0 -23.0\n",
        "     A -21.0 -19.0 -20.0 -24.0 -22.0 -25.5 -19.5 -21.0 -22.0 -24.5 -25.5 -19.0 -24.5 -25.5 -18.0 -21.0 -19.0 -12.0 -20.0 -19.0 -23.0 -24.0\n",
        "\n",
        "The traceback matrix:\n",
        "                 A     C     C     G     G     T     G     A     C     C     A     G     T     T     G     A     C     C     A     G     T\n",
        "        None     -     -     -     -     -     -     -     -     -     -     -     -     -     -     -     -     -     -     -     -     -\n",
        "     G     |     \\     \\     \\     \\     \\     \\     \\     \\     \\     \\     \\     \\     \\     \\     \\     \\     \\     \\     \\     \\     \\\n",
        "     G     |     |     \\     \\     \\     \\     \\     \\     \\     \\     \\     \\     \\     \\     \\     \\     \\     \\     \\     \\     \\     \\\n",
        "     T     |     |     \\     \\     \\     \\     \\     \\     \\     \\     \\     \\     \\     \\     \\     \\     \\     \\     \\     \\     \\     \\\n",
        "     A     |     \\     \\     \\     \\     \\     \\     \\     \\     \\     \\     \\     \\     \\     \\     \\     \\     \\     \\     \\     \\     \\\n",
        "     C     |     \\     \\     \\     \\     \\     \\     \\     \\     \\     \\     \\     \\     \\     |     \\     \\     \\     \\     \\     \\     \\\n",
        "     C     |     \\     \\     \\     \\     \\     \\     \\     \\     \\     \\     -     -     -     -     -     \\     \\     \\     \\     \\     \\\n",
        "     A     |     \\     \\     \\     \\     \\     \\     \\     \\     |     \\     \\     -     -     \\     \\     \\     \\     \\     \\     \\     \\\n",
        "     A     |     \\     \\     \\     \\     \\     \\     \\     \\     |     |     \\     \\     \\     \\     \\     \\     \\     \\     \\     \\     \\\n",
        "     A     |     \\     \\     \\     \\     \\     \\     \\     \\     \\     |     |     \\     \\     \\     \\     \\     \\     \\     \\     \\     \\\n",
        "     T     |     \\     \\     \\     \\     \\     \\     \\     \\     \\     \\     |     |     \\     \\     \\     \\     \\     \\     \\     \\     \\\n",
        "     A     |     \\     \\     \\     \\     \\     \\     \\     \\     -     \\     \\     |     |     \\     \\     \\     \\     \\     \\     \\     \\\n",
        "     G     |     \\     \\     \\     \\     \\     \\     \\     \\     \\     \\     \\     \\     |     |     \\     \\     \\     \\     \\     \\     \\\n",
        "     A     |     \\     \\     \\     |     \\     \\     \\     \\     \\     \\     \\     |     \\     |     |     \\     -     -     -     -     -\n",
        "     A     |     \\     \\     \\     \\     |     \\     \\     \\     \\     \\     \\     |     |     \\     |     |     \\     \\     \\     \\     \\\n"
       ]
      }
     ],
     "prompt_number": 20
    },
    {
     "cell_type": "markdown",
     "metadata": {},
     "source": [
      "Alternatively, we can align another pair of sequences:"
     ]
    },
    {
     "cell_type": "code",
     "collapsed": false,
     "input": [
      "print [query_sequences[2][1]]\n",
      "print [query_sequences[3][1]]\n",
      "aligned_seq3, aligned_seq4, score = nw_align([query_sequences[2][1]], [query_sequences[3][1]])\n",
      "print aligned_seq1[0]\n",
      "print aligned_seq2[0]"
     ],
     "language": "python",
     "metadata": {},
     "outputs": [
      {
       "output_type": "stream",
       "stream": "stdout",
       "text": [
        "['GGTACCAAATAGAA']\n",
        "['GGCACCAAACAGAA']\n",
        "ACCGGTGACCAGTTGACCAGT\n",
        "---GGTACCAAATAGA----A\n"
       ]
      }
     ],
     "prompt_number": 21
    },
    {
     "cell_type": "markdown",
     "metadata": {},
     "source": [
      "Combine those into a two-item list representing their alignment:"
     ]
    },
    {
     "cell_type": "code",
     "collapsed": false,
     "input": [
      "alignment2 = aligned_seq3 + aligned_seq4\n",
      "print alignment2"
     ],
     "language": "python",
     "metadata": {},
     "outputs": [
      {
       "output_type": "stream",
       "stream": "stdout",
       "text": [
        "['GGTACCAAATAGAA', 'GGCACCAAACAGAA']\n"
       ]
      }
     ],
     "prompt_number": 22
    },
    {
     "cell_type": "markdown",
     "metadata": {},
     "source": [
      "And then align that alignment against our previous alignment:"
     ]
    },
    {
     "cell_type": "code",
     "collapsed": false,
     "input": [
      "nw_matrix, traceback_matrix = msa_generate_nw_and_traceback_matrices(\n",
      "                                    alignment1, alignment2, 8, 1, nt_substitution_matrix)\n",
      "aligned_aln1, aligned_aln2, score = nw_traceback(traceback_matrix,nw_matrix,alignment1,alignment2)\n",
      "\n",
      "print \"The alignment:\"\n",
      "msa = aligned_aln1 + aligned_aln2\n",
      "for seq in msa:\n",
      "    print seq\n",
      "\n",
      "print \"\\nThe Needleman-Wunsch matrix:\"\n",
      "print format_dynamic_programming_matrix(query_sequences[0][1],query_sequences[2][1],nw_matrix)\n",
      "print \"\\nThe traceback matrix:\"\n",
      "print format_dynamic_programming_matrix(query_sequences[0][1],query_sequences[2][1],traceback_matrix)"
     ],
     "language": "python",
     "metadata": {},
     "outputs": [
      {
       "output_type": "stream",
       "stream": "stdout",
       "text": [
        "The alignment:\n",
        "ACCGGTGACCAGTTGACCAGT\n",
        "ATCGGT-ACCGGTAGA--AGT\n",
        "----GGTACC---AAATAGAA\n",
        "----GGCACC---AAACAGAA\n",
        "\n",
        "The Needleman-Wunsch matrix:\n",
        "                 A     C     C     G     G     T     G     A     C     C     A     G     T     T     G     A     C     C     A     G     T\n",
        "           0  -8.0  -9.0 -10.0 -11.0 -12.0 -13.0 -14.0 -15.0 -16.0 -17.0 -18.0 -19.0 -20.0 -21.0 -22.0 -23.0 -24.0 -25.0 -26.0 -27.0 -28.0\n",
        "     G  -8.0  -2.0 -10.0 -11.0  -9.0 -10.0 -14.0 -12.5 -16.0 -17.0 -18.0 -17.5 -17.0 -21.0 -22.0 -20.0 -24.0 -24.0 -25.0 -27.0 -25.0 -29.0\n",
        "     G  -9.0 -10.0  -4.0 -12.0 -10.0  -8.0 -12.0 -13.5 -14.5 -18.0 -19.0 -18.5 -16.5 -19.0 -23.0 -21.0 -22.0 -25.0 -25.0 -27.0 -26.0 -27.0\n",
        "     T -10.0 -11.0 -10.5  -4.5 -12.5 -12.0  -8.5 -13.0 -15.5 -15.0 -18.5 -21.0 -20.5 -17.0-20.25 -25.0 -23.0-22.25-25.25 -27.0 -29.0 -26.5\n",
        "     A -11.0  -9.0 -13.0 -12.5  -6.5 -14.5 -14.0  -9.5 -12.0 -17.5 -17.0 -19.0 -23.0 -22.5 -17.5-22.25 -24.0 -24.0-23.25-24.25 -29.0 -31.0\n",
        "     C -12.0 -13.0  -9.5 -12.0 -14.5  -8.5 -16.5 -15.0 -11.5 -11.0 -16.5 -19.0 -21.0 -25.0 -24.5 -19.5-24.25 -23.5 -23.5-25.25-26.25 -31.0\n",
        "     C -13.0 -14.0 -13.5  -8.5 -14.0 -16.5 -10.5 -17.5 -17.0 -10.5 -10.0 -18.0 -19.0 -20.0 -21.0 -22.0 -21.5-23.75 -23.0 -25.5-27.25-28.25\n",
        "     A -14.0 -12.0 -16.0 -15.5 -10.5 -16.0 -18.5 -11.5 -16.5 -18.5 -12.5 -10.5 -18.5 -19.5 -20.5 -23.0 -21.0 -22.5-24.75 -22.0 -27.5-29.25\n",
        "     A -15.0 -13.0 -14.0 -18.0 -17.5 -12.5 -18.0 -19.5 -10.5 -18.5 -20.5 -13.0 -12.5 -20.5 -20.0 -22.5 -22.0 -22.0 -23.5-23.75 -24.0 -29.5\n",
        "     A -16.0 -14.0 -15.0 -16.0 -20.0 -19.5 -14.5 -19.0 -18.5 -12.5 -20.5 -21.0 -15.0 -14.5 -21.0 -22.0 -21.5 -23.0 -23.0 -22.5-25.75 -26.0\n",
        "     T -17.0 -18.0 -14.5 -15.5 -18.0 -22.0 -20.0 -15.5 -19.5 -19.0 -13.0 -21.0 -22.0 -15.5-15.75 -23.0 -24.0-21.75-23.25 -25.0 -24.5-26.25\n",
        "     A -18.0 -16.0 -20.0 -16.5 -17.5 -20.0 -24.0 -21.0 -14.5 -21.5 -21.0 -13.5 -21.5 -22.5 -16.0-17.75 -22.0 -25.0-22.75-22.25 -27.0 -26.5\n",
        "     G -19.0 -20.0 -18.0 -22.0 -15.5 -16.5 -22.0 -23.5 -22.5 -16.5 -22.0 -21.5 -12.5 -20.5 -21.5 -15.0-19.75 -23.0 -26.0-24.75-21.25 -29.0\n",
        "     A -20.0 -18.0 -22.0 -20.0 -23.5 -17.5 -18.5 -23.0 -22.5 -24.5 -18.5 -22.5 -20.5 -14.5 -21.0 -23.0 -14.0-20.75 -24.0 -25.0-26.75-23.25\n",
        "     A -21.0 -19.0 -20.0 -24.0 -22.0 -25.5 -19.5 -19.5 -22.0 -24.5 -26.5 -19.0 -21.5 -22.5 -15.0 -23.0 -22.0 -15.0-21.75 -23.0 -27.0-28.75\n",
        "\n",
        "The traceback matrix:\n",
        "                 A     C     C     G     G     T     G     A     C     C     A     G     T     T     G     A     C     C     A     G     T\n",
        "        None     -     -     -     -     -     -     -     -     -     -     -     -     -     -     -     -     -     -     -     -     -\n",
        "     G     |     \\     \\     \\     \\     \\     \\     \\     \\     \\     \\     \\     \\     \\     \\     \\     \\     \\     \\     \\     \\     \\\n",
        "     G     |     |     \\     \\     \\     \\     \\     \\     \\     \\     \\     \\     \\     \\     \\     \\     \\     \\     \\     \\     \\     \\\n",
        "     T     |     |     \\     \\     -     \\     \\     \\     \\     \\     \\     \\     \\     \\     \\     \\     \\     \\     \\     \\     \\     \\\n",
        "     A     |     \\     \\     |     \\     \\     \\     \\     \\     \\     \\     \\     \\     \\     \\     \\     \\     \\     \\     \\     \\     \\\n",
        "     C     |     \\     \\     \\     |     \\     \\     \\     \\     \\     \\     \\     \\     \\     \\     \\     \\     \\     \\     \\     \\     \\\n",
        "     C     |     \\     \\     \\     \\     |     \\     \\     \\     \\     \\     -     -     -     -     -     \\     \\     \\     \\     \\     \\\n",
        "     A     |     \\     \\     \\     \\     \\     |     \\     \\     |     \\     \\     -     -     \\     \\     \\     \\     \\     \\     \\     \\\n",
        "     A     |     \\     \\     \\     \\     \\     \\     |     \\     \\     |     \\     \\     \\     \\     \\     \\     \\     \\     \\     \\     \\\n",
        "     A     |     \\     \\     \\     \\     \\     \\     \\     |     \\     \\     |     \\     \\     \\     \\     \\     \\     \\     \\     \\     \\\n",
        "     T     |     \\     \\     \\     \\     \\     \\     \\     |     \\     \\     -     -     \\     \\     \\     \\     \\     \\     \\     \\     \\\n",
        "     A     |     \\     \\     \\     \\     \\     \\     \\     \\     \\     |     \\     -     -     \\     \\     \\     \\     \\     \\     \\     \\\n",
        "     G     |     \\     \\     \\     \\     \\     \\     \\     |     \\     |     |     \\     -     -     \\     \\     \\     \\     \\     \\     \\\n",
        "     A     |     \\     \\     \\     |     \\     \\     \\     \\     |     \\     |     |     \\     \\     |     \\     \\     \\     \\     \\     \\\n",
        "     A     |     \\     \\     \\     \\     |     \\     \\     \\     \\     |     \\     |     |     \\     \\     |     \\     \\     \\     \\     \\\n"
       ]
      }
     ],
     "prompt_number": 23
    },
    {
     "cell_type": "heading",
     "level": 2,
     "metadata": {},
     "source": [
      "Putting it all together: progressive multiple sequence alignment"
     ]
    },
    {
     "cell_type": "markdown",
     "metadata": {},
     "source": [
      "We can now combine all of these steps to take a set of query sequences, build a guide tree, perform progressive multiple sequence alignment, and return the guide tree (as a linkage matrix) and the alignment. "
     ]
    },
    {
     "cell_type": "code",
     "collapsed": false,
     "input": [
      "def progressive_msa(query_sequences, guide_tree=None, gap_open_penalty=8, gap_extend_penalty=1, \n",
      "                    substitution_matrix=nt_substitution_matrix):\n",
      "    if guide_tree == None:\n",
      "        # create a guide tree if one was not provided\n",
      "        guide_tree = guide_tree_from_query_sequences(query_sequences,display_tree=False)\n",
      "        \n",
      "    left = guide_tree.get_left()\n",
      "    if left.is_leaf():\n",
      "        left_id = left.get_id()\n",
      "        left_aln = [query_sequences[left_id]]\n",
      "    else:\n",
      "        left_aln, _ = progressive_msa(query_sequences, left,\n",
      "                                   gap_open_penalty, gap_extend_penalty, substitution_matrix)\n",
      "    \n",
      "    right = guide_tree.get_right()\n",
      "    if right.is_leaf():\n",
      "        right_id = right.get_id()\n",
      "        right_aln = [query_sequences[right_id]]\n",
      "    else:\n",
      "        right_aln, _ = progressive_msa(query_sequences, right,\n",
      "                                    gap_open_penalty, gap_extend_penalty, substitution_matrix)\n",
      "    \n",
      "    aln1_ids = [s[0] for s in left_aln]\n",
      "    aln1_seqs = [s[1] for s in left_aln]\n",
      "    aln2_ids = [s[0] for s in right_aln]\n",
      "    aln2_seqs = [s[1] for s in right_aln]\n",
      "    aln1, aln2, score = nw_align([s[1] for s in left_aln], \n",
      "                                 [s[1] for s in right_aln], \n",
      "                                 gap_open_penalty, gap_extend_penalty, substitution_matrix)\n",
      "    msa = zip(aln1_ids, aln1) + zip(aln2_ids, aln2)\n",
      "    msa.sort()\n",
      "    return msa, guide_tree"
     ],
     "language": "python",
     "metadata": {},
     "outputs": [],
     "prompt_number": 24
    },
    {
     "cell_type": "code",
     "collapsed": false,
     "input": [
      "guide_tree = guide_tree_from_query_sequences(query_sequences, display_tree=True)"
     ],
     "language": "python",
     "metadata": {},
     "outputs": [
      {
       "metadata": {},
       "output_type": "display_data",
       "png": "[encoded data removed]",
       "text": [
        "<matplotlib.figure.Figure at 0x10881ae90>"
       ]
      }
     ],
     "prompt_number": 25
    },
    {
     "cell_type": "code",
     "collapsed": false,
     "input": [
      "msa, guide_tree = progressive_msa(query_sequences)\n",
      "for seq_id, seq in msa:\n",
      "    print seq_id, seq"
     ],
     "language": "python",
     "metadata": {},
     "outputs": [
      {
       "output_type": "stream",
       "stream": "stdout",
       "text": [
        "s1 ACCGGTGACCAGTTGACCAGT\n",
        "s2 ATCGGT-ACCGGTAGA--AGT\n",
        "s3 ---GGT-ACC-AAATA--GAA\n",
        "s4 ---GGC-ACC-AAACA--GAA\n",
        "s5 --------------GATTACA\n"
       ]
      }
     ],
     "prompt_number": 26
    },
    {
     "cell_type": "markdown",
     "metadata": {},
     "source": [
      "We can now build a (hopefully) improved tree from our multiple sequence alignment:"
     ]
    },
    {
     "cell_type": "code",
     "collapsed": false,
     "input": [
      "from iab.algorithms import hamming_distance\n",
      "\n",
      "def compute_aligned_sequence_distances(seqs, distance_fn=hamming_distance):\n",
      "    dm = []\n",
      "    ids = []\n",
      "    for id1, seq1 in seqs:\n",
      "        ids.append(id1)\n",
      "        row = []\n",
      "        for id2, seq2 in seqs:\n",
      "            row.append(hamming_distance(seq1, seq2))\n",
      "        dm.append(row)\n",
      "    return SymmetricDistanceMatrix(dm, ids)\n",
      "\n",
      "dm = compute_aligned_sequence_distances(msa)\n",
      "lm = average(dm.condensed_form())\n",
      "\n",
      "d = dendrogram(lm, labels=dm.sample_ids, orientation='right', \n",
      "               link_color_func=lambda x: 'black')"
     ],
     "language": "python",
     "metadata": {},
     "outputs": [
      {
       "metadata": {},
       "output_type": "display_data",
       "png": "[encoded data removed]",
       "text": [
        "<matplotlib.figure.Figure at 0x109096450>"
       ]
      }
     ],
     "prompt_number": 27
    },
    {
     "cell_type": "markdown",
     "metadata": {},
     "source": [
      "And we can wrap this all up in a single convenience function:"
     ]
    },
    {
     "cell_type": "code",
     "collapsed": false,
     "input": [
      "def progressive_msa_and_tree(query_sequences, gap_open_penalty=8, gap_extend_penalty=1, \n",
      "                             substitution_matrix=nt_substitution_matrix,\n",
      "                             msa_distance_fn=compute_aligned_sequence_distances,\n",
      "                             guide_tree=None, display=False):\n",
      "    msa, guide_tree = progressive_msa(query_sequences, guide_tree, \n",
      "                                      gap_open_penalty, gap_extend_penalty, substitution_matrix)\n",
      "    if display:\n",
      "        print \"Multiple sequence alignment:\\n\"\n",
      "        for seq_id, seq in msa:\n",
      "            print seq, \"(%s)\" % seq_id\n",
      "    \n",
      "    dm = msa_distance_fn(msa)\n",
      "    lm = average(dm.condensed_form())\n",
      "    tree = to_tree(lm)\n",
      "    if display:\n",
      "        print \"\\nOutput tree:\"\n",
      "        d = dendrogram(lm, labels=dm.sample_ids, orientation='right', \n",
      "                   link_color_func=lambda x: 'black', leaf_font_size=24)\n",
      "    return msa, tree"
     ],
     "language": "python",
     "metadata": {},
     "outputs": [],
     "prompt_number": 28
    },
    {
     "cell_type": "code",
     "collapsed": false,
     "input": [
      "msa, tree = progressive_msa_and_tree(query_sequences, display=True)"
     ],
     "language": "python",
     "metadata": {},
     "outputs": [
      {
       "output_type": "stream",
       "stream": "stdout",
       "text": [
        "Multiple sequence alignment:\n",
        "\n",
        "ACCGGTGACCAGTTGACCAGT (s1)\n",
        "ATCGGT-ACCGGTAGA--AGT (s2)\n",
        "---GGT-ACC-AAATA--GAA (s3)\n",
        "---GGC-ACC-AAACA--GAA (s4)\n",
        "--------------GATTACA (s5)\n",
        "\n",
        "Output tree:\n"
       ]
      },
      {
       "metadata": {},
       "output_type": "display_data",
       "png": "[encoded data removed]",
       "text": [
        "<matplotlib.figure.Figure at 0x1090c0750>"
       ]
      }
     ],
     "prompt_number": 29
    },
    {
     "cell_type": "heading",
     "level": 1,
     "metadata": {},
     "source": [
      "Progressive alignment versus iterative alignment"
     ]
    },
    {
     "cell_type": "markdown",
     "metadata": {},
     "source": [
      "In an iterative alignment, the output tree from the above progressive alignment is used as a guide tree, and the full process repeated. This is performed to reduce errors that result from a low-quality guide tree. "
     ]
    },
    {
     "cell_type": "markdown",
     "metadata": {},
     "source": [
      "**IS SOMETHING WRONG WITH THIS CODE? IT LOOKS LIKE THE ALIGNMENTS GET WORSE!**"
     ]
    },
    {
     "cell_type": "code",
     "collapsed": false,
     "input": [
      "def iterative_msa_and_tree(query_sequences, num_iterations, \n",
      "                           gap_open_penalty=8, gap_extend_penalty=1, \n",
      "                           substitution_matrix=nt_substitution_matrix, \n",
      "                           guide_tree_fn=guide_tree_from_query_sequences,\n",
      "                           msa_distance_fn=compute_aligned_sequence_distances,\n",
      "                           guide_tree=None, display=False):\n",
      "    previous_iter_tree = None\n",
      "    display_iter = False\n",
      "    for i in range(num_iterations):\n",
      "        if display and i == (num_iterations - 1):\n",
      "            display_iter = True\n",
      "        previous_iter_msa, previous_iter_tree = progressive_msa_and_tree(query_sequences, \n",
      "            gap_open_penalty=gap_open_penalty, gap_extend_penalty=gap_extend_penalty, \n",
      "            substitution_matrix=substitution_matrix, msa_distance_fn=msa_distance_fn,\n",
      "            guide_tree=previous_iter_tree, display=display_iter)\n",
      "                                                                    \n",
      "    return previous_iter_msa, previous_iter_tree"
     ],
     "language": "python",
     "metadata": {},
     "outputs": [],
     "prompt_number": 30
    },
    {
     "cell_type": "code",
     "collapsed": false,
     "input": [
      "msa, tree = iterative_msa_and_tree(query_sequences, num_iterations=1, display=True)"
     ],
     "language": "python",
     "metadata": {},
     "outputs": [
      {
       "output_type": "stream",
       "stream": "stdout",
       "text": [
        "Multiple sequence alignment:\n",
        "\n",
        "ACCGGTGACCAGTTGACCAGT (s1)\n",
        "ATCGGT-ACCGGTAGA--AGT (s2)\n",
        "---GGT-ACC-AAATA--GAA (s3)\n",
        "---GGC-ACC-AAACA--GAA (s4)\n",
        "--------------GATTACA (s5)\n",
        "\n",
        "Output tree:\n"
       ]
      },
      {
       "metadata": {},
       "output_type": "display_data",
       "png": "[encoded data removed]",
       "text": [
        "<matplotlib.figure.Figure at 0x1088a6590>"
       ]
      }
     ],
     "prompt_number": 31
    },
    {
     "cell_type": "code",
     "collapsed": false,
     "input": [
      "msa, tree = iterative_msa_and_tree(query_sequences, num_iterations=2, display=True)"
     ],
     "language": "python",
     "metadata": {},
     "outputs": [
      {
       "output_type": "stream",
       "stream": "stdout",
       "text": [
        "Multiple sequence alignment:\n",
        "\n",
        "ACCGGTGACCAGTTGACCAGT (s1)\n",
        "ATCGGT-ACCGGTAGA--AGT (s2)\n",
        "----GGTACCA---AATAGAA (s3)\n",
        "----GGCACCA---AACAGAA (s4)\n",
        "--------------GATTACA (s5)\n",
        "\n",
        "Output tree:\n"
       ]
      },
      {
       "metadata": {},
       "output_type": "display_data",
       "png": "[encoded data removed]",
       "text": [
        "<matplotlib.figure.Figure at 0x108774e50>"
       ]
      }
     ],
     "prompt_number": 32
    },
    {
     "cell_type": "code",
     "collapsed": false,
     "input": [
      "msa, tree = iterative_msa_and_tree(query_sequences, num_iterations=3, display=True)"
     ],
     "language": "python",
     "metadata": {},
     "outputs": [
      {
       "output_type": "stream",
       "stream": "stdout",
       "text": [
        "Multiple sequence alignment:\n",
        "\n",
        "ACCGGTGACCAGTTGACCAGT (s1)\n",
        "ATCGGT-ACCGGTAGA--AGT (s2)\n",
        "-------GGTACCAAATAGAA (s3)\n",
        "-------GGCACCAAACAGAA (s4)\n",
        "-------G-------ATTACA (s5)\n",
        "\n",
        "Output tree:\n"
       ]
      },
      {
       "metadata": {},
       "output_type": "display_data",
       "png": "[encoded data removed]",
       "text": [
        "<matplotlib.figure.Figure at 0x10917ef90>"
       ]
      }
     ],
     "prompt_number": 33
    },
    {
     "cell_type": "code",
     "collapsed": false,
     "input": [
      "msa, tree = iterative_msa_and_tree(query_sequences, num_iterations=50, display=True)"
     ],
     "language": "python",
     "metadata": {},
     "outputs": [
      {
       "output_type": "stream",
       "stream": "stdout",
       "text": [
        "Multiple sequence alignment:\n",
        "\n",
        "ACCGGTGACCAGTTGACCAGT (s1)\n",
        "ATCGGT-ACCGGTAGA--AGT (s2)\n",
        "-------GGTACCAAATAGAA (s3)\n",
        "-------GGCACCAAACAGAA (s4)\n",
        "-------G-------ATTACA (s5)\n",
        "\n",
        "Output tree:\n"
       ]
      },
      {
       "metadata": {},
       "output_type": "display_data",
       "png": "[encoded data removed]",
       "text": [
        "<matplotlib.figure.Figure at 0x109101a90>"
       ]
      }
     ],
     "prompt_number": 34
    },
    {
     "cell_type": "markdown",
     "metadata": {},
     "source": [
      "\n",
      "Some references that I used in assembling these notes include [1](http://statweb.stanford.edu/~nzhang/345_web/sequence_slides3.pdf), [2](http://math.mit.edu/classes/18.417/Slides/alignment.pdf), [3](http://www.sciencedirect.com/science/article/pii/0378111988903307), [4](http://bioinformatics.oxfordjournals.org/content/23/21/2947.full), and [5](http://nar.oxfordjournals.org/content/32/5/1792.full). "
     ]
    },
    {
     "cell_type": "heading",
     "level": 2,
     "metadata": {},
     "source": [
      "And just for fun..."
     ]
    },
    {
     "cell_type": "markdown",
     "metadata": {},
     "source": [
      "This doesn't only work with biological sequences. Here's a compilation of how to order a beer in 38 languages ([source](http://esperanto-usa.org/en/content/how-order-beer-47-languages)). If ordering a beer is more similar in langauges that more recently diverged from one another, we should be able to reconstruct a tree illustrating that branching pattern by aligning the phrases in the different languages. Let's give it a shot. "
     ]
    },
    {
     "cell_type": "code",
     "collapsed": false,
     "input": [
      "# This list contains (name of language, spelling of phrase for ordering a beer, phonetic phrase for ordering a beer)\n",
      "languages = [(\"Afrikaans\", \"'n Bier, asseblief\", \"A beer ah-suh-bleef\"),\n",
      " (\"Basque\", \"Garagardo bat, mesedez\", \"Gara-gardo bat mese-des\"),\n",
      " (\"Breton\", \"Ur banne bier am bo, mar plij\", \"Oor bah-ne beer am boh mar pleezh\"),\n",
      " (\"Catalan\", \"Una cervesa, si us plau\", \"Oona servayzeh see oos plow\"),\n",
      " (\"Croatian\", \"Jedno pivo, molim\", \"Yed-no pee-vo, mo-lim\"),\n",
      " (\"Czech / Slovak\", \"Pivo, pros\u00edm\", \"Pee-vo, pro-seem\"),\n",
      " (\"Danish\", \"Jeg vil gerne have en \u00f8l\", \"Yay vil geh-neh heh en url\"),\n",
      " (\"Dutch\", \"Een bier, alsjeblieft\", \"Un beer, ahls-yer-bleeft\"),\n",
      " (\"English\", \"One beer, please\", \"Wun beer, pleez\"),\n",
      " (\"Esperanto\", \"Unu bieron, mi petas\", \"Oo-noo bee-airon, mee peh-tahs\"),\n",
      " (\"Estonian\", \"\u00dcks \u00f5lu, palun\", \"Ooks ur-loo, pah-lun\"),\n",
      " (\"Finnish\", \"Olut mulle, kiitos\", \"O-loot moolek kee-tos\"),\n",
      " (\"French\", \"Une bi\u00e8re, s'il vous pla\u00eet\", \"Oon bee-air, seel voo pleh\"),\n",
      " (\"German\", \"Ein Bier, bitte\", \"Ine beer, bitt-uh\"),\n",
      " (\"Hungarian\", \"Egy poh\u00e1r s\u00f6rt k\u00e9rek\", \"Edj pohar shurt kayrek\"),\n",
      " (\"Icelandic\", \"Einn bj\u00f3r, takk\", \"Ay-dn byohr tahk\"),\n",
      " (\"Irish\", \"Beoir amh\u00e1in, le do thoil\", \"Byohr awoyn, lyeh doh hull\"),\n",
      " (\"Italian\", \"Una birra, per favore\", \"Oo-na beer-ra, pair fa-vo-re\"),\n",
      " (\"Latin\", \"Cervisiam, sodes\", \"Ker-wi-see-am, soh-dehs\"),\n",
      " (\"Latvian\", \"Vienu alu, l\u016b-dzu\", \"Vyeh-noo ah-loo, loo dzoo\"),\n",
      " (\"Lithuanian\", \"Pra\u0161au viena alaus\", \"Pra-shau vie-na al-lows\"),\n",
      " (\"Maltese\", \"Wiehed birra, jekk jghogbok\", \"Wee-het bir-ra yek yoh-dzbok\"),\n",
      " (\"Norwegian\", \"En \u00f8l, takk\", \"Ehn url tahk\"),\n",
      " (\"Occitan\", \"Una cervesa, se vos plai\", \"Oo-no serbeh-zo se bus ply\"),\n",
      " (\"Polish\", \"Jedno piwo, prosz\u0119\", \"Yed-no peevo proshe\"),\n",
      " (\"Portuguese\", \"Uma cerveja, por favor\", \"Oo-ma ser-vay-ja, poor fa-vohr\"),\n",
      " (\"Romansch Ladina\", \"\u00dcna biera, per plaschair.\", \"Oo-nuh bee-air-uh per plah-chair\"),\n",
      " (\"Sardinian\", \"Una birra, po piaghere\", \"Oo-na beer-ra po pia-gehre\"),\n",
      " (\"Scots Gaelic\", \"Leann, mas e do thoil e\", \"Lyawn mahs eh doh hawl eh\"),\n",
      " (\"Slovene\", \"Eno pivo, prosim\", \"Eno pee-vo pro-seem\"),\n",
      " (\"Spanish (Lat. Am.)\", \"Una cerveza, por favor\", \"Oo-na ser-veh-sa, por fa-vor\"),\n",
      " (\"Spanish (Spain)\", \"Una cerveza, por favor\", \"Oo-na thair-veh-tha, por fa-vor\"),\n",
      " (\"Strine\", \"Foster's, mate\", \"Faw-stuhz, mayt\"),\n",
      " (\"Swedish\", \"En \u00f6l, tack\", \"Ehn irl, tahk\"),\n",
      " (\"Twi\", \"Mame beer baako, mi pawokyew\", \"Mah-me bee-ye bah-ko mee pow-che-oo\"),\n",
      " (\"Turkish\", \"Bir bira, l\u00fctfen\", \"Beer beer-ah luht-fen\"),\n",
      " (\"Welsh\", \"Cwrw os gwelwch in dda\", \"Koo-roh ohs gwel-ookh-un-thah\")]"
     ],
     "language": "python",
     "metadata": {},
     "outputs": [],
     "prompt_number": 35
    },
    {
     "cell_type": "code",
     "collapsed": false,
     "input": [
      "language_to_spelling = [(e[0], e[1]) for e in languages]\n",
      "\n",
      "all_spelling_chars = []\n",
      "for e in language_to_spelling:\n",
      "    all_spelling_chars += list(e[1])\n",
      "all_spelling_chars = set(all_spelling_chars)\n",
      "\n",
      "spelling_substitution_matrix = {}\n",
      "for c in all_spelling_chars:\n",
      "    row = {}.fromkeys(all_spelling_chars, -2.0)\n",
      "    row[c] = 1.0\n",
      "    spelling_substitution_matrix[c] = row"
     ],
     "language": "python",
     "metadata": {},
     "outputs": [],
     "prompt_number": 36
    },
    {
     "cell_type": "markdown",
     "metadata": {},
     "source": [
      "We can align and build a tree from these phrases. Note that although the aligned sequences don't look like they are all the same length, they are - it's just that different formatting of the non-ASCII characters throws the spacing off. Also, note that spaces are characters that we care about in our alignments, since they indicate word breaks. "
     ]
    },
    {
     "cell_type": "code",
     "collapsed": false,
     "input": [
      "msa, tree = iterative_msa_and_tree(language_to_spelling, \n",
      "                                   num_iterations=5,\n",
      "                                   substitution_matrix=spelling_substitution_matrix,\n",
      "                                   display=True)"
     ],
     "language": "python",
     "metadata": {},
     "outputs": [
      {
       "output_type": "stream",
       "stream": "stdout",
       "text": [
        "Multiple sequence alignment:\n",
        "\n",
        "----------'--n Bier, ass-eblief- (Afrikaans)\n",
        "Garagardo-------- bat, mese--dez (Basque)\n",
        "Ur banne bier am bo, m---ar plij (Breton)\n",
        "U---na c-ervesa, si---- u-s plau (Catalan)\n",
        "----------J-edno pivo--, m--olim (Croatian)\n",
        "----------P-------ivo--, pros\u00edm (Czech / Slovak)\n",
        "Jeg vil ge-------rne have en \u00f8l (Danish)\n",
        "----------E-en bier, alsjeblieft (Dutch)\n",
        "----------O-ne-- bee---r, please (English)\n",
        "U----nu- bieron----, mi petas--- (Esperanto)\n",
        "----------\ufffd-\ufffdks \u00f5-lu--, palun-- (Estonian)\n",
        "----------O-lut mull---e, kiitos (Finnish)\n",
        "Une bi\u00e8re, s'il vo----us pla\u00eet (French)\n",
        "----------E-in Bier, bitte------ (German)\n",
        "Egy poh\u00e1r------- s\u00f6rt k\u00e9--rek (Hungarian)\n",
        "----------E-i--nn -bj--\u00f3r, takk (Icelandic)\n",
        "Beoir amh\u00e1in, l---e do- thoil-- (Irish)\n",
        "---Una birra, pe-------r favo-re (Italian)\n",
        "----------C-ervis---i--am, sodes (Latin)\n",
        "----------V-ienu a-lu--, l\u016b-dzu (Latvian)\n",
        "----------P-ra\u0161au vi--ena alaus (Lithuanian)\n",
        "Wiehed birra, jekk ----jghogbok- (Maltese)\n",
        "----------E--------n --\u00f8l, takk (Norwegian)\n",
        "U---na c-ervesa, se---- vos plai (Occitan)\n",
        "----------J-edno piwo--, prosz\u0119 (Polish)\n",
        "U---ma c-erveja, po----r favor-- (Portuguese)\n",
        "--\u00dcna biera, per p----laschair. (Romansch Ladina)\n",
        "---Una birra, po------- piaghere (Sardinian)\n",
        "Le--------ann, mas e do- thoil e (Scots Gaelic)\n",
        "-------------Eno pivo--, pros-im (Slovene)\n",
        "U---na c-erveza, po----r favor-- (Spanish (Lat. Am.))\n",
        "U---na c-erveza, po----r favor-- (Spanish (Spain))\n",
        "----------F-o--ste-r'--s--, mate (Strine)\n",
        "----------E--------n --\u00f6l, tack (Swedish)\n",
        "Bir bira, ---------------l\u00fctfen (Turkish)\n",
        "M----ame beer baako, mi pawokyew (Twi)\n",
        "----------Cwrw os gwelwch in dda (Welsh)\n",
        "\n",
        "Output tree:\n"
       ]
      },
      {
       "metadata": {},
       "output_type": "display_data",
       "png": "[encoded data removed]",
       "text": [
        "<matplotlib.figure.Figure at 0x109182650>"
       ]
      }
     ],
     "prompt_number": 37
    },
    {
     "cell_type": "markdown",
     "metadata": {},
     "source": [
      "We can also compare that tree to a tree based on similarity of the phonetic spelling of each phrase."
     ]
    },
    {
     "cell_type": "code",
     "collapsed": false,
     "input": [
      "language_to_pron = [(e[0], e[2]) for e in languages]\n",
      "\n",
      "all_pron_chars = []\n",
      "for e in language_to_pron:\n",
      "    all_pron_chars += list(e[1])\n",
      "all_pron_chars = set(all_pron_chars)\n",
      "\n",
      "pron_substitution_matrix = {}\n",
      "for c in all_pron_chars:\n",
      "    row = {}.fromkeys(all_pron_chars, -2.0)\n",
      "    row[c] = 1.0\n",
      "    pron_substitution_matrix[c] = row"
     ],
     "language": "python",
     "metadata": {},
     "outputs": [],
     "prompt_number": 38
    },
    {
     "cell_type": "code",
     "collapsed": false,
     "input": [
      "msa, tree = iterative_msa_and_tree(language_to_pron, \n",
      "                                   num_iterations=1,\n",
      "                                   substitution_matrix=pron_substitution_matrix,\n",
      "                                   display=True)"
     ],
     "language": "python",
     "metadata": {},
     "outputs": [
      {
       "output_type": "stream",
       "stream": "stdout",
       "text": [
        "Multiple sequence alignment:\n",
        "\n",
        "-------A-- bee--r-- ah-suh---bleef- (Afrikaans)\n",
        "Gara-gardo b------------at mese-des (Basque)\n",
        "Oor bah-ne bee--r am boh mar pleezh (Breton)\n",
        "Oo-na se------rvayzeh see oos -plow (Catalan)\n",
        "Yed-no------ pee-v-------o, mo-l-im (Croatian)\n",
        "---Pe---------e-vo-------, pro-seem (Czech / Slovak)\n",
        "--Ya------y vil geh-neh heh en -url (Danish)\n",
        "-------Un- bee--r-, ahls-yer-bleeft (Dutch)\n",
        "-------Wun bee--r-, --------pleez-- (English)\n",
        "Oo-noo bee----airon, mee peh-tahs-- (Esperanto)\n",
        "--------------Ooks ur-loo, pah-lun- (Estonian)\n",
        "--------------O-loot moolek kee-tos (Finnish)\n",
        "Oo---n bee----air--, seel voo pl-eh (French)\n",
        "-------Ine bee--r-, --------bitt-uh (German)\n",
        "-------------Edj pohar shurt kayrek (Hungarian)\n",
        "Ay-d------n byo-------------hr tahk (Icelandic)\n",
        "Byoh------r awoyn, lyeh doh hull--- (Irish)\n",
        "Oo-na beer-r------a, pair fa-v-o-re (Italian)\n",
        "Ke----r-wi-see-am,------- soh-dehs- (Latin)\n",
        "----------Vyeh-noo ah-loo, loo dzoo (Latvian)\n",
        "----------Pra-shau vie-na-- al-lows (Lithuanian)\n",
        "Wee-het bir-ra yek------- yoh-dzbok (Maltese)\n",
        "--Eh------n -ur-------------l- tahk (Norwegian)\n",
        "Oo-no se------rbeh-zo s-e bus -pl-y (Occitan)\n",
        "Yed-no------ pee---------vo pros-he (Polish)\n",
        "Oo-ma se---r-vay-ja, poor fa-v-ohr- (Portuguese)\n",
        "Oo-nuh bee----air-uh per plah-chair (Romansch Ladina)\n",
        "Oo-na beer-r------a-- po pia-g-ehre (Sardinian)\n",
        "Ly----------awn mahs eh doh hawl eh (Scots Gaelic)\n",
        "---Eno------ pee-v-------o pro-seem (Slovene)\n",
        "Oo-na se--r-veh-s-a, p-or fa-v-o-r- (Spanish (Lat. Am.))\n",
        "Oo-na thair-veh-tha, p-or fa-v-o-r- (Spanish (Spain))\n",
        "Faw-stuhz, m--------------------ayt (Strine)\n",
        "--Eh------n -ir-------------l, tahk (Swedish)\n",
        "B------------e--er beer-ah luht-fen (Turkish)\n",
        "Mah-me bee-ye bah-ko mee pow-che-oo (Twi)\n",
        "Koo-------roh ohs gwel-ookh-un-thah (Welsh)\n",
        "\n",
        "Output tree:\n"
       ]
      },
      {
       "metadata": {},
       "output_type": "display_data",
       "png": "[encoded data removed]",
       "text": [
        "<matplotlib.figure.Figure at 0x108809750>"
       ]
      }
     ],
     "prompt_number": 40
    },
    {
     "cell_type": "code",
     "collapsed": false,
     "input": [
      "msa, tree = iterative_msa_and_tree(language_to_pron, \n",
      "                                   num_iterations=5,\n",
      "                                   substitution_matrix=pron_substitution_matrix,\n",
      "                                   display=True)"
     ],
     "language": "python",
     "metadata": {},
     "outputs": [
      {
       "output_type": "stream",
       "stream": "stdout",
       "text": [
        "Multiple sequence alignment:\n",
        "\n",
        "A-- be-----------er- ah-suh---bleef- (Afrikaans)\n",
        "Gara-g-----------ardo bat mese---des (Basque)\n",
        "Oor bah-ne beer am boh ma---r pleezh (Breton)\n",
        "O--o-na se------rvayzeh see oos plow (Catalan)\n",
        "-Yed-n-----------o pee-vo, mo---l-im (Croatian)\n",
        "----Pe--------------e-vo, pro---seem (Czech / Slovak)\n",
        "--Y-------ay vil geh-neh heh en -url (Danish)\n",
        "Un- be-----------er, ahls-yer-bleeft (Dutch)\n",
        "Wun be-----------er, --------pleez-- (English)\n",
        "Oo--noo bee-airon, mee pe---h-tahs-- (Esperanto)\n",
        "----------------Ooks ur-loo, pah-lun (Estonian)\n",
        "O-l-------oot moolek kee-to--------s (Finnish)\n",
        "Oo----n bee-air--, seel v---oo pl-eh (French)\n",
        "Ine be-----------er, --------bitt-uh (German)\n",
        "-Edj p-----------ohar shurt ka--yrek (Hungarian)\n",
        "-Ay-dn----------------- byohr --tahk (Icelandic)\n",
        "Byo-------hr awoyn, lyeh doh hull--- (Irish)\n",
        "O--o-na beer-r------a, pair fa-vo-re (Italian)\n",
        "Ke----r-wi-see-am--------, soh-dehs- (Latin)\n",
        "Vyeh-noo ah-loo, l-----------oo dzoo (Latvian)\n",
        "Pra-sh-----------au vie-na al---lows (Lithuanian)\n",
        "Wee-het bir-ra ye--------k yoh-dzbok (Maltese)\n",
        "---Ehn----------------- -url- --tahk (Norwegian)\n",
        "O--o-no se------rbeh-zo s-e bus pl-y (Occitan)\n",
        "-Yed-n-----------o pee--vo pro--s-he (Polish)\n",
        "O--o-ma se---r-vay-ja, poor fa-vohr- (Portuguese)\n",
        "Oo--nuh bee-air-uh per pl---ah-chair (Romansch Ladina)\n",
        "O--o-na beer-r------a-- po pia-gehre (Sardinian)\n",
        "Ly-----------awn mahs eh doh hawl eh (Scots Gaelic)\n",
        "----En-----------o pee-vo pro---seem (Slovene)\n",
        "O--o-na se--r-veh-s-a, p-or fa-vo-r- (Spanish (Lat. Am.))\n",
        "O--o-na thair-veh-tha, p-or fa-vo-r- (Spanish (Spain))\n",
        "-Faw-s------------------tuhz, --mayt (Strine)\n",
        "---Ehn----------------- -irl, --tahk (Swedish)\n",
        "-----------Beer beer-ah l---uht--fen (Turkish)\n",
        "Mah-me bee-ye bah-ko mee po-w-che-oo (Twi)\n",
        "-------Koo-roh ohs gwel-ookh-un-thah (Welsh)\n",
        "\n",
        "Output tree:\n"
       ]
      },
      {
       "metadata": {},
       "output_type": "display_data",
       "png": "[encoded data removed]",
       "text": [
        "<matplotlib.figure.Figure at 0x108809fd0>"
       ]
      }
     ],
     "prompt_number": 41
    },
    {
     "cell_type": "code",
     "collapsed": false,
     "input": [],
     "language": "python",
     "metadata": {},
     "outputs": []
    }
   ],
   "metadata": {}
  }
 ]
}