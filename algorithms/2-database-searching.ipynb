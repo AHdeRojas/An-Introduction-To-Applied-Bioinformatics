{
 "metadata": {
  "name": "",
  "signature": "sha256:acf3976694ca13d663b865f7e3a629705ae45f1169f9295e7eb76f322162d2cf"
 },
 "nbformat": 3,
 "nbformat_minor": 0,
 "worksheets": [
  {
   "cells": [
    {
     "cell_type": "heading",
     "level": 1,
     "metadata": {},
     "source": [
      "Finding the best local alignment in a database"
     ]
    },
    {
     "cell_type": "markdown",
     "metadata": {},
     "source": [
      "The next idea we'll explore is database searching. In this context, what that means is that **we have some *query* sequence, and we want to know which *reference* sequence in a database it is most similar to**. This could be achieved in a few ways. It could be implemented with local alignment by representing the database as one long sequnence (if we build some functionality to support that into the algorithm), or with local or global alignment (depending on your application) by running our align function many times to search one *query* sequence against many *reference* sequences in the database. \n",
      "\n",
      "When our database starts getting hundreds of millions of bases long (as would be the case if we were searching against 97% OTUs from the Greengenes rRNA reference database), billions of bases long (as would be the case if we were searching against the human genome) or trillions of bases long (as would be the case if we were seraching against the NCBI non-redundant nucleotide database), **runtime becomes an important consideration**. \n",
      "\n",
      "First, let's do some notebook configuration."
     ]
    },
    {
     "cell_type": "code",
     "collapsed": false,
     "input": [
      "from __future__ import division, print_function\n",
      "from time import time\n",
      "from random import random, shuffle\n",
      "from IPython.core import page\n",
      "\n",
      "import matplotlib.pyplot as plt\n",
      "import seaborn as sns\n",
      "from scipy.spatial.distance import hamming\n",
      "from skbio.parse.sequences import parse_fasta\n",
      "from skbio.alignment import local_pairwise_align_ssw\n",
      "\n",
      "page.page = print"
     ],
     "language": "python",
     "metadata": {},
     "outputs": [],
     "prompt_number": 1
    },
    {
     "cell_type": "markdown",
     "metadata": {},
     "source": [
      "The main function that we'll use for database searching is ``local_pairwise_align_ssw``. Remember that you can always get help with a function by passing it as an argument to ``help``:"
     ]
    },
    {
     "cell_type": "code",
     "collapsed": false,
     "input": [
      "help(local_pairwise_align_ssw)"
     ],
     "language": "python",
     "metadata": {},
     "outputs": [
      {
       "output_type": "stream",
       "stream": "stdout",
       "text": [
        "Help on built-in function local_pairwise_align_ssw in module skbio.alignment._ssw_wrapper:\n",
        "\n",
        "local_pairwise_align_ssw(...)\n",
        "    Align query and target sequences with Striped Smith-Waterman.\n",
        "    \n",
        "    Parameters\n",
        "    ----------\n",
        "    sequence1 : str or BiologicalSequence\n",
        "        The first unaligned sequence\n",
        "    sequence2 : str or BiologicalSequence\n",
        "        The second unaligned sequence\n",
        "    \n",
        "    Returns\n",
        "    -------\n",
        "    ``skbio.alignment.Alignment``\n",
        "        The resulting alignment as an Alignment object\n",
        "    \n",
        "    Notes\n",
        "    -----\n",
        "    This is a wrapper for the SSW package [1]_.\n",
        "    \n",
        "    For a complete list of optional keyword-arguments that can be provided,\n",
        "    see ``skbio.alignment.StripedSmithWaterman``.\n",
        "    \n",
        "    The following kwargs will not have any effect: `suppress_sequences` and\n",
        "    `zero_index`\n",
        "    \n",
        "    If an alignment does not meet a provided filter, `None` will be returned.\n",
        "    \n",
        "    References\n",
        "    ----------\n",
        "    .. [1] Zhao, Mengyao, Wan-Ping Lee, Erik P. Garrison, & Gabor T.\n",
        "       Marth. \"SSW Library: An SIMD Smith-Waterman C/C++ Library for\n",
        "       Applications\". PLOS ONE (2013). Web. 11 July 2014.\n",
        "       http://www.plosone.org/article/info:doi/10.1371/journal.pone.0082138\n",
        "     \n",
        "    See Also\n",
        "    --------\n",
        "    skbio.alignment.StripedSmithWaterman\n",
        "\n"
       ]
      }
     ],
     "prompt_number": 2
    },
    {
     "cell_type": "markdown",
     "metadata": {},
     "source": [
      "First, we're going to define some sequences in fasta format to serve as our reference database. These are derived from the [Greengenes](http://greengenes.secondgenome.com/) [13_8](ftp://greengenes.microbio.me/greengenes_release/gg_13_5/) database, and we're pulling them from the [QIIME default reference project](https://github.com/biocore/qiime-default-reference). We can load these as a list of sequences using ``skbio.parse.sequences.parse_fasta``, and count them by taking the length of the list."
     ]
    },
    {
     "cell_type": "code",
     "collapsed": false,
     "input": [
      "from qiime_default_reference import get_reference_sequences \n",
      "\n",
      "reference_db = list(parse_fasta(get_reference_sequences()))\n",
      "shuffle(reference_db)\n",
      "print(len(reference_db))"
     ],
     "language": "python",
     "metadata": {},
     "outputs": [
      {
       "output_type": "stream",
       "stream": "stdout",
       "text": [
        "99322\n"
       ]
      }
     ],
     "prompt_number": 3
    },
    {
     "cell_type": "markdown",
     "metadata": {},
     "source": [
      "For the sake of runtime, let's work with only a random (approximately) 10% of these sequences."
     ]
    },
    {
     "cell_type": "code",
     "collapsed": false,
     "input": [
      "temp_reference_db = []\n",
      "fraction_to_keep = 0.10\n",
      "for e in reference_db:\n",
      "    if random() < fraction_to_keep:\n",
      "        temp_reference_db.append(e)\n",
      "reference_db = temp_reference_db\n",
      "print(len(temp_reference_db))"
     ],
     "language": "python",
     "metadata": {},
     "outputs": [
      {
       "output_type": "stream",
       "stream": "stdout",
       "text": [
        "9992\n"
       ]
      }
     ],
     "prompt_number": 4
    },
    {
     "cell_type": "markdown",
     "metadata": {},
     "source": [
      "And we can next define our search function which takes a query sequence, a reference sequence, and an aligner function:"
     ]
    },
    {
     "cell_type": "code",
     "collapsed": false,
     "input": [
      "from iab.algorithms import local_alignment_search\n",
      "\n",
      "%psource local_alignment_search"
     ],
     "language": "python",
     "metadata": {},
     "outputs": [
      {
       "output_type": "stream",
       "stream": "stdout",
       "text": [
        "\u001b[0;32mdef\u001b[0m \u001b[0mlocal_alignment_search\u001b[0m\u001b[0;34m(\u001b[0m\u001b[0mquery\u001b[0m\u001b[0;34m,\u001b[0m \u001b[0mreference_db\u001b[0m\u001b[0;34m,\u001b[0m \u001b[0maligner\u001b[0m\u001b[0;34m=\u001b[0m\u001b[0mlocal_pairwise_align_ssw\u001b[0m\u001b[0;34m)\u001b[0m\u001b[0;34m:\u001b[0m\u001b[0;34m\u001b[0m\n",
        "\u001b[0;34m\u001b[0m    \u001b[0mbest_score\u001b[0m \u001b[0;34m=\u001b[0m \u001b[0;36m0.0\u001b[0m\u001b[0;34m\u001b[0m\n",
        "\u001b[0;34m\u001b[0m    \u001b[0mbest_match\u001b[0m \u001b[0;34m=\u001b[0m \u001b[0mNone\u001b[0m\u001b[0;34m\u001b[0m\n",
        "\u001b[0;34m\u001b[0m    \u001b[0mbest_a1\u001b[0m \u001b[0;34m=\u001b[0m \u001b[0mNone\u001b[0m\u001b[0;34m\u001b[0m\n",
        "\u001b[0;34m\u001b[0m    \u001b[0mbest_a2\u001b[0m \u001b[0;34m=\u001b[0m \u001b[0mNone\u001b[0m\u001b[0;34m\u001b[0m\n",
        "\u001b[0;34m\u001b[0m    \u001b[0;32mfor\u001b[0m \u001b[0mseq_id\u001b[0m\u001b[0;34m,\u001b[0m \u001b[0mseq\u001b[0m \u001b[0;32min\u001b[0m \u001b[0mreference_db\u001b[0m\u001b[0;34m:\u001b[0m\u001b[0;34m\u001b[0m\n",
        "\u001b[0;34m\u001b[0m        \u001b[0malignment\u001b[0m \u001b[0;34m=\u001b[0m \u001b[0maligner\u001b[0m\u001b[0;34m(\u001b[0m\u001b[0mquery\u001b[0m\u001b[0;34m,\u001b[0m \u001b[0mseq\u001b[0m\u001b[0;34m)\u001b[0m\u001b[0;34m\u001b[0m\n",
        "\u001b[0;34m\u001b[0m        \u001b[0mscore\u001b[0m \u001b[0;34m=\u001b[0m \u001b[0malignment\u001b[0m\u001b[0;34m.\u001b[0m\u001b[0mscore\u001b[0m\u001b[0;34m(\u001b[0m\u001b[0;34m)\u001b[0m\u001b[0;34m\u001b[0m\n",
        "\u001b[0;34m\u001b[0m        \u001b[0;32mif\u001b[0m \u001b[0mscore\u001b[0m \u001b[0;34m>\u001b[0m \u001b[0mbest_score\u001b[0m\u001b[0;34m:\u001b[0m\u001b[0;34m\u001b[0m\n",
        "\u001b[0;34m\u001b[0m            \u001b[0mbest_score\u001b[0m \u001b[0;34m=\u001b[0m \u001b[0mscore\u001b[0m\u001b[0;34m\u001b[0m\n",
        "\u001b[0;34m\u001b[0m            \u001b[0mbest_match\u001b[0m \u001b[0;34m=\u001b[0m \u001b[0mseq_id\u001b[0m\u001b[0;34m\u001b[0m\n",
        "\u001b[0;34m\u001b[0m            \u001b[0mbest_a1\u001b[0m \u001b[0;34m=\u001b[0m \u001b[0mstr\u001b[0m\u001b[0;34m(\u001b[0m\u001b[0malignment\u001b[0m\u001b[0;34m[\u001b[0m\u001b[0;36m0\u001b[0m\u001b[0;34m]\u001b[0m\u001b[0;34m)\u001b[0m\u001b[0;34m\u001b[0m\n",
        "\u001b[0;34m\u001b[0m            \u001b[0mbest_a2\u001b[0m \u001b[0;34m=\u001b[0m \u001b[0mstr\u001b[0m\u001b[0;34m(\u001b[0m\u001b[0malignment\u001b[0m\u001b[0;34m[\u001b[0m\u001b[0;36m1\u001b[0m\u001b[0;34m]\u001b[0m\u001b[0;34m)\u001b[0m\u001b[0;34m\u001b[0m\n",
        "\u001b[0;34m\u001b[0m    \u001b[0;32mreturn\u001b[0m \u001b[0mbest_a1\u001b[0m\u001b[0;34m,\u001b[0m \u001b[0mbest_a2\u001b[0m\u001b[0;34m,\u001b[0m \u001b[0mbest_score\u001b[0m\u001b[0;34m,\u001b[0m \u001b[0mbest_match\u001b[0m\u001b[0;34m\u001b[0m\u001b[0m\n",
        "\n"
       ]
      }
     ],
     "prompt_number": 5
    },
    {
     "cell_type": "markdown",
     "metadata": {},
     "source": [
      "Next, let's define a query sequence to search against this database. We'll define `query1` to be an exact subsequence of one of the database sequences."
     ]
    },
    {
     "cell_type": "code",
     "collapsed": false,
     "input": [
      "query1_id, query1 = reference_db[-1]\n",
      "query1 = query1[100:300]\n",
      "\n",
      "print(query1_id)\n",
      "print(query1)"
     ],
     "language": "python",
     "metadata": {},
     "outputs": [
      {
       "output_type": "stream",
       "stream": "stdout",
       "text": [
        "112779\n",
        "GTAACGCGTGGGAACGTGCCCAAAGGTACGGAACAACTCCGGGAAACTGGAGCTAATACCGTATGTGCCCGCAAGGGGAAAGATTTATCGCCTTTGGATCGGCCCGCGTCGGATTAGCTAGTTGGTGGGGTAAAAGCCTACCAAGGCGACGATCCGTAGCTGGTCTGAGAGGATGATCAGCCACACTGGGACTGAGACAC\n"
       ]
      }
     ],
     "prompt_number": 6
    },
    {
     "cell_type": "markdown",
     "metadata": {},
     "source": [
      "And we can now perform some database searches. Experiment with different sequences to see how they align by modifying `query1` in the next cell and then executing it (remember that you'll need to execute all of the above cells before executing this one). \n",
      "\n",
      "Also, think about the runtime here. How many sequences are we searching, and how long are they? Does this strategy seem scalable?"
     ]
    },
    {
     "cell_type": "code",
     "collapsed": false,
     "input": [
      "start_time = time()\n",
      "a1, a2, score, ref_id = local_alignment_search(query1, reference_db)\n",
      "stop_time = time()\n",
      "\n",
      "alignment_length = len(a1)\n",
      "percent_id = 1 - (hamming(a1, a2)/alignment_length)\n",
      "\n",
      "print(a1)\n",
      "print(a2)\n",
      "print(score)\n",
      "print(ref_id)\n",
      "print(alignment_length)\n",
      "print(percent_id)\n",
      "print(\"Runtime: %1.4f sec\" % (stop_time - start_time))"
     ],
     "language": "python",
     "metadata": {},
     "outputs": [
      {
       "output_type": "stream",
       "stream": "stdout",
       "text": [
        "GTAACGCGTGGGAACGTGCCCAAAGGTACGGAACAACTCCGGGAAACTGGAGCTAATACCGTATGTGCCCGCAAGGGGAAAGATTTATCGCCTTTGGATCGGCCCGCGTCGGATTAGCTAGTTGGTGGGGTAAAAGCCTACCAAGGCGACGATCCGTAGCTGGTCTGAGAGGATGATCAGCCACACTGGGACTGAGACAC\n",
        "GTAACGCGTGGGAACGTGCCCAAAGGTACGGAACAACTCCGGGAAACTGGAGCTAATACCGTATGTGCCCGCAAGGGGAAAGATTTATCGCCTTTGGATCGGCCCGCGTCGGATTAGCTAGTTGGTGGGGTAAAAGCCTACCAAGGCGACGATCCGTAGCTGGTCTGAGAGGATGATCAGCCACACTGGGACTGAGACAC\n",
        "400.0\n",
        "112779\n",
        "200\n",
        "1.0\n",
        "Runtime: 4.9944 sec\n"
       ]
      }
     ],
     "prompt_number": 7
    },
    {
     "cell_type": "markdown",
     "metadata": {},
     "source": [
      "In the next cell, I took a shorter exact match from `query1`. What is the effect on our database base search here? How can this happen?"
     ]
    },
    {
     "cell_type": "code",
     "collapsed": false,
     "input": [
      "query2 = query1[25:35]\n",
      "\n",
      "start_time = time()\n",
      "a1, a2, score, ref_id = local_alignment_search(query2, reference_db)\n",
      "stop_time = time()\n",
      "\n",
      "alignment_length = len(a1)\n",
      "percent_id = 1 - (hamming(a1, a2)/alignment_length)\n",
      "\n",
      "print(a1)\n",
      "print(a2)\n",
      "print(score)\n",
      "print(ref_id)\n",
      "print(alignment_length)\n",
      "print(percent_id)\n",
      "print(\"Runtime: %1.4f sec\" % (stop_time - start_time))"
     ],
     "language": "python",
     "metadata": {},
     "outputs": [
      {
       "output_type": "stream",
       "stream": "stdout",
       "text": [
        "GTACGGAACA\n",
        "GTACGGAACA\n",
        "20.0\n",
        "842559\n",
        "10\n",
        "1.0\n",
        "Runtime: 3.4553 sec\n"
       ]
      }
     ],
     "prompt_number": 8
    },
    {
     "cell_type": "heading",
     "level": 2,
     "metadata": {},
     "source": [
      "Using heuristics to reduce runtime for database searches"
     ]
    },
    {
     "cell_type": "markdown",
     "metadata": {},
     "source": [
      "**As illustrated above, runtimes for performing pairwise alignments can be prohibitive for database searching.** The Smith-Waterman implementation we're using here, [SSW](http://journals.plos.org/plosone/article?id=10.1371/journal.pone.0082138), is very fast. As we covered in the prvious chapter, if we were to create an even faster implementation, that provide some initial help (it'd reduce our runtime by some factor $f$) but ultimately, we're still going to have a problem regardless of how big $f$ is, because **the runtime of the algorithm scales quadratically with sequence lengths**. Experiment with different values of $f$ to see how it changes the curve below. \n",
      "\n",
      "$f$ represents the fold-reduction in runtime (e.g., $f=2$ represents a two-fold reduction, or halving, of runtime, and $f=10$ equals a ten-fold reduction in runtime)."
     ]
    },
    {
     "cell_type": "code",
     "collapsed": false,
     "input": [
      "seq_lengths = range(25)\n",
      "times = [t * t for t in range(25)]\n",
      "f = 10000 # no scaling factor\n",
      "times = [t / f for t in times]\n",
      "\n",
      "plt.plot(range(25), times)\n",
      "plt.xlabel('Sequence Length')\n",
      "plt.ylabel('Runtime (s)')"
     ],
     "language": "python",
     "metadata": {},
     "outputs": [
      {
       "metadata": {},
       "output_type": "pyout",
       "prompt_number": 9,
       "text": [
        "<matplotlib.text.Text at 0x107057c50>"
       ]
      },
      {
       "metadata": {},
       "output_type": "display_data",
       "png": "[encoded data removed]",
       "text": [
        "<matplotlib.figure.Figure at 0x10d14ddd0>"
       ]
      }
     ],
     "prompt_number": 9
    },
    {
     "cell_type": "markdown",
     "metadata": {},
     "source": [
      "Database seearching is a slightly different problem however. There are a few different scenarios here:\n",
      "\n",
      "1. we may have a database that is growing in size (for example, over months and years as more sequences are discovered);\n",
      "2. we may have a fixed database, but increasingly be obtaining larger numbers of sequences that we want to search against that database;\n",
      "3. or, the situation that we find ourselves in as of this writing: both. \n",
      "\n",
      "For the purposes of an exercise, think of the database as one long sequence that we want to align against and a collection of query sequence as another long sequence that we want to search. What do you expect a curve for each of the above to look like? "
     ]
    },
    {
     "cell_type": "markdown",
     "metadata": {},
     "source": [
      "**The core issue here is that it just takes too long to search each query sequence against the whole database. If we can search against a subset of the database by quickly deciding on certain sequences that are unlikely to match, that may help us to reduce runtime.** A heurtistic in this case would be a rule that we apply to determine which sequecnces we're going to align and which sequences we're not going to align. If we decided to not align against a given reference sequence, it becomes possible that we might miss the best alignment, so we want our heurtistics to be good to make that unlikely. So, when thinking about heurtistics, there are some important considerations:\n",
      "\n",
      "1. How often do I fail to find the best alignment? \n",
      "2. Is my runtime reduced enough that I can tolerate not getting the best alignment this often? \n",
      "\n",
      "Let's look at a few heuristics, starting with a silly one first: we'll select a random `p` percent of database to align our query against. We'll start by defining `p` as 10%. "
     ]
    },
    {
     "cell_type": "code",
     "collapsed": false,
     "input": [
      "random()"
     ],
     "language": "python",
     "metadata": {},
     "outputs": [
      {
       "metadata": {},
       "output_type": "pyout",
       "prompt_number": 10,
       "text": [
        "0.548934384661503"
       ]
      }
     ],
     "prompt_number": 10
    },
    {
     "cell_type": "code",
     "collapsed": false,
     "input": [
      "from iab.algorithms import approximated_local_alignment_search_random\n",
      "%psource approximated_local_alignment_search_random"
     ],
     "language": "python",
     "metadata": {},
     "outputs": [
      {
       "output_type": "stream",
       "stream": "stdout",
       "text": [
        "\u001b[0;32mdef\u001b[0m \u001b[0mapproximated_local_alignment_search_random\u001b[0m\u001b[0;34m(\u001b[0m\u001b[0;34m\u001b[0m\n",
        "\u001b[0;34m\u001b[0m        \u001b[0mquery\u001b[0m\u001b[0;34m,\u001b[0m \u001b[0mreference_db\u001b[0m\u001b[0;34m,\u001b[0m \u001b[0mp\u001b[0m\u001b[0;34m=\u001b[0m\u001b[0;36m0.10\u001b[0m\u001b[0;34m,\u001b[0m \u001b[0maligner\u001b[0m\u001b[0;34m=\u001b[0m\u001b[0mlocal_pairwise_align_ssw\u001b[0m\u001b[0;34m)\u001b[0m\u001b[0;34m:\u001b[0m\u001b[0;34m\u001b[0m\n",
        "\u001b[0;34m\u001b[0m    \u001b[0mbest_score\u001b[0m \u001b[0;34m=\u001b[0m \u001b[0;36m0.0\u001b[0m\u001b[0;34m\u001b[0m\n",
        "\u001b[0;34m\u001b[0m    \u001b[0mbest_match\u001b[0m \u001b[0;34m=\u001b[0m \u001b[0mNone\u001b[0m\u001b[0;34m\u001b[0m\n",
        "\u001b[0;34m\u001b[0m    \u001b[0mbest_a1\u001b[0m \u001b[0;34m=\u001b[0m \u001b[0mNone\u001b[0m\u001b[0;34m\u001b[0m\n",
        "\u001b[0;34m\u001b[0m    \u001b[0mbest_a2\u001b[0m \u001b[0;34m=\u001b[0m \u001b[0mNone\u001b[0m\u001b[0;34m\u001b[0m\n",
        "\u001b[0;34m\u001b[0m    \u001b[0;32mfor\u001b[0m \u001b[0mseq_id\u001b[0m\u001b[0;34m,\u001b[0m \u001b[0mseq\u001b[0m \u001b[0;32min\u001b[0m \u001b[0mreference_db\u001b[0m\u001b[0;34m:\u001b[0m\u001b[0;34m\u001b[0m\n",
        "\u001b[0;34m\u001b[0m        \u001b[0;32mif\u001b[0m \u001b[0mrandom\u001b[0m\u001b[0;34m(\u001b[0m\u001b[0;34m)\u001b[0m \u001b[0;34m<\u001b[0m \u001b[0mp\u001b[0m\u001b[0;34m:\u001b[0m\u001b[0;34m\u001b[0m\n",
        "\u001b[0;34m\u001b[0m            \u001b[0malignment\u001b[0m \u001b[0;34m=\u001b[0m \u001b[0maligner\u001b[0m\u001b[0;34m(\u001b[0m\u001b[0mquery\u001b[0m\u001b[0;34m,\u001b[0m \u001b[0mseq\u001b[0m\u001b[0;34m)\u001b[0m\u001b[0;34m\u001b[0m\n",
        "\u001b[0;34m\u001b[0m            \u001b[0mscore\u001b[0m \u001b[0;34m=\u001b[0m \u001b[0malignment\u001b[0m\u001b[0;34m.\u001b[0m\u001b[0mscore\u001b[0m\u001b[0;34m(\u001b[0m\u001b[0;34m)\u001b[0m\u001b[0;34m\u001b[0m\n",
        "\u001b[0;34m\u001b[0m            \u001b[0;32mif\u001b[0m \u001b[0mscore\u001b[0m \u001b[0;34m>\u001b[0m \u001b[0mbest_score\u001b[0m\u001b[0;34m:\u001b[0m\u001b[0;34m\u001b[0m\n",
        "\u001b[0;34m\u001b[0m                \u001b[0mbest_score\u001b[0m \u001b[0;34m=\u001b[0m \u001b[0mscore\u001b[0m\u001b[0;34m\u001b[0m\n",
        "\u001b[0;34m\u001b[0m                \u001b[0mbest_match\u001b[0m \u001b[0;34m=\u001b[0m \u001b[0mseq_id\u001b[0m\u001b[0;34m\u001b[0m\n",
        "\u001b[0;34m\u001b[0m                \u001b[0mbest_a1\u001b[0m \u001b[0;34m=\u001b[0m \u001b[0mstr\u001b[0m\u001b[0;34m(\u001b[0m\u001b[0malignment\u001b[0m\u001b[0;34m[\u001b[0m\u001b[0;36m0\u001b[0m\u001b[0;34m]\u001b[0m\u001b[0;34m)\u001b[0m\u001b[0;34m\u001b[0m\n",
        "\u001b[0;34m\u001b[0m                \u001b[0mbest_a2\u001b[0m \u001b[0;34m=\u001b[0m \u001b[0mstr\u001b[0m\u001b[0;34m(\u001b[0m\u001b[0malignment\u001b[0m\u001b[0;34m[\u001b[0m\u001b[0;36m1\u001b[0m\u001b[0;34m]\u001b[0m\u001b[0;34m)\u001b[0m\u001b[0;34m\u001b[0m\n",
        "\u001b[0;34m\u001b[0m    \u001b[0;32mreturn\u001b[0m \u001b[0mbest_a1\u001b[0m\u001b[0;34m,\u001b[0m \u001b[0mbest_a2\u001b[0m\u001b[0;34m,\u001b[0m \u001b[0mbest_score\u001b[0m\u001b[0;34m,\u001b[0m \u001b[0mbest_match\u001b[0m\u001b[0;34m\u001b[0m\u001b[0m\n",
        "\n"
       ]
      }
     ],
     "prompt_number": 11
    },
    {
     "cell_type": "markdown",
     "metadata": {},
     "source": [
      "Let's pass our initial `query1` (again, an exact match to a database sequence) and see if we get the right answer, and how much runtime is reduced."
     ]
    },
    {
     "cell_type": "code",
     "collapsed": false,
     "input": [
      "start_time = time()\n",
      "a1, a2, score, ref_id = approximated_local_alignment_search_random(query1, reference_db)\n",
      "stop_time = time()\n",
      "\n",
      "print(a1)\n",
      "print(a2)\n",
      "print(score)\n",
      "print(ref_id)\n",
      "print(\"Runtime: %1.4f sec\" % (stop_time - start_time))"
     ],
     "language": "python",
     "metadata": {},
     "outputs": [
      {
       "output_type": "stream",
       "stream": "stdout",
       "text": [
        "GTAACGCGTGGGAACGTGCCCAAAGGTACGGAACAACTCCGGGAAACTGGAGCTAATACCGTATGTGCCCGCAAGGGGAAAGATTTATCGCCTTTGGATCGGCCCGCGTCGGATTAGCTAGTTGGTGGGGTAAAAGCCTACCAAGGCGACGATCCGTAGCTGGTCTGAGAGGATGATCAGCCACACTGGGACTGAGACAC\n",
        "GTAACGCGTGGGAACGTGCCCTTTGGTACGGAACAACTCCGGGAAACTGGAGCTAATACCGTATGTGCCCTTCGGGGGAAAGATTTATCGCCAAAGGATCGGCCCGCGTCTGATTAGCTAGTTGGTGAGGTAACGGCTCACCAAGGCGACGATCAGTAGCTGGTCTGAGAGGATGATTAGCCACACTGGGACTGAGACAC\n",
        "310.0\n",
        "280453\n",
        "Runtime: 0.5130 sec\n"
       ]
      }
     ],
     "prompt_number": 12
    },
    {
     "cell_type": "markdown",
     "metadata": {},
     "source": [
      "In this case, we know what the right answer is, so we can run this a bunch of times and figure out how often we'll get that right answer. In this case, we'll iterate over the first 100 sequences in the reference database and search 50 bases of each against the full database."
     ]
    },
    {
     "cell_type": "code",
     "collapsed": false,
     "input": [
      "results = []\n",
      "\n",
      "for query_id, query_seq in reference_db[:100]:\n",
      "    query_seq = query_seq[50:101]\n",
      "    a1, a2, score, ref_id = approximated_local_alignment_search_random(query_seq, reference_db)\n",
      "    results.append(ref_id == query_id)\n",
      "fraction_correct = results.count(True) / len(results)\n",
      "\n",
      "print(\"We get the right answer %.2f%% of the time.\" % (fraction_correct * 100))"
     ],
     "language": "python",
     "metadata": {},
     "outputs": [
      {
       "output_type": "stream",
       "stream": "stdout",
       "text": [
        "We get the right answer 14.00% of the time.\n"
       ]
      }
     ],
     "prompt_number": 13
    },
    {
     "cell_type": "markdown",
     "metadata": {},
     "source": [
      "How much was the run time reduced here? How often were we right? What do you think: good heurtistic? \n",
      "\n",
      "Let's go with something a little smarter. **We can hypothesize that if the overall composition of a query sequence is different than the overall composition of a reference sequence, it's unlikely that the best alignment will result from that pairwise alignment.** One metric of sequence composition is GC content, so let's use that and only align against sequences whose GC content is within `p` percent of the query sequence."
     ]
    },
    {
     "cell_type": "code",
     "collapsed": false,
     "input": [
      "from iab.algorithms import gc_content, approximated_local_alignment_search_gc\n",
      "%psource gc_content"
     ],
     "language": "python",
     "metadata": {},
     "outputs": [
      {
       "output_type": "stream",
       "stream": "stdout",
       "text": [
        "\u001b[0;32mdef\u001b[0m \u001b[0mgc_content\u001b[0m\u001b[0;34m(\u001b[0m\u001b[0mseq\u001b[0m\u001b[0;34m)\u001b[0m\u001b[0;34m:\u001b[0m\u001b[0;34m\u001b[0m\n",
        "\u001b[0;34m\u001b[0m    \u001b[0;32mreturn\u001b[0m \u001b[0;34m(\u001b[0m\u001b[0mseq\u001b[0m\u001b[0;34m.\u001b[0m\u001b[0mcount\u001b[0m\u001b[0;34m(\u001b[0m\u001b[0;34m'G'\u001b[0m\u001b[0;34m)\u001b[0m \u001b[0;34m+\u001b[0m \u001b[0mseq\u001b[0m\u001b[0;34m.\u001b[0m\u001b[0mcount\u001b[0m\u001b[0;34m(\u001b[0m\u001b[0;34m'C'\u001b[0m\u001b[0;34m)\u001b[0m\u001b[0;34m)\u001b[0m \u001b[0;34m/\u001b[0m \u001b[0mlen\u001b[0m\u001b[0;34m(\u001b[0m\u001b[0mseq\u001b[0m\u001b[0;34m)\u001b[0m\u001b[0;34m\u001b[0m\u001b[0m\n",
        "\n"
       ]
      }
     ],
     "prompt_number": 14
    },
    {
     "cell_type": "code",
     "collapsed": false,
     "input": [
      "gc_contents = {}\n",
      "for seq_id, seq in reference_db:\n",
      "    gc_contents[seq_id] = gc_content(seq)\n",
      "\n",
      "sns.set(style=\"white\", palette=\"muted\")\n",
      "ax = sns.distplot(gc_contents.values())"
     ],
     "language": "python",
     "metadata": {},
     "outputs": [
      {
       "metadata": {},
       "output_type": "display_data",
       "png": "[encoded data removed]",
       "text": [
        "<matplotlib.figure.Figure at 0x107052a50>"
       ]
      }
     ],
     "prompt_number": 15
    },
    {
     "cell_type": "code",
     "collapsed": false,
     "input": [
      "%psource approximated_local_alignment_search_gc"
     ],
     "language": "python",
     "metadata": {},
     "outputs": [
      {
       "output_type": "stream",
       "stream": "stdout",
       "text": [
        "\u001b[0;32mdef\u001b[0m \u001b[0mapproximated_local_alignment_search_gc\u001b[0m\u001b[0;34m(\u001b[0m\u001b[0;34m\u001b[0m\n",
        "\u001b[0;34m\u001b[0m        \u001b[0mquery\u001b[0m\u001b[0;34m,\u001b[0m \u001b[0mreference_db\u001b[0m\u001b[0;34m,\u001b[0m \u001b[0mreference_db_gc_contents\u001b[0m\u001b[0;34m,\u001b[0m \u001b[0mp\u001b[0m\u001b[0;34m=\u001b[0m\u001b[0;36m0.05\u001b[0m\u001b[0;34m,\u001b[0m\u001b[0;34m\u001b[0m\n",
        "\u001b[0;34m\u001b[0m        \u001b[0maligner\u001b[0m\u001b[0;34m=\u001b[0m\u001b[0mlocal_pairwise_align_ssw\u001b[0m\u001b[0;34m)\u001b[0m\u001b[0;34m:\u001b[0m\u001b[0;34m\u001b[0m\n",
        "\u001b[0;34m\u001b[0m    \u001b[0mquery_gc\u001b[0m \u001b[0;34m=\u001b[0m \u001b[0mgc_content\u001b[0m\u001b[0;34m(\u001b[0m\u001b[0mquery\u001b[0m\u001b[0;34m)\u001b[0m\u001b[0;34m\u001b[0m\n",
        "\u001b[0;34m\u001b[0m    \u001b[0mbest_score\u001b[0m \u001b[0;34m=\u001b[0m \u001b[0;36m0.0\u001b[0m\u001b[0;34m\u001b[0m\n",
        "\u001b[0;34m\u001b[0m    \u001b[0mbest_match\u001b[0m \u001b[0;34m=\u001b[0m \u001b[0mNone\u001b[0m\u001b[0;34m\u001b[0m\n",
        "\u001b[0;34m\u001b[0m    \u001b[0mbest_a1\u001b[0m \u001b[0;34m=\u001b[0m \u001b[0mNone\u001b[0m\u001b[0;34m\u001b[0m\n",
        "\u001b[0;34m\u001b[0m    \u001b[0mbest_a2\u001b[0m \u001b[0;34m=\u001b[0m \u001b[0mNone\u001b[0m\u001b[0;34m\u001b[0m\n",
        "\u001b[0;34m\u001b[0m    \u001b[0;32mfor\u001b[0m \u001b[0mseq_id\u001b[0m\u001b[0;34m,\u001b[0m \u001b[0mseq\u001b[0m \u001b[0;32min\u001b[0m \u001b[0mreference_db\u001b[0m\u001b[0;34m:\u001b[0m\u001b[0;34m\u001b[0m\n",
        "\u001b[0;34m\u001b[0m        \u001b[0mref_gc\u001b[0m \u001b[0;34m=\u001b[0m \u001b[0mreference_db_gc_contents\u001b[0m\u001b[0;34m[\u001b[0m\u001b[0mseq_id\u001b[0m\u001b[0;34m]\u001b[0m\u001b[0;34m\u001b[0m\n",
        "\u001b[0;34m\u001b[0m        \u001b[0;32mif\u001b[0m \u001b[0mref_gc\u001b[0m \u001b[0;34m-\u001b[0m \u001b[0mp\u001b[0m \u001b[0;34m<\u001b[0m \u001b[0mquery_gc\u001b[0m \u001b[0;34m<\u001b[0m \u001b[0mref_gc\u001b[0m \u001b[0;34m+\u001b[0m \u001b[0mp\u001b[0m\u001b[0;34m:\u001b[0m\u001b[0;34m\u001b[0m\n",
        "\u001b[0;34m\u001b[0m            \u001b[0malignment\u001b[0m \u001b[0;34m=\u001b[0m \u001b[0maligner\u001b[0m\u001b[0;34m(\u001b[0m\u001b[0mquery\u001b[0m\u001b[0;34m,\u001b[0m \u001b[0mseq\u001b[0m\u001b[0;34m)\u001b[0m\u001b[0;34m\u001b[0m\n",
        "\u001b[0;34m\u001b[0m            \u001b[0mscore\u001b[0m \u001b[0;34m=\u001b[0m \u001b[0malignment\u001b[0m\u001b[0;34m.\u001b[0m\u001b[0mscore\u001b[0m\u001b[0;34m(\u001b[0m\u001b[0;34m)\u001b[0m\u001b[0;34m\u001b[0m\n",
        "\u001b[0;34m\u001b[0m            \u001b[0;32mif\u001b[0m \u001b[0mscore\u001b[0m \u001b[0;34m>\u001b[0m \u001b[0mbest_score\u001b[0m\u001b[0;34m:\u001b[0m\u001b[0;34m\u001b[0m\n",
        "\u001b[0;34m\u001b[0m                \u001b[0mbest_score\u001b[0m \u001b[0;34m=\u001b[0m \u001b[0mscore\u001b[0m\u001b[0;34m\u001b[0m\n",
        "\u001b[0;34m\u001b[0m                \u001b[0mbest_match\u001b[0m \u001b[0;34m=\u001b[0m \u001b[0mseq_id\u001b[0m\u001b[0;34m\u001b[0m\n",
        "\u001b[0;34m\u001b[0m                \u001b[0mbest_a1\u001b[0m \u001b[0;34m=\u001b[0m \u001b[0mstr\u001b[0m\u001b[0;34m(\u001b[0m\u001b[0malignment\u001b[0m\u001b[0;34m[\u001b[0m\u001b[0;36m0\u001b[0m\u001b[0;34m]\u001b[0m\u001b[0;34m)\u001b[0m\u001b[0;34m\u001b[0m\n",
        "\u001b[0;34m\u001b[0m                \u001b[0mbest_a2\u001b[0m \u001b[0;34m=\u001b[0m \u001b[0mstr\u001b[0m\u001b[0;34m(\u001b[0m\u001b[0malignment\u001b[0m\u001b[0;34m[\u001b[0m\u001b[0;36m1\u001b[0m\u001b[0;34m]\u001b[0m\u001b[0;34m)\u001b[0m\u001b[0;34m\u001b[0m\n",
        "\u001b[0;34m\u001b[0m    \u001b[0;32mreturn\u001b[0m \u001b[0mbest_a1\u001b[0m\u001b[0;34m,\u001b[0m \u001b[0mbest_a2\u001b[0m\u001b[0;34m,\u001b[0m \u001b[0mbest_score\u001b[0m\u001b[0;34m,\u001b[0m \u001b[0mbest_match\u001b[0m\u001b[0;34m\u001b[0m\u001b[0m\n",
        "\n"
       ]
      }
     ],
     "prompt_number": 16
    },
    {
     "cell_type": "markdown",
     "metadata": {},
     "source": [
      "If we run our `query1` again, do we get the right answer? How much did we reduce runtime? Do you think this is a better or worse heurtistic? "
     ]
    },
    {
     "cell_type": "code",
     "collapsed": false,
     "input": [
      "start_time = time()\n",
      "a1, a2, score, ref_id = approximated_local_alignment_search_gc(query1, reference_db, gc_contents)\n",
      "stop_time = time()\n",
      "\n",
      "print(a1)\n",
      "print(a2)\n",
      "print(score)\n",
      "print(ref_id)\n",
      "print(\"Runtime: %1.4f sec\" % (stop_time - start_time))"
     ],
     "language": "python",
     "metadata": {},
     "outputs": [
      {
       "output_type": "stream",
       "stream": "stdout",
       "text": [
        "GTAACGCGTGGGAACGTGCCCAAAGGTACGGAACAACTCCGGGAAACTGGAGCTAATACCGTATGTGCCCGCAAGGGGAAAGATTTATCGCCTTTGGATCGGCCCGCGTCGGATTAGCTAGTTGGTGGGGTAAAAGCCTACCAAGGCGACGATCCGTAGCTGGTCTGAGAGGATGATCAGCCACACTGGGACTGAGACAC\n",
        "GTAACGCGTGGGAACGTGCCCAAAGGTACGGAACAACTCCGGGAAACTGGAGCTAATACCGTATGTGCCCGCAAGGGGAAAGATTTATCGCCTTTGGATCGGCCCGCGTCGGATTAGCTAGTTGGTGGGGTAAAAGCCTACCAAGGCGACGATCCGTAGCTGGTCTGAGAGGATGATCAGCCACACTGGGACTGAGACAC\n",
        "400.0\n",
        "112779\n",
        "Runtime: 4.5619 sec\n"
       ]
      }
     ],
     "prompt_number": 17
    },
    {
     "cell_type": "markdown",
     "metadata": {},
     "source": [
      "Let's make the alignment a litte harder by deleting some bases from our query. Now what happens?"
     ]
    },
    {
     "cell_type": "code",
     "collapsed": false,
     "input": [
      "query2 = query1[:75] + query1[85:]\n",
      "start_time = time()\n",
      "a1, a2, score, ref_id = approximated_local_alignment_search_gc(query2, reference_db, gc_contents)\n",
      "stop_time = time()\n",
      "\n",
      "print(a1)\n",
      "print(a2)\n",
      "print(score)\n",
      "print(ref_id)\n",
      "print(\"Runtime: %1.4f sec\" % (stop_time - start_time))"
     ],
     "language": "python",
     "metadata": {},
     "outputs": [
      {
       "output_type": "stream",
       "stream": "stdout",
       "text": [
        "GTAACGCGTGGGAACGTGCCCAAAGGTACGGAACAACTCCGGGAAACTGGAGCTAATACCGTATGTGCCCGCAAG----------TATCGCCTTTGGATCGGCCCGCGTCGGATTAGCTAGTTGGTGGGGTAAAAGCCTACCAAGGCGACGATCCGTAGCTGGTCTGAGAGGATGATCAGCCACACTGGGACTGAGACAC\n",
        "GTAACGCGTGGGAACGTGCCCAAAGGTACGGAACAACTCCGGGAAACTGGAGCTAATACCGTATGTGCCCGCAAGGGGAAAGATTTATCGCCTTTGGATCGGCCCGCGTCGGATTAGCTAGTTGGTGGGGTAAAAGCCTACCAAGGCGACGATCCGTAGCTGGTCTGAGAGGATGATCAGCCACACTGGGACTGAGACAC\n",
        "357.0\n",
        "112779\n",
        "Runtime: 4.1104 sec\n"
       ]
      }
     ],
     "prompt_number": 18
    },
    {
     "cell_type": "markdown",
     "metadata": {},
     "source": [
      "Again, let's look at how many times we'd be right if we ran this on a subsequence of each reference sequence in the database."
     ]
    },
    {
     "cell_type": "code",
     "collapsed": false,
     "input": [
      "results = []\n",
      "\n",
      "for query_id, query_seq in reference_db[:20]:\n",
      "    query_seq = query_seq[50:151]\n",
      "    a1, a2, score, ref_id = approximated_local_alignment_search_gc(query_seq, reference_db, gc_contents)\n",
      "    results.append(ref_id == query_id)\n",
      "fraction_correct = results.count(True) / len(results)\n",
      "\n",
      "print(\"We get the right answer %.2f%% of the time.\" % (fraction_correct * 100))"
     ],
     "language": "python",
     "metadata": {},
     "outputs": [
      {
       "output_type": "stream",
       "stream": "stdout",
       "text": [
        "We get the right answer 85.00% of the time.\n"
       ]
      }
     ],
     "prompt_number": 19
    },
    {
     "cell_type": "markdown",
     "metadata": {},
     "source": [
      "So this is looking a little better. It doesn't get our runtime quite as low, but we seem to get the right answer a lot more often. Our evaluation here was pretty limited though: our query sequences are always perfect subsequences of sequences in the reference database. If you were evaluating heuristics for a real-world application, what are some of the other things you might want to test?\n",
      "\n",
      "**TODO**: Port k-mer composition comparison code from [multiple sequence alignment notebook](http://nbviewer.ipython.org/github/gregcaporaso/An-Introduction-To-Applied-Bioinformatics/blob/master/algorithms/4-multiple-sequence-alignment.ipynb) to look at a third heuristic."
     ]
    },
    {
     "cell_type": "heading",
     "level": 2,
     "metadata": {},
     "source": [
      "Is my alignment \"good\"? Determining whether an alignment is statistically significant."
     ]
    },
    {
     "cell_type": "markdown",
     "metadata": {},
     "source": [
      "You may have noticed that the score you get back for an alignment isn't extremely informative. It's dependent on the query and reference sequence lengths (and possibly composition, depending on your substitution matrix). An important question then is: **is my alignment score good?**\n",
      "\n",
      "Remember that an alignment of a pair of sequences represents a hypothesis about homology between those sequences. So when we are asking whether an alignment is good, what we really want to know is: **what fraction of the time would I obtain a score at least this good if my sequences are not homologous?** If this fraction is high, then our alignment is not good. If it's low, then our alignment is good. What is defined as high and low in this context is dependent on **how often you are willing to be wrong**. \n",
      "\n",
      "If being wrong 5% of the time is acceptable (i.e., you can tolerate a false positive, or calling a pair of sequences homologous when they are actually not, one in twenty times) then you'd set your *cut-off fraction* as 0.05. This fraction is usually call our **alpha**. You have to balance this with how often you can accept false negatives, or deciding that a pair of sequences are not homologous when they actually are. If alpha is high, then you will err on the side of false positives. If alpha is low, then you will err on the side of false negatives. **There is not a hard-and-fast rule for whether false positives or false negatives are better**. It's application specific, so you need to understand your application when making this decision.\n",
      "\n",
      "In general, when might you prefer to have false positives? When might you prefer to have false negatives?\n",
      "\n",
      "**In this section, we are going to empiricially determine if a pairwise alignment is better than we would expect by chance.** For each pair of sequences, we're going to align them to determine the score of the alignment, and then we're going to align pairs of sequences that are similar to the query and reference, but that we know are not homologous. We'll do this by *shuffling* or randomizing the order of the bases in the query sequences, and performing another pairwise alignment."
     ]
    },
    {
     "cell_type": "code",
     "collapsed": false,
     "input": [
      "from random import shuffle, choice\n",
      "from collections import Counter"
     ],
     "language": "python",
     "metadata": {},
     "outputs": [],
     "prompt_number": 20
    },
    {
     "cell_type": "markdown",
     "metadata": {},
     "source": [
      "We're going to use python's `random.shuffle` and `random.choice` functions for this. `random.choice` randomly selects an element from a sequence, so we can use it to contruct a random sequence of length `n` as follows: "
     ]
    },
    {
     "cell_type": "code",
     "collapsed": false,
     "input": [
      "n = 10\n",
      "seq = [choice('ACGT') for e in range(n)]\n",
      "print(\"\".join(seq), Counter(seq))"
     ],
     "language": "python",
     "metadata": {},
     "outputs": [
      {
       "output_type": "stream",
       "stream": "stdout",
       "text": [
        "TGTCTCGCTG Counter({'T': 4, 'C': 3, 'G': 3})\n"
       ]
      }
     ],
     "prompt_number": 21
    },
    {
     "cell_type": "markdown",
     "metadata": {},
     "source": [
      "`random.shuffle` randomly re-orders the order of the elements in a sequence, but keeps the composition and length of the sequence the same. Run this next cell a few times to see the sequences that are generated."
     ]
    },
    {
     "cell_type": "code",
     "collapsed": false,
     "input": [
      "shuffle(seq)\n",
      "print(\"\".join(seq), Counter(seq))\n",
      "shuffle(seq)\n",
      "print(\"\".join(seq), Counter(seq))"
     ],
     "language": "python",
     "metadata": {},
     "outputs": [
      {
       "output_type": "stream",
       "stream": "stdout",
       "text": [
        "GTGCCTTGCT Counter({'T': 4, 'C': 3, 'G': 3})\n",
        "GTTGCCTGTC Counter({'T': 4, 'C': 3, 'G': 3})\n"
       ]
      }
     ],
     "prompt_number": 22
    },
    {
     "cell_type": "markdown",
     "metadata": {},
     "source": [
      "Let's generate a random query sequence. Then we'll generate 99 random variants of that sequence with ``shuffle`` and compute the pairwise alignment for each of those variants against the query sequence. We'll then look at the distribution of those scores."
     ]
    },
    {
     "cell_type": "code",
     "collapsed": false,
     "input": [
      "query_seq = [choice('ACGT') for e in range(40)]\n",
      "''.join(query_seq)"
     ],
     "language": "python",
     "metadata": {},
     "outputs": [
      {
       "metadata": {},
       "output_type": "pyout",
       "prompt_number": 23,
       "text": [
        "'TATCTAAAATCTTGTCCGGGAGTTTGTGCTCTGAGCAGGT'"
       ]
      }
     ],
     "prompt_number": 23
    },
    {
     "cell_type": "code",
     "collapsed": false,
     "input": [
      "from iab.algorithms import generate_random_score_distribution\n",
      "%psource generate_random_score_distribution"
     ],
     "language": "python",
     "metadata": {},
     "outputs": [
      {
       "output_type": "stream",
       "stream": "stdout",
       "text": [
        "\u001b[0;32mdef\u001b[0m \u001b[0mgenerate_random_score_distribution\u001b[0m\u001b[0;34m(\u001b[0m\u001b[0mquery_sequence\u001b[0m\u001b[0;34m,\u001b[0m\u001b[0;34m\u001b[0m\n",
        "\u001b[0;34m\u001b[0m                                       \u001b[0msubject_sequence\u001b[0m\u001b[0;34m,\u001b[0m\u001b[0;34m\u001b[0m\n",
        "\u001b[0;34m\u001b[0m                                       \u001b[0mn\u001b[0m\u001b[0;34m=\u001b[0m\u001b[0;36m99\u001b[0m\u001b[0;34m,\u001b[0m\u001b[0;34m\u001b[0m\n",
        "\u001b[0;34m\u001b[0m                                       \u001b[0maligner\u001b[0m\u001b[0;34m=\u001b[0m\u001b[0mlocal_pairwise_align_ssw\u001b[0m\u001b[0;34m)\u001b[0m\u001b[0;34m:\u001b[0m\u001b[0;34m\u001b[0m\n",
        "\u001b[0;34m\u001b[0m    \u001b[0mresult\u001b[0m \u001b[0;34m=\u001b[0m \u001b[0;34m[\u001b[0m\u001b[0;34m]\u001b[0m\u001b[0;34m\u001b[0m\n",
        "\u001b[0;34m\u001b[0m    \u001b[0mrandom_sequence\u001b[0m \u001b[0;34m=\u001b[0m \u001b[0mlist\u001b[0m\u001b[0;34m(\u001b[0m\u001b[0mquery_sequence\u001b[0m\u001b[0;34m)\u001b[0m\u001b[0;34m\u001b[0m\n",
        "\u001b[0;34m\u001b[0m    \u001b[0;32mfor\u001b[0m \u001b[0mi\u001b[0m \u001b[0;32min\u001b[0m \u001b[0mrange\u001b[0m\u001b[0;34m(\u001b[0m\u001b[0mn\u001b[0m\u001b[0;34m)\u001b[0m\u001b[0;34m:\u001b[0m\u001b[0;34m\u001b[0m\n",
        "\u001b[0;34m\u001b[0m        \u001b[0mshuffle\u001b[0m\u001b[0;34m(\u001b[0m\u001b[0mrandom_sequence\u001b[0m\u001b[0;34m)\u001b[0m\u001b[0;34m\u001b[0m\n",
        "\u001b[0;34m\u001b[0m        \u001b[0malignment\u001b[0m \u001b[0;34m=\u001b[0m \u001b[0maligner\u001b[0m\u001b[0;34m(\u001b[0m\u001b[0mrandom_sequence\u001b[0m\u001b[0;34m,\u001b[0m\u001b[0msubject_sequence\u001b[0m\u001b[0;34m)\u001b[0m\u001b[0;34m\u001b[0m\n",
        "\u001b[0;34m\u001b[0m        \u001b[0mresult\u001b[0m\u001b[0;34m.\u001b[0m\u001b[0mappend\u001b[0m\u001b[0;34m(\u001b[0m\u001b[0malignment\u001b[0m\u001b[0;34m.\u001b[0m\u001b[0mscore\u001b[0m\u001b[0;34m(\u001b[0m\u001b[0;34m)\u001b[0m\u001b[0;34m)\u001b[0m\u001b[0;34m\u001b[0m\n",
        "\u001b[0;34m\u001b[0m    \u001b[0;32mreturn\u001b[0m \u001b[0mresult\u001b[0m\u001b[0;34m\u001b[0m\u001b[0m\n",
        "\n"
       ]
      }
     ],
     "prompt_number": 24
    },
    {
     "cell_type": "code",
     "collapsed": false,
     "input": [
      "random_scores = generate_random_score_distribution(query_seq, query_seq)\n",
      "print(random_scores)"
     ],
     "language": "python",
     "metadata": {},
     "outputs": [
      {
       "output_type": "stream",
       "stream": "stdout",
       "text": [
        "[10.0, 9.0, 10.0, 10.0, 12.0, 10.0, 12.0, 10.0, 13.0, 8.0, 10.0, 10.0, 8.0, 9.0, 10.0, 14.0, 10.0, 10.0, 10.0, 13.0, 10.0, 10.0, 10.0, 10.0, 10.0, 10.0, 10.0, 8.0, 12.0, 12.0, 9.0, 11.0, 12.0, 9.0, 11.0, 12.0, 11.0, 10.0, 11.0, 10.0, 12.0, 10.0, 8.0, 18.0, 11.0, 9.0, 11.0, 12.0, 9.0, 10.0, 9.0, 14.0, 15.0, 11.0, 9.0, 8.0, 10.0, 11.0, 10.0, 10.0, 10.0, 16.0, 12.0, 10.0, 10.0, 10.0, 8.0, 11.0, 12.0, 10.0, 9.0, 10.0, 12.0, 8.0, 10.0, 10.0, 12.0, 16.0, 10.0, 8.0, 12.0, 14.0, 12.0, 10.0, 12.0, 10.0, 9.0, 10.0, 11.0, 10.0, 10.0, 10.0, 12.0, 11.0, 8.0, 8.0, 10.0, 12.0, 8.0]\n"
       ]
      }
     ],
     "prompt_number": 25
    },
    {
     "cell_type": "code",
     "collapsed": false,
     "input": [
      "import matplotlib.pyplot as plt\n",
      "\n",
      "n, bins, patches = plt.hist(random_scores, facecolor='green', alpha=0.5, bins=range(0,100,1), normed=1)\n",
      "plt.xlabel('Score')\n",
      "plt.ylabel('Frequency')"
     ],
     "language": "python",
     "metadata": {},
     "outputs": [
      {
       "metadata": {},
       "output_type": "pyout",
       "prompt_number": 26,
       "text": [
        "<matplotlib.text.Text at 0x10de64390>"
       ]
      },
      {
       "metadata": {},
       "output_type": "display_data",
       "png": "[encoded data removed]",
       "text": [
        "<matplotlib.figure.Figure at 0x107052810>"
       ]
      }
     ],
     "prompt_number": 26
    },
    {
     "cell_type": "markdown",
     "metadata": {},
     "source": [
      "Next, we'll compute the score for aligning the query sequence against itself. How does the actual score compare to the random distribution of scores? What does that suggest about our alignment?"
     ]
    },
    {
     "cell_type": "code",
     "collapsed": false,
     "input": [
      "alignment = local_pairwise_align_ssw(query_seq, query_seq)\n",
      "print(alignment.score())\n",
      "\n",
      "# plot the distribution of random scores, but add in the actual score\n",
      "n, bins, patches = plt.hist(random_scores + [alignment.score()], facecolor='green', alpha=0.5, bins=range(0,100,1), normed=1)\n",
      "plt.xlabel('Score')\n",
      "plt.ylabel('Frequency')"
     ],
     "language": "python",
     "metadata": {},
     "outputs": [
      {
       "output_type": "stream",
       "stream": "stdout",
       "text": [
        "80.0\n"
       ]
      },
      {
       "metadata": {},
       "output_type": "pyout",
       "prompt_number": 27,
       "text": [
        "<matplotlib.text.Text at 0x10e06d290>"
       ]
      },
      {
       "metadata": {},
       "output_type": "display_data",
       "png": "[encoded data removed]",
       "text": [
        "<matplotlib.figure.Figure at 0x1070d1a10>"
       ]
      }
     ],
     "prompt_number": 27
    },
    {
     "cell_type": "markdown",
     "metadata": {},
     "source": [
      "**Let's do this experiment again, but this time quanitfy the result by computing the fraction of the random alignments that achieve equal or better scores than the random sequences.**"
     ]
    },
    {
     "cell_type": "code",
     "collapsed": false,
     "input": [
      "from iab.algorithms import fraction_better_or_equivalent_alignments\n",
      "%psource fraction_better_or_equivalent_alignments"
     ],
     "language": "python",
     "metadata": {},
     "outputs": [
      {
       "output_type": "stream",
       "stream": "stdout",
       "text": [
        "\u001b[0;32mdef\u001b[0m \u001b[0mfraction_better_or_equivalent_alignments\u001b[0m\u001b[0;34m(\u001b[0m\u001b[0mquery_sequence\u001b[0m\u001b[0;34m,\u001b[0m\u001b[0;34m\u001b[0m\n",
        "\u001b[0;34m\u001b[0m                                             \u001b[0msubject_sequence\u001b[0m\u001b[0;34m,\u001b[0m\u001b[0;34m\u001b[0m\n",
        "\u001b[0;34m\u001b[0m                                             \u001b[0mn\u001b[0m \u001b[0;34m=\u001b[0m \u001b[0;36m99\u001b[0m\u001b[0;34m,\u001b[0m\u001b[0;34m\u001b[0m\n",
        "\u001b[0;34m\u001b[0m                                             \u001b[0maligner\u001b[0m\u001b[0;34m=\u001b[0m\u001b[0mlocal_pairwise_align_ssw\u001b[0m\u001b[0;34m)\u001b[0m\u001b[0;34m:\u001b[0m\u001b[0;34m\u001b[0m\n",
        "\u001b[0;34m\u001b[0m    \u001b[0mrandom_scores\u001b[0m \u001b[0;34m=\u001b[0m \u001b[0mgenerate_random_score_distribution\u001b[0m\u001b[0;34m(\u001b[0m\u001b[0mquery_sequence\u001b[0m\u001b[0;34m,\u001b[0m\u001b[0;34m\u001b[0m\n",
        "\u001b[0;34m\u001b[0m                                                       \u001b[0msubject_sequence\u001b[0m\u001b[0;34m,\u001b[0m\u001b[0;34m\u001b[0m\n",
        "\u001b[0;34m\u001b[0m                                                       \u001b[0mn\u001b[0m\u001b[0;34m,\u001b[0m\u001b[0;34m\u001b[0m\n",
        "\u001b[0;34m\u001b[0m                                                       \u001b[0maligner\u001b[0m\u001b[0;34m=\u001b[0m\u001b[0maligner\u001b[0m\u001b[0;34m)\u001b[0m\u001b[0;34m\u001b[0m\n",
        "\u001b[0;34m\u001b[0m    \u001b[0malignment\u001b[0m \u001b[0;34m=\u001b[0m \u001b[0maligner\u001b[0m\u001b[0;34m(\u001b[0m\u001b[0mquery_sequence\u001b[0m\u001b[0;34m,\u001b[0m \u001b[0msubject_sequence\u001b[0m\u001b[0;34m)\u001b[0m\u001b[0;34m\u001b[0m\n",
        "\u001b[0;34m\u001b[0m\u001b[0;34m\u001b[0m\n",
        "\u001b[0;34m\u001b[0m    \u001b[0mcount_better\u001b[0m \u001b[0;34m=\u001b[0m \u001b[0;36m0\u001b[0m\u001b[0;34m\u001b[0m\n",
        "\u001b[0;34m\u001b[0m    \u001b[0;32mfor\u001b[0m \u001b[0me\u001b[0m \u001b[0;32min\u001b[0m \u001b[0mrandom_scores\u001b[0m\u001b[0;34m:\u001b[0m\u001b[0;34m\u001b[0m\n",
        "\u001b[0;34m\u001b[0m        \u001b[0;32mif\u001b[0m \u001b[0me\u001b[0m \u001b[0;34m>=\u001b[0m \u001b[0malignment\u001b[0m\u001b[0;34m.\u001b[0m\u001b[0mscore\u001b[0m\u001b[0;34m(\u001b[0m\u001b[0;34m)\u001b[0m\u001b[0;34m:\u001b[0m\u001b[0;34m\u001b[0m\n",
        "\u001b[0;34m\u001b[0m            \u001b[0mcount_better\u001b[0m \u001b[0;34m+=\u001b[0m \u001b[0;36m1\u001b[0m\u001b[0;34m\u001b[0m\n",
        "\u001b[0;34m\u001b[0m\u001b[0;34m\u001b[0m\n",
        "\u001b[0;34m\u001b[0m    \u001b[0;32mreturn\u001b[0m \u001b[0mcount_better\u001b[0m \u001b[0;34m/\u001b[0m \u001b[0;34m(\u001b[0m\u001b[0mn\u001b[0m \u001b[0;34m+\u001b[0m \u001b[0;36m1\u001b[0m\u001b[0;34m)\u001b[0m\u001b[0;34m\u001b[0m\u001b[0m\n",
        "\n"
       ]
      }
     ],
     "prompt_number": 28
    },
    {
     "cell_type": "code",
     "collapsed": false,
     "input": [
      "print(fraction_better_or_equivalent_alignments(query_seq, query_seq))"
     ],
     "language": "python",
     "metadata": {},
     "outputs": [
      {
       "output_type": "stream",
       "stream": "stdout",
       "text": [
        "0.0\n"
       ]
      }
     ],
     "prompt_number": 29
    },
    {
     "cell_type": "markdown",
     "metadata": {},
     "source": [
      "What does this tell us about the quality of our alignment?\n",
      "\n",
      "Let's now try this for some harder cases, where the query and subject sequences are not identical. \n",
      "\n",
      "First, let's generate a longer subject sequence at random. Then, we'll create a random query sequence and compare it. Since we're doing this in two random steps, we know that these sequences are not homologous. Does the resulting fraction reflect that?"
     ]
    },
    {
     "cell_type": "code",
     "collapsed": false,
     "input": [
      "subject = \"\".join([choice('ACGT') for e in range(250)])\n",
      "query = \"\".join([choice('ACGT') for e in range(250)])\n",
      "\n",
      "print(query)\n",
      "print(subject)"
     ],
     "language": "python",
     "metadata": {},
     "outputs": [
      {
       "output_type": "stream",
       "stream": "stdout",
       "text": [
        "GTGGCAGCTAATTTAGAATAAGGTAGAGGCATTTGAGAGCCCCTCATGGCGCTCTGTTGTACGCCTTATGTCGCCAGTAAAACGAAGGTGATTATTTATGGAGGGCCATTATTTCTCTTCCCTACTATAAGGAGCTGATGCCAACATTTTGCATTATACTTTCACGCAGAAAATTAGCCACGAGGGAACCGGGCGGCGAGTGATGATATCAGGCTCAAACAATTCATCAGTACGCCCCTGAGCTGCGATC\n",
        "CATGCCTATCACGCCGGGATCTGCAGCCCCAGCGGAGTAGAATAGGATATTTTGCTGCGCCTTGATCAACCACTATCCAGTCGTCCTCTATCGAGTAAGCTGTGTGCGGTCGCCGACCCCCCAAAGGGTGCTATTCTGTGGTGGGTCCCTATGGTAGCGGTATATGTAGCCGGAATGGCCGCCTCTGCGTGCACACGAGATGAATTTTATAATGTTGGTCACCACGTTGTGCCCGCGTCTTAATACGTTT\n"
       ]
      }
     ],
     "prompt_number": 30
    },
    {
     "cell_type": "code",
     "collapsed": false,
     "input": [
      "print(fraction_better_or_equivalent_alignments(query,subject))"
     ],
     "language": "python",
     "metadata": {},
     "outputs": [
      {
       "output_type": "stream",
       "stream": "stdout",
       "text": [
        "0.96\n"
       ]
      }
     ],
     "prompt_number": 31
    },
    {
     "cell_type": "markdown",
     "metadata": {},
     "source": [
      "**We've now look at two extremes: where sequences are obviously homologous, and where sequences are obviously not homologous. Next, we'll explore the region between these.** We'll obscurce the homology of a pair of sequences by randomly introducing some number of substitutions to make them approximately ``percent_id`` equal. By doing this, we can explore how this strategy works for increasingly more distantly related pairs of sequences."
     ]
    },
    {
     "cell_type": "code",
     "collapsed": false,
     "input": [
      "def query_at_percent_id(percent_id, subject):\n",
      "    result = []\n",
      "    for b in subject:\n",
      "        if random() < percent_id:\n",
      "            result.append(b)\n",
      "        else:\n",
      "            # choose a base at random that is not the current base\n",
      "            # i.e., simulate a substitution event\n",
      "            result.append(choice([c for c in 'ACGT' if c != b]))\n",
      "    return ''.join(result)"
     ],
     "language": "python",
     "metadata": {},
     "outputs": [],
     "prompt_number": 32
    },
    {
     "cell_type": "code",
     "collapsed": false,
     "input": [
      "q = query_at_percent_id(0.95,subject)\n",
      "print(q)\n",
      "print(subject)\n",
      "print(fraction_better_or_equivalent_alignments(q,subject))"
     ],
     "language": "python",
     "metadata": {},
     "outputs": [
      {
       "output_type": "stream",
       "stream": "stdout",
       "text": [
        "CATGCCTATCACGCCGGGATCTGCAGCCCCAGCGGAGTAGAATAGGATATTTTGCTGCGCCTTGATCAACCACTAACCAGTCGTCCTATATCGAGTAAGCTGTGTGCGGTCGCCGACCCCCCAAAGGGTGCTATTCTGTGATGGGTCCCTATGTTCGCGGTTTATGCAGCCGGAATGGCCGCCTCTGCGTGCACACGAGATGAATTTCATAATGTTGGTCACCCCGTTGTGCCCGCGTCTTAATACGTTC\n",
        "CATGCCTATCACGCCGGGATCTGCAGCCCCAGCGGAGTAGAATAGGATATTTTGCTGCGCCTTGATCAACCACTATCCAGTCGTCCTCTATCGAGTAAGCTGTGTGCGGTCGCCGACCCCCCAAAGGGTGCTATTCTGTGGTGGGTCCCTATGGTAGCGGTATATGTAGCCGGAATGGCCGCCTCTGCGTGCACACGAGATGAATTTTATAATGTTGGTCACCACGTTGTGCCCGCGTCTTAATACGTTT\n",
        "0.0"
       ]
      },
      {
       "output_type": "stream",
       "stream": "stdout",
       "text": [
        "\n"
       ]
      }
     ],
     "prompt_number": 33
    },
    {
     "cell_type": "code",
     "collapsed": false,
     "input": [
      "q = query_at_percent_id(0.25,subject)\n",
      "print(q)\n",
      "print(subject)\n",
      "print(fraction_better_or_equivalent_alignments(q,subject))"
     ],
     "language": "python",
     "metadata": {},
     "outputs": [
      {
       "output_type": "stream",
       "stream": "stdout",
       "text": [
        "GATTCAGTCTACTCCTCCTTGCAGATGTGGGTCCGTGCGACTGTGCAAGAATGCGGAAGGCGAATGATGCGCTTAGACTTCACCAGCGAAAACGGGTTACCTCGGTATGTACGATCTCTCGAAGGATTGCATCTTACTATACAGAACCGATGTTAAGTCTACGCCAAGGACGATGCGGCGAACGGTATTTTCCTCCAGGTAAGTCCGCTAAGTTAACTAGCCTACATGCTAGGGGAGCTCATTTGTATAA\n",
        "CATGCCTATCACGCCGGGATCTGCAGCCCCAGCGGAGTAGAATAGGATATTTTGCTGCGCCTTGATCAACCACTATCCAGTCGTCCTCTATCGAGTAAGCTGTGTGCGGTCGCCGACCCCCCAAAGGGTGCTATTCTGTGGTGGGTCCCTATGGTAGCGGTATATGTAGCCGGAATGGCCGCCTCTGCGTGCACACGAGATGAATTTTATAATGTTGGTCACCACGTTGTGCCCGCGTCTTAATACGTTT\n",
        "0.72"
       ]
      },
      {
       "output_type": "stream",
       "stream": "stdout",
       "text": [
        "\n"
       ]
      }
     ],
     "prompt_number": 34
    },
    {
     "cell_type": "markdown",
     "metadata": {},
     "source": [
      "In this case we know that our input sequences are \"homologous\" because `query` is derived from `subject`. Our method detected that homology when `query` was roughly 95% identical to `subject` (because we got a low fraction) but did not detect that homology when `query` was roughly 25% identicial to `subject`. This gives us an idea of the limit of detection of this method, and is a **real-world problem that biologists face: as sequences are more divergent from one another, detecting homology becomes increasingly difficult.**\n",
      "\n",
      "**If we want to gain some insight into our limit of detection, we can run a simulation.** If we simulate alignment of different pairs of sequences in steps of different percent identities, we can see where we start failing to observe homology. The following cell illustrates a very simplistic simulation, though this still takes a few minutes to run. \n",
      "\n",
      "What does this tell us about our limit of detection for homology? What are some things that we might want to do more robustly if we weren't as concerned about runtime?"
     ]
    },
    {
     "cell_type": "code",
     "collapsed": false,
     "input": [
      "from numpy import arange, median\n",
      "\n",
      "percent_ids = arange(0.0, 1.0, 0.05)\n",
      "num_trials = 10\n",
      "\n",
      "for percent_id in percent_ids:\n",
      "    p_values = []\n",
      "    for i in range(num_trials):\n",
      "        subject = \"\".join([choice('ACGT') for e in range(250)])\n",
      "        q = query_at_percent_id(percent_id,subject)\n",
      "        p = fraction_better_or_equivalent_alignments(q,subject)\n",
      "        p_values.append(p)\n",
      "    print(percent_id, median(p_values), mean(p_values))"
     ],
     "language": "python",
     "metadata": {},
     "outputs": [
      {
       "output_type": "stream",
       "stream": "stdout",
       "text": [
        "0.0 0.315 0.418\n",
        "0.05"
       ]
      },
      {
       "output_type": "stream",
       "stream": "stdout",
       "text": [
        " 0.785 0.686\n",
        "0.1"
       ]
      },
      {
       "output_type": "stream",
       "stream": "stdout",
       "text": [
        " 0.59 0.55\n",
        "0.15"
       ]
      },
      {
       "output_type": "stream",
       "stream": "stdout",
       "text": [
        " 0.62 0.551\n",
        "0.2"
       ]
      },
      {
       "output_type": "stream",
       "stream": "stdout",
       "text": [
        " 0.48 0.517\n",
        "0.25"
       ]
      },
      {
       "output_type": "stream",
       "stream": "stdout",
       "text": [
        " 0.54 0.584\n",
        "0.3"
       ]
      },
      {
       "output_type": "stream",
       "stream": "stdout",
       "text": [
        " 0.74 0.69\n",
        "0.35"
       ]
      },
      {
       "output_type": "stream",
       "stream": "stdout",
       "text": [
        " 0.775 0.612\n",
        "0.4"
       ]
      },
      {
       "output_type": "stream",
       "stream": "stdout",
       "text": [
        " 0.59 0.554\n",
        "0.45"
       ]
      },
      {
       "output_type": "stream",
       "stream": "stdout",
       "text": [
        " 0.475 0.423\n",
        "0.5"
       ]
      },
      {
       "output_type": "stream",
       "stream": "stdout",
       "text": [
        " 0.02 0.107\n",
        "0.55"
       ]
      },
      {
       "output_type": "stream",
       "stream": "stdout",
       "text": [
        " 0.0 0.104\n",
        "0.6"
       ]
      },
      {
       "output_type": "stream",
       "stream": "stdout",
       "text": [
        " 0.0 0.006\n",
        "0.65"
       ]
      },
      {
       "output_type": "stream",
       "stream": "stdout",
       "text": [
        " 0.0 0.0\n",
        "0.7"
       ]
      },
      {
       "output_type": "stream",
       "stream": "stdout",
       "text": [
        " 0.0 0.0\n",
        "0.75"
       ]
      },
      {
       "output_type": "stream",
       "stream": "stdout",
       "text": [
        " 0.0 0.0\n",
        "0.8"
       ]
      },
      {
       "output_type": "stream",
       "stream": "stdout",
       "text": [
        " 0.0 0.0\n",
        "0.85"
       ]
      },
      {
       "output_type": "stream",
       "stream": "stdout",
       "text": [
        " 0.0 0.0\n",
        "0.9"
       ]
      },
      {
       "output_type": "stream",
       "stream": "stdout",
       "text": [
        " 0.0 0.0\n",
        "0.95"
       ]
      },
      {
       "output_type": "stream",
       "stream": "stdout",
       "text": [
        " 0.0 0.0\n"
       ]
      }
     ],
     "prompt_number": 35
    }
   ],
   "metadata": {}
  }
 ]
}