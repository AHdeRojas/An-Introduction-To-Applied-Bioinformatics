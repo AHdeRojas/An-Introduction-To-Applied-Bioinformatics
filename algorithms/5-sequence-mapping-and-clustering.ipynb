{
 "metadata": {
  "name": ""
 },
 "nbformat": 3,
 "nbformat_minor": 0,
 "worksheets": [
  {
   "cells": [
    {
     "cell_type": "heading",
     "level": 1,
     "metadata": {},
     "source": [
      "Sequence mapping and clustering"
     ]
    },
    {
     "cell_type": "markdown",
     "metadata": {},
     "source": [
      "A common need in bioinformatics is, given a number of *query* sequences, group them based on their similarity either to one another, or their similarity to sequences in an external reference database, or to both. The most common way to do this is using sequence alignment (you may be noticing a theme here...).\n",
      "\n",
      "The process of searching a set of sequences against a reference database to find their best match is typically referred to a **sequence mapping**. One example of this would be in *genome re-sequencing*. If you're searching for polymorphisms in the human genome that may be associated with a phenotype (e.g., a particular disease) you might begin by sequencing the full human genome. Because the human genome has been fully sequenced and (mostly) assembled, you could map your short sequence reads against the full human genome, and then search for loci (or co-located sets of one or more bases) that vary with the phenotype of interest. Because this process is generally performed with DNA sequencing reads, you may also hear it referred to as *read mapping*.\n",
      "\n",
      "A similar process can be applied if there is no reference database to search against. In this case, sequences will be grouped together based on their similarity to one another. This is most often applied to reads of a single gene or locus across the genomes of many different organisms. This process is referred to as **de novo sequence clustering**, and one field where this is common is **microbiomics**, or the study of whole communities of microorganisms. Because we don't know how to cluster the vast majority of microbes, most of what we know about the composition of microbial communities (e.g., in free-living environments, such as the ocean, soil, or surfaces in our homes or offices, or in host-associated environments, such as the human gut) is based on sequencing specific marker genes such as the 16S rRNA from all community members. If we obtain a large number of sequence reads, many of the things we want to do with them (such as identify their taxonomic origin, or understand where they fall in a phylogenetic tree) is too computationally intensive to achieve. So instead, we group sequences that are identicial or highly similar in composition into **Operational Taxonomic Units (OTUs)**, and we choose a single representative of that OTU to work with downstream. For example, if we have a group of 16S rRNA reads that are within 97% identity to one member of that cluster (the cluster centroid) we may assume that the taxonomic origin of the cluster centroid is the same as the taxonomic origin of all of the sequences in the group. This is an *assumption* - it may or may not be true - but it is a necessary evil given the current technology. \n",
      "\n",
      "Another application of grouping similar sequences (or **OTU clustering**, or **OTU picking**, as it is sometimes referred to) is in grouping sequences in a database before investigating them, to reduce taxonomic bias in the database. For example, *E. coli* is one of the most heavily sequenced microbes. If you're interested in understanding the frequency of variants of a specific gene across a range of microbial diversity, you might begin by obtatining all sequences of that gene from [GenBank](https://www.ncbi.nlm.nih.gov/genbank/). Because there may be many more *E. coli* sequences, purely because of sequencing bias, you'd likely want to group your sequences into OTUs before computing variant frequencies, so your calculations are not biased toward the frequencies in *E. coli*, as hundreds of E. coli sequences would likely group to one or a few closely related OTUs. In other words, you're trying to find a **divergent set** of sequences to work with (and an [aptly named tool](http://www.ncbi.nlm.nih.gov/pubmed/16769708) was published in 2006 to automate this process).\n",
      "\n",
      "We have learned the key tools we need for both sequence mapping and clustering in previous chapters. **Because the process of read mapping is nearly identical to database searching, in this chapter we'll start by exploring how to perform de novo sequence clustering**. At the end of the chapter we'll look at a case where we combine sequence clustering with sequence mapping, which arose to deal with massive sequence datasets generated in microbiomics.\n",
      "\n",
      "First, let's do some notebook configuration."
     ]
    },
    {
     "cell_type": "code",
     "collapsed": false,
     "input": [
      "from __future__ import print_function, division\n",
      "import matplotlib.pyplot as plt\n",
      "from IPython.core import page\n",
      "page.page = print"
     ],
     "language": "python",
     "metadata": {},
     "outputs": [],
     "prompt_number": 1
    },
    {
     "cell_type": "heading",
     "level": 2,
     "metadata": {},
     "source": [
      "*De novo* clustering of sequences by similarity "
     ]
    },
    {
     "cell_type": "markdown",
     "metadata": {},
     "source": [
      "The algorithm at the core of *de novo* clustering is sequence alignment. In an ideal world, we would perform a full multiple sequence alignment with either Smith-Waterman or Needleman-Wunsh of all of our sequences, compute their pairwise similarities (or dissimilarities), and use those values to group sequences that are above some *similarity threshold* into *OTU clusters* (just *OTUs* from here). As we discussed in the mutliple sequence alignment chapter however, that is infeasible for more than a few tens of sequences due to computational and memory requirements. Even progressive alignment can't typically handle more than a few tens of thousands of sequences (at least with the currently available implementations, that I am aware of), so OTU clustering is generally acheived by picking pairs of sequences to align. You'll notice in this section that many of the heuristics that have been applied for speeding up database searching are similar to the heuristics applied for OTU clustering.\n",
      "\n",
      "We'll work with our previously defined Smith-Waterman with affine gap scoring here."
     ]
    },
    {
     "cell_type": "code",
     "collapsed": false,
     "input": [
      "from skbio.core.alignment import SequenceCollection\n",
      "from skbio.core.sequence import DNA\n",
      "from skbio.parse.sequences import parse_fasta\n",
      "\n",
      "from iab.algorithms import sw_align_affine_gap_nt"
     ],
     "language": "python",
     "metadata": {},
     "outputs": [],
     "prompt_number": 2
    },
    {
     "cell_type": "code",
     "collapsed": false,
     "input": [
      "help(sw_align_affine_gap_nt)"
     ],
     "language": "python",
     "metadata": {},
     "outputs": [
      {
       "output_type": "stream",
       "stream": "stdout",
       "text": [
        "Help on function sw_align_affine_gap_nt in module iab.algorithms:\n",
        "\n",
        "sw_align_affine_gap_nt(sequence1, sequence2, gap_open_penalty=5, gap_extend_penalty=2, substitution_matrix=None)\n",
        "    Locally align two nucleotide seqs (Smith-Waterman w affine gap scoring)\n",
        "    \n",
        "    Parameters\n",
        "    ----------\n",
        "    sequence1 : string\n",
        "        The first unaligned sequence\n",
        "    sequence2 : string\n",
        "        The second unaligned sequence\n",
        "    gap_open_penalty : int, float, optional\n",
        "        penalty for opening a gap (this is substracted from previous best\n",
        "        alignment score, so is typically positive)\n",
        "    gap_extend_penalty : int, float, optional\n",
        "        penalty for extending a gap (this is substracted from previous best\n",
        "        alignment score, so is typically positive)\n",
        "    substitution_matrix: 2D dict (or similar), optional\n",
        "        lookup for substitution scores (these values are added to the \n",
        "        previous best alignment score); default is nt_substitution_matrix\n",
        "     \n",
        "    Returns\n",
        "    -------\n",
        "    string\n",
        "       The first aligned sequence\n",
        "    string\n",
        "       The second aligned sequence\n",
        "    float\n",
        "       The score of the alignment\n",
        "    int\n",
        "       The start position of the alignment in sequence 1\n",
        "    int\n",
        "       The start position of the alignment in sequence 2\n",
        "    \n",
        "    Examples\n",
        "    --------\n",
        "    >>> from iab.algorithms import sw_align_affine_gap_nt\n",
        "    >>> s1 = \"GCGTGCCTAAGGTATGCAAG\"\n",
        "    >>> s2 = \"ACGTGCCTAGGTACGCAAG\"\n",
        "    >>> a1, a2, score, a1_start, a2_start = sw_align_affine_gap_nt(s1, s2)\n",
        "    >>> print a1\n",
        "    CGTGCCTAAGGTATGCAAG\n",
        "    >>> print a2\n",
        "    CGTGCCT-AGGTACGCAAG\n",
        "\n"
       ]
      }
     ],
     "prompt_number": 3
    },
    {
     "cell_type": "markdown",
     "metadata": {},
     "source": [
      "<div style=\"float: right; margin-left: 30px;\"><img style=\"float: right; margin-left: 30px;\" src=\"files/images/cluster-legend.png\" align=right></div>\n",
      "\n",
      "In the figures that follow, points represent sequences. A line projecting from a point indicates a dissimilarity range from that sequence (e.g., 10% dissimilar). The circle defined by the point (sequence) and the line (dissimilarity range) define the space containing all sequences within a given dissimilarity threshold.\n",
      "\n",
      "These illustrations are used to describe OTUs. When a circle or set of overlapping circles are filled with grey, that defines the space that a new sequence can fall in if it will be considered part of the OTU. In the the following sections we'll explore different ways that this can be defined.\n",
      "\n",
      "*These figures attempt to illustrate several ideas about OTU clustering, but because the space that we're working in is two dimensional, we can't perfectly represent the process. These figures are useful as visual aid, but should not be considered mathematically robust.* \n",
      "\n",
      "\n",
      "Let's define a collection of sequences to work with. These were hand-compiled from the Greengenes database, and trucnated at 250 bases each for computational efficiency in the examples below (quick quiz: why does truncating the sequences help?). \n",
      "\n",
      "**Our goal here will be to group these sequences into OTUs based on some similarity threshold that we define.** If we set this similarity threshold at 90%, meaning that the sequences within that OTU are 90% identicial (either to each other, or maybe to some representative of that cluster - we'll explore some variants on that definition below), we'd call these *90% OTUs*.  "
     ]
    },
    {
     "cell_type": "code",
     "collapsed": false,
     "input": [
      "seqs_16s = \"\"\">881726\n",
      "GACGAACGCTGGCGGCGTGCCTAATACATGCAAGTCGAGCGGATTCATCCTTCGGGATGGGTTAGCGGCGGACGGGTGAGTAACACGTAGGCAACCTGCCTGCAAGTCCGGGATAACTAACGGAAACGTTAGCTAATACCGGATACGCGGTTGGATCGCATGATCCGATCGGGAAAGACGGCGCAAGCTGCCACTTGTAGATGGGCCTGCGGCGCATTAGCTAGTTGGTGGGGTAACGGCTCACCAAGGC\n",
      ">793074\n",
      "GAATGAACGCTGGCGGCGTGCTTAATAATGCAAGTCGAGCGCGTAGCAATACGAGCGGCGCACGGGTGCGTAACACGTAGGTCATCTGCCTCTAGGTCGGGGATAACTGCGGGAAACTGCAGCTAATACCCGATGATATCGAGAGATCAAAGCTTCGGTGCCTAGAGAGGAGCCTGCGGCTCATTAGCTAGTTGGTGGGGTAACGGCCTACCAAGGCCACGATGAGTAGCCGGCCTGAGAGGGCGATCGG\n",
      ">669210\n",
      "AGAGTTTGATCCTGGCTCAGAACGAACGCTGGCGGCGCGCCTAACACATGCAAGTCGAACGGACTAGCCCCTTCGGGGGCGAAGTTAGTGGCGAACGGGTGAGTAACGCGTAAGTAACCTGCCCCCGGGACTGGGATAACAGCTCGAAAGAGCCGCTAATACCGGATAATTGTTGCAACACTTAGGAGTTGTAACTAAAGAAGGCCTCTGTTTCAAGCTTTCACCTGGGGATGGGCTTGCGTCCCATTAG\n",
      ">583705\n",
      "ACGGGTGAGTAACGCGTATGCAACCTACCTCGGAAAAGGGGATGACTGGTGGAAACGGGGATTAATGCCCCCTAGGGTTGTTTCTCTGCCTGGGTGAGCCGTTACTATTGGAACCGATTGAGATGGCCATGTTGGTCATTTCCTGGTTGGTGAGGTTACCTCACACCAAGGCGACGATGACTACGGGGTCTAAAAGGATGGTCCCGCACACTGGTACTGAGACACGGACCAGACTCCTACGGGAGGCAGC\n",
      ">524860\n",
      "AGAGTTTGATCCTGGCTCAGAACGAACGTTGGCGGCATGGATGAGGCATGCAAGTCGCGGGAATCCCCAGCAATGGGGGGAACCGGCGTAAGGGGCAGTAAGGCGTAGGTACCTACCCCCAGGTCCGGGATAGCCCGCCGAGAGGCGGGGTAATACCGGATGACCTCGGGAGAGCAAAGCTCCGGCGCCTGAGGCGGGGCCTACGTGATATTACCTAGTTGGCGGGGTAACGGCCCACCAAGGGGGAGAT\n",
      ">501793\n",
      "GACGAACGCTGGCGGCGTGCCTAATACATGCAAGTCGAACGGAGTGGTTGAAGGAGCTTGCTCTTTTGATCGCTTAGTGGCAGACGGGTGAGTAACACGTAGGCAACCTGGCTGTAAGACGGGGATAACTGGCGGAAACGTGAGCTAAAACCGGATGGTCGGCTTGAGGGCATCCTCGAGTCGGGAAAGGACGGAGCAATCTGTCGCTTACAGATGGGCCTGCGGCGCATTAGCTAGTTGGTAGGGTAAC\n",
      ">296752\n",
      "AGAGTTTGATCTCTGGCTCAGAACAAACGCTGGCGGTGCGTCTTAAGCATGCAAGTCGAGCGATGGTAGGGGGCTTGCTCCCTATTCATAGCGGCGGACTGGTGAGTAACGCGTAGATGACATACCTTTTGCTGGGGGATAGCTTGTGGAAACACAGGGTAATACCGCATACGATTGAGGCGGTTAGAGCGCTTCAATCAAAGCCTTGTATGGGGCGGCAGTTGAGTGGTCTGCGTACTATTAGCTTGTT\n",
      ">293514\n",
      "AGAGTTTGATCCTGGCTCAGAACGAACGCTGGCGGTGCGTCTTAAGCATGCAAGTCGAGCGATGGTAGGGGGCTTGCTCCCTATTCATAGCGGCGGACTGGTGAGTAACGCGTAGATGACATACCTTTTGCTGGGGGATAGCTTGTGGAAACACAGGGTAATACCGCATACGATTGAGGCGGTTAGAGCGCTTCAATCAAAGCCTTGTATGGGGCGGCAGTTGAGTGGTCTGCGTACTATTAGCTTGTTG\n",
      ">292553\n",
      "AGAGTTTGATCCTGGCTCAGAACGAACGCTGGCGGTGCGTCTTAAGCATGCAAGTCGAGCGATGAATGAGGGGCTTGCTCCTTATTCATAGCGGCGGACTGGTGAGTAACGCGTAGATGACATGTCGATGGCAGGGGGATAGCCAGTAGAAATATTGGGTAATACCGCGTATCCTTCTTGTTGTTAGAGGACAAGAAGAAAAGCCTTGTATGGGGCGGCTATTGAGTGGTCTGCGTACTATTAGTTTGTT\n",
      ">266495\n",
      "AGTTTGATCCTGGCTCAAGATGAACGCTAGCGGCAGGCTTAACACATGCAAGTCAAAGGGCAACGGGGAGAGTGCTTGCACTCTCTGCCGGCGACTGGCGCACGGGTGAGTAACACTTATGCAGACACTGCCTTCCACAGGGCGGACAACCTCTCCCAAAGGGAGGCTAATCCCGCGTATATCCCTTGGGGGCATCCCCGGGGGAGGAAAGGATTACCGGTGTGCAGGATGGGCATGCGGCGCATTACGC\n",
      ">229854\n",
      "GAGTTTGATCCTGGCTCAGATTGAACGCTGGCGGCATGCTTAACACATGCAAGTCGAACGGCAGCATGACTTAGCTTGCTAAGTTGATGGCGAGTGGCGAACGGGTGAGTAACGCGTAGGAATATGCCTTAAAGAGGGGGACAACTTGGGGAAACTCAAGCTAATACCGCATAAACTCTTCGGAGAAAAGCTGGGGACTTTCGAGCCTGGCGCTTTAAGATTAGCCTGCGTCCGATTAGCTAGTTGGTAG\n",
      ">182569\n",
      "AGAGTTTGATCCTGGCTCAGGATGAACGCTAGCTACAGGCTTAACACATGCAAGTCGAGGGGCAGCATGGTGTATCAATATATCTATGGCGACCAGCGCACCGGTGATGCACACCTCTCCTACCTGCCCCTTACTCCGGGATGATCTTTCTAAAAAAATATTACTACTCCATGGTATTACCGAAAAACGTCTTTTTGTTGTTTAAAAACTTCGATGGTGGAAGGTGATGCTTTCTATTATATACTTGGTG\n",
      ">1719550\n",
      "TCCTGGCTCAGAACGAACGTTGGCGGCGTGGATTAGGCATGCAAGTCGCGCGAATCCCCGCAAGGGGGGAAGCGGCGTAAGGGGCAGTAAGGCGTGGGTACCTACCCGGGGGTCGGGGATAGCCCGTCGAGAGACGGGGTAATACCCGATGACGTGGAGACACCAAAGGTCCGCCGCCCTCGGCGGGGCCCACGTGATATTAGCTAGTTGGCGGGGTAACGGCCCACCAAGGCGGGGATGTCTAGCGGGT\n",
      ">1794723\n",
      "TTAGAGTTTGATCCTGGCTCAGAACGAACGTTGGCGGCGTGGATTAGGCATGCAAGTCTCGCGAATCCCCGCAAGGGGGGAAGCGGCGTAAGGGGCAGTAAGGCGTGGGTAACCCACCCCGGGGCCCGGGATAGCCCGTCGAGAGACGGGGTAATACCGGGCGACGCAGCGTGCCGGCATCGGTGTGCTGCCAAAGGTCCGCCGCCCCGGGCGGGGCCCACGTGGTATTAGCTAGTTGGTGGGGTGACGG\n",
      ">1142181\n",
      "CACGTGGGTCATTTGCCCCGAAGCCCGGGATAGCCCATGGAAACATGGATTAATACCGGATGTGGTTGGAGTACACAGGTGCTCCGTATTAAACGGTAGGTAGCAATACCTTCCGCTTCGGGATAAGCCCGCGGCCCATTAGCTAGTTGGTGGGGTAAGACCCAACCAAGGAGACAACCGGGAGCCGGACAGAAAGGGTGACGGCCACATTGGGACTGAGAAACGGCCCGATCCTACGGAGGCAGCAGTA\n",
      ">2683209\n",
      "CTGGCGGCGTGGTTTAGGCATGCAAGTCGAACGCGAAAGATTTACTTCGGTAAATTGAGTAGAGTGGCGAACGGGTGAGTAATACGTACGAATCTACCTTAAAGACAGGGATAGTCCCGGGAAACTGGGTTTAATACCTGATGGTATCCGGCTTTGCCGGATTAAAGACGGCCTCTATTTATAAGCTGTTACTTTTAGATGAGCGTGCGCTCCATTAGTTAGTTGGTAAGGTAAGAGCTTACCAAGGCGA\n",
      ">2784824\n",
      "AGTGGCGCACGGGTGAGTAACGCGTGGGTAACTTGCCTTTAAGTGAGGGATAACCCACTGAAAGGTGGACTAATACCTCATAAGACCACAGTGCTACGGCAGCGTGGTCAAAGGTGGCTTTATTAAAAGCTGCCGCTTGGAGAGAGACCCGCGTCCCATCAGCTTGTTGGTAAGGTAATGGCTTACCAAGGCCGAGACGGGTAGCTGGTCTGAGAGGATGGCCAGCCACACTGGAACTGAAACACGGTCC\n",
      ">2941516\n",
      "TTAGAGTTTGATCCTGGCTCAGGATGAACGCTAGCGATAGGCCTAACACATGCAAGTCGAGGGGTAACAGGGTAGCAATACCGCTGACGACCGGCAAATGGGTGAGTAACGCGTATGCAACCTACCGATAACAGTTGGATAGCTCCCTGAAAGGGGAATTAAACCGGCATGACACTATGAGATCGCCTGTTTTCATAGTTAAATATTTATAGGTTATTGATGGGCATGCGTGACATTAGCAAGTTGGTGA\n",
      ">998428\n",
      "GACGAACGCTGGCGGCGTGCCTAATACATGCAAGTCGAGCGGAGTTGTTCCTTCGGGGACAGCTTAGCGGCGGACGGGTGAGTAACACGTAGGCAACCTGCCTGCAGGACCGGGATAACCCACGGAAACGTGAGCTAATACCGGATAGATGGTTCCCTCGCATGAGGGGATCAGGAAAGACGGGGCAACCTGTCACTTGTAGATGGGCCTGCGGCGCATTAGCTAGTTGGCGAGGTAACGGCTCACCAAG\n",
      ">4343117\n",
      "AACGAACGCTGGCGGCGTGCTTAACACATGCAAGTCGCGTGCGCGGTTCACGAACTTGTACGTGGATGGGCGCACGGCGCAGGGGGGCGTAACACGTGGGCACTCTGCCCTCCGATGGGGAATACTCCCGCGAACCGGGGGCTAATACCGCATAACATTCCGAGGACTTGGGTTCTTGGATTCAAAGCAGTGATGCCTGTGAGGAGGAGCCCGCGCCCGATTAGCTAGTTGGTAGGGTAACGGCCTACCT\n",
      ">4353661\n",
      "GGATGAACGCTAGCGGGAGGCTTAATACATGCAAGTCGAGGGTGAAGCTTTCTTCGGAAAGTGGAAACCGGCGAACGGGTGCGTAACGCGTACGCAACTTACCCCTTGCTGGAGAATAGCCCCGGGAAACTGGGATTAATGCTCCATGGTATGGTGAAATCGCATGATTTTATCATTAAAGGTTACGGCAAGGGATAGGCGTGCGTCCCATTAGCTTGTTGGTGAGGTAACGGCTCACCAATGCAAACGA\"\"\"\n",
      "fasta_records = list(parse_fasta(seqs_16s.split(\"\\n\")))\n",
      "\n",
      "seqs_16s = SequenceCollection.from_fasta_records(fasta_records,DNA)"
     ],
     "language": "python",
     "metadata": {},
     "outputs": [],
     "prompt_number": 4
    },
    {
     "cell_type": "heading",
     "level": 3,
     "metadata": {},
     "source": [
      "Furthest neighbor clustering"
     ]
    },
    {
     "cell_type": "markdown",
     "metadata": {},
     "source": [
      "The first approach we'll look at is one that has been called *furthest neighbor*, because whether a sequence becomes a member of a cluster is defined by it's most dissimilar (furthest) \"neighbor\" in that cluster.\n",
      "\n",
      "The way this algorithm works is that we start with our list of sequences. Because this is *de novo* clustering, by definition our first sequence is added to a new cluster (because there are no pre-existing clusters). We'll call this `OTU 1`. We then iterate over the remaining sequences. For the second sequence we compute its pairwise alignment with the first, followed by computing their percent similarity. If their percent similarity is greater than or equal to the similarity threshold, we add the second sequence to `OTU 1`. If is it less than the similarity threshold, we create a new OTU, `OTU 2`, and add the second sequence to that cluster. \n",
      "\n",
      "We continue iterating over the remaining sequences. For each sequence, we compute the pairwise similarity between that sequence and all sequences in each OTU. **If the percent similarity between a query sequence and *all* sequences in a given OTU (say OTU $x$ is greater than the similarity threshold, we add the sequence to OTU $x$.)** Otherwise we check the next OTU in the list. If this criteria is not met for any of the OTUs, then we define a new OTU to add the sequence to. \n",
      "\n",
      "Here's what that process would look like for six sequences.\n",
      "\n",
      "<img src=\"files/images/furthest-neighbor.1.png\">\n",
      "\n",
      "Our first sequence, $S1$, will define a new OTU. We'll call that OTU $OTU1$. We'll start building a mapping of OTUs to the sequences they contain:\n",
      "\n",
      "$OTU1$: $S1$ \n",
      "\n",
      "<hr>\n",
      "\n",
      "<img src=\"files/images/furthest-neighbor.2.png\">\n",
      "\n",
      "If our second sequence, $S2$ falls outside of the similarity threshold to $S1$, it will also define a new OTU. We'll call that OTU $OTU2$.\n",
      "\n",
      "$OTU1$: $S1$\n",
      "\n",
      "$OTU2$: $S2$\n",
      "\n",
      "<hr>\n",
      "\n",
      "<img src=\"files/images/furthest-neighbor.3.png\">\n",
      "\n",
      "Now imagine that our third sequence, $S3$ falls within the range of $OTU1$. We'd cluster $S3$ into $OTU1$ with $S1$. We now have three sequences clustered into two OTUs:\n",
      "\n",
      "$OTU1$: $S1$ $S3$\n",
      "\n",
      "$OTU2$: $S2$\n",
      "\n",
      "<hr>\n",
      "\n",
      "<img src=\"files/images/furthest-neighbor.4.png\">\n",
      "\n",
      "Now let's cluster a fourth sequence, $S4$. We find that this falls outside the range of $OTU1$, and (just barely) outside the range of $OTU2$. So, we'd create a new OTU, $OTU3$, containing $S4$.\n",
      "\n",
      "$OTU1$: $S1$ $S3$\n",
      "\n",
      "$OTU2$: $S2$\n",
      "\n",
      "$OTU3$: $S4$\n",
      "\n",
      "<hr>\n",
      "\n",
      "<img src=\"files/images/furthest-neighbor.5.png\">\n",
      "\n",
      "Next, let's cluster our fifth sequence, $S5$. We find that this falls outside the range of $OTU1$, and inside the range of both $OTU2$ and $OTU3$. So, algorithmically, we'd have a choice to make. How do we decided which OTU a sequence should belong to if it is within the similarity range of several OTUs. A couple of choices would be to add it to the cluster where it has the smallest distance to the sequence members, or add it to the cluster with the most members. Let's assume that we choose the latter, and assign it to the cluster to which it is the most similar. Our mapping of OTUs to sequences would look like:\n",
      "\n",
      "$OTU1$: $S1$ $S3$\n",
      "\n",
      "$OTU2$: $S2$\n",
      "\n",
      "$OTU3$: $S4$ $S5$\n",
      "\n",
      "<hr>\n",
      "\n",
      "<img src=\"files/images/furthest-neighbor.6.png\">\n",
      "\n",
      "Finally, let's cluster our last sequence, $S6$. In this case, imagine that it falls within the similarity range of $S1$, but because it falls outside of the similarity range of $S3$, it cannot be a member of $OTU1$, so it is assigned to a new OTU, $OTU4$. Our final mapping of OTUs to sequences would look like:\n",
      "\n",
      "$OTU1$: $S1$ $S3$\n",
      "\n",
      "$OTU2$: $S2$\n",
      "\n",
      "$OTU3$: $S4$ $S5$\n",
      "\n",
      "$OTU4$: $S6$\n",
      "\n",
      "<hr>\n",
      "\n",
      "Now let's implement this and experiment with it."
     ]
    },
    {
     "cell_type": "code",
     "collapsed": false,
     "input": [
      "from numpy import mean\n",
      "\n",
      "def furthest_neighbor_cluster(seqs, similarity_threshold):\n",
      "    clusters = []\n",
      "    num_alignments = 0\n",
      "    for query_seq in seqs:\n",
      "        best_mean_percent_similarity = 0.0\n",
      "        cluster_index = None\n",
      "        for i, cluster in enumerate(clusters):\n",
      "            cluster_size = len(cluster)\n",
      "            percent_similarities = []\n",
      "            for j, cluster_seq_identifier in enumerate(cluster):\n",
      "                current_cluster_representative_seq = seqs[cluster_seq_identifier]\n",
      "                aln1, aln2, score, start1, start2 = sw_align_affine_gap_nt(str(query_seq), str(current_cluster_representative_seq))\n",
      "                num_alignments += 1\n",
      "                percent_similarity = DNA(aln1).fraction_same(DNA(aln2))\n",
      "                percent_similarities.append(percent_similarity)\n",
      "                if percent_similarity < similarity_threshold:\n",
      "                    # this isn't a possible cluster, move on to the next\n",
      "                    break\n",
      "                elif (percent_similarity >= similarity_threshold and \n",
      "                      j+1 == cluster_size and\n",
      "                      mean(percent_similarities) > best_mean_percent_similarity):\n",
      "                    # we've found the current best cluster, track it and move on to the next\n",
      "                    cluster_index = i\n",
      "                    best_mean_percent_similarity = mean(percent_similarities)\n",
      "                else:\n",
      "                    # this still appears to be a possible cluster, continue checking pairwise alignments\n",
      "                    continue\n",
      "        if cluster_index is None:\n",
      "            clusters.append([query_seq.identifier])\n",
      "        else:\n",
      "            clusters[cluster_index].append(query_seq.identifier)\n",
      "    return clusters, num_alignments"
     ],
     "language": "python",
     "metadata": {},
     "outputs": [],
     "prompt_number": 5
    },
    {
     "cell_type": "markdown",
     "metadata": {},
     "source": [
      "Let's apply that function to our sequence collection. This function will return the number of pairwise alignments that were performed (it'll be clear why we're interested in that soon), and the OTUs. "
     ]
    },
    {
     "cell_type": "code",
     "collapsed": false,
     "input": [
      "clusters, num_alignments = furthest_neighbor_cluster(seqs_16s, 0.82)\n",
      "print(num_alignments)\n",
      "for i, cluster in enumerate(clusters):\n",
      "    print(i, cluster)"
     ],
     "language": "python",
     "metadata": {},
     "outputs": [
      {
       "output_type": "stream",
       "stream": "stdout",
       "text": [
        "163\n",
        "0 ['881726', '793074', '1719550', '1794723', '1142181', '2941516']\n",
        "1 ['669210', '583705', '296752', '293514', '292553', '266495', '182569', '2683209', '2784824']\n",
        "2 ['524860', '229854', '998428', '4353661']\n",
        "3 ['501793', '4343117']\n"
       ]
      }
     ],
     "prompt_number": 6
    },
    {
     "cell_type": "markdown",
     "metadata": {},
     "source": [
      "Let's define a function that will be useful for exploring different clustering algorithms:"
     ]
    },
    {
     "cell_type": "code",
     "collapsed": false,
     "input": [
      "from time import time\n",
      "\n",
      "def evaluate_cluster_fn(cluster_fn, seqs, similarity_threshold, display=True):\n",
      "    start_time = time()\n",
      "    clusters, num_alignments = cluster_fn(seqs, similarity_threshold)\n",
      "    end_time = time()\n",
      "    run_time = end_time - start_time\n",
      "    num_clusters = len(clusters)\n",
      "    if display:\n",
      "        print(\"Number of alignments performed: %d\" % num_alignments)\n",
      "        print(\"Runtime: %1.3fs\" % run_time)\n",
      "        print(\"Number of clusters: %d\" % num_clusters)\n",
      "        print(\"Clusters:\")\n",
      "        for i, cluster in enumerate(clusters):\n",
      "            print(\" \", i, cluster)\n",
      "    return num_alignments, run_time, num_clusters"
     ],
     "language": "python",
     "metadata": {},
     "outputs": [],
     "prompt_number": 7
    },
    {
     "cell_type": "markdown",
     "metadata": {},
     "source": [
      "Now let's apply that:"
     ]
    },
    {
     "cell_type": "code",
     "collapsed": false,
     "input": [
      "r = evaluate_cluster_fn(furthest_neighbor_cluster, seqs_16s, 0.82)"
     ],
     "language": "python",
     "metadata": {},
     "outputs": [
      {
       "output_type": "stream",
       "stream": "stdout",
       "text": [
        "Number of alignments performed: 163\n",
        "Runtime: 25.020s\n",
        "Number of clusters: 4\n",
        "Clusters:\n",
        "  0 ['881726', '793074', '1719550', '1794723', '1142181', '2941516']\n",
        "  1 ['669210', '583705', '296752', '293514', '292553', '266495', '182569', '2683209', '2784824']\n",
        "  2 ['524860', '229854', '998428', '4353661']\n",
        "  3 ['501793', '4343117']\n"
       ]
      }
     ],
     "prompt_number": 8
    },
    {
     "cell_type": "heading",
     "level": 3,
     "metadata": {},
     "source": [
      "Nearest neighbor clustering"
     ]
    },
    {
     "cell_type": "markdown",
     "metadata": {},
     "source": [
      "Let's try a variant on this algorithm. How would things change if **instead of requiring that a sequence be within the similarity treshold of all sequences in an OTU, we only required that it be within the similarity threshold of one sequence in that OTU**? This is referred to as **nearest neighbor** clustering, because cluster membership is defined by the percent similarity to the most similar (or *nearest*) \"neighbor\" in the cluster. \n",
      "\n",
      "Let's look at the process for six sequences again.\n",
      "\n",
      "<img src=\"files/images/nearest-neighbor.1.png\">\n",
      "\n",
      "Our first sequence, $S1$, will again define a new OTU. We'll call that OTU $OTU1$ and start building our mapping of OTUs to the sequences they contain:\n",
      "\n",
      "$OTU1$: $S1$ \n",
      "\n",
      "<hr>\n",
      "\n",
      "<img src=\"files/images/nearest-neighbor.2.png\">\n",
      "\n",
      "Our second sequence, $S2$, still falls outside of the similarity threshold to $S1$, so will also define a new OTU. We'll call that OTU $OTU2$.\n",
      "\n",
      "$OTU1$: $S1$\n",
      "\n",
      "$OTU2$: $S2$\n",
      "\n",
      "<hr>\n",
      "\n",
      "<img src=\"files/images/nearest-neighbor.3.png\">\n",
      "\n",
      "Now imagine that our third sequence, $S3$ falls within the range of $OTU1$. We'd cluster $S3$ into $OTU1$ with $S1$. We now have three sequences clustered into two OTUs. So far, things are looking the same as before, except notice how our OTU definition (grey shading) is now different. Because any sequence within the similarity threshold of *any* of sequence in the OTU will fall into this OTU, the shading now covers the area covered by either of our sequences, rather than the area covered by both of our sequences (in set theory terminology, it is the *union* now, where previously it was the *intersection*). \n",
      "\n",
      "$OTU1$: $S1$ $S3$\n",
      "\n",
      "$OTU2$: $S2$\n",
      "\n",
      "<hr>\n",
      "\n",
      "<img src=\"files/images/nearest-neighbor.4.png\">\n",
      "\n",
      "Now let's cluster a fourth sequence, $S4$. We find that this falls outside the range of $OTU1$, and (just barely) outside the range of $OTU2$. So, we'd create a new OTU, $OTU3$, containing $S4$.\n",
      "\n",
      "$OTU1$: $S1$ $S3$\n",
      "\n",
      "$OTU2$: $S2$\n",
      "\n",
      "$OTU3$: $S4$\n",
      "\n",
      "<hr>\n",
      "\n",
      "<img src=\"files/images/nearest-neighbor.5.png\">\n",
      "\n",
      "Next, let's cluster our fifth sequence, $S5$. We find that this falls outside the range of $OTU1$, and inside the range of both $OTU2$ and $OTU3$. As with furthest neighbor, we have a choice of how to handle this. We'll again assign it to the cluster to which it is the most similar. Our mapping of OTUs to sequences would look like:\n",
      "\n",
      "$OTU1$: $S1$ $S3$\n",
      "\n",
      "$OTU2$: $S2$\n",
      "\n",
      "$OTU3$: $S4$ $S5$\n",
      "\n",
      "<hr>\n",
      "\n",
      "<img src=\"files/images/nearest-neighbor.6.png\">\n",
      "\n",
      "Finally, let's cluster our last sequence, $S6$. Remember that $S6$ falls within the similarity range of $S1$, but outside of the similarity range of $S3$. In furthest neighbor, this meant that it was assigned to a new OTU, but with nearest neighbor it meets the inclusion criteria for $OTU1$. So, our final mapping of OTUs to sequences would look like:\n",
      "\n",
      "$OTU1$: $S1$ $S3$ $S6$\n",
      "\n",
      "$OTU2$: $S2$\n",
      "\n",
      "$OTU3$: $S4$ $S5$\n",
      "\n",
      "<hr>\n",
      "\n",
      "**One feature that becomes obvious here is the order dependence of these methods.** If sequences are provided in different order across different clustering runs, the cluster definitions will change. For example, how would the results differ if the sequences were processed in this order: $S1$, $S3$, $S4$, $S5$, $S6$, $S2$?\n",
      "\n",
      "<hr>\n",
      "\n",
      "Let's implement nearest neighbor clustering and explore its properties."
     ]
    },
    {
     "cell_type": "code",
     "collapsed": false,
     "input": [
      "def nearest_neighbor_cluster(seqs, similarity_threshold):\n",
      "    clusters = []\n",
      "    num_alignments = 0\n",
      "    for query_seq in seqs:\n",
      "        best_percent_similarity = 0.0\n",
      "        cluster_index = None\n",
      "        for i, cluster in enumerate(clusters):\n",
      "            for cluster_seq_identifier in cluster:\n",
      "                current_cluster_representative_seq = seqs[cluster_seq_identifier]\n",
      "                aln1, aln2, score, start1, start2 = sw_align_affine_gap_nt(str(query_seq), str(current_cluster_representative_seq))\n",
      "                num_alignments += 1\n",
      "                percent_similarity = DNA(aln1).fraction_same(DNA(aln2))\n",
      "                if percent_similarity >= similarity_threshold:\n",
      "                    if percent_similarity > best_percent_similarity:\n",
      "                        cluster_index = i\n",
      "                        best_percent_similarity = percent_similarity\n",
      "                        break\n",
      "        if cluster_index is None:\n",
      "            clusters.append([query_seq.identifier])\n",
      "        else:\n",
      "            clusters[cluster_index].append(query_seq.identifier)\n",
      "    return clusters, num_alignments"
     ],
     "language": "python",
     "metadata": {},
     "outputs": [],
     "prompt_number": 9
    },
    {
     "cell_type": "code",
     "collapsed": false,
     "input": [
      "r = evaluate_cluster_fn(nearest_neighbor_cluster, seqs_16s, 0.82)"
     ],
     "language": "python",
     "metadata": {},
     "outputs": [
      {
       "output_type": "stream",
       "stream": "stdout",
       "text": [
        "Number of alignments performed: 67\n",
        "Runtime: 10.458s\n",
        "Number of clusters: 2\n",
        "Clusters:\n",
        "  0 ['881726', '793074', '1719550', '1794723']\n",
        "  1 ['669210', '583705', '524860', '501793', '296752', '293514', '292553', '266495', '229854', '182569', '1142181', '2683209', '2784824', '2941516', '998428', '4343117', '4353661']\n"
       ]
      }
     ],
     "prompt_number": 10
    },
    {
     "cell_type": "markdown",
     "metadata": {},
     "source": [
      "What's different here? \n",
      "\n",
      "This ran a lot faster (less than half the time), and it also computed a lot few alignments. The pairwise alignment step is the most computationally expensive one here, so that makes sense. \n",
      "\n",
      "There was another affect here though: we have half the number of OTUs. Is that good or bad? There is not a definitive answer to that question: it really depends on the application, so what we'd ultimately want to know is how does that affect our ability to interpret the data. **Remember: OTU clustering is a necessary evil to deal with the massive amounts of data that we have. We don't necessary care about things like how many OTUs a method gives us, but rather how the clustering process helps or hurts us answer the biological questions driving the analysis.** We'll explore this concept more in later chapters, but it is an important one that algorithm developers sometimes lose track of."
     ]
    },
    {
     "cell_type": "heading",
     "level": 3,
     "metadata": {},
     "source": [
      "Centroid clustering"
     ]
    },
    {
     "cell_type": "markdown",
     "metadata": {},
     "source": [
      "So, given that reducing the number of alignments reduces our runtime drastically, are there ways that we can further reduce the number of alignments that are computed by a clustering algorithm? One approach for that is generally referred to as **centroid clustering**. Here, we can say that **a sequence is assigned to an OTU if it is within the similarity threshold of the first sequence in that OTU**. The first sequence in that cluster then becomes the *cluster centroid*: cluster membership is defined by similarity to that one particular sequence, which effectively sits at the \"center\" of that OTU.\n",
      "\n",
      "Let's look at the process for our six sequences.\n",
      "\n",
      "<img src=\"files/images/centroid-cluster.1.png\">\n",
      "\n",
      "Our first sequence, $S1$, will again define a new OTU. We'll call that OTU $OTU1$ and start building our mapping of OTUs to the sequences they contain:\n",
      "\n",
      "$OTU1$: $S1$ \n",
      "\n",
      "<hr>\n",
      "\n",
      "<img src=\"files/images/centroid-cluster.2.png\">\n",
      "\n",
      "Our second sequence, $S2$, still falls outside of the similarity threshold to $S1$, so will also define a new OTU. We'll call that OTU $OTU2$.\n",
      "\n",
      "$OTU1$: $S1$\n",
      "\n",
      "$OTU2$: $S2$\n",
      "\n",
      "<hr>\n",
      "\n",
      "<img src=\"files/images/centroid-cluster.3.png\">\n",
      "\n",
      "Recall that $S3$ falls within the range of $OTU1$. We'd cluster $S3$ into $OTU1$ with $S1$, and now have three sequences clustered into two OTUs. Again, our sequence to OTU mapping looks the same as before at this stage, but our OTU definition (grey shading) is again different. Because a sequence must be within the similarity threshold of the first sequence added to the OTU (the *centroid*), the shading doesn't change. In other words, the definition of the OTU is fixed: additional sequences don't change the shaded area.\n",
      "\n",
      "$OTU1$: $S1$ $S3$\n",
      "\n",
      "$OTU2$: $S2$\n",
      "\n",
      "<hr>\n",
      "\n",
      "<img src=\"files/images/centroid-cluster.4.png\">\n",
      "\n",
      "Now let's cluster a fourth sequence, $S4$. We find that this falls outside the range of $OTU1$, and (just barely) outside the range of $OTU2$. So, we'd create a new OTU, $OTU3$, containing $S4$.\n",
      "\n",
      "$OTU1$: $S1$ $S3$\n",
      "\n",
      "$OTU2$: $S2$\n",
      "\n",
      "$OTU3$: $S4$\n",
      "\n",
      "<hr>\n",
      "\n",
      "<img src=\"files/images/centroid-cluster.5.png\">\n",
      "\n",
      "Next, let's cluster our fifth sequence, $S5$. We find that this falls outside the range of $OTU1$, and inside the range of both $OTU2$ and $OTU3$. As with furthest neighbor, we have a choice of how to handle this. We'll again assign it to the cluster to which it is the most similar. Our mapping of OTUs to sequences would look like:\n",
      "\n",
      "$OTU1$: $S1$ $S3$\n",
      "\n",
      "$OTU2$: $S2$\n",
      "\n",
      "$OTU3$: $S4$ $S5$\n",
      "\n",
      "<hr>\n",
      "\n",
      "<img src=\"files/images/centroid-cluster.6.png\">\n",
      "\n",
      "Finally, let's cluster our last sequence, $S6$. Remember that $S6$ falls within the similarity range of $S1$, but outside of the similarity range of $S3$. In furthest neighbor, this meant that it was assigned to a new OTU; in nearest neighbor, it was assigned to $OTU1$, and that is what happens here (but how would this differ if $S3$ was the centroid of $OTU1$, rather than $S1$?). Our final mapping of OTUs to sequences would look like:\n",
      "\n",
      "$OTU1$: $S1$ $S3$ $S6$\n",
      "\n",
      "$OTU2$: $S2$\n",
      "\n",
      "$OTU3$: $S4$ $S5$\n",
      "\n",
      "<hr>\n",
      "\n",
      "Let's implment this:"
     ]
    },
    {
     "cell_type": "code",
     "collapsed": false,
     "input": [
      "def centroid_cluster(seqs, similarity_threshold):\n",
      "    clusters = []\n",
      "    num_alignments = 0\n",
      "    for query_seq in seqs:\n",
      "        best_percent_similarity = 0.0\n",
      "        cluster_index = None\n",
      "        for i, cluster in enumerate(clusters):\n",
      "            current_cluster_representative_seq = seqs[cluster[0]]\n",
      "            aln1, aln2, score, start1, start2 = sw_align_affine_gap_nt(str(query_seq), str(current_cluster_representative_seq))\n",
      "            num_alignments += 1\n",
      "            percent_similarity = DNA(aln1).fraction_same(DNA(aln2))\n",
      "            if percent_similarity >= similarity_threshold:\n",
      "                if percent_similarity > best_percent_similarity:\n",
      "                    cluster_index = i\n",
      "                    best_percent_similarity = percent_similarity\n",
      "        if cluster_index is None:\n",
      "            clusters.append([query_seq.identifier])\n",
      "        else:\n",
      "            clusters[cluster_index].append(query_seq.identifier)\n",
      "    return clusters, num_alignments"
     ],
     "language": "python",
     "metadata": {},
     "outputs": [],
     "prompt_number": 11
    },
    {
     "cell_type": "code",
     "collapsed": false,
     "input": [
      "r = evaluate_cluster_fn(centroid_cluster, seqs_16s, 0.82)"
     ],
     "language": "python",
     "metadata": {},
     "outputs": [
      {
       "output_type": "stream",
       "stream": "stdout",
       "text": [
        "Number of alignments performed: 38\n",
        "Runtime: 5.984s\n",
        "Number of clusters: 2\n",
        "Clusters:\n",
        "  0 ['881726', '793074', '296752', '1719550', '1794723', '998428', '4353661']\n",
        "  1 ['669210', '583705', '524860', '501793', '293514', '292553', '266495', '229854', '182569', '1142181', '2683209', '2784824', '2941516', '4343117']\n"
       ]
      }
     ],
     "prompt_number": 12
    },
    {
     "cell_type": "markdown",
     "metadata": {},
     "source": [
      "We again (approximately) halved the number of alignments, and the run time. What was the effect on the results?"
     ]
    },
    {
     "cell_type": "heading",
     "level": 3,
     "metadata": {},
     "source": [
      "Three different definitions of OTUs"
     ]
    },
    {
     "cell_type": "markdown",
     "metadata": {},
     "source": [
      "<div style=\"float: right; margin-left: 30px;\"><img style=\"float: right; margin-left: 30px;\" src=\"files/images/cluster-types.png\" align=right></div>\n",
      "\n",
      "In these three algorithms, we've looked at three different ways of defining a cluster. **This figure illustrates the differences in each definition, where the solid lines indicate where a sequence must fall to be considered part of a cluster.**\n",
      "\n",
      "In nearest neighbor, where membership in a cluster is defined by a query sequence's distance to the most similar sequence already in the cluster (it's nearest neighbor), the size of the cluster can grow with additional sequences. This can have some undesired effects: for example, if we clustered our sequences in order of decreasing pairwise similarity, in the worst case we could end up with one single cluster containing all of our sequences.\n",
      "\n",
      "In furthest neighbor, where membership in a cluster is defined by a query sequence's distance to the most dissimilar sequence already in the cluster (it's furthest neighbor), the size of the cluster can shrink with additional sequences. This can also have some undesired effects, such as the size of a cluster becoming contstrained to the point where it is unlikely that new sequences will ever be added.\n",
      "\n",
      "In centroid distance, where membership in a cluster is defined by a query sequence's distance to the cluster's centroid sequence, the size of the cluster always remains the same, but the role that the first sequence added to a cluster plays becomes much more important. So, it's very important that the cluster centroids are well-chosen. One undesired effect of centroid distance cluster is that the cluster sizes are fixed, which may or may not always make biological sense (for example, if the marker gene evolves at a faster rate in some taxa than others, that can't be reflected in the cluster defintions. \n",
      "\n",
      "All of these methods have good features and bad features, and that in fact is a common feature of heuristics (if they were perfect, they wouldn't be heuristics after all...). "
     ]
    },
    {
     "cell_type": "heading",
     "level": 3,
     "metadata": {},
     "source": [
      "Greedy centroid clustering"
     ]
    },
    {
     "cell_type": "markdown",
     "metadata": {},
     "source": [
      "While we're looking at heuristics, let's look at one more heuristic. Remember that in the multiple sequence alignment chapter we discussed computing *kmer distances* between sequences, which is an alignment-independent way of getting an idea of the similarity of a pair of sequences. Relative to pairwise alignment, this is very fast, so another strategy we can take is to compute all kmer distances between a query sequence and all cluster centroids first. Then, run our centroid clustering process, but only compute the pairwise alignment between a query sequence and the cluster centroid that has the smallest kmer distance to the query. The affect will be that rather than computing the pairwise alignment between a query and all cluster centroids, we only compute the alignment between the query sequence and the cluster centroid that we think is likely to be most similar to the query sequence, based on it having the smallest kmer distance."
     ]
    },
    {
     "cell_type": "code",
     "collapsed": false,
     "input": [
      "from iab.algorithms import kmer_distance\n",
      "\n",
      "def greedy_centroid_cluster(seqs, similarity_threshold, k=5):\n",
      "    clusters = {}\n",
      "    num_alignments = 0\n",
      "\n",
      "    for query_seq in seqs:\n",
      "        if len(clusters) == 0:\n",
      "            # this is the first sequence (this is a little ugly, clean it up)\n",
      "            percent_similarity = 0.0\n",
      "        else:\n",
      "            # find the centroid with the smallest kmer distance to the query seq\n",
      "            smallest_kmer_dist = 1.0\n",
      "            closest_kmer_centroid_identifier = None\n",
      "            closest_kmer_centroid_seq = None\n",
      "            for centroid_identifier in clusters:\n",
      "                centroid_seq = seqs[centroid_identifier]\n",
      "                current_kmer_dist = kmer_distance(query_seq, centroid_seq, k)\n",
      "                if current_kmer_dist < smallest_kmer_dist:\n",
      "                    closest_kmer_centroid_identifier = centroid_identifier\n",
      "                    closest_kmer_centroid_seq = centroid_seq\n",
      "            \n",
      "            # align the query against that centroid and compute percent similarity\n",
      "            aln1, aln2, score, start1, start2 = sw_align_affine_gap_nt(str(query_seq), str(closest_kmer_centroid_seq))\n",
      "            num_alignments += 1\n",
      "            percent_similarity = DNA(aln1).fraction_same(DNA(aln2))\n",
      "        \n",
      "        # and if it's within the similarity threshold, add the sequence to that cluster\n",
      "        if percent_similarity >= similarity_threshold:\n",
      "            clusters[closest_kmer_centroid_identifier].append(query_seq.identifier)\n",
      "        # otherwise, create a new cluster\n",
      "        else:\n",
      "            clusters[query_seq.identifier] = [query_seq.identifier]\n",
      "    \n",
      "    clusters = clusters.values()\n",
      "    return clusters, num_alignments"
     ],
     "language": "python",
     "metadata": {},
     "outputs": [],
     "prompt_number": 13
    },
    {
     "cell_type": "code",
     "collapsed": false,
     "input": [
      "r = evaluate_cluster_fn(greedy_centroid_cluster, seqs_16s, 0.82)"
     ],
     "language": "python",
     "metadata": {},
     "outputs": [
      {
       "output_type": "stream",
       "stream": "stdout",
       "text": [
        "Number of alignments performed: 20\n",
        "Runtime: 3.174s\n",
        "Number of clusters: 2\n",
        "Clusters:\n",
        "  0 ['881726', '793074']\n",
        "  1 ['669210', '583705', '524860', '501793', '296752', '293514', '292553', '266495', '229854', '182569', '1719550', '1794723', '1142181', '2683209', '2784824', '2941516', '998428', '4343117', '4353661']\n"
       ]
      }
     ],
     "prompt_number": 14
    },
    {
     "cell_type": "markdown",
     "metadata": {},
     "source": [
      "How do these results compare to the previous methods?"
     ]
    },
    {
     "cell_type": "heading",
     "level": 2,
     "metadata": {},
     "source": [
      "Comparing properties of our clustering algorithms"
     ]
    },
    {
     "cell_type": "markdown",
     "metadata": {},
     "source": [
      "We so far looked at these algorithms based on a single similarity threshold and a single sequence collection, but as we know from previous chapters it's important to know how features such as run time change with different inputs. Let's explore these algorithms in the context of changing sequence collection sizes and similarity thresholds."
     ]
    },
    {
     "cell_type": "code",
     "collapsed": false,
     "input": [
      "cluster_fns = [(\"furthest neighbor\", furthest_neighbor_cluster), \n",
      "               (\"nearest_neighbor\", nearest_neighbor_cluster), \n",
      "               (\"centroid\", centroid_cluster),\n",
      "               (\"greedy centroid\", greedy_centroid_cluster)]\n",
      "similarity_thresholds = [0.60, 0.70, 0.80, 0.90]\n",
      "sequence_collections = map(SequenceCollection,[seqs_16s[:5], seqs_16s[:10], seqs_16s[:15], seqs_16s])"
     ],
     "language": "python",
     "metadata": {},
     "outputs": [],
     "prompt_number": 15
    },
    {
     "cell_type": "markdown",
     "metadata": {},
     "source": [
      "First let's look at different similarity thresholds by looping over our clustering functions and a few similarity thresholds, and finding the run time for each."
     ]
    },
    {
     "cell_type": "code",
     "collapsed": false,
     "input": [
      "alignment_counts = []\n",
      "run_times = []\n",
      "cluster_counts = []\n",
      "for cluster_fn in cluster_fns:\n",
      "    current_alignment_counts = []\n",
      "    current_run_times = []\n",
      "    current_cluster_counts = []\n",
      "    for similarity_threshold in similarity_thresholds:\n",
      "        num_alignments, run_time, num_clusters = evaluate_cluster_fn(cluster_fn[1], seqs_16s, similarity_threshold, display=False)\n",
      "        current_run_times.append(run_time)\n",
      "        current_alignment_counts.append(num_alignments)\n",
      "        current_cluster_counts.append(num_clusters)\n",
      "    alignment_counts.append(current_alignment_counts)\n",
      "    run_times.append(current_run_times)\n",
      "    cluster_counts.append(current_cluster_counts)    "
     ],
     "language": "python",
     "metadata": {},
     "outputs": [],
     "prompt_number": 16
    },
    {
     "cell_type": "markdown",
     "metadata": {},
     "source": [
      "We can now plot these using matplotlib."
     ]
    },
    {
     "cell_type": "code",
     "collapsed": false,
     "input": [
      "for rt in run_times:\n",
      "    plt.plot(similarity_thresholds, rt)\n",
      "plt.legend([e[0] for e in cluster_fns])\n",
      "plt.xlabel(\"Similarity threshold\")\n",
      "plt.ylabel(\"Run time (s)\")"
     ],
     "language": "python",
     "metadata": {},
     "outputs": [
      {
       "metadata": {},
       "output_type": "pyout",
       "prompt_number": 17,
       "text": [
        "<matplotlib.text.Text at 0x10b684c10>"
       ]
      },
      {
       "metadata": {},
       "output_type": "display_data",
       "png": "[encoded data removed]",
       "text": [
        "<matplotlib.figure.Figure at 0x10b67fad0>"
       ]
      }
     ],
     "prompt_number": 17
    },
    {
     "cell_type": "markdown",
     "metadata": {},
     "source": [
      "Remember that above I said that most of the time in each of these clustering algorithms is spent doing pairwise alignment. Let's plot the number of alignments comptued by each as well so I can prove that to you."
     ]
    },
    {
     "cell_type": "code",
     "collapsed": false,
     "input": [
      "for na in alignment_counts:\n",
      "    plt.plot(similarity_thresholds, na)\n",
      "plt.legend([e[0] for e in cluster_fns])\n",
      "plt.xlabel(\"Similarity threshold\")\n",
      "plt.ylabel(\"Number of alignments computed\")"
     ],
     "language": "python",
     "metadata": {},
     "outputs": [
      {
       "metadata": {},
       "output_type": "pyout",
       "prompt_number": 18,
       "text": [
        "<matplotlib.text.Text at 0x10b6d7610>"
       ]
      },
      {
       "metadata": {},
       "output_type": "display_data",
       "png": "[encoded data removed]",
       "text": [
        "<matplotlib.figure.Figure at 0x10b68e310>"
       ]
      }
     ],
     "prompt_number": 18
    },
    {
     "cell_type": "markdown",
     "metadata": {},
     "source": [
      "Next let's look at run time as a function of the number of sequences to be clustered."
     ]
    },
    {
     "cell_type": "code",
     "collapsed": false,
     "input": [
      "alignment_counts = []\n",
      "run_times = []\n",
      "cluster_counts = []\n",
      "for cluster_fn in cluster_fns:\n",
      "    current_alignment_counts = []\n",
      "    current_run_times = []\n",
      "    current_cluster_counts = []\n",
      "    for sequence_collection in sequence_collections:\n",
      "        num_alignments, run_time, num_clusters = evaluate_cluster_fn(cluster_fn[1], sequence_collection, 0.90, display=False)\n",
      "        current_run_times.append(run_time)\n",
      "        current_alignment_counts.append(num_alignments)\n",
      "        current_cluster_counts.append(num_clusters)\n",
      "    alignment_counts.append(current_alignment_counts)\n",
      "    run_times.append(current_run_times)\n",
      "    cluster_counts.append(current_cluster_counts) "
     ],
     "language": "python",
     "metadata": {},
     "outputs": [],
     "prompt_number": 19
    },
    {
     "cell_type": "code",
     "collapsed": false,
     "input": [
      "for rt in run_times:\n",
      "    plt.plot([e.sequence_count() for e in sequence_collections], rt)\n",
      "plt.legend([e[0] for e in cluster_fns])\n",
      "plt.xlabel(\"Number of sequences\")\n",
      "plt.ylabel(\"Run time (s)\")"
     ],
     "language": "python",
     "metadata": {},
     "outputs": [
      {
       "metadata": {},
       "output_type": "pyout",
       "prompt_number": 20,
       "text": [
        "<matplotlib.text.Text at 0x10b6d7410>"
       ]
      },
      {
       "metadata": {},
       "output_type": "display_data",
       "png": "[encoded data removed]",
       "text": [
        "<matplotlib.figure.Figure at 0x10b6e2bd0>"
       ]
      }
     ],
     "prompt_number": 20
    },
    {
     "cell_type": "markdown",
     "metadata": {},
     "source": [
      "**Which of these methods do you think will scale best** to continuosuly increasing numbers of sequences (e.g., as is currently the trend in microbiomics)?"
     ]
    },
    {
     "cell_type": "heading",
     "level": 2,
     "metadata": {},
     "source": [
      "Reference-based clustering to assist with parallelization"
     ]
    },
    {
     "cell_type": "markdown",
     "metadata": {},
     "source": [
      "**This section needs work...**\n",
      "\n",
      "**TODO**\n",
      "\n",
      "* Issues with run time (maybe examples from EMP clustering run times)\n",
      "* Need for parallelization"
     ]
    },
    {
     "cell_type": "markdown",
     "metadata": {},
     "source": [
      "Up until this point we have focused our discussion on *de novo* OTU clustering, meaning that sequences are clustered only against each other, with no external reference. This is a very widely applied protocol, and the primary function of popular bioinformatics tools such as [cdhit](http://bioinformatics.oxfordjournals.org/content/28/23/3150.long) and [uclust](http://bioinformatics.oxfordjournals.org/content/26/19/2460.long). Another category of OTU clustering protocols is also popular however: reference-based OTU clustering, where a external reference database of sequences is used to aid in cluster defintion. In this section we compare *de novo* clustering with two reference-based OTU clustering protocols, closed-reference and open-reference. \n",
      "\n",
      "De novo OTU clustering\n",
      "----------------------\n",
      "\n",
      "In a de novo OTU clustering process, as discussed above, reads are clustered against one another without any external reference sequence collection. A benefit of de novo OTU picking is that all reads are clustered. A drawback is that there is no existing support for running this in parallel in QIIME, so it can be too slow to apply to large datasets (e.g., more than 10 million reads). \n",
      "\n",
      "You **must** use de novo OTU picking if:\n",
      "\n",
      "*  You do not have a reference sequence collection to cluster against, for example because you're working with an infrequently used marker gene.\n",
      "\n",
      "You **cannot** use de novo OTU picking if:\n",
      "\n",
      "*  You are comparing non-overlapping loci, such as the V2 and the V4 regions of the 16S rRNA.\n",
      "*  You working with very large data sets, like a full HiSeq 2000 run. (Technically, you can use de novo OTU picking here, but you literally might wait a month or more for your results.)\n",
      "\n",
      "Pros:\n",
      "\n",
      "*  All reads are clustered\n",
      "\n",
      "Cons:\n",
      "\n",
      "*  Speed. Does not run in parallel.\n",
      "\n",
      "Closed-reference OTU clustering (also referred to as *read mapping*)\n",
      "--------------------------------------------------------------------\n",
      "\n",
      "In a closed-reference OTU clustering process, reads are clustered against a reference sequence collection and any reads which do not hit a sequence in the reference sequence collection are excluded from downstream analyses. \n",
      "\n",
      "You **must** use closed-reference OTU clustering if:\n",
      "\n",
      "*  You are comparing non-overlapping loci, such as the V2 and the V4 regions of the 16S rRNA. Your reference sequences must span both of the regions being sequenced.\n",
      "\n",
      "You **cannot** use closed-reference OTU clustering if:\n",
      "\n",
      "*  You do not have a reference sequence collection to cluster against, for example because you're working with an infrequently used marker gene.\n",
      "\n",
      "Pros:\n",
      "\n",
      "*  Speed. Closed-reference OTU clustering is fully parallelizable, so is useful for extremely large data sets.\n",
      "*  Better trees and taxonomy. Because all OTUs are already defined in your reference sequence collection, you may already have a tree and a taxonomy that you trust for those OTUs. You have the option of using those, or building a tree and taxonomy from your sequence data.\n",
      "\n",
      "Cons:\n",
      "\n",
      "*  Inability to detect novel diversity with respect to your reference sequence collection. Because reads that don't hit the reference sequence collection are discarded, your subsequent analyses can only focus on the diversity that you \"already know about\". Depending on how well-characterized the environment that you're working in is, you may end up throwing away a small fraction of your reads (e.g., discarding 1-10% of the reads is common for 16S-based human microbiome studies, where databases like Greengenes cover most of the organisms that are typically present) or a large fraction of your reads (e.g, discarding 50-80% of the reads has been observed for \"unusual\" environments like [the Guerrero Negro microbial mats](http://www.ncbi.nlm.nih.gov/pubmed/22832344)). \n",
      "\n",
      "Open-reference OTU clustering\n",
      "-----------------------------\n",
      "\n",
      "In an open-reference OTU clustering process, reads are clustered against a reference sequence collection and any reads which do not hit the reference sequence collection are subsequently clustered de novo.\n",
      "\n",
      "You **cannot** use open-reference OTU clustering if:\n",
      "\n",
      "*  You are comparing non-overlapping loci, such as the V2 and the V4 regions of the 16S rRNA.\n",
      "*  You do not have a reference sequence collection to cluster against, for example because you're working with an infrequently used marker gene.\n",
      "\n",
      "Pros:\n",
      "\n",
      "*  All reads are clustered.\n",
      "*  Speed. Open-reference OTU clustering can partially run in parallel.\n",
      "\n",
      "Cons:\n",
      "\n",
      "*  Speed. Some steps of this protocol do still run serially. For data sets with a lot of novel diversity with respect to the reference sequence collection, this can still take days to run.\n",
      "\n",
      "OTU clustering in QIIME\n",
      "-----------------------\n",
      "\n",
      "The [QIIME](www.qiime.org) software package implements these three OTU clustering methods, with some variations on the underlying clustering algorithms that are applied for each. The [QIIME OTU picking tutorial](http://qiime.org/tutorials/otu_picking.html), which this section of this chapter was derived from, covers how to access these different methods.\n"
     ]
    }
   ],
   "metadata": {}
  }
 ]
}
