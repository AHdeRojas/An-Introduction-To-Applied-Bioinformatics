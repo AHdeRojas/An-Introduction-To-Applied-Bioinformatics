{
 "metadata": {
  "name": ""
 },
 "nbformat": 3,
 "nbformat_minor": 0,
 "worksheets": [
  {
   "cells": [
    {
     "cell_type": "heading",
     "level": 1,
     "metadata": {},
     "source": [
      "Sequence mapping and clustering"
     ]
    },
    {
     "cell_type": "markdown",
     "metadata": {},
     "source": [
      "** This notebook is still in early preparation. **\n",
      "\n",
      "A common need in bioinformatics is, given a number of *query* sequences, group them based on their similarity either to one another, or their similarity to sequences in an external reference database, or to both. The most common way to do this is using sequence alignment (you may be noticing a theme here...).\n",
      "\n",
      "The process of searching a set of sequences against a reference database to find their best match is typically referred to a **sequence mapping**. One example of this would be in *genome re-sequencing*. If you're searching for polymorphisms in the human genome that may be associated with a phenotype (e.g., a particular disease) you might begin by sequencing the full human genome. Because the human genome has been fully sequenced and (mostly) assembled, you could map your short sequence reads against the full human genome, and then search for loci (or co-located sets of one or more bases) that vary with the phenotype of interest. Because this process is generally perform with DNA sequencing reads, you may also hear it referred to as *read mapping*.\n",
      "\n",
      "A similar process can be applied if there is no reference database to search against. In this case, sequences will be grouped together based on their similarity to one another. This is most often applied to reads of a single gene or locus across the genomes of many different organisms. This process is referred to as **de novo sequence clustering**. One application of this is in **microbiomics**, or the study of whole communities of microorganisms. Because we don't know how to cluster the vast majority of microbes, most of what we know about the composition of microbial communities (e.g., in free-living environments, such as the ocean, soil, or surfaces in our homes or offices, or in host-associated environments, such as the human gut) is based on sequencing specific marker genes such as the 16S rRNA from all community members. If we obtain a large number of sequence reads, many of the things we want to do with them (such as identify their taxonomic origin, or understand where they fall in a phylogenetic tree) is too computationally intensive to achieve. So instead, we group sequences that are identicial or highly similar in composition into **Operational Taxonomic Units (OTUs)**, and we choose a single representative of that OTU to work with downstream. For example, if we have a group of 16S rRNA reads that are within 97% identity to one member of that cluster (the cluster centroid) we may assume that the taxonomic origin of the cluster centroid is the same as the taxonomic origin of all of the sequences in the group. This is an *assumption* - it may or may not be true - but it is a necessary evil given the current technology. \n",
      "\n",
      "Another application of grouping similar sequences (or **OTU clustering**, or **OTU picking**, as it is sometimes referred to) is in grouping sequences in a database before investigating them, to reduce taxonomic bias in the database. For example, *E. coli* is one of the most heavily sequenced microbes. If you're interested in understanding the frequency of variants of a specific gene across a range of microbial diversity, you might begin by obtatining all sequences of that gene from [GenBank](https://www.ncbi.nlm.nih.gov/genbank/). Because there may be many more *E. coli* sequences, purely because of sequencing bias, you'd likely want to group your sequences into OTUs before computing variant frequencies, so your calculations are not biased toward the frequencies in *E. coli*. In other words, your trying to find a **divergent set** of sequences to work with (and an [aptly named tool](http://www.ncbi.nlm.nih.gov/pubmed/16769708) was published in 2006 to automate this process).\n",
      "\n",
      "We have learned the key tools we need for both sequence mapping and clustering in previous notebooks. **Because the process of read mapping is nearly identical to database searching, in this chapter we'll start by exploring how to perform de novo sequence clustering**. At the end of the chapter we'll look at a case where we combine sequence clustering with sequence mapping, which arose to deal with massive sequence datasets generated in microbiomics.\n",
      "\n",
      "First, let's do some notebook configuration."
     ]
    },
    {
     "cell_type": "code",
     "collapsed": false,
     "input": [
      "from __future__ import print_function, division\n",
      "import matplotlib.pyplot as plt\n",
      "from IPython.core import page\n",
      "page.page = print"
     ],
     "language": "python",
     "metadata": {},
     "outputs": []
    },
    {
     "cell_type": "heading",
     "level": 2,
     "metadata": {},
     "source": [
      "*De novo* clustering of sequences by similarity "
     ]
    },
    {
     "cell_type": "markdown",
     "metadata": {},
     "source": [
      "The algorithm at the core of *de novo* clustering is sequence alignment. In an ideal world, we would perform a full multiple sequence alignment with either Smith-Waterman or Needleman-Wunsh of all of our sequences, compute their pairwise similarities (or dissimilarities), and use those values to group sequences that are above some *similarity threshold* into *OTU clusters* (just *OTUs* from here). As we discussed in the mutliple sequence alignment chapter however, that is infeasible for more than a few tens of sequences due to computational and memory requirements. Even progressive alignment can't typically handle more than a few tens of thousands of sequences (at least with the currently available implementations, that I am aware of), so OTU clustering is generally acheived by picking pairs of sequences to align. You'll notice in this section that many of the heuristics that have been applied for speeding up database searching are similar to the heuristics applied for OTU clustering.\n",
      "\n",
      "We'll work with our previously defined Smith-Waterman with affine gap scoring here."
     ]
    },
    {
     "cell_type": "code",
     "collapsed": false,
     "input": [
      "from skbio.core.alignment import SequenceCollection\n",
      "from skbio.core.sequence import DNA\n",
      "from skbio.parse.sequences import parse_fasta\n",
      "\n",
      "from iab.algorithms import sw_align_affine_gap_nt"
     ],
     "language": "python",
     "metadata": {},
     "outputs": []
    },
    {
     "cell_type": "code",
     "collapsed": false,
     "input": [
      "help(sw_align_affine_gap_nt)"
     ],
     "language": "python",
     "metadata": {},
     "outputs": []
    },
    {
     "cell_type": "markdown",
     "metadata": {},
     "source": [
      "Let's define a collection of sequences to work with. These were hand-compiled from the Greengenes database, and trucnated at 250 bases each for computational efficiency in the examples below (quick quiz: why does truncating the sequences help?). \n",
      "\n",
      "**Our goal here will be to group these sequences into OTUs based on some similarity threshold that we define.** If we set this similarity threshold at 90%, meaning that the sequences within that OTU are 90% identicial (either to each other, or maybe to some representative of that cluster - we'll explore some variants on that definition below), we'd call these *90% OTUs*.  "
     ]
    },
    {
     "cell_type": "code",
     "collapsed": false,
     "input": [
      "seqs_16s = \"\"\">881726\n",
      "GACGAACGCTGGCGGCGTGCCTAATACATGCAAGTCGAGCGGATTCATCCTTCGGGATGGGTTAGCGGCGGACGGGTGAGTAACACGTAGGCAACCTGCCTGCAAGTCCGGGATAACTAACGGAAACGTTAGCTAATACCGGATACGCGGTTGGATCGCATGATCCGATCGGGAAAGACGGCGCAAGCTGCCACTTGTAGATGGGCCTGCGGCGCATTAGCTAGTTGGTGGGGTAACGGCTCACCAAGGC\n",
      ">793074\n",
      "GAATGAACGCTGGCGGCGTGCTTAATAATGCAAGTCGAGCGCGTAGCAATACGAGCGGCGCACGGGTGCGTAACACGTAGGTCATCTGCCTCTAGGTCGGGGATAACTGCGGGAAACTGCAGCTAATACCCGATGATATCGAGAGATCAAAGCTTCGGTGCCTAGAGAGGAGCCTGCGGCTCATTAGCTAGTTGGTGGGGTAACGGCCTACCAAGGCCACGATGAGTAGCCGGCCTGAGAGGGCGATCGG\n",
      ">669210\n",
      "AGAGTTTGATCCTGGCTCAGAACGAACGCTGGCGGCGCGCCTAACACATGCAAGTCGAACGGACTAGCCCCTTCGGGGGCGAAGTTAGTGGCGAACGGGTGAGTAACGCGTAAGTAACCTGCCCCCGGGACTGGGATAACAGCTCGAAAGAGCCGCTAATACCGGATAATTGTTGCAACACTTAGGAGTTGTAACTAAAGAAGGCCTCTGTTTCAAGCTTTCACCTGGGGATGGGCTTGCGTCCCATTAG\n",
      ">583705\n",
      "ACGGGTGAGTAACGCGTATGCAACCTACCTCGGAAAAGGGGATGACTGGTGGAAACGGGGATTAATGCCCCCTAGGGTTGTTTCTCTGCCTGGGTGAGCCGTTACTATTGGAACCGATTGAGATGGCCATGTTGGTCATTTCCTGGTTGGTGAGGTTACCTCACACCAAGGCGACGATGACTACGGGGTCTAAAAGGATGGTCCCGCACACTGGTACTGAGACACGGACCAGACTCCTACGGGAGGCAGC\n",
      ">524860\n",
      "AGAGTTTGATCCTGGCTCAGAACGAACGTTGGCGGCATGGATGAGGCATGCAAGTCGCGGGAATCCCCAGCAATGGGGGGAACCGGCGTAAGGGGCAGTAAGGCGTAGGTACCTACCCCCAGGTCCGGGATAGCCCGCCGAGAGGCGGGGTAATACCGGATGACCTCGGGAGAGCAAAGCTCCGGCGCCTGAGGCGGGGCCTACGTGATATTACCTAGTTGGCGGGGTAACGGCCCACCAAGGGGGAGAT\n",
      ">501793\n",
      "GACGAACGCTGGCGGCGTGCCTAATACATGCAAGTCGAACGGAGTGGTTGAAGGAGCTTGCTCTTTTGATCGCTTAGTGGCAGACGGGTGAGTAACACGTAGGCAACCTGGCTGTAAGACGGGGATAACTGGCGGAAACGTGAGCTAAAACCGGATGGTCGGCTTGAGGGCATCCTCGAGTCGGGAAAGGACGGAGCAATCTGTCGCTTACAGATGGGCCTGCGGCGCATTAGCTAGTTGGTAGGGTAAC\n",
      ">296752\n",
      "AGAGTTTGATCTCTGGCTCAGAACAAACGCTGGCGGTGCGTCTTAAGCATGCAAGTCGAGCGATGGTAGGGGGCTTGCTCCCTATTCATAGCGGCGGACTGGTGAGTAACGCGTAGATGACATACCTTTTGCTGGGGGATAGCTTGTGGAAACACAGGGTAATACCGCATACGATTGAGGCGGTTAGAGCGCTTCAATCAAAGCCTTGTATGGGGCGGCAGTTGAGTGGTCTGCGTACTATTAGCTTGTT\n",
      ">293514\n",
      "AGAGTTTGATCCTGGCTCAGAACGAACGCTGGCGGTGCGTCTTAAGCATGCAAGTCGAGCGATGGTAGGGGGCTTGCTCCCTATTCATAGCGGCGGACTGGTGAGTAACGCGTAGATGACATACCTTTTGCTGGGGGATAGCTTGTGGAAACACAGGGTAATACCGCATACGATTGAGGCGGTTAGAGCGCTTCAATCAAAGCCTTGTATGGGGCGGCAGTTGAGTGGTCTGCGTACTATTAGCTTGTTG\n",
      ">292553\n",
      "AGAGTTTGATCCTGGCTCAGAACGAACGCTGGCGGTGCGTCTTAAGCATGCAAGTCGAGCGATGAATGAGGGGCTTGCTCCTTATTCATAGCGGCGGACTGGTGAGTAACGCGTAGATGACATGTCGATGGCAGGGGGATAGCCAGTAGAAATATTGGGTAATACCGCGTATCCTTCTTGTTGTTAGAGGACAAGAAGAAAAGCCTTGTATGGGGCGGCTATTGAGTGGTCTGCGTACTATTAGTTTGTT\n",
      ">266495\n",
      "AGTTTGATCCTGGCTCAAGATGAACGCTAGCGGCAGGCTTAACACATGCAAGTCAAAGGGCAACGGGGAGAGTGCTTGCACTCTCTGCCGGCGACTGGCGCACGGGTGAGTAACACTTATGCAGACACTGCCTTCCACAGGGCGGACAACCTCTCCCAAAGGGAGGCTAATCCCGCGTATATCCCTTGGGGGCATCCCCGGGGGAGGAAAGGATTACCGGTGTGCAGGATGGGCATGCGGCGCATTACGC\n",
      ">229854\n",
      "GAGTTTGATCCTGGCTCAGATTGAACGCTGGCGGCATGCTTAACACATGCAAGTCGAACGGCAGCATGACTTAGCTTGCTAAGTTGATGGCGAGTGGCGAACGGGTGAGTAACGCGTAGGAATATGCCTTAAAGAGGGGGACAACTTGGGGAAACTCAAGCTAATACCGCATAAACTCTTCGGAGAAAAGCTGGGGACTTTCGAGCCTGGCGCTTTAAGATTAGCCTGCGTCCGATTAGCTAGTTGGTAG\n",
      ">182569\n",
      "AGAGTTTGATCCTGGCTCAGGATGAACGCTAGCTACAGGCTTAACACATGCAAGTCGAGGGGCAGCATGGTGTATCAATATATCTATGGCGACCAGCGCACCGGTGATGCACACCTCTCCTACCTGCCCCTTACTCCGGGATGATCTTTCTAAAAAAATATTACTACTCCATGGTATTACCGAAAAACGTCTTTTTGTTGTTTAAAAACTTCGATGGTGGAAGGTGATGCTTTCTATTATATACTTGGTG\n",
      ">1719550\n",
      "TCCTGGCTCAGAACGAACGTTGGCGGCGTGGATTAGGCATGCAAGTCGCGCGAATCCCCGCAAGGGGGGAAGCGGCGTAAGGGGCAGTAAGGCGTGGGTACCTACCCGGGGGTCGGGGATAGCCCGTCGAGAGACGGGGTAATACCCGATGACGTGGAGACACCAAAGGTCCGCCGCCCTCGGCGGGGCCCACGTGATATTAGCTAGTTGGCGGGGTAACGGCCCACCAAGGCGGGGATGTCTAGCGGGT\n",
      ">1794723\n",
      "TTAGAGTTTGATCCTGGCTCAGAACGAACGTTGGCGGCGTGGATTAGGCATGCAAGTCTCGCGAATCCCCGCAAGGGGGGAAGCGGCGTAAGGGGCAGTAAGGCGTGGGTAACCCACCCCGGGGCCCGGGATAGCCCGTCGAGAGACGGGGTAATACCGGGCGACGCAGCGTGCCGGCATCGGTGTGCTGCCAAAGGTCCGCCGCCCCGGGCGGGGCCCACGTGGTATTAGCTAGTTGGTGGGGTGACGG\n",
      ">1142181\n",
      "CACGTGGGTCATTTGCCCCGAAGCCCGGGATAGCCCATGGAAACATGGATTAATACCGGATGTGGTTGGAGTACACAGGTGCTCCGTATTAAACGGTAGGTAGCAATACCTTCCGCTTCGGGATAAGCCCGCGGCCCATTAGCTAGTTGGTGGGGTAAGACCCAACCAAGGAGACAACCGGGAGCCGGACAGAAAGGGTGACGGCCACATTGGGACTGAGAAACGGCCCGATCCTACGGAGGCAGCAGTA\n",
      ">2683209\n",
      "CTGGCGGCGTGGTTTAGGCATGCAAGTCGAACGCGAAAGATTTACTTCGGTAAATTGAGTAGAGTGGCGAACGGGTGAGTAATACGTACGAATCTACCTTAAAGACAGGGATAGTCCCGGGAAACTGGGTTTAATACCTGATGGTATCCGGCTTTGCCGGATTAAAGACGGCCTCTATTTATAAGCTGTTACTTTTAGATGAGCGTGCGCTCCATTAGTTAGTTGGTAAGGTAAGAGCTTACCAAGGCGA\n",
      ">2784824\n",
      "AGTGGCGCACGGGTGAGTAACGCGTGGGTAACTTGCCTTTAAGTGAGGGATAACCCACTGAAAGGTGGACTAATACCTCATAAGACCACAGTGCTACGGCAGCGTGGTCAAAGGTGGCTTTATTAAAAGCTGCCGCTTGGAGAGAGACCCGCGTCCCATCAGCTTGTTGGTAAGGTAATGGCTTACCAAGGCCGAGACGGGTAGCTGGTCTGAGAGGATGGCCAGCCACACTGGAACTGAAACACGGTCC\n",
      ">2941516\n",
      "TTAGAGTTTGATCCTGGCTCAGGATGAACGCTAGCGATAGGCCTAACACATGCAAGTCGAGGGGTAACAGGGTAGCAATACCGCTGACGACCGGCAAATGGGTGAGTAACGCGTATGCAACCTACCGATAACAGTTGGATAGCTCCCTGAAAGGGGAATTAAACCGGCATGACACTATGAGATCGCCTGTTTTCATAGTTAAATATTTATAGGTTATTGATGGGCATGCGTGACATTAGCAAGTTGGTGA\n",
      ">998428\n",
      "GACGAACGCTGGCGGCGTGCCTAATACATGCAAGTCGAGCGGAGTTGTTCCTTCGGGGACAGCTTAGCGGCGGACGGGTGAGTAACACGTAGGCAACCTGCCTGCAGGACCGGGATAACCCACGGAAACGTGAGCTAATACCGGATAGATGGTTCCCTCGCATGAGGGGATCAGGAAAGACGGGGCAACCTGTCACTTGTAGATGGGCCTGCGGCGCATTAGCTAGTTGGCGAGGTAACGGCTCACCAAG\n",
      ">4343117\n",
      "AACGAACGCTGGCGGCGTGCTTAACACATGCAAGTCGCGTGCGCGGTTCACGAACTTGTACGTGGATGGGCGCACGGCGCAGGGGGGCGTAACACGTGGGCACTCTGCCCTCCGATGGGGAATACTCCCGCGAACCGGGGGCTAATACCGCATAACATTCCGAGGACTTGGGTTCTTGGATTCAAAGCAGTGATGCCTGTGAGGAGGAGCCCGCGCCCGATTAGCTAGTTGGTAGGGTAACGGCCTACCT\n",
      ">4353661\n",
      "GGATGAACGCTAGCGGGAGGCTTAATACATGCAAGTCGAGGGTGAAGCTTTCTTCGGAAAGTGGAAACCGGCGAACGGGTGCGTAACGCGTACGCAACTTACCCCTTGCTGGAGAATAGCCCCGGGAAACTGGGATTAATGCTCCATGGTATGGTGAAATCGCATGATTTTATCATTAAAGGTTACGGCAAGGGATAGGCGTGCGTCCCATTAGCTTGTTGGTGAGGTAACGGCTCACCAATGCAAACGA\"\"\"\n",
      "fasta_records = list(parse_fasta(seqs_16s.split(\"\\n\")))\n",
      "\n",
      "seqs_16s = SequenceCollection.from_fasta_records(fasta_records,DNA)"
     ],
     "language": "python",
     "metadata": {},
     "outputs": []
    },
    {
     "cell_type": "markdown",
     "metadata": {},
     "source": [
      "The first approach we'll look at is one that has been called *furthest neighbor*, because whether a sequence becomes a member of a cluster is defined by it's most dissimilar (furthest) \"neighbor\" in that cluster.\n",
      "\n",
      "The way this algorithm works is that we start with our list of sequences. Because this is *de novo* clustering, by definition our first sequence is added to a new cluster (because there are no pre-existing clusters). We'll call this `OTU 1`. We then iterate over the remaining sequences. For the second sequence we compute its pairwise alignment with the first, followed by computing their percent similarity. If their percent similarity is greater than or equal to the similarity threshold, we add the second sequence to `OTU 1`. If is it less than the similarity threshold, we create a new OTU, `OTU 2`, and add the second sequence to that cluster. \n",
      "\n",
      "We continue iterating over the remaining sequences. For each sequence, we compute the pairwise similarity between that sequence and all sequences in each OTU. **If the percent similarity between a query sequence and *all* sequences in a given OTU (say OTU $x$ is greater than the similarity threshold, we add the sequence to OTU $x$.** Otherwise we check the next OTU in the list. If this criteria is not met for any of the OTUs, then we define a new OTU to add the sequence to. \n",
      "\n",
      "**TODO**: Add figures illustrating this process.\n",
      "\n",
      "Here's how we implement that:"
     ]
    },
    {
     "cell_type": "code",
     "collapsed": false,
     "input": [
      "def furthest_neighbor_cluster(seqs, similarity_threshold):\n",
      "    clusters = []\n",
      "    num_alignments = 0\n",
      "    for query_seq in seqs:\n",
      "        best_mean_percent_similarity = 0.0\n",
      "        cluster_index = None\n",
      "        for i, cluster in enumerate(clusters):\n",
      "            cluster_size = len(cluster)\n",
      "            percent_similarities = []\n",
      "            for j, cluster_seq_identifier in enumerate(cluster):\n",
      "                current_cluster_representative_seq = seqs[cluster_seq_identifier]\n",
      "                aln1, aln2, score, start1, start2 = sw_align_affine_gap_nt(str(query_seq), str(current_cluster_representative_seq))\n",
      "                num_alignments += 1\n",
      "                percent_similarity = DNA(aln1).fraction_same(DNA(aln2))\n",
      "                percent_similarities.append(percent_similarity)\n",
      "                if percent_similarity < similarity_threshold:\n",
      "                    # this isn't a possible cluster, move on to the next\n",
      "                    break\n",
      "                elif (percent_similarity >= similarity_threshold and \n",
      "                      j+1 == cluster_size and\n",
      "                      mean(percent_similarities) > best_mean_percent_similarity):\n",
      "                    # we've found the current best cluster, track it and move on to the next\n",
      "                    cluster_index = i\n",
      "                    best_mean_percent_similarity = mean(percent_similarities)\n",
      "                else:\n",
      "                    # this still appears to be a possible cluster, continue checking pairwise alignments\n",
      "                    continue\n",
      "        if cluster_index is None:\n",
      "            clusters.append([query_seq.identifier])\n",
      "        else:\n",
      "            clusters[cluster_index].append(query_seq.identifier)\n",
      "    return clusters, num_alignments"
     ],
     "language": "python",
     "metadata": {},
     "outputs": []
    },
    {
     "cell_type": "markdown",
     "metadata": {},
     "source": [
      "Let's apply that function to our sequence collection. This function will return the number of pairwise alignments that were performed (it'll be clear why we're interested in that soon), and the OTUs. "
     ]
    },
    {
     "cell_type": "code",
     "collapsed": false,
     "input": [
      "clusters, num_alignments = furthest_neighbor_cluster(seqs_16s, 0.82)\n",
      "print(num_alignments)\n",
      "for i, cluster in enumerate(clusters):\n",
      "    print(i, cluster)"
     ],
     "language": "python",
     "metadata": {},
     "outputs": [
      {
       "output_type": "stream",
       "stream": "stdout",
       "text": [
        "163\n",
        "0 ['881726', '793074', '1719550', '1794723', '1142181', '2941516']\n",
        "1 ['669210', '583705', '296752', '293514', '292553', '266495', '182569', '2683209', '2784824']\n",
        "2 ['524860', '229854', '998428', '4353661']\n",
        "3 ['501793', '4343117']\n"
       ]
      }
     ],
     "prompt_number": 23
    },
    {
     "cell_type": "markdown",
     "metadata": {},
     "source": [
      "Let's define a function that will be useful for exploring different clustering algorithms:"
     ]
    },
    {
     "cell_type": "code",
     "collapsed": false,
     "input": [
      "from time import time\n",
      "\n",
      "def evaluate_cluster_fn(cluster_fn, seqs, similarity_threshold, display=True):\n",
      "    start_time = time()\n",
      "    clusters, num_alignments = cluster_fn(seqs, similarity_threshold)\n",
      "    end_time = time()\n",
      "    run_time = end_time - start_time\n",
      "    num_clusters = len(clusters)\n",
      "    if display:\n",
      "        print(\"Number of alignments performed: %d\" % num_alignments)\n",
      "        print(\"Runtime: %1.3fs\" % run_time)\n",
      "        print(\"Number of clusters: %d\" % num_clusters)\n",
      "        print(\"Clusters:\")\n",
      "        for i, cluster in enumerate(clusters):\n",
      "            print(\" \", i, cluster)\n",
      "    return num_alignments, run_time, num_clusters"
     ],
     "language": "python",
     "metadata": {},
     "outputs": [],
     "prompt_number": 26
    },
    {
     "cell_type": "markdown",
     "metadata": {},
     "source": [
      "Now let's apply that:"
     ]
    },
    {
     "cell_type": "code",
     "collapsed": false,
     "input": [
      "r = evaluate_cluster_fn(furthest_neighbor_cluster, seqs_16s, 0.82)"
     ],
     "language": "python",
     "metadata": {},
     "outputs": [
      {
       "output_type": "stream",
       "stream": "stdout",
       "text": [
        "Number of alignments performed: 163\n",
        "Runtime: 23.979s\n",
        "Number of clusters: 4\n",
        "Clusters:\n",
        "  0 ['881726', '793074', '1719550', '1794723', '1142181', '2941516']\n",
        "  1 ['669210', '583705', '296752', '293514', '292553', '266495', '182569', '2683209', '2784824']\n",
        "  2 ['524860', '229854', '998428', '4353661']\n",
        "  3 ['501793', '4343117']\n"
       ]
      }
     ],
     "prompt_number": 25
    },
    {
     "cell_type": "markdown",
     "metadata": {},
     "source": [
      "Let's try a variant on this algorithm. How would things change if **instead of requiring that a sequence be within the similarity treshold of all sequences in an OTU, we only required that it be within the similarity threshold of one sequence in that OTU**? This is referred to as **nearest neighbor** clustering, because cluster membership is defined by the percent similarity to the most similar (or *nearest*) \"neighbor\" in the cluster. "
     ]
    },
    {
     "cell_type": "code",
     "collapsed": false,
     "input": [
      "def nearest_neighbor_cluster(seqs, similarity_threshold):\n",
      "    clusters = []\n",
      "    num_alignments = 0\n",
      "    for query_seq in seqs:\n",
      "        best_percent_similarity = 0.0\n",
      "        cluster_index = None\n",
      "        for i, cluster in enumerate(clusters):\n",
      "            for cluster_seq_identifier in cluster:\n",
      "                current_cluster_representative_seq = seqs[cluster_seq_identifier]\n",
      "                aln1, aln2, score, start1, start2 = sw_align_affine_gap_nt(str(query_seq), str(current_cluster_representative_seq))\n",
      "                num_alignments += 1\n",
      "                percent_similarity = DNA(aln1).fraction_same(DNA(aln2))\n",
      "                if percent_similarity >= similarity_threshold:\n",
      "                    if percent_similarity > best_percent_similarity:\n",
      "                        cluster_index = i\n",
      "                        best_percent_similarity = percent_similarity\n",
      "                        break\n",
      "        if cluster_index is None:\n",
      "            clusters.append([query_seq.identifier])\n",
      "        else:\n",
      "            clusters[cluster_index].append(query_seq.identifier)\n",
      "    return clusters, num_alignments"
     ],
     "language": "python",
     "metadata": {},
     "outputs": [],
     "prompt_number": 27
    },
    {
     "cell_type": "code",
     "collapsed": false,
     "input": [
      "r = evaluate_cluster_fn(nearest_neighbor_cluster, seqs_16s, 0.82)"
     ],
     "language": "python",
     "metadata": {},
     "outputs": [
      {
       "output_type": "stream",
       "stream": "stdout",
       "text": [
        "Number of alignments performed: 67\n",
        "Runtime: 10.149s\n",
        "Number of clusters: 2\n",
        "Clusters:\n",
        "  0 ['881726', '793074', '1719550', '1794723']\n",
        "  1 ['669210', '583705', '524860', '501793', '296752', '293514', '292553', '266495', '229854', '182569', '1142181', '2683209', '2784824', '2941516', '998428', '4343117', '4353661']\n"
       ]
      }
     ],
     "prompt_number": 30
    },
    {
     "cell_type": "markdown",
     "metadata": {},
     "source": [
      "What's different here? \n",
      "\n",
      "This ran a lot faster (less than half the time), and it also computed a lot few alignments. The pairwise alignment step is the most computationally expensive one here, so that makes sense. \n",
      "\n",
      "There was another affect here though: we have half the number of OTUs. Is that good or bad? There is not a definitive answer to that question: it really depends on the application, so what we'd ultimately want to know is how does that affect our ability to interpret the data. **Remember: OTU clustering is a necessary evil to deal with the massive amounts of data that we have. We don't necessary care about things like how many OTUs a method gives us, but rather how the clustering process helps or hurts us answer the biological questions driving the analysis.** We'll explore this concept more in later chapters, but it is an important one that algorithm developers sometimes lose track of.\n",
      "\n",
      "So, given that reducing the number of alignments reduces our runtime drastically, are there ways that we can further reduce the number of alignments that are computed by a clustering algorithm? One approach for that is generally referred to as **greedy clustering**. Here, we can say that **a sequence is assigned to an OTU if it is within the similarity threshold of the first sequence in that OTU**. The first sequence in that cluster then becomes the *cluster centroid*: cluster membership is defined by similarity to that one particular sequence, which effectively sits at the \"center\" of that OTU."
     ]
    },
    {
     "cell_type": "code",
     "collapsed": false,
     "input": [
      "def greedy_cluster(seqs, similarity_threshold):\n",
      "    clusters = []\n",
      "    num_alignments = 0\n",
      "    for query_seq in seqs:\n",
      "        best_percent_similarity = 0.0\n",
      "        cluster_index = None\n",
      "        for i, cluster in enumerate(clusters):\n",
      "            current_cluster_representative_seq = seqs[cluster[0]]\n",
      "            aln1, aln2, score, start1, start2 = sw_align_affine_gap_nt(str(query_seq), str(current_cluster_representative_seq))\n",
      "            num_alignments += 1\n",
      "            percent_similarity = DNA(aln1).fraction_same(DNA(aln2))\n",
      "            if percent_similarity >= similarity_threshold:\n",
      "                if percent_similarity > best_percent_similarity:\n",
      "                    cluster_index = i\n",
      "                    best_percent_similarity = percent_similarity\n",
      "        if cluster_index is None:\n",
      "            clusters.append([query_seq.identifier])\n",
      "        else:\n",
      "            clusters[cluster_index].append(query_seq.identifier)\n",
      "    return clusters, num_alignments"
     ],
     "language": "python",
     "metadata": {},
     "outputs": [],
     "prompt_number": 32
    },
    {
     "cell_type": "code",
     "collapsed": false,
     "input": [
      "r = evaluate_cluster_fn(greedy_cluster, seqs_16s, 0.82)"
     ],
     "language": "python",
     "metadata": {},
     "outputs": [
      {
       "output_type": "stream",
       "stream": "stdout",
       "text": [
        "Number of alignments performed: 38\n",
        "Runtime: 5.779s\n",
        "Number of clusters: 2\n",
        "Clusters:\n",
        "  0 ['881726', '793074', '296752', '1719550', '1794723', '998428', '4353661']\n",
        "  1 ['669210', '583705', '524860', '501793', '293514', '292553', '266495', '229854', '182569', '1142181', '2683209', '2784824', '2941516', '4343117']\n"
       ]
      }
     ],
     "prompt_number": 33
    },
    {
     "cell_type": "markdown",
     "metadata": {},
     "source": [
      "We again (approximately) halved the number of alignments, and the run time, but while we're at it, let's look at one more heuristic. Remember that in the multiple sequence alignment chapter we discussed computing *kmer distances* between sequences, which is an alignment-independent way of getting an idea of the similarity of a pair of sequences. Relative to pairwise alignment, this is very fast, so another strategy we can take is to compute all kmer distances between sequences first. Then, run our greedy clustering process, but only compute the pairwise alignment between a query sequence and the cluster centroid that has the smallest kmer distance to the query. The affect will be that rather than, in the worst case, computing the pairwise alignment between a query and all cluster centroids, we only compute the alignment between the query sequence and the cluster centroid that we think is likely to be most similar to the query sequence, based on it having the smallest kmer distance."
     ]
    },
    {
     "cell_type": "code",
     "collapsed": false,
     "input": [
      "from iab.algorithms import kmer_distance\n",
      "\n",
      "def greedy_cluster_kmer(seqs, similarity_threshold, k=5):\n",
      "    clusters = {}\n",
      "    num_alignments = 0\n",
      "\n",
      "    for query_seq in seqs:\n",
      "        if len(clusters) == 0:\n",
      "            # this is the first sequence (this is a little ugly, clean it up)\n",
      "            percent_similarity = 0.0\n",
      "        else:\n",
      "            # get centroid to query seq kmer distances, and sort them so smallest distance is first\n",
      "            smallest_kmer_distance = 1.0\n",
      "            closest_kmer_centroid_identifier = None\n",
      "            closest_kmer_centroid_seq = None\n",
      "            for centroid_identifier in clusters:\n",
      "                centroid_seq = seqs[centroid_identifier]\n",
      "                current_kmer_dist = kmer_distance(query_seq, centroid_seq, k)\n",
      "                if current_kmer_dist < smallest_kmer_distance:\n",
      "                    closest_kmer_centroid_identifier = centroid_identifier\n",
      "                    closest_kmer_centroid_seq = centroid_seq\n",
      "            \n",
      "            # align the query against that centroid and compute percent similarity\n",
      "            aln1, aln2, score, start1, start2 = sw_align_affine_gap_nt(str(query_seq), str(closest_kmer_centroid_seq))\n",
      "            num_alignments += 1\n",
      "            percent_similarity = DNA(aln1).fraction_same(DNA(aln2))\n",
      "        \n",
      "        # and if it's within the similarity threshold, add the sequence to that cluster\n",
      "        if percent_similarity >= similarity_threshold:\n",
      "            clusters[closest_kmer_centroid_identifier].append(query_seq.identifier)\n",
      "        # otherwise, create a new cluster\n",
      "        else:\n",
      "            clusters[query_seq.identifier] = [query_seq.identifier]\n",
      "    \n",
      "    clusters = clusters.values()\n",
      "    return clusters, num_alignments"
     ],
     "language": "python",
     "metadata": {},
     "outputs": [],
     "prompt_number": 49
    },
    {
     "cell_type": "code",
     "collapsed": false,
     "input": [
      "r = evaluate_cluster_fn(greedy_cluster_kmer, seqs_16s, 0.82)"
     ],
     "language": "python",
     "metadata": {},
     "outputs": [
      {
       "output_type": "stream",
       "stream": "stdout",
       "text": [
        "Number of alignments performed: 20\n",
        "Runtime: 3.034s\n",
        "Number of clusters: 2\n",
        "Clusters:\n",
        "  0 ['881726', '793074']\n",
        "  1 ['669210', '583705', '524860', '501793', '296752', '293514', '292553', '266495', '229854', '182569', '1719550', '1794723', '1142181', '2683209', '2784824', '2941516', '998428', '4343117', '4353661']\n"
       ]
      }
     ],
     "prompt_number": 50
    },
    {
     "cell_type": "markdown",
     "metadata": {},
     "source": [
      "How do these results compare to the previous methods?"
     ]
    },
    {
     "cell_type": "heading",
     "level": 2,
     "metadata": {},
     "source": [
      "Comparing properties of our clustering algorithms"
     ]
    },
    {
     "cell_type": "markdown",
     "metadata": {},
     "source": [
      "We so far looked at these algorithms based on a single similarity threshold and a single sequence collection, but as we know from previous chapters it's important to know how features such as run time change with different inputs. Let's explore these algorithms in the context of changing sequence collection sizes and similarity thresholds."
     ]
    },
    {
     "cell_type": "code",
     "collapsed": false,
     "input": [
      "cluster_fns = [(\"furthest neighbor\", furthest_neighbor_cluster), \n",
      "               (\"nearest_neighbor\", nearest_neighbor_cluster), \n",
      "               (\"greedy\", greedy_cluster),\n",
      "               (\"greedy (kmer)\", greedy_cluster_kmer)]\n",
      "similarity_thresholds = [0.60, 0.70, 0.80, 0.90]\n",
      "sequence_collections = map(SequenceCollection,[seqs_16s[:5], seqs_16s[:10], seqs_16s[:15], seqs_16s])"
     ],
     "language": "python",
     "metadata": {},
     "outputs": [],
     "prompt_number": 35
    },
    {
     "cell_type": "markdown",
     "metadata": {},
     "source": [
      "First let's look at different similarity thresholds by looping over our clustering functions and a few similarity thresholds, and finding the run time for each."
     ]
    },
    {
     "cell_type": "code",
     "collapsed": false,
     "input": [
      "alignment_counts = []\n",
      "run_times = []\n",
      "cluster_counts = []\n",
      "for cluster_fn in cluster_fns:\n",
      "    current_alignment_counts = []\n",
      "    current_run_times = []\n",
      "    current_cluster_counts = []\n",
      "    for similarity_threshold in similarity_thresholds:\n",
      "        num_alignments, run_time, num_clusters = evaluate_cluster_fn(cluster_fn[1], seqs_16s, similarity_threshold, display=False)\n",
      "        current_run_times.append(run_time)\n",
      "        current_alignment_counts.append(num_alignments)\n",
      "        current_cluster_counts.append(num_clusters)\n",
      "    alignment_counts.append(current_alignment_counts)\n",
      "    run_times.append(current_run_times)\n",
      "    cluster_counts.append(current_cluster_counts)    "
     ],
     "language": "python",
     "metadata": {},
     "outputs": [],
     "prompt_number": 36
    },
    {
     "cell_type": "markdown",
     "metadata": {},
     "source": [
      "We can now plot these using matplotlib."
     ]
    },
    {
     "cell_type": "code",
     "collapsed": false,
     "input": [
      "for rt in run_times:\n",
      "    plt.plot(similarity_thresholds, rt)\n",
      "plt.legend([e[0] for e in cluster_fns])\n",
      "plt.xlabel(\"Similarity threshold\")\n",
      "plt.ylabel(\"Run time (s)\")"
     ],
     "language": "python",
     "metadata": {},
     "outputs": [
      {
       "metadata": {},
       "output_type": "pyout",
       "prompt_number": 37,
       "text": [
        "<matplotlib.text.Text at 0x107531090>"
       ]
      },
      {
       "metadata": {},
       "output_type": "display_data",
       "png": "[encoded data removed]",
       "text": [
        "<matplotlib.figure.Figure at 0x107475dd0>"
       ]
      }
     ],
     "prompt_number": 37
    },
    {
     "cell_type": "markdown",
     "metadata": {},
     "source": [
      "Remember that above I said that most of the time in each of these clustering algorithms is spent doing pairwise alignment. Let's plot the number of alignments comptued by each as well so I can prove that to you."
     ]
    },
    {
     "cell_type": "code",
     "collapsed": false,
     "input": [
      "for na in alignment_counts:\n",
      "    plt.plot(similarity_thresholds, na)\n",
      "plt.legend([e[0] for e in cluster_fns])\n",
      "plt.xlabel(\"Similarity threshold\")\n",
      "plt.ylabel(\"Number of alignments computed\")"
     ],
     "language": "python",
     "metadata": {},
     "outputs": [
      {
       "metadata": {},
       "output_type": "pyout",
       "prompt_number": 38,
       "text": [
        "<matplotlib.text.Text at 0x1075c9f10>"
       ]
      },
      {
       "metadata": {},
       "output_type": "display_data",
       "png": "[encoded data removed]",
       "text": [
        "<matplotlib.figure.Figure at 0x1073fe950>"
       ]
      }
     ],
     "prompt_number": 38
    },
    {
     "cell_type": "markdown",
     "metadata": {},
     "source": [
      "Next let's look at run time as a function of the number of sequences to be clustered."
     ]
    },
    {
     "cell_type": "code",
     "collapsed": false,
     "input": [
      "alignment_counts = []\n",
      "run_times = []\n",
      "cluster_counts = []\n",
      "for cluster_fn in cluster_fns:\n",
      "    current_alignment_counts = []\n",
      "    current_run_times = []\n",
      "    current_cluster_counts = []\n",
      "    for sequence_collection in sequence_collections:\n",
      "        num_alignments, run_time, num_clusters = evaluate_cluster_fn(cluster_fn[1], sequence_collection, 0.90, display=False)\n",
      "        current_run_times.append(run_time)\n",
      "        current_alignment_counts.append(num_alignments)\n",
      "        current_cluster_counts.append(num_clusters)\n",
      "    alignment_counts.append(current_alignment_counts)\n",
      "    run_times.append(current_run_times)\n",
      "    cluster_counts.append(current_cluster_counts) "
     ],
     "language": "python",
     "metadata": {},
     "outputs": [],
     "prompt_number": 39
    },
    {
     "cell_type": "code",
     "collapsed": false,
     "input": [
      "for rt in run_times:\n",
      "    plt.plot([e.sequence_count() for e in sequence_collections], rt)\n",
      "plt.legend([e[0] for e in cluster_fns])\n",
      "plt.xlabel(\"Number of sequences\")\n",
      "plt.ylabel(\"Run time (s)\")"
     ],
     "language": "python",
     "metadata": {},
     "outputs": [
      {
       "metadata": {},
       "output_type": "pyout",
       "prompt_number": 40,
       "text": [
        "<matplotlib.text.Text at 0x10749aa50>"
       ]
      },
      {
       "metadata": {},
       "output_type": "display_data",
       "png": "[encoded data removed]",
       "text": [
        "<matplotlib.figure.Figure at 0x1075d27d0>"
       ]
      }
     ],
     "prompt_number": 40
    },
    {
     "cell_type": "markdown",
     "metadata": {},
     "source": [
      "**Which of these methods do you think will scale best** to continuosuly increasing numbers of sequences (e.g., as is currently the trend in microbiomics)?"
     ]
    },
    {
     "cell_type": "heading",
     "level": 2,
     "metadata": {},
     "source": [
      "Reference-based clustering to assist with parallelization"
     ]
    },
    {
     "cell_type": "markdown",
     "metadata": {},
     "source": [
      "**TODO**\n",
      "\n",
      "* Issues with run time (maybe examples from EMP clustering run times)\n",
      "* Need for parallelization\n",
      "* Introduce closed-reference and open-reference OTU clustering, and pros and cons of the three methods. "
     ]
    }
   ],
   "metadata": {}
  }
 ]
}