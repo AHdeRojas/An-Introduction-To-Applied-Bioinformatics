{
 "metadata": {
  "name": "phylogeny-reconstruction"
 },
 "nbformat": 3,
 "nbformat_minor": 0,
 "worksheets": [
  {
   "cells": [
    {
     "cell_type": "heading",
     "level": 1,
     "metadata": {},
     "source": [
      "Phylogenetic reconstruction"
     ]
    },
    {
     "cell_type": "markdown",
     "metadata": {},
     "source": [
      "What: \n",
      "\n",
      "The process of inferring the evolutionary relationships between organisms or groups of organisms, and usually representing that information as a tree. \n",
      "\n",
      "Why:\n",
      "\n",
      "1. Make functional inferences about genes. \n",
      "2. Understand relationships between organisms (and therefore possible similarities between them). \n",
      "3. Compare the composition of communities of organisms (but we'll come back to this).\n",
      "\n",
      "How:\n",
      "\n",
      "By comparing traits of extant organisms. In our case, traits are columns in a multiple sequence alignment. Many algorithms and tools exist for achieving this, and they vary widely in runtime and quality of results. We're going to begin by learning about one of the oldest and simplest methods for doing this: *Unweighted Pair Group Method with Arithmetic Mean* or UPGMA. (Don't be scared by the name - it's actually fairly simple.) \n",
      "\n",
      "UPGMA is a heirarchical clustering algorithm. It is widely used, though it's application in phylogenetics is usually restricted to building preliminary trees to \"guide\" the process of multiple sequence alignment, as it makes some assumptions that don't work well for inferring relationships between organsims. We're going to start with it here however for a few reasons. First, the underlying math is very basic, so we don't need to assume anything about your background. Second, there are some other applications of UPGMA that we'll explore later, including grouping samples based on their species compositions. In general, my strategy with teaching this material is to start by giving you a basic introdution into how a process works so you can visualize and do it. From there, we can get more complex."
     ]
    },
    {
     "cell_type": "heading",
     "level": 2,
     "metadata": {},
     "source": [
      "Some terminology"
     ]
    },
    {
     "cell_type": "markdown",
     "metadata": {},
     "source": [
      "Here's the goal (well, *a* goal, but this is the basic idea):\n",
      "\n",
      "<img src=\"files/images/basic-rooted-tree1.jpg\" width=600>\n",
      "\n",
      "Each *leaf* (or *tip*, or *terminal node*) in this tree represents a sequence, and the length of the horizonal branches between them indicate their dissimilarity to one another. This is a *rooted tree*, which means that it includes an assumption about the last common ancestor of all sequences represented in the tree. \n",
      "\n",
      "Note that the vertical lines in this tree are used for layout purposes only - they do not represent dissimilarity between sequences.\n",
      "\n",
      "An **unrooted trees**, like the following, doesn't include an assumption about the last common ancestor of all sequences:\n",
      "\n",
      "<img src=\"files/images/basic-unrooted-tree1.jpg\" width=600>\n",
      "\n",
      "\n",
      "**Terminal nodes, tips or leaves** extant organisms, frequently called operational taxonomic units or OTUs. OTUs are families of related organisms. \n",
      "\n",
      "**Internal nodes** hypothetical ancestors - we postulate their existence but often don\u2019t have direct evidence.\n",
      "\n",
      "**Clade** an internal node and all nodes \"below\" it (i.e., toward the tips)\n",
      "\n",
      "**Root** the internal node defining the clade which contains all nodes in the tree\n",
      "\n",
      "**Branches** representative of the distance between the nodes.\n",
      "\n",
      "<img src=\"files/images/tree-schematic1.png\">\n"
     ]
    },
    {
     "cell_type": "markdown",
     "metadata": {},
     "source": [
      "**Monophyletic group** the last common ancestor was a member of the group (e.g., multicellular organisms)\n",
      "\n",
      "<img src=\"files/images/tree-monophyly.png\">\n",
      "\n",
      "**Polyphyletic group** the last common ancestor was not a member of the group (e.g., flying animals)\n",
      "\n",
      "<img src=\"files/images/tree-polyphyly.png\">"
     ]
    },
    {
     "cell_type": "markdown",
     "metadata": {},
     "source": [
      "We assume that as time progresses, sequences will diverge such that more similar sequences have diverged more recently. The problem of phylogenetic reconstruction however is that we only have the tips. We don't have sequences for the internal nodes, and so we use modern sequences to develop a hypothesis about the evolutionary history of a sequence (and hopefully of the organisms who encode those sequences in their genomes).\n",
      "\n",
      "<img src=\"files/images/sequence-evo-tree.png\">"
     ]
    },
    {
     "cell_type": "markdown",
     "metadata": {},
     "source": [
      "How many (rooted) trees are there for `n` sequences (this image is scanned from Chapter 3 of [Inferring Phylogenies](http://www.amazon.com/Inferring-Phylogenies-Joseph-Felsenstein/dp/0878931775/ref=sr_1_1?s=books&ie=UTF8&qid=1393288952&sr=1-1&keywords=inferring+phylogenies), the definitive text on this topic)?\n",
      "\n",
      "<img src=\"files/images/Felsenstein_Fig3.2.png\" width=600>\n",
      "\n",
      "\n",
      "\n",
      "\n",
      "Because of the massive number of possible trees for any reasonable number of sequences, we can't just search all trees to figure out which one best matches our data. Instead, we must take a heurtistic approach to tree building. Some design features of heurtistic methods that are used in practice are that they:\n",
      "\n",
      "1. Look at a subset of the possible trees, and don\u2019t guarantee to find the best tree. \n",
      "2. Scale to trees for many OTUs (how well they scale depends on the method, and there is a lot of variability)\n",
      "3. Often provide a single tree, so do not include information on how likely other tree topologies are (we\u2019ll talk about methods, such as bootstrapping, to address this). \n"
     ]
    },
    {
     "cell_type": "heading",
     "level": 2,
     "metadata": {},
     "source": [
      "Distances and distance matrices"
     ]
    },
    {
     "cell_type": "markdown",
     "metadata": {},
     "source": [
      "Computing a UPGMA tree for a group of sequences relies on first computing *distances* between each pair of those sequences. A *distance*, in this sense, is a technical term. It's a measure of dissimilarity between two items, `x` and `y`, which meets a few criteria:\n",
      "\n",
      "1. `d(x,y) >= 0` (non-negativity)\n",
      "2. `d(x,y) = 0` [`iff`](http://en.wikipedia.org/wiki/If_and_only_if) `x = y` (identity of indiscernibles)\n",
      "3. `d(x,y) = d(y,x)` (symmetry) \n",
      "4. `d(x,z) <= d(x,y) + d(y,z)` (triangle inequality)\n",
      "\n",
      "Let's start with something more similar that sequences. Let's compute the distances between points in a Cartesian plane, to explore what each of these mean.  \n"
     ]
    },
    {
     "cell_type": "code",
     "collapsed": false,
     "input": [
      "import matplotlib.pyplot as plt\n",
      "\n",
      "x_vals = [1, 4, 2]\n",
      "y_vals = [3, 3, 6]\n",
      "coordinates = zip(x_vals, y_vals)\n",
      "\n",
      "fig, ax = plt.subplots()\n",
      "ax.scatter(x_vals, y_vals)\n",
      "ax.set_xlim(0)\n",
      "ax.set_ylim(0)"
     ],
     "language": "python",
     "metadata": {},
     "outputs": [
      {
       "output_type": "pyout",
       "prompt_number": 1,
       "text": [
        "(0, 6.5)"
       ]
      },
      {
       "output_type": "display_data",
       "png": "[encoded data removed]"
      }
     ],
     "prompt_number": 1
    },
    {
     "cell_type": "code",
     "collapsed": false,
     "input": [
      "def euclidean_distance_2d(c1, c2):\n",
      "    \"\"\" compute euclidean distance between two coordiates in their first 2 dimensions\n",
      "    \"\"\"\n",
      "    x1 = c1[0]\n",
      "    y1 = c1[1]\n",
      "    x2 = c2[0]\n",
      "    y2 = c2[1]\n",
      "    return sqrt((x1 - x2) ** 2 + (y1 - y2) ** 2)"
     ],
     "language": "python",
     "metadata": {},
     "outputs": [],
     "prompt_number": 2
    },
    {
     "cell_type": "markdown",
     "metadata": {},
     "source": [
      "Does Euclidean distance appear to meet the above four requirements of a distance metric?\n",
      "\n",
      "\n",
      "We can now compute the distances between all of these pairs of coordinates, and we can store these in what's known as a *distance matrix*. "
     ]
    },
    {
     "cell_type": "code",
     "collapsed": false,
     "input": [
      "dm = []\n",
      "\n",
      "for c1 in coordinates:\n",
      "    row = []\n",
      "    for c2 in coordinates:\n",
      "        row.append(euclidean_distance_2d(c1, c2))\n",
      "    dm.append(row)\n",
      "\n",
      "print dm"
     ],
     "language": "python",
     "metadata": {},
     "outputs": [
      {
       "output_type": "stream",
       "stream": "stdout",
       "text": [
        "[[0.0, 3.0, 3.1622776601683795], [3.0, 0.0, 3.6055512754639891], [3.1622776601683795, 3.6055512754639891, 0.0]]\n"
       ]
      }
     ],
     "prompt_number": 3
    },
    {
     "cell_type": "markdown",
     "metadata": {},
     "source": [
      "Let's format this a little nicer for convenient viewing:"
     ]
    },
    {
     "cell_type": "code",
     "collapsed": false,
     "input": [
      "from pairwise_alignment import format_matrix\n",
      "\n",
      "def format_distance_matrix(dm, ids=None):\n",
      "    ids = ids or range(len(dm))\n",
      "    return format_matrix(ids, ids, dm)"
     ],
     "language": "python",
     "metadata": {},
     "outputs": [],
     "prompt_number": 4
    },
    {
     "cell_type": "code",
     "collapsed": false,
     "input": [
      "print format_distance_matrix(dm)"
     ],
     "language": "python",
     "metadata": {},
     "outputs": [
      {
       "output_type": "stream",
       "stream": "stdout",
       "text": [
        "           0     1     2\n",
        "     0  0.00  3.00  3.16\n",
        "     1  3.00  0.00  3.61\n",
        "     2  3.16  3.61  0.00\n"
       ]
      }
     ],
     "prompt_number": 5
    },
    {
     "cell_type": "markdown",
     "metadata": {},
     "source": [
      "The conditions of a distance matrix listed above lead to a few specific features: the distance matrix is symmetric (if you flip the upper triangle over the diagonal, the values are the same as those in the lower triangle), the distance matrix is *hollow* (the diagonal is all zeros), and there are no negative values. "
     ]
    },
    {
     "cell_type": "heading",
     "level": 2,
     "metadata": {},
     "source": [
      "Computing the distance between pairs of sequences."
     ]
    },
    {
     "cell_type": "markdown",
     "metadata": {},
     "source": [
      "Most often, distances between pairs of sequences are derived from a multiple sequence alignment. These differ from the pairwise alignments that we\u2019ve looked at thus far, but use the same underlying algorithms (and we'll be coming back to this next).\n",
      "\n",
      "Let's load up some aligned sequences, and compute a distance matrix."
     ]
    },
    {
     "cell_type": "code",
     "collapsed": false,
     "input": [
      "from pairwise_alignment import hamming_distance\n",
      "\n",
      "seqs = [('s1', 'ACCGTGAAGCCAATAC'), \n",
      "        ('s2', 'A-CGTGCAACCATTAC'),\n",
      "        ('s3', 'AGCGTGCAGCCAATAC'),\n",
      "        ('s4', 'AGGGTGCCGC-AATAC'),\n",
      "        ('s5', 'AGGGTGCCAC-AATAC')]"
     ],
     "language": "python",
     "metadata": {},
     "outputs": [],
     "prompt_number": 6
    },
    {
     "cell_type": "code",
     "collapsed": false,
     "input": [
      "master_dm = []\n",
      "seq_ids = []\n",
      "for id1, seq1 in seqs:\n",
      "    seq_ids.append(id1)\n",
      "    row = []\n",
      "    for id2, seq2 in seqs:\n",
      "        row.append(hamming_distance(seq1, seq2))\n",
      "    master_dm.append(row)"
     ],
     "language": "python",
     "metadata": {},
     "outputs": [],
     "prompt_number": 7
    },
    {
     "cell_type": "code",
     "collapsed": false,
     "input": [
      "print format_distance_matrix(master_dm, seq_ids)"
     ],
     "language": "python",
     "metadata": {},
     "outputs": [
      {
       "output_type": "stream",
       "stream": "stdout",
       "text": [
        "          s1    s2    s3    s4    s5\n",
        "    s1  0.00  4.00  2.00  5.00  6.00\n",
        "    s2  4.00  0.00  3.00  6.00  5.00\n",
        "    s3  2.00  3.00  0.00  3.00  4.00\n",
        "    s4  5.00  6.00  3.00  0.00  1.00\n",
        "    s5  6.00  5.00  4.00  1.00  0.00\n"
       ]
      }
     ],
     "prompt_number": 8
    },
    {
     "cell_type": "markdown",
     "metadata": {},
     "source": [
      "Once we have these distances, we can cluster the sequences based on their similiaries/dissimilarities. This is the first process that we'll explore for tree building."
     ]
    },
    {
     "cell_type": "heading",
     "level": 2,
     "metadata": {},
     "source": [
      "Hierarchical clustering with UPGMA"
     ]
    },
    {
     "cell_type": "markdown",
     "metadata": {},
     "source": [
      "Unweighted Pair-Group Method with Arithmetic mean\n",
      "\n",
      "Unweighted: all tip-to-tip distances contribute equally\n",
      "Pair-group: all branch points lead to exactly two clades\n",
      "Arithmetic mean: distances to each clade are the mean of distances to all members of that clade\n",
      "\n",
      "Steps\n",
      "-----\n",
      "\n",
      "1. Identify the smallest distance in the matrix and define a clade containing only those members. Draw that clade, and set the *total* branch length to the distance between the tips.\n",
      "2. Create a new distance matrix with an entry representing the clade created in step 1. \n",
      "3. Calculate the distance matrix entries for the clade as the mean distance from each of the tips of the new clade to all other tips in the distance matrix.\n",
      "4. If there is only one distance (below or above the diagonal) in the distance matrix, use it to connect the remaing clades, and stop. Otherwise repeat step 1. \n",
      "\n",
      "Let's start, working from the above distance matrix."
     ]
    },
    {
     "cell_type": "markdown",
     "metadata": {},
     "source": [
      "Iteration 1\n",
      "------------\n",
      "\n",
      "Step 1.1: The smallest distance in the above matrix is `1.00`, between `s4` and `s5`. So, we'll draw that clade and set each branch length to `0.5`. \n",
      "\n",
      "Step 1.2: Next, we'll create a new, smaller distance matrix where the sequences `s4` and `s5` are now represented by a single clade, `(s4, s5)`. \n",
      "\n",
      "<img src=\"files/images/upgma-tree-iter1.png\">"
     ]
    },
    {
     "cell_type": "code",
     "collapsed": false,
     "input": [
      "ids = ['s1', 's2', 's3', '(s4, s5)']\n",
      "\n",
      "iter1_dm = [[0.0,   4.0,  2.0, None], \n",
      "            [4.0,   0.0,  3.0, None], \n",
      "            [2.0,   3.0,  0.0, None], \n",
      "            [None, None, None, None]]"
     ],
     "language": "python",
     "metadata": {},
     "outputs": [],
     "prompt_number": 9
    },
    {
     "cell_type": "markdown",
     "metadata": {},
     "source": [
      "Step 1.3: We'll now fill in the values from the new clade to each of the existing sequences (or clades). The distance will be the mean between a pre-existing clades, and each of the sequences in the new clade. For example, the distance between `s1` and `(s4, s5)` is the mean of the distance between `s1` and `s4` and `s1` and `s5`:"
     ]
    },
    {
     "cell_type": "code",
     "collapsed": false,
     "input": [
      "mean([master_dm[0][3], master_dm[0][4]])"
     ],
     "language": "python",
     "metadata": {},
     "outputs": [
      {
       "output_type": "pyout",
       "prompt_number": 10,
       "text": [
        "5.5"
       ]
      }
     ],
     "prompt_number": 10
    },
    {
     "cell_type": "markdown",
     "metadata": {},
     "source": [
      "Step 1.3 (continued): Similarly, the distance between `s2` and `(s4, s5)` is the mean of the distance between `s2` and `s4` and `s2` and `s5`:"
     ]
    },
    {
     "cell_type": "code",
     "collapsed": false,
     "input": [
      "mean([master_dm[1][3], master_dm[1][4]])"
     ],
     "language": "python",
     "metadata": {},
     "outputs": [
      {
       "output_type": "pyout",
       "prompt_number": 11,
       "text": [
        "5.5"
       ]
      }
     ],
     "prompt_number": 11
    },
    {
     "cell_type": "markdown",
     "metadata": {},
     "source": [
      "Step 1.3 (continued): And finally, the distance between `s3` and `(s4, s5)` is the mean of the distance between `s3` and `s4` and the distance between `s3` and `s5`:"
     ]
    },
    {
     "cell_type": "code",
     "collapsed": false,
     "input": [
      "mean([master_dm[2][3], master_dm[2][4]])"
     ],
     "language": "python",
     "metadata": {},
     "outputs": [
      {
       "output_type": "pyout",
       "prompt_number": 12,
       "text": [
        "3.5"
       ]
      }
     ],
     "prompt_number": 12
    },
    {
     "cell_type": "markdown",
     "metadata": {},
     "source": [
      "Step 1.3 (continued): If we fill these values in (note that they will be the same above and below the diagonal) the post-iteration 1 distance matrix looks like the following:"
     ]
    },
    {
     "cell_type": "code",
     "collapsed": false,
     "input": [
      "ids = ['s1', 's2', 's3', '(s4, s5)']\n",
      "\n",
      "iter1_dm = [[0.0, 4.0, 2.0, 5.5], \n",
      "      [4.0, 0.0, 3.0, 5.5], \n",
      "      [2.0, 3.0, 0.0, 3.5], \n",
      "      [5.5, 5.5, 3.5, 0.0]]\n",
      "\n",
      "print format_distance_matrix(iter1_dm, ids)"
     ],
     "language": "python",
     "metadata": {},
     "outputs": [
      {
       "output_type": "stream",
       "stream": "stdout",
       "text": [
        "          s1    s2    s3(s4, s5)\n",
        "    s1  0.00  4.00  2.00  5.50\n",
        "    s2  4.00  0.00  3.00  5.50\n",
        "    s3  2.00  3.00  0.00  3.50\n",
        "(s4, s5)  5.50  5.50  3.50  0.00\n"
       ]
      }
     ],
     "prompt_number": 13
    },
    {
     "cell_type": "markdown",
     "metadata": {},
     "source": [
      "Step 1.4: There is still more than one value below the diagonal, so we start a new iteration."
     ]
    },
    {
     "cell_type": "markdown",
     "metadata": {},
     "source": [
      "Iteration 2\n",
      "------------\n",
      "\n",
      "Step 2.1: The smallest distance in the above matrix is `2.00`, between `s1` and `s3`. So, we'll draw that clade and set each branch length to `1.0`. \n",
      "\n",
      "Step 2.2: Next, we'll create a new, smaller distance matrix where the sequences `s1` and `s3` are now represented by a single clade, `(s1, s3)`. \n",
      "\n",
      "<img src=\"files/images/upgma-tree-iter2.png\">"
     ]
    },
    {
     "cell_type": "code",
     "collapsed": false,
     "input": [
      "ids = ['(s1, s3)', 's2', '(s4, s5)']\n",
      "\n",
      "iter2_dm = [[None, None, None], \n",
      "      [None,  0.0, 5.5], \n",
      "      [None,  5.5, 0.0]]"
     ],
     "language": "python",
     "metadata": {},
     "outputs": [],
     "prompt_number": 14
    },
    {
     "cell_type": "markdown",
     "metadata": {},
     "source": [
      "Step 2.3: We'll now fill in the values from the new clade to each of the existing sequences (or clades). The distance will be the mean between a pre-existing clades, and each of the sequences in the new clade. For example, the distance between `s2` and `(s1, s3)` is the mean of the distance between `s2` and `s1` and `s2` and `s3`:"
     ]
    },
    {
     "cell_type": "code",
     "collapsed": false,
     "input": [
      "mean([master_dm[1][0], master_dm[1][2]])"
     ],
     "language": "python",
     "metadata": {},
     "outputs": [
      {
       "output_type": "pyout",
       "prompt_number": 15,
       "text": [
        "3.5"
       ]
      }
     ],
     "prompt_number": 15
    },
    {
     "cell_type": "markdown",
     "metadata": {},
     "source": [
      "Step 2.3 (continued): Next, we need to find the distance between `(s1, s3)` and `(s4, s5)`. This is computed as the mean of the distance between `s1` and `s4`, the distance between `s1` and `s5`, the distance between `s3` and `s4`, and the distance between `s3` and `s5`. Note that we are going back to our master distance matrix here for these distances, **not** our iteration 1 distance matrix."
     ]
    },
    {
     "cell_type": "code",
     "collapsed": false,
     "input": [
      "mean([master_dm[0][3], master_dm[0][4], master_dm[2][3], master_dm[2][4]])"
     ],
     "language": "python",
     "metadata": {},
     "outputs": [
      {
       "output_type": "pyout",
       "prompt_number": 16,
       "text": [
        "4.5"
       ]
      }
     ],
     "prompt_number": 16
    },
    {
     "cell_type": "markdown",
     "metadata": {},
     "source": [
      "Step 2.3 (continued): We can now fill in all of the distances in our iteration 2 distance matrix."
     ]
    },
    {
     "cell_type": "code",
     "collapsed": false,
     "input": [
      "iter2_dm = [[0.0, 3.5, 4.5], \n",
      "            [3.5, 0.0, 5.5], \n",
      "            [4.5, 5.5, 0.0]]\n",
      "\n",
      "print format_distance_matrix(iter2_dm, ids)"
     ],
     "language": "python",
     "metadata": {},
     "outputs": [
      {
       "output_type": "stream",
       "stream": "stdout",
       "text": [
        "      (s1, s3)    s2(s4, s5)\n",
        "(s1, s3)  0.00  3.50  4.50\n",
        "    s2  3.50  0.00  5.50\n",
        "(s4, s5)  4.50  5.50  0.00\n"
       ]
      }
     ],
     "prompt_number": 17
    },
    {
     "cell_type": "markdown",
     "metadata": {},
     "source": [
      "Step 2.4: There is still more than one value below the diagonal, so we start a new iteration."
     ]
    },
    {
     "cell_type": "markdown",
     "metadata": {},
     "source": [
      "Iteration 3\n",
      "------------\n",
      "\n",
      "Step 3.1: The smallest distance in the above matrix is `3.50`, between `(s1, s3)` and `s2`. So, we'll draw that clade and set each branch length to `1.75`. \n",
      "\n",
      "Step 3.2: Next, we'll create a new, smaller distance matrix where the clade `(s1, s3)` and the sequence `s2` are now represented by a single clade, `((s1, s3), s2)`. \n",
      "\n",
      "<img src=\"files/images/upgma-tree-iter3.png\">"
     ]
    },
    {
     "cell_type": "code",
     "collapsed": false,
     "input": [
      "ids = ['((s1, s3), s2)', '(s4, s5)']\n",
      "\n",
      "iter3_dm = [[None, None], \n",
      "            [None,  0.0]]"
     ],
     "language": "python",
     "metadata": {},
     "outputs": [],
     "prompt_number": 18
    },
    {
     "cell_type": "markdown",
     "metadata": {},
     "source": [
      "Step 3.3: We'll now fill in the values from the new clade to each of the existing sequences (or clades). This is computed as the mean of the distance between `s1` and `s4`, the distance between `s1` and `s5`, the distance between `s3` and `s4`, the distance between `s3` and `s5`, the distance between `s2` and `s4`, and the distance between `s2` and `s5`. Again, note that we are going back to our master distance matrix here for these distances, **not** our iteration 1 or iteration 2 distance matrix."
     ]
    },
    {
     "cell_type": "code",
     "collapsed": false,
     "input": [
      "mean([master_dm[0][3], master_dm[0][4], master_dm[2][3], master_dm[2][4], master_dm[1][3], master_dm[1][4]])"
     ],
     "language": "python",
     "metadata": {},
     "outputs": [
      {
       "output_type": "pyout",
       "prompt_number": 19,
       "text": [
        "4.833333333333333"
       ]
      }
     ],
     "prompt_number": 19
    },
    {
     "cell_type": "markdown",
     "metadata": {},
     "source": [
      "Step 3.3 (continued): We can now fill in all of the distances in our iteration 3 distance matrix. "
     ]
    },
    {
     "cell_type": "code",
     "collapsed": false,
     "input": [
      "iter3_dm = [[0.0, 4.8], \n",
      "            [4.8, 0.0]]\n",
      "\n",
      "print format_distance_matrix(iter3_dm, ids)"
     ],
     "language": "python",
     "metadata": {},
     "outputs": [
      {
       "output_type": "stream",
       "stream": "stdout",
       "text": [
        "      ((s1, s3), s2)(s4, s5)\n",
        "((s1, s3), s2)  0.00  4.80\n",
        "(s4, s5)  4.80  0.00\n"
       ]
      }
     ],
     "prompt_number": 20
    },
    {
     "cell_type": "markdown",
     "metadata": {},
     "source": [
      "Step 3.4: At this stage, there is only one distance below the diagonal in our distance matrix. So, we can use that distance to draw the final branch in our tree, setting the total branch length to 4.8.\n",
      "\n",
      "<img src=\"files/images/upgma-tree-final.png\">"
     ]
    },
    {
     "cell_type": "markdown",
     "metadata": {},
     "source": [
      "**This is very rough - just some code that I pull from a previous year's class, but no annotation yet.**"
     ]
    },
    {
     "cell_type": "code",
     "collapsed": false,
     "input": [
      "# import some functions from python's random module - these will\n",
      "# be used in the modeling process\n",
      "from random import choice, randint\n",
      "# import some math functions from the numpy library (note that this\n",
      "# isn't part of the python standard library)\n",
      "from numpy import log10, average\n",
      "# import argv from the sys module to support basic command line\n",
      "# control of this script\n",
      "from sys import argv\n",
      "\n",
      "#####\n",
      "# Start of function definitions\n",
      "#####\n",
      "\n",
      "def count_differences(sequence1,sequence2):\n",
      "     \"\"\"Count the number of differences between two sequences of the same length\n",
      "     \"\"\"\n",
      "     # confirm that the two sequences are the same length and throw\n",
      "     # an error if they aren't\n",
      "     assert len(sequence1) == len(sequence2), \"Sequences differ in length\"\n",
      "     # initiate a counter for the number of differences\n",
      "     result = 0\n",
      "     # iterate over the two sequences and count the number of\n",
      "     # positions which are not identical\n",
      "     for base1,base2 in zip(sequence1,sequence2):\n",
      "         if base1 != base2:\n",
      "             # this is a commonly used shortcut for incrementing a count\n",
      "             # and is equivalent to the following statement\n",
      "             # result = result + 1\n",
      "             result += 1\n",
      "     return result\n",
      "\n",
      "def evolve_seq(sequence,\n",
      "               substitution_probability=0.01,\n",
      "               mutation_choices=['A','C','G','T']):\n",
      "    \"\"\"Return two child sequences simulating point mutations\n",
      "\n",
      "       An error occurs with probability substitution_probability\n",
      "        independently at each position of each child sequence.\n",
      "    \"\"\"\n",
      "    # Generate two lists for storing the resulting sequences\n",
      "    r1 = []\n",
      "    r2 = []\n",
      "\n",
      "    range_length = 10 ** (-1 * log10(substitution_probability))\n",
      "\n",
      "    for base in sequence:\n",
      "        if randint(0,range_length) == 0:\n",
      "            # a point mutation will occur at this position\n",
      "            # what's wrong with the following statement?\n",
      "            r1.append(choice(mutation_choices))\n",
      "        else:\n",
      "            # no point mutation at this position\n",
      "            r1.append(base)\n",
      "        if randint(0,range_length) == 0:\n",
      "            # a point mutation will occur at this position\n",
      "            # what's wrong with the following statement?\n",
      "            r2.append(choice(mutation_choices))\n",
      "        else:\n",
      "            # no point mutation at this position\n",
      "            r2.append(base)\n",
      "    # convert the lists to strings and return them\n",
      "    return ''.join(r1), ''.join(r2)\n",
      "\n",
      "def main(root_sequence,generations,verbose=False):\n",
      "    # initial some values and perform some basic error checking\n",
      "    assert generations > 0, \"Must simulate one or more generations.\"\n",
      "    # can you simplify the following test?\n",
      "    for base in root_sequence:\n",
      "        assert base != 'A' or base != 'C' or base != 'G' or base != 'T',\\\n",
      "         \"Invalid base identified: %s. Only A, C, G, or T are allowed.\" % base\n",
      "    # initialize a list of the previous generations sequences - this gets used\n",
      "    # in the for loop below. since we'll start with the first generation of\n",
      "    # children, root_sequence is the previous generation's sequence\n",
      "    previous_generation_sequences = [root_sequence]\n",
      "\n",
      "    # iterate over each generation (why do we add one to generations?)\n",
      "    for i in range(1,generations+1):\n",
      "        # print the generation number and the current number of sequences\n",
      "        print \"Generation: %d (Number of child sequences: %d)\" % (i,2**i)\n",
      "        # create a list to store the current generation of sequences\n",
      "        current_generation_sequences = []\n",
      "        # create a list to store the differences in each current generation\n",
      "        # sequence from the root sequence\n",
      "        difference_counts = []\n",
      "        # iterate over the sequences of the previous generation\n",
      "        for parent_sequence in previous_generation_sequences:\n",
      "            # evolve two child sequences\n",
      "            r1, r2 = evolve_seq(parent_sequence)\n",
      "            # count the differences in the first sequence (from root_sequence)\n",
      "            r1_diffs = count_differences(root_sequence,r1)\n",
      "            # append the count of differences to the list of difference counts\n",
      "            difference_counts.append(r1_diffs)\n",
      "            # add the new sequence to the list of this generation's sequences\n",
      "            current_generation_sequences.append(r1)\n",
      "            # count the differences in the second sequence (from root_sequence)\n",
      "            r2_diffs = count_differences(root_sequence,r2)\n",
      "            # append the count of differences to the list of difference counts\n",
      "            difference_counts.append(r2_diffs)\n",
      "            # add the new sequence to the list of this generation's sequences\n",
      "            current_generation_sequences.append(r2)\n",
      "            if verbose:\n",
      "                # if the caller specified verbose output, print the actual sequences\n",
      "                print \"  %s %d\" % (r1, r1_diffs)\n",
      "                print \"  %s %d\" % (r2, r2_diffs)\n",
      "        # print summary information: the average number of differences in the current\n",
      "        # generation from root_sequence\n",
      "        print \"Mean differences %1.3f\\n\" % average(difference_counts)\n",
      "        # current_generation_sequences becomes the next generation's\n",
      "        # previous_generation_sequences\n",
      "        previous_generation_sequences = current_generation_sequences\n",
      "\n",
      "    # upon completion of all generations, return the last generation's sequences\n",
      "    return previous_generation_sequences\n",
      "\n",
      "#####\n",
      "# End of function definitions\n",
      "#####"
     ],
     "language": "python",
     "metadata": {},
     "outputs": [],
     "prompt_number": 21
    },
    {
     "cell_type": "code",
     "collapsed": false,
     "input": [
      "sequence_length = 100\n",
      "num_generations = 5\n",
      "\n",
      "# generate a random sequence composed of ['A', 'C', 'G', 'T']\n",
      "# of length sequence_length\n",
      "root_sequence = []\n",
      "for i in range(int(sequence_length)):\n",
      "    root_sequence.append(choice(list('ACGT')))\n",
      "root_sequence = ''.join(root_sequence)\n",
      "\n",
      "# run the simulation and get the final generation of sequences\n",
      "sequences = main(root_sequence,int(num_generations))"
     ],
     "language": "python",
     "metadata": {},
     "outputs": [
      {
       "output_type": "stream",
       "stream": "stdout",
       "text": [
        "Generation: 1 (Number of child sequences: 2)\n",
        "Mean differences 0.000\n",
        "\n",
        "Generation: 2 (Number of child sequences: 4)\n",
        "Mean differences 0.500\n",
        "\n",
        "Generation: 3 (Number of child sequences: 8)\n",
        "Mean differences 0.750\n",
        "\n",
        "Generation: 4 (Number of child sequences: 16)\n",
        "Mean differences 1.250\n",
        "\n",
        "Generation: 5 (Number of child sequences: 32)\n",
        "Mean differences 1.938\n",
        "\n"
       ]
      }
     ],
     "prompt_number": 22
    },
    {
     "cell_type": "code",
     "collapsed": false,
     "input": [
      "# print the final generation of sequences in fasta format\n",
      "for i,s in enumerate(sequences):\n",
      "    print '>seq%d\\n%s' % (i,s)"
     ],
     "language": "python",
     "metadata": {},
     "outputs": [
      {
       "output_type": "stream",
       "stream": "stdout",
       "text": [
        ">seq0\n",
        "ACCCTTGCTTTTATCACATATGTGTGACCTCCCCGCGTTCTCGTCTAATCCGACCTTAAGACTCCTGAGCGCGTACTCACTTAATTCTTCACGCGTGTCG\n",
        ">seq1\n",
        "ACCCTTGCTTTTATCACATATGTGTGACCTCCCCGCGTTCTCGTCTAATCCGACCTTAAGACTCCTGAGCGCGTACTCACTTAATTCTGCACGCGTGTCG\n",
        ">seq2\n",
        "ACCCTTGCTTTTATCACATATGTGTGACCTCCCCGCGTTCTCATCTAATCCGACCTTAAGACTCCTGAGCGCGTACTCACTTAATTCTTCACGCGTGTCG\n",
        ">seq3\n",
        "ACCCTTGCTTTTATCACATATGTGTGACCTCCCCGCGTTCTCATCTAATCCGACCTTAAGACTCCTGAGCGCGTACTCACTTAATTCTTCACGCGTGACG\n",
        ">seq4\n",
        "ACCCTTGCTTTTATCACATATGTGTGACCTCCCCGCGTTCTCATCTAATCCGACCTTAAGACTCCTGAGCGCGTACTCACTTAATTCTTCACGCGTGTCG\n",
        ">seq5\n",
        "ACCCTTGCTTTTATCACATATGTGTGACCTCCCCGCGTTTTCATCTAATCCGACCTTAAGACTCCTGAGCGCGTACTCACTTAATTCTTCACGCGTGTCG\n",
        ">seq6\n",
        "ACCCTTGCTTTTATCACATATGTGTGACCTCCCCGCGTTCTCATCTAATCCGACCTTAAGACTCCTGAGCGCGTACTCAGTTAAATCTTCACGCGTGTCG\n",
        ">seq7\n",
        "ACCCTTGCTTTTATCACACATGTGTGACCTCCCCGCGTTCTCATCTAATCCGACGTTAAGACTCCTGAGCGCGTACTCAGTTAATTCTTCACGCGTGTCG\n",
        ">seq8\n",
        "ACCCTTGCTTTTATCACATATGTGTGACCTCCCCGCGTTCTCATCTAATCCGACCTTAAGACTCCTGTGCGCGTACTCACTTAATTCTTCACGCGTGTCG\n",
        ">seq9\n",
        "ACCCATGCTTTTATCACATATGTGTGACCTCCCCGCGTTCTCATCTAATCCGACCTTAAGACTCCTGAGCGCGTACTCACTTAATTCTTCACGCGTGTCG\n",
        ">seq10\n",
        "ACCCTTGCTTTTATCACATATGTGTGACCTCCCCGCGTTCTCATCTAATCCCACCTTAAGACTTCTGAGCGCGTACTCACTTAATTCTTCACGCGTGTCG\n",
        ">seq11\n",
        "GCCCTTGCTCTTATCACATATGTGTGACCTCCCCGCGTTCTCATCTAATCCGACCTTAAGACTCCTGAGCGCGTACTCACTTAATTCTTCACGCGTGTCG\n",
        ">seq12\n",
        "ACCCTTGCTTTTTTCACATATGTGTGACCTCCCCGCGTTCTCATCTAATCCGACCTTAAGACTCCTGAGCGCGTACTCACTTAATTCTTCACGCGTGTCG\n",
        ">seq13\n",
        "ACCCTTGCTTTTATCACATATGTGTGACCTCCCCGCGTTCTCATCTAATCCGACCTTAAGACTCCTGAGCGCGTACTCACTTAATTCTTCACGCGTGTCG\n",
        ">seq14\n",
        "ACCCTTGCTTTTATCAGATATGTGTGACCTCCCCGCGTTCTCATCTAATCCGACCTTAAGACTCCTGAGCGCGTACTCACTTAATTCTTCACGCGTGTCG\n",
        ">seq15\n",
        "ACCCTTGCTTTTATCACATATGTGTGACCTCCCCGCGTTCTCATCTAATCCGACCTTAAGACTCCTGAGCGCGTACTCACTTAATTCTTCACGCGTGTCG\n",
        ">seq16\n",
        "ACCCTTGCTTTTATCACATATGTGTACCCTCCCCGCGTTCTCATCTAATCCGACCTTAAGACTCCTGAGCGCGTACTCACTTAATTCTGCACGCGTGTCG\n",
        ">seq17\n",
        "ACCCTTGCTTTTATCACATATGTGTACCCTCCCCGCGTTCTCATCTAATCCGACCTTAAGACTCCTGAGCGCTTACTCACTTAATTCTGCACGCGTGTCG\n",
        ">seq18\n",
        "ACCCTTGCTTTTATCACATATGTGTGCCCTCCCCGCGTTCTCATCTAATCCGACCTTAAGACTCCTGAGCGCGTACTCACTTAATTCTGCACGCGTGTCG\n",
        ">seq19\n",
        "ACCCTTGCTTTTATCACATATGTGTGCCCTCCCCGCGTTCTCATCTAATCCGACCTTAAGACTCCTGAGCGCGTACTCACTTAATTCTGCACGCGTGTCG\n",
        ">seq20\n",
        "ACCCTTGCTTTTATCACATGTGTGTGACCTCCCCGCGTTCTCATGTAATCCGACCTTAAGTTTCCTGAGCGCGTACTCACTTAATTCTTCACGCGTGTCG\n",
        ">seq21\n",
        "ACCCTTGCTTTTATCACATATGTGTGACCTCCCCGCGTTCTCATCTAATCCGACCTTAAGATTCCTGAGCGCGTACTCACTTAATTCTTCACGCGTGTCG\n",
        ">seq22\n",
        "ACCCTTGCTTTTATCACATATGTGTGACCTCCCCGCGTTCTCATCTAATCCGACCTTAGGACTCCTGAGCGCGTACTCACTTAATTCTTCACGCGTGTCG\n",
        ">seq23\n",
        "ACCCTTGCTTTTATCACATATGTGTGACCTCCCCGCGTTCTCATCTAATCCGACCTTAGGACTCCTGAGCGCGTACTCACTTAATTCTTTACACGTGTCG\n",
        ">seq24\n",
        "ACCCTTGCTTTTACCACATATGTGTGACCTCCCCGCGTTCTCATCTAATCCGTCCTTAAGACTCCTGACCGCGTACTCACTTAATTCTTCACGCGTGTCG\n",
        ">seq25\n",
        "ACCCTTGCTTTTACCACATATGTGTGACCTCCCCGCGTTCTAATCTAATCCGTCCTTAAGACTCCTGACCGCGTACTCACTTAATTCTTCACGCGTGTCG\n",
        ">seq26\n",
        "ACCCTTGCTTTTATCACATATGTGTGACCTCCCCGCGTTCTCATCTAATCCGTCCTTAAGACTCCTGACCGCGTACTCACTTAATTCTTCACGCGTGTCG\n",
        ">seq27\n",
        "ACCCTTGCTTTTATCACATATGTGTGACCTCCCCGCGTTCTCATCTAATCCGTCCTTAAGACTCCTGACCGCGTACTCACTTAATTCTTCACGCGTGTCG\n",
        ">seq28\n",
        "ACCCTTGCTTTTATCACATATGTGTGACCTCCCCGCGTTCTTATCTAATCCGTCCTTAAGACTCCTGACCGCGTACTCACTTAATTCTTCACGCGTGTCG\n",
        ">seq29\n",
        "ACCCTTGCTTTTATCACATATGTGTGACCTCCCCGCGTTCTTATCTAATCCGTCCTTAAGACTCCTGACCGCGTACTCACTTAATTCTTCACGCGTGTCG\n",
        ">seq30\n",
        "ACCCTTGCTTTTATCACATATGTGTGACCTCCCCGCGTTCTCATCTAATCCATCCTTAAGACTCCTGACCGCGTACTCACTTAATTCTTCACGCGTGTCG\n",
        ">seq31\n",
        "ACCCTTGCTTTTATCACATATGTGTGACCTCCCCGCGTTCTCATCTAATCCATCCTTAAGACTCCTGACCGCGTACTCACTTAATTCTTCACGCTTGTCG\n"
       ]
      }
     ],
     "prompt_number": 23
    },
    {
     "cell_type": "markdown",
     "metadata": {},
     "source": [
      "**TODO: Implement UPGMA, build tree from these sequences, visualize tree**"
     ]
    },
    {
     "cell_type": "heading",
     "level": 2,
     "metadata": {},
     "source": [
      "Acknowledgements"
     ]
    },
    {
     "cell_type": "markdown",
     "metadata": {},
     "source": [
      "The material in this lecture was compiled while consulting the following sources:\n",
      "\n",
      "1. The Phylogenetic Handbook (Lemey, Salemi, Vandamme)\n",
      "2. Inferring Phylogeny (Felsenstein)\n",
      "3. [Richard Edwards\u2019s teaching website](http://www.southampton.ac.uk/~re1u06/teaching/upgma/)\n"
     ]
    }
   ],
   "metadata": {}
  }
 ]
}